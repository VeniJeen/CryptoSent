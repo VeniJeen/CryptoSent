{
 "cells": [
  {
   "cell_type": "code",
   "execution_count": 1,
   "id": "abf4348d",
   "metadata": {},
   "outputs": [
    {
     "data": {
      "text/html": [
       "<style>.container { width:95% !important; }</style>"
      ],
      "text/plain": [
       "<IPython.core.display.HTML object>"
      ]
     },
     "metadata": {},
     "output_type": "display_data"
    }
   ],
   "source": [
    "from transformers import BertForSequenceClassification, BertTokenizer\n",
    "import torch\n",
    "\n",
    "import pandas as pd\n",
    "import os\n",
    "import sys\n",
    "#connect local PATH\n",
    "p = os.path.abspath(r'C:\\Users\\Ben\\Desktop\\Diplomatiki\\CryptoSent\\utils')\n",
    "sys.path.insert(1, p)\n",
    "\n",
    "import warnings\n",
    "from pandas.core.common import SettingWithCopyWarning\n",
    "\n",
    "warnings.simplefilter(action=\"ignore\", category=SettingWithCopyWarning)\n",
    "\n",
    "from IPython.core.display import display, HTML\n",
    "display(HTML(\"<style>.container { width:95% !important; }</style>\"))\n",
    "\n",
    "from cryptosent_utils import get_submissions_raw,date_parser_utc"
   ]
  },
  {
   "cell_type": "code",
   "execution_count": 2,
   "id": "d0f4af5a",
   "metadata": {},
   "outputs": [],
   "source": [
    "from transformers import AutoTokenizer, AutoModelForSequenceClassification\n",
    "  \n",
    "tokenizer = AutoTokenizer.from_pretrained(\"distilbert-base-uncased-finetuned-sst-2-english\")\n",
    "\n",
    "model = AutoModelForSequenceClassification.from_pretrained(\"distilbert-base-uncased-finetuned-sst-2-english\")"
   ]
  },
  {
   "cell_type": "code",
   "execution_count": 3,
   "id": "bf2e1440",
   "metadata": {},
   "outputs": [],
   "source": [
    "s=get_submissions_raw()"
   ]
  },
  {
   "cell_type": "code",
   "execution_count": 4,
   "id": "83c3cbfc",
   "metadata": {},
   "outputs": [],
   "source": [
    "df=s[(~s.selftext.isna())\n",
    "  &(s.selftext!='[removed]')\n",
    "  &(s.selftext!='[deleted]')]"
   ]
  },
  {
   "cell_type": "code",
   "execution_count": 5,
   "id": "3c549d9c",
   "metadata": {},
   "outputs": [],
   "source": [
    "text=df.selftext.sample()"
   ]
  },
  {
   "cell_type": "code",
   "execution_count": 6,
   "id": "98003f54",
   "metadata": {},
   "outputs": [
    {
     "name": "stdout",
     "output_type": "stream",
     "text": [
      "Here is the problem with crypto and blockchain. It's not possible for a small business, like mine with a dozen of employees to implement a token.\n",
      "\n",
      "For example, if I wanted to create my own rewards token for staff, I can't do it. I either have to have advanced programming background or hire a programmer.  Sure, I understand that Programmers are important and I would likely save money from the efficiencies a Programmer would give me, but I can't dedicate 10% of my salary budget to a new position. I just don't have the money.\n",
      "\n",
      "So that is the problem. There is nothing out there for someone like me, who has a minimum amount of programming experince, to implement blockchain project, like create a reward token for staff, in my business.\n"
     ]
    }
   ],
   "source": [
    "print(text.values[0])"
   ]
  },
  {
   "cell_type": "code",
   "execution_count": 32,
   "id": "95842da4",
   "metadata": {},
   "outputs": [],
   "source": [
    "text=\"Stocks rallied and the British pound gained.\"\n"
   ]
  },
  {
   "cell_type": "code",
   "execution_count": 33,
   "id": "4940ff2d",
   "metadata": {},
   "outputs": [
    {
     "data": {
      "text/plain": [
       "tensor([[0.0046, 0.9954]], grad_fn=<SoftmaxBackward>)"
      ]
     },
     "execution_count": 33,
     "metadata": {},
     "output_type": "execute_result"
    }
   ],
   "source": [
    "tokens = tokenizer.encode_plus(text, add_special_tokens=True,return_tensors='pt')\n",
    "outputs = model(**tokens)\n",
    "probs = torch.nn.functional.softmax(outputs.logits, dim=-1)\n",
    "probs"
   ]
  },
  {
   "cell_type": "code",
   "execution_count": 34,
   "id": "3a157c17",
   "metadata": {},
   "outputs": [
    {
     "data": {
      "text/plain": [
       "1"
      ]
     },
     "execution_count": 34,
     "metadata": {},
     "output_type": "execute_result"
    }
   ],
   "source": [
    "torch.argmax(probs.mean(dim=0)).item()"
   ]
  },
  {
   "cell_type": "code",
   "execution_count": 35,
   "id": "da1ff489",
   "metadata": {},
   "outputs": [
    {
     "data": {
      "text/plain": [
       "tensor([[9.9967e-01, 3.2693e-04]], grad_fn=<SoftmaxBackward>)"
      ]
     },
     "execution_count": 35,
     "metadata": {},
     "output_type": "execute_result"
    }
   ],
   "source": [
    "text='Stocks are plumating'\n",
    "tokens = tokenizer.encode_plus(text, add_special_tokens=True,return_tensors='pt')\n",
    "outputs = model(**tokens)\n",
    "probs = torch.nn.functional.softmax(outputs.logits, dim=-1)\n",
    "probs"
   ]
  },
  {
   "cell_type": "code",
   "execution_count": null,
   "id": "c65815bd",
   "metadata": {},
   "outputs": [],
   "source": []
  },
  {
   "cell_type": "code",
   "execution_count": null,
   "id": "15e59abe",
   "metadata": {},
   "outputs": [],
   "source": []
  },
  {
   "cell_type": "code",
   "execution_count": null,
   "id": "402ae2a1",
   "metadata": {},
   "outputs": [],
   "source": []
  },
  {
   "cell_type": "code",
   "execution_count": null,
   "id": "b47911b3",
   "metadata": {},
   "outputs": [],
   "source": []
  },
  {
   "cell_type": "code",
   "execution_count": null,
   "id": "65eb0599",
   "metadata": {},
   "outputs": [],
   "source": []
  }
 ],
 "metadata": {
  "kernelspec": {
   "display_name": "Python 3",
   "language": "python",
   "name": "python3"
  },
  "language_info": {
   "codemirror_mode": {
    "name": "ipython",
    "version": 3
   },
   "file_extension": ".py",
   "mimetype": "text/x-python",
   "name": "python",
   "nbconvert_exporter": "python",
   "pygments_lexer": "ipython3",
   "version": "3.7.9"
  }
 },
 "nbformat": 4,
 "nbformat_minor": 5
}
