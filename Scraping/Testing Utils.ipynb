{
 "cells": [
  {
   "cell_type": "code",
   "execution_count": 3,
   "id": "3dc5fe2f",
   "metadata": {},
   "outputs": [],
   "source": [
    "import os, sys\n",
    "\n",
    "#connect local PATH\n",
    "p = os.path.abspath(r'C:\\Users\\Ben\\Desktop\\Diplomatiki\\CryptoSent\\utils')\n",
    "sys.path.insert(1, p)\n"
   ]
  },
  {
   "cell_type": "code",
   "execution_count": 4,
   "id": "f0809656",
   "metadata": {},
   "outputs": [],
   "source": [
    "from cryptosent_utils import get_subreddit"
   ]
  },
  {
   "cell_type": "code",
   "execution_count": 6,
   "id": "33522226",
   "metadata": {},
   "outputs": [],
   "source": [
    "df = get_subreddit(start='2021-10-01',end='2021-10-05',subreddit='CryptoCurrency')"
   ]
  },
  {
   "cell_type": "code",
   "execution_count": null,
   "id": "cc178532",
   "metadata": {},
   "outputs": [],
   "source": []
  },
  {
   "cell_type": "code",
   "execution_count": null,
   "id": "5b7a24ad",
   "metadata": {},
   "outputs": [],
   "source": []
  },
  {
   "cell_type": "code",
   "execution_count": null,
   "id": "a3169562",
   "metadata": {},
   "outputs": [],
   "source": []
  },
  {
   "cell_type": "code",
   "execution_count": null,
   "id": "5c726703",
   "metadata": {},
   "outputs": [],
   "source": []
  },
  {
   "cell_type": "code",
   "execution_count": null,
   "id": "bec42f95",
   "metadata": {},
   "outputs": [],
   "source": []
  },
  {
   "cell_type": "code",
   "execution_count": null,
   "id": "a78fb535",
   "metadata": {},
   "outputs": [],
   "source": []
  },
  {
   "cell_type": "code",
   "execution_count": null,
   "id": "2610079a",
   "metadata": {},
   "outputs": [],
   "source": []
  },
  {
   "cell_type": "code",
   "execution_count": null,
   "id": "bae651fa",
   "metadata": {},
   "outputs": [],
   "source": []
  }
 ],
 "metadata": {
  "kernelspec": {
   "display_name": "Python 3",
   "language": "python",
   "name": "python3"
  },
  "language_info": {
   "codemirror_mode": {
    "name": "ipython",
    "version": 3
   },
   "file_extension": ".py",
   "mimetype": "text/x-python",
   "name": "python",
   "nbconvert_exporter": "python",
   "pygments_lexer": "ipython3",
   "version": "3.7.9"
  }
 },
 "nbformat": 4,
 "nbformat_minor": 5
}
