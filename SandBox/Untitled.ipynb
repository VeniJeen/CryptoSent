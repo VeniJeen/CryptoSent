{
 "cells": [
  {
   "cell_type": "code",
   "execution_count": 1,
   "id": "764a66f1",
   "metadata": {},
   "outputs": [],
   "source": [
    "import pandas as pd"
   ]
  },
  {
   "cell_type": "code",
   "execution_count": 3,
   "id": "8f8a9ca4",
   "metadata": {},
   "outputs": [],
   "source": [
    "df=pd.read_csv('resultsv1.csv')"
   ]
  },
  {
   "cell_type": "code",
   "execution_count": 4,
   "id": "4206ba41",
   "metadata": {},
   "outputs": [],
   "source": [
    "from statsmodels.tsa.stattools import grangercausalitytests\n",
    "import numpy as np"
   ]
  },
  {
   "cell_type": "code",
   "execution_count": 9,
   "id": "bb88e49b",
   "metadata": {},
   "outputs": [
    {
     "name": "stdout",
     "output_type": "stream",
     "text": [
      "\n",
      "Granger Causality\n",
      "number of lags (no zero) 1\n",
      "ssr based F test:         F=0.2423  , p=0.6234  , df_denom=125, df_num=1\n",
      "ssr based chi2 test:   chi2=0.2481  , p=0.6184  , df=1\n",
      "likelihood ratio test: chi2=0.2479  , p=0.6186  , df=1\n",
      "parameter F test:         F=0.2423  , p=0.6234  , df_denom=125, df_num=1\n",
      "\n",
      "Granger Causality\n",
      "number of lags (no zero) 2\n",
      "ssr based F test:         F=1.1657  , p=0.3152  , df_denom=122, df_num=2\n",
      "ssr based chi2 test:   chi2=2.4270  , p=0.2972  , df=2\n",
      "likelihood ratio test: chi2=2.4041  , p=0.3006  , df=2\n",
      "parameter F test:         F=1.1657  , p=0.3152  , df_denom=122, df_num=2\n",
      "\n",
      "Granger Causality\n",
      "number of lags (no zero) 3\n",
      "ssr based F test:         F=1.8799  , p=0.1367  , df_denom=119, df_num=3\n",
      "ssr based chi2 test:   chi2=5.9714  , p=0.1130  , df=3\n",
      "likelihood ratio test: chi2=5.8342  , p=0.1200  , df=3\n",
      "parameter F test:         F=1.8799  , p=0.1367  , df_denom=119, df_num=3\n",
      "\n",
      "Granger Causality\n",
      "number of lags (no zero) 4\n",
      "ssr based F test:         F=2.0159  , p=0.0968  , df_denom=116, df_num=4\n",
      "ssr based chi2 test:   chi2=8.6894  , p=0.0693  , df=4\n",
      "likelihood ratio test: chi2=8.4007  , p=0.0780  , df=4\n",
      "parameter F test:         F=2.0159  , p=0.0968  , df_denom=116, df_num=4\n",
      "\n",
      "Granger Causality\n",
      "number of lags (no zero) 5\n",
      "ssr based F test:         F=3.7585  , p=0.0035  , df_denom=113, df_num=5\n",
      "ssr based chi2 test:   chi2=20.6216 , p=0.0010  , df=5\n",
      "likelihood ratio test: chi2=19.0761 , p=0.0019  , df=5\n",
      "parameter F test:         F=3.7585  , p=0.0035  , df_denom=113, df_num=5\n",
      "\n",
      "Granger Causality\n",
      "number of lags (no zero) 6\n",
      "ssr based F test:         F=3.1577  , p=0.0068  , df_denom=110, df_num=6\n",
      "ssr based chi2 test:   chi2=21.1851 , p=0.0017  , df=6\n",
      "likelihood ratio test: chi2=19.5464 , p=0.0033  , df=6\n",
      "parameter F test:         F=3.1577  , p=0.0068  , df_denom=110, df_num=6\n",
      "\n",
      "Granger Causality\n",
      "number of lags (no zero) 7\n",
      "ssr based F test:         F=2.9112  , p=0.0079  , df_denom=107, df_num=7\n",
      "ssr based chi2 test:   chi2=23.2350 , p=0.0016  , df=7\n",
      "likelihood ratio test: chi2=21.2685 , p=0.0034  , df=7\n",
      "parameter F test:         F=2.9112  , p=0.0079  , df_denom=107, df_num=7\n",
      "\n",
      "Granger Causality\n",
      "number of lags (no zero) 8\n",
      "ssr based F test:         F=2.2398  , p=0.0301  , df_denom=104, df_num=8\n",
      "ssr based chi2 test:   chi2=20.8470 , p=0.0076  , df=8\n",
      "likelihood ratio test: chi2=19.2340 , p=0.0137  , df=8\n",
      "parameter F test:         F=2.2398  , p=0.0301  , df_denom=104, df_num=8\n"
     ]
    }
   ],
   "source": [
    "grangercausalitytests(df[['fin_bert','avg_price']],maxlag=8);"
   ]
  },
  {
   "cell_type": "code",
   "execution_count": 10,
   "id": "ad828d79",
   "metadata": {},
   "outputs": [
    {
     "name": "stdout",
     "output_type": "stream",
     "text": [
      "\n",
      "Granger Causality\n",
      "number of lags (no zero) 1\n",
      "ssr based F test:         F=7.1079  , p=0.0087  , df_denom=125, df_num=1\n",
      "ssr based chi2 test:   chi2=7.2785  , p=0.0070  , df=1\n",
      "likelihood ratio test: chi2=7.0791  , p=0.0078  , df=1\n",
      "parameter F test:         F=7.1079  , p=0.0087  , df_denom=125, df_num=1\n",
      "\n",
      "Granger Causality\n",
      "number of lags (no zero) 2\n",
      "ssr based F test:         F=4.3241  , p=0.0153  , df_denom=122, df_num=2\n",
      "ssr based chi2 test:   chi2=9.0026  , p=0.0111  , df=2\n",
      "likelihood ratio test: chi2=8.6978  , p=0.0129  , df=2\n",
      "parameter F test:         F=4.3241  , p=0.0153  , df_denom=122, df_num=2\n",
      "\n",
      "Granger Causality\n",
      "number of lags (no zero) 3\n",
      "ssr based F test:         F=5.5890  , p=0.0013  , df_denom=119, df_num=3\n",
      "ssr based chi2 test:   chi2=17.7532 , p=0.0005  , df=3\n",
      "likelihood ratio test: chi2=16.6088 , p=0.0009  , df=3\n",
      "parameter F test:         F=5.5890  , p=0.0013  , df_denom=119, df_num=3\n",
      "\n",
      "Granger Causality\n",
      "number of lags (no zero) 4\n",
      "ssr based F test:         F=4.4691  , p=0.0021  , df_denom=116, df_num=4\n",
      "ssr based chi2 test:   chi2=19.2635 , p=0.0007  , df=4\n",
      "likelihood ratio test: chi2=17.9160 , p=0.0013  , df=4\n",
      "parameter F test:         F=4.4691  , p=0.0021  , df_denom=116, df_num=4\n",
      "\n",
      "Granger Causality\n",
      "number of lags (no zero) 5\n",
      "ssr based F test:         F=7.3436  , p=0.0000  , df_denom=113, df_num=5\n",
      "ssr based chi2 test:   chi2=40.2921 , p=0.0000  , df=5\n",
      "likelihood ratio test: chi2=34.8892 , p=0.0000  , df=5\n",
      "parameter F test:         F=7.3436  , p=0.0000  , df_denom=113, df_num=5\n",
      "\n",
      "Granger Causality\n",
      "number of lags (no zero) 6\n",
      "ssr based F test:         F=8.6871  , p=0.0000  , df_denom=110, df_num=6\n",
      "ssr based chi2 test:   chi2=58.2824 , p=0.0000  , df=6\n",
      "likelihood ratio test: chi2=47.7082 , p=0.0000  , df=6\n",
      "parameter F test:         F=8.6871  , p=0.0000  , df_denom=110, df_num=6\n",
      "\n",
      "Granger Causality\n",
      "number of lags (no zero) 7\n",
      "ssr based F test:         F=7.2489  , p=0.0000  , df_denom=107, df_num=7\n",
      "ssr based chi2 test:   chi2=57.8559 , p=0.0000  , df=7\n",
      "likelihood ratio test: chi2=47.3525 , p=0.0000  , df=7\n",
      "parameter F test:         F=7.2489  , p=0.0000  , df_denom=107, df_num=7\n",
      "\n",
      "Granger Causality\n",
      "number of lags (no zero) 8\n",
      "ssr based F test:         F=6.3591  , p=0.0000  , df_denom=104, df_num=8\n",
      "ssr based chi2 test:   chi2=59.1881 , p=0.0000  , df=8\n",
      "likelihood ratio test: chi2=48.1835 , p=0.0000  , df=8\n",
      "parameter F test:         F=6.3591  , p=0.0000  , df_denom=104, df_num=8\n"
     ]
    }
   ],
   "source": [
    "grangercausalitytests(df[['avg_price','fin_bert']],maxlag=8);"
   ]
  }
 ],
 "metadata": {
  "kernelspec": {
   "display_name": "Python 3 (ipykernel)",
   "language": "python",
   "name": "python3"
  },
  "language_info": {
   "codemirror_mode": {
    "name": "ipython",
    "version": 3
   },
   "file_extension": ".py",
   "mimetype": "text/x-python",
   "name": "python",
   "nbconvert_exporter": "python",
   "pygments_lexer": "ipython3",
   "version": "3.7.11"
  }
 },
 "nbformat": 4,
 "nbformat_minor": 5
}
