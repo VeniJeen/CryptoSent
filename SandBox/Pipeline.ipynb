{
 "cells": [
  {
   "cell_type": "code",
   "execution_count": 1,
   "metadata": {},
   "outputs": [],
   "source": [
    "import sys\n",
    "import os\n",
    "import pandas as pd\n",
    "\n",
    "#connect local PATH\n",
    "p = os.path.abspath(r'C:\\Users\\Ben\\Desktop\\Diplomatiki')\n",
    "sys.path.append(str(p))\n",
    "\n",
    "from CryptoSent.tools import utils as cs"
   ]
  },
  {
   "cell_type": "code",
   "execution_count": null,
   "metadata": {},
   "outputs": [],
   "source": [
    "# Merging Monthly Files\n",
    "\n",
    "# Submissions\n",
    "subs_databank_path=r'D:\\DTU\\Thesis\\Dataset Bank\\Submissions'\n",
    "subs=cs.merge_submissions(subs_databank_path)\n",
    "\n",
    "# Comments\n",
    "comms_databank_path=r'D:\\DTU\\Thesis\\Dataset Bank\\Comments'\n",
    "comms=cs.merge_submissions(comms_databank_path)"
   ]
  },
  {
   "cell_type": "code",
   "execution_count": null,
   "metadata": {},
   "outputs": [],
   "source": [
    "# Data Cleaning\n",
    "\n",
    "# Submissions\n",
    "subs = cs.submission_raw_processing(subs)\n",
    "\n",
    "#Comments\n"
   ]
  }
 ],
 "metadata": {
  "interpreter": {
   "hash": "a6a48a25ace32036d94e833d4fc37126f6b59c1fba1eead68c54149d06650627"
  },
  "kernelspec": {
   "display_name": "Python 3.7.11 64-bit ('CryptoSent': conda)",
   "language": "python",
   "name": "python3"
  },
  "language_info": {
   "codemirror_mode": {
    "name": "ipython",
    "version": 3
   },
   "file_extension": ".py",
   "mimetype": "text/x-python",
   "name": "python",
   "nbconvert_exporter": "python",
   "pygments_lexer": "ipython3",
   "version": "3.7.11"
  },
  "orig_nbformat": 4
 },
 "nbformat": 4,
 "nbformat_minor": 2
}
