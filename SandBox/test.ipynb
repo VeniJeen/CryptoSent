{
 "cells": [
  {
   "cell_type": "code",
   "execution_count": 1,
   "id": "638384eb",
   "metadata": {},
   "outputs": [],
   "source": [
    "import sys\n",
    "import os\n",
    "#connect local PATH\n"
   ]
  },
  {
   "cell_type": "code",
   "execution_count": 2,
   "id": "4fb2560b",
   "metadata": {},
   "outputs": [],
   "source": [
    "p = os.path.abspath(r'C:\\Users\\Ben\\Desktop\\Diplomatiki')\n",
    "sys.path.append(str(p))"
   ]
  },
  {
   "cell_type": "code",
   "execution_count": 3,
   "id": "f3de3311",
   "metadata": {},
   "outputs": [],
   "source": [
    "from CryptoSent.tools import utils as cs"
   ]
  },
  {
   "cell_type": "code",
   "execution_count": 4,
   "id": "b15096f1",
   "metadata": {},
   "outputs": [],
   "source": [
    "import pandas as pd"
   ]
  },
  {
   "cell_type": "code",
   "execution_count": 5,
   "id": "a23f85fa",
   "metadata": {},
   "outputs": [],
   "source": [
    "s=pd.read_pickle(r'C:\\Users\\Ben\\Desktop\\Diplomatiki\\CryptoSent\\Data Preparation\\2_Data_Merging\\submissions_2019__2021_06.pickle')"
   ]
  },
  {
   "cell_type": "code",
   "execution_count": 7,
   "id": "697eaba4",
   "metadata": {},
   "outputs": [],
   "source": [
    "df=cs.submission_raw_processing(s)"
   ]
  },
  {
   "cell_type": "code",
   "execution_count": 45,
   "metadata": {},
   "outputs": [],
   "source": [
    "# taking only crypto Subreddits\n",
    "crypto_subreddits=['Bitcoin','CryptoCurrency','btc','CryptoMarkets','bitcoinbeginners',\n",
    "                   'CryptoCurrencies','altcoin','icocrypto','CryptoCurrencyTrading','Crypto_General',\n",
    "                   'ico','blockchain','ethereum','Ripple','litecoin','Monero','Stellar','CryptoCurrencyClassic']\n",
    "df=df[df.subreddit.isin(crypto_subreddits)]"
   ]
  },
  {
   "cell_type": "code",
   "execution_count": 125,
   "id": "d857e1be",
   "metadata": {},
   "outputs": [],
   "source": [
    "#extracting awards\n",
    "ts=pd.concat([(df[df.all_awardings=='Empty'].iloc[0]),\n",
    "           (df[(df.all_awardings.apply(lambda x: len(x))==1)&(df.all_awardings!='Empty')].iloc[1]),\n",
    "           (df[(df.all_awardings.apply(lambda x: len(x))>2)&(df.all_awardings!='Empty')].iloc[1])]\n",
    "           ,axis=1).T"
   ]
  },
  {
   "cell_type": "code",
   "execution_count": 126,
   "id": "39eea56b",
   "metadata": {},
   "outputs": [
    {
     "data": {
      "text/html": [
       "<div>\n",
       "<style scoped>\n",
       "    .dataframe tbody tr th:only-of-type {\n",
       "        vertical-align: middle;\n",
       "    }\n",
       "\n",
       "    .dataframe tbody tr th {\n",
       "        vertical-align: top;\n",
       "    }\n",
       "\n",
       "    .dataframe thead th {\n",
       "        text-align: right;\n",
       "    }\n",
       "</style>\n",
       "<table border=\"1\" class=\"dataframe\">\n",
       "  <thead>\n",
       "    <tr style=\"text-align: right;\">\n",
       "      <th></th>\n",
       "      <th>author</th>\n",
       "      <th>all_awardings</th>\n",
       "      <th>num_comments</th>\n",
       "      <th>score</th>\n",
       "      <th>title</th>\n",
       "      <th>selftext</th>\n",
       "      <th>subreddit</th>\n",
       "      <th>subreddit_subscribers</th>\n",
       "      <th>id</th>\n",
       "      <th>domain</th>\n",
       "      <th>no_follow</th>\n",
       "      <th>send_replies</th>\n",
       "      <th>author_fullname</th>\n",
       "      <th>subreddit_id</th>\n",
       "      <th>permalink</th>\n",
       "      <th>url</th>\n",
       "      <th>created</th>\n",
       "      <th>author_created</th>\n",
       "    </tr>\n",
       "  </thead>\n",
       "  <tbody>\n",
       "    <tr>\n",
       "      <th>2019-01-01 01:00:29</th>\n",
       "      <td>[deleted]</td>\n",
       "      <td>Empty</td>\n",
       "      <td>0</td>\n",
       "      <td>1</td>\n",
       "      <td>DENT Exchange live. Time to recognize DENT!</td>\n",
       "      <td>[removed]</td>\n",
       "      <td>CryptoCurrency</td>\n",
       "      <td>854254</td>\n",
       "      <td>abcuni</td>\n",
       "      <td>self.CryptoCurrency</td>\n",
       "      <td>True</td>\n",
       "      <td>True</td>\n",
       "      <td>NaN</td>\n",
       "      <td>t5_2wlj3</td>\n",
       "      <td>/r/CryptoCurrency/comments/abcuni/dent_exchang...</td>\n",
       "      <td>https://www.reddit.com/r/CryptoCurrency/commen...</td>\n",
       "      <td>2019-01-01 01:00:29</td>\n",
       "      <td>NaT</td>\n",
       "    </tr>\n",
       "    <tr>\n",
       "      <th>2019-03-01 11:59:37</th>\n",
       "      <td>Block_Venture</td>\n",
       "      <td>[[Gold, Gold Award, 1, 500, 100]]</td>\n",
       "      <td>5</td>\n",
       "      <td>5</td>\n",
       "      <td>Chainstarter - Nick and Obadiah Ayton, the pen...</td>\n",
       "      <td>NaN</td>\n",
       "      <td>CryptoCurrency</td>\n",
       "      <td>885702</td>\n",
       "      <td>aw3l6f</td>\n",
       "      <td>linkedin.com</td>\n",
       "      <td>False</td>\n",
       "      <td>True</td>\n",
       "      <td>t2_9tb0ktv</td>\n",
       "      <td>t5_2wlj3</td>\n",
       "      <td>/r/CryptoCurrency/comments/aw3l6f/chainstarter...</td>\n",
       "      <td>https://www.linkedin.com/pulse/chainstarter-fa...</td>\n",
       "      <td>2019-03-01 11:59:37</td>\n",
       "      <td>2017-08-08 17:59:51</td>\n",
       "    </tr>\n",
       "    <tr>\n",
       "      <th>2019-03-10 17:59:47</th>\n",
       "      <td>nullc</td>\n",
       "      <td>[[Platinum, Platinum Award, 1, 1800, 0], [Gold...</td>\n",
       "      <td>154</td>\n",
       "      <td>41</td>\n",
       "      <td>Don't just blame the monster, blame his makers</td>\n",
       "      <td>NaN</td>\n",
       "      <td>btc</td>\n",
       "      <td>254418</td>\n",
       "      <td>azhnuo</td>\n",
       "      <td>0bin.net</td>\n",
       "      <td>False</td>\n",
       "      <td>False</td>\n",
       "      <td>t2_1y2aw</td>\n",
       "      <td>t5_2si5v</td>\n",
       "      <td>/r/btc/comments/azhnuo/dont_just_blame_the_mon...</td>\n",
       "      <td>https://0bin.net/paste/0Hqu2j9q+CyawdOx#ONzZK8...</td>\n",
       "      <td>2019-03-10 17:59:47</td>\n",
       "      <td>2007-06-13 13:52:20</td>\n",
       "    </tr>\n",
       "  </tbody>\n",
       "</table>\n",
       "</div>"
      ],
      "text/plain": [
       "                            author  \\\n",
       "2019-01-01 01:00:29      [deleted]   \n",
       "2019-03-01 11:59:37  Block_Venture   \n",
       "2019-03-10 17:59:47          nullc   \n",
       "\n",
       "                                                         all_awardings  \\\n",
       "2019-01-01 01:00:29                                              Empty   \n",
       "2019-03-01 11:59:37                  [[Gold, Gold Award, 1, 500, 100]]   \n",
       "2019-03-10 17:59:47  [[Platinum, Platinum Award, 1, 1800, 0], [Gold...   \n",
       "\n",
       "                    num_comments score  \\\n",
       "2019-01-01 01:00:29            0     1   \n",
       "2019-03-01 11:59:37            5     5   \n",
       "2019-03-10 17:59:47          154    41   \n",
       "\n",
       "                                                                 title  \\\n",
       "2019-01-01 01:00:29        DENT Exchange live. Time to recognize DENT!   \n",
       "2019-03-01 11:59:37  Chainstarter - Nick and Obadiah Ayton, the pen...   \n",
       "2019-03-10 17:59:47     Don't just blame the monster, blame his makers   \n",
       "\n",
       "                      selftext       subreddit subreddit_subscribers      id  \\\n",
       "2019-01-01 01:00:29  [removed]  CryptoCurrency                854254  abcuni   \n",
       "2019-03-01 11:59:37        NaN  CryptoCurrency                885702  aw3l6f   \n",
       "2019-03-10 17:59:47        NaN             btc                254418  azhnuo   \n",
       "\n",
       "                                  domain no_follow send_replies  \\\n",
       "2019-01-01 01:00:29  self.CryptoCurrency      True         True   \n",
       "2019-03-01 11:59:37         linkedin.com     False         True   \n",
       "2019-03-10 17:59:47             0bin.net     False        False   \n",
       "\n",
       "                    author_fullname subreddit_id  \\\n",
       "2019-01-01 01:00:29             NaN     t5_2wlj3   \n",
       "2019-03-01 11:59:37      t2_9tb0ktv     t5_2wlj3   \n",
       "2019-03-10 17:59:47        t2_1y2aw     t5_2si5v   \n",
       "\n",
       "                                                             permalink  \\\n",
       "2019-01-01 01:00:29  /r/CryptoCurrency/comments/abcuni/dent_exchang...   \n",
       "2019-03-01 11:59:37  /r/CryptoCurrency/comments/aw3l6f/chainstarter...   \n",
       "2019-03-10 17:59:47  /r/btc/comments/azhnuo/dont_just_blame_the_mon...   \n",
       "\n",
       "                                                                   url  \\\n",
       "2019-01-01 01:00:29  https://www.reddit.com/r/CryptoCurrency/commen...   \n",
       "2019-03-01 11:59:37  https://www.linkedin.com/pulse/chainstarter-fa...   \n",
       "2019-03-10 17:59:47  https://0bin.net/paste/0Hqu2j9q+CyawdOx#ONzZK8...   \n",
       "\n",
       "                                created      author_created  \n",
       "2019-01-01 01:00:29 2019-01-01 01:00:29                 NaT  \n",
       "2019-03-01 11:59:37 2019-03-01 11:59:37 2017-08-08 17:59:51  \n",
       "2019-03-10 17:59:47 2019-03-10 17:59:47 2007-06-13 13:52:20  "
      ]
     },
     "execution_count": 126,
     "metadata": {},
     "output_type": "execute_result"
    }
   ],
   "source": [
    "ts.all_awardings.apply()"
   ]
  },
  {
   "cell_type": "code",
   "execution_count": null,
   "id": "0e842b64",
   "metadata": {},
   "outputs": [],
   "source": []
  },
  {
   "cell_type": "code",
   "execution_count": 104,
   "id": "c00e5b28",
   "metadata": {},
   "outputs": [
    {
     "data": {
      "text/plain": [
       "created\n",
       "2019-03-04 18:23:40                             (Platinum, Gold, Silver)\n",
       "2019-03-10 17:59:47                             (Platinum, Gold, Silver)\n",
       "2019-03-14 21:41:25                             (Platinum, Gold, Silver)\n",
       "2019-04-08 16:06:08                             (Platinum, Gold, Silver)\n",
       "2019-04-11 23:50:22                             (Platinum, Gold, Silver)\n",
       "                                             ...                        \n",
       "2021-06-30 22:20:05    (Timeless Beauty, Helpful (Pro), Gold, Bravo!,...\n",
       "2021-06-30 23:33:35                            (Wholesome, Silver, Hugz)\n",
       "2021-06-30 23:57:02    (All-Seeing Upvote, Wholesome, Silver, Hugz, T...\n",
       "2021-07-01 00:13:41    (All-Seeing Upvote, Platinum, To The Stars, He...\n",
       "2021-07-01 01:22:14      (Helpful, Wholesome, Silver, Masterpiece, Hugz)\n",
       "Name: all_awardings, Length: 9088, dtype: object"
      ]
     },
     "execution_count": 104,
     "metadata": {},
     "output_type": "execute_result"
    }
   ],
   "source": [
    "s.all_awardings.apply(lambda x: list(zip(*x))[0])"
   ]
  },
  {
   "cell_type": "code",
   "execution_count": null,
   "id": "33e0d815",
   "metadata": {},
   "outputs": [],
   "source": []
  },
  {
   "cell_type": "code",
   "execution_count": null,
   "id": "07865ceb",
   "metadata": {},
   "outputs": [],
   "source": []
  },
  {
   "cell_type": "code",
   "execution_count": null,
   "id": "fa0e9db0",
   "metadata": {},
   "outputs": [],
   "source": []
  },
  {
   "cell_type": "code",
   "execution_count": null,
   "id": "f19bf5a6",
   "metadata": {},
   "outputs": [],
   "source": []
  }
 ],
 "metadata": {
  "kernelspec": {
   "display_name": "Python 3 (ipykernel)",
   "language": "python",
   "name": "python3"
  },
  "language_info": {
   "codemirror_mode": {
    "name": "ipython",
    "version": 3
   },
   "file_extension": ".py",
   "mimetype": "text/x-python",
   "name": "python",
   "nbconvert_exporter": "python",
   "pygments_lexer": "ipython3",
   "version": "3.7.11"
  }
 },
 "nbformat": 4,
 "nbformat_minor": 5
}
