{
 "cells": [
  {
   "cell_type": "code",
   "execution_count": null,
   "id": "638384eb",
   "metadata": {},
   "outputs": [],
   "source": [
    "import sys\n",
    "import os\n",
    "#connect local PATH\n"
   ]
  },
  {
   "cell_type": "code",
   "execution_count": null,
   "id": "4fb2560b",
   "metadata": {},
   "outputs": [],
   "source": [
    "p = os.path.abspath(r'C:\\Users\\Ben\\Desktop\\Diplomatiki')\n",
    "sys.path.append(str(p))"
   ]
  },
  {
   "cell_type": "code",
   "execution_count": null,
   "id": "f3de3311",
   "metadata": {},
   "outputs": [],
   "source": [
    "from CryptoSent.tools import utils as cs"
   ]
  },
  {
   "cell_type": "code",
   "execution_count": null,
   "id": "99c553e5",
   "metadata": {},
   "outputs": [],
   "source": [
    "path=r'D:\\DTU\\Thesis\\Dataset Bank\\Submissions'"
   ]
  },
  {
   "cell_type": "code",
   "execution_count": null,
   "id": "24811b67",
   "metadata": {},
   "outputs": [],
   "source": [
    "\n",
    "cs.merge_submissions(path)"
   ]
  },
  {
   "cell_type": "code",
   "execution_count": null,
   "id": "d88b1bca",
   "metadata": {},
   "outputs": [],
   "source": []
  }
 ],
 "metadata": {
  "kernelspec": {
   "display_name": "Python 3 (ipykernel)",
   "language": "python",
   "name": "python3"
  },
  "language_info": {
   "codemirror_mode": {
    "name": "ipython",
    "version": 3
   },
   "file_extension": ".py",
   "mimetype": "text/x-python",
   "name": "python",
   "nbconvert_exporter": "python",
   "pygments_lexer": "ipython3",
   "version": "3.7.11"
  }
 },
 "nbformat": 4,
 "nbformat_minor": 5
}
