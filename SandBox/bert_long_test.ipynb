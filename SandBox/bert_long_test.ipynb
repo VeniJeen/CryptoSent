{
 "cells": [
  {
   "cell_type": "code",
   "execution_count": 4,
   "metadata": {},
   "outputs": [],
   "source": [
    "from transformers import BertForSequenceClassification, BertTokenizer\n",
    "import torch\n",
    "\n",
    "# initialize our model and tokenizer\n",
    "tokenizer = BertTokenizer.from_pretrained('ProsusAI/finbert')\n",
    "model = BertForSequenceClassification.from_pretrained('ProsusAI/finbert')\n",
    "\n",
    "# and we will place the processing of our input text into a function for easier prediction later\n",
    "def sentiment(tokens):\n",
    "    # get output logits from the model\n",
    "    output = model(**tokens)\n",
    "    # convert to probabilities\n",
    "    probs = torch.nn.functional.softmax(output[0], dim=-1)\n",
    "    # we will return the probability tensor (we will not need argmax until later)\n",
    "    return probs"
   ]
  },
  {
   "cell_type": "code",
   "execution_count": 1,
   "metadata": {},
   "outputs": [],
   "source": [
    "txt = \"\"\"\n",
    "I would like to get your all  thoughts on the bond yield increase this week.  I am not worried about the market downturn but the sudden increase in yields. On 2/16 the 10 year bonds yields increased by almost  9 percent and on 2/19 the yield increased by almost 5 percent.\n",
    "\n",
    "Key Points from the CNBC Article:\n",
    "\n",
    "* **The “taper tantrum” in 2013 was a sudden spike in Treasury yields due to market panic after the Federal Reserve announced that it would begin tapering its quantitative easing program.**\n",
    "* **Major central banks around the world have cut interest rates to historic lows and launched unprecedented quantities of asset purchases in a bid to shore up the economy throughout the pandemic.**\n",
    "* **However, the recent rise in yields suggests that some investors are starting to anticipate a tightening of policy sooner than anticipated to accommodate a potential rise in inflation.**\n",
    "\n",
    "The recent rise in bond yields and U.S. inflation expectations has some investors wary that a repeat of the 2013 “taper tantrum” could be on the horizon.\n",
    "\n",
    "The benchmark U.S. 10-year Treasury note climbed above 1.3% for the first time since February 2020 earlier this week, while the 30-year bond also hit its highest level for a year. Yields move inversely to bond prices.\n",
    "\n",
    "Yields tend to rise in lockstep with inflation expectations, which have reached their highest levels in a decade in the U.S., powered by increased prospects of a large fiscal stimulus package, progress on vaccine rollouts and pent-up consumer demand.\n",
    "\n",
    "The “taper tantrum” in 2013 was a sudden spike in Treasury yields due to market panic after the Federal Reserve announced that it would begin tapering its quantitative easing program.\n",
    "\n",
    "Major central banks around the world have cut interest rates to historic lows and launched unprecedented quantities of asset purchases in a bid to shore up the economy throughout the pandemic. The Fed and others have maintained supportive tones in recent policy meetings, vowing to keep financial conditions loose as the global economy looks to emerge from the Covid-19 pandemic.\n",
    "\n",
    "However, the recent rise in yields suggests that some investors are starting to anticipate a tightening of policy sooner than anticipated to accommodate a potential rise in inflation.\n",
    "\n",
    "With central bank support removed, bonds usually fall in price which sends yields higher. This can also spill over into stock markets as higher interest rates means more debt servicing for firms, causing traders to reassess the investing environment.\n",
    "\n",
    "“The supportive stance from policymakers will likely remain in place until the vaccines have paved a way to some return to normality,” said Shane Balkham, chief investment officer at Beaufort Investment, in a research note this week.\n",
    "\n",
    "“However, there will be a risk of another ‘taper tantrum’ similar to the one we witnessed in 2013, and this is our main focus for 2021,” Balkham projected, should policymakers begin to unwind this stimulus.\n",
    "\n",
    "Long-term bond yields in Japan and Europe followed U.S. Treasurys higher toward the end of the week as bondholders shifted their portfolios.\n",
    "\n",
    "“The fear is that these assets are priced to perfection when the ECB and Fed might eventually taper,” said Sebastien Galy, senior macro strategist at Nordea Asset Management, in a research note entitled “Little taper tantrum.”\n",
    "\n",
    "“The odds of tapering are helped in the United States by better retail sales after four months of disappointment and the expectation of large issuance from the $1.9 trillion fiscal package.”\n",
    "\n",
    "Galy suggested the Fed would likely extend the duration on its asset purchases, moderating the upward momentum in inflation.\n",
    "\n",
    "“Equity markets have reacted negatively to higher yield as it offers an alternative to the dividend yield and a higher discount to long-term cash flows, making them focus more on medium-term growth such as cyclicals” he said. Cyclicals are stocks whose performance tends to align with economic cycles.\n",
    "\n",
    "Galy expects this process to be more marked in the second half of the year when economic growth picks up, increasing the potential for tapering.\n",
    "\n",
    "## Tapering in the U.S., but not Europe\n",
    "\n",
    "Allianz CEO Oliver Bäte told CNBC on Friday that there was a geographical divergence in how the German insurer is thinking about the prospect of interest rate hikes.\n",
    "\n",
    "“One is Europe, where we continue to have financial repression, where the ECB continues to buy up to the max in order to minimize spreads between the north and the south — the strong balance sheets and the weak ones — and at some point somebody will have to pay the price for that, but in the short term I don’t see any spike in interest rates,” Bäte said, adding that the situation is different stateside.\n",
    "\n",
    "“Because of the massive programs that have happened, the stimulus that is happening, the dollar being the world’s reserve currency, there is clearly a trend to stoke inflation and it is going to come. Again, I don’t know when and how, but the interest rates have been steepening and they should be steepening further.”\n",
    "\n",
    "## Rising yields a ‘normal feature’\n",
    "\n",
    "However, not all analysts are convinced that the rise in bond yields is material for markets. In a note Friday, Barclays Head of European Equity Strategy Emmanuel Cau suggested that rising bond yields were overdue, as they had been lagging the improving macroeconomic outlook for the second half of 2021, and said they were a “normal feature” of economic recovery.\n",
    "\n",
    "“With the key drivers of inflation pointing up, the prospect of even more fiscal stimulus in the U.S. and pent up demand propelled by high excess savings, it seems right for bond yields to catch-up with other more advanced reflation trades,” Cau said, adding that central banks remain “firmly on hold” given the balance of risks.\n",
    "\n",
    "He argued that the steepening yield curve is “typical at the early stages of the cycle,” and that so long as vaccine rollouts are successful, growth continues to tick upward and central banks remain cautious, reflationary moves across asset classes look “justified” and equities should be able to withstand higher rates.\n",
    "\n",
    "“Of course, after the strong move of the last few weeks, equities could mark a pause as many sectors that have rallied with yields look overbought, like commodities and banks,” Cau said.\n",
    "\n",
    "“But at this stage, we think rising yields are more a confirmation of the equity bull market than a threat, so dips should continue to be bought.”\n",
    "\"\"\"\n",
    "\n"
   ]
  },
  {
   "cell_type": "code",
   "execution_count": 5,
   "metadata": {},
   "outputs": [
    {
     "name": "stderr",
     "output_type": "stream",
     "text": [
      "Token indices sequence length is longer than the specified maximum sequence length for this model (1345 > 512). Running this sequence through the model will result in indexing errors\n"
     ]
    }
   ],
   "source": [
    "tokens = tokenizer.encode_plus(txt, add_special_tokens=False)\n"
   ]
  },
  {
   "cell_type": "code",
   "execution_count": 6,
   "metadata": {},
   "outputs": [
    {
     "data": {
      "text/plain": [
       "False"
      ]
     },
     "execution_count": 6,
     "metadata": {},
     "output_type": "execute_result"
    }
   ],
   "source": [
    "len(tokens['input_ids'])<512\n"
   ]
  },
  {
   "cell_type": "code",
   "execution_count": 10,
   "metadata": {},
   "outputs": [
    {
     "ename": "TypeError",
     "evalue": "'<' not supported between instances of 'list' and 'int'",
     "output_type": "error",
     "traceback": [
      "\u001b[1;31m---------------------------------------------------------------------------\u001b[0m",
      "\u001b[1;31mTypeError\u001b[0m                                 Traceback (most recent call last)",
      "\u001b[1;32m~\\AppData\\Local\\Temp/ipykernel_17128/2416373735.py\u001b[0m in \u001b[0;36m<module>\u001b[1;34m\u001b[0m\n\u001b[1;32m----> 1\u001b[1;33m \u001b[1;32mif\u001b[0m \u001b[0mlen\u001b[0m\u001b[1;33m(\u001b[0m\u001b[0mtokens\u001b[0m\u001b[1;33m[\u001b[0m\u001b[1;34m'input_ids'\u001b[0m\u001b[1;33m]\u001b[0m\u001b[1;33m<\u001b[0m\u001b[1;36m512\u001b[0m\u001b[1;33m)\u001b[0m\u001b[1;33m:\u001b[0m \u001b[0mprint\u001b[0m\u001b[1;33m(\u001b[0m\u001b[1;34m'aaa'\u001b[0m\u001b[1;33m)\u001b[0m\u001b[1;33m\u001b[0m\u001b[1;33m\u001b[0m\u001b[0m\n\u001b[0m",
      "\u001b[1;31mTypeError\u001b[0m: '<' not supported between instances of 'list' and 'int'"
     ]
    }
   ],
   "source": [
    "if len(tokens['input_ids']<512): print('aaa')"
   ]
  },
  {
   "cell_type": "code",
   "execution_count": 3,
   "metadata": {},
   "outputs": [],
   "source": [
    "input_ids = tokens['input_ids']\n",
    "attention_mask = tokens['attention_mask']\n"
   ]
  },
  {
   "cell_type": "code",
   "execution_count": 6,
   "metadata": {},
   "outputs": [],
   "source": [
    "# define our starting position (0) and window size (number of tokens in each chunk)\n",
    "start = 0\n",
    "window_size = 512\n",
    "\n",
    "# get the total length of our tokens\n",
    "total_len = len(input_ids)\n",
    "\n",
    "# initialize condition for our while loop to run\n",
    "loop = True\n",
    "\n",
    "# loop through and print out start/end positions\n",
    "while loop:\n",
    "    # the end position is simply the start + window_size\n",
    "    end = start + window_size\n",
    "    # if the end position is greater than the total length, make this our final iteration\n",
    "    if end >= total_len:\n",
    "        loop = False\n",
    "        # and change our endpoint to the final token position\n",
    "        end = total_len\n",
    "    #print(f\"{start=}\\n{end=}\")\n",
    "    # we need to move the window to the next 512 tokens\n",
    "    start = end"
   ]
  },
  {
   "cell_type": "code",
   "execution_count": 7,
   "metadata": {},
   "outputs": [
    {
     "data": {
      "text/plain": [
       "[tensor([[0.1384, 0.8145, 0.0471]], grad_fn=<SoftmaxBackward0>),\n",
       " tensor([[0.3757, 0.4670, 0.1574]], grad_fn=<SoftmaxBackward0>),\n",
       " tensor([[0.7290, 0.2006, 0.0704]], grad_fn=<SoftmaxBackward0>)]"
      ]
     },
     "execution_count": 7,
     "metadata": {},
     "output_type": "execute_result"
    }
   ],
   "source": [
    "# initialize probabilities list\n",
    "probs_list = []\n",
    "\n",
    "start = 0\n",
    "window_size = 510  # we take 2 off here so that we can fit in our [CLS] and [SEP] tokens\n",
    "\n",
    "loop = True\n",
    "\n",
    "while loop:\n",
    "    end = start + window_size\n",
    "    if end >= total_len:\n",
    "        loop = False\n",
    "        end = total_len\n",
    "    # (1) extract window from input_ids and attention_mask\n",
    "    input_ids_chunk = input_ids[start:end]\n",
    "    attention_mask_chunk = attention_mask[start:end]\n",
    "    # (2) add [CLS] and [SEP]\n",
    "    input_ids_chunk = [101] + input_ids_chunk + [102]\n",
    "    attention_mask_chunk = [1] + attention_mask_chunk + [1]\n",
    "    # (3) add padding upto window_size + 2 (512) tokens\n",
    "    input_ids_chunk += [0] * (window_size - len(input_ids_chunk) + 2)\n",
    "    attention_mask_chunk += [0] * (window_size - len(attention_mask_chunk) + 2)\n",
    "    # (4) format into PyTorch tensors dictionary\n",
    "    input_dict = {\n",
    "        'input_ids': torch.Tensor([input_ids_chunk]).long(),\n",
    "        'attention_mask': torch.Tensor([attention_mask_chunk]).int()\n",
    "    }\n",
    "    # (5) make logits prediction\n",
    "    outputs = model(**input_dict)\n",
    "    # (6) calculate softmax and append to list\n",
    "    probs = torch.nn.functional.softmax(outputs[0], dim=-1)\n",
    "    probs_list.append(probs)\n",
    "\n",
    "    start = end\n",
    "    \n",
    "stacks = torch.stack(probs_list)\n",
    "shape = stacks.shape\n",
    "\n",
    "with torch.no_grad():\n",
    "    # we must include our stacks operation in here too\n",
    "    stacks = torch.stack(probs_list)\n",
    "    # now resize\n",
    "    stacks = stacks.resize_(stacks.shape[0], stacks.shape[2])\n",
    "    # finally, we can calculate the mean value for each sentiment class\n",
    "    mean = stacks.mean(dim=0)\n"
   ]
  },
  {
   "cell_type": "code",
   "execution_count": 11,
   "metadata": {},
   "outputs": [
    {
     "data": {
      "text/plain": [
       "tensor([0.4144, 0.4940, 0.0916])"
      ]
     },
     "execution_count": 11,
     "metadata": {},
     "output_type": "execute_result"
    }
   ],
   "source": [
    "mean"
   ]
  },
  {
   "cell_type": "code",
   "execution_count": 2,
   "metadata": {},
   "outputs": [],
   "source": [
    "import sys\n",
    "import os\n",
    "import pandas as pd\n",
    "\n",
    "#connect local PATH\n",
    "p = os.path.abspath(r'C:\\Users\\Ben\\Desktop\\Diplomatiki')\n",
    "sys.path.append(str(p))\n",
    "\n",
    "from CryptoSent.tools import models as cm"
   ]
  },
  {
   "cell_type": "code",
   "execution_count": 3,
   "metadata": {},
   "outputs": [
    {
     "name": "stderr",
     "output_type": "stream",
     "text": [
      "Token indices sequence length is longer than the specified maximum sequence length for this model (1345 > 512). Running this sequence through the model will result in indexing errors\n"
     ]
    },
    {
     "name": "stdout",
     "output_type": "stream",
     "text": [
      "i am in the else case\n"
     ]
    },
    {
     "data": {
      "text/plain": [
       "tensor([0.4144, 0.4940, 0.0916])"
      ]
     },
     "execution_count": 3,
     "metadata": {},
     "output_type": "execute_result"
    }
   ],
   "source": [
    "cm.fin_bert_long(txt)"
   ]
  },
  {
   "cell_type": "code",
   "execution_count": null,
   "metadata": {},
   "outputs": [],
   "source": [
    "p=r'C:\\Users\\Ben\\Desktop\\Diplomatiki\\CryptoSent\\Datasets\\Main Dataset\\submissions.pickle'\n",
    "df=pd.read_pickle(p)\n",
    "df=df[df.subreddit=='Bitcoin']"
   ]
  }
 ],
 "metadata": {
  "interpreter": {
   "hash": "a6a48a25ace32036d94e833d4fc37126f6b59c1fba1eead68c54149d06650627"
  },
  "kernelspec": {
   "display_name": "Python 3.7.11 64-bit ('CryptoSent': conda)",
   "language": "python",
   "name": "python3"
  },
  "language_info": {
   "codemirror_mode": {
    "name": "ipython",
    "version": 3
   },
   "file_extension": ".py",
   "mimetype": "text/x-python",
   "name": "python",
   "nbconvert_exporter": "python",
   "pygments_lexer": "ipython3",
   "version": "3.7.11"
  },
  "orig_nbformat": 4
 },
 "nbformat": 4,
 "nbformat_minor": 2
}
