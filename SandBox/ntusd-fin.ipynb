{
 "cells": [
  {
   "cell_type": "code",
   "execution_count": 1,
   "metadata": {},
   "outputs": [
    {
     "name": "stderr",
     "output_type": "stream",
     "text": [
      "100%|██████████| 30907/30907 [00:00<00:00, 164835.87it/s]\n"
     ]
    }
   ],
   "source": [
    "import pandas as pd\n",
    "import sys\n",
    "import os\n",
    "import pandas as pd\n",
    "import numpy as np\n",
    "from tqdm import tqdm\n",
    "tqdm.pandas()\n",
    "#connect local PATH\n",
    "p = os.path.abspath(r'C:\\Users\\Ben\\Desktop\\Diplomatiki')\n",
    "sys.path.append(str(p))\n",
    "from CryptoSent.tools.crypto_coin_actual import get_btc_actual_hourly\n",
    "from CryptoSent.tools import evaluation as eval\n",
    "btc=get_btc_actual_hourly()\n",
    "df=pd.read_pickle(r\"C:\\Users\\Ben\\Desktop\\Diplomatiki\\CryptoSent\\Datasets\\Datasets Heisenberg\\submissions_heisenberg.pickle\")"
   ]
  },
  {
   "cell_type": "code",
   "execution_count": 2,
   "metadata": {},
   "outputs": [],
   "source": [
    "a=df[df.origin!='main']"
   ]
  },
  {
   "cell_type": "code",
   "execution_count": 3,
   "metadata": {},
   "outputs": [
    {
     "data": {
      "text/html": [
       "<div>\n",
       "<style scoped>\n",
       "    .dataframe tbody tr th:only-of-type {\n",
       "        vertical-align: middle;\n",
       "    }\n",
       "\n",
       "    .dataframe tbody tr th {\n",
       "        vertical-align: top;\n",
       "    }\n",
       "\n",
       "    .dataframe thead th {\n",
       "        text-align: right;\n",
       "    }\n",
       "</style>\n",
       "<table border=\"1\" class=\"dataframe\">\n",
       "  <thead>\n",
       "    <tr style=\"text-align: right;\">\n",
       "      <th>created</th>\n",
       "      <th>2019-01-01 01:08:11</th>\n",
       "      <th>2019-01-01 02:06:30</th>\n",
       "      <th>2019-01-01 04:38:31</th>\n",
       "      <th>2019-01-01 05:07:06</th>\n",
       "      <th>2019-01-01 05:38:19</th>\n",
       "    </tr>\n",
       "  </thead>\n",
       "  <tbody>\n",
       "    <tr>\n",
       "      <th>author</th>\n",
       "      <td>asazot</td>\n",
       "      <td>overwashed</td>\n",
       "      <td>6fGfGsz70s2dX4R4jeHg</td>\n",
       "      <td>KnowbellaTech</td>\n",
       "      <td>flamingboard</td>\n",
       "    </tr>\n",
       "    <tr>\n",
       "      <th>num_comments</th>\n",
       "      <td>14</td>\n",
       "      <td>52</td>\n",
       "      <td>53</td>\n",
       "      <td>31</td>\n",
       "      <td>51</td>\n",
       "    </tr>\n",
       "    <tr>\n",
       "      <th>score</th>\n",
       "      <td>189</td>\n",
       "      <td>72</td>\n",
       "      <td>169</td>\n",
       "      <td>68</td>\n",
       "      <td>140</td>\n",
       "    </tr>\n",
       "    <tr>\n",
       "      <th>title</th>\n",
       "      <td>May The Bulls Be With You In This 2019!</td>\n",
       "      <td>Head to head comparison</td>\n",
       "      <td>I've put 5% of each paycheck into bitcoin for ...</td>\n",
       "      <td>40% of Chinese want Bitcoin</td>\n",
       "      <td>I may be a little drunk but we're going to cha...</td>\n",
       "    </tr>\n",
       "    <tr>\n",
       "      <th>selftext</th>\n",
       "      <td></td>\n",
       "      <td></td>\n",
       "      <td>I've used BitWage for the past 3 years to auto...</td>\n",
       "      <td></td>\n",
       "      <td>The price will follow adoption. Focus on user ...</td>\n",
       "    </tr>\n",
       "    <tr>\n",
       "      <th>award_name</th>\n",
       "      <td>Empty</td>\n",
       "      <td>Empty</td>\n",
       "      <td>Empty</td>\n",
       "      <td>Empty</td>\n",
       "      <td>Empty</td>\n",
       "    </tr>\n",
       "    <tr>\n",
       "      <th>award_description</th>\n",
       "      <td>Empty</td>\n",
       "      <td>Empty</td>\n",
       "      <td>Empty</td>\n",
       "      <td>Empty</td>\n",
       "      <td>Empty</td>\n",
       "    </tr>\n",
       "    <tr>\n",
       "      <th>award_count</th>\n",
       "      <td>0</td>\n",
       "      <td>0</td>\n",
       "      <td>0</td>\n",
       "      <td>0</td>\n",
       "      <td>0</td>\n",
       "    </tr>\n",
       "    <tr>\n",
       "      <th>award_coin_price</th>\n",
       "      <td>0</td>\n",
       "      <td>0</td>\n",
       "      <td>0</td>\n",
       "      <td>0</td>\n",
       "      <td>0</td>\n",
       "    </tr>\n",
       "    <tr>\n",
       "      <th>award_coin_reward</th>\n",
       "      <td>Empty</td>\n",
       "      <td>Empty</td>\n",
       "      <td>Empty</td>\n",
       "      <td>Empty</td>\n",
       "      <td>Empty</td>\n",
       "    </tr>\n",
       "    <tr>\n",
       "      <th>subreddit</th>\n",
       "      <td>Bitcoin</td>\n",
       "      <td>btc</td>\n",
       "      <td>Bitcoin</td>\n",
       "      <td>Bitcoin</td>\n",
       "      <td>btc</td>\n",
       "    </tr>\n",
       "    <tr>\n",
       "      <th>subreddit_subscribers</th>\n",
       "      <td>1022253</td>\n",
       "      <td>245639</td>\n",
       "      <td>1022255</td>\n",
       "      <td>1022255</td>\n",
       "      <td>245641</td>\n",
       "    </tr>\n",
       "    <tr>\n",
       "      <th>id</th>\n",
       "      <td>abcx89</td>\n",
       "      <td>abdfzo</td>\n",
       "      <td>abekqq</td>\n",
       "      <td>aberuw</td>\n",
       "      <td>abezpf</td>\n",
       "    </tr>\n",
       "    <tr>\n",
       "      <th>domain</th>\n",
       "      <td>i.redd.it</td>\n",
       "      <td>youtu.be</td>\n",
       "      <td>self.Bitcoin</td>\n",
       "      <td>bitcoinist.com</td>\n",
       "      <td>self.btc</td>\n",
       "    </tr>\n",
       "    <tr>\n",
       "      <th>no_follow</th>\n",
       "      <td>False</td>\n",
       "      <td>False</td>\n",
       "      <td>False</td>\n",
       "      <td>False</td>\n",
       "      <td>False</td>\n",
       "    </tr>\n",
       "    <tr>\n",
       "      <th>send_replies</th>\n",
       "      <td>True</td>\n",
       "      <td>True</td>\n",
       "      <td>True</td>\n",
       "      <td>True</td>\n",
       "      <td>True</td>\n",
       "    </tr>\n",
       "    <tr>\n",
       "      <th>author_fullname</th>\n",
       "      <td>t2_20q5ylm7</td>\n",
       "      <td>t2_6qn3jcy</td>\n",
       "      <td>t2_okb9kkk</td>\n",
       "      <td>t2_pl0h2w4</td>\n",
       "      <td>t2_5c5ec</td>\n",
       "    </tr>\n",
       "    <tr>\n",
       "      <th>subreddit_id</th>\n",
       "      <td>t5_2s3qj</td>\n",
       "      <td>t5_2si5v</td>\n",
       "      <td>t5_2s3qj</td>\n",
       "      <td>t5_2s3qj</td>\n",
       "      <td>t5_2si5v</td>\n",
       "    </tr>\n",
       "    <tr>\n",
       "      <th>permalink</th>\n",
       "      <td>/r/Bitcoin/comments/abcx89/may_the_bulls_be_wi...</td>\n",
       "      <td>/r/btc/comments/abdfzo/head_to_head_comparison/</td>\n",
       "      <td>/r/Bitcoin/comments/abekqq/ive_put_5_of_each_p...</td>\n",
       "      <td>/r/Bitcoin/comments/aberuw/40_of_chinese_want_...</td>\n",
       "      <td>/r/btc/comments/abezpf/i_may_be_a_little_drunk...</td>\n",
       "    </tr>\n",
       "    <tr>\n",
       "      <th>url</th>\n",
       "      <td>https://i.redd.it/io3ezmi2ep721.png</td>\n",
       "      <td>https://youtu.be/dKfCl1o_HEA</td>\n",
       "      <td>https://www.reddit.com/r/Bitcoin/comments/abek...</td>\n",
       "      <td>https://bitcoinist.com/invest-bitcoin-china-su...</td>\n",
       "      <td>https://www.reddit.com/r/btc/comments/abezpf/i...</td>\n",
       "    </tr>\n",
       "    <tr>\n",
       "      <th>created</th>\n",
       "      <td>2019-01-01 01:08:11</td>\n",
       "      <td>2019-01-01 02:06:30</td>\n",
       "      <td>2019-01-01 04:38:31</td>\n",
       "      <td>2019-01-01 05:07:06</td>\n",
       "      <td>2019-01-01 05:38:19</td>\n",
       "    </tr>\n",
       "    <tr>\n",
       "      <th>author_created</th>\n",
       "      <td>2018-08-20 00:07:21</td>\n",
       "      <td>2017-07-11 12:12:49</td>\n",
       "      <td>2017-12-17 01:18:03</td>\n",
       "      <td>2017-12-25 18:37:47</td>\n",
       "      <td>2011-06-06 09:13:26</td>\n",
       "    </tr>\n",
       "    <tr>\n",
       "      <th>clean_text</th>\n",
       "      <td>bull 2019</td>\n",
       "      <td>head head comparison</td>\n",
       "      <td>5 paycheck bitcoin 3 year use bitwage past 3 y...</td>\n",
       "      <td>40 chinese want bitcoin</td>\n",
       "      <td>little drink change world world doesn t know p...</td>\n",
       "    </tr>\n",
       "    <tr>\n",
       "      <th>origin</th>\n",
       "      <td>top10_percent</td>\n",
       "      <td>top10_percent</td>\n",
       "      <td>top10_percent</td>\n",
       "      <td>top10_percent</td>\n",
       "      <td>top10_percent</td>\n",
       "    </tr>\n",
       "    <tr>\n",
       "      <th>sent_db</th>\n",
       "      <td>-0.938653</td>\n",
       "      <td>-0.961691</td>\n",
       "      <td>-0.993817</td>\n",
       "      <td>-0.972451</td>\n",
       "      <td>-0.12186</td>\n",
       "    </tr>\n",
       "    <tr>\n",
       "      <th>sent_fb</th>\n",
       "      <td>0.01746</td>\n",
       "      <td>-0.15357</td>\n",
       "      <td>0.010452</td>\n",
       "      <td>0.010008</td>\n",
       "      <td>0.03558</td>\n",
       "    </tr>\n",
       "    <tr>\n",
       "      <th>sent_lr</th>\n",
       "      <td>0.061232</td>\n",
       "      <td>-0.343338</td>\n",
       "      <td>-0.385883</td>\n",
       "      <td>0.5208</td>\n",
       "      <td>-0.717004</td>\n",
       "    </tr>\n",
       "    <tr>\n",
       "      <th>topic</th>\n",
       "      <td>Bitcoin</td>\n",
       "      <td>Bitcoin</td>\n",
       "      <td>Bitcoin</td>\n",
       "      <td>Bitcoin</td>\n",
       "      <td>Bitcoin</td>\n",
       "    </tr>\n",
       "    <tr>\n",
       "      <th>author_karma</th>\n",
       "      <td>2020.0</td>\n",
       "      <td>87261.0</td>\n",
       "      <td>0.0</td>\n",
       "      <td>1242.0</td>\n",
       "      <td>0.0</td>\n",
       "    </tr>\n",
       "    <tr>\n",
       "      <th>awards_value</th>\n",
       "      <td>0</td>\n",
       "      <td>0</td>\n",
       "      <td>0</td>\n",
       "      <td>0</td>\n",
       "      <td>0</td>\n",
       "    </tr>\n",
       "    <tr>\n",
       "      <th>author_posts</th>\n",
       "      <td>19</td>\n",
       "      <td>5</td>\n",
       "      <td>5</td>\n",
       "      <td>16</td>\n",
       "      <td>7</td>\n",
       "    </tr>\n",
       "    <tr>\n",
       "      <th>num_awards</th>\n",
       "      <td>0</td>\n",
       "      <td>0</td>\n",
       "      <td>0</td>\n",
       "      <td>0</td>\n",
       "      <td>0</td>\n",
       "    </tr>\n",
       "    <tr>\n",
       "      <th>sent_lr_coms</th>\n",
       "      <td>4.422896</td>\n",
       "      <td>-0.708201</td>\n",
       "      <td>3.951479</td>\n",
       "      <td>0.575394</td>\n",
       "      <td>7.418456</td>\n",
       "    </tr>\n",
       "    <tr>\n",
       "      <th>sent_ntusd</th>\n",
       "      <td>-0.401772</td>\n",
       "      <td>-0.570899</td>\n",
       "      <td>20.084634</td>\n",
       "      <td>-0.893201</td>\n",
       "      <td>5.450115</td>\n",
       "    </tr>\n",
       "    <tr>\n",
       "      <th>sent_ntusd_coms</th>\n",
       "      <td>22.802736</td>\n",
       "      <td>26.166984</td>\n",
       "      <td>50.794703</td>\n",
       "      <td>12.411089</td>\n",
       "      <td>54.224585</td>\n",
       "    </tr>\n",
       "    <tr>\n",
       "      <th>sell</th>\n",
       "      <td>False</td>\n",
       "      <td>False</td>\n",
       "      <td>False</td>\n",
       "      <td>False</td>\n",
       "      <td>False</td>\n",
       "    </tr>\n",
       "    <tr>\n",
       "      <th>buy</th>\n",
       "      <td>False</td>\n",
       "      <td>False</td>\n",
       "      <td>True</td>\n",
       "      <td>False</td>\n",
       "      <td>False</td>\n",
       "    </tr>\n",
       "  </tbody>\n",
       "</table>\n",
       "</div>"
      ],
      "text/plain": [
       "created                                              2019-01-01 01:08:11  \\\n",
       "author                                                            asazot   \n",
       "num_comments                                                          14   \n",
       "score                                                                189   \n",
       "title                            May The Bulls Be With You In This 2019!   \n",
       "selftext                                                                   \n",
       "award_name                                                         Empty   \n",
       "award_description                                                  Empty   \n",
       "award_count                                                            0   \n",
       "award_coin_price                                                       0   \n",
       "award_coin_reward                                                  Empty   \n",
       "subreddit                                                        Bitcoin   \n",
       "subreddit_subscribers                                            1022253   \n",
       "id                                                                abcx89   \n",
       "domain                                                         i.redd.it   \n",
       "no_follow                                                          False   \n",
       "send_replies                                                        True   \n",
       "author_fullname                                              t2_20q5ylm7   \n",
       "subreddit_id                                                    t5_2s3qj   \n",
       "permalink              /r/Bitcoin/comments/abcx89/may_the_bulls_be_wi...   \n",
       "url                                  https://i.redd.it/io3ezmi2ep721.png   \n",
       "created                                              2019-01-01 01:08:11   \n",
       "author_created                                       2018-08-20 00:07:21   \n",
       "clean_text                                                     bull 2019   \n",
       "origin                                                     top10_percent   \n",
       "sent_db                                                        -0.938653   \n",
       "sent_fb                                                          0.01746   \n",
       "sent_lr                                                         0.061232   \n",
       "topic                                                            Bitcoin   \n",
       "author_karma                                                      2020.0   \n",
       "awards_value                                                           0   \n",
       "author_posts                                                          19   \n",
       "num_awards                                                             0   \n",
       "sent_lr_coms                                                    4.422896   \n",
       "sent_ntusd                                                     -0.401772   \n",
       "sent_ntusd_coms                                                22.802736   \n",
       "sell                                                               False   \n",
       "buy                                                                False   \n",
       "\n",
       "created                                            2019-01-01 02:06:30  \\\n",
       "author                                                      overwashed   \n",
       "num_comments                                                        52   \n",
       "score                                                               72   \n",
       "title                                          Head to head comparison   \n",
       "selftext                                                                 \n",
       "award_name                                                       Empty   \n",
       "award_description                                                Empty   \n",
       "award_count                                                          0   \n",
       "award_coin_price                                                     0   \n",
       "award_coin_reward                                                Empty   \n",
       "subreddit                                                          btc   \n",
       "subreddit_subscribers                                           245639   \n",
       "id                                                              abdfzo   \n",
       "domain                                                        youtu.be   \n",
       "no_follow                                                        False   \n",
       "send_replies                                                      True   \n",
       "author_fullname                                             t2_6qn3jcy   \n",
       "subreddit_id                                                  t5_2si5v   \n",
       "permalink              /r/btc/comments/abdfzo/head_to_head_comparison/   \n",
       "url                                       https://youtu.be/dKfCl1o_HEA   \n",
       "created                                            2019-01-01 02:06:30   \n",
       "author_created                                     2017-07-11 12:12:49   \n",
       "clean_text                                        head head comparison   \n",
       "origin                                                   top10_percent   \n",
       "sent_db                                                      -0.961691   \n",
       "sent_fb                                                       -0.15357   \n",
       "sent_lr                                                      -0.343338   \n",
       "topic                                                          Bitcoin   \n",
       "author_karma                                                   87261.0   \n",
       "awards_value                                                         0   \n",
       "author_posts                                                         5   \n",
       "num_awards                                                           0   \n",
       "sent_lr_coms                                                 -0.708201   \n",
       "sent_ntusd                                                   -0.570899   \n",
       "sent_ntusd_coms                                              26.166984   \n",
       "sell                                                             False   \n",
       "buy                                                              False   \n",
       "\n",
       "created                                              2019-01-01 04:38:31  \\\n",
       "author                                              6fGfGsz70s2dX4R4jeHg   \n",
       "num_comments                                                          53   \n",
       "score                                                                169   \n",
       "title                  I've put 5% of each paycheck into bitcoin for ...   \n",
       "selftext               I've used BitWage for the past 3 years to auto...   \n",
       "award_name                                                         Empty   \n",
       "award_description                                                  Empty   \n",
       "award_count                                                            0   \n",
       "award_coin_price                                                       0   \n",
       "award_coin_reward                                                  Empty   \n",
       "subreddit                                                        Bitcoin   \n",
       "subreddit_subscribers                                            1022255   \n",
       "id                                                                abekqq   \n",
       "domain                                                      self.Bitcoin   \n",
       "no_follow                                                          False   \n",
       "send_replies                                                        True   \n",
       "author_fullname                                               t2_okb9kkk   \n",
       "subreddit_id                                                    t5_2s3qj   \n",
       "permalink              /r/Bitcoin/comments/abekqq/ive_put_5_of_each_p...   \n",
       "url                    https://www.reddit.com/r/Bitcoin/comments/abek...   \n",
       "created                                              2019-01-01 04:38:31   \n",
       "author_created                                       2017-12-17 01:18:03   \n",
       "clean_text             5 paycheck bitcoin 3 year use bitwage past 3 y...   \n",
       "origin                                                     top10_percent   \n",
       "sent_db                                                        -0.993817   \n",
       "sent_fb                                                         0.010452   \n",
       "sent_lr                                                        -0.385883   \n",
       "topic                                                            Bitcoin   \n",
       "author_karma                                                         0.0   \n",
       "awards_value                                                           0   \n",
       "author_posts                                                           5   \n",
       "num_awards                                                             0   \n",
       "sent_lr_coms                                                    3.951479   \n",
       "sent_ntusd                                                     20.084634   \n",
       "sent_ntusd_coms                                                50.794703   \n",
       "sell                                                               False   \n",
       "buy                                                                 True   \n",
       "\n",
       "created                                              2019-01-01 05:07:06  \\\n",
       "author                                                     KnowbellaTech   \n",
       "num_comments                                                          31   \n",
       "score                                                                 68   \n",
       "title                                        40% of Chinese want Bitcoin   \n",
       "selftext                                                                   \n",
       "award_name                                                         Empty   \n",
       "award_description                                                  Empty   \n",
       "award_count                                                            0   \n",
       "award_coin_price                                                       0   \n",
       "award_coin_reward                                                  Empty   \n",
       "subreddit                                                        Bitcoin   \n",
       "subreddit_subscribers                                            1022255   \n",
       "id                                                                aberuw   \n",
       "domain                                                    bitcoinist.com   \n",
       "no_follow                                                          False   \n",
       "send_replies                                                        True   \n",
       "author_fullname                                               t2_pl0h2w4   \n",
       "subreddit_id                                                    t5_2s3qj   \n",
       "permalink              /r/Bitcoin/comments/aberuw/40_of_chinese_want_...   \n",
       "url                    https://bitcoinist.com/invest-bitcoin-china-su...   \n",
       "created                                              2019-01-01 05:07:06   \n",
       "author_created                                       2017-12-25 18:37:47   \n",
       "clean_text                                       40 chinese want bitcoin   \n",
       "origin                                                     top10_percent   \n",
       "sent_db                                                        -0.972451   \n",
       "sent_fb                                                         0.010008   \n",
       "sent_lr                                                           0.5208   \n",
       "topic                                                            Bitcoin   \n",
       "author_karma                                                      1242.0   \n",
       "awards_value                                                           0   \n",
       "author_posts                                                          16   \n",
       "num_awards                                                             0   \n",
       "sent_lr_coms                                                    0.575394   \n",
       "sent_ntusd                                                     -0.893201   \n",
       "sent_ntusd_coms                                                12.411089   \n",
       "sell                                                               False   \n",
       "buy                                                                False   \n",
       "\n",
       "created                                              2019-01-01 05:38:19  \n",
       "author                                                      flamingboard  \n",
       "num_comments                                                          51  \n",
       "score                                                                140  \n",
       "title                  I may be a little drunk but we're going to cha...  \n",
       "selftext               The price will follow adoption. Focus on user ...  \n",
       "award_name                                                         Empty  \n",
       "award_description                                                  Empty  \n",
       "award_count                                                            0  \n",
       "award_coin_price                                                       0  \n",
       "award_coin_reward                                                  Empty  \n",
       "subreddit                                                            btc  \n",
       "subreddit_subscribers                                             245641  \n",
       "id                                                                abezpf  \n",
       "domain                                                          self.btc  \n",
       "no_follow                                                          False  \n",
       "send_replies                                                        True  \n",
       "author_fullname                                                 t2_5c5ec  \n",
       "subreddit_id                                                    t5_2si5v  \n",
       "permalink              /r/btc/comments/abezpf/i_may_be_a_little_drunk...  \n",
       "url                    https://www.reddit.com/r/btc/comments/abezpf/i...  \n",
       "created                                              2019-01-01 05:38:19  \n",
       "author_created                                       2011-06-06 09:13:26  \n",
       "clean_text             little drink change world world doesn t know p...  \n",
       "origin                                                     top10_percent  \n",
       "sent_db                                                         -0.12186  \n",
       "sent_fb                                                          0.03558  \n",
       "sent_lr                                                        -0.717004  \n",
       "topic                                                            Bitcoin  \n",
       "author_karma                                                         0.0  \n",
       "awards_value                                                           0  \n",
       "author_posts                                                           7  \n",
       "num_awards                                                             0  \n",
       "sent_lr_coms                                                    7.418456  \n",
       "sent_ntusd                                                      5.450115  \n",
       "sent_ntusd_coms                                                54.224585  \n",
       "sell                                                               False  \n",
       "buy                                                                False  "
      ]
     },
     "execution_count": 3,
     "metadata": {},
     "output_type": "execute_result"
    }
   ],
   "source": [
    "a.head().T"
   ]
  },
  {
   "cell_type": "code",
   "execution_count": 16,
   "metadata": {},
   "outputs": [
    {
     "data": {
      "application/vnd.plotly.v1+json": {
       "config": {
        "plotlyServerURL": "https://plot.ly"
       },
       "data": [
        {
         "name": "Sentiment",
         "type": "scatter",
         "x": [
          "2019-01-06T00:00:00",
          "2019-01-13T00:00:00",
          "2019-01-20T00:00:00",
          "2019-01-27T00:00:00",
          "2019-02-03T00:00:00",
          "2019-02-10T00:00:00",
          "2019-02-17T00:00:00",
          "2019-02-24T00:00:00",
          "2019-03-03T00:00:00",
          "2019-03-10T00:00:00",
          "2019-03-17T00:00:00",
          "2019-03-24T00:00:00",
          "2019-03-31T00:00:00",
          "2019-04-07T00:00:00",
          "2019-04-14T00:00:00",
          "2019-04-21T00:00:00",
          "2019-04-28T00:00:00",
          "2019-05-05T00:00:00",
          "2019-05-12T00:00:00",
          "2019-05-19T00:00:00",
          "2019-05-26T00:00:00",
          "2019-06-02T00:00:00",
          "2019-06-09T00:00:00",
          "2019-06-16T00:00:00",
          "2019-06-23T00:00:00",
          "2019-06-30T00:00:00",
          "2019-07-07T00:00:00",
          "2019-07-14T00:00:00",
          "2019-07-21T00:00:00",
          "2019-07-28T00:00:00",
          "2019-08-04T00:00:00",
          "2019-08-11T00:00:00",
          "2019-08-18T00:00:00",
          "2019-08-25T00:00:00",
          "2019-09-01T00:00:00",
          "2019-09-08T00:00:00",
          "2019-09-15T00:00:00",
          "2019-09-22T00:00:00",
          "2019-09-29T00:00:00",
          "2019-10-06T00:00:00",
          "2019-10-13T00:00:00",
          "2019-10-20T00:00:00",
          "2019-10-27T00:00:00",
          "2019-11-03T00:00:00",
          "2019-11-10T00:00:00",
          "2019-11-17T00:00:00",
          "2019-11-24T00:00:00",
          "2019-12-01T00:00:00",
          "2019-12-08T00:00:00",
          "2019-12-15T00:00:00",
          "2019-12-22T00:00:00",
          "2019-12-29T00:00:00",
          "2020-01-05T00:00:00",
          "2020-01-12T00:00:00",
          "2020-01-19T00:00:00",
          "2020-01-26T00:00:00",
          "2020-02-02T00:00:00",
          "2020-02-09T00:00:00",
          "2020-02-16T00:00:00",
          "2020-02-23T00:00:00",
          "2020-03-01T00:00:00",
          "2020-03-08T00:00:00",
          "2020-03-15T00:00:00",
          "2020-03-22T00:00:00",
          "2020-03-29T00:00:00",
          "2020-04-05T00:00:00",
          "2020-04-12T00:00:00",
          "2020-04-19T00:00:00",
          "2020-04-26T00:00:00",
          "2020-05-03T00:00:00",
          "2020-05-10T00:00:00",
          "2020-05-17T00:00:00",
          "2020-05-24T00:00:00",
          "2020-05-31T00:00:00",
          "2020-06-07T00:00:00",
          "2020-06-14T00:00:00",
          "2020-06-21T00:00:00",
          "2020-06-28T00:00:00",
          "2020-07-05T00:00:00",
          "2020-07-12T00:00:00",
          "2020-07-19T00:00:00",
          "2020-07-26T00:00:00",
          "2020-08-02T00:00:00",
          "2020-08-09T00:00:00",
          "2020-08-16T00:00:00",
          "2020-08-23T00:00:00",
          "2020-08-30T00:00:00",
          "2020-09-06T00:00:00",
          "2020-09-13T00:00:00",
          "2020-09-20T00:00:00",
          "2020-09-27T00:00:00",
          "2020-10-04T00:00:00",
          "2020-10-11T00:00:00",
          "2020-10-18T00:00:00",
          "2020-10-25T00:00:00",
          "2020-11-01T00:00:00",
          "2020-11-08T00:00:00",
          "2020-11-15T00:00:00",
          "2020-11-22T00:00:00",
          "2020-11-29T00:00:00",
          "2020-12-06T00:00:00",
          "2020-12-13T00:00:00",
          "2020-12-20T00:00:00",
          "2020-12-27T00:00:00",
          "2021-01-03T00:00:00",
          "2021-01-10T00:00:00",
          "2021-01-17T00:00:00",
          "2021-01-24T00:00:00",
          "2021-01-31T00:00:00",
          "2021-02-07T00:00:00",
          "2021-02-14T00:00:00",
          "2021-02-21T00:00:00",
          "2021-02-28T00:00:00",
          "2021-03-07T00:00:00",
          "2021-03-14T00:00:00",
          "2021-03-21T00:00:00",
          "2021-03-28T00:00:00",
          "2021-04-04T00:00:00",
          "2021-04-11T00:00:00",
          "2021-04-18T00:00:00",
          "2021-04-25T00:00:00",
          "2021-05-02T00:00:00",
          "2021-05-09T00:00:00",
          "2021-05-16T00:00:00",
          "2021-05-23T00:00:00",
          "2021-05-30T00:00:00",
          "2021-06-06T00:00:00",
          "2021-06-13T00:00:00",
          "2021-06-20T00:00:00",
          "2021-06-27T00:00:00",
          "2021-07-04T00:00:00"
         ],
         "xaxis": "x",
         "y": [
          9819.464805533813,
          10022.735555571642,
          8403.790670093511,
          9392.631570478861,
          10625.700123527617,
          9294.660789578407,
          9075.230011902766,
          9083.811719959196,
          10970.987913526624,
          8281.442554385432,
          8726.700660869667,
          8658.12520257575,
          7221.451559837691,
          9673.797879663121,
          10747.643750198544,
          8575.900071134885,
          11053.77464171671,
          8917.673397227487,
          13820.073670114853,
          14970.56481359482,
          13880.303029446564,
          13399.788309224534,
          9892.831729761541,
          9556.425328470432,
          12409.487103729947,
          16907.2008798083,
          11269.448577900403,
          12036.751083865469,
          13354.74129693582,
          11487.780386643884,
          10172.277615465648,
          10171.791923116698,
          9879.5734111018,
          9344.403312990557,
          8365.680993062668,
          7452.324624426019,
          7718.885157897339,
          8617.20047449303,
          9613.338701301629,
          7781.865886033269,
          6954.819082516643,
          7295.932792430651,
          8521.448629199927,
          7100.91915496775,
          7291.291434747614,
          7532.671034611876,
          6797.77215153759,
          6790.905651929226,
          5716.14497120552,
          6372.720129916105,
          5578.441518147063,
          5233.594611896912,
          6186.745668649127,
          5910.487208602294,
          7340.026296295831,
          10710.047119973948,
          7731.793109467797,
          7523.0560153536035,
          8132.987976110529,
          9428.4385235459,
          6521.853972238873,
          5899.854940895559,
          6723.231818363474,
          5158.113678530534,
          5058.631809191595,
          5111.139320570753,
          6534.655321813989,
          7998.441536368732,
          7194.472039277918,
          6944.675333970371,
          13899.931337850712,
          15022.29411664553,
          12447.004287441872,
          9275.811909749535,
          8312.681252677105,
          6761.675479214992,
          6799.949272831627,
          6977.21193960741,
          4982.550087338996,
          5793.522365776623,
          4364.822488197928,
          6465.5465400265575,
          10548.191851283527,
          11947.417343467821,
          8700.378127462773,
          9769.790802016969,
          7473.106372002809,
          6184.2799600487215,
          6607.410825490009,
          4999.9265170663475,
          4835.954805865182,
          6196.471254898969,
          5799.566089952486,
          8121.361422103816,
          10235.735448656782,
          11917.929111300695,
          14716.598806807688,
          12713.596808642831,
          15416.123637467592,
          17292.742547020796,
          16559.859458168696,
          14677.687619859786,
          19128.56316977113,
          22075.722161338264,
          31288.800643220147,
          38753.076382253064,
          30316.641790707632,
          23965.89978912757,
          24332.719234406723,
          40605.455645449634,
          48630.1877552482,
          57019.318297355254,
          52753.24320238111,
          41402.09221508818,
          43451.881171044624,
          36146.3787901526,
          39484.74219941781,
          37806.963445310495,
          36655.54054173606,
          40759.94173319709,
          53682.90237366297,
          41062.00587938369,
          39587.76421515152,
          49899.05251996935,
          55734.51595673516,
          42821.587960369,
          36984.901273041134,
          42525.77269688264,
          29618.48097386435,
          39389.94404376947,
          13471.024807980037
         ],
         "yaxis": "y"
        },
        {
         "name": "Bitcoin none",
         "type": "scatter",
         "x": [
          "2019-01-06T00:00:00",
          "2019-01-13T00:00:00",
          "2019-01-20T00:00:00",
          "2019-01-27T00:00:00",
          "2019-02-03T00:00:00",
          "2019-02-10T00:00:00",
          "2019-02-17T00:00:00",
          "2019-02-24T00:00:00",
          "2019-03-03T00:00:00",
          "2019-03-10T00:00:00",
          "2019-03-17T00:00:00",
          "2019-03-24T00:00:00",
          "2019-03-31T00:00:00",
          "2019-04-07T00:00:00",
          "2019-04-14T00:00:00",
          "2019-04-21T00:00:00",
          "2019-04-28T00:00:00",
          "2019-05-05T00:00:00",
          "2019-05-12T00:00:00",
          "2019-05-19T00:00:00",
          "2019-05-26T00:00:00",
          "2019-06-02T00:00:00",
          "2019-06-09T00:00:00",
          "2019-06-16T00:00:00",
          "2019-06-23T00:00:00",
          "2019-06-30T00:00:00",
          "2019-07-07T00:00:00",
          "2019-07-14T00:00:00",
          "2019-07-21T00:00:00",
          "2019-07-28T00:00:00",
          "2019-08-04T00:00:00",
          "2019-08-11T00:00:00",
          "2019-08-18T00:00:00",
          "2019-08-25T00:00:00",
          "2019-09-01T00:00:00",
          "2019-09-08T00:00:00",
          "2019-09-15T00:00:00",
          "2019-09-22T00:00:00",
          "2019-09-29T00:00:00",
          "2019-10-06T00:00:00",
          "2019-10-13T00:00:00",
          "2019-10-20T00:00:00",
          "2019-10-27T00:00:00",
          "2019-11-03T00:00:00",
          "2019-11-10T00:00:00",
          "2019-11-17T00:00:00",
          "2019-11-24T00:00:00",
          "2019-12-01T00:00:00",
          "2019-12-08T00:00:00",
          "2019-12-15T00:00:00",
          "2019-12-22T00:00:00",
          "2019-12-29T00:00:00",
          "2020-01-05T00:00:00",
          "2020-01-12T00:00:00",
          "2020-01-19T00:00:00",
          "2020-01-26T00:00:00",
          "2020-02-02T00:00:00",
          "2020-02-09T00:00:00",
          "2020-02-16T00:00:00",
          "2020-02-23T00:00:00",
          "2020-03-01T00:00:00",
          "2020-03-08T00:00:00",
          "2020-03-15T00:00:00",
          "2020-03-22T00:00:00",
          "2020-03-29T00:00:00",
          "2020-04-05T00:00:00",
          "2020-04-12T00:00:00",
          "2020-04-19T00:00:00",
          "2020-04-26T00:00:00",
          "2020-05-03T00:00:00",
          "2020-05-10T00:00:00",
          "2020-05-17T00:00:00",
          "2020-05-24T00:00:00",
          "2020-05-31T00:00:00",
          "2020-06-07T00:00:00",
          "2020-06-14T00:00:00",
          "2020-06-21T00:00:00",
          "2020-06-28T00:00:00",
          "2020-07-05T00:00:00",
          "2020-07-12T00:00:00",
          "2020-07-19T00:00:00",
          "2020-07-26T00:00:00",
          "2020-08-02T00:00:00",
          "2020-08-09T00:00:00",
          "2020-08-16T00:00:00",
          "2020-08-23T00:00:00",
          "2020-08-30T00:00:00",
          "2020-09-06T00:00:00",
          "2020-09-13T00:00:00",
          "2020-09-20T00:00:00",
          "2020-09-27T00:00:00",
          "2020-10-04T00:00:00",
          "2020-10-11T00:00:00",
          "2020-10-18T00:00:00",
          "2020-10-25T00:00:00",
          "2020-11-01T00:00:00",
          "2020-11-08T00:00:00",
          "2020-11-15T00:00:00",
          "2020-11-22T00:00:00",
          "2020-11-29T00:00:00",
          "2020-12-06T00:00:00",
          "2020-12-13T00:00:00",
          "2020-12-20T00:00:00",
          "2020-12-27T00:00:00",
          "2021-01-03T00:00:00",
          "2021-01-10T00:00:00",
          "2021-01-17T00:00:00",
          "2021-01-24T00:00:00",
          "2021-01-31T00:00:00",
          "2021-02-07T00:00:00",
          "2021-02-14T00:00:00",
          "2021-02-21T00:00:00",
          "2021-02-28T00:00:00",
          "2021-03-07T00:00:00",
          "2021-03-14T00:00:00",
          "2021-03-21T00:00:00",
          "2021-03-28T00:00:00",
          "2021-04-04T00:00:00",
          "2021-04-11T00:00:00",
          "2021-04-18T00:00:00",
          "2021-04-25T00:00:00",
          "2021-05-02T00:00:00",
          "2021-05-09T00:00:00",
          "2021-05-16T00:00:00",
          "2021-05-23T00:00:00",
          "2021-05-30T00:00:00",
          "2021-06-06T00:00:00",
          "2021-06-13T00:00:00",
          "2021-06-20T00:00:00",
          "2021-06-27T00:00:00",
          "2021-07-04T00:00:00"
         ],
         "xaxis": "x",
         "y": [
          3805.260729166667,
          3813.382083333333,
          3616.7462202380952,
          3554.5090476190476,
          3422.913154761905,
          3462.993125,
          3581.170535714286,
          3909.8271428571425,
          3801.3500297619053,
          3834.174255952381,
          3889.640803571429,
          3981.9653273809527,
          4011.3726646706587,
          4833.491130952381,
          5151.41375,
          5220.851785714285,
          5321.454910714286,
          5429.014702380952,
          6219.6918749999995,
          7685.2333928571425,
          7935.372202380952,
          8619.839761904763,
          7950.120059523809,
          8282.939226190476,
          9710.14130952381,
          11656.050773809524,
          11127.459345238094,
          11777.34880952381,
          10303.534523809523,
          9902.797351190477,
          10136.80693452381,
          11665.536904761904,
          10554.014672619049,
          10305.65443452381,
          9835.974285714285,
          10439.815982142856,
          10254.013958333333,
          10121.966458333332,
          8629.026101190477,
          8170.288095238095,
          8316.394851190476,
          8088.492202380952,
          8311.406005917159,
          9269.23994047619,
          9121.785089285715,
          8639.946369047619,
          7747.001517857144,
          7355.291547619047,
          7380.725208333333,
          7233.8413988095235,
          7037.001785714286,
          7295.783184523809,
          7248.389494047619,
          7952.399613095238,
          8665.753898809524,
          8503.130416666667,
          9216.715803571427,
          9607.272291666668,
          10114.692470238095,
          9778.466607142856,
          9005.88755952381,
          8864.669017857143,
          6637.659613095238,
          5715.041726190476,
          6446.967754491018,
          6581.054345238096,
          7111.724226190476,
          6960.823244047619,
          7263.17011904762,
          8442.535714285714,
          9237.683333333334,
          9221.078988095238,
          9401.208154761905,
          9212.727767857144,
          9665.538720238095,
          9589.515595238096,
          9364.123035714285,
          9305.651964285715,
          9124.339107142858,
          9261.47074404762,
          9186.658630952381,
          9478.855386904763,
          11078.362857142856,
          11528.964791666667,
          11712.629375,
          11820.422351190477,
          11505.929672619048,
          11017.943958333333,
          10270.983482142858,
          10840.056071428571,
          10589.721339285714,
          10683.854761904762,
          10910.85244047619,
          11406.081220238095,
          12529.92328402367,
          13441.051666666668,
          14547.456904761904,
          15786.397708333334,
          17785.528095238096,
          17997.37767857143,
          19082.72970238095,
          18602.204791666667,
          21546.17238095238,
          24174.762589285714,
          29094.087529761906,
          36634.221398809525,
          36016.94970238095,
          33930.94976190476,
          32973.43339285714,
          36909.45160714286,
          46135.254166666666,
          52201.88059523809,
          48896.181398809524,
          48864.38732142857,
          56007.03449404762,
          57391.36776785714,
          54702.120389221556,
          58341.75220238095,
          58330.312738095236,
          61132.51720238096,
          53041.60970238095,
          55084.87651785715,
          57030.760059523804,
          52420.62116071429,
          39978.85776785714,
          37207.97473214286,
          36885.195297619044,
          35639.86130952381,
          38002.187946428574,
          32958.23788690476,
          34962.35965277778
         ],
         "yaxis": "y2"
        }
       ],
       "layout": {
        "template": {
         "data": {
          "bar": [
           {
            "error_x": {
             "color": "#2a3f5f"
            },
            "error_y": {
             "color": "#2a3f5f"
            },
            "marker": {
             "line": {
              "color": "#E5ECF6",
              "width": 0.5
             },
             "pattern": {
              "fillmode": "overlay",
              "size": 10,
              "solidity": 0.2
             }
            },
            "type": "bar"
           }
          ],
          "barpolar": [
           {
            "marker": {
             "line": {
              "color": "#E5ECF6",
              "width": 0.5
             },
             "pattern": {
              "fillmode": "overlay",
              "size": 10,
              "solidity": 0.2
             }
            },
            "type": "barpolar"
           }
          ],
          "carpet": [
           {
            "aaxis": {
             "endlinecolor": "#2a3f5f",
             "gridcolor": "white",
             "linecolor": "white",
             "minorgridcolor": "white",
             "startlinecolor": "#2a3f5f"
            },
            "baxis": {
             "endlinecolor": "#2a3f5f",
             "gridcolor": "white",
             "linecolor": "white",
             "minorgridcolor": "white",
             "startlinecolor": "#2a3f5f"
            },
            "type": "carpet"
           }
          ],
          "choropleth": [
           {
            "colorbar": {
             "outlinewidth": 0,
             "ticks": ""
            },
            "type": "choropleth"
           }
          ],
          "contour": [
           {
            "colorbar": {
             "outlinewidth": 0,
             "ticks": ""
            },
            "colorscale": [
             [
              0,
              "#0d0887"
             ],
             [
              0.1111111111111111,
              "#46039f"
             ],
             [
              0.2222222222222222,
              "#7201a8"
             ],
             [
              0.3333333333333333,
              "#9c179e"
             ],
             [
              0.4444444444444444,
              "#bd3786"
             ],
             [
              0.5555555555555556,
              "#d8576b"
             ],
             [
              0.6666666666666666,
              "#ed7953"
             ],
             [
              0.7777777777777778,
              "#fb9f3a"
             ],
             [
              0.8888888888888888,
              "#fdca26"
             ],
             [
              1,
              "#f0f921"
             ]
            ],
            "type": "contour"
           }
          ],
          "contourcarpet": [
           {
            "colorbar": {
             "outlinewidth": 0,
             "ticks": ""
            },
            "type": "contourcarpet"
           }
          ],
          "heatmap": [
           {
            "colorbar": {
             "outlinewidth": 0,
             "ticks": ""
            },
            "colorscale": [
             [
              0,
              "#0d0887"
             ],
             [
              0.1111111111111111,
              "#46039f"
             ],
             [
              0.2222222222222222,
              "#7201a8"
             ],
             [
              0.3333333333333333,
              "#9c179e"
             ],
             [
              0.4444444444444444,
              "#bd3786"
             ],
             [
              0.5555555555555556,
              "#d8576b"
             ],
             [
              0.6666666666666666,
              "#ed7953"
             ],
             [
              0.7777777777777778,
              "#fb9f3a"
             ],
             [
              0.8888888888888888,
              "#fdca26"
             ],
             [
              1,
              "#f0f921"
             ]
            ],
            "type": "heatmap"
           }
          ],
          "heatmapgl": [
           {
            "colorbar": {
             "outlinewidth": 0,
             "ticks": ""
            },
            "colorscale": [
             [
              0,
              "#0d0887"
             ],
             [
              0.1111111111111111,
              "#46039f"
             ],
             [
              0.2222222222222222,
              "#7201a8"
             ],
             [
              0.3333333333333333,
              "#9c179e"
             ],
             [
              0.4444444444444444,
              "#bd3786"
             ],
             [
              0.5555555555555556,
              "#d8576b"
             ],
             [
              0.6666666666666666,
              "#ed7953"
             ],
             [
              0.7777777777777778,
              "#fb9f3a"
             ],
             [
              0.8888888888888888,
              "#fdca26"
             ],
             [
              1,
              "#f0f921"
             ]
            ],
            "type": "heatmapgl"
           }
          ],
          "histogram": [
           {
            "marker": {
             "pattern": {
              "fillmode": "overlay",
              "size": 10,
              "solidity": 0.2
             }
            },
            "type": "histogram"
           }
          ],
          "histogram2d": [
           {
            "colorbar": {
             "outlinewidth": 0,
             "ticks": ""
            },
            "colorscale": [
             [
              0,
              "#0d0887"
             ],
             [
              0.1111111111111111,
              "#46039f"
             ],
             [
              0.2222222222222222,
              "#7201a8"
             ],
             [
              0.3333333333333333,
              "#9c179e"
             ],
             [
              0.4444444444444444,
              "#bd3786"
             ],
             [
              0.5555555555555556,
              "#d8576b"
             ],
             [
              0.6666666666666666,
              "#ed7953"
             ],
             [
              0.7777777777777778,
              "#fb9f3a"
             ],
             [
              0.8888888888888888,
              "#fdca26"
             ],
             [
              1,
              "#f0f921"
             ]
            ],
            "type": "histogram2d"
           }
          ],
          "histogram2dcontour": [
           {
            "colorbar": {
             "outlinewidth": 0,
             "ticks": ""
            },
            "colorscale": [
             [
              0,
              "#0d0887"
             ],
             [
              0.1111111111111111,
              "#46039f"
             ],
             [
              0.2222222222222222,
              "#7201a8"
             ],
             [
              0.3333333333333333,
              "#9c179e"
             ],
             [
              0.4444444444444444,
              "#bd3786"
             ],
             [
              0.5555555555555556,
              "#d8576b"
             ],
             [
              0.6666666666666666,
              "#ed7953"
             ],
             [
              0.7777777777777778,
              "#fb9f3a"
             ],
             [
              0.8888888888888888,
              "#fdca26"
             ],
             [
              1,
              "#f0f921"
             ]
            ],
            "type": "histogram2dcontour"
           }
          ],
          "mesh3d": [
           {
            "colorbar": {
             "outlinewidth": 0,
             "ticks": ""
            },
            "type": "mesh3d"
           }
          ],
          "parcoords": [
           {
            "line": {
             "colorbar": {
              "outlinewidth": 0,
              "ticks": ""
             }
            },
            "type": "parcoords"
           }
          ],
          "pie": [
           {
            "automargin": true,
            "type": "pie"
           }
          ],
          "scatter": [
           {
            "marker": {
             "colorbar": {
              "outlinewidth": 0,
              "ticks": ""
             }
            },
            "type": "scatter"
           }
          ],
          "scatter3d": [
           {
            "line": {
             "colorbar": {
              "outlinewidth": 0,
              "ticks": ""
             }
            },
            "marker": {
             "colorbar": {
              "outlinewidth": 0,
              "ticks": ""
             }
            },
            "type": "scatter3d"
           }
          ],
          "scattercarpet": [
           {
            "marker": {
             "colorbar": {
              "outlinewidth": 0,
              "ticks": ""
             }
            },
            "type": "scattercarpet"
           }
          ],
          "scattergeo": [
           {
            "marker": {
             "colorbar": {
              "outlinewidth": 0,
              "ticks": ""
             }
            },
            "type": "scattergeo"
           }
          ],
          "scattergl": [
           {
            "marker": {
             "colorbar": {
              "outlinewidth": 0,
              "ticks": ""
             }
            },
            "type": "scattergl"
           }
          ],
          "scattermapbox": [
           {
            "marker": {
             "colorbar": {
              "outlinewidth": 0,
              "ticks": ""
             }
            },
            "type": "scattermapbox"
           }
          ],
          "scatterpolar": [
           {
            "marker": {
             "colorbar": {
              "outlinewidth": 0,
              "ticks": ""
             }
            },
            "type": "scatterpolar"
           }
          ],
          "scatterpolargl": [
           {
            "marker": {
             "colorbar": {
              "outlinewidth": 0,
              "ticks": ""
             }
            },
            "type": "scatterpolargl"
           }
          ],
          "scatterternary": [
           {
            "marker": {
             "colorbar": {
              "outlinewidth": 0,
              "ticks": ""
             }
            },
            "type": "scatterternary"
           }
          ],
          "surface": [
           {
            "colorbar": {
             "outlinewidth": 0,
             "ticks": ""
            },
            "colorscale": [
             [
              0,
              "#0d0887"
             ],
             [
              0.1111111111111111,
              "#46039f"
             ],
             [
              0.2222222222222222,
              "#7201a8"
             ],
             [
              0.3333333333333333,
              "#9c179e"
             ],
             [
              0.4444444444444444,
              "#bd3786"
             ],
             [
              0.5555555555555556,
              "#d8576b"
             ],
             [
              0.6666666666666666,
              "#ed7953"
             ],
             [
              0.7777777777777778,
              "#fb9f3a"
             ],
             [
              0.8888888888888888,
              "#fdca26"
             ],
             [
              1,
              "#f0f921"
             ]
            ],
            "type": "surface"
           }
          ],
          "table": [
           {
            "cells": {
             "fill": {
              "color": "#EBF0F8"
             },
             "line": {
              "color": "white"
             }
            },
            "header": {
             "fill": {
              "color": "#C8D4E3"
             },
             "line": {
              "color": "white"
             }
            },
            "type": "table"
           }
          ]
         },
         "layout": {
          "annotationdefaults": {
           "arrowcolor": "#2a3f5f",
           "arrowhead": 0,
           "arrowwidth": 1
          },
          "autotypenumbers": "strict",
          "coloraxis": {
           "colorbar": {
            "outlinewidth": 0,
            "ticks": ""
           }
          },
          "colorscale": {
           "diverging": [
            [
             0,
             "#8e0152"
            ],
            [
             0.1,
             "#c51b7d"
            ],
            [
             0.2,
             "#de77ae"
            ],
            [
             0.3,
             "#f1b6da"
            ],
            [
             0.4,
             "#fde0ef"
            ],
            [
             0.5,
             "#f7f7f7"
            ],
            [
             0.6,
             "#e6f5d0"
            ],
            [
             0.7,
             "#b8e186"
            ],
            [
             0.8,
             "#7fbc41"
            ],
            [
             0.9,
             "#4d9221"
            ],
            [
             1,
             "#276419"
            ]
           ],
           "sequential": [
            [
             0,
             "#0d0887"
            ],
            [
             0.1111111111111111,
             "#46039f"
            ],
            [
             0.2222222222222222,
             "#7201a8"
            ],
            [
             0.3333333333333333,
             "#9c179e"
            ],
            [
             0.4444444444444444,
             "#bd3786"
            ],
            [
             0.5555555555555556,
             "#d8576b"
            ],
            [
             0.6666666666666666,
             "#ed7953"
            ],
            [
             0.7777777777777778,
             "#fb9f3a"
            ],
            [
             0.8888888888888888,
             "#fdca26"
            ],
            [
             1,
             "#f0f921"
            ]
           ],
           "sequentialminus": [
            [
             0,
             "#0d0887"
            ],
            [
             0.1111111111111111,
             "#46039f"
            ],
            [
             0.2222222222222222,
             "#7201a8"
            ],
            [
             0.3333333333333333,
             "#9c179e"
            ],
            [
             0.4444444444444444,
             "#bd3786"
            ],
            [
             0.5555555555555556,
             "#d8576b"
            ],
            [
             0.6666666666666666,
             "#ed7953"
            ],
            [
             0.7777777777777778,
             "#fb9f3a"
            ],
            [
             0.8888888888888888,
             "#fdca26"
            ],
            [
             1,
             "#f0f921"
            ]
           ]
          },
          "colorway": [
           "#636efa",
           "#EF553B",
           "#00cc96",
           "#ab63fa",
           "#FFA15A",
           "#19d3f3",
           "#FF6692",
           "#B6E880",
           "#FF97FF",
           "#FECB52"
          ],
          "font": {
           "color": "#2a3f5f"
          },
          "geo": {
           "bgcolor": "white",
           "lakecolor": "white",
           "landcolor": "#E5ECF6",
           "showlakes": true,
           "showland": true,
           "subunitcolor": "white"
          },
          "hoverlabel": {
           "align": "left"
          },
          "hovermode": "closest",
          "mapbox": {
           "style": "light"
          },
          "paper_bgcolor": "white",
          "plot_bgcolor": "#E5ECF6",
          "polar": {
           "angularaxis": {
            "gridcolor": "white",
            "linecolor": "white",
            "ticks": ""
           },
           "bgcolor": "#E5ECF6",
           "radialaxis": {
            "gridcolor": "white",
            "linecolor": "white",
            "ticks": ""
           }
          },
          "scene": {
           "xaxis": {
            "backgroundcolor": "#E5ECF6",
            "gridcolor": "white",
            "gridwidth": 2,
            "linecolor": "white",
            "showbackground": true,
            "ticks": "",
            "zerolinecolor": "white"
           },
           "yaxis": {
            "backgroundcolor": "#E5ECF6",
            "gridcolor": "white",
            "gridwidth": 2,
            "linecolor": "white",
            "showbackground": true,
            "ticks": "",
            "zerolinecolor": "white"
           },
           "zaxis": {
            "backgroundcolor": "#E5ECF6",
            "gridcolor": "white",
            "gridwidth": 2,
            "linecolor": "white",
            "showbackground": true,
            "ticks": "",
            "zerolinecolor": "white"
           }
          },
          "shapedefaults": {
           "line": {
            "color": "#2a3f5f"
           }
          },
          "ternary": {
           "aaxis": {
            "gridcolor": "white",
            "linecolor": "white",
            "ticks": ""
           },
           "baxis": {
            "gridcolor": "white",
            "linecolor": "white",
            "ticks": ""
           },
           "bgcolor": "#E5ECF6",
           "caxis": {
            "gridcolor": "white",
            "linecolor": "white",
            "ticks": ""
           }
          },
          "title": {
           "x": 0.05
          },
          "xaxis": {
           "automargin": true,
           "gridcolor": "white",
           "linecolor": "white",
           "ticks": "",
           "title": {
            "standoff": 15
           },
           "zerolinecolor": "white",
           "zerolinewidth": 2
          },
          "yaxis": {
           "automargin": true,
           "gridcolor": "white",
           "linecolor": "white",
           "ticks": "",
           "title": {
            "standoff": 15
           },
           "zerolinecolor": "white",
           "zerolinewidth": 2
          }
         }
        },
        "title": {
         "text": "BTC vs Sentiment - Resample (w)"
        },
        "xaxis": {
         "anchor": "y",
         "domain": [
          0,
          0.94
         ],
         "title": {
          "text": "Date"
         }
        },
        "yaxis": {
         "anchor": "x",
         "domain": [
          0,
          1
         ],
         "title": {
          "text": "<b>Sentiment  </b>"
         }
        },
        "yaxis2": {
         "anchor": "x",
         "overlaying": "y",
         "side": "right",
         "title": {
          "text": "<b>BTC Price none</b>"
         }
        }
       }
      }
     },
     "metadata": {},
     "output_type": "display_data"
    }
   ],
   "source": [
    "eval.get_ts_2axis(a.sent_ntusd_coms,btc.avg_hl,resample_period='w',btc_transformation='none')"
   ]
  },
  {
   "cell_type": "code",
   "execution_count": 9,
   "metadata": {},
   "outputs": [
    {
     "data": {
      "text/plain": [
       "created\n",
       "2019-01-01 01:08:11          NaN\n",
       "2019-01-01 02:06:30     0.420952\n",
       "2019-01-01 04:38:31   -36.180699\n",
       "2019-01-01 05:07:06    -1.044472\n",
       "2019-01-01 05:38:19    -7.101778\n",
       "                         ...    \n",
       "2021-06-30 21:24:18    -1.171776\n",
       "2021-06-30 22:50:22   -42.600215\n",
       "2021-06-30 23:14:20    -0.259814\n",
       "2021-06-30 23:31:42     3.149646\n",
       "2021-06-30 23:45:13    -0.961725\n",
       "Name: sent_ntusd, Length: 54076, dtype: float64"
      ]
     },
     "execution_count": 9,
     "metadata": {},
     "output_type": "execute_result"
    }
   ],
   "source": [
    "a.sent_ntusd.pct_change()"
   ]
  },
  {
   "cell_type": "code",
   "execution_count": null,
   "metadata": {},
   "outputs": [],
   "source": []
  },
  {
   "cell_type": "code",
   "execution_count": null,
   "metadata": {},
   "outputs": [],
   "source": []
  },
  {
   "cell_type": "code",
   "execution_count": null,
   "metadata": {},
   "outputs": [],
   "source": []
  },
  {
   "cell_type": "code",
   "execution_count": null,
   "metadata": {},
   "outputs": [],
   "source": []
  },
  {
   "cell_type": "code",
   "execution_count": null,
   "metadata": {},
   "outputs": [],
   "source": []
  }
 ],
 "metadata": {
  "interpreter": {
   "hash": "a6a48a25ace32036d94e833d4fc37126f6b59c1fba1eead68c54149d06650627"
  },
  "kernelspec": {
   "display_name": "Python 3.7.11 64-bit ('CryptoSent': conda)",
   "language": "python",
   "name": "python3"
  },
  "language_info": {
   "codemirror_mode": {
    "name": "ipython",
    "version": 3
   },
   "file_extension": ".py",
   "mimetype": "text/x-python",
   "name": "python",
   "nbconvert_exporter": "python",
   "pygments_lexer": "ipython3",
   "version": "3.7.11"
  },
  "orig_nbformat": 4
 },
 "nbformat": 4,
 "nbformat_minor": 2
}
