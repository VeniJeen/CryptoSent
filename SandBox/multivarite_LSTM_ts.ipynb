{
 "cells": [
  {
   "cell_type": "code",
   "execution_count": 3,
   "metadata": {},
   "outputs": [],
   "source": [
    "import pandas as pd\n",
    "sent=pd.read_pickle(r'C:\\Users\\Ben\\Desktop\\Diplomatiki\\CryptoSent\\Datasets\\Datasets Heisenberg\\submissions_heisenberg.pickle')"
   ]
  },
  {
   "cell_type": "code",
   "execution_count": 4,
   "metadata": {},
   "outputs": [],
   "source": [
    "import pandas as pd\n",
    "import numpy as np\n",
    "import tensorflow as tf\n",
    "from sklearn import preprocessing\n",
    "import matplotlib.pyplot as plt\n",
    "tf.random.set_seed(123)\n",
    "np.random.seed(123)"
   ]
  },
  {
   "cell_type": "code",
   "execution_count": 5,
   "metadata": {},
   "outputs": [
    {
     "name": "stderr",
     "output_type": "stream",
     "text": [
      "100%|██████████| 30907/30907 [00:00<00:00, 131837.55it/s]\n"
     ]
    }
   ],
   "source": [
    "from tqdm import tqdm\n",
    "import datetime\n",
    "tqdm.pandas()\n",
    "#connect local PATH\n",
    "p = os.path.abspath(r'C:\\Users\\Ben\\Desktop\\Diplomatiki')\n",
    "sys.path.append(str(p))\n",
    "from CryptoSent.tools.crypto_coin_actual import get_btc_actual_hourly\n",
    "from CryptoSent.tools import evaluation as eval\n",
    "btc=get_btc_actual_hourly()\n"
   ]
  },
  {
   "cell_type": "code",
   "execution_count": 6,
   "metadata": {},
   "outputs": [],
   "source": [
    "def result_processing(sentiment,coin_price,resample_period='d'):\n",
    "    sdmin=datetime.datetime.strftime(sentiment.index.min(),'%Y-%m-%d')\n",
    "    sdmax=datetime.datetime.strftime(sentiment.index.max(),'%Y-%m-%d')\n",
    "    sent=sentiment.resample(resample_period).sum()\n",
    "    btc=coin_price[sdmin:sdmax].resample(resample_period).mean()\n",
    "    merres=pd.concat([sent,btc],axis=1)\n",
    "    merres.loc[:,'avg_hl_diff']=merres.avg_hl.diff()\n",
    "    merres.loc[:,'avg_hl_pct_change']=merres.avg_hl.pct_change()\n",
    "    merres.loc[:,'sent_db_shift']=sent.shift(1)\n",
    "    merres.loc[:,'sent_db_ptc_change']=sent.pct_change()\n",
    "    return merres"
   ]
  },
  {
   "cell_type": "code",
   "execution_count": 652,
   "metadata": {},
   "outputs": [],
   "source": [
    "merres=result_processing(sent.polarity_lr,btc.avg_hl,resample_period='d')"
   ]
  },
  {
   "cell_type": "code",
   "execution_count": 653,
   "metadata": {},
   "outputs": [],
   "source": [
    "merres=merres[['polarity_lr','avg_hl']]"
   ]
  },
  {
   "cell_type": "code",
   "execution_count": 654,
   "metadata": {},
   "outputs": [],
   "source": [
    "ft_pred=2\n",
    "validate_merres=merres.tail(ft_pred)\n",
    "merres.drop(merres.tail(ft_pred).index,inplace=True)"
   ]
  },
  {
   "cell_type": "code",
   "execution_count": 655,
   "metadata": {},
   "outputs": [],
   "source": [
    "def custom_ts_multi_data_prep(dataset, target, start, end, window, horizon):\n",
    "    X = []\n",
    "    y = []\n",
    "    start = start + window\n",
    "    if end is None:\n",
    "        end = len(dataset) - horizon\n",
    "\n",
    "    for i in range(start, end):\n",
    "        indices = range(i-window, i)\n",
    "        X.append(dataset[indices])\n",
    "\n",
    "        indicey = range(i+1, i+1+horizon)\n",
    "        y.append(target[indicey])\n",
    "    return np.array(X), np.array(y)"
   ]
  },
  {
   "cell_type": "code",
   "execution_count": 656,
   "metadata": {},
   "outputs": [],
   "source": [
    "# between 0-1 scaller\n",
    "x_scaler = preprocessing.MinMaxScaler()\n",
    "y_scaler = preprocessing.MinMaxScaler()\n",
    "dataX = x_scaler.fit_transform(merres)\n",
    "dataY = y_scaler.fit_transform(merres[['avg_hl']])"
   ]
  },
  {
   "cell_type": "code",
   "execution_count": 657,
   "metadata": {},
   "outputs": [],
   "source": [
    "hist_window = 4\n",
    "horizon = ft_pred\n",
    "TRAIN_SPLIT = 600\n",
    "x_train_multi, y_train_multi = custom_ts_multi_data_prep(\n",
    "    dataX, dataY, 0, TRAIN_SPLIT, hist_window, horizon)\n",
    "x_val_multi, y_val_multi = custom_ts_multi_data_prep(\n",
    "    dataX, dataY, TRAIN_SPLIT, None, hist_window, horizon)"
   ]
  },
  {
   "cell_type": "code",
   "execution_count": 658,
   "metadata": {},
   "outputs": [
    {
     "name": "stdout",
     "output_type": "stream",
     "text": [
      "Single window of past history\n",
      "[[0.08724079 0.00548642]\n",
      " [0.14039222 0.00755319]\n",
      " [0.14307451 0.00776896]\n",
      " [0.15459315 0.00695643]]\n",
      "\n",
      " Target horizon\n",
      "[[0.00823971]\n",
      " [0.0109329 ]]\n"
     ]
    }
   ],
   "source": [
    "print ('Single window of past history')\n",
    "print(x_train_multi[0])\n",
    "print ('\\n Target horizon')\n",
    "print (y_train_multi[0])"
   ]
  },
  {
   "cell_type": "code",
   "execution_count": 659,
   "metadata": {},
   "outputs": [],
   "source": [
    "BATCH_SIZE = 256\n",
    "BUFFER_SIZE = 150\n",
    "\n",
    "train_data_multi = tf.data.Dataset.from_tensor_slices((x_train_multi, y_train_multi))\n",
    "train_data_multi = train_data_multi.cache().shuffle(BUFFER_SIZE).batch(BATCH_SIZE).repeat()\n",
    "\n",
    "val_data_multi = tf.data.Dataset.from_tensor_slices((x_val_multi, y_val_multi))\n",
    "val_data_multi = val_data_multi.batch(BATCH_SIZE).repeat()"
   ]
  },
  {
   "cell_type": "code",
   "execution_count": 660,
   "metadata": {},
   "outputs": [],
   "source": [
    "Bi_lstm_model = tf.keras.models.Sequential([\n",
    "    tf.keras.layers.Bidirectional(tf.keras.layers.LSTM(10, return_sequences=False), \n",
    "                               input_shape=x_train_multi.shape[-2:]),\n",
    "    #tf.keras.layers.Bidirectional(tf.keras.layers.LSTM(5)),\n",
    "    #tf.keras.layers.Dense(5, activation='tanh'),\n",
    "    tf.keras.layers.Dropout(0.2),\n",
    "    tf.keras.layers.LayerNormalization(),\n",
    "    #tf.keras.layers.MaxPool2D(pool_size=(2, 2),strides=(1, 1), padding='valid'),\n",
    "    tf.keras.layers.Dense(units=horizon),\n",
    "])\n",
    "Bi_lstm_model.compile(optimizer='adam', loss='mse')"
   ]
  },
  {
   "cell_type": "code",
   "execution_count": 661,
   "metadata": {},
   "outputs": [
    {
     "data": {
      "text/plain": [
       "(4, 2)"
      ]
     },
     "execution_count": 661,
     "metadata": {},
     "output_type": "execute_result"
    }
   ],
   "source": [
    "x_train_multi.shape[-2:]"
   ]
  },
  {
   "cell_type": "code",
   "execution_count": 662,
   "metadata": {},
   "outputs": [],
   "source": [
    "model_path = r'C:\\Users\\Ben\\Desktop\\Diplomatiki\\CryptoSent\\Papers\\hands-on-time-series-analylsis-python-master\\Chapter 7\\Bidirectional_LSTM_Multivariate.h5'"
   ]
  },
  {
   "cell_type": "code",
   "execution_count": 663,
   "metadata": {},
   "outputs": [
    {
     "name": "stdout",
     "output_type": "stream",
     "text": [
      "Epoch 1/20\n",
      "200/200 [==============================] - 2s 8ms/step - loss: 0.0269 - val_loss: 0.1403\n",
      "Epoch 2/20\n",
      "200/200 [==============================] - 1s 4ms/step - loss: 0.0061 - val_loss: 0.1203\n",
      "Epoch 3/20\n",
      "200/200 [==============================] - 1s 4ms/step - loss: 0.0035 - val_loss: 0.1097\n",
      "Epoch 4/20\n",
      "200/200 [==============================] - 1s 5ms/step - loss: 0.0023 - val_loss: 0.1036\n",
      "Epoch 5/20\n",
      "200/200 [==============================] - 1s 4ms/step - loss: 0.0015 - val_loss: 0.1049\n",
      "Epoch 6/20\n",
      "200/200 [==============================] - 1s 5ms/step - loss: 0.0011 - val_loss: 0.1059\n",
      "Epoch 7/20\n",
      "200/200 [==============================] - 1s 4ms/step - loss: 8.0711e-04 - val_loss: 0.1091\n",
      "Epoch 8/20\n",
      "200/200 [==============================] - 1s 4ms/step - loss: 6.1839e-04 - val_loss: 0.1075\n",
      "Epoch 9/20\n",
      "200/200 [==============================] - 1s 4ms/step - loss: 4.8081e-04 - val_loss: 0.1144\n",
      "Epoch 10/20\n",
      "200/200 [==============================] - 1s 4ms/step - loss: 3.9186e-04 - val_loss: 0.1148\n",
      "Epoch 11/20\n",
      "200/200 [==============================] - 1s 4ms/step - loss: 3.2203e-04 - val_loss: 0.1167\n",
      "Epoch 12/20\n",
      "200/200 [==============================] - 1s 4ms/step - loss: 2.7282e-04 - val_loss: 0.1166\n",
      "Epoch 13/20\n",
      "200/200 [==============================] - 1s 4ms/step - loss: 2.3649e-04 - val_loss: 0.1187\n",
      "Epoch 14/20\n",
      "200/200 [==============================] - 1s 4ms/step - loss: 2.0744e-04 - val_loss: 0.1178\n",
      "Epoch 00014: early stopping\n"
     ]
    }
   ],
   "source": [
    "EVALUATION_INTERVAL = 200\n",
    "EPOCHS = 20\n",
    "history = Bi_lstm_model.fit(train_data_multi, epochs=EPOCHS, steps_per_epoch=EVALUATION_INTERVAL, validation_data=val_data_multi, \n",
    "validation_steps=50, verbose=1,callbacks=[tf.keras.callbacks.EarlyStopping(monitor='val_loss', min_delta=0, patience=10, verbose=1, mode='min'), \n",
    "tf.keras.callbacks.ModelCheckpoint(model_path, monitor='val_loss', save_best_only=True, mode='min', verbose=0)])\n"
   ]
  },
  {
   "cell_type": "code",
   "execution_count": 664,
   "metadata": {},
   "outputs": [],
   "source": [
    "Trained_model = tf.keras.models.load_model(model_path)"
   ]
  },
  {
   "cell_type": "code",
   "execution_count": 665,
   "metadata": {},
   "outputs": [
    {
     "name": "stdout",
     "output_type": "stream",
     "text": [
      "Model: \"sequential_37\"\n",
      "_________________________________________________________________\n",
      "Layer (type)                 Output Shape              Param #   \n",
      "=================================================================\n",
      "bidirectional_57 (Bidirectio (None, 20)                1040      \n",
      "_________________________________________________________________\n",
      "dropout_37 (Dropout)         (None, 20)                0         \n",
      "_________________________________________________________________\n",
      "layer_normalization_7 (Layer (None, 20)                40        \n",
      "_________________________________________________________________\n",
      "dense_59 (Dense)             (None, 2)                 42        \n",
      "=================================================================\n",
      "Total params: 1,122\n",
      "Trainable params: 1,122\n",
      "Non-trainable params: 0\n",
      "_________________________________________________________________\n"
     ]
    }
   ],
   "source": [
    "Trained_model.summary()\n"
   ]
  },
  {
   "cell_type": "code",
   "execution_count": 666,
   "metadata": {},
   "outputs": [
    {
     "data": {
      "image/png": "[encoded data removed]",
      "text/plain": [
       "<Figure size 1152x648 with 1 Axes>"
      ]
     },
     "metadata": {
      "needs_background": "light"
     },
     "output_type": "display_data"
    }
   ],
   "source": [
    "plt.plot(history.history['loss'])\n",
    "plt.plot(history.history['val_loss'])\n",
    "plt.title('Model loss')\n",
    "plt.ylabel('loss')\n",
    "plt.xlabel('epoch')\n",
    "plt.legend(['train loss', 'validation loss'], loc='upper left')\n",
    "plt.rcParams[\"figure.figsize\"] = [16,9]\n",
    "plt.show()"
   ]
  },
  {
   "cell_type": "code",
   "execution_count": 667,
   "metadata": {},
   "outputs": [
    {
     "name": "stdout",
     "output_type": "stream",
     "text": [
      "WARNING:tensorflow:11 out of the last 11 calls to <function Model.make_predict_function.<locals>.predict_function at 0x000002F7935EC9D8> triggered tf.function retracing. Tracing is expensive and the excessive number of tracings could be due to (1) creating @tf.function repeatedly in a loop, (2) passing tensors with different shapes, (3) passing Python objects instead of tensors. For (1), please define your @tf.function outside of the loop. For (2), @tf.function has experimental_relax_shapes=True option that relaxes argument shapes that can avoid unnecessary retracing. For (3), please refer to https://www.tensorflow.org/tutorials/customization/performance#python_or_tensor_args and https://www.tensorflow.org/api_docs/python/tf/function for  more details.\n"
     ]
    }
   ],
   "source": [
    "data_val = x_scaler.fit_transform(merres.tail(hist_window))\n",
    "\n",
    "val_rescaled = data_val.reshape(1, data_val.shape[0], data_val.shape[1])\n",
    "Predicted_results = Trained_model.predict(val_rescaled)"
   ]
  },
  {
   "cell_type": "code",
   "execution_count": 668,
   "metadata": {},
   "outputs": [
    {
     "data": {
      "text/plain": [
       "array([[0.52084714, 0.13504773]], dtype=float32)"
      ]
     },
     "execution_count": 668,
     "metadata": {},
     "output_type": "execute_result"
    }
   ],
   "source": [
    "Predicted_results"
   ]
  },
  {
   "cell_type": "code",
   "execution_count": 669,
   "metadata": {},
   "outputs": [],
   "source": [
    "Predicted_results_Inv_trans = y_scaler.inverse_transform(Predicted_results)"
   ]
  },
  {
   "cell_type": "code",
   "execution_count": 670,
   "metadata": {},
   "outputs": [
    {
     "data": {
      "text/plain": [
       "array([[34664.63 , 11481.577]], dtype=float32)"
      ]
     },
     "execution_count": 670,
     "metadata": {},
     "output_type": "execute_result"
    }
   ],
   "source": [
    "Predicted_results_Inv_trans"
   ]
  },
  {
   "cell_type": "code",
   "execution_count": 671,
   "metadata": {},
   "outputs": [],
   "source": [
    "from sklearn import metrics\n",
    "def timeseries_evaluation_metrics_func(y_true, y_pred):\n",
    "    \n",
    "    def mean_absolute_percentage_error(y_true, y_pred): \n",
    "        y_true, y_pred = np.array(y_true), np.array(y_pred)\n",
    "        return np.mean(np.abs((y_true - y_pred) / y_true)) * 100\n",
    "    print('Evaluation metric results:-')\n",
    "    print(f'MSE is : {metrics.mean_squared_error(y_true, y_pred)}')\n",
    "    print(f'MAE is : {metrics.mean_absolute_error(y_true, y_pred)}')\n",
    "    print(f'RMSE is : {np.sqrt(metrics.mean_squared_error(y_true, y_pred))}')\n",
    "    print(f'MAPE is : {mean_absolute_percentage_error(y_true, y_pred)}')\n",
    "    print(f'R2 is : {metrics.r2_score(y_true, y_pred)}',end='\\n\\n')"
   ]
  },
  {
   "cell_type": "code",
   "execution_count": 672,
   "metadata": {},
   "outputs": [
    {
     "data": {
      "text/plain": [
       "2"
      ]
     },
     "execution_count": 672,
     "metadata": {},
     "output_type": "execute_result"
    }
   ],
   "source": [
    "len(Predicted_results_Inv_trans[0])"
   ]
  },
  {
   "cell_type": "code",
   "execution_count": 673,
   "metadata": {},
   "outputs": [
    {
     "data": {
      "text/plain": [
       "2"
      ]
     },
     "execution_count": 673,
     "metadata": {},
     "output_type": "execute_result"
    }
   ],
   "source": [
    "len(validate_merres['avg_hl'])"
   ]
  },
  {
   "cell_type": "code",
   "execution_count": 674,
   "metadata": {},
   "outputs": [
    {
     "name": "stdout",
     "output_type": "stream",
     "text": [
      "Evaluation metric results:-\n",
      "MSE is : 249617872.71857753\n",
      "MAE is : 11335.410097656251\n",
      "RMSE is : 15799.29975405801\n",
      "MAPE is : 33.497863684329104\n",
      "R2 is : -726.4454303558656\n",
      "\n"
     ]
    }
   ],
   "source": [
    "timeseries_evaluation_metrics_func(validate_merres['avg_hl'],Predicted_results_Inv_trans[0])"
   ]
  },
  {
   "cell_type": "code",
   "execution_count": 675,
   "metadata": {},
   "outputs": [
    {
     "data": {
      "text/plain": [
       "2021-06-30    34994.297292\n",
       "2021-07-01    33822.728958\n",
       "Freq: D, Name: avg_hl, dtype: float64"
      ]
     },
     "execution_count": 675,
     "metadata": {},
     "output_type": "execute_result"
    }
   ],
   "source": [
    "validate_merres['avg_hl']"
   ]
  },
  {
   "cell_type": "code",
   "execution_count": 676,
   "metadata": {},
   "outputs": [
    {
     "data": {
      "text/plain": [
       "array([34664.63 , 11481.577], dtype=float32)"
      ]
     },
     "execution_count": 676,
     "metadata": {},
     "output_type": "execute_result"
    }
   ],
   "source": [
    "Predicted_results_Inv_trans[0]"
   ]
  },
  {
   "cell_type": "code",
   "execution_count": 677,
   "metadata": {},
   "outputs": [
    {
     "data": {
      "image/png": "[encoded data removed]",
      "text/plain": [
       "<Figure size 1152x648 with 1 Axes>"
      ]
     },
     "metadata": {
      "needs_background": "light"
     },
     "output_type": "display_data"
    }
   ],
   "source": [
    "plt.plot( list(validate_merres['avg_hl']))\n",
    "plt.plot( list(Predicted_results_Inv_trans[0]))\n",
    "plt.title(\"Actual vs Predicted\")\n",
    "plt.ylabel(\"Traffic volume\")\n",
    "plt.legend(('Actual','predicted'))\n",
    "plt.show()"
   ]
  },
  {
   "cell_type": "code",
   "execution_count": 625,
   "metadata": {},
   "outputs": [
    {
     "data": {
      "text/plain": [
       "<AxesSubplot:>"
      ]
     },
     "execution_count": 625,
     "metadata": {},
     "output_type": "execute_result"
    },
    {
     "data": {
      "image/png": "[encoded data removed]",
      "text/plain": [
       "<Figure size 1152x648 with 1 Axes>"
      ]
     },
     "metadata": {
      "needs_background": "light"
     },
     "output_type": "display_data"
    }
   ],
   "source": [
    "validate_merres.avg_hl.plot()"
   ]
  },
  {
   "cell_type": "markdown",
   "metadata": {},
   "source": [
    "# Example from the book\n"
   ]
  },
  {
   "cell_type": "code",
   "execution_count": 1,
   "metadata": {},
   "outputs": [],
   "source": [
    "import pandas as pd\n",
    "import numpy as np\n",
    "import tensorflow as tf\n",
    "from sklearn import preprocessing\n",
    "import matplotlib.pyplot as plt\n",
    "tf.random.set_seed(123)\n",
    "np.random.seed(123)"
   ]
  },
  {
   "cell_type": "code",
   "execution_count": 2,
   "metadata": {},
   "outputs": [],
   "source": [
    "df = pd.read_csv(r'C:\\Users\\Ben\\Desktop\\Diplomatiki\\CryptoSent\\Papers\\hands-on-time-series-analylsis-python-master\\Data\\Metro_Interstate_Traffic_Volume.csv')"
   ]
  },
  {
   "cell_type": "code",
   "execution_count": 3,
   "metadata": {},
   "outputs": [
    {
     "data": {
      "text/html": [
       "<div>\n",
       "<style scoped>\n",
       "    .dataframe tbody tr th:only-of-type {\n",
       "        vertical-align: middle;\n",
       "    }\n",
       "\n",
       "    .dataframe tbody tr th {\n",
       "        vertical-align: top;\n",
       "    }\n",
       "\n",
       "    .dataframe thead th {\n",
       "        text-align: right;\n",
       "    }\n",
       "</style>\n",
       "<table border=\"1\" class=\"dataframe\">\n",
       "  <thead>\n",
       "    <tr style=\"text-align: right;\">\n",
       "      <th></th>\n",
       "      <th>holiday</th>\n",
       "      <th>temp</th>\n",
       "      <th>rain_1h</th>\n",
       "      <th>snow_1h</th>\n",
       "      <th>clouds_all</th>\n",
       "      <th>weather_main</th>\n",
       "      <th>weather_description</th>\n",
       "      <th>date_time</th>\n",
       "      <th>traffic_volume</th>\n",
       "    </tr>\n",
       "  </thead>\n",
       "  <tbody>\n",
       "    <tr>\n",
       "      <th>0</th>\n",
       "      <td>None</td>\n",
       "      <td>288.28</td>\n",
       "      <td>0.0</td>\n",
       "      <td>0.0</td>\n",
       "      <td>40</td>\n",
       "      <td>Clouds</td>\n",
       "      <td>scattered clouds</td>\n",
       "      <td>2012-10-02 09:00:00</td>\n",
       "      <td>5545</td>\n",
       "    </tr>\n",
       "    <tr>\n",
       "      <th>1</th>\n",
       "      <td>None</td>\n",
       "      <td>289.36</td>\n",
       "      <td>0.0</td>\n",
       "      <td>0.0</td>\n",
       "      <td>75</td>\n",
       "      <td>Clouds</td>\n",
       "      <td>broken clouds</td>\n",
       "      <td>2012-10-02 10:00:00</td>\n",
       "      <td>4516</td>\n",
       "    </tr>\n",
       "    <tr>\n",
       "      <th>2</th>\n",
       "      <td>None</td>\n",
       "      <td>289.58</td>\n",
       "      <td>0.0</td>\n",
       "      <td>0.0</td>\n",
       "      <td>90</td>\n",
       "      <td>Clouds</td>\n",
       "      <td>overcast clouds</td>\n",
       "      <td>2012-10-02 11:00:00</td>\n",
       "      <td>4767</td>\n",
       "    </tr>\n",
       "    <tr>\n",
       "      <th>3</th>\n",
       "      <td>None</td>\n",
       "      <td>290.13</td>\n",
       "      <td>0.0</td>\n",
       "      <td>0.0</td>\n",
       "      <td>90</td>\n",
       "      <td>Clouds</td>\n",
       "      <td>overcast clouds</td>\n",
       "      <td>2012-10-02 12:00:00</td>\n",
       "      <td>5026</td>\n",
       "    </tr>\n",
       "    <tr>\n",
       "      <th>4</th>\n",
       "      <td>None</td>\n",
       "      <td>291.14</td>\n",
       "      <td>0.0</td>\n",
       "      <td>0.0</td>\n",
       "      <td>75</td>\n",
       "      <td>Clouds</td>\n",
       "      <td>broken clouds</td>\n",
       "      <td>2012-10-02 13:00:00</td>\n",
       "      <td>4918</td>\n",
       "    </tr>\n",
       "  </tbody>\n",
       "</table>\n",
       "</div>"
      ],
      "text/plain": [
       "  holiday    temp  rain_1h  snow_1h  clouds_all weather_main  \\\n",
       "0    None  288.28      0.0      0.0          40       Clouds   \n",
       "1    None  289.36      0.0      0.0          75       Clouds   \n",
       "2    None  289.58      0.0      0.0          90       Clouds   \n",
       "3    None  290.13      0.0      0.0          90       Clouds   \n",
       "4    None  291.14      0.0      0.0          75       Clouds   \n",
       "\n",
       "  weather_description            date_time  traffic_volume  \n",
       "0    scattered clouds  2012-10-02 09:00:00            5545  \n",
       "1       broken clouds  2012-10-02 10:00:00            4516  \n",
       "2     overcast clouds  2012-10-02 11:00:00            4767  \n",
       "3     overcast clouds  2012-10-02 12:00:00            5026  \n",
       "4       broken clouds  2012-10-02 13:00:00            4918  "
      ]
     },
     "execution_count": 3,
     "metadata": {},
     "output_type": "execute_result"
    }
   ],
   "source": [
    "df.head()"
   ]
  },
  {
   "cell_type": "code",
   "execution_count": 4,
   "metadata": {},
   "outputs": [
    {
     "data": {
      "text/html": [
       "<div>\n",
       "<style scoped>\n",
       "    .dataframe tbody tr th:only-of-type {\n",
       "        vertical-align: middle;\n",
       "    }\n",
       "\n",
       "    .dataframe tbody tr th {\n",
       "        vertical-align: top;\n",
       "    }\n",
       "\n",
       "    .dataframe thead th {\n",
       "        text-align: right;\n",
       "    }\n",
       "</style>\n",
       "<table border=\"1\" class=\"dataframe\">\n",
       "  <thead>\n",
       "    <tr style=\"text-align: right;\">\n",
       "      <th></th>\n",
       "      <th>temp</th>\n",
       "      <th>rain_1h</th>\n",
       "      <th>snow_1h</th>\n",
       "      <th>clouds_all</th>\n",
       "      <th>traffic_volume</th>\n",
       "    </tr>\n",
       "  </thead>\n",
       "  <tbody>\n",
       "    <tr>\n",
       "      <th>count</th>\n",
       "      <td>48204.000000</td>\n",
       "      <td>48204.000000</td>\n",
       "      <td>48204.000000</td>\n",
       "      <td>48204.000000</td>\n",
       "      <td>48204.000000</td>\n",
       "    </tr>\n",
       "    <tr>\n",
       "      <th>mean</th>\n",
       "      <td>281.205870</td>\n",
       "      <td>0.334264</td>\n",
       "      <td>0.000222</td>\n",
       "      <td>49.362231</td>\n",
       "      <td>3259.818355</td>\n",
       "    </tr>\n",
       "    <tr>\n",
       "      <th>std</th>\n",
       "      <td>13.338232</td>\n",
       "      <td>44.789133</td>\n",
       "      <td>0.008168</td>\n",
       "      <td>39.015750</td>\n",
       "      <td>1986.860670</td>\n",
       "    </tr>\n",
       "    <tr>\n",
       "      <th>min</th>\n",
       "      <td>0.000000</td>\n",
       "      <td>0.000000</td>\n",
       "      <td>0.000000</td>\n",
       "      <td>0.000000</td>\n",
       "      <td>0.000000</td>\n",
       "    </tr>\n",
       "    <tr>\n",
       "      <th>25%</th>\n",
       "      <td>272.160000</td>\n",
       "      <td>0.000000</td>\n",
       "      <td>0.000000</td>\n",
       "      <td>1.000000</td>\n",
       "      <td>1193.000000</td>\n",
       "    </tr>\n",
       "    <tr>\n",
       "      <th>50%</th>\n",
       "      <td>282.450000</td>\n",
       "      <td>0.000000</td>\n",
       "      <td>0.000000</td>\n",
       "      <td>64.000000</td>\n",
       "      <td>3380.000000</td>\n",
       "    </tr>\n",
       "    <tr>\n",
       "      <th>75%</th>\n",
       "      <td>291.806000</td>\n",
       "      <td>0.000000</td>\n",
       "      <td>0.000000</td>\n",
       "      <td>90.000000</td>\n",
       "      <td>4933.000000</td>\n",
       "    </tr>\n",
       "    <tr>\n",
       "      <th>max</th>\n",
       "      <td>310.070000</td>\n",
       "      <td>9831.300000</td>\n",
       "      <td>0.510000</td>\n",
       "      <td>100.000000</td>\n",
       "      <td>7280.000000</td>\n",
       "    </tr>\n",
       "  </tbody>\n",
       "</table>\n",
       "</div>"
      ],
      "text/plain": [
       "               temp       rain_1h       snow_1h    clouds_all  traffic_volume\n",
       "count  48204.000000  48204.000000  48204.000000  48204.000000    48204.000000\n",
       "mean     281.205870      0.334264      0.000222     49.362231     3259.818355\n",
       "std       13.338232     44.789133      0.008168     39.015750     1986.860670\n",
       "min        0.000000      0.000000      0.000000      0.000000        0.000000\n",
       "25%      272.160000      0.000000      0.000000      1.000000     1193.000000\n",
       "50%      282.450000      0.000000      0.000000     64.000000     3380.000000\n",
       "75%      291.806000      0.000000      0.000000     90.000000     4933.000000\n",
       "max      310.070000   9831.300000      0.510000    100.000000     7280.000000"
      ]
     },
     "execution_count": 4,
     "metadata": {},
     "output_type": "execute_result"
    }
   ],
   "source": [
    "df.describe()"
   ]
  },
  {
   "cell_type": "code",
   "execution_count": 5,
   "metadata": {},
   "outputs": [],
   "source": [
    "df.drop_duplicates(subset=['date_time'], keep=False,inplace=True)"
   ]
  },
  {
   "cell_type": "code",
   "execution_count": 6,
   "metadata": {},
   "outputs": [],
   "source": [
    "holiday_le = preprocessing.LabelEncoder()"
   ]
  },
  {
   "cell_type": "code",
   "execution_count": 7,
   "metadata": {},
   "outputs": [],
   "source": [
    "#labeling \n",
    "df['holiday_le'] = holiday_le.fit_transform(df['holiday']) \n",
    "weather_main_le = preprocessing.LabelEncoder()\n",
    "df['weather_main_le'] = weather_main_le.fit_transform(df['weather_main']) \n",
    "weather_description_le = preprocessing.LabelEncoder()\n",
    "df['weather_description_le'] = weather_description_le.fit_transform(df['weather_description']) "
   ]
  },
  {
   "cell_type": "code",
   "execution_count": 8,
   "metadata": {},
   "outputs": [],
   "source": [
    "df = df[['rain_1h','temp', 'snow_1h', 'clouds_all', 'holiday_le',\n",
    "    'weather_main_le', 'weather_description_le','traffic_volume']]"
   ]
  },
  {
   "cell_type": "code",
   "execution_count": 9,
   "metadata": {},
   "outputs": [],
   "source": [
    "validate = df[['rain_1h','temp', 'snow_1h', 'clouds_all', 'holiday_le',\n",
    "    'weather_main_le', 'weather_description_le','traffic_volume']].tail(10)\n",
    "df.drop(df.tail(10).index,inplace=True)"
   ]
  },
  {
   "cell_type": "code",
   "execution_count": 10,
   "metadata": {},
   "outputs": [],
   "source": [
    "def custom_ts_multi_data_prep(dataset, target, start, end, window, horizon):\n",
    "    X = []\n",
    "    y = []\n",
    "    start = start + window\n",
    "    if end is None:\n",
    "        end = len(dataset) - horizon\n",
    "\n",
    "    for i in range(start, end):\n",
    "        indices = range(i-window, i)\n",
    "        X.append(dataset[indices])\n",
    "\n",
    "        indicey = range(i+1, i+1+horizon)\n",
    "        y.append(target[indicey])\n",
    "    return np.array(X), np.array(y)"
   ]
  },
  {
   "cell_type": "code",
   "execution_count": 11,
   "metadata": {},
   "outputs": [],
   "source": [
    "validate = df[['rain_1h','temp', 'snow_1h', 'clouds_all', 'holiday_le',\n",
    "    'weather_main_le', 'weather_description_le','traffic_volume']].tail(10)\n",
    "df.drop(df.tail(10).index,inplace=True)"
   ]
  },
  {
   "cell_type": "code",
   "execution_count": 12,
   "metadata": {},
   "outputs": [],
   "source": [
    "# between 0-1 scaller\n",
    "x_scaler = preprocessing.MinMaxScaler()\n",
    "y_scaler = preprocessing.MinMaxScaler()\n",
    "dataX = x_scaler.fit_transform(df[['rain_1h','temp', 'snow_1h', 'clouds_all', 'holiday_le',\n",
    "    'weather_main_le', 'weather_description_le','traffic_volume']])\n",
    "dataY = y_scaler.fit_transform(df[['traffic_volume']])"
   ]
  },
  {
   "cell_type": "code",
   "execution_count": 13,
   "metadata": {},
   "outputs": [],
   "source": [
    "hist_window = 48\n",
    "horizon = 10\n",
    "TRAIN_SPLIT = 30000\n",
    "x_train_multi, y_train_multi = custom_ts_multi_data_prep(\n",
    "    dataX, dataY, 0, TRAIN_SPLIT, hist_window, horizon)\n",
    "x_val_multi, y_val_multi = custom_ts_multi_data_prep(\n",
    "    dataX, dataY, TRAIN_SPLIT, None, hist_window, horizon)"
   ]
  },
  {
   "cell_type": "code",
   "execution_count": 14,
   "metadata": {},
   "outputs": [
    {
     "name": "stdout",
     "output_type": "stream",
     "text": [
      "Single window of past history\n",
      "[[0.         0.92972555 0.         0.4        0.63636364 0.1\n",
      "  0.7        0.76167582]\n",
      " [0.         0.93320863 0.         0.75       0.63636364 0.1\n",
      "  0.06666667 0.62032967]\n",
      " [0.         0.93391815 0.         0.9        0.63636364 0.1\n",
      "  0.56666667 0.65480769]\n",
      " [0.         0.93569194 0.         0.9        0.63636364 0.1\n",
      "  0.56666667 0.69038462]\n",
      " [0.         0.93894927 0.         0.75       0.63636364 0.1\n",
      "  0.06666667 0.67554945]\n",
      " [0.         0.94081981 0.         0.01       0.63636364 0.\n",
      "  0.73333333 0.71167582]\n",
      " [0.         0.94549618 0.         0.01       0.63636364 0.\n",
      "  0.73333333 0.76703297]\n",
      " [0.         0.94772148 0.         0.01       0.63636364 0.\n",
      "  0.73333333 0.82623626]\n",
      " [0.         0.9486245  0.         0.2        0.63636364 0.1\n",
      "  0.13333333 0.79546703]\n",
      " [0.         0.94527042 0.         0.2        0.63636364 0.1\n",
      "  0.13333333 0.65521978]\n",
      " [0.         0.93840101 0.         0.2        0.63636364 0.1\n",
      "  0.13333333 0.48612637]\n",
      " [0.         0.93327313 0.         0.01       0.63636364 0.\n",
      "  0.73333333 0.38241758]\n",
      " [0.         0.93078982 0.         0.01       0.63636364 0.\n",
      "  0.73333333 0.32431319]\n",
      " [0.         0.92611346 0.         0.01       0.63636364 0.\n",
      "  0.73333333 0.21002747]\n",
      " [0.         0.92059857 0.         0.01       0.63636364 0.\n",
      "  0.73333333 0.13228022]\n",
      " [0.         0.91795401 0.         0.01       0.63636364 0.\n",
      "  0.73333333 0.06950549]\n",
      " [0.         0.91421292 0.         0.01       0.63636364 0.\n",
      "  0.73333333 0.04409341]\n",
      " [0.         0.90682749 0.         0.01       0.63636364 0.\n",
      "  0.73333333 0.0375    ]\n",
      " [0.         0.90653723 0.         0.01       0.63636364 0.\n",
      "  0.73333333 0.05041209]\n",
      " [0.         0.90150611 0.         0.01       0.63636364 0.\n",
      "  0.73333333 0.11181319]\n",
      " [0.         0.89857129 0.         0.01       0.63636364 0.\n",
      "  0.73333333 0.37335165]\n",
      " [0.         0.89731351 0.         0.01       0.63636364 0.\n",
      "  0.73333333 0.77925824]\n",
      " [0.         0.89695875 0.         0.01       0.63636364 0.\n",
      "  0.73333333 0.89436813]\n",
      " [0.         0.91102009 0.         0.01       0.63636364 0.\n",
      "  0.73333333 0.75151099]\n",
      " [0.         0.94162608 0.         0.01       0.63636364 0.\n",
      "  0.73333333 0.70013736]\n",
      " [0.         0.94568968 0.         0.01       0.63636364 0.\n",
      "  0.73333333 0.67129121]\n",
      " [0.         0.94917277 0.         0.01       0.63636364 0.\n",
      "  0.73333333 0.7331044 ]\n",
      " [0.         0.95194633 0.         0.01       0.63636364 0.\n",
      "  0.73333333 0.78186813]\n",
      " [0.         0.95181733 0.         0.01       0.63636364 0.\n",
      "  0.73333333 0.84299451]\n",
      " [0.         0.94707647 0.         0.2        0.63636364 0.1\n",
      "  0.13333333 0.63502747]\n",
      " [0.         0.93736898 0.         0.2        0.63636364 0.1\n",
      "  0.13333333 0.49326923]\n",
      " [0.         0.92943529 0.         0.2        0.63636364 0.1\n",
      "  0.13333333 0.39807692]\n",
      " [0.         0.92591995 0.         0.01       0.63636364 0.\n",
      "  0.73333333 0.36222527]\n",
      " [0.         0.92317864 0.         0.01       0.63636364 0.\n",
      "  0.73333333 0.24409341]\n",
      " [0.         0.91998581 0.         0.01       0.63636364 0.\n",
      "  0.73333333 0.13942308]\n",
      " [0.         0.917696   0.         0.01       0.63636364 0.\n",
      "  0.73333333 0.08214286]\n",
      " [0.         0.91421292 0.         0.01       0.63636364 0.\n",
      "  0.73333333 0.05068681]\n",
      " [0.         0.9132454  0.         0.01       0.63636364 0.\n",
      "  0.73333333 0.04285714]\n",
      " [0.         0.90960106 0.         0.01       0.63636364 0.\n",
      "  0.73333333 0.05041209]\n",
      " [0.         0.90847228 0.         0.01       0.63636364 0.\n",
      "  0.73333333 0.1146978 ]\n",
      " [0.         0.907279   0.         0.01       0.63636364 0.\n",
      "  0.73333333 0.37445055]\n",
      " [0.         0.90540846 0.         0.01       0.63636364 0.\n",
      "  0.73333333 0.78145604]\n",
      " [0.         0.90486019 0.         0.01       0.63636364 0.\n",
      "  0.73333333 0.96016484]\n",
      " [0.         0.90902054 0.         0.01       0.63636364 0.\n",
      "  0.73333333 0.82211538]\n",
      " [0.         0.91908279 0.         0.01       0.63636364 0.\n",
      "  0.73333333 0.72925824]\n",
      " [0.         0.93262812 0.         0.01       0.63636364 0.\n",
      "  0.73333333 0.63228022]\n",
      " [0.         0.94027155 0.         0.01       0.63636364 0.\n",
      "  0.73333333 0.67087912]\n",
      " [0.         0.95130132 0.         0.01       0.63636364 0.\n",
      "  0.73333333 0.7010989 ]]\n",
      "\n",
      " Target horizon\n",
      "[[0.75563187]\n",
      " [0.78475275]\n",
      " [0.86428571]\n",
      " [0.83200549]\n",
      " [0.67403846]\n",
      " [0.48118132]\n",
      " [0.41717033]\n",
      " [0.38763736]\n",
      " [0.27362637]\n",
      " [0.16016484]]\n"
     ]
    }
   ],
   "source": [
    "print ('Single window of past history')\n",
    "print(x_train_multi[0])\n",
    "print ('\\n Target horizon')\n",
    "print (y_train_multi[0])"
   ]
  },
  {
   "cell_type": "code",
   "execution_count": 16,
   "metadata": {},
   "outputs": [],
   "source": [
    "BATCH_SIZE = 256\n",
    "BUFFER_SIZE = 150\n",
    "\n",
    "train_data_multi = tf.data.Dataset.from_tensor_slices((x_train_multi, y_train_multi))\n",
    "train_data_multi = train_data_multi.cache().shuffle(BUFFER_SIZE).batch(BATCH_SIZE).repeat()\n",
    "\n",
    "val_data_multi = tf.data.Dataset.from_tensor_slices((x_val_multi, y_val_multi))\n",
    "val_data_multi = val_data_multi.batch(BATCH_SIZE).repeat()"
   ]
  },
  {
   "cell_type": "code",
   "execution_count": 16,
   "metadata": {},
   "outputs": [],
   "source": [
    "Bi_lstm_model = tf.keras.models.Sequential([\n",
    "  tf.keras.layers.Bidirectional(tf.keras.layers.LSTM(150, return_sequences=True), \n",
    "                               input_shape=x_train_multi.shape[-2:]),\n",
    "    tf.keras.layers.Bidirectional(tf.keras.layers.LSTM(50)),\n",
    "    tf.keras.layers.Dense(20, activation='tanh'),\n",
    "    tf.keras.layers.Dropout(0.2),\n",
    "    tf.keras.layers.Dense(units=horizon),\n",
    "])\n",
    "Bi_lstm_model.compile(optimizer='adam', loss='mse')"
   ]
  },
  {
   "cell_type": "code",
   "execution_count": 17,
   "metadata": {},
   "outputs": [],
   "source": [
    "model_path = r'C:\\Users\\Ben\\Desktop\\Diplomatiki\\CryptoSent\\Papers\\hands-on-time-series-analylsis-python-master\\Chapter 7\\Bidirectional_LSTM_Multivariate.h5'"
   ]
  },
  {
   "cell_type": "code",
   "execution_count": 19,
   "metadata": {},
   "outputs": [
    {
     "name": "stdout",
     "output_type": "stream",
     "text": [
      "Epoch 1/15\n",
      "20/20 [==============================] - 14s 697ms/step - loss: 0.0975 - val_loss: 0.0765\n",
      "Epoch 2/15\n",
      "20/20 [==============================] - 12s 575ms/step - loss: 0.0871 - val_loss: 0.0655\n",
      "Epoch 3/15\n",
      "20/20 [==============================] - 13s 653ms/step - loss: 0.0798 - val_loss: 0.0670\n",
      "Epoch 4/15\n",
      "20/20 [==============================] - 13s 656ms/step - loss: 0.0768 - val_loss: 0.0616\n",
      "Epoch 5/15\n",
      "20/20 [==============================] - 14s 703ms/step - loss: 0.0653 - val_loss: 0.0540\n",
      "Epoch 6/15\n",
      "20/20 [==============================] - 16s 780ms/step - loss: 0.0626 - val_loss: 0.0540\n",
      "Epoch 7/15\n",
      "20/20 [==============================] - 16s 815ms/step - loss: 0.0666 - val_loss: 0.0501\n",
      "Epoch 8/15\n",
      "20/20 [==============================] - 15s 758ms/step - loss: 0.0594 - val_loss: 0.0494\n",
      "Epoch 9/15\n",
      "20/20 [==============================] - 15s 733ms/step - loss: 0.0669 - val_loss: 0.0567\n",
      "Epoch 10/15\n",
      "20/20 [==============================] - 14s 717ms/step - loss: 0.0603 - val_loss: 0.0485\n",
      "Epoch 11/15\n",
      "20/20 [==============================] - 14s 692ms/step - loss: 0.0543 - val_loss: 0.0470\n",
      "Epoch 12/15\n",
      "20/20 [==============================] - 14s 694ms/step - loss: 0.0515 - val_loss: 0.0447\n",
      "Epoch 13/15\n",
      "20/20 [==============================] - 14s 694ms/step - loss: 0.0596 - val_loss: 0.0423\n",
      "Epoch 14/15\n",
      "20/20 [==============================] - 15s 728ms/step - loss: 0.0509 - val_loss: 0.0422\n",
      "Epoch 15/15\n",
      "20/20 [==============================] - 15s 760ms/step - loss: 0.0641 - val_loss: 0.0686\n"
     ]
    }
   ],
   "source": [
    "EVALUATION_INTERVAL = 20\n",
    "EPOCHS = 15\n",
    "history = Bi_lstm_model.fit(train_data_multi, epochs=EPOCHS, steps_per_epoch=EVALUATION_INTERVAL, validation_data=val_data_multi, \n",
    "validation_steps=50, verbose=1,callbacks=[tf.keras.callbacks.EarlyStopping(monitor='val_loss', min_delta=0, patience=10, verbose=1, mode='min'), \n",
    "tf.keras.callbacks.ModelCheckpoint(model_path, monitor='val_loss', save_best_only=True, mode='min', verbose=0)])\n"
   ]
  },
  {
   "cell_type": "code",
   "execution_count": 20,
   "metadata": {},
   "outputs": [],
   "source": [
    "Trained_model = tf.keras.models.load_model(model_path)"
   ]
  },
  {
   "cell_type": "code",
   "execution_count": 21,
   "metadata": {},
   "outputs": [
    {
     "name": "stdout",
     "output_type": "stream",
     "text": [
      "Model: \"sequential\"\n",
      "_________________________________________________________________\n",
      "Layer (type)                 Output Shape              Param #   \n",
      "=================================================================\n",
      "bidirectional (Bidirectional (None, 48, 300)           190800    \n",
      "_________________________________________________________________\n",
      "bidirectional_1 (Bidirection (None, 100)               140400    \n",
      "_________________________________________________________________\n",
      "dense (Dense)                (None, 20)                2020      \n",
      "_________________________________________________________________\n",
      "dropout (Dropout)            (None, 20)                0         \n",
      "_________________________________________________________________\n",
      "dense_1 (Dense)              (None, 10)                210       \n",
      "=================================================================\n",
      "Total params: 333,430\n",
      "Trainable params: 333,430\n",
      "Non-trainable params: 0\n",
      "_________________________________________________________________\n"
     ]
    }
   ],
   "source": [
    "# Show the model architecture\n",
    "Trained_model.summary()"
   ]
  },
  {
   "cell_type": "code",
   "execution_count": 22,
   "metadata": {},
   "outputs": [
    {
     "data": {
      "image/png": "[encoded data removed]",
      "text/plain": [
       "<Figure size 432x288 with 1 Axes>"
      ]
     },
     "metadata": {
      "needs_background": "light"
     },
     "output_type": "display_data"
    }
   ],
   "source": [
    "plt.plot(history.history['loss'])\n",
    "plt.plot(history.history['val_loss'])\n",
    "plt.title('Model loss')\n",
    "plt.ylabel('loss')\n",
    "plt.xlabel('epoch')\n",
    "plt.legend(['train loss', 'validation loss'], loc='upper left')\n",
    "plt.rcParams[\"figure.figsize\"] = [16,9]\n",
    "plt.show()"
   ]
  },
  {
   "cell_type": "code",
   "execution_count": 23,
   "metadata": {},
   "outputs": [],
   "source": [
    "data_val = x_scaler.fit_transform(df[['rain_1h','temp', 'snow_1h', 'clouds_all', 'holiday_le',\n",
    "    'weather_main_le', 'weather_description_le','traffic_volume']].tail(48))"
   ]
  },
  {
   "cell_type": "code",
   "execution_count": 24,
   "metadata": {},
   "outputs": [],
   "source": [
    "val_rescaled = data_val.reshape(1, data_val.shape[0], data_val.shape[1])"
   ]
  },
  {
   "cell_type": "code",
   "execution_count": 25,
   "metadata": {},
   "outputs": [],
   "source": [
    "Predicted_results = Trained_model.predict(val_rescaled)"
   ]
  },
  {
   "cell_type": "code",
   "execution_count": 26,
   "metadata": {},
   "outputs": [
    {
     "data": {
      "text/plain": [
       "array([[ 0.02091687,  0.08576003, -0.05128491,  0.00420065,  0.21606444,\n",
       "         0.3125168 ,  0.50988996,  0.5103624 ,  0.5837423 ,  0.6715363 ]],\n",
       "      dtype=float32)"
      ]
     },
     "execution_count": 26,
     "metadata": {},
     "output_type": "execute_result"
    }
   ],
   "source": [
    "Predicted_results"
   ]
  },
  {
   "cell_type": "code",
   "execution_count": 27,
   "metadata": {},
   "outputs": [],
   "source": [
    "Predicted_results_Inv_trans = y_scaler.inverse_transform(Predicted_results)"
   ]
  },
  {
   "cell_type": "code",
   "execution_count": 28,
   "metadata": {},
   "outputs": [
    {
     "data": {
      "text/plain": [
       "array([[ 152.27483 ,  624.33307 , -373.35413 ,   30.580748, 1572.9491  ,\n",
       "        2275.1223  , 3711.999   , 3715.4382  , 4249.644   , 4888.7847  ]],\n",
       "      dtype=float32)"
      ]
     },
     "execution_count": 28,
     "metadata": {},
     "output_type": "execute_result"
    }
   ],
   "source": [
    "Predicted_results_Inv_trans"
   ]
  },
  {
   "cell_type": "code",
   "execution_count": 29,
   "metadata": {},
   "outputs": [],
   "source": [
    "from sklearn import metrics\n",
    "def timeseries_evaluation_metrics_func(y_true, y_pred):\n",
    "    \n",
    "    def mean_absolute_percentage_error(y_true, y_pred): \n",
    "        y_true, y_pred = np.array(y_true), np.array(y_pred)\n",
    "        return np.mean(np.abs((y_true - y_pred) / y_true)) * 100\n",
    "    print('Evaluation metric results:-')\n",
    "    print(f'MSE is : {metrics.mean_squared_error(y_true, y_pred)}')\n",
    "    print(f'MAE is : {metrics.mean_absolute_error(y_true, y_pred)}')\n",
    "    print(f'RMSE is : {np.sqrt(metrics.mean_squared_error(y_true, y_pred))}')\n",
    "    print(f'MAPE is : {mean_absolute_percentage_error(y_true, y_pred)}')\n",
    "    print(f'R2 is : {metrics.r2_score(y_true, y_pred)}',end='\\n\\n')"
   ]
  },
  {
   "cell_type": "code",
   "execution_count": 30,
   "metadata": {},
   "outputs": [
    {
     "name": "stdout",
     "output_type": "stream",
     "text": [
      "Evaluation metric results:-\n",
      "MSE is : 746568.75558513\n",
      "MAE is : 772.8768999099732\n",
      "RMSE is : 864.0421029007382\n",
      "MAPE is : 79.38567288164565\n",
      "R2 is : 0.591940417317618\n",
      "\n"
     ]
    }
   ],
   "source": [
    "timeseries_evaluation_metrics_func(validate['traffic_volume'],Predicted_results_Inv_trans[0])"
   ]
  },
  {
   "cell_type": "code",
   "execution_count": 31,
   "metadata": {},
   "outputs": [
    {
     "data": {
      "image/png": "[encoded data removed]",
      "text/plain": [
       "<Figure size 1152x648 with 1 Axes>"
      ]
     },
     "metadata": {
      "needs_background": "light"
     },
     "output_type": "display_data"
    }
   ],
   "source": [
    "plt.plot( list(validate['traffic_volume']))\n",
    "plt.plot( list(Predicted_results_Inv_trans[0]))\n",
    "plt.title(\"Actual vs Predicted\")\n",
    "plt.ylabel(\"Traffic volume\")\n",
    "plt.legend(('Actual','predicted'))\n",
    "plt.show()"
   ]
  },
  {
   "cell_type": "code",
   "execution_count": null,
   "metadata": {},
   "outputs": [],
   "source": [
    "\n"
   ]
  },
  {
   "cell_type": "code",
   "execution_count": null,
   "metadata": {},
   "outputs": [],
   "source": []
  },
  {
   "cell_type": "code",
   "execution_count": null,
   "metadata": {},
   "outputs": [],
   "source": []
  },
  {
   "cell_type": "code",
   "execution_count": null,
   "metadata": {},
   "outputs": [],
   "source": []
  }
 ],
 "metadata": {
  "interpreter": {
   "hash": "a6a48a25ace32036d94e833d4fc37126f6b59c1fba1eead68c54149d06650627"
  },
  "kernelspec": {
   "display_name": "Python 3.7.11 64-bit ('CryptoSent': conda)",
   "language": "python",
   "name": "python3"
  },
  "language_info": {
   "codemirror_mode": {
    "name": "ipython",
    "version": 3
   },
   "file_extension": ".py",
   "mimetype": "text/x-python",
   "name": "python",
   "nbconvert_exporter": "python",
   "pygments_lexer": "ipython3",
   "version": "3.7.11"
  },
  "orig_nbformat": 4
 },
 "nbformat": 4,
 "nbformat_minor": 2
}
