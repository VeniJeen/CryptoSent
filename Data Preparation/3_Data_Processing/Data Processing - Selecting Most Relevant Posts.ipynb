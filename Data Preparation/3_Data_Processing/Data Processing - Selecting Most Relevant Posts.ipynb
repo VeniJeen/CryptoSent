{
 "cells": [
  {
   "cell_type": "code",
   "execution_count": 1,
   "id": "091d53c8",
   "metadata": {},
   "outputs": [],
   "source": [
    "import pandas as pd\n",
    "import os\n",
    "import sys\n",
    "#connect local PATH\n",
    "p = os.path.abspath(r'C:\\Users\\Ben\\Desktop\\Diplomatiki\\CryptoSent\\utils')\n",
    "sys.path.insert(1, p)\n",
    "\n",
    "import warnings\n",
    "from pandas.core.common import SettingWithCopyWarning\n",
    "\n",
    "warnings.simplefilter(action=\"ignore\", category=SettingWithCopyWarning)\n"
   ]
  },
  {
   "cell_type": "code",
   "execution_count": 2,
   "id": "e04874e7",
   "metadata": {},
   "outputs": [
    {
     "ename": "ParserError",
     "evalue": "Error tokenizing data. C error: Calling read(nbytes) on source failed. Try engine='python'.",
     "output_type": "error",
     "traceback": [
      "\u001B[1;31m---------------------------------------------------------------------------\u001B[0m",
      "\u001B[1;31mParserError\u001B[0m                               Traceback (most recent call last)",
      "\u001B[1;32m<ipython-input-2-050b370d6890>\u001B[0m in \u001B[0;36m<module>\u001B[1;34m\u001B[0m\n\u001B[1;32m----> 1\u001B[1;33m \u001B[0ms\u001B[0m\u001B[1;33m=\u001B[0m\u001B[0mpd\u001B[0m\u001B[1;33m.\u001B[0m\u001B[0mread_csv\u001B[0m\u001B[1;33m(\u001B[0m\u001B[1;34m'submissions_v1.csv'\u001B[0m\u001B[1;33m)\u001B[0m\u001B[1;33m\u001B[0m\u001B[1;33m\u001B[0m\u001B[0m\n\u001B[0m",
      "\u001B[1;32m~\\anaconda3\\lib\\site-packages\\pandas\\util\\_decorators.py\u001B[0m in \u001B[0;36mwrapper\u001B[1;34m(*args, **kwargs)\u001B[0m\n\u001B[0;32m    309\u001B[0m                     \u001B[0mstacklevel\u001B[0m\u001B[1;33m=\u001B[0m\u001B[0mstacklevel\u001B[0m\u001B[1;33m,\u001B[0m\u001B[1;33m\u001B[0m\u001B[1;33m\u001B[0m\u001B[0m\n\u001B[0;32m    310\u001B[0m                 )\n\u001B[1;32m--> 311\u001B[1;33m             \u001B[1;32mreturn\u001B[0m \u001B[0mfunc\u001B[0m\u001B[1;33m(\u001B[0m\u001B[1;33m*\u001B[0m\u001B[0margs\u001B[0m\u001B[1;33m,\u001B[0m \u001B[1;33m**\u001B[0m\u001B[0mkwargs\u001B[0m\u001B[1;33m)\u001B[0m\u001B[1;33m\u001B[0m\u001B[1;33m\u001B[0m\u001B[0m\n\u001B[0m\u001B[0;32m    312\u001B[0m \u001B[1;33m\u001B[0m\u001B[0m\n\u001B[0;32m    313\u001B[0m         \u001B[1;32mreturn\u001B[0m \u001B[0mwrapper\u001B[0m\u001B[1;33m\u001B[0m\u001B[1;33m\u001B[0m\u001B[0m\n",
      "\u001B[1;32m~\\anaconda3\\lib\\site-packages\\pandas\\io\\parsers\\readers.py\u001B[0m in \u001B[0;36mread_csv\u001B[1;34m(filepath_or_buffer, sep, delimiter, header, names, index_col, usecols, squeeze, prefix, mangle_dupe_cols, dtype, engine, converters, true_values, false_values, skipinitialspace, skiprows, skipfooter, nrows, na_values, keep_default_na, na_filter, verbose, skip_blank_lines, parse_dates, infer_datetime_format, keep_date_col, date_parser, dayfirst, cache_dates, iterator, chunksize, compression, thousands, decimal, lineterminator, quotechar, quoting, doublequote, escapechar, comment, encoding, encoding_errors, dialect, error_bad_lines, warn_bad_lines, on_bad_lines, delim_whitespace, low_memory, memory_map, float_precision, storage_options)\u001B[0m\n\u001B[0;32m    584\u001B[0m     \u001B[0mkwds\u001B[0m\u001B[1;33m.\u001B[0m\u001B[0mupdate\u001B[0m\u001B[1;33m(\u001B[0m\u001B[0mkwds_defaults\u001B[0m\u001B[1;33m)\u001B[0m\u001B[1;33m\u001B[0m\u001B[1;33m\u001B[0m\u001B[0m\n\u001B[0;32m    585\u001B[0m \u001B[1;33m\u001B[0m\u001B[0m\n\u001B[1;32m--> 586\u001B[1;33m     \u001B[1;32mreturn\u001B[0m \u001B[0m_read\u001B[0m\u001B[1;33m(\u001B[0m\u001B[0mfilepath_or_buffer\u001B[0m\u001B[1;33m,\u001B[0m \u001B[0mkwds\u001B[0m\u001B[1;33m)\u001B[0m\u001B[1;33m\u001B[0m\u001B[1;33m\u001B[0m\u001B[0m\n\u001B[0m\u001B[0;32m    587\u001B[0m \u001B[1;33m\u001B[0m\u001B[0m\n\u001B[0;32m    588\u001B[0m \u001B[1;33m\u001B[0m\u001B[0m\n",
      "\u001B[1;32m~\\anaconda3\\lib\\site-packages\\pandas\\io\\parsers\\readers.py\u001B[0m in \u001B[0;36m_read\u001B[1;34m(filepath_or_buffer, kwds)\u001B[0m\n\u001B[0;32m    486\u001B[0m \u001B[1;33m\u001B[0m\u001B[0m\n\u001B[0;32m    487\u001B[0m     \u001B[1;32mwith\u001B[0m \u001B[0mparser\u001B[0m\u001B[1;33m:\u001B[0m\u001B[1;33m\u001B[0m\u001B[1;33m\u001B[0m\u001B[0m\n\u001B[1;32m--> 488\u001B[1;33m         \u001B[1;32mreturn\u001B[0m \u001B[0mparser\u001B[0m\u001B[1;33m.\u001B[0m\u001B[0mread\u001B[0m\u001B[1;33m(\u001B[0m\u001B[0mnrows\u001B[0m\u001B[1;33m)\u001B[0m\u001B[1;33m\u001B[0m\u001B[1;33m\u001B[0m\u001B[0m\n\u001B[0m\u001B[0;32m    489\u001B[0m \u001B[1;33m\u001B[0m\u001B[0m\n\u001B[0;32m    490\u001B[0m \u001B[1;33m\u001B[0m\u001B[0m\n",
      "\u001B[1;32m~\\anaconda3\\lib\\site-packages\\pandas\\io\\parsers\\readers.py\u001B[0m in \u001B[0;36mread\u001B[1;34m(self, nrows)\u001B[0m\n\u001B[0;32m   1045\u001B[0m     \u001B[1;32mdef\u001B[0m \u001B[0mread\u001B[0m\u001B[1;33m(\u001B[0m\u001B[0mself\u001B[0m\u001B[1;33m,\u001B[0m \u001B[0mnrows\u001B[0m\u001B[1;33m=\u001B[0m\u001B[1;32mNone\u001B[0m\u001B[1;33m)\u001B[0m\u001B[1;33m:\u001B[0m\u001B[1;33m\u001B[0m\u001B[1;33m\u001B[0m\u001B[0m\n\u001B[0;32m   1046\u001B[0m         \u001B[0mnrows\u001B[0m \u001B[1;33m=\u001B[0m \u001B[0mvalidate_integer\u001B[0m\u001B[1;33m(\u001B[0m\u001B[1;34m\"nrows\"\u001B[0m\u001B[1;33m,\u001B[0m \u001B[0mnrows\u001B[0m\u001B[1;33m)\u001B[0m\u001B[1;33m\u001B[0m\u001B[1;33m\u001B[0m\u001B[0m\n\u001B[1;32m-> 1047\u001B[1;33m         \u001B[0mindex\u001B[0m\u001B[1;33m,\u001B[0m \u001B[0mcolumns\u001B[0m\u001B[1;33m,\u001B[0m \u001B[0mcol_dict\u001B[0m \u001B[1;33m=\u001B[0m \u001B[0mself\u001B[0m\u001B[1;33m.\u001B[0m\u001B[0m_engine\u001B[0m\u001B[1;33m.\u001B[0m\u001B[0mread\u001B[0m\u001B[1;33m(\u001B[0m\u001B[0mnrows\u001B[0m\u001B[1;33m)\u001B[0m\u001B[1;33m\u001B[0m\u001B[1;33m\u001B[0m\u001B[0m\n\u001B[0m\u001B[0;32m   1048\u001B[0m \u001B[1;33m\u001B[0m\u001B[0m\n\u001B[0;32m   1049\u001B[0m         \u001B[1;32mif\u001B[0m \u001B[0mindex\u001B[0m \u001B[1;32mis\u001B[0m \u001B[1;32mNone\u001B[0m\u001B[1;33m:\u001B[0m\u001B[1;33m\u001B[0m\u001B[1;33m\u001B[0m\u001B[0m\n",
      "\u001B[1;32m~\\anaconda3\\lib\\site-packages\\pandas\\io\\parsers\\c_parser_wrapper.py\u001B[0m in \u001B[0;36mread\u001B[1;34m(self, nrows)\u001B[0m\n\u001B[0;32m    221\u001B[0m         \u001B[1;32mtry\u001B[0m\u001B[1;33m:\u001B[0m\u001B[1;33m\u001B[0m\u001B[1;33m\u001B[0m\u001B[0m\n\u001B[0;32m    222\u001B[0m             \u001B[1;32mif\u001B[0m \u001B[0mself\u001B[0m\u001B[1;33m.\u001B[0m\u001B[0mlow_memory\u001B[0m\u001B[1;33m:\u001B[0m\u001B[1;33m\u001B[0m\u001B[1;33m\u001B[0m\u001B[0m\n\u001B[1;32m--> 223\u001B[1;33m                 \u001B[0mchunks\u001B[0m \u001B[1;33m=\u001B[0m \u001B[0mself\u001B[0m\u001B[1;33m.\u001B[0m\u001B[0m_reader\u001B[0m\u001B[1;33m.\u001B[0m\u001B[0mread_low_memory\u001B[0m\u001B[1;33m(\u001B[0m\u001B[0mnrows\u001B[0m\u001B[1;33m)\u001B[0m\u001B[1;33m\u001B[0m\u001B[1;33m\u001B[0m\u001B[0m\n\u001B[0m\u001B[0;32m    224\u001B[0m                 \u001B[1;31m# destructive to chunks\u001B[0m\u001B[1;33m\u001B[0m\u001B[1;33m\u001B[0m\u001B[1;33m\u001B[0m\u001B[0m\n\u001B[0;32m    225\u001B[0m                 \u001B[0mdata\u001B[0m \u001B[1;33m=\u001B[0m \u001B[0m_concatenate_chunks\u001B[0m\u001B[1;33m(\u001B[0m\u001B[0mchunks\u001B[0m\u001B[1;33m)\u001B[0m\u001B[1;33m\u001B[0m\u001B[1;33m\u001B[0m\u001B[0m\n",
      "\u001B[1;32m~\\anaconda3\\lib\\site-packages\\pandas\\_libs\\parsers.pyx\u001B[0m in \u001B[0;36mpandas._libs.parsers.TextReader.read_low_memory\u001B[1;34m()\u001B[0m\n",
      "\u001B[1;32m~\\anaconda3\\lib\\site-packages\\pandas\\_libs\\parsers.pyx\u001B[0m in \u001B[0;36mpandas._libs.parsers.TextReader._read_rows\u001B[1;34m()\u001B[0m\n",
      "\u001B[1;32m~\\anaconda3\\lib\\site-packages\\pandas\\_libs\\parsers.pyx\u001B[0m in \u001B[0;36mpandas._libs.parsers.TextReader._tokenize_rows\u001B[1;34m()\u001B[0m\n",
      "\u001B[1;32m~\\anaconda3\\lib\\site-packages\\pandas\\_libs\\parsers.pyx\u001B[0m in \u001B[0;36mpandas._libs.parsers.raise_parser_error\u001B[1;34m()\u001B[0m\n",
      "\u001B[1;31mParserError\u001B[0m: Error tokenizing data. C error: Calling read(nbytes) on source failed. Try engine='python'."
     ]
    }
   ],
   "source": [
    "s=pd.read_csv('submissions_v1.csv')"
   ]
  },
  {
   "cell_type": "code",
   "execution_count": null,
   "id": "3849d660",
   "metadata": {
    "pycharm": {
     "name": "#%%\n"
    }
   },
   "outputs": [],
   "source": [
    "s.head().T"
   ]
  },
  {
   "cell_type": "code",
   "execution_count": 4,
   "id": "bb7b3e1a",
   "metadata": {},
   "outputs": [],
   "source": [
    "from cryptosent_utils import get_submissions_raw,date_parser_utc,get_comments_raw"
   ]
  },
  {
   "cell_type": "code",
   "execution_count": 5,
   "id": "7197cb45",
   "metadata": {},
   "outputs": [],
   "source": [
    "c=get_comments_raw()"
   ]
  },
  {
   "cell_type": "code",
   "execution_count": 9,
   "id": "fec61536",
   "metadata": {},
   "outputs": [],
   "source": [
    "s['kpi1']=s.score+s.num_comments"
   ]
  },
  {
   "cell_type": "code",
   "execution_count": 13,
   "id": "bfb75daa",
   "metadata": {},
   "outputs": [],
   "source": [
    "s=s.sort_values(by='kpi1',ascending=False)"
   ]
  },
  {
   "cell_type": "code",
   "execution_count": 36,
   "id": "b889c7f0",
   "metadata": {},
   "outputs": [],
   "source": [
    "top20k_ids=s.head(20000).id.tolist()"
   ]
  },
  {
   "cell_type": "code",
   "execution_count": 6,
   "id": "8a528ce8",
   "metadata": {},
   "outputs": [],
   "source": [
    "top20k_ids=pd.read_csv('top20_ids.csv')"
   ]
  },
  {
   "cell_type": "code",
   "execution_count": 7,
   "id": "4d12366b",
   "metadata": {},
   "outputs": [],
   "source": [
    "top20k_ids=top20k_ids['0'].tolist()"
   ]
  },
  {
   "cell_type": "code",
   "execution_count": 8,
   "id": "ea0570a3",
   "metadata": {},
   "outputs": [],
   "source": [
    "c[c.link_id.str.contains('|'.join(top20k_ids))].to_pickle('TOP20K_comments.pickle')"
   ]
  },
  {
   "cell_type": "code",
   "execution_count": 25,
   "id": "0216d02e",
   "metadata": {},
   "outputs": [
    {
     "data": {
      "text/html": [
       "<div>\n",
       "<style scoped>\n",
       "    .dataframe tbody tr th:only-of-type {\n",
       "        vertical-align: middle;\n",
       "    }\n",
       "\n",
       "    .dataframe tbody tr th {\n",
       "        vertical-align: top;\n",
       "    }\n",
       "\n",
       "    .dataframe thead th {\n",
       "        text-align: right;\n",
       "    }\n",
       "</style>\n",
       "<table border=\"1\" class=\"dataframe\">\n",
       "  <thead>\n",
       "    <tr style=\"text-align: right;\">\n",
       "      <th></th>\n",
       "      <th>0</th>\n",
       "      <th>1</th>\n",
       "      <th>2</th>\n",
       "      <th>3</th>\n",
       "      <th>4</th>\n",
       "    </tr>\n",
       "  </thead>\n",
       "  <tbody>\n",
       "    <tr>\n",
       "      <th>Unnamed: 0</th>\n",
       "      <td>0</td>\n",
       "      <td>1</td>\n",
       "      <td>2</td>\n",
       "      <td>3</td>\n",
       "      <td>4</td>\n",
       "    </tr>\n",
       "    <tr>\n",
       "      <th>author</th>\n",
       "      <td>CommunistAndy</td>\n",
       "      <td>IGotThisYo</td>\n",
       "      <td>ggori</td>\n",
       "      <td>fostenator</td>\n",
       "      <td>Natanael_L</td>\n",
       "    </tr>\n",
       "    <tr>\n",
       "      <th>author_created_utc</th>\n",
       "      <td>1525872359.0</td>\n",
       "      <td>1391671165.0</td>\n",
       "      <td>1497638443.0</td>\n",
       "      <td>1313287717.0</td>\n",
       "      <td>1320763499.0</td>\n",
       "    </tr>\n",
       "    <tr>\n",
       "      <th>author_fullname</th>\n",
       "      <td>t2_1c4y3398</td>\n",
       "      <td>t2_f5ass</td>\n",
       "      <td>t2_504hnn</td>\n",
       "      <td>t2_5ny99</td>\n",
       "      <td>t2_67dxp</td>\n",
       "    </tr>\n",
       "    <tr>\n",
       "      <th>author_flair_text</th>\n",
       "      <td>Crypto Expert | QC: ETH 22, BCH 20, BUTT 3</td>\n",
       "      <td>NaN</td>\n",
       "      <td>NaN</td>\n",
       "      <td>NaN</td>\n",
       "      <td>NaN</td>\n",
       "    </tr>\n",
       "    <tr>\n",
       "      <th>body</th>\n",
       "      <td>DOGE!</td>\n",
       "      <td>You must have copied it from somewhere? You sh...</td>\n",
       "      <td>&amp;amp;#x200B;\\n\\nHappy new year boys &amp;lt;3!</td>\n",
       "      <td>https://www.unboundtech.com/</td>\n",
       "      <td>Multiparty computation protocols. There's so m...</td>\n",
       "    </tr>\n",
       "    <tr>\n",
       "      <th>created_utc</th>\n",
       "      <td>1546300820</td>\n",
       "      <td>1546300855</td>\n",
       "      <td>1546300901</td>\n",
       "      <td>1546300902</td>\n",
       "      <td>1546300925</td>\n",
       "    </tr>\n",
       "    <tr>\n",
       "      <th>distinguished</th>\n",
       "      <td>NaN</td>\n",
       "      <td>NaN</td>\n",
       "      <td>NaN</td>\n",
       "      <td>NaN</td>\n",
       "      <td>NaN</td>\n",
       "    </tr>\n",
       "    <tr>\n",
       "      <th>id</th>\n",
       "      <td>eczazky</td>\n",
       "      <td>eczb12y</td>\n",
       "      <td>eczb2xb</td>\n",
       "      <td>eczb2ys</td>\n",
       "      <td>eczb3xq</td>\n",
       "    </tr>\n",
       "    <tr>\n",
       "      <th>is_submitter</th>\n",
       "      <td>False</td>\n",
       "      <td>False</td>\n",
       "      <td>False</td>\n",
       "      <td>False</td>\n",
       "      <td>False</td>\n",
       "    </tr>\n",
       "    <tr>\n",
       "      <th>no_follow</th>\n",
       "      <td>True</td>\n",
       "      <td>True</td>\n",
       "      <td>True</td>\n",
       "      <td>True</td>\n",
       "      <td>True</td>\n",
       "    </tr>\n",
       "    <tr>\n",
       "      <th>link_id</th>\n",
       "      <td>t3_ab4caa</td>\n",
       "      <td>t3_ab98uf</td>\n",
       "      <td>t3_aa0clv</td>\n",
       "      <td>t3_abchri</td>\n",
       "      <td>t3_abchri</td>\n",
       "    </tr>\n",
       "    <tr>\n",
       "      <th>parent_id</th>\n",
       "      <td>t1_ecz56lx</td>\n",
       "      <td>t1_ecz0sty</td>\n",
       "      <td>t3_aa0clv</td>\n",
       "      <td>t3_abchri</td>\n",
       "      <td>t3_abchri</td>\n",
       "    </tr>\n",
       "    <tr>\n",
       "      <th>permalink</th>\n",
       "      <td>/r/CryptoCurrency/comments/ab4caa/daily_discus...</td>\n",
       "      <td>/r/Bitcoin/comments/ab98uf/need_help_with_find...</td>\n",
       "      <td>/r/Bitcoin/comments/aa0clv/buy_10_dollars_wort...</td>\n",
       "      <td>/r/crypto/comments/abchri/whats_the_next_crypt...</td>\n",
       "      <td>/r/crypto/comments/abchri/whats_the_next_crypt...</td>\n",
       "    </tr>\n",
       "    <tr>\n",
       "      <th>score</th>\n",
       "      <td>2</td>\n",
       "      <td>1</td>\n",
       "      <td>1</td>\n",
       "      <td>-2</td>\n",
       "      <td>3</td>\n",
       "    </tr>\n",
       "    <tr>\n",
       "      <th>subreddit</th>\n",
       "      <td>CryptoCurrency</td>\n",
       "      <td>Bitcoin</td>\n",
       "      <td>Bitcoin</td>\n",
       "      <td>crypto</td>\n",
       "      <td>crypto</td>\n",
       "    </tr>\n",
       "    <tr>\n",
       "      <th>subreddit_id</th>\n",
       "      <td>t5_2wlj3</td>\n",
       "      <td>t5_2s3qj</td>\n",
       "      <td>t5_2s3qj</td>\n",
       "      <td>t5_2qq4h</td>\n",
       "      <td>t5_2qq4h</td>\n",
       "    </tr>\n",
       "  </tbody>\n",
       "</table>\n",
       "</div>"
      ],
      "text/plain": [
       "                                                                    0  \\\n",
       "Unnamed: 0                                                          0   \n",
       "author                                                  CommunistAndy   \n",
       "author_created_utc                                       1525872359.0   \n",
       "author_fullname                                           t2_1c4y3398   \n",
       "author_flair_text          Crypto Expert | QC: ETH 22, BCH 20, BUTT 3   \n",
       "body                                                           DOGE!    \n",
       "created_utc                                                1546300820   \n",
       "distinguished                                                     NaN   \n",
       "id                                                            eczazky   \n",
       "is_submitter                                                    False   \n",
       "no_follow                                                        True   \n",
       "link_id                                                     t3_ab4caa   \n",
       "parent_id                                                  t1_ecz56lx   \n",
       "permalink           /r/CryptoCurrency/comments/ab4caa/daily_discus...   \n",
       "score                                                               2   \n",
       "subreddit                                              CryptoCurrency   \n",
       "subreddit_id                                                 t5_2wlj3   \n",
       "\n",
       "                                                                    1  \\\n",
       "Unnamed: 0                                                          1   \n",
       "author                                                     IGotThisYo   \n",
       "author_created_utc                                       1391671165.0   \n",
       "author_fullname                                              t2_f5ass   \n",
       "author_flair_text                                                 NaN   \n",
       "body                You must have copied it from somewhere? You sh...   \n",
       "created_utc                                                1546300855   \n",
       "distinguished                                                     NaN   \n",
       "id                                                            eczb12y   \n",
       "is_submitter                                                    False   \n",
       "no_follow                                                        True   \n",
       "link_id                                                     t3_ab98uf   \n",
       "parent_id                                                  t1_ecz0sty   \n",
       "permalink           /r/Bitcoin/comments/ab98uf/need_help_with_find...   \n",
       "score                                                               1   \n",
       "subreddit                                                     Bitcoin   \n",
       "subreddit_id                                                 t5_2s3qj   \n",
       "\n",
       "                                                                    2  \\\n",
       "Unnamed: 0                                                          2   \n",
       "author                                                          ggori   \n",
       "author_created_utc                                       1497638443.0   \n",
       "author_fullname                                             t2_504hnn   \n",
       "author_flair_text                                                 NaN   \n",
       "body                       &amp;#x200B;\\n\\nHappy new year boys &lt;3!   \n",
       "created_utc                                                1546300901   \n",
       "distinguished                                                     NaN   \n",
       "id                                                            eczb2xb   \n",
       "is_submitter                                                    False   \n",
       "no_follow                                                        True   \n",
       "link_id                                                     t3_aa0clv   \n",
       "parent_id                                                   t3_aa0clv   \n",
       "permalink           /r/Bitcoin/comments/aa0clv/buy_10_dollars_wort...   \n",
       "score                                                               1   \n",
       "subreddit                                                     Bitcoin   \n",
       "subreddit_id                                                 t5_2s3qj   \n",
       "\n",
       "                                                                    3  \\\n",
       "Unnamed: 0                                                          3   \n",
       "author                                                     fostenator   \n",
       "author_created_utc                                       1313287717.0   \n",
       "author_fullname                                              t2_5ny99   \n",
       "author_flair_text                                                 NaN   \n",
       "body                                     https://www.unboundtech.com/   \n",
       "created_utc                                                1546300902   \n",
       "distinguished                                                     NaN   \n",
       "id                                                            eczb2ys   \n",
       "is_submitter                                                    False   \n",
       "no_follow                                                        True   \n",
       "link_id                                                     t3_abchri   \n",
       "parent_id                                                   t3_abchri   \n",
       "permalink           /r/crypto/comments/abchri/whats_the_next_crypt...   \n",
       "score                                                              -2   \n",
       "subreddit                                                      crypto   \n",
       "subreddit_id                                                 t5_2qq4h   \n",
       "\n",
       "                                                                    4  \n",
       "Unnamed: 0                                                          4  \n",
       "author                                                     Natanael_L  \n",
       "author_created_utc                                       1320763499.0  \n",
       "author_fullname                                              t2_67dxp  \n",
       "author_flair_text                                                 NaN  \n",
       "body                Multiparty computation protocols. There's so m...  \n",
       "created_utc                                                1546300925  \n",
       "distinguished                                                     NaN  \n",
       "id                                                            eczb3xq  \n",
       "is_submitter                                                    False  \n",
       "no_follow                                                        True  \n",
       "link_id                                                     t3_abchri  \n",
       "parent_id                                                   t3_abchri  \n",
       "permalink           /r/crypto/comments/abchri/whats_the_next_crypt...  \n",
       "score                                                               3  \n",
       "subreddit                                                      crypto  \n",
       "subreddit_id                                                 t5_2qq4h  "
      ]
     },
     "execution_count": 25,
     "metadata": {},
     "output_type": "execute_result"
    }
   ],
   "source": [
    "c.head().T"
   ]
  },
  {
   "cell_type": "code",
   "execution_count": 38,
   "id": "047c5d11",
   "metadata": {},
   "outputs": [
    {
     "data": {
      "text/plain": [
       "7710992"
      ]
     },
     "execution_count": 38,
     "metadata": {},
     "output_type": "execute_result"
    }
   ],
   "source": [
    "s.head(20000).num_comments.sum()"
   ]
  },
  {
   "cell_type": "code",
   "execution_count": 39,
   "id": "c6fcc20c",
   "metadata": {},
   "outputs": [
    {
     "data": {
      "text/plain": [
       "15226564"
      ]
     },
     "execution_count": 39,
     "metadata": {},
     "output_type": "execute_result"
    }
   ],
   "source": [
    "c.shape[0]"
   ]
  },
  {
   "cell_type": "markdown",
   "id": "347f972c",
   "metadata": {},
   "source": [
    "# reading the filtered files"
   ]
  },
  {
   "cell_type": "code",
   "execution_count": 3,
   "id": "869f14cf",
   "metadata": {},
   "outputs": [],
   "source": [
    "import pandas as pd\n",
    "import os\n",
    "import sys\n",
    "#connect local PATH\n",
    "p = os.path.abspath(r'C:\\Users\\Ben\\Desktop\\Diplomatiki\\CryptoSent\\utils')\n",
    "sys.path.insert(1, p)\n",
    "\n",
    "import warnings\n",
    "from pandas.core.common import SettingWithCopyWarning\n",
    "\n",
    "warnings.simplefilter(action=\"ignore\", category=SettingWithCopyWarning)\n"
   ]
  },
  {
   "cell_type": "code",
   "execution_count": 34,
   "id": "8e1c8400",
   "metadata": {},
   "outputs": [
    {
     "ename": "KeyboardInterrupt",
     "evalue": "",
     "output_type": "error",
     "traceback": [
      "\u001B[1;31m---------------------------------------------------------------------------\u001B[0m",
      "\u001B[1;31mKeyboardInterrupt\u001B[0m                         Traceback (most recent call last)",
      "\u001B[1;32m<ipython-input-34-f1e316b42768>\u001B[0m in \u001B[0;36m<module>\u001B[1;34m\u001B[0m\n\u001B[0;32m      1\u001B[0m \u001B[0ms\u001B[0m\u001B[1;33m=\u001B[0m\u001B[0mpd\u001B[0m\u001B[1;33m.\u001B[0m\u001B[0mread_pickle\u001B[0m\u001B[1;33m(\u001B[0m\u001B[1;34mr\"C:\\Users\\Ben\\Desktop\\Diplomatiki\\CryptoSent\\Data Preparation\\3_Data_Processing\\TOP20K_submissions.pickle\"\u001B[0m\u001B[1;33m)\u001B[0m\u001B[1;33m\u001B[0m\u001B[1;33m\u001B[0m\u001B[0m\n\u001B[1;32m----> 2\u001B[1;33m \u001B[0mc\u001B[0m\u001B[1;33m=\u001B[0m\u001B[0mpd\u001B[0m\u001B[1;33m.\u001B[0m\u001B[0mread_pickle\u001B[0m\u001B[1;33m(\u001B[0m\u001B[1;34mr\"C:\\Users\\Ben\\Desktop\\Diplomatiki\\CryptoSent\\Data Preparation\\3_Data_Processing\\TOP20K_comments.pickle\"\u001B[0m\u001B[1;33m)\u001B[0m\u001B[1;33m\u001B[0m\u001B[1;33m\u001B[0m\u001B[0m\n\u001B[0m",
      "\u001B[1;32m~\\anaconda3\\lib\\site-packages\\pandas\\io\\pickle.py\u001B[0m in \u001B[0;36mread_pickle\u001B[1;34m(filepath_or_buffer, compression, storage_options)\u001B[0m\n\u001B[0;32m    215\u001B[0m                     \u001B[1;31m# RawIOBase, BufferedIOBase, TextIOBase, TextIOWrapper, mmap]\";\u001B[0m\u001B[1;33m\u001B[0m\u001B[1;33m\u001B[0m\u001B[1;33m\u001B[0m\u001B[0m\n\u001B[0;32m    216\u001B[0m                     \u001B[1;31m# expected \"IO[bytes]\"\u001B[0m\u001B[1;33m\u001B[0m\u001B[1;33m\u001B[0m\u001B[1;33m\u001B[0m\u001B[0m\n\u001B[1;32m--> 217\u001B[1;33m                     \u001B[1;32mreturn\u001B[0m \u001B[0mpickle\u001B[0m\u001B[1;33m.\u001B[0m\u001B[0mload\u001B[0m\u001B[1;33m(\u001B[0m\u001B[0mhandles\u001B[0m\u001B[1;33m.\u001B[0m\u001B[0mhandle\u001B[0m\u001B[1;33m)\u001B[0m  \u001B[1;31m# type: ignore[arg-type]\u001B[0m\u001B[1;33m\u001B[0m\u001B[1;33m\u001B[0m\u001B[0m\n\u001B[0m\u001B[0;32m    218\u001B[0m             \u001B[1;32mexcept\u001B[0m \u001B[0mexcs_to_catch\u001B[0m\u001B[1;33m:\u001B[0m\u001B[1;33m\u001B[0m\u001B[1;33m\u001B[0m\u001B[0m\n\u001B[0;32m    219\u001B[0m                 \u001B[1;31m# e.g.\u001B[0m\u001B[1;33m\u001B[0m\u001B[1;33m\u001B[0m\u001B[1;33m\u001B[0m\u001B[0m\n",
      "\u001B[1;32m~\\anaconda3\\lib\\site-packages\\pandas\\core\\internals\\blocks.py\u001B[0m in \u001B[0;36mnew_block\u001B[1;34m(values, placement, ndim, klass)\u001B[0m\n\u001B[0;32m   1924\u001B[0m \u001B[1;33m\u001B[0m\u001B[0m\n\u001B[0;32m   1925\u001B[0m \u001B[1;33m\u001B[0m\u001B[0m\n\u001B[1;32m-> 1926\u001B[1;33m \u001B[1;32mdef\u001B[0m \u001B[0mnew_block\u001B[0m\u001B[1;33m(\u001B[0m\u001B[0mvalues\u001B[0m\u001B[1;33m,\u001B[0m \u001B[0mplacement\u001B[0m\u001B[1;33m,\u001B[0m \u001B[1;33m*\u001B[0m\u001B[1;33m,\u001B[0m \u001B[0mndim\u001B[0m\u001B[1;33m:\u001B[0m \u001B[0mint\u001B[0m\u001B[1;33m,\u001B[0m \u001B[0mklass\u001B[0m\u001B[1;33m=\u001B[0m\u001B[1;32mNone\u001B[0m\u001B[1;33m)\u001B[0m \u001B[1;33m->\u001B[0m \u001B[0mBlock\u001B[0m\u001B[1;33m:\u001B[0m\u001B[1;33m\u001B[0m\u001B[1;33m\u001B[0m\u001B[0m\n\u001B[0m\u001B[0;32m   1927\u001B[0m \u001B[1;33m\u001B[0m\u001B[0m\n\u001B[0;32m   1928\u001B[0m     \u001B[1;32mif\u001B[0m \u001B[1;32mnot\u001B[0m \u001B[0misinstance\u001B[0m\u001B[1;33m(\u001B[0m\u001B[0mplacement\u001B[0m\u001B[1;33m,\u001B[0m \u001B[0mBlockPlacement\u001B[0m\u001B[1;33m)\u001B[0m\u001B[1;33m:\u001B[0m\u001B[1;33m\u001B[0m\u001B[1;33m\u001B[0m\u001B[0m\n",
      "\u001B[1;31mKeyboardInterrupt\u001B[0m: "
     ]
    }
   ],
   "source": [
    "s=pd.read_pickle(r\"C:\\Users\\Ben\\Desktop\\Diplomatiki\\CryptoSent\\Data Preparation\\3_Data_Processing\\TOP20K_submissions.pickle\")\n",
    "c=pd.read_pickle(r\"C:\\Users\\Ben\\Desktop\\Diplomatiki\\CryptoSent\\Data Preparation\\3_Data_Processing\\TOP20K_comments.pickle\")"
   ]
  },
  {
   "cell_type": "code",
   "execution_count": 6,
   "id": "10f17f3c",
   "metadata": {},
   "outputs": [
    {
     "data": {
      "text/html": [
       "<div>\n",
       "<style scoped>\n",
       "    .dataframe tbody tr th:only-of-type {\n",
       "        vertical-align: middle;\n",
       "    }\n",
       "\n",
       "    .dataframe tbody tr th {\n",
       "        vertical-align: top;\n",
       "    }\n",
       "\n",
       "    .dataframe thead th {\n",
       "        text-align: right;\n",
       "    }\n",
       "</style>\n",
       "<table border=\"1\" class=\"dataframe\">\n",
       "  <thead>\n",
       "    <tr style=\"text-align: right;\">\n",
       "      <th></th>\n",
       "      <th>created</th>\n",
       "      <th>author</th>\n",
       "      <th>num_comments</th>\n",
       "      <th>score</th>\n",
       "      <th>title</th>\n",
       "      <th>selftext</th>\n",
       "      <th>subreddit</th>\n",
       "      <th>subreddit_subscribers</th>\n",
       "      <th>id</th>\n",
       "      <th>domain</th>\n",
       "      <th>...</th>\n",
       "      <th>month</th>\n",
       "      <th>month_name</th>\n",
       "      <th>day</th>\n",
       "      <th>day_name</th>\n",
       "      <th>week</th>\n",
       "      <th>day_of_week</th>\n",
       "      <th>hour</th>\n",
       "      <th>minute</th>\n",
       "      <th>Volume</th>\n",
       "      <th>kpi1</th>\n",
       "    </tr>\n",
       "  </thead>\n",
       "  <tbody>\n",
       "    <tr>\n",
       "      <th>1474281</th>\n",
       "      <td>2021-05-19 02:00:14</td>\n",
       "      <td>AutoModerator</td>\n",
       "      <td>58597</td>\n",
       "      <td>1013</td>\n",
       "      <td>Daily Discussion - May 19, 2021 (GMT+0)</td>\n",
       "      <td>**Welcome to the Daily Discussion. Please read...</td>\n",
       "      <td>CryptoCurrency</td>\n",
       "      <td>3092129</td>\n",
       "      <td>nfqb4c</td>\n",
       "      <td>self.CryptoCurrency</td>\n",
       "      <td>...</td>\n",
       "      <td>5</td>\n",
       "      <td>May</td>\n",
       "      <td>19</td>\n",
       "      <td>Wednesday</td>\n",
       "      <td>20</td>\n",
       "      <td>2</td>\n",
       "      <td>2</td>\n",
       "      <td>0</td>\n",
       "      <td>1</td>\n",
       "      <td>59610</td>\n",
       "    </tr>\n",
       "    <tr>\n",
       "      <th>1400525</th>\n",
       "      <td>2021-05-08 17:28:35</td>\n",
       "      <td>jonbristow</td>\n",
       "      <td>4303</td>\n",
       "      <td>52190</td>\n",
       "      <td>You hear about the kid who put in $500 into a ...</td>\n",
       "      <td>You hear about the kid who put in $500 into a ...</td>\n",
       "      <td>CryptoCurrency</td>\n",
       "      <td>3091100</td>\n",
       "      <td>n7rl2y</td>\n",
       "      <td>self.CryptoCurrency</td>\n",
       "      <td>...</td>\n",
       "      <td>5</td>\n",
       "      <td>May</td>\n",
       "      <td>8</td>\n",
       "      <td>Saturday</td>\n",
       "      <td>18</td>\n",
       "      <td>5</td>\n",
       "      <td>17</td>\n",
       "      <td>28</td>\n",
       "      <td>1</td>\n",
       "      <td>56493</td>\n",
       "    </tr>\n",
       "    <tr>\n",
       "      <th>1547559</th>\n",
       "      <td>2021-05-31 12:01:31</td>\n",
       "      <td>jasonluxton</td>\n",
       "      <td>7539</td>\n",
       "      <td>43785</td>\n",
       "      <td>Binance CEO, CZ, shades Elon Musk in tweet. - ...</td>\n",
       "      <td>NaN</td>\n",
       "      <td>CryptoCurrency</td>\n",
       "      <td>3093308</td>\n",
       "      <td>noztp7</td>\n",
       "      <td>coinquora.com</td>\n",
       "      <td>...</td>\n",
       "      <td>5</td>\n",
       "      <td>May</td>\n",
       "      <td>31</td>\n",
       "      <td>Monday</td>\n",
       "      <td>22</td>\n",
       "      <td>0</td>\n",
       "      <td>12</td>\n",
       "      <td>1</td>\n",
       "      <td>1</td>\n",
       "      <td>51324</td>\n",
       "    </tr>\n",
       "    <tr>\n",
       "      <th>964610</th>\n",
       "      <td>2021-02-08 13:48:45</td>\n",
       "      <td>AlphaGrayWolf</td>\n",
       "      <td>2954</td>\n",
       "      <td>45445</td>\n",
       "      <td>Tesla buys $1.5b in Bitcoin and is looking to ...</td>\n",
       "      <td>NaN</td>\n",
       "      <td>Bitcoin</td>\n",
       "      <td>3070878</td>\n",
       "      <td>lfb3mm</td>\n",
       "      <td>v.redd.it</td>\n",
       "      <td>...</td>\n",
       "      <td>2</td>\n",
       "      <td>Feb</td>\n",
       "      <td>8</td>\n",
       "      <td>Monday</td>\n",
       "      <td>6</td>\n",
       "      <td>0</td>\n",
       "      <td>13</td>\n",
       "      <td>48</td>\n",
       "      <td>1</td>\n",
       "      <td>48399</td>\n",
       "    </tr>\n",
       "    <tr>\n",
       "      <th>935676</th>\n",
       "      <td>2021-02-04 13:02:16</td>\n",
       "      <td>[deleted]</td>\n",
       "      <td>3659</td>\n",
       "      <td>39951</td>\n",
       "      <td>Elon Musk reminds me of a rich billionaire who...</td>\n",
       "      <td>[deleted]</td>\n",
       "      <td>CryptoCurrency</td>\n",
       "      <td>3082709</td>\n",
       "      <td>lce6zm</td>\n",
       "      <td>self.CryptoCurrency</td>\n",
       "      <td>...</td>\n",
       "      <td>2</td>\n",
       "      <td>Feb</td>\n",
       "      <td>4</td>\n",
       "      <td>Thursday</td>\n",
       "      <td>5</td>\n",
       "      <td>3</td>\n",
       "      <td>13</td>\n",
       "      <td>2</td>\n",
       "      <td>1</td>\n",
       "      <td>43610</td>\n",
       "    </tr>\n",
       "    <tr>\n",
       "      <th>...</th>\n",
       "      <td>...</td>\n",
       "      <td>...</td>\n",
       "      <td>...</td>\n",
       "      <td>...</td>\n",
       "      <td>...</td>\n",
       "      <td>...</td>\n",
       "      <td>...</td>\n",
       "      <td>...</td>\n",
       "      <td>...</td>\n",
       "      <td>...</td>\n",
       "      <td>...</td>\n",
       "      <td>...</td>\n",
       "      <td>...</td>\n",
       "      <td>...</td>\n",
       "      <td>...</td>\n",
       "      <td>...</td>\n",
       "      <td>...</td>\n",
       "      <td>...</td>\n",
       "      <td>...</td>\n",
       "      <td>...</td>\n",
       "      <td>...</td>\n",
       "    </tr>\n",
       "    <tr>\n",
       "      <th>474407</th>\n",
       "      <td>2020-02-09 14:47:43</td>\n",
       "      <td>Jeffyjefjef</td>\n",
       "      <td>56</td>\n",
       "      <td>235</td>\n",
       "      <td>Now that btc is pumping, all the know it alls ...</td>\n",
       "      <td>NaN</td>\n",
       "      <td>Bitcoin</td>\n",
       "      <td>1376671</td>\n",
       "      <td>f18twv</td>\n",
       "      <td>self.Bitcoin</td>\n",
       "      <td>...</td>\n",
       "      <td>2</td>\n",
       "      <td>Feb</td>\n",
       "      <td>9</td>\n",
       "      <td>Sunday</td>\n",
       "      <td>6</td>\n",
       "      <td>6</td>\n",
       "      <td>14</td>\n",
       "      <td>47</td>\n",
       "      <td>1</td>\n",
       "      <td>291</td>\n",
       "    </tr>\n",
       "    <tr>\n",
       "      <th>367015</th>\n",
       "      <td>2019-10-08 21:28:10</td>\n",
       "      <td>oscar_salas93</td>\n",
       "      <td>67</td>\n",
       "      <td>224</td>\n",
       "      <td>Promoting Bitcoin Cash to over 200 taxi cabs i...</td>\n",
       "      <td>NaN</td>\n",
       "      <td>btc</td>\n",
       "      <td>290763</td>\n",
       "      <td>df4uzu</td>\n",
       "      <td>i.redd.it</td>\n",
       "      <td>...</td>\n",
       "      <td>10</td>\n",
       "      <td>Oct</td>\n",
       "      <td>8</td>\n",
       "      <td>Tuesday</td>\n",
       "      <td>41</td>\n",
       "      <td>1</td>\n",
       "      <td>21</td>\n",
       "      <td>28</td>\n",
       "      <td>1</td>\n",
       "      <td>291</td>\n",
       "    </tr>\n",
       "    <tr>\n",
       "      <th>1221980</th>\n",
       "      <td>2021-04-01 16:41:22</td>\n",
       "      <td>MemoryDealers</td>\n",
       "      <td>94</td>\n",
       "      <td>197</td>\n",
       "      <td>SmartBCH is a Ethereum Virtual Machine &amp;amp; W...</td>\n",
       "      <td>NaN</td>\n",
       "      <td>btc</td>\n",
       "      <td>563304</td>\n",
       "      <td>mhwrdg</td>\n",
       "      <td>smartbch.org</td>\n",
       "      <td>...</td>\n",
       "      <td>4</td>\n",
       "      <td>Apr</td>\n",
       "      <td>1</td>\n",
       "      <td>Thursday</td>\n",
       "      <td>13</td>\n",
       "      <td>3</td>\n",
       "      <td>16</td>\n",
       "      <td>41</td>\n",
       "      <td>1</td>\n",
       "      <td>291</td>\n",
       "    </tr>\n",
       "    <tr>\n",
       "      <th>549007</th>\n",
       "      <td>2020-05-04 19:18:13</td>\n",
       "      <td>tuidelescribano</td>\n",
       "      <td>18</td>\n",
       "      <td>273</td>\n",
       "      <td>Tanto tiempo sin salir, que al final te olvida...</td>\n",
       "      <td>NaN</td>\n",
       "      <td>es</td>\n",
       "      <td>97158</td>\n",
       "      <td>gdfq4h</td>\n",
       "      <td>i.redd.it</td>\n",
       "      <td>...</td>\n",
       "      <td>5</td>\n",
       "      <td>May</td>\n",
       "      <td>4</td>\n",
       "      <td>Monday</td>\n",
       "      <td>19</td>\n",
       "      <td>0</td>\n",
       "      <td>19</td>\n",
       "      <td>18</td>\n",
       "      <td>1</td>\n",
       "      <td>291</td>\n",
       "    </tr>\n",
       "    <tr>\n",
       "      <th>913790</th>\n",
       "      <td>2021-02-01 15:46:03</td>\n",
       "      <td>chesefo</td>\n",
       "      <td>50</td>\n",
       "      <td>241</td>\n",
       "      <td>6.357MB block with 26,314 transactions</td>\n",
       "      <td>NaN</td>\n",
       "      <td>btc</td>\n",
       "      <td>562357</td>\n",
       "      <td>la4mpg</td>\n",
       "      <td>blockchair.com</td>\n",
       "      <td>...</td>\n",
       "      <td>2</td>\n",
       "      <td>Feb</td>\n",
       "      <td>1</td>\n",
       "      <td>Monday</td>\n",
       "      <td>5</td>\n",
       "      <td>0</td>\n",
       "      <td>15</td>\n",
       "      <td>46</td>\n",
       "      <td>1</td>\n",
       "      <td>291</td>\n",
       "    </tr>\n",
       "  </tbody>\n",
       "</table>\n",
       "<p>20000 rows × 29 columns</p>\n",
       "</div>"
      ],
      "text/plain": [
       "                     created           author  num_comments  score  \\\n",
       "1474281  2021-05-19 02:00:14    AutoModerator         58597   1013   \n",
       "1400525  2021-05-08 17:28:35       jonbristow          4303  52190   \n",
       "1547559  2021-05-31 12:01:31      jasonluxton          7539  43785   \n",
       "964610   2021-02-08 13:48:45    AlphaGrayWolf          2954  45445   \n",
       "935676   2021-02-04 13:02:16        [deleted]          3659  39951   \n",
       "...                      ...              ...           ...    ...   \n",
       "474407   2020-02-09 14:47:43      Jeffyjefjef            56    235   \n",
       "367015   2019-10-08 21:28:10    oscar_salas93            67    224   \n",
       "1221980  2021-04-01 16:41:22    MemoryDealers            94    197   \n",
       "549007   2020-05-04 19:18:13  tuidelescribano            18    273   \n",
       "913790   2021-02-01 15:46:03          chesefo            50    241   \n",
       "\n",
       "                                                     title  \\\n",
       "1474281            Daily Discussion - May 19, 2021 (GMT+0)   \n",
       "1400525  You hear about the kid who put in $500 into a ...   \n",
       "1547559  Binance CEO, CZ, shades Elon Musk in tweet. - ...   \n",
       "964610   Tesla buys $1.5b in Bitcoin and is looking to ...   \n",
       "935676   Elon Musk reminds me of a rich billionaire who...   \n",
       "...                                                    ...   \n",
       "474407   Now that btc is pumping, all the know it alls ...   \n",
       "367015   Promoting Bitcoin Cash to over 200 taxi cabs i...   \n",
       "1221980  SmartBCH is a Ethereum Virtual Machine &amp; W...   \n",
       "549007   Tanto tiempo sin salir, que al final te olvida...   \n",
       "913790              6.357MB block with 26,314 transactions   \n",
       "\n",
       "                                                  selftext       subreddit  \\\n",
       "1474281  **Welcome to the Daily Discussion. Please read...  CryptoCurrency   \n",
       "1400525  You hear about the kid who put in $500 into a ...  CryptoCurrency   \n",
       "1547559                                                NaN  CryptoCurrency   \n",
       "964610                                                 NaN         Bitcoin   \n",
       "935676                                           [deleted]  CryptoCurrency   \n",
       "...                                                    ...             ...   \n",
       "474407                                                 NaN         Bitcoin   \n",
       "367015                                                 NaN             btc   \n",
       "1221980                                                NaN             btc   \n",
       "549007                                                 NaN              es   \n",
       "913790                                                 NaN             btc   \n",
       "\n",
       "         subreddit_subscribers      id               domain  ...  month  \\\n",
       "1474281                3092129  nfqb4c  self.CryptoCurrency  ...      5   \n",
       "1400525                3091100  n7rl2y  self.CryptoCurrency  ...      5   \n",
       "1547559                3093308  noztp7        coinquora.com  ...      5   \n",
       "964610                 3070878  lfb3mm            v.redd.it  ...      2   \n",
       "935676                 3082709  lce6zm  self.CryptoCurrency  ...      2   \n",
       "...                        ...     ...                  ...  ...    ...   \n",
       "474407                 1376671  f18twv         self.Bitcoin  ...      2   \n",
       "367015                  290763  df4uzu            i.redd.it  ...     10   \n",
       "1221980                 563304  mhwrdg         smartbch.org  ...      4   \n",
       "549007                   97158  gdfq4h            i.redd.it  ...      5   \n",
       "913790                  562357  la4mpg       blockchair.com  ...      2   \n",
       "\n",
       "         month_name day   day_name week day_of_week hour minute  Volume   kpi1  \n",
       "1474281         May  19  Wednesday   20           2    2      0       1  59610  \n",
       "1400525         May   8   Saturday   18           5   17     28       1  56493  \n",
       "1547559         May  31     Monday   22           0   12      1       1  51324  \n",
       "964610          Feb   8     Monday    6           0   13     48       1  48399  \n",
       "935676          Feb   4   Thursday    5           3   13      2       1  43610  \n",
       "...             ...  ..        ...  ...         ...  ...    ...     ...    ...  \n",
       "474407          Feb   9     Sunday    6           6   14     47       1    291  \n",
       "367015          Oct   8    Tuesday   41           1   21     28       1    291  \n",
       "1221980         Apr   1   Thursday   13           3   16     41       1    291  \n",
       "549007          May   4     Monday   19           0   19     18       1    291  \n",
       "913790          Feb   1     Monday    5           0   15     46       1    291  \n",
       "\n",
       "[20000 rows x 29 columns]"
      ]
     },
     "execution_count": 6,
     "metadata": {},
     "output_type": "execute_result"
    }
   ],
   "source": [
    "s"
   ]
  },
  {
   "cell_type": "code",
   "execution_count": 7,
   "id": "0f306f07",
   "metadata": {},
   "outputs": [],
   "source": [
    "top10=pd.read_csv('top10k_posts_is.csv')\n",
    "top10=top10.id.tolist()"
   ]
  },
  {
   "cell_type": "code",
   "execution_count": 8,
   "id": "24ac7f8e",
   "metadata": {},
   "outputs": [],
   "source": [
    "c['submission_id']=c.link_id.str.split('_').apply(lambda x: x[1])"
   ]
  },
  {
   "cell_type": "code",
   "execution_count": 11,
   "id": "28284952",
   "metadata": {
    "pycharm": {
     "name": "#%%\n"
    }
   },
   "outputs": [
    {
     "data": {
      "text/html": [
       "<div>\n",
       "<style scoped>\n",
       "    .dataframe tbody tr th:only-of-type {\n",
       "        vertical-align: middle;\n",
       "    }\n",
       "\n",
       "    .dataframe tbody tr th {\n",
       "        vertical-align: top;\n",
       "    }\n",
       "\n",
       "    .dataframe thead th {\n",
       "        text-align: right;\n",
       "    }\n",
       "</style>\n",
       "<table border=\"1\" class=\"dataframe\">\n",
       "  <thead>\n",
       "    <tr style=\"text-align: right;\">\n",
       "      <th></th>\n",
       "      <th>Unnamed: 0</th>\n",
       "      <th>author</th>\n",
       "      <th>author_created_utc</th>\n",
       "      <th>author_fullname</th>\n",
       "      <th>author_flair_text</th>\n",
       "      <th>body</th>\n",
       "      <th>created_utc</th>\n",
       "      <th>distinguished</th>\n",
       "      <th>id</th>\n",
       "      <th>is_submitter</th>\n",
       "      <th>no_follow</th>\n",
       "      <th>link_id</th>\n",
       "      <th>parent_id</th>\n",
       "      <th>permalink</th>\n",
       "      <th>score</th>\n",
       "      <th>subreddit</th>\n",
       "      <th>subreddit_id</th>\n",
       "      <th>submission_id</th>\n",
       "    </tr>\n",
       "  </thead>\n",
       "  <tbody>\n",
       "    <tr>\n",
       "      <th>599</th>\n",
       "      <td>599</td>\n",
       "      <td>Qwahzi</td>\n",
       "      <td>1.377738e+09</td>\n",
       "      <td>t2_cxj01</td>\n",
       "      <td>Crypto God | QC: NANO 303, CC 159</td>\n",
       "      <td>Full quote:\\n\\n&amp;gt; Our goals are not simply t...</td>\n",
       "      <td>1546309348</td>\n",
       "      <td>NaN</td>\n",
       "      <td>eczke7y</td>\n",
       "      <td>True</td>\n",
       "      <td>False</td>\n",
       "      <td>t3_abe185</td>\n",
       "      <td>t3_abe185</td>\n",
       "      <td>/r/CryptoCurrency/comments/abe185/nanobased_co...</td>\n",
       "      <td>37</td>\n",
       "      <td>CryptoCurrency</td>\n",
       "      <td>t5_2wlj3</td>\n",
       "      <td>abe185</td>\n",
       "    </tr>\n",
       "    <tr>\n",
       "      <th>741</th>\n",
       "      <td>741</td>\n",
       "      <td>drumboy256</td>\n",
       "      <td>1.508639e+09</td>\n",
       "      <td>t2_i70i7yj</td>\n",
       "      <td>Crypto God | QC: CC 109, ARK 62</td>\n",
       "      <td>Spoiler alert, they won’t be.</td>\n",
       "      <td>1546311383</td>\n",
       "      <td>NaN</td>\n",
       "      <td>eczmcxl</td>\n",
       "      <td>False</td>\n",
       "      <td>False</td>\n",
       "      <td>t3_abe185</td>\n",
       "      <td>t3_abe185</td>\n",
       "      <td>/r/CryptoCurrency/comments/abe185/nanobased_co...</td>\n",
       "      <td>15</td>\n",
       "      <td>CryptoCurrency</td>\n",
       "      <td>t5_2wlj3</td>\n",
       "      <td>abe185</td>\n",
       "    </tr>\n",
       "    <tr>\n",
       "      <th>761</th>\n",
       "      <td>761</td>\n",
       "      <td>[deleted]</td>\n",
       "      <td>NaN</td>\n",
       "      <td>NaN</td>\n",
       "      <td>NaN</td>\n",
       "      <td>[deleted]</td>\n",
       "      <td>1546311845</td>\n",
       "      <td>NaN</td>\n",
       "      <td>eczmth9</td>\n",
       "      <td>False</td>\n",
       "      <td>True</td>\n",
       "      <td>t3_abe185</td>\n",
       "      <td>t3_abe185</td>\n",
       "      <td>/r/CryptoCurrency/comments/abe185/nanobased_co...</td>\n",
       "      <td>-7</td>\n",
       "      <td>CryptoCurrency</td>\n",
       "      <td>t5_2wlj3</td>\n",
       "      <td>abe185</td>\n",
       "    </tr>\n",
       "    <tr>\n",
       "      <th>780</th>\n",
       "      <td>780</td>\n",
       "      <td>PWPersian</td>\n",
       "      <td>1.359339e+09</td>\n",
       "      <td>t2_adwjh</td>\n",
       "      <td>Crypto Expert | QC: CC 116, NANO 26</td>\n",
       "      <td>Not sure if I understand the immediate questio...</td>\n",
       "      <td>1546312254</td>\n",
       "      <td>NaN</td>\n",
       "      <td>eczn82w</td>\n",
       "      <td>False</td>\n",
       "      <td>False</td>\n",
       "      <td>t3_abe185</td>\n",
       "      <td>t1_eczmth9</td>\n",
       "      <td>/r/CryptoCurrency/comments/abe185/nanobased_co...</td>\n",
       "      <td>20</td>\n",
       "      <td>CryptoCurrency</td>\n",
       "      <td>t5_2wlj3</td>\n",
       "      <td>abe185</td>\n",
       "    </tr>\n",
       "    <tr>\n",
       "      <th>803</th>\n",
       "      <td>803</td>\n",
       "      <td>[deleted]</td>\n",
       "      <td>NaN</td>\n",
       "      <td>NaN</td>\n",
       "      <td>NaN</td>\n",
       "      <td>[deleted]</td>\n",
       "      <td>1546312754</td>\n",
       "      <td>NaN</td>\n",
       "      <td>ecznpql</td>\n",
       "      <td>False</td>\n",
       "      <td>False</td>\n",
       "      <td>t3_abe185</td>\n",
       "      <td>t3_abe185</td>\n",
       "      <td>/r/CryptoCurrency/comments/abe185/nanobased_co...</td>\n",
       "      <td>91</td>\n",
       "      <td>CryptoCurrency</td>\n",
       "      <td>t5_2wlj3</td>\n",
       "      <td>abe185</td>\n",
       "    </tr>\n",
       "    <tr>\n",
       "      <th>...</th>\n",
       "      <td>...</td>\n",
       "      <td>...</td>\n",
       "      <td>...</td>\n",
       "      <td>...</td>\n",
       "      <td>...</td>\n",
       "      <td>...</td>\n",
       "      <td>...</td>\n",
       "      <td>...</td>\n",
       "      <td>...</td>\n",
       "      <td>...</td>\n",
       "      <td>...</td>\n",
       "      <td>...</td>\n",
       "      <td>...</td>\n",
       "      <td>...</td>\n",
       "      <td>...</td>\n",
       "      <td>...</td>\n",
       "      <td>...</td>\n",
       "      <td>...</td>\n",
       "    </tr>\n",
       "    <tr>\n",
       "      <th>15226557</th>\n",
       "      <td>1686434</td>\n",
       "      <td>NeitherMedicine4327</td>\n",
       "      <td>1.611194e+09</td>\n",
       "      <td>t2_9wpc0yub</td>\n",
       "      <td></td>\n",
       "      <td>[proof that McAfee is alive](https://youtu.be/...</td>\n",
       "      <td>1625097592</td>\n",
       "      <td>NaN</td>\n",
       "      <td>h3mfvm4</td>\n",
       "      <td>False</td>\n",
       "      <td>True</td>\n",
       "      <td>t3_oakuzj</td>\n",
       "      <td>t3_oakuzj</td>\n",
       "      <td>/r/CryptoCurrency/comments/oakuzj/daily_discus...</td>\n",
       "      <td>2</td>\n",
       "      <td>CryptoCurrency</td>\n",
       "      <td>t5_2wlj3</td>\n",
       "      <td>oakuzj</td>\n",
       "    </tr>\n",
       "    <tr>\n",
       "      <th>15226558</th>\n",
       "      <td>1686435</td>\n",
       "      <td>ForPOTUS</td>\n",
       "      <td>1.515308e+09</td>\n",
       "      <td>t2_1odqgq</td>\n",
       "      <td>NaN</td>\n",
       "      <td>What does this translate into percentiles wise?</td>\n",
       "      <td>1625097592</td>\n",
       "      <td>NaN</td>\n",
       "      <td>h3mfvmm</td>\n",
       "      <td>False</td>\n",
       "      <td>True</td>\n",
       "      <td>t3_ob0b53</td>\n",
       "      <td>t3_ob0b53</td>\n",
       "      <td>/r/ethereum/comments/ob0b53/ethereum_whale_add...</td>\n",
       "      <td>1</td>\n",
       "      <td>ethereum</td>\n",
       "      <td>t5_2zf9m</td>\n",
       "      <td>ob0b53</td>\n",
       "    </tr>\n",
       "    <tr>\n",
       "      <th>15226559</th>\n",
       "      <td>1686436</td>\n",
       "      <td>kaykurokawa</td>\n",
       "      <td>1.361598e+09</td>\n",
       "      <td>t2_ap8ql</td>\n",
       "      <td>NaN</td>\n",
       "      <td>If the politicians were smarter and younger, t...</td>\n",
       "      <td>1625097594</td>\n",
       "      <td>NaN</td>\n",
       "      <td>h3mfvqx</td>\n",
       "      <td>False</td>\n",
       "      <td>False</td>\n",
       "      <td>t3_oania1</td>\n",
       "      <td>t3_oania1</td>\n",
       "      <td>/r/Bitcoin/comments/oania1/wtf_we_need_younger...</td>\n",
       "      <td>2</td>\n",
       "      <td>Bitcoin</td>\n",
       "      <td>t5_2s3qj</td>\n",
       "      <td>oania1</td>\n",
       "    </tr>\n",
       "    <tr>\n",
       "      <th>15226561</th>\n",
       "      <td>1686438</td>\n",
       "      <td>DDD420247</td>\n",
       "      <td>1.601696e+09</td>\n",
       "      <td>t2_4f8aqtur</td>\n",
       "      <td>NaN</td>\n",
       "      <td>It's not worth arguing over it, my pops is the...</td>\n",
       "      <td>1625097595</td>\n",
       "      <td>NaN</td>\n",
       "      <td>h3mfvu0</td>\n",
       "      <td>False</td>\n",
       "      <td>True</td>\n",
       "      <td>t3_oawc0n</td>\n",
       "      <td>t3_oawc0n</td>\n",
       "      <td>/r/Bitcoin/comments/oawc0n/so_i_had_an_argumen...</td>\n",
       "      <td>2</td>\n",
       "      <td>Bitcoin</td>\n",
       "      <td>t5_2s3qj</td>\n",
       "      <td>oawc0n</td>\n",
       "    </tr>\n",
       "    <tr>\n",
       "      <th>15226563</th>\n",
       "      <td>1686440</td>\n",
       "      <td>DamnItBrother</td>\n",
       "      <td>1.595563e+09</td>\n",
       "      <td>t2_7e2rfhxw</td>\n",
       "      <td>NaN</td>\n",
       "      <td>Right most of then started as random accounts ...</td>\n",
       "      <td>1625097599</td>\n",
       "      <td>NaN</td>\n",
       "      <td>h3mfw2h</td>\n",
       "      <td>False</td>\n",
       "      <td>True</td>\n",
       "      <td>t3_oasp6i</td>\n",
       "      <td>t3_oasp6i</td>\n",
       "      <td>/r/CryptoCurrency/comments/oasp6i/dont_accept_...</td>\n",
       "      <td>1</td>\n",
       "      <td>CryptoCurrency</td>\n",
       "      <td>t5_2wlj3</td>\n",
       "      <td>oasp6i</td>\n",
       "    </tr>\n",
       "  </tbody>\n",
       "</table>\n",
       "<p>8002409 rows × 18 columns</p>\n",
       "</div>"
      ],
      "text/plain": [
       "          Unnamed: 0               author  author_created_utc author_fullname  \\\n",
       "599              599               Qwahzi        1.377738e+09        t2_cxj01   \n",
       "741              741           drumboy256        1.508639e+09      t2_i70i7yj   \n",
       "761              761            [deleted]                 NaN             NaN   \n",
       "780              780            PWPersian        1.359339e+09        t2_adwjh   \n",
       "803              803            [deleted]                 NaN             NaN   \n",
       "...              ...                  ...                 ...             ...   \n",
       "15226557     1686434  NeitherMedicine4327        1.611194e+09     t2_9wpc0yub   \n",
       "15226558     1686435             ForPOTUS        1.515308e+09       t2_1odqgq   \n",
       "15226559     1686436          kaykurokawa        1.361598e+09        t2_ap8ql   \n",
       "15226561     1686438            DDD420247        1.601696e+09     t2_4f8aqtur   \n",
       "15226563     1686440        DamnItBrother        1.595563e+09     t2_7e2rfhxw   \n",
       "\n",
       "                            author_flair_text  \\\n",
       "599         Crypto God | QC: NANO 303, CC 159   \n",
       "741           Crypto God | QC: CC 109, ARK 62   \n",
       "761                                       NaN   \n",
       "780       Crypto Expert | QC: CC 116, NANO 26   \n",
       "803                                       NaN   \n",
       "...                                       ...   \n",
       "15226557                                        \n",
       "15226558                                  NaN   \n",
       "15226559                                  NaN   \n",
       "15226561                                  NaN   \n",
       "15226563                                  NaN   \n",
       "\n",
       "                                                       body  created_utc  \\\n",
       "599       Full quote:\\n\\n&gt; Our goals are not simply t...   1546309348   \n",
       "741                           Spoiler alert, they won’t be.   1546311383   \n",
       "761                                               [deleted]   1546311845   \n",
       "780       Not sure if I understand the immediate questio...   1546312254   \n",
       "803                                               [deleted]   1546312754   \n",
       "...                                                     ...          ...   \n",
       "15226557  [proof that McAfee is alive](https://youtu.be/...   1625097592   \n",
       "15226558    What does this translate into percentiles wise?   1625097592   \n",
       "15226559  If the politicians were smarter and younger, t...   1625097594   \n",
       "15226561  It's not worth arguing over it, my pops is the...   1625097595   \n",
       "15226563  Right most of then started as random accounts ...   1625097599   \n",
       "\n",
       "         distinguished       id  is_submitter  no_follow    link_id  \\\n",
       "599                NaN  eczke7y          True      False  t3_abe185   \n",
       "741                NaN  eczmcxl         False      False  t3_abe185   \n",
       "761                NaN  eczmth9         False       True  t3_abe185   \n",
       "780                NaN  eczn82w         False      False  t3_abe185   \n",
       "803                NaN  ecznpql         False      False  t3_abe185   \n",
       "...                ...      ...           ...        ...        ...   \n",
       "15226557           NaN  h3mfvm4         False       True  t3_oakuzj   \n",
       "15226558           NaN  h3mfvmm         False       True  t3_ob0b53   \n",
       "15226559           NaN  h3mfvqx         False      False  t3_oania1   \n",
       "15226561           NaN  h3mfvu0         False       True  t3_oawc0n   \n",
       "15226563           NaN  h3mfw2h         False       True  t3_oasp6i   \n",
       "\n",
       "           parent_id                                          permalink  \\\n",
       "599        t3_abe185  /r/CryptoCurrency/comments/abe185/nanobased_co...   \n",
       "741        t3_abe185  /r/CryptoCurrency/comments/abe185/nanobased_co...   \n",
       "761        t3_abe185  /r/CryptoCurrency/comments/abe185/nanobased_co...   \n",
       "780       t1_eczmth9  /r/CryptoCurrency/comments/abe185/nanobased_co...   \n",
       "803        t3_abe185  /r/CryptoCurrency/comments/abe185/nanobased_co...   \n",
       "...              ...                                                ...   \n",
       "15226557   t3_oakuzj  /r/CryptoCurrency/comments/oakuzj/daily_discus...   \n",
       "15226558   t3_ob0b53  /r/ethereum/comments/ob0b53/ethereum_whale_add...   \n",
       "15226559   t3_oania1  /r/Bitcoin/comments/oania1/wtf_we_need_younger...   \n",
       "15226561   t3_oawc0n  /r/Bitcoin/comments/oawc0n/so_i_had_an_argumen...   \n",
       "15226563   t3_oasp6i  /r/CryptoCurrency/comments/oasp6i/dont_accept_...   \n",
       "\n",
       "          score       subreddit subreddit_id submission_id  \n",
       "599          37  CryptoCurrency     t5_2wlj3        abe185  \n",
       "741          15  CryptoCurrency     t5_2wlj3        abe185  \n",
       "761          -7  CryptoCurrency     t5_2wlj3        abe185  \n",
       "780          20  CryptoCurrency     t5_2wlj3        abe185  \n",
       "803          91  CryptoCurrency     t5_2wlj3        abe185  \n",
       "...         ...             ...          ...           ...  \n",
       "15226557      2  CryptoCurrency     t5_2wlj3        oakuzj  \n",
       "15226558      1        ethereum     t5_2zf9m        ob0b53  \n",
       "15226559      2         Bitcoin     t5_2s3qj        oania1  \n",
       "15226561      2         Bitcoin     t5_2s3qj        oawc0n  \n",
       "15226563      1  CryptoCurrency     t5_2wlj3        oasp6i  \n",
       "\n",
       "[8002409 rows x 18 columns]"
      ]
     },
     "execution_count": 11,
     "metadata": {},
     "output_type": "execute_result"
    }
   ],
   "source": [
    "c"
   ]
  },
  {
   "cell_type": "code",
   "execution_count": 12,
   "id": "c35ab547",
   "metadata": {},
   "outputs": [],
   "source": [
    "c.sort_values(by='score',ascending=False).head(500000).to_pickle('top500k_comments.pickle')"
   ]
  },
  {
   "cell_type": "code",
   "execution_count": 35,
   "id": "394a2d51",
   "metadata": {},
   "outputs": [],
   "source": [
    "c1=pd.read_pickle('top500k_comments.pickle')"
   ]
  },
  {
   "cell_type": "code",
   "execution_count": 5,
   "id": "c0281862",
   "metadata": {},
   "outputs": [],
   "source": [
    "top_authors=s.groupby('author').score.sum().sort_values(ascending=False).tail(-1).head(100).reset_index().author.tolist()"
   ]
  },
  {
   "cell_type": "code",
   "execution_count": 5,
   "id": "23508781",
   "metadata": {},
   "outputs": [],
   "source": []
  },
  {
   "cell_type": "code",
   "execution_count": 6,
   "id": "fce8cca8",
   "metadata": {},
   "outputs": [],
   "source": [
    "from transformers import AutoTokenizer, AutoModelForSequenceClassification\n",
    "import torch\n",
    "tokenizer = AutoTokenizer.from_pretrained(\"distilbert-base-uncased-finetuned-sst-2-english\")\n",
    "model = AutoModelForSequenceClassification.from_pretrained(\"distilbert-base-uncased-finetuned-sst-2-english\")\n",
    "\n",
    "def distil_bert(x):\n",
    "    tokens = tokenizer.encode_plus(x, add_special_tokens=True,return_tensors='pt')\n",
    "    outputs = model(**tokens)\n",
    "    probs = torch.nn.functional.softmax(outputs.logits, dim=-1)\n",
    "    return probs"
   ]
  },
  {
   "cell_type": "code",
   "execution_count": 7,
   "id": "3b853e1c",
   "metadata": {
    "pycharm": {
     "name": "#%%\n"
    }
   },
   "outputs": [],
   "source": [
    "test_text='this is a test text but this text test is a good test text'"
   ]
  },
  {
   "cell_type": "code",
   "execution_count": 8,
   "id": "5ef9d529",
   "metadata": {
    "pycharm": {
     "name": "#%%\n"
    }
   },
   "outputs": [
    {
     "data": {
      "text/plain": "tensor([0.0011, 0.9989], grad_fn=<SelectBackward>)"
     },
     "execution_count": 8,
     "metadata": {},
     "output_type": "execute_result"
    }
   ],
   "source": [
    "distil_bert(test_text)[0]"
   ]
  },
  {
   "cell_type": "code",
   "execution_count": 9,
   "id": "121dee4c",
   "metadata": {
    "pycharm": {
     "name": "#%%\n"
    }
   },
   "outputs": [
    {
     "data": {
      "text/plain": "1"
     },
     "execution_count": 9,
     "metadata": {},
     "output_type": "execute_result"
    }
   ],
   "source": [
    "torch.argmax(distil_bert(test_text).mean(dim=0)).item()"
   ]
  },
  {
   "cell_type": "code",
   "execution_count": 10,
   "id": "f8ed3a95",
   "metadata": {
    "pycharm": {
     "name": "#%%\n"
    }
   },
   "outputs": [],
   "source": [
    "\n",
    "df=s[(s.title.notna())&(s.author.isin(top_authors))]\n",
    "df['distil_bert']=df[df.author.isin(top_authors)].title.apply(distil_bert)"
   ]
  },
  {
   "cell_type": "code",
   "execution_count": 10,
   "id": "77b66680",
   "metadata": {
    "pycharm": {
     "name": "#%%\n"
    }
   },
   "outputs": [],
   "source": []
  },
  {
   "cell_type": "code",
   "execution_count": 11,
   "id": "dfbdfe68",
   "metadata": {
    "pycharm": {
     "name": "#%%\n"
    }
   },
   "outputs": [],
   "source": [
    "df['negative_sent']=df.distil_bert.apply(lambda x: x[0][0].item())\n",
    "df['positive_sent']=df.distil_bert.apply(lambda x: x[0][1].item())"
   ]
  },
  {
   "cell_type": "code",
   "execution_count": 12,
   "id": "04642775",
   "metadata": {
    "pycharm": {
     "name": "#%%\n"
    }
   },
   "outputs": [],
   "source": [
    "df['date']=pd.to_datetime(df.created)"
   ]
  },
  {
   "cell_type": "code",
   "execution_count": 13,
   "id": "f8f798f2",
   "metadata": {
    "pycharm": {
     "name": "#%%\n"
    }
   },
   "outputs": [],
   "source": [
    "df=df.set_index('date')"
   ]
  },
  {
   "cell_type": "code",
   "execution_count": 19,
   "id": "b6f4d945",
   "metadata": {
    "pycharm": {
     "name": "#%%\n"
    }
   },
   "outputs": [],
   "source": [
    "df['polarity']=df.positive_sent-df.negative_sent"
   ]
  },
  {
   "cell_type": "code",
   "execution_count": 20,
   "id": "9286c1da",
   "metadata": {
    "pycharm": {
     "name": "#%%\n"
    }
   },
   "outputs": [
    {
     "data": {
      "text/plain": "date\n2019-01-31    -8.120726\n2019-02-28   -24.178170\n2019-03-31    -8.192262\n2019-04-30     5.393724\n2019-05-31    -3.768803\n2019-06-30    10.324135\n2019-07-31    16.990453\n2019-08-31    13.495051\n2019-09-30    11.162619\n2019-10-31    -0.953579\n2019-11-30     5.604950\n2019-12-31     0.920531\n2020-01-31     3.713032\n2020-02-29     2.231061\n2020-03-31     3.828537\n2020-04-30    -5.267383\n2020-05-31     6.088842\n2020-06-30    -0.805273\n2020-07-31    -1.920710\n2020-08-31    -8.744243\n2020-09-30    -0.587542\n2020-10-31     0.313752\n2020-11-30     6.475888\n2020-12-31    -4.693636\n2021-01-31     4.390042\n2021-02-28    17.970979\n2021-03-31   -15.240077\n2021-04-30   -35.459422\n2021-05-31   -36.189237\n2021-06-30   -13.179006\nFreq: M, Name: polarity, dtype: float64"
     },
     "execution_count": 20,
     "metadata": {},
     "output_type": "execute_result"
    }
   ],
   "source": [
    "df.polarity.resample('m').sum()"
   ]
  },
  {
   "cell_type": "code",
   "execution_count": 22,
   "id": "a64cca79",
   "metadata": {
    "pycharm": {
     "name": "#%%\n"
    }
   },
   "outputs": [
    {
     "data": {
      "text/plain": "<IPython.core.display.HTML object>",
      "text/html": "<style>.container { width:98% !important; }</style>"
     },
     "metadata": {},
     "output_type": "display_data"
    }
   ],
   "source": [
    "import plotly.graph_objects as go\n",
    "from plotly.subplots import make_subplots\n",
    "from IPython.core.display import display, HTML\n",
    "display(HTML(\"<style>.container { width:98% !important; }</style>\"))\n"
   ]
  },
  {
   "cell_type": "code",
   "execution_count": 83,
   "id": "14da26ca",
   "metadata": {
    "pycharm": {
     "name": "#%%\n"
    }
   },
   "outputs": [
    {
     "data": {
      "application/vnd.plotly.v1+json": {
       "config": {
        "plotlyServerURL": "https://plot.ly"
       },
       "data": [
        {
         "name": "LR-Model",
         "type": "scatter",
         "x": [
          "2019-01-06T00:00:00",
          "2019-01-13T00:00:00",
          "2019-01-20T00:00:00",
          "2019-01-27T00:00:00",
          "2019-02-03T00:00:00",
          "2019-02-10T00:00:00",
          "2019-02-17T00:00:00",
          "2019-02-24T00:00:00",
          "2019-03-03T00:00:00",
          "2019-03-10T00:00:00",
          "2019-03-17T00:00:00",
          "2019-03-24T00:00:00",
          "2019-03-31T00:00:00",
          "2019-04-07T00:00:00",
          "2019-04-14T00:00:00",
          "2019-04-21T00:00:00",
          "2019-04-28T00:00:00",
          "2019-05-05T00:00:00",
          "2019-05-12T00:00:00",
          "2019-05-19T00:00:00",
          "2019-05-26T00:00:00",
          "2019-06-02T00:00:00",
          "2019-06-09T00:00:00",
          "2019-06-16T00:00:00",
          "2019-06-23T00:00:00",
          "2019-06-30T00:00:00",
          "2019-07-07T00:00:00",
          "2019-07-14T00:00:00",
          "2019-07-21T00:00:00",
          "2019-07-28T00:00:00",
          "2019-08-04T00:00:00",
          "2019-08-11T00:00:00",
          "2019-08-18T00:00:00",
          "2019-08-25T00:00:00",
          "2019-09-01T00:00:00",
          "2019-09-08T00:00:00",
          "2019-09-15T00:00:00",
          "2019-09-22T00:00:00",
          "2019-09-29T00:00:00",
          "2019-10-06T00:00:00",
          "2019-10-13T00:00:00",
          "2019-10-20T00:00:00",
          "2019-10-27T00:00:00",
          "2019-11-03T00:00:00",
          "2019-11-10T00:00:00",
          "2019-11-17T00:00:00",
          "2019-11-24T00:00:00",
          "2019-12-01T00:00:00",
          "2019-12-08T00:00:00",
          "2019-12-15T00:00:00",
          "2019-12-22T00:00:00",
          "2019-12-29T00:00:00",
          "2020-01-05T00:00:00",
          "2020-01-12T00:00:00",
          "2020-01-19T00:00:00",
          "2020-01-26T00:00:00",
          "2020-02-02T00:00:00",
          "2020-02-09T00:00:00",
          "2020-02-16T00:00:00",
          "2020-02-23T00:00:00",
          "2020-03-01T00:00:00",
          "2020-03-08T00:00:00",
          "2020-03-15T00:00:00",
          "2020-03-22T00:00:00",
          "2020-03-29T00:00:00",
          "2020-04-05T00:00:00",
          "2020-04-12T00:00:00",
          "2020-04-19T00:00:00",
          "2020-04-26T00:00:00",
          "2020-05-03T00:00:00",
          "2020-05-10T00:00:00",
          "2020-05-17T00:00:00",
          "2020-05-24T00:00:00",
          "2020-05-31T00:00:00",
          "2020-06-07T00:00:00",
          "2020-06-14T00:00:00",
          "2020-06-21T00:00:00",
          "2020-06-28T00:00:00",
          "2020-07-05T00:00:00",
          "2020-07-12T00:00:00",
          "2020-07-19T00:00:00",
          "2020-07-26T00:00:00",
          "2020-08-02T00:00:00",
          "2020-08-09T00:00:00",
          "2020-08-16T00:00:00",
          "2020-08-23T00:00:00",
          "2020-08-30T00:00:00",
          "2020-09-06T00:00:00",
          "2020-09-13T00:00:00",
          "2020-09-20T00:00:00",
          "2020-09-27T00:00:00",
          "2020-10-04T00:00:00",
          "2020-10-11T00:00:00",
          "2020-10-18T00:00:00",
          "2020-10-25T00:00:00",
          "2020-11-01T00:00:00",
          "2020-11-08T00:00:00",
          "2020-11-15T00:00:00",
          "2020-11-22T00:00:00",
          "2020-11-29T00:00:00",
          "2020-12-06T00:00:00",
          "2020-12-13T00:00:00",
          "2020-12-20T00:00:00",
          "2020-12-27T00:00:00",
          "2021-01-03T00:00:00",
          "2021-01-10T00:00:00",
          "2021-01-17T00:00:00",
          "2021-01-24T00:00:00",
          "2021-01-31T00:00:00",
          "2021-02-07T00:00:00",
          "2021-02-14T00:00:00",
          "2021-02-21T00:00:00",
          "2021-02-28T00:00:00",
          "2021-03-07T00:00:00",
          "2021-03-14T00:00:00",
          "2021-03-21T00:00:00",
          "2021-03-28T00:00:00",
          "2021-04-04T00:00:00",
          "2021-04-11T00:00:00",
          "2021-04-18T00:00:00",
          "2021-04-25T00:00:00",
          "2021-05-02T00:00:00",
          "2021-05-09T00:00:00",
          "2021-05-16T00:00:00",
          "2021-05-23T00:00:00",
          "2021-05-30T00:00:00",
          "2021-06-06T00:00:00",
          "2021-06-13T00:00:00",
          "2021-06-20T00:00:00",
          "2021-06-27T00:00:00",
          "2021-07-04T00:00:00"
         ],
         "xaxis": "x",
         "y": [
          -2.1010609415825456,
          -2.6335705347009934,
          -2.9392568087787367,
          -0.8302063690498471,
          -1.545416690845741,
          -5.047145222313702,
          -4.230797353782691,
          -6.942769069428323,
          -8.938389229879249,
          -6.049880428239703,
          -0.520819190365728,
          0.4725109933060594,
          0.8156427011708729,
          1.6847687673289329,
          -1.2855880737188272,
          2.042503459379077,
          5.133275792468339,
          -3.3383964953245595,
          -4.9760323313385015,
          1.728750386639149,
          0.13333387993043289,
          0.831876325129997,
          4.468696800962789,
          1.125980607321253,
          2.039016581722535,
          2.36087082393351,
          3.118574930689647,
          5.395177088386845,
          7.646552789345151,
          3.24608724785503,
          0.8494018331984989,
          4.749845444923267,
          1.0889240968972445,
          0.543718356086174,
          3.6441731758386595,
          5.951008208823623,
          -0.33532276953337714,
          2.694486835389398,
          2.77012646116782,
          -2.155937913179514,
          -1.8361743340210523,
          -0.8754662409191951,
          4.129317245911807,
          0.0700522493571043,
          -0.6171019820030779,
          0.7648121243692003,
          4.619327440741472,
          0.5348205572227016,
          0.158718493883498,
          -0.5804805254447274,
          3.262851633131504,
          -0.6192670407472178,
          0.5688174138776958,
          -1.4205471168388613,
          2.944451265328098,
          1.017121443292126,
          1.043986153556034,
          4.58684027439449,
          -0.6564988719474059,
          -3.2632650035375264,
          0.6004542006703559,
          1.7474073072662577,
          -0.07741104980232194,
          5.498507678392343,
          -3.7825053866254166,
          -1.0349427581531927,
          -3.57387155899778,
          -0.3280488981108647,
          0.3710281522362493,
          -0.47063267015619203,
          3.195583062595688,
          0.42192828725092113,
          0.08780962025048211,
          2.1196776394499466,
          1.6973574154544622,
          -4.3938941709348,
          -0.9655863450607285,
          2.2091287046205252,
          -0.27583289821632206,
          -0.9966994267888367,
          -5.164465430541895,
          -1.6553960658056894,
          6.610215979395434,
          -1.0172208335716277,
          -4.21927301568212,
          -5.267746101075318,
          1.7753816450422164,
          5.4331351816654205,
          0.6574544625473209,
          -1.8880056045600213,
          -3.108483750052983,
          -4.2583188422140665,
          3.181333623448154,
          -2.043891824025195,
          0.5251250140427146,
          3.6320810408797115,
          4.164169347845018,
          -2.7676990219333675,
          0.9186760082957335,
          0.09186656610108912,
          7.059440476412419,
          -5.641155852965312,
          -0.9588130793854361,
          -3.4037939184636343,
          -0.2808552181813866,
          6.193371356159332,
          1.6714370454283198,
          -1.5453286354313605,
          -1.5394371079892153,
          6.240288144836086,
          3.517246319417609,
          -4.6421448571491055,
          12.855589260274428,
          -3.3957322897040285,
          -6.232931116857799,
          -2.024945861805463,
          -2.7699959870660678,
          -1.4799785405193688,
          -19.713983212932362,
          2.6479164483898785,
          -0.9715698782529216,
          -18.996450575636118,
          -12.431028396997135,
          -8.101999491045717,
          -9.51858285315393,
          -6.4682391116948565,
          3.5326144723949255,
          -10.405173080042005,
          2.5473167643212946,
          -4.084361350425752,
          -2.2006182079203427
         ],
         "yaxis": "y"
        },
        {
         "name": "Bit Coin Avg",
         "type": "scatter",
         "x": [
          "2019-01-06T00:00:00",
          "2019-01-13T00:00:00",
          "2019-01-20T00:00:00",
          "2019-01-27T00:00:00",
          "2019-02-03T00:00:00",
          "2019-02-10T00:00:00",
          "2019-02-17T00:00:00",
          "2019-02-24T00:00:00",
          "2019-03-03T00:00:00",
          "2019-03-10T00:00:00",
          "2019-03-17T00:00:00",
          "2019-03-24T00:00:00",
          "2019-03-31T00:00:00",
          "2019-04-07T00:00:00",
          "2019-04-14T00:00:00",
          "2019-04-21T00:00:00",
          "2019-04-28T00:00:00",
          "2019-05-05T00:00:00",
          "2019-05-12T00:00:00",
          "2019-05-19T00:00:00",
          "2019-05-26T00:00:00",
          "2019-06-02T00:00:00",
          "2019-06-09T00:00:00",
          "2019-06-16T00:00:00",
          "2019-06-23T00:00:00",
          "2019-06-30T00:00:00",
          "2019-07-07T00:00:00",
          "2019-07-14T00:00:00",
          "2019-07-21T00:00:00",
          "2019-07-28T00:00:00",
          "2019-08-04T00:00:00",
          "2019-08-11T00:00:00",
          "2019-08-18T00:00:00",
          "2019-08-25T00:00:00",
          "2019-09-01T00:00:00",
          "2019-09-08T00:00:00",
          "2019-09-15T00:00:00",
          "2019-09-22T00:00:00",
          "2019-09-29T00:00:00",
          "2019-10-06T00:00:00",
          "2019-10-13T00:00:00",
          "2019-10-20T00:00:00",
          "2019-10-27T00:00:00",
          "2019-11-03T00:00:00",
          "2019-11-10T00:00:00",
          "2019-11-17T00:00:00",
          "2019-11-24T00:00:00",
          "2019-12-01T00:00:00",
          "2019-12-08T00:00:00",
          "2019-12-15T00:00:00",
          "2019-12-22T00:00:00",
          "2019-12-29T00:00:00",
          "2020-01-05T00:00:00",
          "2020-01-12T00:00:00",
          "2020-01-19T00:00:00",
          "2020-01-26T00:00:00",
          "2020-02-02T00:00:00",
          "2020-02-09T00:00:00",
          "2020-02-16T00:00:00",
          "2020-02-23T00:00:00",
          "2020-03-01T00:00:00",
          "2020-03-08T00:00:00",
          "2020-03-15T00:00:00",
          "2020-03-22T00:00:00",
          "2020-03-29T00:00:00",
          "2020-04-05T00:00:00",
          "2020-04-12T00:00:00",
          "2020-04-19T00:00:00",
          "2020-04-26T00:00:00",
          "2020-05-03T00:00:00",
          "2020-05-10T00:00:00",
          "2020-05-17T00:00:00",
          "2020-05-24T00:00:00",
          "2020-05-31T00:00:00",
          "2020-06-07T00:00:00",
          "2020-06-14T00:00:00",
          "2020-06-21T00:00:00",
          "2020-06-28T00:00:00",
          "2020-07-05T00:00:00",
          "2020-07-12T00:00:00",
          "2020-07-19T00:00:00",
          "2020-07-26T00:00:00",
          "2020-08-02T00:00:00",
          "2020-08-09T00:00:00",
          "2020-08-16T00:00:00",
          "2020-08-23T00:00:00",
          "2020-08-30T00:00:00",
          "2020-09-06T00:00:00",
          "2020-09-13T00:00:00",
          "2020-09-20T00:00:00",
          "2020-09-27T00:00:00",
          "2020-10-04T00:00:00",
          "2020-10-11T00:00:00",
          "2020-10-18T00:00:00",
          "2020-10-25T00:00:00",
          "2020-11-01T00:00:00",
          "2020-11-08T00:00:00",
          "2020-11-15T00:00:00",
          "2020-11-22T00:00:00",
          "2020-11-29T00:00:00",
          "2020-12-06T00:00:00",
          "2020-12-13T00:00:00",
          "2020-12-20T00:00:00",
          "2020-12-27T00:00:00",
          "2021-01-03T00:00:00",
          "2021-01-10T00:00:00",
          "2021-01-17T00:00:00",
          "2021-01-24T00:00:00",
          "2021-01-31T00:00:00",
          "2021-02-07T00:00:00",
          "2021-02-14T00:00:00",
          "2021-02-21T00:00:00",
          "2021-02-28T00:00:00",
          "2021-03-07T00:00:00",
          "2021-03-14T00:00:00",
          "2021-03-21T00:00:00",
          "2021-03-28T00:00:00",
          "2021-04-04T00:00:00",
          "2021-04-11T00:00:00",
          "2021-04-18T00:00:00",
          "2021-04-25T00:00:00",
          "2021-05-02T00:00:00",
          "2021-05-09T00:00:00",
          "2021-05-16T00:00:00",
          "2021-05-23T00:00:00",
          "2021-05-30T00:00:00",
          "2021-06-06T00:00:00",
          "2021-06-13T00:00:00",
          "2021-06-20T00:00:00",
          "2021-06-27T00:00:00"
         ],
         "xaxis": "x",
         "y": [
          null,
          -1.3026416728571348,
          -191.68058162142825,
          -69.39728495999952,
          -117.44688860500037,
          43.857065525714006,
          121.56805073142868,
          322.10176574642855,
          -103.04428661500015,
          29.56457524642883,
          58.830517980714376,
          93.12962941714295,
          15.015368372856756,
          789.6541524921431,
          323.78684869142853,
          73.14813983428576,
          126.9233299771422,
          145.0228677192863,
          752.3619960528567,
          1465.1400091864289,
          233.17101791500045,
          656.1147303185708,
          -680.8571992364277,
          371.90992284785625,
          1449.5949529585723,
          1956.006841307857,
          -614.7579767942862,
          639.0884236442853,
          -1429.2173521192854,
          -419.85038844500014,
          280.3957474828567,
          1475.9426097385713,
          -1104.5027549021434,
          -199.97984476071179,
          -493.19244912428803,
          618.962922587858,
          -198.99229530714183,
          -109.90749741714353,
          -1566.642031084286,
          -391.69812002785693,
          161.86349575714303,
          -231.1694391378578,
          229.97752156785737,
          940.4065485342853,
          -138.28067601928524,
          -457.4720134449999,
          -920.9515899300004,
          -390.3901693592852,
          44.14636191642785,
          -183.67108937142802,
          -170.8748804878569,
          267.3141230399997,
          -83.14245084499998,
          710.1946525328567,
          699.7812909450013,
          -145.8363947828584,
          712.2975237721421,
          361.79064469714467,
          495.7601963721427,
          -364.1194394428585,
          -744.9513543121429,
          -155.95792868928402,
          -2277.496811866429,
          -886.9916420549998,
          765.370654083571,
          174.8740063821433,
          482.3673837428569,
          -124.29503701499925,
          300.1899638814284,
          1237.1375589128556,
          792.4491304664298,
          -83.2760826335707,
          153.82070129714157,
          -139.89093303214213,
          476.85008628499963,
          -117.23274360071446,
          -223.59470292642982,
          -61.26702599428427,
          -172.1223524950001,
          130.9061286092856,
          -81.3665502749991,
          302.07541047142877,
          1634.7199728171418,
          404.05646626071393,
          191.18466334285768,
          112.21374540714169,
          -325.29235034999874,
          -526.9282754849992,
          -692.3948451114284,
          575.9206735178577,
          -272.5283629742862,
          86.06360614357072,
          227.55460594214128,
          508.8757331285724,
          1149.6656949807148,
          864.4629088628571,
          1117.6809360628577,
          1219.2379391078575,
          1990.1922684378533,
          241.6929595407164,
          1038.1266441757143,
          -468.078281512142,
          3037.663419432145,
          2640.981502266426,
          4897.984271074289,
          7320.257662509281,
          -484.6669354778569,
          -2162.7147065899917,
          -864.1862124328618,
          3846.2479046549997,
          9440.12822932857,
          5978.981237594286,
          -3657.043785389287,
          375.3410973321443,
          7058.752674845004,
          1387.4714405635677,
          -2707.118224949285,
          3814.9927989842836,
          38.9338115878636,
          2723.9517058892816,
          -8658.665543938572,
          2412.9457008614263,
          1896.8451355157158,
          -5349.324644239998,
          -12392.45653896714,
          -1909.0712911328592,
          -407.9538302521396,
          -1161.3265559542924,
          2216.9089038578604,
          -5062.872122392146
         ],
         "yaxis": "y2"
        }
       ],
       "layout": {
        "template": {
         "data": {
          "bar": [
           {
            "error_x": {
             "color": "#2a3f5f"
            },
            "error_y": {
             "color": "#2a3f5f"
            },
            "marker": {
             "line": {
              "color": "#E5ECF6",
              "width": 0.5
             }
            },
            "type": "bar"
           }
          ],
          "barpolar": [
           {
            "marker": {
             "line": {
              "color": "#E5ECF6",
              "width": 0.5
             }
            },
            "type": "barpolar"
           }
          ],
          "carpet": [
           {
            "aaxis": {
             "endlinecolor": "#2a3f5f",
             "gridcolor": "white",
             "linecolor": "white",
             "minorgridcolor": "white",
             "startlinecolor": "#2a3f5f"
            },
            "baxis": {
             "endlinecolor": "#2a3f5f",
             "gridcolor": "white",
             "linecolor": "white",
             "minorgridcolor": "white",
             "startlinecolor": "#2a3f5f"
            },
            "type": "carpet"
           }
          ],
          "choropleth": [
           {
            "colorbar": {
             "outlinewidth": 0,
             "ticks": ""
            },
            "type": "choropleth"
           }
          ],
          "contour": [
           {
            "colorbar": {
             "outlinewidth": 0,
             "ticks": ""
            },
            "colorscale": [
             [
              0.0,
              "#0d0887"
             ],
             [
              0.1111111111111111,
              "#46039f"
             ],
             [
              0.2222222222222222,
              "#7201a8"
             ],
             [
              0.3333333333333333,
              "#9c179e"
             ],
             [
              0.4444444444444444,
              "#bd3786"
             ],
             [
              0.5555555555555556,
              "#d8576b"
             ],
             [
              0.6666666666666666,
              "#ed7953"
             ],
             [
              0.7777777777777778,
              "#fb9f3a"
             ],
             [
              0.8888888888888888,
              "#fdca26"
             ],
             [
              1.0,
              "#f0f921"
             ]
            ],
            "type": "contour"
           }
          ],
          "contourcarpet": [
           {
            "colorbar": {
             "outlinewidth": 0,
             "ticks": ""
            },
            "type": "contourcarpet"
           }
          ],
          "heatmap": [
           {
            "colorbar": {
             "outlinewidth": 0,
             "ticks": ""
            },
            "colorscale": [
             [
              0.0,
              "#0d0887"
             ],
             [
              0.1111111111111111,
              "#46039f"
             ],
             [
              0.2222222222222222,
              "#7201a8"
             ],
             [
              0.3333333333333333,
              "#9c179e"
             ],
             [
              0.4444444444444444,
              "#bd3786"
             ],
             [
              0.5555555555555556,
              "#d8576b"
             ],
             [
              0.6666666666666666,
              "#ed7953"
             ],
             [
              0.7777777777777778,
              "#fb9f3a"
             ],
             [
              0.8888888888888888,
              "#fdca26"
             ],
             [
              1.0,
              "#f0f921"
             ]
            ],
            "type": "heatmap"
           }
          ],
          "heatmapgl": [
           {
            "colorbar": {
             "outlinewidth": 0,
             "ticks": ""
            },
            "colorscale": [
             [
              0.0,
              "#0d0887"
             ],
             [
              0.1111111111111111,
              "#46039f"
             ],
             [
              0.2222222222222222,
              "#7201a8"
             ],
             [
              0.3333333333333333,
              "#9c179e"
             ],
             [
              0.4444444444444444,
              "#bd3786"
             ],
             [
              0.5555555555555556,
              "#d8576b"
             ],
             [
              0.6666666666666666,
              "#ed7953"
             ],
             [
              0.7777777777777778,
              "#fb9f3a"
             ],
             [
              0.8888888888888888,
              "#fdca26"
             ],
             [
              1.0,
              "#f0f921"
             ]
            ],
            "type": "heatmapgl"
           }
          ],
          "histogram": [
           {
            "marker": {
             "colorbar": {
              "outlinewidth": 0,
              "ticks": ""
             }
            },
            "type": "histogram"
           }
          ],
          "histogram2d": [
           {
            "colorbar": {
             "outlinewidth": 0,
             "ticks": ""
            },
            "colorscale": [
             [
              0.0,
              "#0d0887"
             ],
             [
              0.1111111111111111,
              "#46039f"
             ],
             [
              0.2222222222222222,
              "#7201a8"
             ],
             [
              0.3333333333333333,
              "#9c179e"
             ],
             [
              0.4444444444444444,
              "#bd3786"
             ],
             [
              0.5555555555555556,
              "#d8576b"
             ],
             [
              0.6666666666666666,
              "#ed7953"
             ],
             [
              0.7777777777777778,
              "#fb9f3a"
             ],
             [
              0.8888888888888888,
              "#fdca26"
             ],
             [
              1.0,
              "#f0f921"
             ]
            ],
            "type": "histogram2d"
           }
          ],
          "histogram2dcontour": [
           {
            "colorbar": {
             "outlinewidth": 0,
             "ticks": ""
            },
            "colorscale": [
             [
              0.0,
              "#0d0887"
             ],
             [
              0.1111111111111111,
              "#46039f"
             ],
             [
              0.2222222222222222,
              "#7201a8"
             ],
             [
              0.3333333333333333,
              "#9c179e"
             ],
             [
              0.4444444444444444,
              "#bd3786"
             ],
             [
              0.5555555555555556,
              "#d8576b"
             ],
             [
              0.6666666666666666,
              "#ed7953"
             ],
             [
              0.7777777777777778,
              "#fb9f3a"
             ],
             [
              0.8888888888888888,
              "#fdca26"
             ],
             [
              1.0,
              "#f0f921"
             ]
            ],
            "type": "histogram2dcontour"
           }
          ],
          "mesh3d": [
           {
            "colorbar": {
             "outlinewidth": 0,
             "ticks": ""
            },
            "type": "mesh3d"
           }
          ],
          "parcoords": [
           {
            "line": {
             "colorbar": {
              "outlinewidth": 0,
              "ticks": ""
             }
            },
            "type": "parcoords"
           }
          ],
          "pie": [
           {
            "automargin": true,
            "type": "pie"
           }
          ],
          "scatter": [
           {
            "marker": {
             "colorbar": {
              "outlinewidth": 0,
              "ticks": ""
             }
            },
            "type": "scatter"
           }
          ],
          "scatter3d": [
           {
            "line": {
             "colorbar": {
              "outlinewidth": 0,
              "ticks": ""
             }
            },
            "marker": {
             "colorbar": {
              "outlinewidth": 0,
              "ticks": ""
             }
            },
            "type": "scatter3d"
           }
          ],
          "scattercarpet": [
           {
            "marker": {
             "colorbar": {
              "outlinewidth": 0,
              "ticks": ""
             }
            },
            "type": "scattercarpet"
           }
          ],
          "scattergeo": [
           {
            "marker": {
             "colorbar": {
              "outlinewidth": 0,
              "ticks": ""
             }
            },
            "type": "scattergeo"
           }
          ],
          "scattergl": [
           {
            "marker": {
             "colorbar": {
              "outlinewidth": 0,
              "ticks": ""
             }
            },
            "type": "scattergl"
           }
          ],
          "scattermapbox": [
           {
            "marker": {
             "colorbar": {
              "outlinewidth": 0,
              "ticks": ""
             }
            },
            "type": "scattermapbox"
           }
          ],
          "scatterpolar": [
           {
            "marker": {
             "colorbar": {
              "outlinewidth": 0,
              "ticks": ""
             }
            },
            "type": "scatterpolar"
           }
          ],
          "scatterpolargl": [
           {
            "marker": {
             "colorbar": {
              "outlinewidth": 0,
              "ticks": ""
             }
            },
            "type": "scatterpolargl"
           }
          ],
          "scatterternary": [
           {
            "marker": {
             "colorbar": {
              "outlinewidth": 0,
              "ticks": ""
             }
            },
            "type": "scatterternary"
           }
          ],
          "surface": [
           {
            "colorbar": {
             "outlinewidth": 0,
             "ticks": ""
            },
            "colorscale": [
             [
              0.0,
              "#0d0887"
             ],
             [
              0.1111111111111111,
              "#46039f"
             ],
             [
              0.2222222222222222,
              "#7201a8"
             ],
             [
              0.3333333333333333,
              "#9c179e"
             ],
             [
              0.4444444444444444,
              "#bd3786"
             ],
             [
              0.5555555555555556,
              "#d8576b"
             ],
             [
              0.6666666666666666,
              "#ed7953"
             ],
             [
              0.7777777777777778,
              "#fb9f3a"
             ],
             [
              0.8888888888888888,
              "#fdca26"
             ],
             [
              1.0,
              "#f0f921"
             ]
            ],
            "type": "surface"
           }
          ],
          "table": [
           {
            "cells": {
             "fill": {
              "color": "#EBF0F8"
             },
             "line": {
              "color": "white"
             }
            },
            "header": {
             "fill": {
              "color": "#C8D4E3"
             },
             "line": {
              "color": "white"
             }
            },
            "type": "table"
           }
          ]
         },
         "layout": {
          "annotationdefaults": {
           "arrowcolor": "#2a3f5f",
           "arrowhead": 0,
           "arrowwidth": 1
          },
          "coloraxis": {
           "colorbar": {
            "outlinewidth": 0,
            "ticks": ""
           }
          },
          "colorscale": {
           "diverging": [
            [
             0,
             "#8e0152"
            ],
            [
             0.1,
             "#c51b7d"
            ],
            [
             0.2,
             "#de77ae"
            ],
            [
             0.3,
             "#f1b6da"
            ],
            [
             0.4,
             "#fde0ef"
            ],
            [
             0.5,
             "#f7f7f7"
            ],
            [
             0.6,
             "#e6f5d0"
            ],
            [
             0.7,
             "#b8e186"
            ],
            [
             0.8,
             "#7fbc41"
            ],
            [
             0.9,
             "#4d9221"
            ],
            [
             1,
             "#276419"
            ]
           ],
           "sequential": [
            [
             0.0,
             "#0d0887"
            ],
            [
             0.1111111111111111,
             "#46039f"
            ],
            [
             0.2222222222222222,
             "#7201a8"
            ],
            [
             0.3333333333333333,
             "#9c179e"
            ],
            [
             0.4444444444444444,
             "#bd3786"
            ],
            [
             0.5555555555555556,
             "#d8576b"
            ],
            [
             0.6666666666666666,
             "#ed7953"
            ],
            [
             0.7777777777777778,
             "#fb9f3a"
            ],
            [
             0.8888888888888888,
             "#fdca26"
            ],
            [
             1.0,
             "#f0f921"
            ]
           ],
           "sequentialminus": [
            [
             0.0,
             "#0d0887"
            ],
            [
             0.1111111111111111,
             "#46039f"
            ],
            [
             0.2222222222222222,
             "#7201a8"
            ],
            [
             0.3333333333333333,
             "#9c179e"
            ],
            [
             0.4444444444444444,
             "#bd3786"
            ],
            [
             0.5555555555555556,
             "#d8576b"
            ],
            [
             0.6666666666666666,
             "#ed7953"
            ],
            [
             0.7777777777777778,
             "#fb9f3a"
            ],
            [
             0.8888888888888888,
             "#fdca26"
            ],
            [
             1.0,
             "#f0f921"
            ]
           ]
          },
          "colorway": [
           "#636efa",
           "#EF553B",
           "#00cc96",
           "#ab63fa",
           "#FFA15A",
           "#19d3f3",
           "#FF6692",
           "#B6E880",
           "#FF97FF",
           "#FECB52"
          ],
          "font": {
           "color": "#2a3f5f"
          },
          "geo": {
           "bgcolor": "white",
           "lakecolor": "white",
           "landcolor": "#E5ECF6",
           "showlakes": true,
           "showland": true,
           "subunitcolor": "white"
          },
          "hoverlabel": {
           "align": "left"
          },
          "hovermode": "closest",
          "mapbox": {
           "style": "light"
          },
          "paper_bgcolor": "white",
          "plot_bgcolor": "#E5ECF6",
          "polar": {
           "angularaxis": {
            "gridcolor": "white",
            "linecolor": "white",
            "ticks": ""
           },
           "bgcolor": "#E5ECF6",
           "radialaxis": {
            "gridcolor": "white",
            "linecolor": "white",
            "ticks": ""
           }
          },
          "scene": {
           "xaxis": {
            "backgroundcolor": "#E5ECF6",
            "gridcolor": "white",
            "gridwidth": 2,
            "linecolor": "white",
            "showbackground": true,
            "ticks": "",
            "zerolinecolor": "white"
           },
           "yaxis": {
            "backgroundcolor": "#E5ECF6",
            "gridcolor": "white",
            "gridwidth": 2,
            "linecolor": "white",
            "showbackground": true,
            "ticks": "",
            "zerolinecolor": "white"
           },
           "zaxis": {
            "backgroundcolor": "#E5ECF6",
            "gridcolor": "white",
            "gridwidth": 2,
            "linecolor": "white",
            "showbackground": true,
            "ticks": "",
            "zerolinecolor": "white"
           }
          },
          "shapedefaults": {
           "line": {
            "color": "#2a3f5f"
           }
          },
          "ternary": {
           "aaxis": {
            "gridcolor": "white",
            "linecolor": "white",
            "ticks": ""
           },
           "baxis": {
            "gridcolor": "white",
            "linecolor": "white",
            "ticks": ""
           },
           "bgcolor": "#E5ECF6",
           "caxis": {
            "gridcolor": "white",
            "linecolor": "white",
            "ticks": ""
           }
          },
          "title": {
           "x": 0.05
          },
          "xaxis": {
           "automargin": true,
           "gridcolor": "white",
           "linecolor": "white",
           "ticks": "",
           "title": {
            "standoff": 15
           },
           "zerolinecolor": "white",
           "zerolinewidth": 2
          },
          "yaxis": {
           "automargin": true,
           "gridcolor": "white",
           "linecolor": "white",
           "ticks": "",
           "title": {
            "standoff": 15
           },
           "zerolinecolor": "white",
           "zerolinewidth": 2
          }
         }
        },
        "title": {
         "text": "BTC vs LR Sentiment Model - Weekly"
        },
        "xaxis": {
         "anchor": "y",
         "domain": [
          0.0,
          0.94
         ],
         "title": {
          "text": "Date"
         }
        },
        "yaxis": {
         "anchor": "x",
         "domain": [
          0.0,
          1.0
         ],
         "title": {
          "text": "<b>Sentiment Polarity </b>"
         }
        },
        "yaxis2": {
         "anchor": "x",
         "overlaying": "y",
         "side": "right",
         "title": {
          "text": "<b>BTC Price</b>"
         }
        }
       }
      },
      "text/html": "<div>                            <div id=\"8ad454f7-fc32-4be0-9d36-0e1fe0345348\" class=\"plotly-graph-div\" style=\"height:525px; width:100%;\"></div>            <script type=\"text/javascript\">                require([\"plotly\"], function(Plotly) {                    window.PLOTLYENV=window.PLOTLYENV || {};                                    if (document.getElementById(\"8ad454f7-fc32-4be0-9d36-0e1fe0345348\")) {                    Plotly.newPlot(                        \"8ad454f7-fc32-4be0-9d36-0e1fe0345348\",                        [{\"name\": \"LR-Model\", \"type\": \"scatter\", \"x\": [\"2019-01-06T00:00:00\", \"2019-01-13T00:00:00\", \"2019-01-20T00:00:00\", \"2019-01-27T00:00:00\", \"2019-02-03T00:00:00\", \"2019-02-10T00:00:00\", \"2019-02-17T00:00:00\", \"2019-02-24T00:00:00\", \"2019-03-03T00:00:00\", \"2019-03-10T00:00:00\", \"2019-03-17T00:00:00\", \"2019-03-24T00:00:00\", \"2019-03-31T00:00:00\", \"2019-04-07T00:00:00\", \"2019-04-14T00:00:00\", \"2019-04-21T00:00:00\", \"2019-04-28T00:00:00\", \"2019-05-05T00:00:00\", \"2019-05-12T00:00:00\", \"2019-05-19T00:00:00\", \"2019-05-26T00:00:00\", \"2019-06-02T00:00:00\", \"2019-06-09T00:00:00\", \"2019-06-16T00:00:00\", \"2019-06-23T00:00:00\", \"2019-06-30T00:00:00\", \"2019-07-07T00:00:00\", \"2019-07-14T00:00:00\", \"2019-07-21T00:00:00\", \"2019-07-28T00:00:00\", \"2019-08-04T00:00:00\", \"2019-08-11T00:00:00\", \"2019-08-18T00:00:00\", \"2019-08-25T00:00:00\", \"2019-09-01T00:00:00\", \"2019-09-08T00:00:00\", \"2019-09-15T00:00:00\", \"2019-09-22T00:00:00\", \"2019-09-29T00:00:00\", \"2019-10-06T00:00:00\", \"2019-10-13T00:00:00\", \"2019-10-20T00:00:00\", \"2019-10-27T00:00:00\", \"2019-11-03T00:00:00\", \"2019-11-10T00:00:00\", \"2019-11-17T00:00:00\", \"2019-11-24T00:00:00\", \"2019-12-01T00:00:00\", \"2019-12-08T00:00:00\", \"2019-12-15T00:00:00\", \"2019-12-22T00:00:00\", \"2019-12-29T00:00:00\", \"2020-01-05T00:00:00\", \"2020-01-12T00:00:00\", \"2020-01-19T00:00:00\", \"2020-01-26T00:00:00\", \"2020-02-02T00:00:00\", \"2020-02-09T00:00:00\", \"2020-02-16T00:00:00\", \"2020-02-23T00:00:00\", \"2020-03-01T00:00:00\", \"2020-03-08T00:00:00\", \"2020-03-15T00:00:00\", \"2020-03-22T00:00:00\", \"2020-03-29T00:00:00\", \"2020-04-05T00:00:00\", \"2020-04-12T00:00:00\", \"2020-04-19T00:00:00\", \"2020-04-26T00:00:00\", \"2020-05-03T00:00:00\", \"2020-05-10T00:00:00\", \"2020-05-17T00:00:00\", \"2020-05-24T00:00:00\", \"2020-05-31T00:00:00\", \"2020-06-07T00:00:00\", \"2020-06-14T00:00:00\", \"2020-06-21T00:00:00\", \"2020-06-28T00:00:00\", \"2020-07-05T00:00:00\", \"2020-07-12T00:00:00\", \"2020-07-19T00:00:00\", \"2020-07-26T00:00:00\", \"2020-08-02T00:00:00\", \"2020-08-09T00:00:00\", \"2020-08-16T00:00:00\", \"2020-08-23T00:00:00\", \"2020-08-30T00:00:00\", \"2020-09-06T00:00:00\", \"2020-09-13T00:00:00\", \"2020-09-20T00:00:00\", \"2020-09-27T00:00:00\", \"2020-10-04T00:00:00\", \"2020-10-11T00:00:00\", \"2020-10-18T00:00:00\", \"2020-10-25T00:00:00\", \"2020-11-01T00:00:00\", \"2020-11-08T00:00:00\", \"2020-11-15T00:00:00\", \"2020-11-22T00:00:00\", \"2020-11-29T00:00:00\", \"2020-12-06T00:00:00\", \"2020-12-13T00:00:00\", \"2020-12-20T00:00:00\", \"2020-12-27T00:00:00\", \"2021-01-03T00:00:00\", \"2021-01-10T00:00:00\", \"2021-01-17T00:00:00\", \"2021-01-24T00:00:00\", \"2021-01-31T00:00:00\", \"2021-02-07T00:00:00\", \"2021-02-14T00:00:00\", \"2021-02-21T00:00:00\", \"2021-02-28T00:00:00\", \"2021-03-07T00:00:00\", \"2021-03-14T00:00:00\", \"2021-03-21T00:00:00\", \"2021-03-28T00:00:00\", \"2021-04-04T00:00:00\", \"2021-04-11T00:00:00\", \"2021-04-18T00:00:00\", \"2021-04-25T00:00:00\", \"2021-05-02T00:00:00\", \"2021-05-09T00:00:00\", \"2021-05-16T00:00:00\", \"2021-05-23T00:00:00\", \"2021-05-30T00:00:00\", \"2021-06-06T00:00:00\", \"2021-06-13T00:00:00\", \"2021-06-20T00:00:00\", \"2021-06-27T00:00:00\", \"2021-07-04T00:00:00\"], \"xaxis\": \"x\", \"y\": [-2.1010609415825456, -2.6335705347009934, -2.9392568087787367, -0.8302063690498471, -1.545416690845741, -5.047145222313702, -4.230797353782691, -6.942769069428323, -8.938389229879249, -6.049880428239703, -0.520819190365728, 0.4725109933060594, 0.8156427011708729, 1.6847687673289329, -1.2855880737188272, 2.042503459379077, 5.133275792468339, -3.3383964953245595, -4.9760323313385015, 1.728750386639149, 0.13333387993043289, 0.831876325129997, 4.468696800962789, 1.125980607321253, 2.039016581722535, 2.36087082393351, 3.118574930689647, 5.395177088386845, 7.646552789345151, 3.24608724785503, 0.8494018331984989, 4.749845444923267, 1.0889240968972445, 0.543718356086174, 3.6441731758386595, 5.951008208823623, -0.33532276953337714, 2.694486835389398, 2.77012646116782, -2.155937913179514, -1.8361743340210523, -0.8754662409191951, 4.129317245911807, 0.0700522493571043, -0.6171019820030779, 0.7648121243692003, 4.619327440741472, 0.5348205572227016, 0.158718493883498, -0.5804805254447274, 3.262851633131504, -0.6192670407472178, 0.5688174138776958, -1.4205471168388613, 2.944451265328098, 1.017121443292126, 1.043986153556034, 4.58684027439449, -0.6564988719474059, -3.2632650035375264, 0.6004542006703559, 1.7474073072662577, -0.07741104980232194, 5.498507678392343, -3.7825053866254166, -1.0349427581531927, -3.57387155899778, -0.3280488981108647, 0.3710281522362493, -0.47063267015619203, 3.195583062595688, 0.42192828725092113, 0.08780962025048211, 2.1196776394499466, 1.6973574154544622, -4.3938941709348, -0.9655863450607285, 2.2091287046205252, -0.27583289821632206, -0.9966994267888367, -5.164465430541895, -1.6553960658056894, 6.610215979395434, -1.0172208335716277, -4.21927301568212, -5.267746101075318, 1.7753816450422164, 5.4331351816654205, 0.6574544625473209, -1.8880056045600213, -3.108483750052983, -4.2583188422140665, 3.181333623448154, -2.043891824025195, 0.5251250140427146, 3.6320810408797115, 4.164169347845018, -2.7676990219333675, 0.9186760082957335, 0.09186656610108912, 7.059440476412419, -5.641155852965312, -0.9588130793854361, -3.4037939184636343, -0.2808552181813866, 6.193371356159332, 1.6714370454283198, -1.5453286354313605, -1.5394371079892153, 6.240288144836086, 3.517246319417609, -4.6421448571491055, 12.855589260274428, -3.3957322897040285, -6.232931116857799, -2.024945861805463, -2.7699959870660678, -1.4799785405193688, -19.713983212932362, 2.6479164483898785, -0.9715698782529216, -18.996450575636118, -12.431028396997135, -8.101999491045717, -9.51858285315393, -6.4682391116948565, 3.5326144723949255, -10.405173080042005, 2.5473167643212946, -4.084361350425752, -2.2006182079203427], \"yaxis\": \"y\"}, {\"name\": \"Bit Coin Avg\", \"type\": \"scatter\", \"x\": [\"2019-01-06T00:00:00\", \"2019-01-13T00:00:00\", \"2019-01-20T00:00:00\", \"2019-01-27T00:00:00\", \"2019-02-03T00:00:00\", \"2019-02-10T00:00:00\", \"2019-02-17T00:00:00\", \"2019-02-24T00:00:00\", \"2019-03-03T00:00:00\", \"2019-03-10T00:00:00\", \"2019-03-17T00:00:00\", \"2019-03-24T00:00:00\", \"2019-03-31T00:00:00\", \"2019-04-07T00:00:00\", \"2019-04-14T00:00:00\", \"2019-04-21T00:00:00\", \"2019-04-28T00:00:00\", \"2019-05-05T00:00:00\", \"2019-05-12T00:00:00\", \"2019-05-19T00:00:00\", \"2019-05-26T00:00:00\", \"2019-06-02T00:00:00\", \"2019-06-09T00:00:00\", \"2019-06-16T00:00:00\", \"2019-06-23T00:00:00\", \"2019-06-30T00:00:00\", \"2019-07-07T00:00:00\", \"2019-07-14T00:00:00\", \"2019-07-21T00:00:00\", \"2019-07-28T00:00:00\", \"2019-08-04T00:00:00\", \"2019-08-11T00:00:00\", \"2019-08-18T00:00:00\", \"2019-08-25T00:00:00\", \"2019-09-01T00:00:00\", \"2019-09-08T00:00:00\", \"2019-09-15T00:00:00\", \"2019-09-22T00:00:00\", \"2019-09-29T00:00:00\", \"2019-10-06T00:00:00\", \"2019-10-13T00:00:00\", \"2019-10-20T00:00:00\", \"2019-10-27T00:00:00\", \"2019-11-03T00:00:00\", \"2019-11-10T00:00:00\", \"2019-11-17T00:00:00\", \"2019-11-24T00:00:00\", \"2019-12-01T00:00:00\", \"2019-12-08T00:00:00\", \"2019-12-15T00:00:00\", \"2019-12-22T00:00:00\", \"2019-12-29T00:00:00\", \"2020-01-05T00:00:00\", \"2020-01-12T00:00:00\", \"2020-01-19T00:00:00\", \"2020-01-26T00:00:00\", \"2020-02-02T00:00:00\", \"2020-02-09T00:00:00\", \"2020-02-16T00:00:00\", \"2020-02-23T00:00:00\", \"2020-03-01T00:00:00\", \"2020-03-08T00:00:00\", \"2020-03-15T00:00:00\", \"2020-03-22T00:00:00\", \"2020-03-29T00:00:00\", \"2020-04-05T00:00:00\", \"2020-04-12T00:00:00\", \"2020-04-19T00:00:00\", \"2020-04-26T00:00:00\", \"2020-05-03T00:00:00\", \"2020-05-10T00:00:00\", \"2020-05-17T00:00:00\", \"2020-05-24T00:00:00\", \"2020-05-31T00:00:00\", \"2020-06-07T00:00:00\", \"2020-06-14T00:00:00\", \"2020-06-21T00:00:00\", \"2020-06-28T00:00:00\", \"2020-07-05T00:00:00\", \"2020-07-12T00:00:00\", \"2020-07-19T00:00:00\", \"2020-07-26T00:00:00\", \"2020-08-02T00:00:00\", \"2020-08-09T00:00:00\", \"2020-08-16T00:00:00\", \"2020-08-23T00:00:00\", \"2020-08-30T00:00:00\", \"2020-09-06T00:00:00\", \"2020-09-13T00:00:00\", \"2020-09-20T00:00:00\", \"2020-09-27T00:00:00\", \"2020-10-04T00:00:00\", \"2020-10-11T00:00:00\", \"2020-10-18T00:00:00\", \"2020-10-25T00:00:00\", \"2020-11-01T00:00:00\", \"2020-11-08T00:00:00\", \"2020-11-15T00:00:00\", \"2020-11-22T00:00:00\", \"2020-11-29T00:00:00\", \"2020-12-06T00:00:00\", \"2020-12-13T00:00:00\", \"2020-12-20T00:00:00\", \"2020-12-27T00:00:00\", \"2021-01-03T00:00:00\", \"2021-01-10T00:00:00\", \"2021-01-17T00:00:00\", \"2021-01-24T00:00:00\", \"2021-01-31T00:00:00\", \"2021-02-07T00:00:00\", \"2021-02-14T00:00:00\", \"2021-02-21T00:00:00\", \"2021-02-28T00:00:00\", \"2021-03-07T00:00:00\", \"2021-03-14T00:00:00\", \"2021-03-21T00:00:00\", \"2021-03-28T00:00:00\", \"2021-04-04T00:00:00\", \"2021-04-11T00:00:00\", \"2021-04-18T00:00:00\", \"2021-04-25T00:00:00\", \"2021-05-02T00:00:00\", \"2021-05-09T00:00:00\", \"2021-05-16T00:00:00\", \"2021-05-23T00:00:00\", \"2021-05-30T00:00:00\", \"2021-06-06T00:00:00\", \"2021-06-13T00:00:00\", \"2021-06-20T00:00:00\", \"2021-06-27T00:00:00\"], \"xaxis\": \"x\", \"y\": [null, -1.3026416728571348, -191.68058162142825, -69.39728495999952, -117.44688860500037, 43.857065525714006, 121.56805073142868, 322.10176574642855, -103.04428661500015, 29.56457524642883, 58.830517980714376, 93.12962941714295, 15.015368372856756, 789.6541524921431, 323.78684869142853, 73.14813983428576, 126.9233299771422, 145.0228677192863, 752.3619960528567, 1465.1400091864289, 233.17101791500045, 656.1147303185708, -680.8571992364277, 371.90992284785625, 1449.5949529585723, 1956.006841307857, -614.7579767942862, 639.0884236442853, -1429.2173521192854, -419.85038844500014, 280.3957474828567, 1475.9426097385713, -1104.5027549021434, -199.97984476071179, -493.19244912428803, 618.962922587858, -198.99229530714183, -109.90749741714353, -1566.642031084286, -391.69812002785693, 161.86349575714303, -231.1694391378578, 229.97752156785737, 940.4065485342853, -138.28067601928524, -457.4720134449999, -920.9515899300004, -390.3901693592852, 44.14636191642785, -183.67108937142802, -170.8748804878569, 267.3141230399997, -83.14245084499998, 710.1946525328567, 699.7812909450013, -145.8363947828584, 712.2975237721421, 361.79064469714467, 495.7601963721427, -364.1194394428585, -744.9513543121429, -155.95792868928402, -2277.496811866429, -886.9916420549998, 765.370654083571, 174.8740063821433, 482.3673837428569, -124.29503701499925, 300.1899638814284, 1237.1375589128556, 792.4491304664298, -83.2760826335707, 153.82070129714157, -139.89093303214213, 476.85008628499963, -117.23274360071446, -223.59470292642982, -61.26702599428427, -172.1223524950001, 130.9061286092856, -81.3665502749991, 302.07541047142877, 1634.7199728171418, 404.05646626071393, 191.18466334285768, 112.21374540714169, -325.29235034999874, -526.9282754849992, -692.3948451114284, 575.9206735178577, -272.5283629742862, 86.06360614357072, 227.55460594214128, 508.8757331285724, 1149.6656949807148, 864.4629088628571, 1117.6809360628577, 1219.2379391078575, 1990.1922684378533, 241.6929595407164, 1038.1266441757143, -468.078281512142, 3037.663419432145, 2640.981502266426, 4897.984271074289, 7320.257662509281, -484.6669354778569, -2162.7147065899917, -864.1862124328618, 3846.2479046549997, 9440.12822932857, 5978.981237594286, -3657.043785389287, 375.3410973321443, 7058.752674845004, 1387.4714405635677, -2707.118224949285, 3814.9927989842836, 38.9338115878636, 2723.9517058892816, -8658.665543938572, 2412.9457008614263, 1896.8451355157158, -5349.324644239998, -12392.45653896714, -1909.0712911328592, -407.9538302521396, -1161.3265559542924, 2216.9089038578604, -5062.872122392146], \"yaxis\": \"y2\"}],                        {\"template\": {\"data\": {\"bar\": [{\"error_x\": {\"color\": \"#2a3f5f\"}, \"error_y\": {\"color\": \"#2a3f5f\"}, \"marker\": {\"line\": {\"color\": \"#E5ECF6\", \"width\": 0.5}}, \"type\": \"bar\"}], \"barpolar\": [{\"marker\": {\"line\": {\"color\": \"#E5ECF6\", \"width\": 0.5}}, \"type\": \"barpolar\"}], \"carpet\": [{\"aaxis\": {\"endlinecolor\": \"#2a3f5f\", \"gridcolor\": \"white\", \"linecolor\": \"white\", \"minorgridcolor\": \"white\", \"startlinecolor\": \"#2a3f5f\"}, \"baxis\": {\"endlinecolor\": \"#2a3f5f\", \"gridcolor\": \"white\", \"linecolor\": \"white\", \"minorgridcolor\": \"white\", \"startlinecolor\": \"#2a3f5f\"}, \"type\": \"carpet\"}], \"choropleth\": [{\"colorbar\": {\"outlinewidth\": 0, \"ticks\": \"\"}, \"type\": \"choropleth\"}], \"contour\": [{\"colorbar\": {\"outlinewidth\": 0, \"ticks\": \"\"}, \"colorscale\": [[0.0, \"#0d0887\"], [0.1111111111111111, \"#46039f\"], [0.2222222222222222, \"#7201a8\"], [0.3333333333333333, \"#9c179e\"], [0.4444444444444444, \"#bd3786\"], [0.5555555555555556, \"#d8576b\"], [0.6666666666666666, \"#ed7953\"], [0.7777777777777778, \"#fb9f3a\"], [0.8888888888888888, \"#fdca26\"], [1.0, \"#f0f921\"]], \"type\": \"contour\"}], \"contourcarpet\": [{\"colorbar\": {\"outlinewidth\": 0, \"ticks\": \"\"}, \"type\": \"contourcarpet\"}], \"heatmap\": [{\"colorbar\": {\"outlinewidth\": 0, \"ticks\": \"\"}, \"colorscale\": [[0.0, \"#0d0887\"], [0.1111111111111111, \"#46039f\"], [0.2222222222222222, \"#7201a8\"], [0.3333333333333333, \"#9c179e\"], [0.4444444444444444, \"#bd3786\"], [0.5555555555555556, \"#d8576b\"], [0.6666666666666666, \"#ed7953\"], [0.7777777777777778, \"#fb9f3a\"], [0.8888888888888888, \"#fdca26\"], [1.0, \"#f0f921\"]], \"type\": \"heatmap\"}], \"heatmapgl\": [{\"colorbar\": {\"outlinewidth\": 0, \"ticks\": \"\"}, \"colorscale\": [[0.0, \"#0d0887\"], [0.1111111111111111, \"#46039f\"], [0.2222222222222222, \"#7201a8\"], [0.3333333333333333, \"#9c179e\"], [0.4444444444444444, \"#bd3786\"], [0.5555555555555556, \"#d8576b\"], [0.6666666666666666, \"#ed7953\"], [0.7777777777777778, \"#fb9f3a\"], [0.8888888888888888, \"#fdca26\"], [1.0, \"#f0f921\"]], \"type\": \"heatmapgl\"}], \"histogram\": [{\"marker\": {\"colorbar\": {\"outlinewidth\": 0, \"ticks\": \"\"}}, \"type\": \"histogram\"}], \"histogram2d\": [{\"colorbar\": {\"outlinewidth\": 0, \"ticks\": \"\"}, \"colorscale\": [[0.0, \"#0d0887\"], [0.1111111111111111, \"#46039f\"], [0.2222222222222222, \"#7201a8\"], [0.3333333333333333, \"#9c179e\"], [0.4444444444444444, \"#bd3786\"], [0.5555555555555556, \"#d8576b\"], [0.6666666666666666, \"#ed7953\"], [0.7777777777777778, \"#fb9f3a\"], [0.8888888888888888, \"#fdca26\"], [1.0, \"#f0f921\"]], \"type\": \"histogram2d\"}], \"histogram2dcontour\": [{\"colorbar\": {\"outlinewidth\": 0, \"ticks\": \"\"}, \"colorscale\": [[0.0, \"#0d0887\"], [0.1111111111111111, \"#46039f\"], [0.2222222222222222, \"#7201a8\"], [0.3333333333333333, \"#9c179e\"], [0.4444444444444444, \"#bd3786\"], [0.5555555555555556, \"#d8576b\"], [0.6666666666666666, \"#ed7953\"], [0.7777777777777778, \"#fb9f3a\"], [0.8888888888888888, \"#fdca26\"], [1.0, \"#f0f921\"]], \"type\": \"histogram2dcontour\"}], \"mesh3d\": [{\"colorbar\": {\"outlinewidth\": 0, \"ticks\": \"\"}, \"type\": \"mesh3d\"}], \"parcoords\": [{\"line\": {\"colorbar\": {\"outlinewidth\": 0, \"ticks\": \"\"}}, \"type\": \"parcoords\"}], \"pie\": [{\"automargin\": true, \"type\": \"pie\"}], \"scatter\": [{\"marker\": {\"colorbar\": {\"outlinewidth\": 0, \"ticks\": \"\"}}, \"type\": \"scatter\"}], \"scatter3d\": [{\"line\": {\"colorbar\": {\"outlinewidth\": 0, \"ticks\": \"\"}}, \"marker\": {\"colorbar\": {\"outlinewidth\": 0, \"ticks\": \"\"}}, \"type\": \"scatter3d\"}], \"scattercarpet\": [{\"marker\": {\"colorbar\": {\"outlinewidth\": 0, \"ticks\": \"\"}}, \"type\": \"scattercarpet\"}], \"scattergeo\": [{\"marker\": {\"colorbar\": {\"outlinewidth\": 0, \"ticks\": \"\"}}, \"type\": \"scattergeo\"}], \"scattergl\": [{\"marker\": {\"colorbar\": {\"outlinewidth\": 0, \"ticks\": \"\"}}, \"type\": \"scattergl\"}], \"scattermapbox\": [{\"marker\": {\"colorbar\": {\"outlinewidth\": 0, \"ticks\": \"\"}}, \"type\": \"scattermapbox\"}], \"scatterpolar\": [{\"marker\": {\"colorbar\": {\"outlinewidth\": 0, \"ticks\": \"\"}}, \"type\": \"scatterpolar\"}], \"scatterpolargl\": [{\"marker\": {\"colorbar\": {\"outlinewidth\": 0, \"ticks\": \"\"}}, \"type\": \"scatterpolargl\"}], \"scatterternary\": [{\"marker\": {\"colorbar\": {\"outlinewidth\": 0, \"ticks\": \"\"}}, \"type\": \"scatterternary\"}], \"surface\": [{\"colorbar\": {\"outlinewidth\": 0, \"ticks\": \"\"}, \"colorscale\": [[0.0, \"#0d0887\"], [0.1111111111111111, \"#46039f\"], [0.2222222222222222, \"#7201a8\"], [0.3333333333333333, \"#9c179e\"], [0.4444444444444444, \"#bd3786\"], [0.5555555555555556, \"#d8576b\"], [0.6666666666666666, \"#ed7953\"], [0.7777777777777778, \"#fb9f3a\"], [0.8888888888888888, \"#fdca26\"], [1.0, \"#f0f921\"]], \"type\": \"surface\"}], \"table\": [{\"cells\": {\"fill\": {\"color\": \"#EBF0F8\"}, \"line\": {\"color\": \"white\"}}, \"header\": {\"fill\": {\"color\": \"#C8D4E3\"}, \"line\": {\"color\": \"white\"}}, \"type\": \"table\"}]}, \"layout\": {\"annotationdefaults\": {\"arrowcolor\": \"#2a3f5f\", \"arrowhead\": 0, \"arrowwidth\": 1}, \"coloraxis\": {\"colorbar\": {\"outlinewidth\": 0, \"ticks\": \"\"}}, \"colorscale\": {\"diverging\": [[0, \"#8e0152\"], [0.1, \"#c51b7d\"], [0.2, \"#de77ae\"], [0.3, \"#f1b6da\"], [0.4, \"#fde0ef\"], [0.5, \"#f7f7f7\"], [0.6, \"#e6f5d0\"], [0.7, \"#b8e186\"], [0.8, \"#7fbc41\"], [0.9, \"#4d9221\"], [1, \"#276419\"]], \"sequential\": [[0.0, \"#0d0887\"], [0.1111111111111111, \"#46039f\"], [0.2222222222222222, \"#7201a8\"], [0.3333333333333333, \"#9c179e\"], [0.4444444444444444, \"#bd3786\"], [0.5555555555555556, \"#d8576b\"], [0.6666666666666666, \"#ed7953\"], [0.7777777777777778, \"#fb9f3a\"], [0.8888888888888888, \"#fdca26\"], [1.0, \"#f0f921\"]], \"sequentialminus\": [[0.0, \"#0d0887\"], [0.1111111111111111, \"#46039f\"], [0.2222222222222222, \"#7201a8\"], [0.3333333333333333, \"#9c179e\"], [0.4444444444444444, \"#bd3786\"], [0.5555555555555556, \"#d8576b\"], [0.6666666666666666, \"#ed7953\"], [0.7777777777777778, \"#fb9f3a\"], [0.8888888888888888, \"#fdca26\"], [1.0, \"#f0f921\"]]}, \"colorway\": [\"#636efa\", \"#EF553B\", \"#00cc96\", \"#ab63fa\", \"#FFA15A\", \"#19d3f3\", \"#FF6692\", \"#B6E880\", \"#FF97FF\", \"#FECB52\"], \"font\": {\"color\": \"#2a3f5f\"}, \"geo\": {\"bgcolor\": \"white\", \"lakecolor\": \"white\", \"landcolor\": \"#E5ECF6\", \"showlakes\": true, \"showland\": true, \"subunitcolor\": \"white\"}, \"hoverlabel\": {\"align\": \"left\"}, \"hovermode\": \"closest\", \"mapbox\": {\"style\": \"light\"}, \"paper_bgcolor\": \"white\", \"plot_bgcolor\": \"#E5ECF6\", \"polar\": {\"angularaxis\": {\"gridcolor\": \"white\", \"linecolor\": \"white\", \"ticks\": \"\"}, \"bgcolor\": \"#E5ECF6\", \"radialaxis\": {\"gridcolor\": \"white\", \"linecolor\": \"white\", \"ticks\": \"\"}}, \"scene\": {\"xaxis\": {\"backgroundcolor\": \"#E5ECF6\", \"gridcolor\": \"white\", \"gridwidth\": 2, \"linecolor\": \"white\", \"showbackground\": true, \"ticks\": \"\", \"zerolinecolor\": \"white\"}, \"yaxis\": {\"backgroundcolor\": \"#E5ECF6\", \"gridcolor\": \"white\", \"gridwidth\": 2, \"linecolor\": \"white\", \"showbackground\": true, \"ticks\": \"\", \"zerolinecolor\": \"white\"}, \"zaxis\": {\"backgroundcolor\": \"#E5ECF6\", \"gridcolor\": \"white\", \"gridwidth\": 2, \"linecolor\": \"white\", \"showbackground\": true, \"ticks\": \"\", \"zerolinecolor\": \"white\"}}, \"shapedefaults\": {\"line\": {\"color\": \"#2a3f5f\"}}, \"ternary\": {\"aaxis\": {\"gridcolor\": \"white\", \"linecolor\": \"white\", \"ticks\": \"\"}, \"baxis\": {\"gridcolor\": \"white\", \"linecolor\": \"white\", \"ticks\": \"\"}, \"bgcolor\": \"#E5ECF6\", \"caxis\": {\"gridcolor\": \"white\", \"linecolor\": \"white\", \"ticks\": \"\"}}, \"title\": {\"x\": 0.05}, \"xaxis\": {\"automargin\": true, \"gridcolor\": \"white\", \"linecolor\": \"white\", \"ticks\": \"\", \"title\": {\"standoff\": 15}, \"zerolinecolor\": \"white\", \"zerolinewidth\": 2}, \"yaxis\": {\"automargin\": true, \"gridcolor\": \"white\", \"linecolor\": \"white\", \"ticks\": \"\", \"title\": {\"standoff\": 15}, \"zerolinecolor\": \"white\", \"zerolinewidth\": 2}}}, \"title\": {\"text\": \"BTC vs LR Sentiment Model - Weekly\"}, \"xaxis\": {\"anchor\": \"y\", \"domain\": [0.0, 0.94], \"title\": {\"text\": \"Date\"}}, \"yaxis\": {\"anchor\": \"x\", \"domain\": [0.0, 1.0], \"title\": {\"text\": \"<b>Sentiment Polarity </b>\"}}, \"yaxis2\": {\"anchor\": \"x\", \"overlaying\": \"y\", \"side\": \"right\", \"title\": {\"text\": \"<b>BTC Price</b>\"}}},                        {\"responsive\": true}                    ).then(function(){\n                            \nvar gd = document.getElementById('8ad454f7-fc32-4be0-9d36-0e1fe0345348');\nvar x = new MutationObserver(function (mutations, observer) {{\n        var display = window.getComputedStyle(gd).display;\n        if (!display || display === 'none') {{\n            console.log([gd, 'removed!']);\n            Plotly.purge(gd);\n            observer.disconnect();\n        }}\n}});\n\n// Listen for the removal of the full notebook cells\nvar notebookContainer = gd.closest('#notebook-container');\nif (notebookContainer) {{\n    x.observe(notebookContainer, {childList: true});\n}}\n\n// Listen for the clearing of the current output cell\nvar outputEl = gd.closest('.output');\nif (outputEl) {{\n    x.observe(outputEl, {childList: true});\n}}\n\n                        })                };                });            </script>        </div>"
     },
     "metadata": {},
     "output_type": "display_data"
    }
   ],
   "source": [
    "dchunk='w'\n",
    "a=df.resample(dchunk).sum().polarity\n",
    "btc_price=pd.read_csv(r\"C:\\Users\\Ben\\Desktop\\Diplomatiki\\CryptoSent\\Datasets\\other\\coin_Bitcoin.csv\")\n",
    "btc_price.Date=pd.to_datetime(btc_price.Date)\n",
    "btc_price=btc_price.set_index('Date')\n",
    "btc_price['avg_price']=(btc_price.High+btc_price.Low)/2\n",
    "\n",
    "btc_price_avg=btc_price.resample(dchunk).mean().loc['2019':'2021-06']['avg_price']\n",
    "\n",
    "# Create figure with secondary y-axis\n",
    "fig = make_subplots(specs=[[{\"secondary_y\": True}]])\n",
    "\n",
    "# Add traces\n",
    "fig.add_trace(\n",
    "    go.Scatter(x=a.index, y=a, name=\"LR-Model\"),\n",
    "    secondary_y=False,\n",
    ")\n",
    "\n",
    "fig.add_trace(\n",
    "    go.Scatter(x=btc_price_avg.index, y=btc_price_avg.diff(), name=\"Bit Coin Avg\"),\n",
    "    secondary_y=True,\n",
    ")\n",
    "\n",
    "# Add figure title\n",
    "fig.update_layout(\n",
    "    title_text=\"BTC vs LR Sentiment Model - Weekly\"\n",
    ")\n",
    "\n",
    "# Set x-axis title\n",
    "fig.update_xaxes(title_text=\"Date\")\n",
    "\n",
    "# Set y-axes titles\n",
    "fig.update_yaxes(title_text=\"<b>Sentiment Polarity </b>\", secondary_y=False)\n",
    "fig.update_yaxes(title_text=\"<b>BTC Price</b>\", secondary_y=True)\n",
    "\n",
    "fig.show()"
   ]
  },
  {
   "cell_type": "code",
   "execution_count": null,
   "id": "dd21d588",
   "metadata": {
    "pycharm": {
     "name": "#%%\n"
    }
   },
   "outputs": [],
   "source": []
  },
  {
   "cell_type": "code",
   "execution_count": null,
   "id": "e9b0b8dc",
   "metadata": {
    "pycharm": {
     "name": "#%%\n"
    }
   },
   "outputs": [],
   "source": []
  },
  {
   "cell_type": "code",
   "execution_count": 25,
   "outputs": [
    {
     "name": "stderr",
     "output_type": "stream",
     "text": [
      "100%|██████████| 1600000/1600000 [04:57<00:00, 5379.03it/s]\n",
      "100%|██████████| 1600000/1600000 [00:01<00:00, 1082649.87it/s]\n"
     ]
    }
   ],
   "source": [
    "import nltk\n",
    "import re\n",
    "wn = nltk.WordNetLemmatizer()\n",
    "ps = nltk.PorterStemmer()\n",
    "from nltk.corpus import stopwords\n",
    "cached_stopwords=stopwords.words('english')\n",
    "def clean_text(text):\n",
    "    text=regex_magic(text).lower()\n",
    "    text= re.sub('[0-9]+', '', text)#removed numbers\n",
    "    tokens = re.split('\\W+', text)    # tokenization\n",
    "    text = [ps.stem(word) for word in tokens if word not in cached_stopwords]  # remove stopwords and stemming\n",
    "    text = [wn.lemmatize(word) for word in text]\n",
    "    return text\n",
    "from tqdm import tqdm\n",
    "tqdm.pandas()\n",
    "\n",
    "regex_magic= lambda x: ' '.join(re.sub(\"(#[A-Za-z0-9]+)|(@[A-Za-z0-9]+)|([^0-9A-Za-z \\t])|(\\w+:\\/\\/\\S+)\",\" \",x).split())\n",
    "# Importing the dataset\n",
    "sent140 = pd.read_csv(r\"D:\\DTU\\Semester 3 - Fall 2020\\Social Graphs and Interactions\\__Final Project__\\Data Proofs\\trainingandtestdata\\sentiment140.csv\",\n",
    "                      encoding=\"ISO-8859-1\" , names=[\"sentiment\", \"ids\", \"date\", \"flag\", \"user\", \"text\"])\n",
    "#taking the columns that we need\n",
    "sent140 = sent140[['sentiment','text']]\n",
    "sent140['sentiment'] = sent140['sentiment'].replace(4,1)\n",
    "#preprocessing the text\n",
    "sent140['text_clean']=sent140.text.progress_apply(clean_text)\n",
    "sent140['text_clean_join']=sent140.text_clean.progress_apply(lambda x: ' '.join(x))"
   ],
   "metadata": {
    "collapsed": false,
    "pycharm": {
     "name": "#%%\n"
    }
   }
  },
  {
   "cell_type": "code",
   "execution_count": 27,
   "outputs": [],
   "source": [
    "from sklearn.model_selection import train_test_split\n",
    "from sklearn.feature_extraction.text import TfidfVectorizer\n",
    "X_train, X_test, y_train, y_test = train_test_split(sent140['text_clean_join'],\n",
    "                                                    sent140.sentiment,\n",
    "                                                    test_size = 0.05, random_state = 42)\n",
    "word2vec = TfidfVectorizer(ngram_range=(1,2), max_features=50000)\n",
    "word2vec.fit(X_train)\n",
    "X_train = word2vec.transform(X_train)\n",
    "X_test  = word2vec.transform(X_test)\n",
    "\n",
    "import _pickle as cPickle\n",
    "# load it again\n",
    "with open(r\"C:\\Users\\Ben\\Desktop\\Diplomatiki\\CryptoSent\\Sentiment Models\\my_dumped_classifier.pkl\", 'rb') as fid:\n",
    "    lr_clf = cPickle.load(fid)"
   ],
   "metadata": {
    "collapsed": false,
    "pycharm": {
     "name": "#%%\n"
    }
   }
  },
  {
   "cell_type": "code",
   "execution_count": 28,
   "outputs": [],
   "source": [
    "# Getting the sentiment of the Tweets\n",
    "def get_sentiment(text):\n",
    "    text=word2vec.transform([text])\n",
    "    neg,pos=lr_clf.predict_proba(text)[0]\n",
    "    if neg>.6:\n",
    "        sentiment='Negative'\n",
    "    elif pos>.6:\n",
    "        sentiment='Positive'\n",
    "    else:\n",
    "        sentiment='Netural'\n",
    "    return neg,pos,sentiment\n",
    "\n",
    "list2doc=lambda x: ' '.join(x)"
   ],
   "metadata": {
    "collapsed": false,
    "pycharm": {
     "name": "#%%\n"
    }
   }
  },
  {
   "cell_type": "code",
   "execution_count": 29,
   "outputs": [
    {
     "name": "stderr",
     "output_type": "stream",
     "text": [
      "100%|██████████| 3281/3281 [00:00<00:00, 5385.79it/s]\n"
     ]
    }
   ],
   "source": [
    "df['text_processed']=df['title'].progress_apply(lambda x: list2doc(clean_text(x)))"
   ],
   "metadata": {
    "collapsed": false,
    "pycharm": {
     "name": "#%%\n"
    }
   }
  },
  {
   "cell_type": "code",
   "execution_count": 30,
   "outputs": [
    {
     "name": "stderr",
     "output_type": "stream",
     "text": [
      "100%|██████████| 3281/3281 [00:02<00:00, 1120.07it/s]\n"
     ]
    }
   ],
   "source": [
    "df['sent_dict']=df.title.progress_apply(get_sentiment)"
   ],
   "metadata": {
    "collapsed": false,
    "pycharm": {
     "name": "#%%\n"
    }
   }
  },
  {
   "cell_type": "code",
   "execution_count": 31,
   "outputs": [
    {
     "name": "stderr",
     "output_type": "stream",
     "text": [
      "100%|██████████| 3281/3281 [00:00<00:00, 1521954.37it/s]\n"
     ]
    }
   ],
   "source": [
    "# claculating and normalizing the polarity or in other words the confidence of the model's prediction\n",
    "pos=df.sent_dict.apply(lambda x: x[1]).tolist()\n",
    "neg=df.sent_dict.apply(lambda x: x[0]).tolist()\n",
    "pos_max=max(pos)\n",
    "pos_min=min(pos)\n",
    "def normalize_polarity(x):\n",
    "    avg=(pos_max+pos_min)/2\n",
    "    ran=(pos_max-pos_min)/2\n",
    "    return (x-avg)/ran\n",
    "\n",
    "df['polarity2']=df.sent_dict.progress_apply(lambda x: normalize_polarity(x[1]))\n",
    "df['sentiment2']=df.sent_dict.apply(lambda x: x[2])"
   ],
   "metadata": {
    "collapsed": false,
    "pycharm": {
     "name": "#%%\n"
    }
   }
  },
  {
   "cell_type": "code",
   "execution_count": 77,
   "outputs": [
    {
     "data": {
      "application/vnd.plotly.v1+json": {
       "config": {
        "plotlyServerURL": "https://plot.ly"
       },
       "data": [
        {
         "name": "LR-Model",
         "type": "scatter",
         "x": [
          "2019-01-06T00:00:00",
          "2019-01-13T00:00:00",
          "2019-01-20T00:00:00",
          "2019-01-27T00:00:00",
          "2019-02-03T00:00:00",
          "2019-02-10T00:00:00",
          "2019-02-17T00:00:00",
          "2019-02-24T00:00:00",
          "2019-03-03T00:00:00",
          "2019-03-10T00:00:00",
          "2019-03-17T00:00:00",
          "2019-03-24T00:00:00",
          "2019-03-31T00:00:00",
          "2019-04-07T00:00:00",
          "2019-04-14T00:00:00",
          "2019-04-21T00:00:00",
          "2019-04-28T00:00:00",
          "2019-05-05T00:00:00",
          "2019-05-12T00:00:00",
          "2019-05-19T00:00:00",
          "2019-05-26T00:00:00",
          "2019-06-02T00:00:00",
          "2019-06-09T00:00:00",
          "2019-06-16T00:00:00",
          "2019-06-23T00:00:00",
          "2019-06-30T00:00:00",
          "2019-07-07T00:00:00",
          "2019-07-14T00:00:00",
          "2019-07-21T00:00:00",
          "2019-07-28T00:00:00",
          "2019-08-04T00:00:00",
          "2019-08-11T00:00:00",
          "2019-08-18T00:00:00",
          "2019-08-25T00:00:00",
          "2019-09-01T00:00:00",
          "2019-09-08T00:00:00",
          "2019-09-15T00:00:00",
          "2019-09-22T00:00:00",
          "2019-09-29T00:00:00",
          "2019-10-06T00:00:00",
          "2019-10-13T00:00:00",
          "2019-10-20T00:00:00",
          "2019-10-27T00:00:00",
          "2019-11-03T00:00:00",
          "2019-11-10T00:00:00",
          "2019-11-17T00:00:00",
          "2019-11-24T00:00:00",
          "2019-12-01T00:00:00",
          "2019-12-08T00:00:00",
          "2019-12-15T00:00:00",
          "2019-12-22T00:00:00",
          "2019-12-29T00:00:00",
          "2020-01-05T00:00:00",
          "2020-01-12T00:00:00",
          "2020-01-19T00:00:00",
          "2020-01-26T00:00:00",
          "2020-02-02T00:00:00",
          "2020-02-09T00:00:00",
          "2020-02-16T00:00:00",
          "2020-02-23T00:00:00",
          "2020-03-01T00:00:00",
          "2020-03-08T00:00:00",
          "2020-03-15T00:00:00",
          "2020-03-22T00:00:00",
          "2020-03-29T00:00:00",
          "2020-04-05T00:00:00",
          "2020-04-12T00:00:00",
          "2020-04-19T00:00:00",
          "2020-04-26T00:00:00",
          "2020-05-03T00:00:00",
          "2020-05-10T00:00:00",
          "2020-05-17T00:00:00",
          "2020-05-24T00:00:00",
          "2020-05-31T00:00:00",
          "2020-06-07T00:00:00",
          "2020-06-14T00:00:00",
          "2020-06-21T00:00:00",
          "2020-06-28T00:00:00",
          "2020-07-05T00:00:00",
          "2020-07-12T00:00:00",
          "2020-07-19T00:00:00",
          "2020-07-26T00:00:00",
          "2020-08-02T00:00:00",
          "2020-08-09T00:00:00",
          "2020-08-16T00:00:00",
          "2020-08-23T00:00:00",
          "2020-08-30T00:00:00",
          "2020-09-06T00:00:00",
          "2020-09-13T00:00:00",
          "2020-09-20T00:00:00",
          "2020-09-27T00:00:00",
          "2020-10-04T00:00:00",
          "2020-10-11T00:00:00",
          "2020-10-18T00:00:00",
          "2020-10-25T00:00:00",
          "2020-11-01T00:00:00",
          "2020-11-08T00:00:00",
          "2020-11-15T00:00:00",
          "2020-11-22T00:00:00",
          "2020-11-29T00:00:00",
          "2020-12-06T00:00:00",
          "2020-12-13T00:00:00",
          "2020-12-20T00:00:00",
          "2020-12-27T00:00:00",
          "2021-01-03T00:00:00",
          "2021-01-10T00:00:00",
          "2021-01-17T00:00:00",
          "2021-01-24T00:00:00",
          "2021-01-31T00:00:00",
          "2021-02-07T00:00:00",
          "2021-02-14T00:00:00",
          "2021-02-21T00:00:00",
          "2021-02-28T00:00:00",
          "2021-03-07T00:00:00",
          "2021-03-14T00:00:00",
          "2021-03-21T00:00:00",
          "2021-03-28T00:00:00",
          "2021-04-04T00:00:00",
          "2021-04-11T00:00:00",
          "2021-04-18T00:00:00",
          "2021-04-25T00:00:00",
          "2021-05-02T00:00:00",
          "2021-05-09T00:00:00",
          "2021-05-16T00:00:00",
          "2021-05-23T00:00:00",
          "2021-05-30T00:00:00",
          "2021-06-06T00:00:00",
          "2021-06-13T00:00:00",
          "2021-06-20T00:00:00",
          "2021-06-27T00:00:00",
          "2021-07-04T00:00:00"
         ],
         "xaxis": "x",
         "y": [
          2.33050585778622,
          1.695154895002318,
          1.4630053989101557,
          2.3172616233964622,
          1.1531481282693696,
          0.6262862331467278,
          0.4976647587626931,
          0.8792864423565473,
          -0.551878822768486,
          4.631742750419276,
          0.61953508074701,
          1.6294554746711531,
          1.0543002516509792,
          1.7694063235026847,
          3.792194840179593,
          2.0640774107557824,
          0.6392990567385957,
          3.5438679377045665,
          4.287551203597722,
          6.888927183584255,
          3.526626088778791,
          5.322804759091181,
          4.059568240300226,
          4.965910781962773,
          6.9767635047588925,
          7.430072775470512,
          3.9110373963379637,
          3.985811782643784,
          4.164360465818997,
          4.161212363196792,
          0.38442806208053454,
          3.186942862129228,
          1.9639744238480896,
          1.4045836980629784,
          0.011514291875741392,
          1.670862601376692,
          0.15823851044618342,
          1.861132013031987,
          2.5914555808397695,
          3.6924441494237183,
          -1.2472258829918135,
          1.1730938493172607,
          1.1241608762728352,
          0.24539429943029709,
          0.005712822757585917,
          1.8004186458541773,
          2.012031772631638,
          0.5362861585269294,
          -0.2546733186597709,
          -0.011222867882196064,
          1.1226948351302282,
          1.428659496818599,
          -0.012229293797556828,
          2.062689259602613,
          1.0792816906915073,
          0.781676820888425,
          1.85855630231838,
          2.7958055197779146,
          0.8011304849049607,
          3.550589922063798,
          2.7788857647179737,
          1.840183377696864,
          1.2182520676962387,
          1.0473730866512416,
          0.7417384303577012,
          0.1701423116822292,
          -0.9786241360875484,
          1.2070246766271044,
          -0.3170566882258924,
          2.6131377127291056,
          5.578488987914355,
          11.363840309839441,
          6.168197053397676,
          3.339025902142223,
          4.212720188875779,
          3.6993519238225305,
          3.3451260114012253,
          3.9107292153127116,
          1.5327011995192135,
          2.5023764636004477,
          5.567994066549201,
          3.0242757760391465,
          2.6688474179400474,
          4.339540627834797,
          0.9469222273187436,
          1.5116459769275215,
          2.039561063476583,
          0.7448273343168704,
          0.7281723925031259,
          2.0522680565716254,
          1.958438552760829,
          2.7434128789546133,
          3.2123072670575827,
          2.228687187031975,
          2.1340012392847902,
          4.181119705200279,
          4.113672202880159,
          5.5437464181569425,
          7.303276300698706,
          8.431111687144423,
          8.39642687345313,
          3.8672557708455866,
          9.587665474664272,
          7.2363334824716645,
          9.184397466509143,
          12.06317809928696,
          10.566675821324901,
          9.926045288113603,
          15.402798608659438,
          18.134769510269326,
          21.705180769521593,
          20.018180133593706,
          13.281114988572005,
          14.481074154293783,
          8.994013027594997,
          12.763082108302688,
          14.239064015709792,
          12.435215287973453,
          15.973688876232808,
          15.156987681631612,
          15.50177667956385,
          15.00694463263402,
          18.875919320283113,
          23.403454093901512,
          20.738423301737868,
          12.70232004423718,
          16.485300821697457,
          15.492623080119124,
          21.517754364264405,
          16.262532028737333,
          3.5003778819718914
         ],
         "yaxis": "y"
        },
        {
         "name": "Bit Coin Avg",
         "type": "scatter",
         "x": [
          "2019-01-06T00:00:00",
          "2019-01-13T00:00:00",
          "2019-01-20T00:00:00",
          "2019-01-27T00:00:00",
          "2019-02-03T00:00:00",
          "2019-02-10T00:00:00",
          "2019-02-17T00:00:00",
          "2019-02-24T00:00:00",
          "2019-03-03T00:00:00",
          "2019-03-10T00:00:00",
          "2019-03-17T00:00:00",
          "2019-03-24T00:00:00",
          "2019-03-31T00:00:00",
          "2019-04-07T00:00:00",
          "2019-04-14T00:00:00",
          "2019-04-21T00:00:00",
          "2019-04-28T00:00:00",
          "2019-05-05T00:00:00",
          "2019-05-12T00:00:00",
          "2019-05-19T00:00:00",
          "2019-05-26T00:00:00",
          "2019-06-02T00:00:00",
          "2019-06-09T00:00:00",
          "2019-06-16T00:00:00",
          "2019-06-23T00:00:00",
          "2019-06-30T00:00:00",
          "2019-07-07T00:00:00",
          "2019-07-14T00:00:00",
          "2019-07-21T00:00:00",
          "2019-07-28T00:00:00",
          "2019-08-04T00:00:00",
          "2019-08-11T00:00:00",
          "2019-08-18T00:00:00",
          "2019-08-25T00:00:00",
          "2019-09-01T00:00:00",
          "2019-09-08T00:00:00",
          "2019-09-15T00:00:00",
          "2019-09-22T00:00:00",
          "2019-09-29T00:00:00",
          "2019-10-06T00:00:00",
          "2019-10-13T00:00:00",
          "2019-10-20T00:00:00",
          "2019-10-27T00:00:00",
          "2019-11-03T00:00:00",
          "2019-11-10T00:00:00",
          "2019-11-17T00:00:00",
          "2019-11-24T00:00:00",
          "2019-12-01T00:00:00",
          "2019-12-08T00:00:00",
          "2019-12-15T00:00:00",
          "2019-12-22T00:00:00",
          "2019-12-29T00:00:00",
          "2020-01-05T00:00:00",
          "2020-01-12T00:00:00",
          "2020-01-19T00:00:00",
          "2020-01-26T00:00:00",
          "2020-02-02T00:00:00",
          "2020-02-09T00:00:00",
          "2020-02-16T00:00:00",
          "2020-02-23T00:00:00",
          "2020-03-01T00:00:00",
          "2020-03-08T00:00:00",
          "2020-03-15T00:00:00",
          "2020-03-22T00:00:00",
          "2020-03-29T00:00:00",
          "2020-04-05T00:00:00",
          "2020-04-12T00:00:00",
          "2020-04-19T00:00:00",
          "2020-04-26T00:00:00",
          "2020-05-03T00:00:00",
          "2020-05-10T00:00:00",
          "2020-05-17T00:00:00",
          "2020-05-24T00:00:00",
          "2020-05-31T00:00:00",
          "2020-06-07T00:00:00",
          "2020-06-14T00:00:00",
          "2020-06-21T00:00:00",
          "2020-06-28T00:00:00",
          "2020-07-05T00:00:00",
          "2020-07-12T00:00:00",
          "2020-07-19T00:00:00",
          "2020-07-26T00:00:00",
          "2020-08-02T00:00:00",
          "2020-08-09T00:00:00",
          "2020-08-16T00:00:00",
          "2020-08-23T00:00:00",
          "2020-08-30T00:00:00",
          "2020-09-06T00:00:00",
          "2020-09-13T00:00:00",
          "2020-09-20T00:00:00",
          "2020-09-27T00:00:00",
          "2020-10-04T00:00:00",
          "2020-10-11T00:00:00",
          "2020-10-18T00:00:00",
          "2020-10-25T00:00:00",
          "2020-11-01T00:00:00",
          "2020-11-08T00:00:00",
          "2020-11-15T00:00:00",
          "2020-11-22T00:00:00",
          "2020-11-29T00:00:00",
          "2020-12-06T00:00:00",
          "2020-12-13T00:00:00",
          "2020-12-20T00:00:00",
          "2020-12-27T00:00:00",
          "2021-01-03T00:00:00",
          "2021-01-10T00:00:00",
          "2021-01-17T00:00:00",
          "2021-01-24T00:00:00",
          "2021-01-31T00:00:00",
          "2021-02-07T00:00:00",
          "2021-02-14T00:00:00",
          "2021-02-21T00:00:00",
          "2021-02-28T00:00:00",
          "2021-03-07T00:00:00",
          "2021-03-14T00:00:00",
          "2021-03-21T00:00:00",
          "2021-03-28T00:00:00",
          "2021-04-04T00:00:00",
          "2021-04-11T00:00:00",
          "2021-04-18T00:00:00",
          "2021-04-25T00:00:00",
          "2021-05-02T00:00:00",
          "2021-05-09T00:00:00",
          "2021-05-16T00:00:00",
          "2021-05-23T00:00:00",
          "2021-05-30T00:00:00",
          "2021-06-06T00:00:00",
          "2021-06-13T00:00:00",
          "2021-06-20T00:00:00",
          "2021-06-27T00:00:00"
         ],
         "xaxis": "x",
         "y": [
          null,
          -1.3026416728571348,
          -191.68058162142825,
          -69.39728495999952,
          -117.44688860500037,
          43.857065525714006,
          121.56805073142868,
          322.10176574642855,
          -103.04428661500015,
          29.56457524642883,
          58.830517980714376,
          93.12962941714295,
          15.015368372856756,
          789.6541524921431,
          323.78684869142853,
          73.14813983428576,
          126.9233299771422,
          145.0228677192863,
          752.3619960528567,
          1465.1400091864289,
          233.17101791500045,
          656.1147303185708,
          -680.8571992364277,
          371.90992284785625,
          1449.5949529585723,
          1956.006841307857,
          -614.7579767942862,
          639.0884236442853,
          -1429.2173521192854,
          -419.85038844500014,
          280.3957474828567,
          1475.9426097385713,
          -1104.5027549021434,
          -199.97984476071179,
          -493.19244912428803,
          618.962922587858,
          -198.99229530714183,
          -109.90749741714353,
          -1566.642031084286,
          -391.69812002785693,
          161.86349575714303,
          -231.1694391378578,
          229.97752156785737,
          940.4065485342853,
          -138.28067601928524,
          -457.4720134449999,
          -920.9515899300004,
          -390.3901693592852,
          44.14636191642785,
          -183.67108937142802,
          -170.8748804878569,
          267.3141230399997,
          -83.14245084499998,
          710.1946525328567,
          699.7812909450013,
          -145.8363947828584,
          712.2975237721421,
          361.79064469714467,
          495.7601963721427,
          -364.1194394428585,
          -744.9513543121429,
          -155.95792868928402,
          -2277.496811866429,
          -886.9916420549998,
          765.370654083571,
          174.8740063821433,
          482.3673837428569,
          -124.29503701499925,
          300.1899638814284,
          1237.1375589128556,
          792.4491304664298,
          -83.2760826335707,
          153.82070129714157,
          -139.89093303214213,
          476.85008628499963,
          -117.23274360071446,
          -223.59470292642982,
          -61.26702599428427,
          -172.1223524950001,
          130.9061286092856,
          -81.3665502749991,
          302.07541047142877,
          1634.7199728171418,
          404.05646626071393,
          191.18466334285768,
          112.21374540714169,
          -325.29235034999874,
          -526.9282754849992,
          -692.3948451114284,
          575.9206735178577,
          -272.5283629742862,
          86.06360614357072,
          227.55460594214128,
          508.8757331285724,
          1149.6656949807148,
          864.4629088628571,
          1117.6809360628577,
          1219.2379391078575,
          1990.1922684378533,
          241.6929595407164,
          1038.1266441757143,
          -468.078281512142,
          3037.663419432145,
          2640.981502266426,
          4897.984271074289,
          7320.257662509281,
          -484.6669354778569,
          -2162.7147065899917,
          -864.1862124328618,
          3846.2479046549997,
          9440.12822932857,
          5978.981237594286,
          -3657.043785389287,
          375.3410973321443,
          7058.752674845004,
          1387.4714405635677,
          -2707.118224949285,
          3814.9927989842836,
          38.9338115878636,
          2723.9517058892816,
          -8658.665543938572,
          2412.9457008614263,
          1896.8451355157158,
          -5349.324644239998,
          -12392.45653896714,
          -1909.0712911328592,
          -407.9538302521396,
          -1161.3265559542924,
          2216.9089038578604,
          -5062.872122392146
         ],
         "yaxis": "y2"
        }
       ],
       "layout": {
        "template": {
         "data": {
          "bar": [
           {
            "error_x": {
             "color": "#2a3f5f"
            },
            "error_y": {
             "color": "#2a3f5f"
            },
            "marker": {
             "line": {
              "color": "#E5ECF6",
              "width": 0.5
             }
            },
            "type": "bar"
           }
          ],
          "barpolar": [
           {
            "marker": {
             "line": {
              "color": "#E5ECF6",
              "width": 0.5
             }
            },
            "type": "barpolar"
           }
          ],
          "carpet": [
           {
            "aaxis": {
             "endlinecolor": "#2a3f5f",
             "gridcolor": "white",
             "linecolor": "white",
             "minorgridcolor": "white",
             "startlinecolor": "#2a3f5f"
            },
            "baxis": {
             "endlinecolor": "#2a3f5f",
             "gridcolor": "white",
             "linecolor": "white",
             "minorgridcolor": "white",
             "startlinecolor": "#2a3f5f"
            },
            "type": "carpet"
           }
          ],
          "choropleth": [
           {
            "colorbar": {
             "outlinewidth": 0,
             "ticks": ""
            },
            "type": "choropleth"
           }
          ],
          "contour": [
           {
            "colorbar": {
             "outlinewidth": 0,
             "ticks": ""
            },
            "colorscale": [
             [
              0.0,
              "#0d0887"
             ],
             [
              0.1111111111111111,
              "#46039f"
             ],
             [
              0.2222222222222222,
              "#7201a8"
             ],
             [
              0.3333333333333333,
              "#9c179e"
             ],
             [
              0.4444444444444444,
              "#bd3786"
             ],
             [
              0.5555555555555556,
              "#d8576b"
             ],
             [
              0.6666666666666666,
              "#ed7953"
             ],
             [
              0.7777777777777778,
              "#fb9f3a"
             ],
             [
              0.8888888888888888,
              "#fdca26"
             ],
             [
              1.0,
              "#f0f921"
             ]
            ],
            "type": "contour"
           }
          ],
          "contourcarpet": [
           {
            "colorbar": {
             "outlinewidth": 0,
             "ticks": ""
            },
            "type": "contourcarpet"
           }
          ],
          "heatmap": [
           {
            "colorbar": {
             "outlinewidth": 0,
             "ticks": ""
            },
            "colorscale": [
             [
              0.0,
              "#0d0887"
             ],
             [
              0.1111111111111111,
              "#46039f"
             ],
             [
              0.2222222222222222,
              "#7201a8"
             ],
             [
              0.3333333333333333,
              "#9c179e"
             ],
             [
              0.4444444444444444,
              "#bd3786"
             ],
             [
              0.5555555555555556,
              "#d8576b"
             ],
             [
              0.6666666666666666,
              "#ed7953"
             ],
             [
              0.7777777777777778,
              "#fb9f3a"
             ],
             [
              0.8888888888888888,
              "#fdca26"
             ],
             [
              1.0,
              "#f0f921"
             ]
            ],
            "type": "heatmap"
           }
          ],
          "heatmapgl": [
           {
            "colorbar": {
             "outlinewidth": 0,
             "ticks": ""
            },
            "colorscale": [
             [
              0.0,
              "#0d0887"
             ],
             [
              0.1111111111111111,
              "#46039f"
             ],
             [
              0.2222222222222222,
              "#7201a8"
             ],
             [
              0.3333333333333333,
              "#9c179e"
             ],
             [
              0.4444444444444444,
              "#bd3786"
             ],
             [
              0.5555555555555556,
              "#d8576b"
             ],
             [
              0.6666666666666666,
              "#ed7953"
             ],
             [
              0.7777777777777778,
              "#fb9f3a"
             ],
             [
              0.8888888888888888,
              "#fdca26"
             ],
             [
              1.0,
              "#f0f921"
             ]
            ],
            "type": "heatmapgl"
           }
          ],
          "histogram": [
           {
            "marker": {
             "colorbar": {
              "outlinewidth": 0,
              "ticks": ""
             }
            },
            "type": "histogram"
           }
          ],
          "histogram2d": [
           {
            "colorbar": {
             "outlinewidth": 0,
             "ticks": ""
            },
            "colorscale": [
             [
              0.0,
              "#0d0887"
             ],
             [
              0.1111111111111111,
              "#46039f"
             ],
             [
              0.2222222222222222,
              "#7201a8"
             ],
             [
              0.3333333333333333,
              "#9c179e"
             ],
             [
              0.4444444444444444,
              "#bd3786"
             ],
             [
              0.5555555555555556,
              "#d8576b"
             ],
             [
              0.6666666666666666,
              "#ed7953"
             ],
             [
              0.7777777777777778,
              "#fb9f3a"
             ],
             [
              0.8888888888888888,
              "#fdca26"
             ],
             [
              1.0,
              "#f0f921"
             ]
            ],
            "type": "histogram2d"
           }
          ],
          "histogram2dcontour": [
           {
            "colorbar": {
             "outlinewidth": 0,
             "ticks": ""
            },
            "colorscale": [
             [
              0.0,
              "#0d0887"
             ],
             [
              0.1111111111111111,
              "#46039f"
             ],
             [
              0.2222222222222222,
              "#7201a8"
             ],
             [
              0.3333333333333333,
              "#9c179e"
             ],
             [
              0.4444444444444444,
              "#bd3786"
             ],
             [
              0.5555555555555556,
              "#d8576b"
             ],
             [
              0.6666666666666666,
              "#ed7953"
             ],
             [
              0.7777777777777778,
              "#fb9f3a"
             ],
             [
              0.8888888888888888,
              "#fdca26"
             ],
             [
              1.0,
              "#f0f921"
             ]
            ],
            "type": "histogram2dcontour"
           }
          ],
          "mesh3d": [
           {
            "colorbar": {
             "outlinewidth": 0,
             "ticks": ""
            },
            "type": "mesh3d"
           }
          ],
          "parcoords": [
           {
            "line": {
             "colorbar": {
              "outlinewidth": 0,
              "ticks": ""
             }
            },
            "type": "parcoords"
           }
          ],
          "pie": [
           {
            "automargin": true,
            "type": "pie"
           }
          ],
          "scatter": [
           {
            "marker": {
             "colorbar": {
              "outlinewidth": 0,
              "ticks": ""
             }
            },
            "type": "scatter"
           }
          ],
          "scatter3d": [
           {
            "line": {
             "colorbar": {
              "outlinewidth": 0,
              "ticks": ""
             }
            },
            "marker": {
             "colorbar": {
              "outlinewidth": 0,
              "ticks": ""
             }
            },
            "type": "scatter3d"
           }
          ],
          "scattercarpet": [
           {
            "marker": {
             "colorbar": {
              "outlinewidth": 0,
              "ticks": ""
             }
            },
            "type": "scattercarpet"
           }
          ],
          "scattergeo": [
           {
            "marker": {
             "colorbar": {
              "outlinewidth": 0,
              "ticks": ""
             }
            },
            "type": "scattergeo"
           }
          ],
          "scattergl": [
           {
            "marker": {
             "colorbar": {
              "outlinewidth": 0,
              "ticks": ""
             }
            },
            "type": "scattergl"
           }
          ],
          "scattermapbox": [
           {
            "marker": {
             "colorbar": {
              "outlinewidth": 0,
              "ticks": ""
             }
            },
            "type": "scattermapbox"
           }
          ],
          "scatterpolar": [
           {
            "marker": {
             "colorbar": {
              "outlinewidth": 0,
              "ticks": ""
             }
            },
            "type": "scatterpolar"
           }
          ],
          "scatterpolargl": [
           {
            "marker": {
             "colorbar": {
              "outlinewidth": 0,
              "ticks": ""
             }
            },
            "type": "scatterpolargl"
           }
          ],
          "scatterternary": [
           {
            "marker": {
             "colorbar": {
              "outlinewidth": 0,
              "ticks": ""
             }
            },
            "type": "scatterternary"
           }
          ],
          "surface": [
           {
            "colorbar": {
             "outlinewidth": 0,
             "ticks": ""
            },
            "colorscale": [
             [
              0.0,
              "#0d0887"
             ],
             [
              0.1111111111111111,
              "#46039f"
             ],
             [
              0.2222222222222222,
              "#7201a8"
             ],
             [
              0.3333333333333333,
              "#9c179e"
             ],
             [
              0.4444444444444444,
              "#bd3786"
             ],
             [
              0.5555555555555556,
              "#d8576b"
             ],
             [
              0.6666666666666666,
              "#ed7953"
             ],
             [
              0.7777777777777778,
              "#fb9f3a"
             ],
             [
              0.8888888888888888,
              "#fdca26"
             ],
             [
              1.0,
              "#f0f921"
             ]
            ],
            "type": "surface"
           }
          ],
          "table": [
           {
            "cells": {
             "fill": {
              "color": "#EBF0F8"
             },
             "line": {
              "color": "white"
             }
            },
            "header": {
             "fill": {
              "color": "#C8D4E3"
             },
             "line": {
              "color": "white"
             }
            },
            "type": "table"
           }
          ]
         },
         "layout": {
          "annotationdefaults": {
           "arrowcolor": "#2a3f5f",
           "arrowhead": 0,
           "arrowwidth": 1
          },
          "coloraxis": {
           "colorbar": {
            "outlinewidth": 0,
            "ticks": ""
           }
          },
          "colorscale": {
           "diverging": [
            [
             0,
             "#8e0152"
            ],
            [
             0.1,
             "#c51b7d"
            ],
            [
             0.2,
             "#de77ae"
            ],
            [
             0.3,
             "#f1b6da"
            ],
            [
             0.4,
             "#fde0ef"
            ],
            [
             0.5,
             "#f7f7f7"
            ],
            [
             0.6,
             "#e6f5d0"
            ],
            [
             0.7,
             "#b8e186"
            ],
            [
             0.8,
             "#7fbc41"
            ],
            [
             0.9,
             "#4d9221"
            ],
            [
             1,
             "#276419"
            ]
           ],
           "sequential": [
            [
             0.0,
             "#0d0887"
            ],
            [
             0.1111111111111111,
             "#46039f"
            ],
            [
             0.2222222222222222,
             "#7201a8"
            ],
            [
             0.3333333333333333,
             "#9c179e"
            ],
            [
             0.4444444444444444,
             "#bd3786"
            ],
            [
             0.5555555555555556,
             "#d8576b"
            ],
            [
             0.6666666666666666,
             "#ed7953"
            ],
            [
             0.7777777777777778,
             "#fb9f3a"
            ],
            [
             0.8888888888888888,
             "#fdca26"
            ],
            [
             1.0,
             "#f0f921"
            ]
           ],
           "sequentialminus": [
            [
             0.0,
             "#0d0887"
            ],
            [
             0.1111111111111111,
             "#46039f"
            ],
            [
             0.2222222222222222,
             "#7201a8"
            ],
            [
             0.3333333333333333,
             "#9c179e"
            ],
            [
             0.4444444444444444,
             "#bd3786"
            ],
            [
             0.5555555555555556,
             "#d8576b"
            ],
            [
             0.6666666666666666,
             "#ed7953"
            ],
            [
             0.7777777777777778,
             "#fb9f3a"
            ],
            [
             0.8888888888888888,
             "#fdca26"
            ],
            [
             1.0,
             "#f0f921"
            ]
           ]
          },
          "colorway": [
           "#636efa",
           "#EF553B",
           "#00cc96",
           "#ab63fa",
           "#FFA15A",
           "#19d3f3",
           "#FF6692",
           "#B6E880",
           "#FF97FF",
           "#FECB52"
          ],
          "font": {
           "color": "#2a3f5f"
          },
          "geo": {
           "bgcolor": "white",
           "lakecolor": "white",
           "landcolor": "#E5ECF6",
           "showlakes": true,
           "showland": true,
           "subunitcolor": "white"
          },
          "hoverlabel": {
           "align": "left"
          },
          "hovermode": "closest",
          "mapbox": {
           "style": "light"
          },
          "paper_bgcolor": "white",
          "plot_bgcolor": "#E5ECF6",
          "polar": {
           "angularaxis": {
            "gridcolor": "white",
            "linecolor": "white",
            "ticks": ""
           },
           "bgcolor": "#E5ECF6",
           "radialaxis": {
            "gridcolor": "white",
            "linecolor": "white",
            "ticks": ""
           }
          },
          "scene": {
           "xaxis": {
            "backgroundcolor": "#E5ECF6",
            "gridcolor": "white",
            "gridwidth": 2,
            "linecolor": "white",
            "showbackground": true,
            "ticks": "",
            "zerolinecolor": "white"
           },
           "yaxis": {
            "backgroundcolor": "#E5ECF6",
            "gridcolor": "white",
            "gridwidth": 2,
            "linecolor": "white",
            "showbackground": true,
            "ticks": "",
            "zerolinecolor": "white"
           },
           "zaxis": {
            "backgroundcolor": "#E5ECF6",
            "gridcolor": "white",
            "gridwidth": 2,
            "linecolor": "white",
            "showbackground": true,
            "ticks": "",
            "zerolinecolor": "white"
           }
          },
          "shapedefaults": {
           "line": {
            "color": "#2a3f5f"
           }
          },
          "ternary": {
           "aaxis": {
            "gridcolor": "white",
            "linecolor": "white",
            "ticks": ""
           },
           "baxis": {
            "gridcolor": "white",
            "linecolor": "white",
            "ticks": ""
           },
           "bgcolor": "#E5ECF6",
           "caxis": {
            "gridcolor": "white",
            "linecolor": "white",
            "ticks": ""
           }
          },
          "title": {
           "x": 0.05
          },
          "xaxis": {
           "automargin": true,
           "gridcolor": "white",
           "linecolor": "white",
           "ticks": "",
           "title": {
            "standoff": 15
           },
           "zerolinecolor": "white",
           "zerolinewidth": 2
          },
          "yaxis": {
           "automargin": true,
           "gridcolor": "white",
           "linecolor": "white",
           "ticks": "",
           "title": {
            "standoff": 15
           },
           "zerolinecolor": "white",
           "zerolinewidth": 2
          }
         }
        },
        "title": {
         "text": "BTC vs LR Sentiment Model - Weekly"
        },
        "xaxis": {
         "anchor": "y",
         "domain": [
          0.0,
          0.94
         ],
         "title": {
          "text": "Date"
         }
        },
        "yaxis": {
         "anchor": "x",
         "domain": [
          0.0,
          1.0
         ],
         "title": {
          "text": "<b>Sentiment Polarity </b>"
         }
        },
        "yaxis2": {
         "anchor": "x",
         "overlaying": "y",
         "side": "right",
         "title": {
          "text": "<b>BTC Price</b>"
         }
        }
       }
      },
      "text/html": "<div>                            <div id=\"09074fa2-550e-4474-a633-38bc8c670334\" class=\"plotly-graph-div\" style=\"height:525px; width:100%;\"></div>            <script type=\"text/javascript\">                require([\"plotly\"], function(Plotly) {                    window.PLOTLYENV=window.PLOTLYENV || {};                                    if (document.getElementById(\"09074fa2-550e-4474-a633-38bc8c670334\")) {                    Plotly.newPlot(                        \"09074fa2-550e-4474-a633-38bc8c670334\",                        [{\"name\": \"LR-Model\", \"type\": \"scatter\", \"x\": [\"2019-01-06T00:00:00\", \"2019-01-13T00:00:00\", \"2019-01-20T00:00:00\", \"2019-01-27T00:00:00\", \"2019-02-03T00:00:00\", \"2019-02-10T00:00:00\", \"2019-02-17T00:00:00\", \"2019-02-24T00:00:00\", \"2019-03-03T00:00:00\", \"2019-03-10T00:00:00\", \"2019-03-17T00:00:00\", \"2019-03-24T00:00:00\", \"2019-03-31T00:00:00\", \"2019-04-07T00:00:00\", \"2019-04-14T00:00:00\", \"2019-04-21T00:00:00\", \"2019-04-28T00:00:00\", \"2019-05-05T00:00:00\", \"2019-05-12T00:00:00\", \"2019-05-19T00:00:00\", \"2019-05-26T00:00:00\", \"2019-06-02T00:00:00\", \"2019-06-09T00:00:00\", \"2019-06-16T00:00:00\", \"2019-06-23T00:00:00\", \"2019-06-30T00:00:00\", \"2019-07-07T00:00:00\", \"2019-07-14T00:00:00\", \"2019-07-21T00:00:00\", \"2019-07-28T00:00:00\", \"2019-08-04T00:00:00\", \"2019-08-11T00:00:00\", \"2019-08-18T00:00:00\", \"2019-08-25T00:00:00\", \"2019-09-01T00:00:00\", \"2019-09-08T00:00:00\", \"2019-09-15T00:00:00\", \"2019-09-22T00:00:00\", \"2019-09-29T00:00:00\", \"2019-10-06T00:00:00\", \"2019-10-13T00:00:00\", \"2019-10-20T00:00:00\", \"2019-10-27T00:00:00\", \"2019-11-03T00:00:00\", \"2019-11-10T00:00:00\", \"2019-11-17T00:00:00\", \"2019-11-24T00:00:00\", \"2019-12-01T00:00:00\", \"2019-12-08T00:00:00\", \"2019-12-15T00:00:00\", \"2019-12-22T00:00:00\", \"2019-12-29T00:00:00\", \"2020-01-05T00:00:00\", \"2020-01-12T00:00:00\", \"2020-01-19T00:00:00\", \"2020-01-26T00:00:00\", \"2020-02-02T00:00:00\", \"2020-02-09T00:00:00\", \"2020-02-16T00:00:00\", \"2020-02-23T00:00:00\", \"2020-03-01T00:00:00\", \"2020-03-08T00:00:00\", \"2020-03-15T00:00:00\", \"2020-03-22T00:00:00\", \"2020-03-29T00:00:00\", \"2020-04-05T00:00:00\", \"2020-04-12T00:00:00\", \"2020-04-19T00:00:00\", \"2020-04-26T00:00:00\", \"2020-05-03T00:00:00\", \"2020-05-10T00:00:00\", \"2020-05-17T00:00:00\", \"2020-05-24T00:00:00\", \"2020-05-31T00:00:00\", \"2020-06-07T00:00:00\", \"2020-06-14T00:00:00\", \"2020-06-21T00:00:00\", \"2020-06-28T00:00:00\", \"2020-07-05T00:00:00\", \"2020-07-12T00:00:00\", \"2020-07-19T00:00:00\", \"2020-07-26T00:00:00\", \"2020-08-02T00:00:00\", \"2020-08-09T00:00:00\", \"2020-08-16T00:00:00\", \"2020-08-23T00:00:00\", \"2020-08-30T00:00:00\", \"2020-09-06T00:00:00\", \"2020-09-13T00:00:00\", \"2020-09-20T00:00:00\", \"2020-09-27T00:00:00\", \"2020-10-04T00:00:00\", \"2020-10-11T00:00:00\", \"2020-10-18T00:00:00\", \"2020-10-25T00:00:00\", \"2020-11-01T00:00:00\", \"2020-11-08T00:00:00\", \"2020-11-15T00:00:00\", \"2020-11-22T00:00:00\", \"2020-11-29T00:00:00\", \"2020-12-06T00:00:00\", \"2020-12-13T00:00:00\", \"2020-12-20T00:00:00\", \"2020-12-27T00:00:00\", \"2021-01-03T00:00:00\", \"2021-01-10T00:00:00\", \"2021-01-17T00:00:00\", \"2021-01-24T00:00:00\", \"2021-01-31T00:00:00\", \"2021-02-07T00:00:00\", \"2021-02-14T00:00:00\", \"2021-02-21T00:00:00\", \"2021-02-28T00:00:00\", \"2021-03-07T00:00:00\", \"2021-03-14T00:00:00\", \"2021-03-21T00:00:00\", \"2021-03-28T00:00:00\", \"2021-04-04T00:00:00\", \"2021-04-11T00:00:00\", \"2021-04-18T00:00:00\", \"2021-04-25T00:00:00\", \"2021-05-02T00:00:00\", \"2021-05-09T00:00:00\", \"2021-05-16T00:00:00\", \"2021-05-23T00:00:00\", \"2021-05-30T00:00:00\", \"2021-06-06T00:00:00\", \"2021-06-13T00:00:00\", \"2021-06-20T00:00:00\", \"2021-06-27T00:00:00\", \"2021-07-04T00:00:00\"], \"xaxis\": \"x\", \"y\": [2.33050585778622, 1.695154895002318, 1.4630053989101557, 2.3172616233964622, 1.1531481282693696, 0.6262862331467278, 0.4976647587626931, 0.8792864423565473, -0.551878822768486, 4.631742750419276, 0.61953508074701, 1.6294554746711531, 1.0543002516509792, 1.7694063235026847, 3.792194840179593, 2.0640774107557824, 0.6392990567385957, 3.5438679377045665, 4.287551203597722, 6.888927183584255, 3.526626088778791, 5.322804759091181, 4.059568240300226, 4.965910781962773, 6.9767635047588925, 7.430072775470512, 3.9110373963379637, 3.985811782643784, 4.164360465818997, 4.161212363196792, 0.38442806208053454, 3.186942862129228, 1.9639744238480896, 1.4045836980629784, 0.011514291875741392, 1.670862601376692, 0.15823851044618342, 1.861132013031987, 2.5914555808397695, 3.6924441494237183, -1.2472258829918135, 1.1730938493172607, 1.1241608762728352, 0.24539429943029709, 0.005712822757585917, 1.8004186458541773, 2.012031772631638, 0.5362861585269294, -0.2546733186597709, -0.011222867882196064, 1.1226948351302282, 1.428659496818599, -0.012229293797556828, 2.062689259602613, 1.0792816906915073, 0.781676820888425, 1.85855630231838, 2.7958055197779146, 0.8011304849049607, 3.550589922063798, 2.7788857647179737, 1.840183377696864, 1.2182520676962387, 1.0473730866512416, 0.7417384303577012, 0.1701423116822292, -0.9786241360875484, 1.2070246766271044, -0.3170566882258924, 2.6131377127291056, 5.578488987914355, 11.363840309839441, 6.168197053397676, 3.339025902142223, 4.212720188875779, 3.6993519238225305, 3.3451260114012253, 3.9107292153127116, 1.5327011995192135, 2.5023764636004477, 5.567994066549201, 3.0242757760391465, 2.6688474179400474, 4.339540627834797, 0.9469222273187436, 1.5116459769275215, 2.039561063476583, 0.7448273343168704, 0.7281723925031259, 2.0522680565716254, 1.958438552760829, 2.7434128789546133, 3.2123072670575827, 2.228687187031975, 2.1340012392847902, 4.181119705200279, 4.113672202880159, 5.5437464181569425, 7.303276300698706, 8.431111687144423, 8.39642687345313, 3.8672557708455866, 9.587665474664272, 7.2363334824716645, 9.184397466509143, 12.06317809928696, 10.566675821324901, 9.926045288113603, 15.402798608659438, 18.134769510269326, 21.705180769521593, 20.018180133593706, 13.281114988572005, 14.481074154293783, 8.994013027594997, 12.763082108302688, 14.239064015709792, 12.435215287973453, 15.973688876232808, 15.156987681631612, 15.50177667956385, 15.00694463263402, 18.875919320283113, 23.403454093901512, 20.738423301737868, 12.70232004423718, 16.485300821697457, 15.492623080119124, 21.517754364264405, 16.262532028737333, 3.5003778819718914], \"yaxis\": \"y\"}, {\"name\": \"Bit Coin Avg\", \"type\": \"scatter\", \"x\": [\"2019-01-06T00:00:00\", \"2019-01-13T00:00:00\", \"2019-01-20T00:00:00\", \"2019-01-27T00:00:00\", \"2019-02-03T00:00:00\", \"2019-02-10T00:00:00\", \"2019-02-17T00:00:00\", \"2019-02-24T00:00:00\", \"2019-03-03T00:00:00\", \"2019-03-10T00:00:00\", \"2019-03-17T00:00:00\", \"2019-03-24T00:00:00\", \"2019-03-31T00:00:00\", \"2019-04-07T00:00:00\", \"2019-04-14T00:00:00\", \"2019-04-21T00:00:00\", \"2019-04-28T00:00:00\", \"2019-05-05T00:00:00\", \"2019-05-12T00:00:00\", \"2019-05-19T00:00:00\", \"2019-05-26T00:00:00\", \"2019-06-02T00:00:00\", \"2019-06-09T00:00:00\", \"2019-06-16T00:00:00\", \"2019-06-23T00:00:00\", \"2019-06-30T00:00:00\", \"2019-07-07T00:00:00\", \"2019-07-14T00:00:00\", \"2019-07-21T00:00:00\", \"2019-07-28T00:00:00\", \"2019-08-04T00:00:00\", \"2019-08-11T00:00:00\", \"2019-08-18T00:00:00\", \"2019-08-25T00:00:00\", \"2019-09-01T00:00:00\", \"2019-09-08T00:00:00\", \"2019-09-15T00:00:00\", \"2019-09-22T00:00:00\", \"2019-09-29T00:00:00\", \"2019-10-06T00:00:00\", \"2019-10-13T00:00:00\", \"2019-10-20T00:00:00\", \"2019-10-27T00:00:00\", \"2019-11-03T00:00:00\", \"2019-11-10T00:00:00\", \"2019-11-17T00:00:00\", \"2019-11-24T00:00:00\", \"2019-12-01T00:00:00\", \"2019-12-08T00:00:00\", \"2019-12-15T00:00:00\", \"2019-12-22T00:00:00\", \"2019-12-29T00:00:00\", \"2020-01-05T00:00:00\", \"2020-01-12T00:00:00\", \"2020-01-19T00:00:00\", \"2020-01-26T00:00:00\", \"2020-02-02T00:00:00\", \"2020-02-09T00:00:00\", \"2020-02-16T00:00:00\", \"2020-02-23T00:00:00\", \"2020-03-01T00:00:00\", \"2020-03-08T00:00:00\", \"2020-03-15T00:00:00\", \"2020-03-22T00:00:00\", \"2020-03-29T00:00:00\", \"2020-04-05T00:00:00\", \"2020-04-12T00:00:00\", \"2020-04-19T00:00:00\", \"2020-04-26T00:00:00\", \"2020-05-03T00:00:00\", \"2020-05-10T00:00:00\", \"2020-05-17T00:00:00\", \"2020-05-24T00:00:00\", \"2020-05-31T00:00:00\", \"2020-06-07T00:00:00\", \"2020-06-14T00:00:00\", \"2020-06-21T00:00:00\", \"2020-06-28T00:00:00\", \"2020-07-05T00:00:00\", \"2020-07-12T00:00:00\", \"2020-07-19T00:00:00\", \"2020-07-26T00:00:00\", \"2020-08-02T00:00:00\", \"2020-08-09T00:00:00\", \"2020-08-16T00:00:00\", \"2020-08-23T00:00:00\", \"2020-08-30T00:00:00\", \"2020-09-06T00:00:00\", \"2020-09-13T00:00:00\", \"2020-09-20T00:00:00\", \"2020-09-27T00:00:00\", \"2020-10-04T00:00:00\", \"2020-10-11T00:00:00\", \"2020-10-18T00:00:00\", \"2020-10-25T00:00:00\", \"2020-11-01T00:00:00\", \"2020-11-08T00:00:00\", \"2020-11-15T00:00:00\", \"2020-11-22T00:00:00\", \"2020-11-29T00:00:00\", \"2020-12-06T00:00:00\", \"2020-12-13T00:00:00\", \"2020-12-20T00:00:00\", \"2020-12-27T00:00:00\", \"2021-01-03T00:00:00\", \"2021-01-10T00:00:00\", \"2021-01-17T00:00:00\", \"2021-01-24T00:00:00\", \"2021-01-31T00:00:00\", \"2021-02-07T00:00:00\", \"2021-02-14T00:00:00\", \"2021-02-21T00:00:00\", \"2021-02-28T00:00:00\", \"2021-03-07T00:00:00\", \"2021-03-14T00:00:00\", \"2021-03-21T00:00:00\", \"2021-03-28T00:00:00\", \"2021-04-04T00:00:00\", \"2021-04-11T00:00:00\", \"2021-04-18T00:00:00\", \"2021-04-25T00:00:00\", \"2021-05-02T00:00:00\", \"2021-05-09T00:00:00\", \"2021-05-16T00:00:00\", \"2021-05-23T00:00:00\", \"2021-05-30T00:00:00\", \"2021-06-06T00:00:00\", \"2021-06-13T00:00:00\", \"2021-06-20T00:00:00\", \"2021-06-27T00:00:00\"], \"xaxis\": \"x\", \"y\": [null, -1.3026416728571348, -191.68058162142825, -69.39728495999952, -117.44688860500037, 43.857065525714006, 121.56805073142868, 322.10176574642855, -103.04428661500015, 29.56457524642883, 58.830517980714376, 93.12962941714295, 15.015368372856756, 789.6541524921431, 323.78684869142853, 73.14813983428576, 126.9233299771422, 145.0228677192863, 752.3619960528567, 1465.1400091864289, 233.17101791500045, 656.1147303185708, -680.8571992364277, 371.90992284785625, 1449.5949529585723, 1956.006841307857, -614.7579767942862, 639.0884236442853, -1429.2173521192854, -419.85038844500014, 280.3957474828567, 1475.9426097385713, -1104.5027549021434, -199.97984476071179, -493.19244912428803, 618.962922587858, -198.99229530714183, -109.90749741714353, -1566.642031084286, -391.69812002785693, 161.86349575714303, -231.1694391378578, 229.97752156785737, 940.4065485342853, -138.28067601928524, -457.4720134449999, -920.9515899300004, -390.3901693592852, 44.14636191642785, -183.67108937142802, -170.8748804878569, 267.3141230399997, -83.14245084499998, 710.1946525328567, 699.7812909450013, -145.8363947828584, 712.2975237721421, 361.79064469714467, 495.7601963721427, -364.1194394428585, -744.9513543121429, -155.95792868928402, -2277.496811866429, -886.9916420549998, 765.370654083571, 174.8740063821433, 482.3673837428569, -124.29503701499925, 300.1899638814284, 1237.1375589128556, 792.4491304664298, -83.2760826335707, 153.82070129714157, -139.89093303214213, 476.85008628499963, -117.23274360071446, -223.59470292642982, -61.26702599428427, -172.1223524950001, 130.9061286092856, -81.3665502749991, 302.07541047142877, 1634.7199728171418, 404.05646626071393, 191.18466334285768, 112.21374540714169, -325.29235034999874, -526.9282754849992, -692.3948451114284, 575.9206735178577, -272.5283629742862, 86.06360614357072, 227.55460594214128, 508.8757331285724, 1149.6656949807148, 864.4629088628571, 1117.6809360628577, 1219.2379391078575, 1990.1922684378533, 241.6929595407164, 1038.1266441757143, -468.078281512142, 3037.663419432145, 2640.981502266426, 4897.984271074289, 7320.257662509281, -484.6669354778569, -2162.7147065899917, -864.1862124328618, 3846.2479046549997, 9440.12822932857, 5978.981237594286, -3657.043785389287, 375.3410973321443, 7058.752674845004, 1387.4714405635677, -2707.118224949285, 3814.9927989842836, 38.9338115878636, 2723.9517058892816, -8658.665543938572, 2412.9457008614263, 1896.8451355157158, -5349.324644239998, -12392.45653896714, -1909.0712911328592, -407.9538302521396, -1161.3265559542924, 2216.9089038578604, -5062.872122392146], \"yaxis\": \"y2\"}],                        {\"template\": {\"data\": {\"bar\": [{\"error_x\": {\"color\": \"#2a3f5f\"}, \"error_y\": {\"color\": \"#2a3f5f\"}, \"marker\": {\"line\": {\"color\": \"#E5ECF6\", \"width\": 0.5}}, \"type\": \"bar\"}], \"barpolar\": [{\"marker\": {\"line\": {\"color\": \"#E5ECF6\", \"width\": 0.5}}, \"type\": \"barpolar\"}], \"carpet\": [{\"aaxis\": {\"endlinecolor\": \"#2a3f5f\", \"gridcolor\": \"white\", \"linecolor\": \"white\", \"minorgridcolor\": \"white\", \"startlinecolor\": \"#2a3f5f\"}, \"baxis\": {\"endlinecolor\": \"#2a3f5f\", \"gridcolor\": \"white\", \"linecolor\": \"white\", \"minorgridcolor\": \"white\", \"startlinecolor\": \"#2a3f5f\"}, \"type\": \"carpet\"}], \"choropleth\": [{\"colorbar\": {\"outlinewidth\": 0, \"ticks\": \"\"}, \"type\": \"choropleth\"}], \"contour\": [{\"colorbar\": {\"outlinewidth\": 0, \"ticks\": \"\"}, \"colorscale\": [[0.0, \"#0d0887\"], [0.1111111111111111, \"#46039f\"], [0.2222222222222222, \"#7201a8\"], [0.3333333333333333, \"#9c179e\"], [0.4444444444444444, \"#bd3786\"], [0.5555555555555556, \"#d8576b\"], [0.6666666666666666, \"#ed7953\"], [0.7777777777777778, \"#fb9f3a\"], [0.8888888888888888, \"#fdca26\"], [1.0, \"#f0f921\"]], \"type\": \"contour\"}], \"contourcarpet\": [{\"colorbar\": {\"outlinewidth\": 0, \"ticks\": \"\"}, \"type\": \"contourcarpet\"}], \"heatmap\": [{\"colorbar\": {\"outlinewidth\": 0, \"ticks\": \"\"}, \"colorscale\": [[0.0, \"#0d0887\"], [0.1111111111111111, \"#46039f\"], [0.2222222222222222, \"#7201a8\"], [0.3333333333333333, \"#9c179e\"], [0.4444444444444444, \"#bd3786\"], [0.5555555555555556, \"#d8576b\"], [0.6666666666666666, \"#ed7953\"], [0.7777777777777778, \"#fb9f3a\"], [0.8888888888888888, \"#fdca26\"], [1.0, \"#f0f921\"]], \"type\": \"heatmap\"}], \"heatmapgl\": [{\"colorbar\": {\"outlinewidth\": 0, \"ticks\": \"\"}, \"colorscale\": [[0.0, \"#0d0887\"], [0.1111111111111111, \"#46039f\"], [0.2222222222222222, \"#7201a8\"], [0.3333333333333333, \"#9c179e\"], [0.4444444444444444, \"#bd3786\"], [0.5555555555555556, \"#d8576b\"], [0.6666666666666666, \"#ed7953\"], [0.7777777777777778, \"#fb9f3a\"], [0.8888888888888888, \"#fdca26\"], [1.0, \"#f0f921\"]], \"type\": \"heatmapgl\"}], \"histogram\": [{\"marker\": {\"colorbar\": {\"outlinewidth\": 0, \"ticks\": \"\"}}, \"type\": \"histogram\"}], \"histogram2d\": [{\"colorbar\": {\"outlinewidth\": 0, \"ticks\": \"\"}, \"colorscale\": [[0.0, \"#0d0887\"], [0.1111111111111111, \"#46039f\"], [0.2222222222222222, \"#7201a8\"], [0.3333333333333333, \"#9c179e\"], [0.4444444444444444, \"#bd3786\"], [0.5555555555555556, \"#d8576b\"], [0.6666666666666666, \"#ed7953\"], [0.7777777777777778, \"#fb9f3a\"], [0.8888888888888888, \"#fdca26\"], [1.0, \"#f0f921\"]], \"type\": \"histogram2d\"}], \"histogram2dcontour\": [{\"colorbar\": {\"outlinewidth\": 0, \"ticks\": \"\"}, \"colorscale\": [[0.0, \"#0d0887\"], [0.1111111111111111, \"#46039f\"], [0.2222222222222222, \"#7201a8\"], [0.3333333333333333, \"#9c179e\"], [0.4444444444444444, \"#bd3786\"], [0.5555555555555556, \"#d8576b\"], [0.6666666666666666, \"#ed7953\"], [0.7777777777777778, \"#fb9f3a\"], [0.8888888888888888, \"#fdca26\"], [1.0, \"#f0f921\"]], \"type\": \"histogram2dcontour\"}], \"mesh3d\": [{\"colorbar\": {\"outlinewidth\": 0, \"ticks\": \"\"}, \"type\": \"mesh3d\"}], \"parcoords\": [{\"line\": {\"colorbar\": {\"outlinewidth\": 0, \"ticks\": \"\"}}, \"type\": \"parcoords\"}], \"pie\": [{\"automargin\": true, \"type\": \"pie\"}], \"scatter\": [{\"marker\": {\"colorbar\": {\"outlinewidth\": 0, \"ticks\": \"\"}}, \"type\": \"scatter\"}], \"scatter3d\": [{\"line\": {\"colorbar\": {\"outlinewidth\": 0, \"ticks\": \"\"}}, \"marker\": {\"colorbar\": {\"outlinewidth\": 0, \"ticks\": \"\"}}, \"type\": \"scatter3d\"}], \"scattercarpet\": [{\"marker\": {\"colorbar\": {\"outlinewidth\": 0, \"ticks\": \"\"}}, \"type\": \"scattercarpet\"}], \"scattergeo\": [{\"marker\": {\"colorbar\": {\"outlinewidth\": 0, \"ticks\": \"\"}}, \"type\": \"scattergeo\"}], \"scattergl\": [{\"marker\": {\"colorbar\": {\"outlinewidth\": 0, \"ticks\": \"\"}}, \"type\": \"scattergl\"}], \"scattermapbox\": [{\"marker\": {\"colorbar\": {\"outlinewidth\": 0, \"ticks\": \"\"}}, \"type\": \"scattermapbox\"}], \"scatterpolar\": [{\"marker\": {\"colorbar\": {\"outlinewidth\": 0, \"ticks\": \"\"}}, \"type\": \"scatterpolar\"}], \"scatterpolargl\": [{\"marker\": {\"colorbar\": {\"outlinewidth\": 0, \"ticks\": \"\"}}, \"type\": \"scatterpolargl\"}], \"scatterternary\": [{\"marker\": {\"colorbar\": {\"outlinewidth\": 0, \"ticks\": \"\"}}, \"type\": \"scatterternary\"}], \"surface\": [{\"colorbar\": {\"outlinewidth\": 0, \"ticks\": \"\"}, \"colorscale\": [[0.0, \"#0d0887\"], [0.1111111111111111, \"#46039f\"], [0.2222222222222222, \"#7201a8\"], [0.3333333333333333, \"#9c179e\"], [0.4444444444444444, \"#bd3786\"], [0.5555555555555556, \"#d8576b\"], [0.6666666666666666, \"#ed7953\"], [0.7777777777777778, \"#fb9f3a\"], [0.8888888888888888, \"#fdca26\"], [1.0, \"#f0f921\"]], \"type\": \"surface\"}], \"table\": [{\"cells\": {\"fill\": {\"color\": \"#EBF0F8\"}, \"line\": {\"color\": \"white\"}}, \"header\": {\"fill\": {\"color\": \"#C8D4E3\"}, \"line\": {\"color\": \"white\"}}, \"type\": \"table\"}]}, \"layout\": {\"annotationdefaults\": {\"arrowcolor\": \"#2a3f5f\", \"arrowhead\": 0, \"arrowwidth\": 1}, \"coloraxis\": {\"colorbar\": {\"outlinewidth\": 0, \"ticks\": \"\"}}, \"colorscale\": {\"diverging\": [[0, \"#8e0152\"], [0.1, \"#c51b7d\"], [0.2, \"#de77ae\"], [0.3, \"#f1b6da\"], [0.4, \"#fde0ef\"], [0.5, \"#f7f7f7\"], [0.6, \"#e6f5d0\"], [0.7, \"#b8e186\"], [0.8, \"#7fbc41\"], [0.9, \"#4d9221\"], [1, \"#276419\"]], \"sequential\": [[0.0, \"#0d0887\"], [0.1111111111111111, \"#46039f\"], [0.2222222222222222, \"#7201a8\"], [0.3333333333333333, \"#9c179e\"], [0.4444444444444444, \"#bd3786\"], [0.5555555555555556, \"#d8576b\"], [0.6666666666666666, \"#ed7953\"], [0.7777777777777778, \"#fb9f3a\"], [0.8888888888888888, \"#fdca26\"], [1.0, \"#f0f921\"]], \"sequentialminus\": [[0.0, \"#0d0887\"], [0.1111111111111111, \"#46039f\"], [0.2222222222222222, \"#7201a8\"], [0.3333333333333333, \"#9c179e\"], [0.4444444444444444, \"#bd3786\"], [0.5555555555555556, \"#d8576b\"], [0.6666666666666666, \"#ed7953\"], [0.7777777777777778, \"#fb9f3a\"], [0.8888888888888888, \"#fdca26\"], [1.0, \"#f0f921\"]]}, \"colorway\": [\"#636efa\", \"#EF553B\", \"#00cc96\", \"#ab63fa\", \"#FFA15A\", \"#19d3f3\", \"#FF6692\", \"#B6E880\", \"#FF97FF\", \"#FECB52\"], \"font\": {\"color\": \"#2a3f5f\"}, \"geo\": {\"bgcolor\": \"white\", \"lakecolor\": \"white\", \"landcolor\": \"#E5ECF6\", \"showlakes\": true, \"showland\": true, \"subunitcolor\": \"white\"}, \"hoverlabel\": {\"align\": \"left\"}, \"hovermode\": \"closest\", \"mapbox\": {\"style\": \"light\"}, \"paper_bgcolor\": \"white\", \"plot_bgcolor\": \"#E5ECF6\", \"polar\": {\"angularaxis\": {\"gridcolor\": \"white\", \"linecolor\": \"white\", \"ticks\": \"\"}, \"bgcolor\": \"#E5ECF6\", \"radialaxis\": {\"gridcolor\": \"white\", \"linecolor\": \"white\", \"ticks\": \"\"}}, \"scene\": {\"xaxis\": {\"backgroundcolor\": \"#E5ECF6\", \"gridcolor\": \"white\", \"gridwidth\": 2, \"linecolor\": \"white\", \"showbackground\": true, \"ticks\": \"\", \"zerolinecolor\": \"white\"}, \"yaxis\": {\"backgroundcolor\": \"#E5ECF6\", \"gridcolor\": \"white\", \"gridwidth\": 2, \"linecolor\": \"white\", \"showbackground\": true, \"ticks\": \"\", \"zerolinecolor\": \"white\"}, \"zaxis\": {\"backgroundcolor\": \"#E5ECF6\", \"gridcolor\": \"white\", \"gridwidth\": 2, \"linecolor\": \"white\", \"showbackground\": true, \"ticks\": \"\", \"zerolinecolor\": \"white\"}}, \"shapedefaults\": {\"line\": {\"color\": \"#2a3f5f\"}}, \"ternary\": {\"aaxis\": {\"gridcolor\": \"white\", \"linecolor\": \"white\", \"ticks\": \"\"}, \"baxis\": {\"gridcolor\": \"white\", \"linecolor\": \"white\", \"ticks\": \"\"}, \"bgcolor\": \"#E5ECF6\", \"caxis\": {\"gridcolor\": \"white\", \"linecolor\": \"white\", \"ticks\": \"\"}}, \"title\": {\"x\": 0.05}, \"xaxis\": {\"automargin\": true, \"gridcolor\": \"white\", \"linecolor\": \"white\", \"ticks\": \"\", \"title\": {\"standoff\": 15}, \"zerolinecolor\": \"white\", \"zerolinewidth\": 2}, \"yaxis\": {\"automargin\": true, \"gridcolor\": \"white\", \"linecolor\": \"white\", \"ticks\": \"\", \"title\": {\"standoff\": 15}, \"zerolinecolor\": \"white\", \"zerolinewidth\": 2}}}, \"title\": {\"text\": \"BTC vs LR Sentiment Model - Weekly\"}, \"xaxis\": {\"anchor\": \"y\", \"domain\": [0.0, 0.94], \"title\": {\"text\": \"Date\"}}, \"yaxis\": {\"anchor\": \"x\", \"domain\": [0.0, 1.0], \"title\": {\"text\": \"<b>Sentiment Polarity </b>\"}}, \"yaxis2\": {\"anchor\": \"x\", \"overlaying\": \"y\", \"side\": \"right\", \"title\": {\"text\": \"<b>BTC Price</b>\"}}},                        {\"responsive\": true}                    ).then(function(){\n                            \nvar gd = document.getElementById('09074fa2-550e-4474-a633-38bc8c670334');\nvar x = new MutationObserver(function (mutations, observer) {{\n        var display = window.getComputedStyle(gd).display;\n        if (!display || display === 'none') {{\n            console.log([gd, 'removed!']);\n            Plotly.purge(gd);\n            observer.disconnect();\n        }}\n}});\n\n// Listen for the removal of the full notebook cells\nvar notebookContainer = gd.closest('#notebook-container');\nif (notebookContainer) {{\n    x.observe(notebookContainer, {childList: true});\n}}\n\n// Listen for the clearing of the current output cell\nvar outputEl = gd.closest('.output');\nif (outputEl) {{\n    x.observe(outputEl, {childList: true});\n}}\n\n                        })                };                });            </script>        </div>"
     },
     "metadata": {},
     "output_type": "display_data"
    }
   ],
   "source": [
    "dchunk='w'\n",
    "a=df.resample(dchunk).sum().polarity2\n",
    "btc_price=pd.read_csv(r\"C:\\Users\\Ben\\Desktop\\Diplomatiki\\CryptoSent\\Datasets\\other\\coin_Bitcoin.csv\")\n",
    "btc_price.Date=pd.to_datetime(btc_price.Date)\n",
    "btc_price=btc_price.set_index('Date')\n",
    "btc_price['avg_price']=(btc_price.High+btc_price.Low)/2\n",
    "\n",
    "btc_price_avg=btc_price.resample(dchunk).mean().loc['2019':'2021-06']['avg_price']\n",
    "\n",
    "# Create figure with secondary y-axis\n",
    "fig = make_subplots(specs=[[{\"secondary_y\": True}]])\n",
    "\n",
    "# Add traces\n",
    "fig.add_trace(\n",
    "    go.Scatter(x=a.index, y=a, name=\"LR-Model\"),\n",
    "    secondary_y=False,\n",
    ")\n",
    "\n",
    "fig.add_trace(\n",
    "    go.Scatter(x=btc_price_avg.index, y=btc_price_avg.diff(), name=\"Bit Coin Avg\"),\n",
    "    secondary_y=True,\n",
    ")\n",
    "\n",
    "# Add figure title\n",
    "fig.update_layout(\n",
    "    title_text=\"BTC vs LR Sentiment Model - Weekly\"\n",
    ")\n",
    "\n",
    "# Set x-axis title\n",
    "fig.update_xaxes(title_text=\"Date\")\n",
    "\n",
    "# Set y-axes titles\n",
    "fig.update_yaxes(title_text=\"<b>Sentiment Polarity </b>\", secondary_y=False)\n",
    "fig.update_yaxes(title_text=\"<b>BTC Price</b>\", secondary_y=True)\n",
    "\n",
    "fig.show()"
   ],
   "metadata": {
    "collapsed": false,
    "pycharm": {
     "name": "#%%\n"
    }
   }
  },
  {
   "cell_type": "code",
   "execution_count": 40,
   "outputs": [
    {
     "name": "stderr",
     "output_type": "stream",
     "text": [
      "100%|██████████| 500000/500000 [03:11<00:00, 2614.09it/s]\n"
     ]
    }
   ],
   "source": [
    "c1['text_processed']=c1['body'].fillna('No_text').progress_apply(lambda x: list2doc(clean_text(x)))"
   ],
   "metadata": {
    "collapsed": false,
    "pycharm": {
     "name": "#%%\n"
    }
   }
  },
  {
   "cell_type": "code",
   "execution_count": 41,
   "outputs": [
    {
     "name": "stderr",
     "output_type": "stream",
     "text": [
      "100%|██████████| 500000/500000 [08:49<00:00, 943.98it/s] \n"
     ]
    }
   ],
   "source": [
    "c1['sentiment_scores']=c1.text_processed.progress_apply(get_sentiment)\n"
   ],
   "metadata": {
    "collapsed": false,
    "pycharm": {
     "name": "#%%\n"
    }
   }
  },
  {
   "cell_type": "code",
   "execution_count": 47,
   "outputs": [],
   "source": [
    "import datetime as dt\n",
    "def date_parser_utc(x): return dt.datetime.fromtimestamp(x).strftime('%Y-%m-%d %H:%M:%S')\n",
    "c1['created']=c1.created_utc.apply(date_parser_utc)"
   ],
   "metadata": {
    "collapsed": false,
    "pycharm": {
     "name": "#%%\n"
    }
   }
  },
  {
   "cell_type": "code",
   "execution_count": 48,
   "outputs": [],
   "source": [
    "c1['Date']=pd.to_datetime(c1.created)\n",
    "c1=c1.set_index('Date')"
   ],
   "metadata": {
    "collapsed": false,
    "pycharm": {
     "name": "#%%\n"
    }
   }
  },
  {
   "cell_type": "code",
   "execution_count": 49,
   "outputs": [
    {
     "name": "stderr",
     "output_type": "stream",
     "text": [
      "100%|██████████| 500000/500000 [00:00<00:00, 737599.33it/s]\n"
     ]
    }
   ],
   "source": [
    "# claculating and normalizing the polarity or in other words the confidence of the model's prediction\n",
    "pos=c1.sentiment_scores.apply(lambda x: x[1]).tolist()\n",
    "neg=c1.sentiment_scores.apply(lambda x: x[0]).tolist()\n",
    "pos_max=max(pos)\n",
    "pos_min=min(pos)\n",
    "def normalize_polarity(x):\n",
    "    avg=(pos_max+pos_min)/2\n",
    "    ran=(pos_max-pos_min)/2\n",
    "    return (x-avg)/ran\n",
    "c1['polarity']=c1.sentiment_scores.progress_apply(lambda x: normalize_polarity(x[1]))\n",
    "c1['sentiment']=c1.sentiment_scores.apply(lambda x: x[2])"
   ],
   "metadata": {
    "collapsed": false,
    "pycharm": {
     "name": "#%%\n"
    }
   }
  },
  {
   "cell_type": "code",
   "execution_count": 50,
   "outputs": [
    {
     "data": {
      "text/plain": "                     Unnamed: 0            author  author_created_utc  \\\nDate                                                                    \n2021-05-08 18:43:56      605076        louisgrc11        1.591620e+09   \n2021-05-16 04:42:50     1248575            LouBup        1.563983e+09   \n2021-02-28 00:09:32     1285275        kitelooper        1.488645e+09   \n2021-05-14 21:49:25     1154899        versipelis        1.467241e+09   \n2021-04-18 18:54:12      896454            Lupi_X        1.484930e+09   \n...                         ...               ...                 ...   \n2021-03-10 07:00:49      392395         Melbonaut        1.465874e+09   \n2019-09-27 00:40:05      157923  Upyourbuttitgoes        1.533003e+09   \n2021-04-02 21:45:45       76620       SaltLifeDPP        1.477225e+09   \n2021-01-07 18:55:47      193623           salil19        1.526069e+09   \n2021-03-02 18:14:43       77342    peterdoherty17        1.590871e+09   \n\n                    author_fullname               author_flair_text  \\\nDate                                                                  \n2021-05-08 18:43:56     t2_6pft6gel                                   \n2021-05-16 04:42:50     t2_484kr7rq                                   \n2021-02-28 00:09:32       t2_15wsyv                             NaN   \n2021-05-14 21:49:25        t2_z4fqr                             NaN   \n2021-04-18 18:54:12       t2_14m85o  Platinum | QC: CC 134 | NANO 5   \n...                             ...                             ...   \n2021-03-10 07:00:49        t2_ypno5                                   \n2019-09-27 00:40:05     t2_1vzexrka                             Tin   \n2021-04-02 21:45:45       t2_12boh7                             NaN   \n2021-01-07 18:55:47     t2_1cncbagm                Gold | QC: CC 51   \n2021-03-02 18:14:43     t2_6mfrcezp              Silver | QC: CC 34   \n\n                                                                  body  \\\nDate                                                                     \n2021-05-08 18:43:56  You also don’t hear about me turning my $20 in...   \n2021-05-16 04:42:50               Is Elon this bull run's John McAfee?   \n2021-02-28 00:09:32  I am the man you saw today. Thanks for the kin...   \n2021-05-14 21:49:25  This is the kind of shitposting I come to redd...   \n2021-04-18 18:54:12  My setup:\\n\\nBrave, Presearch, Swash.\\n\\nIf yo...   \n...                                                                ...   \n2021-03-10 07:00:49  Playing devils advocate, there are people that...   \n2019-09-27 00:40:05                                            Oh word   \n2021-04-02 21:45:45  As a Floridian, I just want to say that I appr...   \n2021-01-07 18:55:47                        Coinbase is down\\n\\nBullish   \n2021-03-02 18:14:43                 Down 3% and everyone is an emo wtf   \n\n                     created_utc distinguished       id  is_submitter  ...  \\\nDate                                                                   ...   \n2021-05-08 18:43:56   1620492236           NaN  gxeifve         False  ...   \n2021-05-16 04:42:50   1621132970           NaN  gya7u4z         False  ...   \n2021-02-28 00:09:32   1614467372           NaN  gp3fzn9         False  ...   \n2021-05-14 21:49:25   1621021765           NaN  gy4yyn3         False  ...   \n2021-04-18 18:54:12   1618764852           NaN  guzh7oh         False  ...   \n...                          ...           ...      ...           ...  ...   \n2021-03-10 07:00:49   1615356049           NaN  gqf341h         False  ...   \n2019-09-27 00:40:05   1569537605           NaN  f1kmswu         False  ...   \n2021-04-02 21:45:45   1617392745           NaN  gt68q96         False  ...   \n2021-01-07 18:55:47   1610042147           NaN  gig4oow         False  ...   \n2021-03-02 18:14:43   1614705283           NaN  gpfn2io         False  ...   \n\n                                                             permalink  score  \\\nDate                                                                            \n2021-05-08 18:43:56  /r/CryptoCurrency/comments/n7rl2y/you_hear_abo...  16801   \n2021-05-16 04:42:50  /r/CryptoCurrency/comments/ndedgf/elon_musk_ju...  11407   \n2021-02-28 00:09:32  /r/Bitcoin/comments/ltzbn5/to_the_man_at_the_g...   7575   \n2021-05-14 21:49:25  /r/CryptoCurrency/comments/nch8rm/its_been_a_c...   6794   \n2021-04-18 18:54:12  /r/CryptoCurrency/comments/mtghzc/what_are_som...   6603   \n...                                                                ...    ...   \n2021-03-10 07:00:49  /r/CryptoCurrency/comments/m1pbf8/crypto_will_...     10   \n2019-09-27 00:40:05  /r/CryptoCurrency/comments/d9bs0b/daily_discus...     10   \n2021-04-02 21:45:45  /r/Bitcoin/comments/mide1d/daily_discussion_ap...     10   \n2021-01-07 18:55:47  /r/CryptoCurrency/comments/ks0orl/daily_discus...     10   \n2021-03-02 18:14:43  /r/CryptoCurrency/comments/lvong0/daily_discus...     10   \n\n                          subreddit subreddit_id  submission_id  \\\nDate                                                              \n2021-05-08 18:43:56  CryptoCurrency     t5_2wlj3         n7rl2y   \n2021-05-16 04:42:50  CryptoCurrency     t5_2wlj3         ndedgf   \n2021-02-28 00:09:32         Bitcoin     t5_2s3qj         ltzbn5   \n2021-05-14 21:49:25  CryptoCurrency     t5_2wlj3         nch8rm   \n2021-04-18 18:54:12  CryptoCurrency     t5_2wlj3         mtghzc   \n...                             ...          ...            ...   \n2021-03-10 07:00:49  CryptoCurrency     t5_2wlj3         m1pbf8   \n2019-09-27 00:40:05  CryptoCurrency     t5_2wlj3         d9bs0b   \n2021-04-02 21:45:45         Bitcoin     t5_2s3qj         mide1d   \n2021-01-07 18:55:47  CryptoCurrency     t5_2wlj3         ks0orl   \n2021-03-02 18:14:43  CryptoCurrency     t5_2wlj3         lvong0   \n\n                                                        text_processed  \\\nDate                                                                     \n2021-05-08 18:43:56                                    also hear turn    \n2021-05-16 04:42:50                           elon bull run john mcafe   \n2021-02-28 00:09:32  man saw today thank kind word hodler quit toug...   \n2021-05-14 21:49:25                          kind shitpost come reddit   \n2021-04-18 18:54:12  setup brave presearch swash invest gt provid l...   \n...                                                                ...   \n2021-03-10 07:00:49  play devil advoc peopl bought lot dogecoin lol...   \n2019-09-27 00:40:05                                            oh word   \n2021-04-02 21:45:45  floridian want say appreci unit measur final u...   \n2021-01-07 18:55:47                                    coinbas bullish   \n2021-03-02 18:14:43                                    everyon emo wtf   \n\n                                                      sentiment_scores  \\\nDate                                                                     \n2021-05-08 18:43:56  (0.4925772302464906, 0.5074227697535094, Netural)   \n2021-05-16 04:42:50  (0.41039661426740404, 0.589603385732596, Netural)   \n2021-02-28 00:09:32  (0.16002405407056364, 0.8399759459294364, Posi...   \n2021-05-14 21:49:25  (0.6133478292747521, 0.386652170725248, Negative)   \n2021-04-18 18:54:12  (0.07040643486703058, 0.9295935651329694, Posi...   \n...                                                                ...   \n2021-03-10 07:00:49  (0.38247868021491027, 0.6175213197850897, Posi...   \n2019-09-27 00:40:05  (0.4380708350400544, 0.5619291649599456, Netural)   \n2021-04-02 21:45:45  (0.12932382547568644, 0.8706761745243136, Posi...   \n2021-01-07 18:55:47  (0.38485171809994123, 0.6151482819000588, Posi...   \n2021-03-02 18:14:43  (0.9289836433108655, 0.07101635668913456, Nega...   \n\n                                 created  polarity sentiment  \nDate                                                          \n2021-05-08 18:43:56  2021-05-08 18:43:56  0.015461   Netural  \n2021-05-16 04:42:50  2021-05-16 04:42:50  0.179923   Netural  \n2021-02-28 00:09:32  2021-02-28 00:09:32  0.680974  Positive  \n2021-05-14 21:49:25  2021-05-14 21:49:25 -0.226228  Negative  \n2021-04-18 18:54:12  2021-04-18 18:54:12  0.860319  Positive  \n...                                  ...       ...       ...  \n2021-03-10 07:00:49  2021-03-10 07:00:49  0.235793  Positive  \n2019-09-27 00:40:05  2019-09-27 00:40:05  0.124540   Netural  \n2021-04-02 21:45:45  2021-04-02 21:45:45  0.742412  Positive  \n2021-01-07 18:55:47  2021-01-07 18:55:47  0.231044  Positive  \n2021-03-02 18:14:43  2021-03-02 18:14:43 -0.857885  Negative  \n\n[500000 rows x 23 columns]",
      "text/html": "<div>\n<style scoped>\n    .dataframe tbody tr th:only-of-type {\n        vertical-align: middle;\n    }\n\n    .dataframe tbody tr th {\n        vertical-align: top;\n    }\n\n    .dataframe thead th {\n        text-align: right;\n    }\n</style>\n<table border=\"1\" class=\"dataframe\">\n  <thead>\n    <tr style=\"text-align: right;\">\n      <th></th>\n      <th>Unnamed: 0</th>\n      <th>author</th>\n      <th>author_created_utc</th>\n      <th>author_fullname</th>\n      <th>author_flair_text</th>\n      <th>body</th>\n      <th>created_utc</th>\n      <th>distinguished</th>\n      <th>id</th>\n      <th>is_submitter</th>\n      <th>...</th>\n      <th>permalink</th>\n      <th>score</th>\n      <th>subreddit</th>\n      <th>subreddit_id</th>\n      <th>submission_id</th>\n      <th>text_processed</th>\n      <th>sentiment_scores</th>\n      <th>created</th>\n      <th>polarity</th>\n      <th>sentiment</th>\n    </tr>\n    <tr>\n      <th>Date</th>\n      <th></th>\n      <th></th>\n      <th></th>\n      <th></th>\n      <th></th>\n      <th></th>\n      <th></th>\n      <th></th>\n      <th></th>\n      <th></th>\n      <th></th>\n      <th></th>\n      <th></th>\n      <th></th>\n      <th></th>\n      <th></th>\n      <th></th>\n      <th></th>\n      <th></th>\n      <th></th>\n      <th></th>\n    </tr>\n  </thead>\n  <tbody>\n    <tr>\n      <th>2021-05-08 18:43:56</th>\n      <td>605076</td>\n      <td>louisgrc11</td>\n      <td>1.591620e+09</td>\n      <td>t2_6pft6gel</td>\n      <td></td>\n      <td>You also don’t hear about me turning my $20 in...</td>\n      <td>1620492236</td>\n      <td>NaN</td>\n      <td>gxeifve</td>\n      <td>False</td>\n      <td>...</td>\n      <td>/r/CryptoCurrency/comments/n7rl2y/you_hear_abo...</td>\n      <td>16801</td>\n      <td>CryptoCurrency</td>\n      <td>t5_2wlj3</td>\n      <td>n7rl2y</td>\n      <td>also hear turn</td>\n      <td>(0.4925772302464906, 0.5074227697535094, Netural)</td>\n      <td>2021-05-08 18:43:56</td>\n      <td>0.015461</td>\n      <td>Netural</td>\n    </tr>\n    <tr>\n      <th>2021-05-16 04:42:50</th>\n      <td>1248575</td>\n      <td>LouBup</td>\n      <td>1.563983e+09</td>\n      <td>t2_484kr7rq</td>\n      <td></td>\n      <td>Is Elon this bull run's John McAfee?</td>\n      <td>1621132970</td>\n      <td>NaN</td>\n      <td>gya7u4z</td>\n      <td>False</td>\n      <td>...</td>\n      <td>/r/CryptoCurrency/comments/ndedgf/elon_musk_ju...</td>\n      <td>11407</td>\n      <td>CryptoCurrency</td>\n      <td>t5_2wlj3</td>\n      <td>ndedgf</td>\n      <td>elon bull run john mcafe</td>\n      <td>(0.41039661426740404, 0.589603385732596, Netural)</td>\n      <td>2021-05-16 04:42:50</td>\n      <td>0.179923</td>\n      <td>Netural</td>\n    </tr>\n    <tr>\n      <th>2021-02-28 00:09:32</th>\n      <td>1285275</td>\n      <td>kitelooper</td>\n      <td>1.488645e+09</td>\n      <td>t2_15wsyv</td>\n      <td>NaN</td>\n      <td>I am the man you saw today. Thanks for the kin...</td>\n      <td>1614467372</td>\n      <td>NaN</td>\n      <td>gp3fzn9</td>\n      <td>False</td>\n      <td>...</td>\n      <td>/r/Bitcoin/comments/ltzbn5/to_the_man_at_the_g...</td>\n      <td>7575</td>\n      <td>Bitcoin</td>\n      <td>t5_2s3qj</td>\n      <td>ltzbn5</td>\n      <td>man saw today thank kind word hodler quit toug...</td>\n      <td>(0.16002405407056364, 0.8399759459294364, Posi...</td>\n      <td>2021-02-28 00:09:32</td>\n      <td>0.680974</td>\n      <td>Positive</td>\n    </tr>\n    <tr>\n      <th>2021-05-14 21:49:25</th>\n      <td>1154899</td>\n      <td>versipelis</td>\n      <td>1.467241e+09</td>\n      <td>t2_z4fqr</td>\n      <td>NaN</td>\n      <td>This is the kind of shitposting I come to redd...</td>\n      <td>1621021765</td>\n      <td>NaN</td>\n      <td>gy4yyn3</td>\n      <td>False</td>\n      <td>...</td>\n      <td>/r/CryptoCurrency/comments/nch8rm/its_been_a_c...</td>\n      <td>6794</td>\n      <td>CryptoCurrency</td>\n      <td>t5_2wlj3</td>\n      <td>nch8rm</td>\n      <td>kind shitpost come reddit</td>\n      <td>(0.6133478292747521, 0.386652170725248, Negative)</td>\n      <td>2021-05-14 21:49:25</td>\n      <td>-0.226228</td>\n      <td>Negative</td>\n    </tr>\n    <tr>\n      <th>2021-04-18 18:54:12</th>\n      <td>896454</td>\n      <td>Lupi_X</td>\n      <td>1.484930e+09</td>\n      <td>t2_14m85o</td>\n      <td>Platinum | QC: CC 134 | NANO 5</td>\n      <td>My setup:\\n\\nBrave, Presearch, Swash.\\n\\nIf yo...</td>\n      <td>1618764852</td>\n      <td>NaN</td>\n      <td>guzh7oh</td>\n      <td>False</td>\n      <td>...</td>\n      <td>/r/CryptoCurrency/comments/mtghzc/what_are_som...</td>\n      <td>6603</td>\n      <td>CryptoCurrency</td>\n      <td>t5_2wlj3</td>\n      <td>mtghzc</td>\n      <td>setup brave presearch swash invest gt provid l...</td>\n      <td>(0.07040643486703058, 0.9295935651329694, Posi...</td>\n      <td>2021-04-18 18:54:12</td>\n      <td>0.860319</td>\n      <td>Positive</td>\n    </tr>\n    <tr>\n      <th>...</th>\n      <td>...</td>\n      <td>...</td>\n      <td>...</td>\n      <td>...</td>\n      <td>...</td>\n      <td>...</td>\n      <td>...</td>\n      <td>...</td>\n      <td>...</td>\n      <td>...</td>\n      <td>...</td>\n      <td>...</td>\n      <td>...</td>\n      <td>...</td>\n      <td>...</td>\n      <td>...</td>\n      <td>...</td>\n      <td>...</td>\n      <td>...</td>\n      <td>...</td>\n      <td>...</td>\n    </tr>\n    <tr>\n      <th>2021-03-10 07:00:49</th>\n      <td>392395</td>\n      <td>Melbonaut</td>\n      <td>1.465874e+09</td>\n      <td>t2_ypno5</td>\n      <td></td>\n      <td>Playing devils advocate, there are people that...</td>\n      <td>1615356049</td>\n      <td>NaN</td>\n      <td>gqf341h</td>\n      <td>False</td>\n      <td>...</td>\n      <td>/r/CryptoCurrency/comments/m1pbf8/crypto_will_...</td>\n      <td>10</td>\n      <td>CryptoCurrency</td>\n      <td>t5_2wlj3</td>\n      <td>m1pbf8</td>\n      <td>play devil advoc peopl bought lot dogecoin lol...</td>\n      <td>(0.38247868021491027, 0.6175213197850897, Posi...</td>\n      <td>2021-03-10 07:00:49</td>\n      <td>0.235793</td>\n      <td>Positive</td>\n    </tr>\n    <tr>\n      <th>2019-09-27 00:40:05</th>\n      <td>157923</td>\n      <td>Upyourbuttitgoes</td>\n      <td>1.533003e+09</td>\n      <td>t2_1vzexrka</td>\n      <td>Tin</td>\n      <td>Oh word</td>\n      <td>1569537605</td>\n      <td>NaN</td>\n      <td>f1kmswu</td>\n      <td>False</td>\n      <td>...</td>\n      <td>/r/CryptoCurrency/comments/d9bs0b/daily_discus...</td>\n      <td>10</td>\n      <td>CryptoCurrency</td>\n      <td>t5_2wlj3</td>\n      <td>d9bs0b</td>\n      <td>oh word</td>\n      <td>(0.4380708350400544, 0.5619291649599456, Netural)</td>\n      <td>2019-09-27 00:40:05</td>\n      <td>0.124540</td>\n      <td>Netural</td>\n    </tr>\n    <tr>\n      <th>2021-04-02 21:45:45</th>\n      <td>76620</td>\n      <td>SaltLifeDPP</td>\n      <td>1.477225e+09</td>\n      <td>t2_12boh7</td>\n      <td>NaN</td>\n      <td>As a Floridian, I just want to say that I appr...</td>\n      <td>1617392745</td>\n      <td>NaN</td>\n      <td>gt68q96</td>\n      <td>False</td>\n      <td>...</td>\n      <td>/r/Bitcoin/comments/mide1d/daily_discussion_ap...</td>\n      <td>10</td>\n      <td>Bitcoin</td>\n      <td>t5_2s3qj</td>\n      <td>mide1d</td>\n      <td>floridian want say appreci unit measur final u...</td>\n      <td>(0.12932382547568644, 0.8706761745243136, Posi...</td>\n      <td>2021-04-02 21:45:45</td>\n      <td>0.742412</td>\n      <td>Positive</td>\n    </tr>\n    <tr>\n      <th>2021-01-07 18:55:47</th>\n      <td>193623</td>\n      <td>salil19</td>\n      <td>1.526069e+09</td>\n      <td>t2_1cncbagm</td>\n      <td>Gold | QC: CC 51</td>\n      <td>Coinbase is down\\n\\nBullish</td>\n      <td>1610042147</td>\n      <td>NaN</td>\n      <td>gig4oow</td>\n      <td>False</td>\n      <td>...</td>\n      <td>/r/CryptoCurrency/comments/ks0orl/daily_discus...</td>\n      <td>10</td>\n      <td>CryptoCurrency</td>\n      <td>t5_2wlj3</td>\n      <td>ks0orl</td>\n      <td>coinbas bullish</td>\n      <td>(0.38485171809994123, 0.6151482819000588, Posi...</td>\n      <td>2021-01-07 18:55:47</td>\n      <td>0.231044</td>\n      <td>Positive</td>\n    </tr>\n    <tr>\n      <th>2021-03-02 18:14:43</th>\n      <td>77342</td>\n      <td>peterdoherty17</td>\n      <td>1.590871e+09</td>\n      <td>t2_6mfrcezp</td>\n      <td>Silver | QC: CC 34</td>\n      <td>Down 3% and everyone is an emo wtf</td>\n      <td>1614705283</td>\n      <td>NaN</td>\n      <td>gpfn2io</td>\n      <td>False</td>\n      <td>...</td>\n      <td>/r/CryptoCurrency/comments/lvong0/daily_discus...</td>\n      <td>10</td>\n      <td>CryptoCurrency</td>\n      <td>t5_2wlj3</td>\n      <td>lvong0</td>\n      <td>everyon emo wtf</td>\n      <td>(0.9289836433108655, 0.07101635668913456, Nega...</td>\n      <td>2021-03-02 18:14:43</td>\n      <td>-0.857885</td>\n      <td>Negative</td>\n    </tr>\n  </tbody>\n</table>\n<p>500000 rows × 23 columns</p>\n</div>"
     },
     "execution_count": 50,
     "metadata": {},
     "output_type": "execute_result"
    }
   ],
   "source": [
    "c1"
   ],
   "metadata": {
    "collapsed": false,
    "pycharm": {
     "name": "#%%\n"
    }
   }
  },
  {
   "cell_type": "code",
   "execution_count": 88,
   "outputs": [
    {
     "data": {
      "application/vnd.plotly.v1+json": {
       "config": {
        "plotlyServerURL": "https://plot.ly"
       },
       "data": [
        {
         "name": "LR-Model",
         "type": "scatter",
         "x": [
          "2019-01-06T00:00:00",
          "2019-01-13T00:00:00",
          "2019-01-20T00:00:00",
          "2019-01-27T00:00:00",
          "2019-02-03T00:00:00",
          "2019-02-10T00:00:00",
          "2019-02-17T00:00:00",
          "2019-02-24T00:00:00",
          "2019-03-03T00:00:00",
          "2019-03-10T00:00:00",
          "2019-03-17T00:00:00",
          "2019-03-24T00:00:00",
          "2019-03-31T00:00:00",
          "2019-04-07T00:00:00",
          "2019-04-14T00:00:00",
          "2019-04-21T00:00:00",
          "2019-04-28T00:00:00",
          "2019-05-05T00:00:00",
          "2019-05-12T00:00:00",
          "2019-05-19T00:00:00",
          "2019-05-26T00:00:00",
          "2019-06-02T00:00:00",
          "2019-06-09T00:00:00",
          "2019-06-16T00:00:00",
          "2019-06-23T00:00:00",
          "2019-06-30T00:00:00",
          "2019-07-07T00:00:00",
          "2019-07-14T00:00:00",
          "2019-07-21T00:00:00",
          "2019-07-28T00:00:00",
          "2019-08-04T00:00:00",
          "2019-08-11T00:00:00",
          "2019-08-18T00:00:00",
          "2019-08-25T00:00:00",
          "2019-09-01T00:00:00",
          "2019-09-08T00:00:00",
          "2019-09-15T00:00:00",
          "2019-09-22T00:00:00",
          "2019-09-29T00:00:00",
          "2019-10-06T00:00:00",
          "2019-10-13T00:00:00",
          "2019-10-20T00:00:00",
          "2019-10-27T00:00:00",
          "2019-11-03T00:00:00",
          "2019-11-10T00:00:00",
          "2019-11-17T00:00:00",
          "2019-11-24T00:00:00",
          "2019-12-01T00:00:00",
          "2019-12-08T00:00:00",
          "2019-12-15T00:00:00",
          "2019-12-22T00:00:00",
          "2019-12-29T00:00:00",
          "2020-01-05T00:00:00",
          "2020-01-12T00:00:00",
          "2020-01-19T00:00:00",
          "2020-01-26T00:00:00",
          "2020-02-02T00:00:00",
          "2020-02-09T00:00:00",
          "2020-02-16T00:00:00",
          "2020-02-23T00:00:00",
          "2020-03-01T00:00:00",
          "2020-03-08T00:00:00",
          "2020-03-15T00:00:00",
          "2020-03-22T00:00:00",
          "2020-03-29T00:00:00",
          "2020-04-05T00:00:00",
          "2020-04-12T00:00:00",
          "2020-04-19T00:00:00",
          "2020-04-26T00:00:00",
          "2020-05-03T00:00:00",
          "2020-05-10T00:00:00",
          "2020-05-17T00:00:00",
          "2020-05-24T00:00:00",
          "2020-05-31T00:00:00",
          "2020-06-07T00:00:00",
          "2020-06-14T00:00:00",
          "2020-06-21T00:00:00",
          "2020-06-28T00:00:00",
          "2020-07-05T00:00:00",
          "2020-07-12T00:00:00",
          "2020-07-19T00:00:00",
          "2020-07-26T00:00:00",
          "2020-08-02T00:00:00",
          "2020-08-09T00:00:00",
          "2020-08-16T00:00:00",
          "2020-08-23T00:00:00",
          "2020-08-30T00:00:00",
          "2020-09-06T00:00:00",
          "2020-09-13T00:00:00",
          "2020-09-20T00:00:00",
          "2020-09-27T00:00:00",
          "2020-10-04T00:00:00",
          "2020-10-11T00:00:00",
          "2020-10-18T00:00:00",
          "2020-10-25T00:00:00",
          "2020-11-01T00:00:00",
          "2020-11-08T00:00:00",
          "2020-11-15T00:00:00",
          "2020-11-22T00:00:00",
          "2020-11-29T00:00:00",
          "2020-12-06T00:00:00",
          "2020-12-13T00:00:00",
          "2020-12-20T00:00:00",
          "2020-12-27T00:00:00",
          "2021-01-03T00:00:00",
          "2021-01-10T00:00:00",
          "2021-01-17T00:00:00",
          "2021-01-24T00:00:00",
          "2021-01-31T00:00:00",
          "2021-02-07T00:00:00",
          "2021-02-14T00:00:00",
          "2021-02-21T00:00:00",
          "2021-02-28T00:00:00",
          "2021-03-07T00:00:00",
          "2021-03-14T00:00:00",
          "2021-03-21T00:00:00",
          "2021-03-28T00:00:00",
          "2021-04-04T00:00:00",
          "2021-04-11T00:00:00",
          "2021-04-18T00:00:00",
          "2021-04-25T00:00:00",
          "2021-05-02T00:00:00",
          "2021-05-09T00:00:00",
          "2021-05-16T00:00:00",
          "2021-05-23T00:00:00",
          "2021-05-30T00:00:00",
          "2021-06-06T00:00:00",
          "2021-06-13T00:00:00",
          "2021-06-20T00:00:00",
          "2021-06-27T00:00:00",
          "2021-07-04T00:00:00"
         ],
         "xaxis": "x",
         "y": [
          -60.95355403262108,
          35.19754004233089,
          -2.8213448834798553,
          46.34771382271342,
          -49.94748677450452,
          -74.00022578696215,
          -9.053094311408815,
          75.8231911252707,
          32.466894333535194,
          57.51116656753442,
          9.414913357489146,
          -11.403790383227514,
          65.63171586805046,
          103.6483329534784,
          34.629475810280525,
          -12.041453320416032,
          -65.88582563102754,
          26.000798790431226,
          -60.93486301978407,
          119.2452325105202,
          27.82232775971234,
          100.36872637137914,
          25.611374798597414,
          19.25832115329176,
          27.35593810832461,
          -33.61271239286963,
          -11.996016373837435,
          -18.644135791932285,
          109.93137766620542,
          -56.98683443700194,
          -3.745882761829252,
          -5.373336153534425,
          51.09503726060247,
          12.699098364336379,
          -3.1648231031379757,
          48.362955515947476,
          18.612127009669045,
          64.61529239191022,
          -44.51374197357334,
          3.3443967758597952,
          -0.051753289141374115,
          10.129594999867166,
          -31.896788901270565,
          13.994569478830735,
          -37.91533840020571,
          -54.04843924200518,
          -5.698474067786445,
          -11.270339970545866,
          28.114261041474098,
          -16.435810545075555,
          -27.13359856344693,
          -12.237186948978197,
          -15.446209006724597,
          69.06997759179283,
          16.586909024967966,
          -10.824842028395881,
          56.660135565119596,
          46.364367521451626,
          -74.31853900732574,
          38.16329285276111,
          9.413182776080708,
          32.38779572646814,
          -155.9838327045903,
          -85.40357844278289,
          -78.91905024154298,
          -5.938998249724397,
          -10.568972463963156,
          12.132941361691781,
          -14.080967338239967,
          21.784313991607302,
          -15.740939095420044,
          60.68168330643419,
          -15.82478659662766,
          25.888234429973274,
          39.868354042296,
          -9.679871578682734,
          29.146754156138922,
          -14.705987788404205,
          13.158478778773771,
          34.40578111033608,
          -4.801962281132944,
          45.78073432628564,
          77.76203055727704,
          -31.57562864199616,
          12.11153718590819,
          -18.8433537221518,
          -23.942791572614162,
          1.4386175335014353,
          -1.0550871801775743,
          -19.143821970273837,
          -28.989360170130162,
          26.684300970393593,
          29.145007707608556,
          19.091316915657895,
          33.9855687243382,
          -19.856430648817526,
          91.08488764565739,
          104.35793564599501,
          84.12838016105553,
          90.77093879815307,
          28.627906747025484,
          9.491395055626523,
          141.05752901255167,
          13.048689155763984,
          96.36747279184239,
          392.82724666200625,
          84.00413451232393,
          173.67131745059513,
          178.27689756294012,
          379.904681692951,
          710.6505334145511,
          707.866520585087,
          368.62541542636916,
          416.6581143419715,
          296.81402888843235,
          -47.02554862153257,
          367.0144183788062,
          272.34207062871224,
          293.4201346937027,
          573.8603009341874,
          525.3368194982864,
          647.3931361674753,
          235.28709495886375,
          502.6943051802943,
          -438.4688957580084,
          221.4273548749428,
          356.68920975429387,
          197.37142952293325,
          408.0165063903378,
          109.05335242201517,
          127.1403530333265
         ],
         "yaxis": "y"
        },
        {
         "name": "Bit Coin Avg",
         "type": "scatter",
         "x": [
          "2019-01-06T00:00:00",
          "2019-01-13T00:00:00",
          "2019-01-20T00:00:00",
          "2019-01-27T00:00:00",
          "2019-02-03T00:00:00",
          "2019-02-10T00:00:00",
          "2019-02-17T00:00:00",
          "2019-02-24T00:00:00",
          "2019-03-03T00:00:00",
          "2019-03-10T00:00:00",
          "2019-03-17T00:00:00",
          "2019-03-24T00:00:00",
          "2019-03-31T00:00:00",
          "2019-04-07T00:00:00",
          "2019-04-14T00:00:00",
          "2019-04-21T00:00:00",
          "2019-04-28T00:00:00",
          "2019-05-05T00:00:00",
          "2019-05-12T00:00:00",
          "2019-05-19T00:00:00",
          "2019-05-26T00:00:00",
          "2019-06-02T00:00:00",
          "2019-06-09T00:00:00",
          "2019-06-16T00:00:00",
          "2019-06-23T00:00:00",
          "2019-06-30T00:00:00",
          "2019-07-07T00:00:00",
          "2019-07-14T00:00:00",
          "2019-07-21T00:00:00",
          "2019-07-28T00:00:00",
          "2019-08-04T00:00:00",
          "2019-08-11T00:00:00",
          "2019-08-18T00:00:00",
          "2019-08-25T00:00:00",
          "2019-09-01T00:00:00",
          "2019-09-08T00:00:00",
          "2019-09-15T00:00:00",
          "2019-09-22T00:00:00",
          "2019-09-29T00:00:00",
          "2019-10-06T00:00:00",
          "2019-10-13T00:00:00",
          "2019-10-20T00:00:00",
          "2019-10-27T00:00:00",
          "2019-11-03T00:00:00",
          "2019-11-10T00:00:00",
          "2019-11-17T00:00:00",
          "2019-11-24T00:00:00",
          "2019-12-01T00:00:00",
          "2019-12-08T00:00:00",
          "2019-12-15T00:00:00",
          "2019-12-22T00:00:00",
          "2019-12-29T00:00:00",
          "2020-01-05T00:00:00",
          "2020-01-12T00:00:00",
          "2020-01-19T00:00:00",
          "2020-01-26T00:00:00",
          "2020-02-02T00:00:00",
          "2020-02-09T00:00:00",
          "2020-02-16T00:00:00",
          "2020-02-23T00:00:00",
          "2020-03-01T00:00:00",
          "2020-03-08T00:00:00",
          "2020-03-15T00:00:00",
          "2020-03-22T00:00:00",
          "2020-03-29T00:00:00",
          "2020-04-05T00:00:00",
          "2020-04-12T00:00:00",
          "2020-04-19T00:00:00",
          "2020-04-26T00:00:00",
          "2020-05-03T00:00:00",
          "2020-05-10T00:00:00",
          "2020-05-17T00:00:00",
          "2020-05-24T00:00:00",
          "2020-05-31T00:00:00",
          "2020-06-07T00:00:00",
          "2020-06-14T00:00:00",
          "2020-06-21T00:00:00",
          "2020-06-28T00:00:00",
          "2020-07-05T00:00:00",
          "2020-07-12T00:00:00",
          "2020-07-19T00:00:00",
          "2020-07-26T00:00:00",
          "2020-08-02T00:00:00",
          "2020-08-09T00:00:00",
          "2020-08-16T00:00:00",
          "2020-08-23T00:00:00",
          "2020-08-30T00:00:00",
          "2020-09-06T00:00:00",
          "2020-09-13T00:00:00",
          "2020-09-20T00:00:00",
          "2020-09-27T00:00:00",
          "2020-10-04T00:00:00",
          "2020-10-11T00:00:00",
          "2020-10-18T00:00:00",
          "2020-10-25T00:00:00",
          "2020-11-01T00:00:00",
          "2020-11-08T00:00:00",
          "2020-11-15T00:00:00",
          "2020-11-22T00:00:00",
          "2020-11-29T00:00:00",
          "2020-12-06T00:00:00",
          "2020-12-13T00:00:00",
          "2020-12-20T00:00:00",
          "2020-12-27T00:00:00",
          "2021-01-03T00:00:00",
          "2021-01-10T00:00:00",
          "2021-01-17T00:00:00",
          "2021-01-24T00:00:00",
          "2021-01-31T00:00:00",
          "2021-02-07T00:00:00",
          "2021-02-14T00:00:00",
          "2021-02-21T00:00:00",
          "2021-02-28T00:00:00",
          "2021-03-07T00:00:00",
          "2021-03-14T00:00:00",
          "2021-03-21T00:00:00",
          "2021-03-28T00:00:00",
          "2021-04-04T00:00:00",
          "2021-04-11T00:00:00",
          "2021-04-18T00:00:00",
          "2021-04-25T00:00:00",
          "2021-05-02T00:00:00",
          "2021-05-09T00:00:00",
          "2021-05-16T00:00:00",
          "2021-05-23T00:00:00",
          "2021-05-30T00:00:00",
          "2021-06-06T00:00:00",
          "2021-06-13T00:00:00",
          "2021-06-20T00:00:00",
          "2021-06-27T00:00:00",
          "2021-07-04T00:00:00"
         ],
         "xaxis": "x",
         "y": [
          2.33050585778622,
          1.695154895002318,
          1.4630053989101557,
          2.3172616233964622,
          1.1531481282693696,
          0.6262862331467278,
          0.4976647587626931,
          0.8792864423565473,
          -0.551878822768486,
          4.631742750419276,
          0.61953508074701,
          1.6294554746711531,
          1.0543002516509792,
          1.7694063235026847,
          3.792194840179593,
          2.0640774107557824,
          0.6392990567385957,
          3.5438679377045665,
          4.287551203597722,
          6.888927183584255,
          3.526626088778791,
          5.322804759091181,
          4.059568240300226,
          4.965910781962773,
          6.9767635047588925,
          7.430072775470512,
          3.9110373963379637,
          3.985811782643784,
          4.164360465818997,
          4.161212363196792,
          0.38442806208053454,
          3.186942862129228,
          1.9639744238480896,
          1.4045836980629784,
          0.011514291875741392,
          1.670862601376692,
          0.15823851044618342,
          1.861132013031987,
          2.5914555808397695,
          3.6924441494237183,
          -1.2472258829918135,
          1.1730938493172607,
          1.1241608762728352,
          0.24539429943029709,
          0.005712822757585917,
          1.8004186458541773,
          2.012031772631638,
          0.5362861585269294,
          -0.2546733186597709,
          -0.011222867882196064,
          1.1226948351302282,
          1.428659496818599,
          -0.012229293797556828,
          2.062689259602613,
          1.0792816906915073,
          0.781676820888425,
          1.85855630231838,
          2.7958055197779146,
          0.8011304849049607,
          3.550589922063798,
          2.7788857647179737,
          1.840183377696864,
          1.2182520676962387,
          1.0473730866512416,
          0.7417384303577012,
          0.1701423116822292,
          -0.9786241360875484,
          1.2070246766271044,
          -0.3170566882258924,
          2.6131377127291056,
          5.578488987914355,
          11.363840309839441,
          6.168197053397676,
          3.339025902142223,
          4.212720188875779,
          3.6993519238225305,
          3.3451260114012253,
          3.9107292153127116,
          1.5327011995192135,
          2.5023764636004477,
          5.567994066549201,
          3.0242757760391465,
          2.6688474179400474,
          4.339540627834797,
          0.9469222273187436,
          1.5116459769275215,
          2.039561063476583,
          0.7448273343168704,
          0.7281723925031259,
          2.0522680565716254,
          1.958438552760829,
          2.7434128789546133,
          3.2123072670575827,
          2.228687187031975,
          2.1340012392847902,
          4.181119705200279,
          4.113672202880159,
          5.5437464181569425,
          7.303276300698706,
          8.431111687144423,
          8.39642687345313,
          3.8672557708455866,
          9.587665474664272,
          7.2363334824716645,
          9.184397466509143,
          12.06317809928696,
          10.566675821324901,
          9.926045288113603,
          15.402798608659438,
          18.134769510269326,
          21.705180769521593,
          20.018180133593706,
          13.281114988572005,
          14.481074154293783,
          8.994013027594997,
          12.763082108302688,
          14.239064015709792,
          12.435215287973453,
          15.973688876232808,
          15.156987681631612,
          15.50177667956385,
          15.00694463263402,
          18.875919320283113,
          23.403454093901512,
          20.738423301737868,
          12.70232004423718,
          16.485300821697457,
          15.492623080119124,
          21.517754364264405,
          16.262532028737333,
          3.5003778819718914
         ],
         "yaxis": "y2"
        }
       ],
       "layout": {
        "template": {
         "data": {
          "bar": [
           {
            "error_x": {
             "color": "#2a3f5f"
            },
            "error_y": {
             "color": "#2a3f5f"
            },
            "marker": {
             "line": {
              "color": "#E5ECF6",
              "width": 0.5
             }
            },
            "type": "bar"
           }
          ],
          "barpolar": [
           {
            "marker": {
             "line": {
              "color": "#E5ECF6",
              "width": 0.5
             }
            },
            "type": "barpolar"
           }
          ],
          "carpet": [
           {
            "aaxis": {
             "endlinecolor": "#2a3f5f",
             "gridcolor": "white",
             "linecolor": "white",
             "minorgridcolor": "white",
             "startlinecolor": "#2a3f5f"
            },
            "baxis": {
             "endlinecolor": "#2a3f5f",
             "gridcolor": "white",
             "linecolor": "white",
             "minorgridcolor": "white",
             "startlinecolor": "#2a3f5f"
            },
            "type": "carpet"
           }
          ],
          "choropleth": [
           {
            "colorbar": {
             "outlinewidth": 0,
             "ticks": ""
            },
            "type": "choropleth"
           }
          ],
          "contour": [
           {
            "colorbar": {
             "outlinewidth": 0,
             "ticks": ""
            },
            "colorscale": [
             [
              0.0,
              "#0d0887"
             ],
             [
              0.1111111111111111,
              "#46039f"
             ],
             [
              0.2222222222222222,
              "#7201a8"
             ],
             [
              0.3333333333333333,
              "#9c179e"
             ],
             [
              0.4444444444444444,
              "#bd3786"
             ],
             [
              0.5555555555555556,
              "#d8576b"
             ],
             [
              0.6666666666666666,
              "#ed7953"
             ],
             [
              0.7777777777777778,
              "#fb9f3a"
             ],
             [
              0.8888888888888888,
              "#fdca26"
             ],
             [
              1.0,
              "#f0f921"
             ]
            ],
            "type": "contour"
           }
          ],
          "contourcarpet": [
           {
            "colorbar": {
             "outlinewidth": 0,
             "ticks": ""
            },
            "type": "contourcarpet"
           }
          ],
          "heatmap": [
           {
            "colorbar": {
             "outlinewidth": 0,
             "ticks": ""
            },
            "colorscale": [
             [
              0.0,
              "#0d0887"
             ],
             [
              0.1111111111111111,
              "#46039f"
             ],
             [
              0.2222222222222222,
              "#7201a8"
             ],
             [
              0.3333333333333333,
              "#9c179e"
             ],
             [
              0.4444444444444444,
              "#bd3786"
             ],
             [
              0.5555555555555556,
              "#d8576b"
             ],
             [
              0.6666666666666666,
              "#ed7953"
             ],
             [
              0.7777777777777778,
              "#fb9f3a"
             ],
             [
              0.8888888888888888,
              "#fdca26"
             ],
             [
              1.0,
              "#f0f921"
             ]
            ],
            "type": "heatmap"
           }
          ],
          "heatmapgl": [
           {
            "colorbar": {
             "outlinewidth": 0,
             "ticks": ""
            },
            "colorscale": [
             [
              0.0,
              "#0d0887"
             ],
             [
              0.1111111111111111,
              "#46039f"
             ],
             [
              0.2222222222222222,
              "#7201a8"
             ],
             [
              0.3333333333333333,
              "#9c179e"
             ],
             [
              0.4444444444444444,
              "#bd3786"
             ],
             [
              0.5555555555555556,
              "#d8576b"
             ],
             [
              0.6666666666666666,
              "#ed7953"
             ],
             [
              0.7777777777777778,
              "#fb9f3a"
             ],
             [
              0.8888888888888888,
              "#fdca26"
             ],
             [
              1.0,
              "#f0f921"
             ]
            ],
            "type": "heatmapgl"
           }
          ],
          "histogram": [
           {
            "marker": {
             "colorbar": {
              "outlinewidth": 0,
              "ticks": ""
             }
            },
            "type": "histogram"
           }
          ],
          "histogram2d": [
           {
            "colorbar": {
             "outlinewidth": 0,
             "ticks": ""
            },
            "colorscale": [
             [
              0.0,
              "#0d0887"
             ],
             [
              0.1111111111111111,
              "#46039f"
             ],
             [
              0.2222222222222222,
              "#7201a8"
             ],
             [
              0.3333333333333333,
              "#9c179e"
             ],
             [
              0.4444444444444444,
              "#bd3786"
             ],
             [
              0.5555555555555556,
              "#d8576b"
             ],
             [
              0.6666666666666666,
              "#ed7953"
             ],
             [
              0.7777777777777778,
              "#fb9f3a"
             ],
             [
              0.8888888888888888,
              "#fdca26"
             ],
             [
              1.0,
              "#f0f921"
             ]
            ],
            "type": "histogram2d"
           }
          ],
          "histogram2dcontour": [
           {
            "colorbar": {
             "outlinewidth": 0,
             "ticks": ""
            },
            "colorscale": [
             [
              0.0,
              "#0d0887"
             ],
             [
              0.1111111111111111,
              "#46039f"
             ],
             [
              0.2222222222222222,
              "#7201a8"
             ],
             [
              0.3333333333333333,
              "#9c179e"
             ],
             [
              0.4444444444444444,
              "#bd3786"
             ],
             [
              0.5555555555555556,
              "#d8576b"
             ],
             [
              0.6666666666666666,
              "#ed7953"
             ],
             [
              0.7777777777777778,
              "#fb9f3a"
             ],
             [
              0.8888888888888888,
              "#fdca26"
             ],
             [
              1.0,
              "#f0f921"
             ]
            ],
            "type": "histogram2dcontour"
           }
          ],
          "mesh3d": [
           {
            "colorbar": {
             "outlinewidth": 0,
             "ticks": ""
            },
            "type": "mesh3d"
           }
          ],
          "parcoords": [
           {
            "line": {
             "colorbar": {
              "outlinewidth": 0,
              "ticks": ""
             }
            },
            "type": "parcoords"
           }
          ],
          "pie": [
           {
            "automargin": true,
            "type": "pie"
           }
          ],
          "scatter": [
           {
            "marker": {
             "colorbar": {
              "outlinewidth": 0,
              "ticks": ""
             }
            },
            "type": "scatter"
           }
          ],
          "scatter3d": [
           {
            "line": {
             "colorbar": {
              "outlinewidth": 0,
              "ticks": ""
             }
            },
            "marker": {
             "colorbar": {
              "outlinewidth": 0,
              "ticks": ""
             }
            },
            "type": "scatter3d"
           }
          ],
          "scattercarpet": [
           {
            "marker": {
             "colorbar": {
              "outlinewidth": 0,
              "ticks": ""
             }
            },
            "type": "scattercarpet"
           }
          ],
          "scattergeo": [
           {
            "marker": {
             "colorbar": {
              "outlinewidth": 0,
              "ticks": ""
             }
            },
            "type": "scattergeo"
           }
          ],
          "scattergl": [
           {
            "marker": {
             "colorbar": {
              "outlinewidth": 0,
              "ticks": ""
             }
            },
            "type": "scattergl"
           }
          ],
          "scattermapbox": [
           {
            "marker": {
             "colorbar": {
              "outlinewidth": 0,
              "ticks": ""
             }
            },
            "type": "scattermapbox"
           }
          ],
          "scatterpolar": [
           {
            "marker": {
             "colorbar": {
              "outlinewidth": 0,
              "ticks": ""
             }
            },
            "type": "scatterpolar"
           }
          ],
          "scatterpolargl": [
           {
            "marker": {
             "colorbar": {
              "outlinewidth": 0,
              "ticks": ""
             }
            },
            "type": "scatterpolargl"
           }
          ],
          "scatterternary": [
           {
            "marker": {
             "colorbar": {
              "outlinewidth": 0,
              "ticks": ""
             }
            },
            "type": "scatterternary"
           }
          ],
          "surface": [
           {
            "colorbar": {
             "outlinewidth": 0,
             "ticks": ""
            },
            "colorscale": [
             [
              0.0,
              "#0d0887"
             ],
             [
              0.1111111111111111,
              "#46039f"
             ],
             [
              0.2222222222222222,
              "#7201a8"
             ],
             [
              0.3333333333333333,
              "#9c179e"
             ],
             [
              0.4444444444444444,
              "#bd3786"
             ],
             [
              0.5555555555555556,
              "#d8576b"
             ],
             [
              0.6666666666666666,
              "#ed7953"
             ],
             [
              0.7777777777777778,
              "#fb9f3a"
             ],
             [
              0.8888888888888888,
              "#fdca26"
             ],
             [
              1.0,
              "#f0f921"
             ]
            ],
            "type": "surface"
           }
          ],
          "table": [
           {
            "cells": {
             "fill": {
              "color": "#EBF0F8"
             },
             "line": {
              "color": "white"
             }
            },
            "header": {
             "fill": {
              "color": "#C8D4E3"
             },
             "line": {
              "color": "white"
             }
            },
            "type": "table"
           }
          ]
         },
         "layout": {
          "annotationdefaults": {
           "arrowcolor": "#2a3f5f",
           "arrowhead": 0,
           "arrowwidth": 1
          },
          "coloraxis": {
           "colorbar": {
            "outlinewidth": 0,
            "ticks": ""
           }
          },
          "colorscale": {
           "diverging": [
            [
             0,
             "#8e0152"
            ],
            [
             0.1,
             "#c51b7d"
            ],
            [
             0.2,
             "#de77ae"
            ],
            [
             0.3,
             "#f1b6da"
            ],
            [
             0.4,
             "#fde0ef"
            ],
            [
             0.5,
             "#f7f7f7"
            ],
            [
             0.6,
             "#e6f5d0"
            ],
            [
             0.7,
             "#b8e186"
            ],
            [
             0.8,
             "#7fbc41"
            ],
            [
             0.9,
             "#4d9221"
            ],
            [
             1,
             "#276419"
            ]
           ],
           "sequential": [
            [
             0.0,
             "#0d0887"
            ],
            [
             0.1111111111111111,
             "#46039f"
            ],
            [
             0.2222222222222222,
             "#7201a8"
            ],
            [
             0.3333333333333333,
             "#9c179e"
            ],
            [
             0.4444444444444444,
             "#bd3786"
            ],
            [
             0.5555555555555556,
             "#d8576b"
            ],
            [
             0.6666666666666666,
             "#ed7953"
            ],
            [
             0.7777777777777778,
             "#fb9f3a"
            ],
            [
             0.8888888888888888,
             "#fdca26"
            ],
            [
             1.0,
             "#f0f921"
            ]
           ],
           "sequentialminus": [
            [
             0.0,
             "#0d0887"
            ],
            [
             0.1111111111111111,
             "#46039f"
            ],
            [
             0.2222222222222222,
             "#7201a8"
            ],
            [
             0.3333333333333333,
             "#9c179e"
            ],
            [
             0.4444444444444444,
             "#bd3786"
            ],
            [
             0.5555555555555556,
             "#d8576b"
            ],
            [
             0.6666666666666666,
             "#ed7953"
            ],
            [
             0.7777777777777778,
             "#fb9f3a"
            ],
            [
             0.8888888888888888,
             "#fdca26"
            ],
            [
             1.0,
             "#f0f921"
            ]
           ]
          },
          "colorway": [
           "#636efa",
           "#EF553B",
           "#00cc96",
           "#ab63fa",
           "#FFA15A",
           "#19d3f3",
           "#FF6692",
           "#B6E880",
           "#FF97FF",
           "#FECB52"
          ],
          "font": {
           "color": "#2a3f5f"
          },
          "geo": {
           "bgcolor": "white",
           "lakecolor": "white",
           "landcolor": "#E5ECF6",
           "showlakes": true,
           "showland": true,
           "subunitcolor": "white"
          },
          "hoverlabel": {
           "align": "left"
          },
          "hovermode": "closest",
          "mapbox": {
           "style": "light"
          },
          "paper_bgcolor": "white",
          "plot_bgcolor": "#E5ECF6",
          "polar": {
           "angularaxis": {
            "gridcolor": "white",
            "linecolor": "white",
            "ticks": ""
           },
           "bgcolor": "#E5ECF6",
           "radialaxis": {
            "gridcolor": "white",
            "linecolor": "white",
            "ticks": ""
           }
          },
          "scene": {
           "xaxis": {
            "backgroundcolor": "#E5ECF6",
            "gridcolor": "white",
            "gridwidth": 2,
            "linecolor": "white",
            "showbackground": true,
            "ticks": "",
            "zerolinecolor": "white"
           },
           "yaxis": {
            "backgroundcolor": "#E5ECF6",
            "gridcolor": "white",
            "gridwidth": 2,
            "linecolor": "white",
            "showbackground": true,
            "ticks": "",
            "zerolinecolor": "white"
           },
           "zaxis": {
            "backgroundcolor": "#E5ECF6",
            "gridcolor": "white",
            "gridwidth": 2,
            "linecolor": "white",
            "showbackground": true,
            "ticks": "",
            "zerolinecolor": "white"
           }
          },
          "shapedefaults": {
           "line": {
            "color": "#2a3f5f"
           }
          },
          "ternary": {
           "aaxis": {
            "gridcolor": "white",
            "linecolor": "white",
            "ticks": ""
           },
           "baxis": {
            "gridcolor": "white",
            "linecolor": "white",
            "ticks": ""
           },
           "bgcolor": "#E5ECF6",
           "caxis": {
            "gridcolor": "white",
            "linecolor": "white",
            "ticks": ""
           }
          },
          "title": {
           "x": 0.05
          },
          "xaxis": {
           "automargin": true,
           "gridcolor": "white",
           "linecolor": "white",
           "ticks": "",
           "title": {
            "standoff": 15
           },
           "zerolinecolor": "white",
           "zerolinewidth": 2
          },
          "yaxis": {
           "automargin": true,
           "gridcolor": "white",
           "linecolor": "white",
           "ticks": "",
           "title": {
            "standoff": 15
           },
           "zerolinecolor": "white",
           "zerolinewidth": 2
          }
         }
        },
        "title": {
         "text": "BTC vs LR Sentiment Model - Weekly"
        },
        "xaxis": {
         "anchor": "y",
         "domain": [
          0.0,
          0.94
         ],
         "title": {
          "text": "Date"
         }
        },
        "yaxis": {
         "anchor": "x",
         "domain": [
          0.0,
          1.0
         ],
         "title": {
          "text": "<b>Sentiment Polarity </b>"
         }
        },
        "yaxis2": {
         "anchor": "x",
         "overlaying": "y",
         "side": "right",
         "title": {
          "text": "<b>BTC Price</b>"
         }
        }
       }
      },
      "text/html": "<div>                            <div id=\"1d067774-8f92-40f7-be2b-38309f4869d0\" class=\"plotly-graph-div\" style=\"height:525px; width:100%;\"></div>            <script type=\"text/javascript\">                require([\"plotly\"], function(Plotly) {                    window.PLOTLYENV=window.PLOTLYENV || {};                                    if (document.getElementById(\"1d067774-8f92-40f7-be2b-38309f4869d0\")) {                    Plotly.newPlot(                        \"1d067774-8f92-40f7-be2b-38309f4869d0\",                        [{\"name\": \"LR-Model\", \"type\": \"scatter\", \"x\": [\"2019-01-06T00:00:00\", \"2019-01-13T00:00:00\", \"2019-01-20T00:00:00\", \"2019-01-27T00:00:00\", \"2019-02-03T00:00:00\", \"2019-02-10T00:00:00\", \"2019-02-17T00:00:00\", \"2019-02-24T00:00:00\", \"2019-03-03T00:00:00\", \"2019-03-10T00:00:00\", \"2019-03-17T00:00:00\", \"2019-03-24T00:00:00\", \"2019-03-31T00:00:00\", \"2019-04-07T00:00:00\", \"2019-04-14T00:00:00\", \"2019-04-21T00:00:00\", \"2019-04-28T00:00:00\", \"2019-05-05T00:00:00\", \"2019-05-12T00:00:00\", \"2019-05-19T00:00:00\", \"2019-05-26T00:00:00\", \"2019-06-02T00:00:00\", \"2019-06-09T00:00:00\", \"2019-06-16T00:00:00\", \"2019-06-23T00:00:00\", \"2019-06-30T00:00:00\", \"2019-07-07T00:00:00\", \"2019-07-14T00:00:00\", \"2019-07-21T00:00:00\", \"2019-07-28T00:00:00\", \"2019-08-04T00:00:00\", \"2019-08-11T00:00:00\", \"2019-08-18T00:00:00\", \"2019-08-25T00:00:00\", \"2019-09-01T00:00:00\", \"2019-09-08T00:00:00\", \"2019-09-15T00:00:00\", \"2019-09-22T00:00:00\", \"2019-09-29T00:00:00\", \"2019-10-06T00:00:00\", \"2019-10-13T00:00:00\", \"2019-10-20T00:00:00\", \"2019-10-27T00:00:00\", \"2019-11-03T00:00:00\", \"2019-11-10T00:00:00\", \"2019-11-17T00:00:00\", \"2019-11-24T00:00:00\", \"2019-12-01T00:00:00\", \"2019-12-08T00:00:00\", \"2019-12-15T00:00:00\", \"2019-12-22T00:00:00\", \"2019-12-29T00:00:00\", \"2020-01-05T00:00:00\", \"2020-01-12T00:00:00\", \"2020-01-19T00:00:00\", \"2020-01-26T00:00:00\", \"2020-02-02T00:00:00\", \"2020-02-09T00:00:00\", \"2020-02-16T00:00:00\", \"2020-02-23T00:00:00\", \"2020-03-01T00:00:00\", \"2020-03-08T00:00:00\", \"2020-03-15T00:00:00\", \"2020-03-22T00:00:00\", \"2020-03-29T00:00:00\", \"2020-04-05T00:00:00\", \"2020-04-12T00:00:00\", \"2020-04-19T00:00:00\", \"2020-04-26T00:00:00\", \"2020-05-03T00:00:00\", \"2020-05-10T00:00:00\", \"2020-05-17T00:00:00\", \"2020-05-24T00:00:00\", \"2020-05-31T00:00:00\", \"2020-06-07T00:00:00\", \"2020-06-14T00:00:00\", \"2020-06-21T00:00:00\", \"2020-06-28T00:00:00\", \"2020-07-05T00:00:00\", \"2020-07-12T00:00:00\", \"2020-07-19T00:00:00\", \"2020-07-26T00:00:00\", \"2020-08-02T00:00:00\", \"2020-08-09T00:00:00\", \"2020-08-16T00:00:00\", \"2020-08-23T00:00:00\", \"2020-08-30T00:00:00\", \"2020-09-06T00:00:00\", \"2020-09-13T00:00:00\", \"2020-09-20T00:00:00\", \"2020-09-27T00:00:00\", \"2020-10-04T00:00:00\", \"2020-10-11T00:00:00\", \"2020-10-18T00:00:00\", \"2020-10-25T00:00:00\", \"2020-11-01T00:00:00\", \"2020-11-08T00:00:00\", \"2020-11-15T00:00:00\", \"2020-11-22T00:00:00\", \"2020-11-29T00:00:00\", \"2020-12-06T00:00:00\", \"2020-12-13T00:00:00\", \"2020-12-20T00:00:00\", \"2020-12-27T00:00:00\", \"2021-01-03T00:00:00\", \"2021-01-10T00:00:00\", \"2021-01-17T00:00:00\", \"2021-01-24T00:00:00\", \"2021-01-31T00:00:00\", \"2021-02-07T00:00:00\", \"2021-02-14T00:00:00\", \"2021-02-21T00:00:00\", \"2021-02-28T00:00:00\", \"2021-03-07T00:00:00\", \"2021-03-14T00:00:00\", \"2021-03-21T00:00:00\", \"2021-03-28T00:00:00\", \"2021-04-04T00:00:00\", \"2021-04-11T00:00:00\", \"2021-04-18T00:00:00\", \"2021-04-25T00:00:00\", \"2021-05-02T00:00:00\", \"2021-05-09T00:00:00\", \"2021-05-16T00:00:00\", \"2021-05-23T00:00:00\", \"2021-05-30T00:00:00\", \"2021-06-06T00:00:00\", \"2021-06-13T00:00:00\", \"2021-06-20T00:00:00\", \"2021-06-27T00:00:00\", \"2021-07-04T00:00:00\"], \"xaxis\": \"x\", \"y\": [-60.95355403262108, 35.19754004233089, -2.8213448834798553, 46.34771382271342, -49.94748677450452, -74.00022578696215, -9.053094311408815, 75.8231911252707, 32.466894333535194, 57.51116656753442, 9.414913357489146, -11.403790383227514, 65.63171586805046, 103.6483329534784, 34.629475810280525, -12.041453320416032, -65.88582563102754, 26.000798790431226, -60.93486301978407, 119.2452325105202, 27.82232775971234, 100.36872637137914, 25.611374798597414, 19.25832115329176, 27.35593810832461, -33.61271239286963, -11.996016373837435, -18.644135791932285, 109.93137766620542, -56.98683443700194, -3.745882761829252, -5.373336153534425, 51.09503726060247, 12.699098364336379, -3.1648231031379757, 48.362955515947476, 18.612127009669045, 64.61529239191022, -44.51374197357334, 3.3443967758597952, -0.051753289141374115, 10.129594999867166, -31.896788901270565, 13.994569478830735, -37.91533840020571, -54.04843924200518, -5.698474067786445, -11.270339970545866, 28.114261041474098, -16.435810545075555, -27.13359856344693, -12.237186948978197, -15.446209006724597, 69.06997759179283, 16.586909024967966, -10.824842028395881, 56.660135565119596, 46.364367521451626, -74.31853900732574, 38.16329285276111, 9.413182776080708, 32.38779572646814, -155.9838327045903, -85.40357844278289, -78.91905024154298, -5.938998249724397, -10.568972463963156, 12.132941361691781, -14.080967338239967, 21.784313991607302, -15.740939095420044, 60.68168330643419, -15.82478659662766, 25.888234429973274, 39.868354042296, -9.679871578682734, 29.146754156138922, -14.705987788404205, 13.158478778773771, 34.40578111033608, -4.801962281132944, 45.78073432628564, 77.76203055727704, -31.57562864199616, 12.11153718590819, -18.8433537221518, -23.942791572614162, 1.4386175335014353, -1.0550871801775743, -19.143821970273837, -28.989360170130162, 26.684300970393593, 29.145007707608556, 19.091316915657895, 33.9855687243382, -19.856430648817526, 91.08488764565739, 104.35793564599501, 84.12838016105553, 90.77093879815307, 28.627906747025484, 9.491395055626523, 141.05752901255167, 13.048689155763984, 96.36747279184239, 392.82724666200625, 84.00413451232393, 173.67131745059513, 178.27689756294012, 379.904681692951, 710.6505334145511, 707.866520585087, 368.62541542636916, 416.6581143419715, 296.81402888843235, -47.02554862153257, 367.0144183788062, 272.34207062871224, 293.4201346937027, 573.8603009341874, 525.3368194982864, 647.3931361674753, 235.28709495886375, 502.6943051802943, -438.4688957580084, 221.4273548749428, 356.68920975429387, 197.37142952293325, 408.0165063903378, 109.05335242201517, 127.1403530333265], \"yaxis\": \"y\"}, {\"name\": \"Bit Coin Avg\", \"type\": \"scatter\", \"x\": [\"2019-01-06T00:00:00\", \"2019-01-13T00:00:00\", \"2019-01-20T00:00:00\", \"2019-01-27T00:00:00\", \"2019-02-03T00:00:00\", \"2019-02-10T00:00:00\", \"2019-02-17T00:00:00\", \"2019-02-24T00:00:00\", \"2019-03-03T00:00:00\", \"2019-03-10T00:00:00\", \"2019-03-17T00:00:00\", \"2019-03-24T00:00:00\", \"2019-03-31T00:00:00\", \"2019-04-07T00:00:00\", \"2019-04-14T00:00:00\", \"2019-04-21T00:00:00\", \"2019-04-28T00:00:00\", \"2019-05-05T00:00:00\", \"2019-05-12T00:00:00\", \"2019-05-19T00:00:00\", \"2019-05-26T00:00:00\", \"2019-06-02T00:00:00\", \"2019-06-09T00:00:00\", \"2019-06-16T00:00:00\", \"2019-06-23T00:00:00\", \"2019-06-30T00:00:00\", \"2019-07-07T00:00:00\", \"2019-07-14T00:00:00\", \"2019-07-21T00:00:00\", \"2019-07-28T00:00:00\", \"2019-08-04T00:00:00\", \"2019-08-11T00:00:00\", \"2019-08-18T00:00:00\", \"2019-08-25T00:00:00\", \"2019-09-01T00:00:00\", \"2019-09-08T00:00:00\", \"2019-09-15T00:00:00\", \"2019-09-22T00:00:00\", \"2019-09-29T00:00:00\", \"2019-10-06T00:00:00\", \"2019-10-13T00:00:00\", \"2019-10-20T00:00:00\", \"2019-10-27T00:00:00\", \"2019-11-03T00:00:00\", \"2019-11-10T00:00:00\", \"2019-11-17T00:00:00\", \"2019-11-24T00:00:00\", \"2019-12-01T00:00:00\", \"2019-12-08T00:00:00\", \"2019-12-15T00:00:00\", \"2019-12-22T00:00:00\", \"2019-12-29T00:00:00\", \"2020-01-05T00:00:00\", \"2020-01-12T00:00:00\", \"2020-01-19T00:00:00\", \"2020-01-26T00:00:00\", \"2020-02-02T00:00:00\", \"2020-02-09T00:00:00\", \"2020-02-16T00:00:00\", \"2020-02-23T00:00:00\", \"2020-03-01T00:00:00\", \"2020-03-08T00:00:00\", \"2020-03-15T00:00:00\", \"2020-03-22T00:00:00\", \"2020-03-29T00:00:00\", \"2020-04-05T00:00:00\", \"2020-04-12T00:00:00\", \"2020-04-19T00:00:00\", \"2020-04-26T00:00:00\", \"2020-05-03T00:00:00\", \"2020-05-10T00:00:00\", \"2020-05-17T00:00:00\", \"2020-05-24T00:00:00\", \"2020-05-31T00:00:00\", \"2020-06-07T00:00:00\", \"2020-06-14T00:00:00\", \"2020-06-21T00:00:00\", \"2020-06-28T00:00:00\", \"2020-07-05T00:00:00\", \"2020-07-12T00:00:00\", \"2020-07-19T00:00:00\", \"2020-07-26T00:00:00\", \"2020-08-02T00:00:00\", \"2020-08-09T00:00:00\", \"2020-08-16T00:00:00\", \"2020-08-23T00:00:00\", \"2020-08-30T00:00:00\", \"2020-09-06T00:00:00\", \"2020-09-13T00:00:00\", \"2020-09-20T00:00:00\", \"2020-09-27T00:00:00\", \"2020-10-04T00:00:00\", \"2020-10-11T00:00:00\", \"2020-10-18T00:00:00\", \"2020-10-25T00:00:00\", \"2020-11-01T00:00:00\", \"2020-11-08T00:00:00\", \"2020-11-15T00:00:00\", \"2020-11-22T00:00:00\", \"2020-11-29T00:00:00\", \"2020-12-06T00:00:00\", \"2020-12-13T00:00:00\", \"2020-12-20T00:00:00\", \"2020-12-27T00:00:00\", \"2021-01-03T00:00:00\", \"2021-01-10T00:00:00\", \"2021-01-17T00:00:00\", \"2021-01-24T00:00:00\", \"2021-01-31T00:00:00\", \"2021-02-07T00:00:00\", \"2021-02-14T00:00:00\", \"2021-02-21T00:00:00\", \"2021-02-28T00:00:00\", \"2021-03-07T00:00:00\", \"2021-03-14T00:00:00\", \"2021-03-21T00:00:00\", \"2021-03-28T00:00:00\", \"2021-04-04T00:00:00\", \"2021-04-11T00:00:00\", \"2021-04-18T00:00:00\", \"2021-04-25T00:00:00\", \"2021-05-02T00:00:00\", \"2021-05-09T00:00:00\", \"2021-05-16T00:00:00\", \"2021-05-23T00:00:00\", \"2021-05-30T00:00:00\", \"2021-06-06T00:00:00\", \"2021-06-13T00:00:00\", \"2021-06-20T00:00:00\", \"2021-06-27T00:00:00\", \"2021-07-04T00:00:00\"], \"xaxis\": \"x\", \"y\": [2.33050585778622, 1.695154895002318, 1.4630053989101557, 2.3172616233964622, 1.1531481282693696, 0.6262862331467278, 0.4976647587626931, 0.8792864423565473, -0.551878822768486, 4.631742750419276, 0.61953508074701, 1.6294554746711531, 1.0543002516509792, 1.7694063235026847, 3.792194840179593, 2.0640774107557824, 0.6392990567385957, 3.5438679377045665, 4.287551203597722, 6.888927183584255, 3.526626088778791, 5.322804759091181, 4.059568240300226, 4.965910781962773, 6.9767635047588925, 7.430072775470512, 3.9110373963379637, 3.985811782643784, 4.164360465818997, 4.161212363196792, 0.38442806208053454, 3.186942862129228, 1.9639744238480896, 1.4045836980629784, 0.011514291875741392, 1.670862601376692, 0.15823851044618342, 1.861132013031987, 2.5914555808397695, 3.6924441494237183, -1.2472258829918135, 1.1730938493172607, 1.1241608762728352, 0.24539429943029709, 0.005712822757585917, 1.8004186458541773, 2.012031772631638, 0.5362861585269294, -0.2546733186597709, -0.011222867882196064, 1.1226948351302282, 1.428659496818599, -0.012229293797556828, 2.062689259602613, 1.0792816906915073, 0.781676820888425, 1.85855630231838, 2.7958055197779146, 0.8011304849049607, 3.550589922063798, 2.7788857647179737, 1.840183377696864, 1.2182520676962387, 1.0473730866512416, 0.7417384303577012, 0.1701423116822292, -0.9786241360875484, 1.2070246766271044, -0.3170566882258924, 2.6131377127291056, 5.578488987914355, 11.363840309839441, 6.168197053397676, 3.339025902142223, 4.212720188875779, 3.6993519238225305, 3.3451260114012253, 3.9107292153127116, 1.5327011995192135, 2.5023764636004477, 5.567994066549201, 3.0242757760391465, 2.6688474179400474, 4.339540627834797, 0.9469222273187436, 1.5116459769275215, 2.039561063476583, 0.7448273343168704, 0.7281723925031259, 2.0522680565716254, 1.958438552760829, 2.7434128789546133, 3.2123072670575827, 2.228687187031975, 2.1340012392847902, 4.181119705200279, 4.113672202880159, 5.5437464181569425, 7.303276300698706, 8.431111687144423, 8.39642687345313, 3.8672557708455866, 9.587665474664272, 7.2363334824716645, 9.184397466509143, 12.06317809928696, 10.566675821324901, 9.926045288113603, 15.402798608659438, 18.134769510269326, 21.705180769521593, 20.018180133593706, 13.281114988572005, 14.481074154293783, 8.994013027594997, 12.763082108302688, 14.239064015709792, 12.435215287973453, 15.973688876232808, 15.156987681631612, 15.50177667956385, 15.00694463263402, 18.875919320283113, 23.403454093901512, 20.738423301737868, 12.70232004423718, 16.485300821697457, 15.492623080119124, 21.517754364264405, 16.262532028737333, 3.5003778819718914], \"yaxis\": \"y2\"}],                        {\"template\": {\"data\": {\"bar\": [{\"error_x\": {\"color\": \"#2a3f5f\"}, \"error_y\": {\"color\": \"#2a3f5f\"}, \"marker\": {\"line\": {\"color\": \"#E5ECF6\", \"width\": 0.5}}, \"type\": \"bar\"}], \"barpolar\": [{\"marker\": {\"line\": {\"color\": \"#E5ECF6\", \"width\": 0.5}}, \"type\": \"barpolar\"}], \"carpet\": [{\"aaxis\": {\"endlinecolor\": \"#2a3f5f\", \"gridcolor\": \"white\", \"linecolor\": \"white\", \"minorgridcolor\": \"white\", \"startlinecolor\": \"#2a3f5f\"}, \"baxis\": {\"endlinecolor\": \"#2a3f5f\", \"gridcolor\": \"white\", \"linecolor\": \"white\", \"minorgridcolor\": \"white\", \"startlinecolor\": \"#2a3f5f\"}, \"type\": \"carpet\"}], \"choropleth\": [{\"colorbar\": {\"outlinewidth\": 0, \"ticks\": \"\"}, \"type\": \"choropleth\"}], \"contour\": [{\"colorbar\": {\"outlinewidth\": 0, \"ticks\": \"\"}, \"colorscale\": [[0.0, \"#0d0887\"], [0.1111111111111111, \"#46039f\"], [0.2222222222222222, \"#7201a8\"], [0.3333333333333333, \"#9c179e\"], [0.4444444444444444, \"#bd3786\"], [0.5555555555555556, \"#d8576b\"], [0.6666666666666666, \"#ed7953\"], [0.7777777777777778, \"#fb9f3a\"], [0.8888888888888888, \"#fdca26\"], [1.0, \"#f0f921\"]], \"type\": \"contour\"}], \"contourcarpet\": [{\"colorbar\": {\"outlinewidth\": 0, \"ticks\": \"\"}, \"type\": \"contourcarpet\"}], \"heatmap\": [{\"colorbar\": {\"outlinewidth\": 0, \"ticks\": \"\"}, \"colorscale\": [[0.0, \"#0d0887\"], [0.1111111111111111, \"#46039f\"], [0.2222222222222222, \"#7201a8\"], [0.3333333333333333, \"#9c179e\"], [0.4444444444444444, \"#bd3786\"], [0.5555555555555556, \"#d8576b\"], [0.6666666666666666, \"#ed7953\"], [0.7777777777777778, \"#fb9f3a\"], [0.8888888888888888, \"#fdca26\"], [1.0, \"#f0f921\"]], \"type\": \"heatmap\"}], \"heatmapgl\": [{\"colorbar\": {\"outlinewidth\": 0, \"ticks\": \"\"}, \"colorscale\": [[0.0, \"#0d0887\"], [0.1111111111111111, \"#46039f\"], [0.2222222222222222, \"#7201a8\"], [0.3333333333333333, \"#9c179e\"], [0.4444444444444444, \"#bd3786\"], [0.5555555555555556, \"#d8576b\"], [0.6666666666666666, \"#ed7953\"], [0.7777777777777778, \"#fb9f3a\"], [0.8888888888888888, \"#fdca26\"], [1.0, \"#f0f921\"]], \"type\": \"heatmapgl\"}], \"histogram\": [{\"marker\": {\"colorbar\": {\"outlinewidth\": 0, \"ticks\": \"\"}}, \"type\": \"histogram\"}], \"histogram2d\": [{\"colorbar\": {\"outlinewidth\": 0, \"ticks\": \"\"}, \"colorscale\": [[0.0, \"#0d0887\"], [0.1111111111111111, \"#46039f\"], [0.2222222222222222, \"#7201a8\"], [0.3333333333333333, \"#9c179e\"], [0.4444444444444444, \"#bd3786\"], [0.5555555555555556, \"#d8576b\"], [0.6666666666666666, \"#ed7953\"], [0.7777777777777778, \"#fb9f3a\"], [0.8888888888888888, \"#fdca26\"], [1.0, \"#f0f921\"]], \"type\": \"histogram2d\"}], \"histogram2dcontour\": [{\"colorbar\": {\"outlinewidth\": 0, \"ticks\": \"\"}, \"colorscale\": [[0.0, \"#0d0887\"], [0.1111111111111111, \"#46039f\"], [0.2222222222222222, \"#7201a8\"], [0.3333333333333333, \"#9c179e\"], [0.4444444444444444, \"#bd3786\"], [0.5555555555555556, \"#d8576b\"], [0.6666666666666666, \"#ed7953\"], [0.7777777777777778, \"#fb9f3a\"], [0.8888888888888888, \"#fdca26\"], [1.0, \"#f0f921\"]], \"type\": \"histogram2dcontour\"}], \"mesh3d\": [{\"colorbar\": {\"outlinewidth\": 0, \"ticks\": \"\"}, \"type\": \"mesh3d\"}], \"parcoords\": [{\"line\": {\"colorbar\": {\"outlinewidth\": 0, \"ticks\": \"\"}}, \"type\": \"parcoords\"}], \"pie\": [{\"automargin\": true, \"type\": \"pie\"}], \"scatter\": [{\"marker\": {\"colorbar\": {\"outlinewidth\": 0, \"ticks\": \"\"}}, \"type\": \"scatter\"}], \"scatter3d\": [{\"line\": {\"colorbar\": {\"outlinewidth\": 0, \"ticks\": \"\"}}, \"marker\": {\"colorbar\": {\"outlinewidth\": 0, \"ticks\": \"\"}}, \"type\": \"scatter3d\"}], \"scattercarpet\": [{\"marker\": {\"colorbar\": {\"outlinewidth\": 0, \"ticks\": \"\"}}, \"type\": \"scattercarpet\"}], \"scattergeo\": [{\"marker\": {\"colorbar\": {\"outlinewidth\": 0, \"ticks\": \"\"}}, \"type\": \"scattergeo\"}], \"scattergl\": [{\"marker\": {\"colorbar\": {\"outlinewidth\": 0, \"ticks\": \"\"}}, \"type\": \"scattergl\"}], \"scattermapbox\": [{\"marker\": {\"colorbar\": {\"outlinewidth\": 0, \"ticks\": \"\"}}, \"type\": \"scattermapbox\"}], \"scatterpolar\": [{\"marker\": {\"colorbar\": {\"outlinewidth\": 0, \"ticks\": \"\"}}, \"type\": \"scatterpolar\"}], \"scatterpolargl\": [{\"marker\": {\"colorbar\": {\"outlinewidth\": 0, \"ticks\": \"\"}}, \"type\": \"scatterpolargl\"}], \"scatterternary\": [{\"marker\": {\"colorbar\": {\"outlinewidth\": 0, \"ticks\": \"\"}}, \"type\": \"scatterternary\"}], \"surface\": [{\"colorbar\": {\"outlinewidth\": 0, \"ticks\": \"\"}, \"colorscale\": [[0.0, \"#0d0887\"], [0.1111111111111111, \"#46039f\"], [0.2222222222222222, \"#7201a8\"], [0.3333333333333333, \"#9c179e\"], [0.4444444444444444, \"#bd3786\"], [0.5555555555555556, \"#d8576b\"], [0.6666666666666666, \"#ed7953\"], [0.7777777777777778, \"#fb9f3a\"], [0.8888888888888888, \"#fdca26\"], [1.0, \"#f0f921\"]], \"type\": \"surface\"}], \"table\": [{\"cells\": {\"fill\": {\"color\": \"#EBF0F8\"}, \"line\": {\"color\": \"white\"}}, \"header\": {\"fill\": {\"color\": \"#C8D4E3\"}, \"line\": {\"color\": \"white\"}}, \"type\": \"table\"}]}, \"layout\": {\"annotationdefaults\": {\"arrowcolor\": \"#2a3f5f\", \"arrowhead\": 0, \"arrowwidth\": 1}, \"coloraxis\": {\"colorbar\": {\"outlinewidth\": 0, \"ticks\": \"\"}}, \"colorscale\": {\"diverging\": [[0, \"#8e0152\"], [0.1, \"#c51b7d\"], [0.2, \"#de77ae\"], [0.3, \"#f1b6da\"], [0.4, \"#fde0ef\"], [0.5, \"#f7f7f7\"], [0.6, \"#e6f5d0\"], [0.7, \"#b8e186\"], [0.8, \"#7fbc41\"], [0.9, \"#4d9221\"], [1, \"#276419\"]], \"sequential\": [[0.0, \"#0d0887\"], [0.1111111111111111, \"#46039f\"], [0.2222222222222222, \"#7201a8\"], [0.3333333333333333, \"#9c179e\"], [0.4444444444444444, \"#bd3786\"], [0.5555555555555556, \"#d8576b\"], [0.6666666666666666, \"#ed7953\"], [0.7777777777777778, \"#fb9f3a\"], [0.8888888888888888, \"#fdca26\"], [1.0, \"#f0f921\"]], \"sequentialminus\": [[0.0, \"#0d0887\"], [0.1111111111111111, \"#46039f\"], [0.2222222222222222, \"#7201a8\"], [0.3333333333333333, \"#9c179e\"], [0.4444444444444444, \"#bd3786\"], [0.5555555555555556, \"#d8576b\"], [0.6666666666666666, \"#ed7953\"], [0.7777777777777778, \"#fb9f3a\"], [0.8888888888888888, \"#fdca26\"], [1.0, \"#f0f921\"]]}, \"colorway\": [\"#636efa\", \"#EF553B\", \"#00cc96\", \"#ab63fa\", \"#FFA15A\", \"#19d3f3\", \"#FF6692\", \"#B6E880\", \"#FF97FF\", \"#FECB52\"], \"font\": {\"color\": \"#2a3f5f\"}, \"geo\": {\"bgcolor\": \"white\", \"lakecolor\": \"white\", \"landcolor\": \"#E5ECF6\", \"showlakes\": true, \"showland\": true, \"subunitcolor\": \"white\"}, \"hoverlabel\": {\"align\": \"left\"}, \"hovermode\": \"closest\", \"mapbox\": {\"style\": \"light\"}, \"paper_bgcolor\": \"white\", \"plot_bgcolor\": \"#E5ECF6\", \"polar\": {\"angularaxis\": {\"gridcolor\": \"white\", \"linecolor\": \"white\", \"ticks\": \"\"}, \"bgcolor\": \"#E5ECF6\", \"radialaxis\": {\"gridcolor\": \"white\", \"linecolor\": \"white\", \"ticks\": \"\"}}, \"scene\": {\"xaxis\": {\"backgroundcolor\": \"#E5ECF6\", \"gridcolor\": \"white\", \"gridwidth\": 2, \"linecolor\": \"white\", \"showbackground\": true, \"ticks\": \"\", \"zerolinecolor\": \"white\"}, \"yaxis\": {\"backgroundcolor\": \"#E5ECF6\", \"gridcolor\": \"white\", \"gridwidth\": 2, \"linecolor\": \"white\", \"showbackground\": true, \"ticks\": \"\", \"zerolinecolor\": \"white\"}, \"zaxis\": {\"backgroundcolor\": \"#E5ECF6\", \"gridcolor\": \"white\", \"gridwidth\": 2, \"linecolor\": \"white\", \"showbackground\": true, \"ticks\": \"\", \"zerolinecolor\": \"white\"}}, \"shapedefaults\": {\"line\": {\"color\": \"#2a3f5f\"}}, \"ternary\": {\"aaxis\": {\"gridcolor\": \"white\", \"linecolor\": \"white\", \"ticks\": \"\"}, \"baxis\": {\"gridcolor\": \"white\", \"linecolor\": \"white\", \"ticks\": \"\"}, \"bgcolor\": \"#E5ECF6\", \"caxis\": {\"gridcolor\": \"white\", \"linecolor\": \"white\", \"ticks\": \"\"}}, \"title\": {\"x\": 0.05}, \"xaxis\": {\"automargin\": true, \"gridcolor\": \"white\", \"linecolor\": \"white\", \"ticks\": \"\", \"title\": {\"standoff\": 15}, \"zerolinecolor\": \"white\", \"zerolinewidth\": 2}, \"yaxis\": {\"automargin\": true, \"gridcolor\": \"white\", \"linecolor\": \"white\", \"ticks\": \"\", \"title\": {\"standoff\": 15}, \"zerolinecolor\": \"white\", \"zerolinewidth\": 2}}}, \"title\": {\"text\": \"BTC vs LR Sentiment Model - Weekly\"}, \"xaxis\": {\"anchor\": \"y\", \"domain\": [0.0, 0.94], \"title\": {\"text\": \"Date\"}}, \"yaxis\": {\"anchor\": \"x\", \"domain\": [0.0, 1.0], \"title\": {\"text\": \"<b>Sentiment Polarity </b>\"}}, \"yaxis2\": {\"anchor\": \"x\", \"overlaying\": \"y\", \"side\": \"right\", \"title\": {\"text\": \"<b>BTC Price</b>\"}}},                        {\"responsive\": true}                    ).then(function(){\n                            \nvar gd = document.getElementById('1d067774-8f92-40f7-be2b-38309f4869d0');\nvar x = new MutationObserver(function (mutations, observer) {{\n        var display = window.getComputedStyle(gd).display;\n        if (!display || display === 'none') {{\n            console.log([gd, 'removed!']);\n            Plotly.purge(gd);\n            observer.disconnect();\n        }}\n}});\n\n// Listen for the removal of the full notebook cells\nvar notebookContainer = gd.closest('#notebook-container');\nif (notebookContainer) {{\n    x.observe(notebookContainer, {childList: true});\n}}\n\n// Listen for the clearing of the current output cell\nvar outputEl = gd.closest('.output');\nif (outputEl) {{\n    x.observe(outputEl, {childList: true});\n}}\n\n                        })                };                });            </script>        </div>"
     },
     "metadata": {},
     "output_type": "display_data"
    }
   ],
   "source": [
    "dchunk='w'\n",
    "a=c1.resample(dchunk).sum().polarity\n",
    "btc_price=pd.read_csv(r\"C:\\Users\\Ben\\Desktop\\Diplomatiki\\CryptoSent\\Datasets\\other\\coin_Bitcoin.csv\")\n",
    "btc_price.Date=pd.to_datetime(btc_price.Date)\n",
    "btc_price=btc_price.set_index('Date')\n",
    "btc_price['avg_price']=(btc_price.High+btc_price.Low)/2\n",
    "\n",
    "btc_price_avg=btc_price.resample(dchunk).mean().loc['2019':'2021-06']['avg_price']\n",
    "\n",
    "# Create figure with secondary y-axis\n",
    "fig = make_subplots(specs=[[{\"secondary_y\": True}]])\n",
    "\n",
    "# Add traces\n",
    "fig.add_trace(\n",
    "    go.Scatter(x=a.index, y=a, name=\"LR-Model\"),\n",
    "    secondary_y=False,\n",
    ")\n",
    "\n",
    "fig.add_trace(\n",
    "    go.Scatter(x=df.resample(dchunk).sum().index, y=df.resample(dchunk).sum().polarity2, name=\"Bit Coin Avg\"),\n",
    "    secondary_y=True,\n",
    ")\n",
    "\n",
    "# Add figure title\n",
    "fig.update_layout(\n",
    "    title_text=\"BTC vs LR Sentiment Model - Weekly\"\n",
    ")\n",
    "\n",
    "# Set x-axis title\n",
    "fig.update_xaxes(title_text=\"Date\")\n",
    "\n",
    "# Set y-axes titles\n",
    "fig.update_yaxes(title_text=\"<b>Sentiment Polarity </b>\", secondary_y=False)\n",
    "fig.update_yaxes(title_text=\"<b>BTC Price</b>\", secondary_y=True)\n",
    "\n",
    "fig.show()"
   ],
   "metadata": {
    "collapsed": false,
    "pycharm": {
     "name": "#%%\n"
    }
   }
  },
  {
   "cell_type": "code",
   "execution_count": 85,
   "outputs": [
    {
     "data": {
      "text/plain": "                                 created         author  num_comments  score  \\\ndate                                                                           \n2021-05-19 02:00:14  2021-05-19 02:00:14  AutoModerator         58597   1013   \n2021-05-08 17:28:35  2021-05-08 17:28:35     jonbristow          4303  52190   \n2021-05-31 12:01:31  2021-05-31 12:01:31    jasonluxton          7539  43785   \n2021-02-08 13:48:45  2021-02-08 13:48:45  AlphaGrayWolf          2954  45445   \n2021-05-23 02:00:19  2021-05-23 02:00:19  AutoModerator         41728    634   \n...                                  ...            ...           ...    ...   \n2020-06-26 02:14:15  2020-06-26 02:14:15  AutoModerator           267     25   \n2019-05-03 00:04:47  2019-05-03 00:04:47         Egon_1           125    167   \n2020-10-15 11:18:50  2020-10-15 11:18:50       Miladran            36    256   \n2021-02-18 20:31:10  2021-02-18 20:31:10     reddito321            33    258   \n2021-04-01 16:41:22  2021-04-01 16:41:22  MemoryDealers            94    197   \n\n                                                                 title  \\\ndate                                                                     \n2021-05-19 02:00:14            Daily Discussion - May 19, 2021 (GMT+0)   \n2021-05-08 17:28:35  You hear about the kid who put in $500 into a ...   \n2021-05-31 12:01:31  Binance CEO, CZ, shades Elon Musk in tweet. - ...   \n2021-02-08 13:48:45  Tesla buys $1.5b in Bitcoin and is looking to ...   \n2021-05-23 02:00:19            Daily Discussion - May 23, 2021 (GMT+0)   \n...                                                                ...   \n2020-06-26 02:14:15           Daily Discussion - June 26, 2020 (GMT+0)   \n2019-05-03 00:04:47  Jeff Garzik: “ It's exit buying. To get out of...   \n2020-10-15 11:18:50  Schnorr and Taproot Upgrade Proposal Merged In...   \n2021-02-18 20:31:10  Newcomers: 99% of the questions you ask can be...   \n2021-04-01 16:41:22  SmartBCH is a Ethereum Virtual Machine &amp; W...   \n\n                                                              selftext  \\\ndate                                                                     \n2021-05-19 02:00:14  **Welcome to the Daily Discussion. Please read...   \n2021-05-08 17:28:35  You hear about the kid who put in $500 into a ...   \n2021-05-31 12:01:31                                                NaN   \n2021-02-08 13:48:45                                                NaN   \n2021-05-23 02:00:19  **Welcome to the Daily Discussion. Please read...   \n...                                                                ...   \n2020-06-26 02:14:15  \\nWelcome to the Daily Discussion. Please read...   \n2019-05-03 00:04:47                                                NaN   \n2020-10-15 11:18:50                                                NaN   \n2021-02-18 20:31:10  You should just ignore whoever sends you a dir...   \n2021-04-01 16:41:22                                                NaN   \n\n                          subreddit  subreddit_subscribers      id  \\\ndate                                                                 \n2021-05-19 02:00:14  CryptoCurrency                3092129  nfqb4c   \n2021-05-08 17:28:35  CryptoCurrency                3091100  n7rl2y   \n2021-05-31 12:01:31  CryptoCurrency                3093308  noztp7   \n2021-02-08 13:48:45         Bitcoin                3070878  lfb3mm   \n2021-05-23 02:00:19  CryptoCurrency                3092557  nivhqx   \n...                             ...                    ...     ...   \n2020-06-26 02:14:15  CryptoCurrency                3034677  hfxczf   \n2019-05-03 00:04:47             btc                 255019  bk0sm3   \n2020-10-15 11:18:50         Bitcoin                3044911  jbk8qm   \n2021-02-18 20:31:10  CryptoCurrency                3084146  lmv0wu   \n2021-04-01 16:41:22             btc                 563304  mhwrdg   \n\n                                  domain  ...   kpi1  \\\ndate                                      ...          \n2021-05-19 02:00:14  self.CryptoCurrency  ...  59610   \n2021-05-08 17:28:35  self.CryptoCurrency  ...  56493   \n2021-05-31 12:01:31        coinquora.com  ...  51324   \n2021-02-08 13:48:45            v.redd.it  ...  48399   \n2021-05-23 02:00:19  self.CryptoCurrency  ...  42362   \n...                                  ...  ...    ...   \n2020-06-26 02:14:15  self.CryptoCurrency  ...    292   \n2019-05-03 00:04:47          twitter.com  ...    292   \n2020-10-15 11:18:50         btctimes.com  ...    292   \n2021-02-18 20:31:10  self.CryptoCurrency  ...    291   \n2021-04-01 16:41:22         smartbch.org  ...    291   \n\n                                                           distil_bert  \\\ndate                                                                     \n2021-05-19 02:00:14  [[tensor(0.2132, grad_fn=<UnbindBackward>), te...   \n2021-05-08 17:28:35  [[tensor(0.9986, grad_fn=<UnbindBackward>), te...   \n2021-05-31 12:01:31  [[tensor(0.0059, grad_fn=<UnbindBackward>), te...   \n2021-02-08 13:48:45  [[tensor(0.9171, grad_fn=<UnbindBackward>), te...   \n2021-05-23 02:00:19  [[tensor(0.1825, grad_fn=<UnbindBackward>), te...   \n...                                                                ...   \n2020-06-26 02:14:15  [[tensor(0.3421, grad_fn=<UnbindBackward>), te...   \n2019-05-03 00:04:47  [[tensor(0.9989, grad_fn=<UnbindBackward>), te...   \n2020-10-15 11:18:50  [[tensor(0.9934, grad_fn=<UnbindBackward>), te...   \n2021-02-18 20:31:10  [[tensor(0.9946, grad_fn=<UnbindBackward>), te...   \n2021-04-01 16:41:22  [[tensor(0.9957, grad_fn=<UnbindBackward>), te...   \n\n                    negative_sent positive_sent polaraity  polarity  \\\ndate                                                                  \n2021-05-19 02:00:14      0.213248      0.786752  0.573505  0.573505   \n2021-05-08 17:28:35      0.998616      0.001384 -0.997232 -0.997232   \n2021-05-31 12:01:31      0.005928      0.994072  0.988144  0.988144   \n2021-02-08 13:48:45      0.917149      0.082851 -0.834298 -0.834298   \n2021-05-23 02:00:19      0.182501      0.817499  0.634998  0.634998   \n...                           ...           ...       ...       ...   \n2020-06-26 02:14:15      0.342077      0.657923  0.315845  0.315845   \n2019-05-03 00:04:47      0.998888      0.001112 -0.997776 -0.997776   \n2020-10-15 11:18:50      0.993429      0.006571 -0.986859 -0.986859   \n2021-02-18 20:31:10      0.994645      0.005355 -0.989289 -0.989289   \n2021-04-01 16:41:22      0.995671      0.004329 -0.991343 -0.991343   \n\n                                                        text_processed  \\\ndate                                                                     \n2021-05-19 02:00:14                              daili discus may gmt    \n2021-05-08 17:28:35  hear kid put memecoin made k hear hundr put left    \n2021-05-31 12:01:31  binanc ceo cz shade elon musk tweet use electr...   \n2021-02-08 13:48:45  tesla buy b bitcoin look accept crypto form pa...   \n2021-05-23 02:00:19                              daili discus may gmt    \n...                                                                ...   \n2020-06-26 02:14:15                             daili discus june gmt    \n2019-05-03 00:04:47  jeff garzik exit buy get exchang one must buy ...   \n2020-10-15 11:18:50    schnorr taproot upgrad propos merg bitcoin core   \n2021-02-18 20:31:10  newcom question ask answer comment origin post...   \n2021-04-01 16:41:22  smartbch ethereum virtual machin amp web compa...   \n\n                                                             sent_dict  \\\ndate                                                                     \n2021-05-19 02:00:14  (0.3891149883700975, 0.6108850116299025, Posit...   \n2021-05-08 17:28:35  (0.21302516065193156, 0.7869748393480684, Posi...   \n2021-05-31 12:01:31  (0.3162505156955562, 0.6837494843044438, Posit...   \n2021-02-08 13:48:45  (0.5446836610708661, 0.4553163389291339, Netural)   \n2021-05-23 02:00:19  (0.3891149883700975, 0.6108850116299025, Posit...   \n...                                                                ...   \n2020-06-26 02:14:15  (0.3942709217828775, 0.6057290782171225, Posit...   \n2019-05-03 00:04:47  (0.5186996758056208, 0.4813003241943792, Netural)   \n2020-10-15 11:18:50  (0.4101787529512767, 0.5898212470487233, Netural)   \n2021-02-18 20:31:10  (0.25376407418414537, 0.7462359258158546, Posi...   \n2021-04-01 16:41:22  (0.27939394274574736, 0.7206060572542526, Posi...   \n\n                     polarity2  sentiment2  \ndate                                        \n2021-05-19 02:00:14   0.276088    Positive  \n2021-05-08 17:28:35   0.644727    Positive  \n2021-05-31 12:01:31   0.428628    Positive  \n2021-02-08 13:48:45  -0.049591     Netural  \n2021-05-23 02:00:19   0.276088    Positive  \n...                        ...         ...  \n2020-06-26 02:14:15   0.265294    Positive  \n2019-05-03 00:04:47   0.004806     Netural  \n2020-10-15 11:18:50   0.231992     Netural  \n2021-02-18 20:31:10   0.559441    Positive  \n2021-04-01 16:41:22   0.505786    Positive  \n\n[3281 rows x 38 columns]",
      "text/html": "<div>\n<style scoped>\n    .dataframe tbody tr th:only-of-type {\n        vertical-align: middle;\n    }\n\n    .dataframe tbody tr th {\n        vertical-align: top;\n    }\n\n    .dataframe thead th {\n        text-align: right;\n    }\n</style>\n<table border=\"1\" class=\"dataframe\">\n  <thead>\n    <tr style=\"text-align: right;\">\n      <th></th>\n      <th>created</th>\n      <th>author</th>\n      <th>num_comments</th>\n      <th>score</th>\n      <th>title</th>\n      <th>selftext</th>\n      <th>subreddit</th>\n      <th>subreddit_subscribers</th>\n      <th>id</th>\n      <th>domain</th>\n      <th>...</th>\n      <th>kpi1</th>\n      <th>distil_bert</th>\n      <th>negative_sent</th>\n      <th>positive_sent</th>\n      <th>polaraity</th>\n      <th>polarity</th>\n      <th>text_processed</th>\n      <th>sent_dict</th>\n      <th>polarity2</th>\n      <th>sentiment2</th>\n    </tr>\n    <tr>\n      <th>date</th>\n      <th></th>\n      <th></th>\n      <th></th>\n      <th></th>\n      <th></th>\n      <th></th>\n      <th></th>\n      <th></th>\n      <th></th>\n      <th></th>\n      <th></th>\n      <th></th>\n      <th></th>\n      <th></th>\n      <th></th>\n      <th></th>\n      <th></th>\n      <th></th>\n      <th></th>\n      <th></th>\n      <th></th>\n    </tr>\n  </thead>\n  <tbody>\n    <tr>\n      <th>2021-05-19 02:00:14</th>\n      <td>2021-05-19 02:00:14</td>\n      <td>AutoModerator</td>\n      <td>58597</td>\n      <td>1013</td>\n      <td>Daily Discussion - May 19, 2021 (GMT+0)</td>\n      <td>**Welcome to the Daily Discussion. Please read...</td>\n      <td>CryptoCurrency</td>\n      <td>3092129</td>\n      <td>nfqb4c</td>\n      <td>self.CryptoCurrency</td>\n      <td>...</td>\n      <td>59610</td>\n      <td>[[tensor(0.2132, grad_fn=&lt;UnbindBackward&gt;), te...</td>\n      <td>0.213248</td>\n      <td>0.786752</td>\n      <td>0.573505</td>\n      <td>0.573505</td>\n      <td>daili discus may gmt</td>\n      <td>(0.3891149883700975, 0.6108850116299025, Posit...</td>\n      <td>0.276088</td>\n      <td>Positive</td>\n    </tr>\n    <tr>\n      <th>2021-05-08 17:28:35</th>\n      <td>2021-05-08 17:28:35</td>\n      <td>jonbristow</td>\n      <td>4303</td>\n      <td>52190</td>\n      <td>You hear about the kid who put in $500 into a ...</td>\n      <td>You hear about the kid who put in $500 into a ...</td>\n      <td>CryptoCurrency</td>\n      <td>3091100</td>\n      <td>n7rl2y</td>\n      <td>self.CryptoCurrency</td>\n      <td>...</td>\n      <td>56493</td>\n      <td>[[tensor(0.9986, grad_fn=&lt;UnbindBackward&gt;), te...</td>\n      <td>0.998616</td>\n      <td>0.001384</td>\n      <td>-0.997232</td>\n      <td>-0.997232</td>\n      <td>hear kid put memecoin made k hear hundr put left</td>\n      <td>(0.21302516065193156, 0.7869748393480684, Posi...</td>\n      <td>0.644727</td>\n      <td>Positive</td>\n    </tr>\n    <tr>\n      <th>2021-05-31 12:01:31</th>\n      <td>2021-05-31 12:01:31</td>\n      <td>jasonluxton</td>\n      <td>7539</td>\n      <td>43785</td>\n      <td>Binance CEO, CZ, shades Elon Musk in tweet. - ...</td>\n      <td>NaN</td>\n      <td>CryptoCurrency</td>\n      <td>3093308</td>\n      <td>noztp7</td>\n      <td>coinquora.com</td>\n      <td>...</td>\n      <td>51324</td>\n      <td>[[tensor(0.0059, grad_fn=&lt;UnbindBackward&gt;), te...</td>\n      <td>0.005928</td>\n      <td>0.994072</td>\n      <td>0.988144</td>\n      <td>0.988144</td>\n      <td>binanc ceo cz shade elon musk tweet use electr...</td>\n      <td>(0.3162505156955562, 0.6837494843044438, Posit...</td>\n      <td>0.428628</td>\n      <td>Positive</td>\n    </tr>\n    <tr>\n      <th>2021-02-08 13:48:45</th>\n      <td>2021-02-08 13:48:45</td>\n      <td>AlphaGrayWolf</td>\n      <td>2954</td>\n      <td>45445</td>\n      <td>Tesla buys $1.5b in Bitcoin and is looking to ...</td>\n      <td>NaN</td>\n      <td>Bitcoin</td>\n      <td>3070878</td>\n      <td>lfb3mm</td>\n      <td>v.redd.it</td>\n      <td>...</td>\n      <td>48399</td>\n      <td>[[tensor(0.9171, grad_fn=&lt;UnbindBackward&gt;), te...</td>\n      <td>0.917149</td>\n      <td>0.082851</td>\n      <td>-0.834298</td>\n      <td>-0.834298</td>\n      <td>tesla buy b bitcoin look accept crypto form pa...</td>\n      <td>(0.5446836610708661, 0.4553163389291339, Netural)</td>\n      <td>-0.049591</td>\n      <td>Netural</td>\n    </tr>\n    <tr>\n      <th>2021-05-23 02:00:19</th>\n      <td>2021-05-23 02:00:19</td>\n      <td>AutoModerator</td>\n      <td>41728</td>\n      <td>634</td>\n      <td>Daily Discussion - May 23, 2021 (GMT+0)</td>\n      <td>**Welcome to the Daily Discussion. Please read...</td>\n      <td>CryptoCurrency</td>\n      <td>3092557</td>\n      <td>nivhqx</td>\n      <td>self.CryptoCurrency</td>\n      <td>...</td>\n      <td>42362</td>\n      <td>[[tensor(0.1825, grad_fn=&lt;UnbindBackward&gt;), te...</td>\n      <td>0.182501</td>\n      <td>0.817499</td>\n      <td>0.634998</td>\n      <td>0.634998</td>\n      <td>daili discus may gmt</td>\n      <td>(0.3891149883700975, 0.6108850116299025, Posit...</td>\n      <td>0.276088</td>\n      <td>Positive</td>\n    </tr>\n    <tr>\n      <th>...</th>\n      <td>...</td>\n      <td>...</td>\n      <td>...</td>\n      <td>...</td>\n      <td>...</td>\n      <td>...</td>\n      <td>...</td>\n      <td>...</td>\n      <td>...</td>\n      <td>...</td>\n      <td>...</td>\n      <td>...</td>\n      <td>...</td>\n      <td>...</td>\n      <td>...</td>\n      <td>...</td>\n      <td>...</td>\n      <td>...</td>\n      <td>...</td>\n      <td>...</td>\n      <td>...</td>\n    </tr>\n    <tr>\n      <th>2020-06-26 02:14:15</th>\n      <td>2020-06-26 02:14:15</td>\n      <td>AutoModerator</td>\n      <td>267</td>\n      <td>25</td>\n      <td>Daily Discussion - June 26, 2020 (GMT+0)</td>\n      <td>\\nWelcome to the Daily Discussion. Please read...</td>\n      <td>CryptoCurrency</td>\n      <td>3034677</td>\n      <td>hfxczf</td>\n      <td>self.CryptoCurrency</td>\n      <td>...</td>\n      <td>292</td>\n      <td>[[tensor(0.3421, grad_fn=&lt;UnbindBackward&gt;), te...</td>\n      <td>0.342077</td>\n      <td>0.657923</td>\n      <td>0.315845</td>\n      <td>0.315845</td>\n      <td>daili discus june gmt</td>\n      <td>(0.3942709217828775, 0.6057290782171225, Posit...</td>\n      <td>0.265294</td>\n      <td>Positive</td>\n    </tr>\n    <tr>\n      <th>2019-05-03 00:04:47</th>\n      <td>2019-05-03 00:04:47</td>\n      <td>Egon_1</td>\n      <td>125</td>\n      <td>167</td>\n      <td>Jeff Garzik: “ It's exit buying. To get out of...</td>\n      <td>NaN</td>\n      <td>btc</td>\n      <td>255019</td>\n      <td>bk0sm3</td>\n      <td>twitter.com</td>\n      <td>...</td>\n      <td>292</td>\n      <td>[[tensor(0.9989, grad_fn=&lt;UnbindBackward&gt;), te...</td>\n      <td>0.998888</td>\n      <td>0.001112</td>\n      <td>-0.997776</td>\n      <td>-0.997776</td>\n      <td>jeff garzik exit buy get exchang one must buy ...</td>\n      <td>(0.5186996758056208, 0.4813003241943792, Netural)</td>\n      <td>0.004806</td>\n      <td>Netural</td>\n    </tr>\n    <tr>\n      <th>2020-10-15 11:18:50</th>\n      <td>2020-10-15 11:18:50</td>\n      <td>Miladran</td>\n      <td>36</td>\n      <td>256</td>\n      <td>Schnorr and Taproot Upgrade Proposal Merged In...</td>\n      <td>NaN</td>\n      <td>Bitcoin</td>\n      <td>3044911</td>\n      <td>jbk8qm</td>\n      <td>btctimes.com</td>\n      <td>...</td>\n      <td>292</td>\n      <td>[[tensor(0.9934, grad_fn=&lt;UnbindBackward&gt;), te...</td>\n      <td>0.993429</td>\n      <td>0.006571</td>\n      <td>-0.986859</td>\n      <td>-0.986859</td>\n      <td>schnorr taproot upgrad propos merg bitcoin core</td>\n      <td>(0.4101787529512767, 0.5898212470487233, Netural)</td>\n      <td>0.231992</td>\n      <td>Netural</td>\n    </tr>\n    <tr>\n      <th>2021-02-18 20:31:10</th>\n      <td>2021-02-18 20:31:10</td>\n      <td>reddito321</td>\n      <td>33</td>\n      <td>258</td>\n      <td>Newcomers: 99% of the questions you ask can be...</td>\n      <td>You should just ignore whoever sends you a dir...</td>\n      <td>CryptoCurrency</td>\n      <td>3084146</td>\n      <td>lmv0wu</td>\n      <td>self.CryptoCurrency</td>\n      <td>...</td>\n      <td>291</td>\n      <td>[[tensor(0.9946, grad_fn=&lt;UnbindBackward&gt;), te...</td>\n      <td>0.994645</td>\n      <td>0.005355</td>\n      <td>-0.989289</td>\n      <td>-0.989289</td>\n      <td>newcom question ask answer comment origin post...</td>\n      <td>(0.25376407418414537, 0.7462359258158546, Posi...</td>\n      <td>0.559441</td>\n      <td>Positive</td>\n    </tr>\n    <tr>\n      <th>2021-04-01 16:41:22</th>\n      <td>2021-04-01 16:41:22</td>\n      <td>MemoryDealers</td>\n      <td>94</td>\n      <td>197</td>\n      <td>SmartBCH is a Ethereum Virtual Machine &amp;amp; W...</td>\n      <td>NaN</td>\n      <td>btc</td>\n      <td>563304</td>\n      <td>mhwrdg</td>\n      <td>smartbch.org</td>\n      <td>...</td>\n      <td>291</td>\n      <td>[[tensor(0.9957, grad_fn=&lt;UnbindBackward&gt;), te...</td>\n      <td>0.995671</td>\n      <td>0.004329</td>\n      <td>-0.991343</td>\n      <td>-0.991343</td>\n      <td>smartbch ethereum virtual machin amp web compa...</td>\n      <td>(0.27939394274574736, 0.7206060572542526, Posi...</td>\n      <td>0.505786</td>\n      <td>Positive</td>\n    </tr>\n  </tbody>\n</table>\n<p>3281 rows × 38 columns</p>\n</div>"
     },
     "execution_count": 85,
     "metadata": {},
     "output_type": "execute_result"
    }
   ],
   "source": [
    "df"
   ],
   "metadata": {
    "collapsed": false,
    "pycharm": {
     "name": "#%%\n"
    }
   }
  },
  {
   "cell_type": "code",
   "execution_count": null,
   "id": "a0b6f041",
   "metadata": {
    "pycharm": {
     "name": "#%%\n"
    }
   },
   "outputs": [],
   "source": []
  },
  {
   "cell_type": "code",
   "execution_count": null,
   "id": "c7862f85",
   "metadata": {
    "pycharm": {
     "name": "#%%\n"
    }
   },
   "outputs": [],
   "source": [
    "sub_id_body_c=c[['submission_id','body']].groupby('submission_id').body.sum().to_dict()['body']\n",
    "sub_id_score_c=c[['submission_id','score']].rename(columns={'score':'comment_score'}).groupby('submission_id').sum().to_dict()['comment_score']\n",
    "len(sub_id_body_c)\n",
    "c.head().T"
   ]
  },
  {
   "cell_type": "code",
   "execution_count": null,
   "id": "0fddfcdd",
   "metadata": {},
   "outputs": [],
   "source": []
  },
  {
   "cell_type": "code",
   "execution_count": null,
   "id": "557f4a4b",
   "metadata": {},
   "outputs": [],
   "source": []
  },
  {
   "cell_type": "code",
   "execution_count": null,
   "id": "6cb9b380",
   "metadata": {},
   "outputs": [],
   "source": []
  }
 ],
 "metadata": {
  "kernelspec": {
   "display_name": "Python 3",
   "language": "python",
   "name": "python3"
  },
  "language_info": {
   "codemirror_mode": {
    "name": "ipython",
    "version": 3
   },
   "file_extension": ".py",
   "mimetype": "text/x-python",
   "name": "python",
   "nbconvert_exporter": "python",
   "pygments_lexer": "ipython3",
   "version": "3.7.9"
  }
 },
 "nbformat": 4,
 "nbformat_minor": 5
}