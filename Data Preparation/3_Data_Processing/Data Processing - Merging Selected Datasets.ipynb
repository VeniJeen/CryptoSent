{
 "cells": [
  {
   "cell_type": "code",
   "execution_count": 1,
   "id": "f0b20dbf",
   "metadata": {},
   "outputs": [
    {
     "name": "stdout",
     "output_type": "stream",
     "text": [
      "3.7.11\n"
     ]
    }
   ],
   "source": [
    "from platform import python_version\n",
    "\n",
    "print(python_version())"
   ]
  },
  {
   "cell_type": "code",
   "execution_count": 2,
   "id": "333cf622",
   "metadata": {},
   "outputs": [
    {
     "data": {
      "text/plain": [
       "'C:\\\\Users\\\\Ben\\\\anaconda3\\\\python.exe'"
      ]
     },
     "execution_count": 2,
     "metadata": {},
     "output_type": "execute_result"
    }
   ],
   "source": [
    "import sys\n",
    "sys.executable"
   ]
  },
  {
   "cell_type": "code",
   "execution_count": null,
   "outputs": [],
   "source": [],
   "metadata": {
    "collapsed": false,
    "pycharm": {
     "name": "#%%\n"
    }
   }
  },
  {
   "cell_type": "code",
   "execution_count": 2,
   "outputs": [],
   "source": [
    "import os\n",
    "import sys\n",
    "#connect local PATH\n",
    "p = os.path.abspath(r'C:\\Users\\Ben\\Desktop\\Diplomatiki\\CryptoSent\\crypto_sent_tools')\n",
    "sys.path.insert(1, p)\n"
   ],
   "metadata": {
    "collapsed": false,
    "pycharm": {
     "name": "#%%\n"
    }
   }
  },
  {
   "cell_type": "code",
   "execution_count": 3,
   "outputs": [],
   "source": [
    "import crypto_sent_tools as cs\n",
    "\n",
    "\n"
   ],
   "metadata": {
    "collapsed": false,
    "pycharm": {
     "name": "#%%\n"
    }
   }
  },
  {
   "cell_type": "code",
   "execution_count": null,
   "id": "f892026f",
   "metadata": {},
   "outputs": [],
   "source": [
    "cs.c"
   ]
  },
  {
   "cell_type": "code",
   "execution_count": 1,
   "id": "eeabf7e2",
   "metadata": {},
   "outputs": [],
   "source": [
    "import pandas as pd\n",
    "import os\n",
    "import sys\n",
    "#connect local PATH\n",
    "p = os.path.abspath(r'C:\\Users\\Ben\\Desktop\\Diplomatiki\\CryptoSent\\utils')\n",
    "sys.path.insert(1, p)\n",
    "\n",
    "import warnings\n",
    "from pandas.core.common import SettingWithCopyWarning\n",
    "\n",
    "warnings.simplefilter(action=\"ignore\", category=SettingWithCopyWarning)\n"
   ]
  },
  {
   "cell_type": "code",
   "execution_count": 2,
   "id": "bb62671e",
   "metadata": {},
   "outputs": [],
   "source": [
    "c=pd.read_pickle(r\"C:\\Users\\Ben\\Desktop\\Diplomatiki\\CryptoSent\\Data Preparation\\3_Data_Processing\\top500k_comments.pickle\")\n",
    "s=pd.read_pickle(r\"C:\\Users\\Ben\\Desktop\\Diplomatiki\\CryptoSent\\Data Preparation\\3_Data_Processing\\TOP20K_submissions.pickle\")"
   ]
  },
  {
   "cell_type": "code",
   "execution_count": 11,
   "id": "78b4a263",
   "metadata": {},
   "outputs": [],
   "source": [
    "\n",
    "subid_comments=c.groupby('submission_id').body.sum().to_dict()\n",
    "\n",
    "subid_com_score=c.groupby('submission_id').score.sum().to_dict()"
   ]
  },
  {
   "cell_type": "code",
   "execution_count": 19,
   "id": "4c025f24",
   "metadata": {},
   "outputs": [],
   "source": [
    "s['comment_score']=s.id.map(subid_com_score)\n",
    "s['comment_score']=s['comment_score'].fillna(0).astype(int)"
   ]
  },
  {
   "cell_type": "code",
   "execution_count": 20,
   "id": "3f1caf2c",
   "metadata": {},
   "outputs": [],
   "source": [
    "s['comments']=s.id.map(subid_comments)"
   ]
  },
  {
   "cell_type": "code",
   "execution_count": 27,
   "id": "2e3b135e",
   "metadata": {},
   "outputs": [],
   "source": [
    "df=s[~s.comments.isna()]"
   ]
  },
  {
   "cell_type": "code",
   "execution_count": 28,
   "id": "762dadc4",
   "metadata": {},
   "outputs": [],
   "source": [
    "df.to_pickle('main_merge_v1.pickle')"
   ]
  },
  {
   "cell_type": "markdown",
   "id": "2fa1b770",
   "metadata": {},
   "source": [
    "## running "
   ]
  },
  {
   "cell_type": "code",
   "execution_count": 2,
   "id": "c4bf9a9e",
   "metadata": {},
   "outputs": [],
   "source": [
    "df=pd.read_pickle('main_merge_v1.pickle')"
   ]
  },
  {
   "cell_type": "code",
   "execution_count": 4,
   "id": "2cc69ca6",
   "metadata": {},
   "outputs": [
    {
     "data": {
      "text/html": [
       "<div>\n",
       "<style scoped>\n",
       "    .dataframe tbody tr th:only-of-type {\n",
       "        vertical-align: middle;\n",
       "    }\n",
       "\n",
       "    .dataframe tbody tr th {\n",
       "        vertical-align: top;\n",
       "    }\n",
       "\n",
       "    .dataframe thead th {\n",
       "        text-align: right;\n",
       "    }\n",
       "</style>\n",
       "<table border=\"1\" class=\"dataframe\">\n",
       "  <thead>\n",
       "    <tr style=\"text-align: right;\">\n",
       "      <th></th>\n",
       "      <th>1474281</th>\n",
       "      <th>1400525</th>\n",
       "      <th>1547559</th>\n",
       "      <th>964610</th>\n",
       "      <th>935676</th>\n",
       "    </tr>\n",
       "  </thead>\n",
       "  <tbody>\n",
       "    <tr>\n",
       "      <th>created</th>\n",
       "      <td>2021-05-19 02:00:14</td>\n",
       "      <td>2021-05-08 17:28:35</td>\n",
       "      <td>2021-05-31 12:01:31</td>\n",
       "      <td>2021-02-08 13:48:45</td>\n",
       "      <td>2021-02-04 13:02:16</td>\n",
       "    </tr>\n",
       "    <tr>\n",
       "      <th>author</th>\n",
       "      <td>AutoModerator</td>\n",
       "      <td>jonbristow</td>\n",
       "      <td>jasonluxton</td>\n",
       "      <td>AlphaGrayWolf</td>\n",
       "      <td>[deleted]</td>\n",
       "    </tr>\n",
       "    <tr>\n",
       "      <th>num_comments</th>\n",
       "      <td>58597</td>\n",
       "      <td>4303</td>\n",
       "      <td>7539</td>\n",
       "      <td>2954</td>\n",
       "      <td>3659</td>\n",
       "    </tr>\n",
       "    <tr>\n",
       "      <th>score</th>\n",
       "      <td>1013</td>\n",
       "      <td>52190</td>\n",
       "      <td>43785</td>\n",
       "      <td>45445</td>\n",
       "      <td>39951</td>\n",
       "    </tr>\n",
       "    <tr>\n",
       "      <th>title</th>\n",
       "      <td>Daily Discussion - May 19, 2021 (GMT+0)</td>\n",
       "      <td>You hear about the kid who put in $500 into a ...</td>\n",
       "      <td>Binance CEO, CZ, shades Elon Musk in tweet. - ...</td>\n",
       "      <td>Tesla buys $1.5b in Bitcoin and is looking to ...</td>\n",
       "      <td>Elon Musk reminds me of a rich billionaire who...</td>\n",
       "    </tr>\n",
       "    <tr>\n",
       "      <th>selftext</th>\n",
       "      <td>**Welcome to the Daily Discussion. Please read...</td>\n",
       "      <td>You hear about the kid who put in $500 into a ...</td>\n",
       "      <td>NaN</td>\n",
       "      <td>NaN</td>\n",
       "      <td>[deleted]</td>\n",
       "    </tr>\n",
       "    <tr>\n",
       "      <th>subreddit</th>\n",
       "      <td>CryptoCurrency</td>\n",
       "      <td>CryptoCurrency</td>\n",
       "      <td>CryptoCurrency</td>\n",
       "      <td>Bitcoin</td>\n",
       "      <td>CryptoCurrency</td>\n",
       "    </tr>\n",
       "    <tr>\n",
       "      <th>subreddit_subscribers</th>\n",
       "      <td>3092129</td>\n",
       "      <td>3091100</td>\n",
       "      <td>3093308</td>\n",
       "      <td>3070878</td>\n",
       "      <td>3082709</td>\n",
       "    </tr>\n",
       "    <tr>\n",
       "      <th>id</th>\n",
       "      <td>nfqb4c</td>\n",
       "      <td>n7rl2y</td>\n",
       "      <td>noztp7</td>\n",
       "      <td>lfb3mm</td>\n",
       "      <td>lce6zm</td>\n",
       "    </tr>\n",
       "    <tr>\n",
       "      <th>domain</th>\n",
       "      <td>self.CryptoCurrency</td>\n",
       "      <td>self.CryptoCurrency</td>\n",
       "      <td>coinquora.com</td>\n",
       "      <td>v.redd.it</td>\n",
       "      <td>self.CryptoCurrency</td>\n",
       "    </tr>\n",
       "    <tr>\n",
       "      <th>no_follow</th>\n",
       "      <td>False</td>\n",
       "      <td>False</td>\n",
       "      <td>False</td>\n",
       "      <td>False</td>\n",
       "      <td>False</td>\n",
       "    </tr>\n",
       "    <tr>\n",
       "      <th>send_replies</th>\n",
       "      <td>False</td>\n",
       "      <td>False</td>\n",
       "      <td>True</td>\n",
       "      <td>True</td>\n",
       "      <td>False</td>\n",
       "    </tr>\n",
       "    <tr>\n",
       "      <th>author_fullname</th>\n",
       "      <td>t2_6l4z3</td>\n",
       "      <td>t2_eeu0q</td>\n",
       "      <td>t2_8abdg36w</td>\n",
       "      <td>t2_u4c9x3c</td>\n",
       "      <td>NaN</td>\n",
       "    </tr>\n",
       "    <tr>\n",
       "      <th>subreddit_id</th>\n",
       "      <td>t5_2wlj3</td>\n",
       "      <td>t5_2wlj3</td>\n",
       "      <td>t5_2wlj3</td>\n",
       "      <td>t5_2s3qj</td>\n",
       "      <td>t5_2wlj3</td>\n",
       "    </tr>\n",
       "    <tr>\n",
       "      <th>permalink</th>\n",
       "      <td>/r/CryptoCurrency/comments/nfqb4c/daily_discus...</td>\n",
       "      <td>/r/CryptoCurrency/comments/n7rl2y/you_hear_abo...</td>\n",
       "      <td>/r/CryptoCurrency/comments/noztp7/binance_ceo_...</td>\n",
       "      <td>/r/Bitcoin/comments/lfb3mm/tesla_buys_15b_in_b...</td>\n",
       "      <td>/r/CryptoCurrency/comments/lce6zm/elon_musk_re...</td>\n",
       "    </tr>\n",
       "    <tr>\n",
       "      <th>url</th>\n",
       "      <td>https://www.reddit.com/r/CryptoCurrency/commen...</td>\n",
       "      <td>https://www.reddit.com/r/CryptoCurrency/commen...</td>\n",
       "      <td>https://coinquora.com/binance-ceo-weighs-in-on...</td>\n",
       "      <td>https://v.redd.it/gazga81l29g61</td>\n",
       "      <td>https://www.reddit.com/r/CryptoCurrency/commen...</td>\n",
       "    </tr>\n",
       "    <tr>\n",
       "      <th>Date</th>\n",
       "      <td>2021-05-19 02:00:14</td>\n",
       "      <td>2021-05-08 17:28:35</td>\n",
       "      <td>2021-05-31 12:01:31</td>\n",
       "      <td>2021-02-08 13:48:45</td>\n",
       "      <td>2021-02-04 13:02:16</td>\n",
       "    </tr>\n",
       "    <tr>\n",
       "      <th>author_created</th>\n",
       "      <td>2012-01-05 06:24:28</td>\n",
       "      <td>2013-12-18 09:08:30</td>\n",
       "      <td>2020-10-27 17:30:21</td>\n",
       "      <td>2018-01-27 23:07:31</td>\n",
       "      <td>NaN</td>\n",
       "    </tr>\n",
       "    <tr>\n",
       "      <th>year</th>\n",
       "      <td>2021</td>\n",
       "      <td>2021</td>\n",
       "      <td>2021</td>\n",
       "      <td>2021</td>\n",
       "      <td>2021</td>\n",
       "    </tr>\n",
       "    <tr>\n",
       "      <th>month</th>\n",
       "      <td>5</td>\n",
       "      <td>5</td>\n",
       "      <td>5</td>\n",
       "      <td>2</td>\n",
       "      <td>2</td>\n",
       "    </tr>\n",
       "    <tr>\n",
       "      <th>month_name</th>\n",
       "      <td>May</td>\n",
       "      <td>May</td>\n",
       "      <td>May</td>\n",
       "      <td>Feb</td>\n",
       "      <td>Feb</td>\n",
       "    </tr>\n",
       "    <tr>\n",
       "      <th>day</th>\n",
       "      <td>19</td>\n",
       "      <td>8</td>\n",
       "      <td>31</td>\n",
       "      <td>8</td>\n",
       "      <td>4</td>\n",
       "    </tr>\n",
       "    <tr>\n",
       "      <th>day_name</th>\n",
       "      <td>Wednesday</td>\n",
       "      <td>Saturday</td>\n",
       "      <td>Monday</td>\n",
       "      <td>Monday</td>\n",
       "      <td>Thursday</td>\n",
       "    </tr>\n",
       "    <tr>\n",
       "      <th>week</th>\n",
       "      <td>20</td>\n",
       "      <td>18</td>\n",
       "      <td>22</td>\n",
       "      <td>6</td>\n",
       "      <td>5</td>\n",
       "    </tr>\n",
       "    <tr>\n",
       "      <th>day_of_week</th>\n",
       "      <td>2</td>\n",
       "      <td>5</td>\n",
       "      <td>0</td>\n",
       "      <td>0</td>\n",
       "      <td>3</td>\n",
       "    </tr>\n",
       "    <tr>\n",
       "      <th>hour</th>\n",
       "      <td>2</td>\n",
       "      <td>17</td>\n",
       "      <td>12</td>\n",
       "      <td>13</td>\n",
       "      <td>13</td>\n",
       "    </tr>\n",
       "    <tr>\n",
       "      <th>minute</th>\n",
       "      <td>0</td>\n",
       "      <td>28</td>\n",
       "      <td>1</td>\n",
       "      <td>48</td>\n",
       "      <td>2</td>\n",
       "    </tr>\n",
       "    <tr>\n",
       "      <th>Volume</th>\n",
       "      <td>1</td>\n",
       "      <td>1</td>\n",
       "      <td>1</td>\n",
       "      <td>1</td>\n",
       "      <td>1</td>\n",
       "    </tr>\n",
       "    <tr>\n",
       "      <th>kpi1</th>\n",
       "      <td>59610</td>\n",
       "      <td>56493</td>\n",
       "      <td>51324</td>\n",
       "      <td>48399</td>\n",
       "      <td>43610</td>\n",
       "    </tr>\n",
       "    <tr>\n",
       "      <th>comment_score</th>\n",
       "      <td>15005</td>\n",
       "      <td>49026</td>\n",
       "      <td>16690</td>\n",
       "      <td>17477</td>\n",
       "      <td>20898</td>\n",
       "    </tr>\n",
       "    <tr>\n",
       "      <th>comments</th>\n",
       "      <td>Gave $20 to a homeless guy on the way to work....</td>\n",
       "      <td>You also don’t hear about me turning my $20 in...</td>\n",
       "      <td>Get ready for another dip when elon claps back...</td>\n",
       "      <td>This is how it begins.The price just jumped ab...</td>\n",
       "      <td>If your life savings hinges on a Tweet from a ...</td>\n",
       "    </tr>\n",
       "  </tbody>\n",
       "</table>\n",
       "</div>"
      ],
      "text/plain": [
       "                                                                 1474281  \\\n",
       "created                                              2021-05-19 02:00:14   \n",
       "author                                                     AutoModerator   \n",
       "num_comments                                                       58597   \n",
       "score                                                               1013   \n",
       "title                            Daily Discussion - May 19, 2021 (GMT+0)   \n",
       "selftext               **Welcome to the Daily Discussion. Please read...   \n",
       "subreddit                                                 CryptoCurrency   \n",
       "subreddit_subscribers                                            3092129   \n",
       "id                                                                nfqb4c   \n",
       "domain                                               self.CryptoCurrency   \n",
       "no_follow                                                          False   \n",
       "send_replies                                                       False   \n",
       "author_fullname                                                 t2_6l4z3   \n",
       "subreddit_id                                                    t5_2wlj3   \n",
       "permalink              /r/CryptoCurrency/comments/nfqb4c/daily_discus...   \n",
       "url                    https://www.reddit.com/r/CryptoCurrency/commen...   \n",
       "Date                                                 2021-05-19 02:00:14   \n",
       "author_created                                       2012-01-05 06:24:28   \n",
       "year                                                                2021   \n",
       "month                                                                  5   \n",
       "month_name                                                           May   \n",
       "day                                                                   19   \n",
       "day_name                                                       Wednesday   \n",
       "week                                                                  20   \n",
       "day_of_week                                                            2   \n",
       "hour                                                                   2   \n",
       "minute                                                                 0   \n",
       "Volume                                                                 1   \n",
       "kpi1                                                               59610   \n",
       "comment_score                                                      15005   \n",
       "comments               Gave $20 to a homeless guy on the way to work....   \n",
       "\n",
       "                                                                 1400525  \\\n",
       "created                                              2021-05-08 17:28:35   \n",
       "author                                                        jonbristow   \n",
       "num_comments                                                        4303   \n",
       "score                                                              52190   \n",
       "title                  You hear about the kid who put in $500 into a ...   \n",
       "selftext               You hear about the kid who put in $500 into a ...   \n",
       "subreddit                                                 CryptoCurrency   \n",
       "subreddit_subscribers                                            3091100   \n",
       "id                                                                n7rl2y   \n",
       "domain                                               self.CryptoCurrency   \n",
       "no_follow                                                          False   \n",
       "send_replies                                                       False   \n",
       "author_fullname                                                 t2_eeu0q   \n",
       "subreddit_id                                                    t5_2wlj3   \n",
       "permalink              /r/CryptoCurrency/comments/n7rl2y/you_hear_abo...   \n",
       "url                    https://www.reddit.com/r/CryptoCurrency/commen...   \n",
       "Date                                                 2021-05-08 17:28:35   \n",
       "author_created                                       2013-12-18 09:08:30   \n",
       "year                                                                2021   \n",
       "month                                                                  5   \n",
       "month_name                                                           May   \n",
       "day                                                                    8   \n",
       "day_name                                                        Saturday   \n",
       "week                                                                  18   \n",
       "day_of_week                                                            5   \n",
       "hour                                                                  17   \n",
       "minute                                                                28   \n",
       "Volume                                                                 1   \n",
       "kpi1                                                               56493   \n",
       "comment_score                                                      49026   \n",
       "comments               You also don’t hear about me turning my $20 in...   \n",
       "\n",
       "                                                                 1547559  \\\n",
       "created                                              2021-05-31 12:01:31   \n",
       "author                                                       jasonluxton   \n",
       "num_comments                                                        7539   \n",
       "score                                                              43785   \n",
       "title                  Binance CEO, CZ, shades Elon Musk in tweet. - ...   \n",
       "selftext                                                             NaN   \n",
       "subreddit                                                 CryptoCurrency   \n",
       "subreddit_subscribers                                            3093308   \n",
       "id                                                                noztp7   \n",
       "domain                                                     coinquora.com   \n",
       "no_follow                                                          False   \n",
       "send_replies                                                        True   \n",
       "author_fullname                                              t2_8abdg36w   \n",
       "subreddit_id                                                    t5_2wlj3   \n",
       "permalink              /r/CryptoCurrency/comments/noztp7/binance_ceo_...   \n",
       "url                    https://coinquora.com/binance-ceo-weighs-in-on...   \n",
       "Date                                                 2021-05-31 12:01:31   \n",
       "author_created                                       2020-10-27 17:30:21   \n",
       "year                                                                2021   \n",
       "month                                                                  5   \n",
       "month_name                                                           May   \n",
       "day                                                                   31   \n",
       "day_name                                                          Monday   \n",
       "week                                                                  22   \n",
       "day_of_week                                                            0   \n",
       "hour                                                                  12   \n",
       "minute                                                                 1   \n",
       "Volume                                                                 1   \n",
       "kpi1                                                               51324   \n",
       "comment_score                                                      16690   \n",
       "comments               Get ready for another dip when elon claps back...   \n",
       "\n",
       "                                                                 964610   \\\n",
       "created                                              2021-02-08 13:48:45   \n",
       "author                                                     AlphaGrayWolf   \n",
       "num_comments                                                        2954   \n",
       "score                                                              45445   \n",
       "title                  Tesla buys $1.5b in Bitcoin and is looking to ...   \n",
       "selftext                                                             NaN   \n",
       "subreddit                                                        Bitcoin   \n",
       "subreddit_subscribers                                            3070878   \n",
       "id                                                                lfb3mm   \n",
       "domain                                                         v.redd.it   \n",
       "no_follow                                                          False   \n",
       "send_replies                                                        True   \n",
       "author_fullname                                               t2_u4c9x3c   \n",
       "subreddit_id                                                    t5_2s3qj   \n",
       "permalink              /r/Bitcoin/comments/lfb3mm/tesla_buys_15b_in_b...   \n",
       "url                                      https://v.redd.it/gazga81l29g61   \n",
       "Date                                                 2021-02-08 13:48:45   \n",
       "author_created                                       2018-01-27 23:07:31   \n",
       "year                                                                2021   \n",
       "month                                                                  2   \n",
       "month_name                                                           Feb   \n",
       "day                                                                    8   \n",
       "day_name                                                          Monday   \n",
       "week                                                                   6   \n",
       "day_of_week                                                            0   \n",
       "hour                                                                  13   \n",
       "minute                                                                48   \n",
       "Volume                                                                 1   \n",
       "kpi1                                                               48399   \n",
       "comment_score                                                      17477   \n",
       "comments               This is how it begins.The price just jumped ab...   \n",
       "\n",
       "                                                                 935676   \n",
       "created                                              2021-02-04 13:02:16  \n",
       "author                                                         [deleted]  \n",
       "num_comments                                                        3659  \n",
       "score                                                              39951  \n",
       "title                  Elon Musk reminds me of a rich billionaire who...  \n",
       "selftext                                                       [deleted]  \n",
       "subreddit                                                 CryptoCurrency  \n",
       "subreddit_subscribers                                            3082709  \n",
       "id                                                                lce6zm  \n",
       "domain                                               self.CryptoCurrency  \n",
       "no_follow                                                          False  \n",
       "send_replies                                                       False  \n",
       "author_fullname                                                      NaN  \n",
       "subreddit_id                                                    t5_2wlj3  \n",
       "permalink              /r/CryptoCurrency/comments/lce6zm/elon_musk_re...  \n",
       "url                    https://www.reddit.com/r/CryptoCurrency/commen...  \n",
       "Date                                                 2021-02-04 13:02:16  \n",
       "author_created                                                       NaN  \n",
       "year                                                                2021  \n",
       "month                                                                  2  \n",
       "month_name                                                           Feb  \n",
       "day                                                                    4  \n",
       "day_name                                                        Thursday  \n",
       "week                                                                   5  \n",
       "day_of_week                                                            3  \n",
       "hour                                                                  13  \n",
       "minute                                                                 2  \n",
       "Volume                                                                 1  \n",
       "kpi1                                                               43610  \n",
       "comment_score                                                      20898  \n",
       "comments               If your life savings hinges on a Tweet from a ...  "
      ]
     },
     "execution_count": 4,
     "metadata": {},
     "output_type": "execute_result"
    }
   ],
   "source": [
    "df.head(5).T"
   ]
  },
  {
   "cell_type": "code",
   "execution_count": 59,
   "id": "2e2a0024",
   "metadata": {},
   "outputs": [],
   "source": [
    "import re\n",
    "urlremove = lambda x: re.sub(r'http\\S+', '', x)"
   ]
  },
  {
   "cell_type": "code",
   "execution_count": 72,
   "id": "72c16b88",
   "metadata": {},
   "outputs": [],
   "source": [
    "df['all_text']=df.title.fillna(' ')+' \\\\'+df.selftext.fillna(' ')+' \\\\'+df.comments.fillna(' ')"
   ]
  },
  {
   "cell_type": "code",
   "execution_count": 74,
   "id": "8906a4d1",
   "metadata": {},
   "outputs": [],
   "source": [
    "df.all_text=df.all_text.apply(urlremove)"
   ]
  },
  {
   "cell_type": "code",
   "execution_count": null,
   "id": "22d05aa7",
   "metadata": {},
   "outputs": [],
   "source": []
  },
  {
   "cell_type": "code",
   "execution_count": null,
   "id": "6b6b044f",
   "metadata": {},
   "outputs": [],
   "source": []
  },
  {
   "cell_type": "code",
   "execution_count": 61,
   "id": "c981e433",
   "metadata": {},
   "outputs": [],
   "source": []
  },
  {
   "cell_type": "code",
   "execution_count": 80,
   "id": "d93e8ab4",
   "metadata": {},
   "outputs": [
    {
     "name": "stderr",
     "output_type": "stream",
     "text": [
      "100%|██████████████████████████████████████████████████████████████████████| 1600000/1600000 [04:55<00:00, 5410.27it/s]\n",
      "100%|███████████████████████████████████████████████████████████████████| 1600000/1600000 [00:01<00:00, 1128661.40it/s]\n"
     ]
    }
   ],
   "source": [
    "import nltk\n",
    "wn = nltk.WordNetLemmatizer()\n",
    "ps = nltk.PorterStemmer()\n",
    "from nltk.corpus import stopwords\n",
    "cached_stopwords=stopwords.words('english')\n",
    "def clean_text(text):\n",
    "    text=regex_magic(text).lower()\n",
    "    text= re.sub('[0-9]+', '', text)#removed numbers\n",
    "    tokens = re.split('\\W+', text)    # tokenization\n",
    "    text = [ps.stem(word) for word in tokens if word not in cached_stopwords]  # remove stopwords and stemming\n",
    "    text = [wn.lemmatize(word) for word in text]\n",
    "    return text\n",
    "from tqdm import tqdm\n",
    "tqdm.pandas()\n",
    "\n",
    "regex_magic= lambda x: ' '.join(re.sub(\"(#[A-Za-z0-9]+)|(@[A-Za-z0-9]+)|([^0-9A-Za-z \\t])|(\\w+:\\/\\/\\S+)\",\" \",x).split())\n",
    "# Importing the dataset\n",
    "sent140 = pd.read_csv(r\"D:\\DTU\\Semester 3 - Fall 2020\\Social Graphs and Interactions\\__Final Project__\\Data Proofs\\trainingandtestdata\\sentiment140.csv\",\n",
    "                      encoding=\"ISO-8859-1\" , names=[\"sentiment\", \"ids\", \"date\", \"flag\", \"user\", \"text\"])\n",
    "#taking the columns that we need\n",
    "sent140 = sent140[['sentiment','text']]\n",
    "sent140['sentiment'] = sent140['sentiment'].replace(4,1)\n",
    "#preprocessing the text\n",
    "sent140['text_clean']=sent140.text.progress_apply(clean_text)\n",
    "sent140['text_clean_join']=sent140.text_clean.progress_apply(lambda x: ' '.join(x))"
   ]
  },
  {
   "cell_type": "code",
   "execution_count": 82,
   "id": "3cd2853d",
   "metadata": {},
   "outputs": [],
   "source": [
    "from sklearn.model_selection import train_test_split\n",
    "\n",
    "X_train, X_test, y_train, y_test = train_test_split(sent140['text_clean_join'],\n",
    "                                                    sent140.sentiment,\n",
    "                                                    test_size = 0.05, random_state = 42)\n",
    "word2vec = TfidfVectorizer(ngram_range=(1,2), max_features=50000)\n",
    "word2vec.fit(X_train)\n",
    "X_train = word2vec.transform(X_train)\n",
    "X_test  = word2vec.transform(X_test)"
   ]
  },
  {
   "cell_type": "code",
   "execution_count": 83,
   "id": "862b1a60",
   "metadata": {},
   "outputs": [],
   "source": [
    "import _pickle as cPickle\n",
    "# load it again\n",
    "with open(r\"C:\\Users\\Ben\\Desktop\\Diplomatiki\\CryptoSent\\Sentiment Models\\my_dumped_classifier.pkl\", 'rb') as fid:\n",
    "    lr_clf = cPickle.load(fid)"
   ]
  },
  {
   "cell_type": "code",
   "execution_count": 84,
   "id": "c7df9a9d",
   "metadata": {},
   "outputs": [],
   "source": [
    "# Getting the sentiment of the Tweets\n",
    "def get_sentiment(text):\n",
    "    text=word2vec.transform([text])\n",
    "    neg,pos=lr_clf.predict_proba(text)[0]\n",
    "    if neg>.6:\n",
    "        sentiment='Negative'\n",
    "    elif pos>.6:\n",
    "        sentiment='Positive'\n",
    "    else:\n",
    "        sentiment='Netural'\n",
    "    return neg,pos,sentiment\n",
    "\n",
    "list2doc=lambda x: ' '.join(x)"
   ]
  },
  {
   "cell_type": "code",
   "execution_count": 97,
   "id": "a17a2327",
   "metadata": {},
   "outputs": [
    {
     "name": "stderr",
     "output_type": "stream",
     "text": [
      "100%|████████████████████████████████████████████████████████████████████████████| 18408/18408 [03:26<00:00, 89.23it/s]\n"
     ]
    }
   ],
   "source": [
    "df['text_processed']=df['all_text'].progress_apply(lambda x: list2doc(clean_text(x)))"
   ]
  },
  {
   "cell_type": "code",
   "execution_count": 98,
   "id": "8d43008d",
   "metadata": {},
   "outputs": [
    {
     "name": "stderr",
     "output_type": "stream",
     "text": [
      "100%|███████████████████████████████████████████████████████████████████████████| 18408/18408 [00:38<00:00, 474.36it/s]\n"
     ]
    }
   ],
   "source": [
    "df['sent_dict']=df.all_text.progress_apply(get_sentiment)"
   ]
  },
  {
   "cell_type": "code",
   "execution_count": 99,
   "id": "c4447513",
   "metadata": {},
   "outputs": [
    {
     "name": "stderr",
     "output_type": "stream",
     "text": [
      "100%|████████████████████████████████████████████████████████████████████████| 18408/18408 [00:00<00:00, 642950.81it/s]\n"
     ]
    }
   ],
   "source": [
    "# claculating and normalizing the polarity or in other words the confidence of the model's prediction\n",
    "pos=df.sent_dict.apply(lambda x: x[1]).tolist()\n",
    "neg=df.sent_dict.apply(lambda x: x[0]).tolist()\n",
    "pos_max=max(pos)\n",
    "pos_min=min(pos)\n",
    "def normalize_polarity(x):\n",
    "    avg=(pos_max+pos_min)/2\n",
    "    ran=(pos_max-pos_min)/2\n",
    "    return (x-avg)/ran\n",
    "\n",
    "df['polarity']=df.sent_dict.progress_apply(lambda x: normalize_polarity(x[1]))\n",
    "df['sentiment']=df.sent_dict.apply(lambda x: x[2])"
   ]
  },
  {
   "cell_type": "code",
   "execution_count": 106,
   "id": "eee42b41",
   "metadata": {},
   "outputs": [],
   "source": [
    "df.index=pd.to_datetime(df.created)"
   ]
  },
  {
   "cell_type": "code",
   "execution_count": 112,
   "id": "703c43b0",
   "metadata": {},
   "outputs": [],
   "source": []
  },
  {
   "cell_type": "code",
   "execution_count": null,
   "id": "a479b32b",
   "metadata": {},
   "outputs": [],
   "source": []
  },
  {
   "cell_type": "code",
   "execution_count": null,
   "id": "22667252",
   "metadata": {},
   "outputs": [],
   "source": []
  },
  {
   "cell_type": "code",
   "execution_count": null,
   "id": "361461c8",
   "metadata": {},
   "outputs": [],
   "source": []
  },
  {
   "cell_type": "code",
   "execution_count": null,
   "id": "6820d8eb",
   "metadata": {},
   "outputs": [],
   "source": []
  },
  {
   "cell_type": "markdown",
   "id": "92456a6f",
   "metadata": {},
   "source": [
    "# Comparison"
   ]
  },
  {
   "cell_type": "code",
   "execution_count": 90,
   "id": "66ffdac6",
   "metadata": {},
   "outputs": [],
   "source": [
    "import plotly.graph_objects as go\n",
    "from plotly.subplots import make_subplots\n"
   ]
  },
  {
   "cell_type": "code",
   "execution_count": 174,
   "id": "a6883168",
   "metadata": {},
   "outputs": [
    {
     "data": {
      "text/html": [
       "<style>.container { width:98% !important; }</style>"
      ],
      "text/plain": [
       "<IPython.core.display.HTML object>"
      ]
     },
     "metadata": {},
     "output_type": "display_data"
    }
   ],
   "source": [
    "from IPython.core.display import display, HTML\n",
    "display(HTML(\"<style>.container { width:98% !important; }</style>\"))"
   ]
  },
  {
   "cell_type": "code",
   "execution_count": 248,
   "id": "5243a520",
   "metadata": {},
   "outputs": [
    {
     "data": {
      "application/vnd.plotly.v1+json": {
       "config": {
        "plotlyServerURL": "https://plot.ly"
       },
       "data": [
        {
         "name": "LR-Model",
         "type": "scatter",
         "x": [
          "2019-01-31T00:00:00",
          "2019-02-28T00:00:00",
          "2019-03-31T00:00:00",
          "2019-04-30T00:00:00",
          "2019-05-31T00:00:00",
          "2019-06-30T00:00:00",
          "2019-07-31T00:00:00",
          "2019-08-31T00:00:00",
          "2019-09-30T00:00:00",
          "2019-10-31T00:00:00",
          "2019-11-30T00:00:00",
          "2019-12-31T00:00:00",
          "2020-01-31T00:00:00",
          "2020-02-29T00:00:00",
          "2020-03-31T00:00:00",
          "2020-04-30T00:00:00",
          "2020-05-31T00:00:00",
          "2020-06-30T00:00:00",
          "2020-07-31T00:00:00",
          "2020-08-31T00:00:00",
          "2020-09-30T00:00:00",
          "2020-10-31T00:00:00",
          "2020-11-30T00:00:00",
          "2020-12-31T00:00:00",
          "2021-01-31T00:00:00",
          "2021-02-28T00:00:00",
          "2021-03-31T00:00:00",
          "2021-04-30T00:00:00",
          "2021-05-31T00:00:00",
          "2021-06-30T00:00:00",
          "2021-07-31T00:00:00"
         ],
         "xaxis": "x",
         "y": [
          20.779563384856072,
          21.46747151092878,
          23.066785240697282,
          22.011933320824607,
          35.39927925478023,
          45.55387322462339,
          35.65001187286396,
          22.381707279890815,
          14.995540835320124,
          16.026772394454106,
          5.114608912736398,
          8.637354561430556,
          7.358740573848663,
          18.485399117918014,
          -5.728914344237319,
          9.856838348861192,
          32.40957122502222,
          15.72498425581339,
          24.197188866182422,
          24.55353115318917,
          18.292106511900855,
          32.97294848203873,
          61.021488669317,
          64.56030844006736,
          91.00400991379061,
          241.99653265502562,
          168.57738965232582,
          201.6774281142426,
          160.19117243011922,
          137.78185424650394,
          0.40487552595159926
         ],
         "yaxis": "y"
        },
        {
         "name": "Bit Coin Avg",
         "type": "scatter",
         "x": [
          "2019-01-31T00:00:00",
          "2019-02-28T00:00:00",
          "2019-03-31T00:00:00",
          "2019-04-30T00:00:00",
          "2019-05-31T00:00:00",
          "2019-06-30T00:00:00",
          "2019-07-31T00:00:00",
          "2019-08-31T00:00:00",
          "2019-09-30T00:00:00",
          "2019-10-31T00:00:00",
          "2019-11-30T00:00:00",
          "2019-12-31T00:00:00",
          "2020-01-31T00:00:00",
          "2020-02-29T00:00:00",
          "2020-03-31T00:00:00",
          "2020-04-30T00:00:00",
          "2020-05-31T00:00:00",
          "2020-06-30T00:00:00",
          "2020-07-31T00:00:00",
          "2020-08-31T00:00:00",
          "2020-09-30T00:00:00",
          "2020-10-31T00:00:00",
          "2020-11-30T00:00:00",
          "2020-12-31T00:00:00",
          "2021-01-31T00:00:00",
          "2021-02-28T00:00:00",
          "2021-03-31T00:00:00",
          "2021-04-30T00:00:00",
          "2021-05-31T00:00:00",
          "2021-06-30T00:00:00"
         ],
         "xaxis": "x",
         "y": [
          3705.774803040484,
          3706.226453932679,
          3973.378574005484,
          5166.545432111667,
          7256.903943099354,
          9380.559000553667,
          10658.067751822418,
          10623.83707102613,
          9810.365057323834,
          8413.456251312742,
          8394.0576105825,
          7293.193654773871,
          8346.657953475808,
          9632.299379886379,
          6901.250989656291,
          7198.883647778333,
          9250.028769511451,
          9474.632454854333,
          9553.483777092742,
          11640.570051635485,
          10657.460701307666,
          11833.462278371451,
          16505.027549000333,
          21792.023838828387,
          34456.106486899684,
          45953.896009757686,
          54607.556857171774,
          57080.80656031083,
          46604.78594898194,
          35735.34157836567
         ],
         "yaxis": "y2"
        }
       ],
       "layout": {
        "template": {
         "data": {
          "bar": [
           {
            "error_x": {
             "color": "#2a3f5f"
            },
            "error_y": {
             "color": "#2a3f5f"
            },
            "marker": {
             "line": {
              "color": "#E5ECF6",
              "width": 0.5
             }
            },
            "type": "bar"
           }
          ],
          "barpolar": [
           {
            "marker": {
             "line": {
              "color": "#E5ECF6",
              "width": 0.5
             }
            },
            "type": "barpolar"
           }
          ],
          "carpet": [
           {
            "aaxis": {
             "endlinecolor": "#2a3f5f",
             "gridcolor": "white",
             "linecolor": "white",
             "minorgridcolor": "white",
             "startlinecolor": "#2a3f5f"
            },
            "baxis": {
             "endlinecolor": "#2a3f5f",
             "gridcolor": "white",
             "linecolor": "white",
             "minorgridcolor": "white",
             "startlinecolor": "#2a3f5f"
            },
            "type": "carpet"
           }
          ],
          "choropleth": [
           {
            "colorbar": {
             "outlinewidth": 0,
             "ticks": ""
            },
            "type": "choropleth"
           }
          ],
          "contour": [
           {
            "colorbar": {
             "outlinewidth": 0,
             "ticks": ""
            },
            "colorscale": [
             [
              0,
              "#0d0887"
             ],
             [
              0.1111111111111111,
              "#46039f"
             ],
             [
              0.2222222222222222,
              "#7201a8"
             ],
             [
              0.3333333333333333,
              "#9c179e"
             ],
             [
              0.4444444444444444,
              "#bd3786"
             ],
             [
              0.5555555555555556,
              "#d8576b"
             ],
             [
              0.6666666666666666,
              "#ed7953"
             ],
             [
              0.7777777777777778,
              "#fb9f3a"
             ],
             [
              0.8888888888888888,
              "#fdca26"
             ],
             [
              1,
              "#f0f921"
             ]
            ],
            "type": "contour"
           }
          ],
          "contourcarpet": [
           {
            "colorbar": {
             "outlinewidth": 0,
             "ticks": ""
            },
            "type": "contourcarpet"
           }
          ],
          "heatmap": [
           {
            "colorbar": {
             "outlinewidth": 0,
             "ticks": ""
            },
            "colorscale": [
             [
              0,
              "#0d0887"
             ],
             [
              0.1111111111111111,
              "#46039f"
             ],
             [
              0.2222222222222222,
              "#7201a8"
             ],
             [
              0.3333333333333333,
              "#9c179e"
             ],
             [
              0.4444444444444444,
              "#bd3786"
             ],
             [
              0.5555555555555556,
              "#d8576b"
             ],
             [
              0.6666666666666666,
              "#ed7953"
             ],
             [
              0.7777777777777778,
              "#fb9f3a"
             ],
             [
              0.8888888888888888,
              "#fdca26"
             ],
             [
              1,
              "#f0f921"
             ]
            ],
            "type": "heatmap"
           }
          ],
          "heatmapgl": [
           {
            "colorbar": {
             "outlinewidth": 0,
             "ticks": ""
            },
            "colorscale": [
             [
              0,
              "#0d0887"
             ],
             [
              0.1111111111111111,
              "#46039f"
             ],
             [
              0.2222222222222222,
              "#7201a8"
             ],
             [
              0.3333333333333333,
              "#9c179e"
             ],
             [
              0.4444444444444444,
              "#bd3786"
             ],
             [
              0.5555555555555556,
              "#d8576b"
             ],
             [
              0.6666666666666666,
              "#ed7953"
             ],
             [
              0.7777777777777778,
              "#fb9f3a"
             ],
             [
              0.8888888888888888,
              "#fdca26"
             ],
             [
              1,
              "#f0f921"
             ]
            ],
            "type": "heatmapgl"
           }
          ],
          "histogram": [
           {
            "marker": {
             "colorbar": {
              "outlinewidth": 0,
              "ticks": ""
             }
            },
            "type": "histogram"
           }
          ],
          "histogram2d": [
           {
            "colorbar": {
             "outlinewidth": 0,
             "ticks": ""
            },
            "colorscale": [
             [
              0,
              "#0d0887"
             ],
             [
              0.1111111111111111,
              "#46039f"
             ],
             [
              0.2222222222222222,
              "#7201a8"
             ],
             [
              0.3333333333333333,
              "#9c179e"
             ],
             [
              0.4444444444444444,
              "#bd3786"
             ],
             [
              0.5555555555555556,
              "#d8576b"
             ],
             [
              0.6666666666666666,
              "#ed7953"
             ],
             [
              0.7777777777777778,
              "#fb9f3a"
             ],
             [
              0.8888888888888888,
              "#fdca26"
             ],
             [
              1,
              "#f0f921"
             ]
            ],
            "type": "histogram2d"
           }
          ],
          "histogram2dcontour": [
           {
            "colorbar": {
             "outlinewidth": 0,
             "ticks": ""
            },
            "colorscale": [
             [
              0,
              "#0d0887"
             ],
             [
              0.1111111111111111,
              "#46039f"
             ],
             [
              0.2222222222222222,
              "#7201a8"
             ],
             [
              0.3333333333333333,
              "#9c179e"
             ],
             [
              0.4444444444444444,
              "#bd3786"
             ],
             [
              0.5555555555555556,
              "#d8576b"
             ],
             [
              0.6666666666666666,
              "#ed7953"
             ],
             [
              0.7777777777777778,
              "#fb9f3a"
             ],
             [
              0.8888888888888888,
              "#fdca26"
             ],
             [
              1,
              "#f0f921"
             ]
            ],
            "type": "histogram2dcontour"
           }
          ],
          "mesh3d": [
           {
            "colorbar": {
             "outlinewidth": 0,
             "ticks": ""
            },
            "type": "mesh3d"
           }
          ],
          "parcoords": [
           {
            "line": {
             "colorbar": {
              "outlinewidth": 0,
              "ticks": ""
             }
            },
            "type": "parcoords"
           }
          ],
          "pie": [
           {
            "automargin": true,
            "type": "pie"
           }
          ],
          "scatter": [
           {
            "marker": {
             "colorbar": {
              "outlinewidth": 0,
              "ticks": ""
             }
            },
            "type": "scatter"
           }
          ],
          "scatter3d": [
           {
            "line": {
             "colorbar": {
              "outlinewidth": 0,
              "ticks": ""
             }
            },
            "marker": {
             "colorbar": {
              "outlinewidth": 0,
              "ticks": ""
             }
            },
            "type": "scatter3d"
           }
          ],
          "scattercarpet": [
           {
            "marker": {
             "colorbar": {
              "outlinewidth": 0,
              "ticks": ""
             }
            },
            "type": "scattercarpet"
           }
          ],
          "scattergeo": [
           {
            "marker": {
             "colorbar": {
              "outlinewidth": 0,
              "ticks": ""
             }
            },
            "type": "scattergeo"
           }
          ],
          "scattergl": [
           {
            "marker": {
             "colorbar": {
              "outlinewidth": 0,
              "ticks": ""
             }
            },
            "type": "scattergl"
           }
          ],
          "scattermapbox": [
           {
            "marker": {
             "colorbar": {
              "outlinewidth": 0,
              "ticks": ""
             }
            },
            "type": "scattermapbox"
           }
          ],
          "scatterpolar": [
           {
            "marker": {
             "colorbar": {
              "outlinewidth": 0,
              "ticks": ""
             }
            },
            "type": "scatterpolar"
           }
          ],
          "scatterpolargl": [
           {
            "marker": {
             "colorbar": {
              "outlinewidth": 0,
              "ticks": ""
             }
            },
            "type": "scatterpolargl"
           }
          ],
          "scatterternary": [
           {
            "marker": {
             "colorbar": {
              "outlinewidth": 0,
              "ticks": ""
             }
            },
            "type": "scatterternary"
           }
          ],
          "surface": [
           {
            "colorbar": {
             "outlinewidth": 0,
             "ticks": ""
            },
            "colorscale": [
             [
              0,
              "#0d0887"
             ],
             [
              0.1111111111111111,
              "#46039f"
             ],
             [
              0.2222222222222222,
              "#7201a8"
             ],
             [
              0.3333333333333333,
              "#9c179e"
             ],
             [
              0.4444444444444444,
              "#bd3786"
             ],
             [
              0.5555555555555556,
              "#d8576b"
             ],
             [
              0.6666666666666666,
              "#ed7953"
             ],
             [
              0.7777777777777778,
              "#fb9f3a"
             ],
             [
              0.8888888888888888,
              "#fdca26"
             ],
             [
              1,
              "#f0f921"
             ]
            ],
            "type": "surface"
           }
          ],
          "table": [
           {
            "cells": {
             "fill": {
              "color": "#EBF0F8"
             },
             "line": {
              "color": "white"
             }
            },
            "header": {
             "fill": {
              "color": "#C8D4E3"
             },
             "line": {
              "color": "white"
             }
            },
            "type": "table"
           }
          ]
         },
         "layout": {
          "annotationdefaults": {
           "arrowcolor": "#2a3f5f",
           "arrowhead": 0,
           "arrowwidth": 1
          },
          "coloraxis": {
           "colorbar": {
            "outlinewidth": 0,
            "ticks": ""
           }
          },
          "colorscale": {
           "diverging": [
            [
             0,
             "#8e0152"
            ],
            [
             0.1,
             "#c51b7d"
            ],
            [
             0.2,
             "#de77ae"
            ],
            [
             0.3,
             "#f1b6da"
            ],
            [
             0.4,
             "#fde0ef"
            ],
            [
             0.5,
             "#f7f7f7"
            ],
            [
             0.6,
             "#e6f5d0"
            ],
            [
             0.7,
             "#b8e186"
            ],
            [
             0.8,
             "#7fbc41"
            ],
            [
             0.9,
             "#4d9221"
            ],
            [
             1,
             "#276419"
            ]
           ],
           "sequential": [
            [
             0,
             "#0d0887"
            ],
            [
             0.1111111111111111,
             "#46039f"
            ],
            [
             0.2222222222222222,
             "#7201a8"
            ],
            [
             0.3333333333333333,
             "#9c179e"
            ],
            [
             0.4444444444444444,
             "#bd3786"
            ],
            [
             0.5555555555555556,
             "#d8576b"
            ],
            [
             0.6666666666666666,
             "#ed7953"
            ],
            [
             0.7777777777777778,
             "#fb9f3a"
            ],
            [
             0.8888888888888888,
             "#fdca26"
            ],
            [
             1,
             "#f0f921"
            ]
           ],
           "sequentialminus": [
            [
             0,
             "#0d0887"
            ],
            [
             0.1111111111111111,
             "#46039f"
            ],
            [
             0.2222222222222222,
             "#7201a8"
            ],
            [
             0.3333333333333333,
             "#9c179e"
            ],
            [
             0.4444444444444444,
             "#bd3786"
            ],
            [
             0.5555555555555556,
             "#d8576b"
            ],
            [
             0.6666666666666666,
             "#ed7953"
            ],
            [
             0.7777777777777778,
             "#fb9f3a"
            ],
            [
             0.8888888888888888,
             "#fdca26"
            ],
            [
             1,
             "#f0f921"
            ]
           ]
          },
          "colorway": [
           "#636efa",
           "#EF553B",
           "#00cc96",
           "#ab63fa",
           "#FFA15A",
           "#19d3f3",
           "#FF6692",
           "#B6E880",
           "#FF97FF",
           "#FECB52"
          ],
          "font": {
           "color": "#2a3f5f"
          },
          "geo": {
           "bgcolor": "white",
           "lakecolor": "white",
           "landcolor": "#E5ECF6",
           "showlakes": true,
           "showland": true,
           "subunitcolor": "white"
          },
          "hoverlabel": {
           "align": "left"
          },
          "hovermode": "closest",
          "mapbox": {
           "style": "light"
          },
          "paper_bgcolor": "white",
          "plot_bgcolor": "#E5ECF6",
          "polar": {
           "angularaxis": {
            "gridcolor": "white",
            "linecolor": "white",
            "ticks": ""
           },
           "bgcolor": "#E5ECF6",
           "radialaxis": {
            "gridcolor": "white",
            "linecolor": "white",
            "ticks": ""
           }
          },
          "scene": {
           "xaxis": {
            "backgroundcolor": "#E5ECF6",
            "gridcolor": "white",
            "gridwidth": 2,
            "linecolor": "white",
            "showbackground": true,
            "ticks": "",
            "zerolinecolor": "white"
           },
           "yaxis": {
            "backgroundcolor": "#E5ECF6",
            "gridcolor": "white",
            "gridwidth": 2,
            "linecolor": "white",
            "showbackground": true,
            "ticks": "",
            "zerolinecolor": "white"
           },
           "zaxis": {
            "backgroundcolor": "#E5ECF6",
            "gridcolor": "white",
            "gridwidth": 2,
            "linecolor": "white",
            "showbackground": true,
            "ticks": "",
            "zerolinecolor": "white"
           }
          },
          "shapedefaults": {
           "line": {
            "color": "#2a3f5f"
           }
          },
          "ternary": {
           "aaxis": {
            "gridcolor": "white",
            "linecolor": "white",
            "ticks": ""
           },
           "baxis": {
            "gridcolor": "white",
            "linecolor": "white",
            "ticks": ""
           },
           "bgcolor": "#E5ECF6",
           "caxis": {
            "gridcolor": "white",
            "linecolor": "white",
            "ticks": ""
           }
          },
          "title": {
           "x": 0.05
          },
          "xaxis": {
           "automargin": true,
           "gridcolor": "white",
           "linecolor": "white",
           "ticks": "",
           "title": {
            "standoff": 15
           },
           "zerolinecolor": "white",
           "zerolinewidth": 2
          },
          "yaxis": {
           "automargin": true,
           "gridcolor": "white",
           "linecolor": "white",
           "ticks": "",
           "title": {
            "standoff": 15
           },
           "zerolinecolor": "white",
           "zerolinewidth": 2
          }
         }
        },
        "title": {
         "text": "BTC vs LR Sentiment Model - Weekly"
        },
        "xaxis": {
         "anchor": "y",
         "domain": [
          0,
          0.94
         ],
         "title": {
          "text": "Date"
         }
        },
        "yaxis": {
         "anchor": "x",
         "domain": [
          0,
          1
         ],
         "title": {
          "text": "<b>Sentiment Polarity </b>"
         }
        },
        "yaxis2": {
         "anchor": "x",
         "overlaying": "y",
         "side": "right",
         "title": {
          "text": "<b>BTC Price</b>"
         }
        }
       }
      },
      "text/html": [
       "<div>                            <div id=\"c6f4b5a6-6eed-422e-9409-434cb3dc4c86\" class=\"plotly-graph-div\" style=\"height:525px; width:100%;\"></div>            <script type=\"text/javascript\">                require([\"plotly\"], function(Plotly) {                    window.PLOTLYENV=window.PLOTLYENV || {};                                    if (document.getElementById(\"c6f4b5a6-6eed-422e-9409-434cb3dc4c86\")) {                    Plotly.newPlot(                        \"c6f4b5a6-6eed-422e-9409-434cb3dc4c86\",                        [{\"name\": \"LR-Model\", \"type\": \"scatter\", \"x\": [\"2019-01-31T00:00:00\", \"2019-02-28T00:00:00\", \"2019-03-31T00:00:00\", \"2019-04-30T00:00:00\", \"2019-05-31T00:00:00\", \"2019-06-30T00:00:00\", \"2019-07-31T00:00:00\", \"2019-08-31T00:00:00\", \"2019-09-30T00:00:00\", \"2019-10-31T00:00:00\", \"2019-11-30T00:00:00\", \"2019-12-31T00:00:00\", \"2020-01-31T00:00:00\", \"2020-02-29T00:00:00\", \"2020-03-31T00:00:00\", \"2020-04-30T00:00:00\", \"2020-05-31T00:00:00\", \"2020-06-30T00:00:00\", \"2020-07-31T00:00:00\", \"2020-08-31T00:00:00\", \"2020-09-30T00:00:00\", \"2020-10-31T00:00:00\", \"2020-11-30T00:00:00\", \"2020-12-31T00:00:00\", \"2021-01-31T00:00:00\", \"2021-02-28T00:00:00\", \"2021-03-31T00:00:00\", \"2021-04-30T00:00:00\", \"2021-05-31T00:00:00\", \"2021-06-30T00:00:00\", \"2021-07-31T00:00:00\"], \"xaxis\": \"x\", \"y\": [20.779563384856072, 21.46747151092878, 23.066785240697282, 22.011933320824607, 35.39927925478023, 45.55387322462339, 35.65001187286396, 22.381707279890815, 14.995540835320124, 16.026772394454106, 5.114608912736398, 8.637354561430556, 7.358740573848663, 18.485399117918014, -5.728914344237319, 9.856838348861192, 32.40957122502222, 15.72498425581339, 24.197188866182422, 24.55353115318917, 18.292106511900855, 32.97294848203873, 61.021488669317, 64.56030844006736, 91.00400991379061, 241.99653265502562, 168.57738965232582, 201.6774281142426, 160.19117243011922, 137.78185424650394, 0.40487552595159926], \"yaxis\": \"y\"}, {\"name\": \"Bit Coin Avg\", \"type\": \"scatter\", \"x\": [\"2019-01-31T00:00:00\", \"2019-02-28T00:00:00\", \"2019-03-31T00:00:00\", \"2019-04-30T00:00:00\", \"2019-05-31T00:00:00\", \"2019-06-30T00:00:00\", \"2019-07-31T00:00:00\", \"2019-08-31T00:00:00\", \"2019-09-30T00:00:00\", \"2019-10-31T00:00:00\", \"2019-11-30T00:00:00\", \"2019-12-31T00:00:00\", \"2020-01-31T00:00:00\", \"2020-02-29T00:00:00\", \"2020-03-31T00:00:00\", \"2020-04-30T00:00:00\", \"2020-05-31T00:00:00\", \"2020-06-30T00:00:00\", \"2020-07-31T00:00:00\", \"2020-08-31T00:00:00\", \"2020-09-30T00:00:00\", \"2020-10-31T00:00:00\", \"2020-11-30T00:00:00\", \"2020-12-31T00:00:00\", \"2021-01-31T00:00:00\", \"2021-02-28T00:00:00\", \"2021-03-31T00:00:00\", \"2021-04-30T00:00:00\", \"2021-05-31T00:00:00\", \"2021-06-30T00:00:00\"], \"xaxis\": \"x\", \"y\": [3705.774803040484, 3706.226453932679, 3973.378574005484, 5166.545432111667, 7256.903943099354, 9380.559000553667, 10658.067751822418, 10623.83707102613, 9810.365057323834, 8413.456251312742, 8394.0576105825, 7293.193654773871, 8346.657953475808, 9632.299379886379, 6901.250989656291, 7198.883647778333, 9250.028769511451, 9474.632454854333, 9553.483777092742, 11640.570051635485, 10657.460701307666, 11833.462278371451, 16505.027549000333, 21792.023838828387, 34456.106486899684, 45953.896009757686, 54607.556857171774, 57080.80656031083, 46604.78594898194, 35735.34157836567], \"yaxis\": \"y2\"}],                        {\"template\": {\"data\": {\"bar\": [{\"error_x\": {\"color\": \"#2a3f5f\"}, \"error_y\": {\"color\": \"#2a3f5f\"}, \"marker\": {\"line\": {\"color\": \"#E5ECF6\", \"width\": 0.5}}, \"type\": \"bar\"}], \"barpolar\": [{\"marker\": {\"line\": {\"color\": \"#E5ECF6\", \"width\": 0.5}}, \"type\": \"barpolar\"}], \"carpet\": [{\"aaxis\": {\"endlinecolor\": \"#2a3f5f\", \"gridcolor\": \"white\", \"linecolor\": \"white\", \"minorgridcolor\": \"white\", \"startlinecolor\": \"#2a3f5f\"}, \"baxis\": {\"endlinecolor\": \"#2a3f5f\", \"gridcolor\": \"white\", \"linecolor\": \"white\", \"minorgridcolor\": \"white\", \"startlinecolor\": \"#2a3f5f\"}, \"type\": \"carpet\"}], \"choropleth\": [{\"colorbar\": {\"outlinewidth\": 0, \"ticks\": \"\"}, \"type\": \"choropleth\"}], \"contour\": [{\"colorbar\": {\"outlinewidth\": 0, \"ticks\": \"\"}, \"colorscale\": [[0.0, \"#0d0887\"], [0.1111111111111111, \"#46039f\"], [0.2222222222222222, \"#7201a8\"], [0.3333333333333333, \"#9c179e\"], [0.4444444444444444, \"#bd3786\"], [0.5555555555555556, \"#d8576b\"], [0.6666666666666666, \"#ed7953\"], [0.7777777777777778, \"#fb9f3a\"], [0.8888888888888888, \"#fdca26\"], [1.0, \"#f0f921\"]], \"type\": \"contour\"}], \"contourcarpet\": [{\"colorbar\": {\"outlinewidth\": 0, \"ticks\": \"\"}, \"type\": \"contourcarpet\"}], \"heatmap\": [{\"colorbar\": {\"outlinewidth\": 0, \"ticks\": \"\"}, \"colorscale\": [[0.0, \"#0d0887\"], [0.1111111111111111, \"#46039f\"], [0.2222222222222222, \"#7201a8\"], [0.3333333333333333, \"#9c179e\"], [0.4444444444444444, \"#bd3786\"], [0.5555555555555556, \"#d8576b\"], [0.6666666666666666, \"#ed7953\"], [0.7777777777777778, \"#fb9f3a\"], [0.8888888888888888, \"#fdca26\"], [1.0, \"#f0f921\"]], \"type\": \"heatmap\"}], \"heatmapgl\": [{\"colorbar\": {\"outlinewidth\": 0, \"ticks\": \"\"}, \"colorscale\": [[0.0, \"#0d0887\"], [0.1111111111111111, \"#46039f\"], [0.2222222222222222, \"#7201a8\"], [0.3333333333333333, \"#9c179e\"], [0.4444444444444444, \"#bd3786\"], [0.5555555555555556, \"#d8576b\"], [0.6666666666666666, \"#ed7953\"], [0.7777777777777778, \"#fb9f3a\"], [0.8888888888888888, \"#fdca26\"], [1.0, \"#f0f921\"]], \"type\": \"heatmapgl\"}], \"histogram\": [{\"marker\": {\"colorbar\": {\"outlinewidth\": 0, \"ticks\": \"\"}}, \"type\": \"histogram\"}], \"histogram2d\": [{\"colorbar\": {\"outlinewidth\": 0, \"ticks\": \"\"}, \"colorscale\": [[0.0, \"#0d0887\"], [0.1111111111111111, \"#46039f\"], [0.2222222222222222, \"#7201a8\"], [0.3333333333333333, \"#9c179e\"], [0.4444444444444444, \"#bd3786\"], [0.5555555555555556, \"#d8576b\"], [0.6666666666666666, \"#ed7953\"], [0.7777777777777778, \"#fb9f3a\"], [0.8888888888888888, \"#fdca26\"], [1.0, \"#f0f921\"]], \"type\": \"histogram2d\"}], \"histogram2dcontour\": [{\"colorbar\": {\"outlinewidth\": 0, \"ticks\": \"\"}, \"colorscale\": [[0.0, \"#0d0887\"], [0.1111111111111111, \"#46039f\"], [0.2222222222222222, \"#7201a8\"], [0.3333333333333333, \"#9c179e\"], [0.4444444444444444, \"#bd3786\"], [0.5555555555555556, \"#d8576b\"], [0.6666666666666666, \"#ed7953\"], [0.7777777777777778, \"#fb9f3a\"], [0.8888888888888888, \"#fdca26\"], [1.0, \"#f0f921\"]], \"type\": \"histogram2dcontour\"}], \"mesh3d\": [{\"colorbar\": {\"outlinewidth\": 0, \"ticks\": \"\"}, \"type\": \"mesh3d\"}], \"parcoords\": [{\"line\": {\"colorbar\": {\"outlinewidth\": 0, \"ticks\": \"\"}}, \"type\": \"parcoords\"}], \"pie\": [{\"automargin\": true, \"type\": \"pie\"}], \"scatter\": [{\"marker\": {\"colorbar\": {\"outlinewidth\": 0, \"ticks\": \"\"}}, \"type\": \"scatter\"}], \"scatter3d\": [{\"line\": {\"colorbar\": {\"outlinewidth\": 0, \"ticks\": \"\"}}, \"marker\": {\"colorbar\": {\"outlinewidth\": 0, \"ticks\": \"\"}}, \"type\": \"scatter3d\"}], \"scattercarpet\": [{\"marker\": {\"colorbar\": {\"outlinewidth\": 0, \"ticks\": \"\"}}, \"type\": \"scattercarpet\"}], \"scattergeo\": [{\"marker\": {\"colorbar\": {\"outlinewidth\": 0, \"ticks\": \"\"}}, \"type\": \"scattergeo\"}], \"scattergl\": [{\"marker\": {\"colorbar\": {\"outlinewidth\": 0, \"ticks\": \"\"}}, \"type\": \"scattergl\"}], \"scattermapbox\": [{\"marker\": {\"colorbar\": {\"outlinewidth\": 0, \"ticks\": \"\"}}, \"type\": \"scattermapbox\"}], \"scatterpolar\": [{\"marker\": {\"colorbar\": {\"outlinewidth\": 0, \"ticks\": \"\"}}, \"type\": \"scatterpolar\"}], \"scatterpolargl\": [{\"marker\": {\"colorbar\": {\"outlinewidth\": 0, \"ticks\": \"\"}}, \"type\": \"scatterpolargl\"}], \"scatterternary\": [{\"marker\": {\"colorbar\": {\"outlinewidth\": 0, \"ticks\": \"\"}}, \"type\": \"scatterternary\"}], \"surface\": [{\"colorbar\": {\"outlinewidth\": 0, \"ticks\": \"\"}, \"colorscale\": [[0.0, \"#0d0887\"], [0.1111111111111111, \"#46039f\"], [0.2222222222222222, \"#7201a8\"], [0.3333333333333333, \"#9c179e\"], [0.4444444444444444, \"#bd3786\"], [0.5555555555555556, \"#d8576b\"], [0.6666666666666666, \"#ed7953\"], [0.7777777777777778, \"#fb9f3a\"], [0.8888888888888888, \"#fdca26\"], [1.0, \"#f0f921\"]], \"type\": \"surface\"}], \"table\": [{\"cells\": {\"fill\": {\"color\": \"#EBF0F8\"}, \"line\": {\"color\": \"white\"}}, \"header\": {\"fill\": {\"color\": \"#C8D4E3\"}, \"line\": {\"color\": \"white\"}}, \"type\": \"table\"}]}, \"layout\": {\"annotationdefaults\": {\"arrowcolor\": \"#2a3f5f\", \"arrowhead\": 0, \"arrowwidth\": 1}, \"coloraxis\": {\"colorbar\": {\"outlinewidth\": 0, \"ticks\": \"\"}}, \"colorscale\": {\"diverging\": [[0, \"#8e0152\"], [0.1, \"#c51b7d\"], [0.2, \"#de77ae\"], [0.3, \"#f1b6da\"], [0.4, \"#fde0ef\"], [0.5, \"#f7f7f7\"], [0.6, \"#e6f5d0\"], [0.7, \"#b8e186\"], [0.8, \"#7fbc41\"], [0.9, \"#4d9221\"], [1, \"#276419\"]], \"sequential\": [[0.0, \"#0d0887\"], [0.1111111111111111, \"#46039f\"], [0.2222222222222222, \"#7201a8\"], [0.3333333333333333, \"#9c179e\"], [0.4444444444444444, \"#bd3786\"], [0.5555555555555556, \"#d8576b\"], [0.6666666666666666, \"#ed7953\"], [0.7777777777777778, \"#fb9f3a\"], [0.8888888888888888, \"#fdca26\"], [1.0, \"#f0f921\"]], \"sequentialminus\": [[0.0, \"#0d0887\"], [0.1111111111111111, \"#46039f\"], [0.2222222222222222, \"#7201a8\"], [0.3333333333333333, \"#9c179e\"], [0.4444444444444444, \"#bd3786\"], [0.5555555555555556, \"#d8576b\"], [0.6666666666666666, \"#ed7953\"], [0.7777777777777778, \"#fb9f3a\"], [0.8888888888888888, \"#fdca26\"], [1.0, \"#f0f921\"]]}, \"colorway\": [\"#636efa\", \"#EF553B\", \"#00cc96\", \"#ab63fa\", \"#FFA15A\", \"#19d3f3\", \"#FF6692\", \"#B6E880\", \"#FF97FF\", \"#FECB52\"], \"font\": {\"color\": \"#2a3f5f\"}, \"geo\": {\"bgcolor\": \"white\", \"lakecolor\": \"white\", \"landcolor\": \"#E5ECF6\", \"showlakes\": true, \"showland\": true, \"subunitcolor\": \"white\"}, \"hoverlabel\": {\"align\": \"left\"}, \"hovermode\": \"closest\", \"mapbox\": {\"style\": \"light\"}, \"paper_bgcolor\": \"white\", \"plot_bgcolor\": \"#E5ECF6\", \"polar\": {\"angularaxis\": {\"gridcolor\": \"white\", \"linecolor\": \"white\", \"ticks\": \"\"}, \"bgcolor\": \"#E5ECF6\", \"radialaxis\": {\"gridcolor\": \"white\", \"linecolor\": \"white\", \"ticks\": \"\"}}, \"scene\": {\"xaxis\": {\"backgroundcolor\": \"#E5ECF6\", \"gridcolor\": \"white\", \"gridwidth\": 2, \"linecolor\": \"white\", \"showbackground\": true, \"ticks\": \"\", \"zerolinecolor\": \"white\"}, \"yaxis\": {\"backgroundcolor\": \"#E5ECF6\", \"gridcolor\": \"white\", \"gridwidth\": 2, \"linecolor\": \"white\", \"showbackground\": true, \"ticks\": \"\", \"zerolinecolor\": \"white\"}, \"zaxis\": {\"backgroundcolor\": \"#E5ECF6\", \"gridcolor\": \"white\", \"gridwidth\": 2, \"linecolor\": \"white\", \"showbackground\": true, \"ticks\": \"\", \"zerolinecolor\": \"white\"}}, \"shapedefaults\": {\"line\": {\"color\": \"#2a3f5f\"}}, \"ternary\": {\"aaxis\": {\"gridcolor\": \"white\", \"linecolor\": \"white\", \"ticks\": \"\"}, \"baxis\": {\"gridcolor\": \"white\", \"linecolor\": \"white\", \"ticks\": \"\"}, \"bgcolor\": \"#E5ECF6\", \"caxis\": {\"gridcolor\": \"white\", \"linecolor\": \"white\", \"ticks\": \"\"}}, \"title\": {\"x\": 0.05}, \"xaxis\": {\"automargin\": true, \"gridcolor\": \"white\", \"linecolor\": \"white\", \"ticks\": \"\", \"title\": {\"standoff\": 15}, \"zerolinecolor\": \"white\", \"zerolinewidth\": 2}, \"yaxis\": {\"automargin\": true, \"gridcolor\": \"white\", \"linecolor\": \"white\", \"ticks\": \"\", \"title\": {\"standoff\": 15}, \"zerolinecolor\": \"white\", \"zerolinewidth\": 2}}}, \"title\": {\"text\": \"BTC vs LR Sentiment Model - Weekly\"}, \"xaxis\": {\"anchor\": \"y\", \"domain\": [0.0, 0.94], \"title\": {\"text\": \"Date\"}}, \"yaxis\": {\"anchor\": \"x\", \"domain\": [0.0, 1.0], \"title\": {\"text\": \"<b>Sentiment Polarity </b>\"}}, \"yaxis2\": {\"anchor\": \"x\", \"overlaying\": \"y\", \"side\": \"right\", \"title\": {\"text\": \"<b>BTC Price</b>\"}}},                        {\"responsive\": true}                    ).then(function(){\n",
       "                            \n",
       "var gd = document.getElementById('c6f4b5a6-6eed-422e-9409-434cb3dc4c86');\n",
       "var x = new MutationObserver(function (mutations, observer) {{\n",
       "        var display = window.getComputedStyle(gd).display;\n",
       "        if (!display || display === 'none') {{\n",
       "            console.log([gd, 'removed!']);\n",
       "            Plotly.purge(gd);\n",
       "            observer.disconnect();\n",
       "        }}\n",
       "}});\n",
       "\n",
       "// Listen for the removal of the full notebook cells\n",
       "var notebookContainer = gd.closest('#notebook-container');\n",
       "if (notebookContainer) {{\n",
       "    x.observe(notebookContainer, {childList: true});\n",
       "}}\n",
       "\n",
       "// Listen for the clearing of the current output cell\n",
       "var outputEl = gd.closest('.output');\n",
       "if (outputEl) {{\n",
       "    x.observe(outputEl, {childList: true});\n",
       "}}\n",
       "\n",
       "                        })                };                });            </script>        </div>"
      ]
     },
     "metadata": {},
     "output_type": "display_data"
    }
   ],
   "source": [
    "dchunk='m'\n",
    "a=df.resample(dchunk).sum().polarity\n",
    "btc_price=pd.read_csv(r\"C:\\Users\\Ben\\Desktop\\Diplomatiki\\CryptoSent\\Datasets\\other\\coin_Bitcoin.csv\")\n",
    "btc_price.Date=pd.to_datetime(btc_price.Date)\n",
    "btc_price=btc_price.set_index('Date')\n",
    "btc_price['avg_price']=(btc_price.High+btc_price.Low)/2\n",
    "\n",
    "btc_price_avg=btc_price.resample(dchunk).mean().loc['2019':'2021-06']['avg_price']\n",
    "\n",
    "# Create figure with secondary y-axis\n",
    "fig = make_subplots(specs=[[{\"secondary_y\": True}]])\n",
    "\n",
    "# Add traces\n",
    "fig.add_trace(\n",
    "    go.Scatter(x=a.index, y=a, name=\"LR-Model\"),\n",
    "    secondary_y=False,\n",
    ")\n",
    "\n",
    "fig.add_trace(\n",
    "    go.Scatter(x=btc_price_avg.index, y=btc_price_avg, name=\"Bit Coin Avg\"),\n",
    "    secondary_y=True,\n",
    ")\n",
    "\n",
    "# Add figure title\n",
    "fig.update_layout(\n",
    "    title_text=\"BTC vs LR Sentiment Model - Weekly\"\n",
    ")\n",
    "\n",
    "# Set x-axis title\n",
    "fig.update_xaxes(title_text=\"Date\")\n",
    "\n",
    "# Set y-axes titles\n",
    "fig.update_yaxes(title_text=\"<b>Sentiment Polarity </b>\", secondary_y=False)\n",
    "fig.update_yaxes(title_text=\"<b>BTC Price</b>\", secondary_y=True)\n",
    "\n",
    "fig.show()"
   ]
  },
  {
   "cell_type": "code",
   "execution_count": 286,
   "id": "dddf297a",
   "metadata": {},
   "outputs": [
    {
     "data": {
      "application/vnd.plotly.v1+json": {
       "config": {
        "plotlyServerURL": "https://plot.ly"
       },
       "data": [
        {
         "name": "LR-Model",
         "type": "scatter",
         "x": [
          "2019-01-01T00:00:00",
          "2019-01-02T00:00:00",
          "2019-01-03T00:00:00",
          "2019-01-04T00:00:00",
          "2019-01-05T00:00:00",
          "2019-01-06T00:00:00",
          "2019-01-07T00:00:00",
          "2019-01-08T00:00:00",
          "2019-01-09T00:00:00",
          "2019-01-10T00:00:00",
          "2019-01-11T00:00:00",
          "2019-01-12T00:00:00",
          "2019-01-13T00:00:00",
          "2019-01-14T00:00:00",
          "2019-01-15T00:00:00",
          "2019-01-16T00:00:00",
          "2019-01-17T00:00:00",
          "2019-01-18T00:00:00",
          "2019-01-19T00:00:00",
          "2019-01-20T00:00:00",
          "2019-01-21T00:00:00",
          "2019-01-22T00:00:00",
          "2019-01-23T00:00:00",
          "2019-01-24T00:00:00",
          "2019-01-25T00:00:00",
          "2019-01-26T00:00:00",
          "2019-01-27T00:00:00",
          "2019-01-28T00:00:00",
          "2019-01-29T00:00:00",
          "2019-01-30T00:00:00",
          "2019-01-31T00:00:00",
          "2019-02-01T00:00:00",
          "2019-02-02T00:00:00",
          "2019-02-03T00:00:00",
          "2019-02-04T00:00:00",
          "2019-02-05T00:00:00",
          "2019-02-06T00:00:00",
          "2019-02-07T00:00:00",
          "2019-02-08T00:00:00",
          "2019-02-09T00:00:00",
          "2019-02-10T00:00:00",
          "2019-02-11T00:00:00",
          "2019-02-12T00:00:00",
          "2019-02-13T00:00:00",
          "2019-02-14T00:00:00",
          "2019-02-15T00:00:00",
          "2019-02-16T00:00:00",
          "2019-02-17T00:00:00",
          "2019-02-18T00:00:00",
          "2019-02-19T00:00:00",
          "2019-02-20T00:00:00",
          "2019-02-21T00:00:00",
          "2019-02-22T00:00:00",
          "2019-02-23T00:00:00",
          "2019-02-24T00:00:00",
          "2019-02-25T00:00:00",
          "2019-02-26T00:00:00",
          "2019-02-27T00:00:00",
          "2019-02-28T00:00:00",
          "2019-03-01T00:00:00",
          "2019-03-02T00:00:00",
          "2019-03-03T00:00:00",
          "2019-03-04T00:00:00",
          "2019-03-05T00:00:00",
          "2019-03-06T00:00:00",
          "2019-03-07T00:00:00",
          "2019-03-08T00:00:00",
          "2019-03-09T00:00:00",
          "2019-03-10T00:00:00",
          "2019-03-11T00:00:00",
          "2019-03-12T00:00:00",
          "2019-03-13T00:00:00",
          "2019-03-14T00:00:00",
          "2019-03-15T00:00:00",
          "2019-03-16T00:00:00",
          "2019-03-17T00:00:00",
          "2019-03-18T00:00:00",
          "2019-03-19T00:00:00",
          "2019-03-20T00:00:00",
          "2019-03-21T00:00:00",
          "2019-03-22T00:00:00",
          "2019-03-23T00:00:00",
          "2019-03-24T00:00:00",
          "2019-03-25T00:00:00",
          "2019-03-26T00:00:00",
          "2019-03-27T00:00:00",
          "2019-03-28T00:00:00",
          "2019-03-29T00:00:00",
          "2019-03-30T00:00:00",
          "2019-03-31T00:00:00",
          "2019-04-01T00:00:00",
          "2019-04-02T00:00:00",
          "2019-04-03T00:00:00",
          "2019-04-04T00:00:00",
          "2019-04-05T00:00:00",
          "2019-04-06T00:00:00",
          "2019-04-07T00:00:00",
          "2019-04-08T00:00:00",
          "2019-04-09T00:00:00",
          "2019-04-10T00:00:00",
          "2019-04-11T00:00:00",
          "2019-04-12T00:00:00",
          "2019-04-13T00:00:00",
          "2019-04-14T00:00:00",
          "2019-04-15T00:00:00",
          "2019-04-16T00:00:00",
          "2019-04-17T00:00:00",
          "2019-04-18T00:00:00",
          "2019-04-19T00:00:00",
          "2019-04-20T00:00:00",
          "2019-04-21T00:00:00",
          "2019-04-22T00:00:00",
          "2019-04-23T00:00:00",
          "2019-04-24T00:00:00",
          "2019-04-25T00:00:00",
          "2019-04-26T00:00:00",
          "2019-04-27T00:00:00",
          "2019-04-28T00:00:00",
          "2019-04-29T00:00:00",
          "2019-04-30T00:00:00",
          "2019-05-01T00:00:00",
          "2019-05-02T00:00:00",
          "2019-05-03T00:00:00",
          "2019-05-04T00:00:00",
          "2019-05-05T00:00:00",
          "2019-05-06T00:00:00",
          "2019-05-07T00:00:00",
          "2019-05-08T00:00:00",
          "2019-05-09T00:00:00",
          "2019-05-10T00:00:00",
          "2019-05-11T00:00:00",
          "2019-05-12T00:00:00",
          "2019-05-13T00:00:00",
          "2019-05-14T00:00:00",
          "2019-05-15T00:00:00",
          "2019-05-16T00:00:00",
          "2019-05-17T00:00:00",
          "2019-05-18T00:00:00",
          "2019-05-19T00:00:00",
          "2019-05-20T00:00:00",
          "2019-05-21T00:00:00",
          "2019-05-22T00:00:00",
          "2019-05-23T00:00:00",
          "2019-05-24T00:00:00",
          "2019-05-25T00:00:00",
          "2019-05-26T00:00:00",
          "2019-05-27T00:00:00",
          "2019-05-28T00:00:00",
          "2019-05-29T00:00:00",
          "2019-05-30T00:00:00",
          "2019-05-31T00:00:00",
          "2019-06-01T00:00:00",
          "2019-06-02T00:00:00",
          "2019-06-03T00:00:00",
          "2019-06-04T00:00:00",
          "2019-06-05T00:00:00",
          "2019-06-06T00:00:00",
          "2019-06-07T00:00:00",
          "2019-06-08T00:00:00",
          "2019-06-09T00:00:00",
          "2019-06-10T00:00:00",
          "2019-06-11T00:00:00",
          "2019-06-12T00:00:00",
          "2019-06-13T00:00:00",
          "2019-06-14T00:00:00",
          "2019-06-15T00:00:00",
          "2019-06-16T00:00:00",
          "2019-06-17T00:00:00",
          "2019-06-18T00:00:00",
          "2019-06-19T00:00:00",
          "2019-06-20T00:00:00",
          "2019-06-21T00:00:00",
          "2019-06-22T00:00:00",
          "2019-06-23T00:00:00",
          "2019-06-24T00:00:00",
          "2019-06-25T00:00:00",
          "2019-06-26T00:00:00",
          "2019-06-27T00:00:00",
          "2019-06-28T00:00:00",
          "2019-06-29T00:00:00",
          "2019-06-30T00:00:00",
          "2019-07-01T00:00:00",
          "2019-07-02T00:00:00",
          "2019-07-03T00:00:00",
          "2019-07-04T00:00:00",
          "2019-07-05T00:00:00",
          "2019-07-06T00:00:00",
          "2019-07-07T00:00:00",
          "2019-07-08T00:00:00",
          "2019-07-09T00:00:00",
          "2019-07-10T00:00:00",
          "2019-07-11T00:00:00",
          "2019-07-12T00:00:00",
          "2019-07-13T00:00:00",
          "2019-07-14T00:00:00",
          "2019-07-15T00:00:00",
          "2019-07-16T00:00:00",
          "2019-07-17T00:00:00",
          "2019-07-18T00:00:00",
          "2019-07-19T00:00:00",
          "2019-07-20T00:00:00",
          "2019-07-21T00:00:00",
          "2019-07-22T00:00:00",
          "2019-07-23T00:00:00",
          "2019-07-24T00:00:00",
          "2019-07-25T00:00:00",
          "2019-07-26T00:00:00",
          "2019-07-27T00:00:00",
          "2019-07-28T00:00:00",
          "2019-07-29T00:00:00",
          "2019-07-30T00:00:00",
          "2019-07-31T00:00:00",
          "2019-08-01T00:00:00",
          "2019-08-02T00:00:00",
          "2019-08-03T00:00:00",
          "2019-08-04T00:00:00",
          "2019-08-05T00:00:00",
          "2019-08-06T00:00:00",
          "2019-08-07T00:00:00",
          "2019-08-08T00:00:00",
          "2019-08-09T00:00:00",
          "2019-08-10T00:00:00",
          "2019-08-11T00:00:00",
          "2019-08-12T00:00:00",
          "2019-08-13T00:00:00",
          "2019-08-14T00:00:00",
          "2019-08-15T00:00:00",
          "2019-08-16T00:00:00",
          "2019-08-17T00:00:00",
          "2019-08-18T00:00:00",
          "2019-08-19T00:00:00",
          "2019-08-20T00:00:00",
          "2019-08-21T00:00:00",
          "2019-08-22T00:00:00",
          "2019-08-23T00:00:00",
          "2019-08-24T00:00:00",
          "2019-08-25T00:00:00",
          "2019-08-26T00:00:00",
          "2019-08-27T00:00:00",
          "2019-08-28T00:00:00",
          "2019-08-29T00:00:00",
          "2019-08-30T00:00:00",
          "2019-08-31T00:00:00",
          "2019-09-01T00:00:00",
          "2019-09-02T00:00:00",
          "2019-09-03T00:00:00",
          "2019-09-04T00:00:00",
          "2019-09-05T00:00:00",
          "2019-09-06T00:00:00",
          "2019-09-07T00:00:00",
          "2019-09-08T00:00:00",
          "2019-09-09T00:00:00",
          "2019-09-10T00:00:00",
          "2019-09-11T00:00:00",
          "2019-09-12T00:00:00",
          "2019-09-13T00:00:00",
          "2019-09-14T00:00:00",
          "2019-09-15T00:00:00",
          "2019-09-16T00:00:00",
          "2019-09-17T00:00:00",
          "2019-09-18T00:00:00",
          "2019-09-19T00:00:00",
          "2019-09-20T00:00:00",
          "2019-09-21T00:00:00",
          "2019-09-22T00:00:00",
          "2019-09-23T00:00:00",
          "2019-09-24T00:00:00",
          "2019-09-25T00:00:00",
          "2019-09-26T00:00:00",
          "2019-09-27T00:00:00",
          "2019-09-28T00:00:00",
          "2019-09-29T00:00:00",
          "2019-09-30T00:00:00",
          "2019-10-01T00:00:00",
          "2019-10-02T00:00:00",
          "2019-10-03T00:00:00",
          "2019-10-04T00:00:00",
          "2019-10-05T00:00:00",
          "2019-10-06T00:00:00",
          "2019-10-07T00:00:00",
          "2019-10-08T00:00:00",
          "2019-10-09T00:00:00",
          "2019-10-10T00:00:00",
          "2019-10-11T00:00:00",
          "2019-10-12T00:00:00",
          "2019-10-13T00:00:00",
          "2019-10-14T00:00:00",
          "2019-10-15T00:00:00",
          "2019-10-16T00:00:00",
          "2019-10-17T00:00:00",
          "2019-10-18T00:00:00",
          "2019-10-19T00:00:00",
          "2019-10-20T00:00:00",
          "2019-10-21T00:00:00",
          "2019-10-22T00:00:00",
          "2019-10-23T00:00:00",
          "2019-10-24T00:00:00",
          "2019-10-25T00:00:00",
          "2019-10-26T00:00:00",
          "2019-10-27T00:00:00",
          "2019-10-28T00:00:00",
          "2019-10-29T00:00:00",
          "2019-10-30T00:00:00",
          "2019-10-31T00:00:00",
          "2019-11-01T00:00:00",
          "2019-11-02T00:00:00",
          "2019-11-03T00:00:00",
          "2019-11-04T00:00:00",
          "2019-11-05T00:00:00",
          "2019-11-06T00:00:00",
          "2019-11-07T00:00:00",
          "2019-11-08T00:00:00",
          "2019-11-09T00:00:00",
          "2019-11-10T00:00:00",
          "2019-11-11T00:00:00",
          "2019-11-12T00:00:00",
          "2019-11-13T00:00:00",
          "2019-11-14T00:00:00",
          "2019-11-15T00:00:00",
          "2019-11-16T00:00:00",
          "2019-11-17T00:00:00",
          "2019-11-18T00:00:00",
          "2019-11-19T00:00:00",
          "2019-11-20T00:00:00",
          "2019-11-21T00:00:00",
          "2019-11-22T00:00:00",
          "2019-11-23T00:00:00",
          "2019-11-24T00:00:00",
          "2019-11-25T00:00:00",
          "2019-11-26T00:00:00",
          "2019-11-27T00:00:00",
          "2019-11-28T00:00:00",
          "2019-11-29T00:00:00",
          "2019-11-30T00:00:00",
          "2019-12-01T00:00:00",
          "2019-12-02T00:00:00",
          "2019-12-03T00:00:00",
          "2019-12-04T00:00:00",
          "2019-12-05T00:00:00",
          "2019-12-06T00:00:00",
          "2019-12-07T00:00:00",
          "2019-12-08T00:00:00",
          "2019-12-09T00:00:00",
          "2019-12-10T00:00:00",
          "2019-12-11T00:00:00",
          "2019-12-12T00:00:00",
          "2019-12-13T00:00:00",
          "2019-12-14T00:00:00",
          "2019-12-15T00:00:00",
          "2019-12-16T00:00:00",
          "2019-12-17T00:00:00",
          "2019-12-18T00:00:00",
          "2019-12-19T00:00:00",
          "2019-12-20T00:00:00",
          "2019-12-21T00:00:00",
          "2019-12-22T00:00:00",
          "2019-12-23T00:00:00",
          "2019-12-24T00:00:00",
          "2019-12-25T00:00:00",
          "2019-12-26T00:00:00",
          "2019-12-27T00:00:00",
          "2019-12-28T00:00:00",
          "2019-12-29T00:00:00",
          "2019-12-30T00:00:00",
          "2019-12-31T00:00:00",
          "2020-01-01T00:00:00",
          "2020-01-02T00:00:00",
          "2020-01-03T00:00:00",
          "2020-01-04T00:00:00",
          "2020-01-05T00:00:00",
          "2020-01-06T00:00:00",
          "2020-01-07T00:00:00",
          "2020-01-08T00:00:00",
          "2020-01-09T00:00:00",
          "2020-01-10T00:00:00",
          "2020-01-11T00:00:00",
          "2020-01-12T00:00:00",
          "2020-01-13T00:00:00",
          "2020-01-14T00:00:00",
          "2020-01-15T00:00:00",
          "2020-01-16T00:00:00",
          "2020-01-17T00:00:00",
          "2020-01-18T00:00:00",
          "2020-01-19T00:00:00",
          "2020-01-20T00:00:00",
          "2020-01-21T00:00:00",
          "2020-01-22T00:00:00",
          "2020-01-23T00:00:00",
          "2020-01-24T00:00:00",
          "2020-01-25T00:00:00",
          "2020-01-26T00:00:00",
          "2020-01-27T00:00:00",
          "2020-01-28T00:00:00",
          "2020-01-29T00:00:00",
          "2020-01-30T00:00:00",
          "2020-01-31T00:00:00",
          "2020-02-01T00:00:00",
          "2020-02-02T00:00:00",
          "2020-02-03T00:00:00",
          "2020-02-04T00:00:00",
          "2020-02-05T00:00:00",
          "2020-02-06T00:00:00",
          "2020-02-07T00:00:00",
          "2020-02-08T00:00:00",
          "2020-02-09T00:00:00",
          "2020-02-10T00:00:00",
          "2020-02-11T00:00:00",
          "2020-02-12T00:00:00",
          "2020-02-13T00:00:00",
          "2020-02-14T00:00:00",
          "2020-02-15T00:00:00",
          "2020-02-16T00:00:00",
          "2020-02-17T00:00:00",
          "2020-02-18T00:00:00",
          "2020-02-19T00:00:00",
          "2020-02-20T00:00:00",
          "2020-02-21T00:00:00",
          "2020-02-22T00:00:00",
          "2020-02-23T00:00:00",
          "2020-02-24T00:00:00",
          "2020-02-25T00:00:00",
          "2020-02-26T00:00:00",
          "2020-02-27T00:00:00",
          "2020-02-28T00:00:00",
          "2020-02-29T00:00:00",
          "2020-03-01T00:00:00",
          "2020-03-02T00:00:00",
          "2020-03-03T00:00:00",
          "2020-03-04T00:00:00",
          "2020-03-05T00:00:00",
          "2020-03-06T00:00:00",
          "2020-03-07T00:00:00",
          "2020-03-08T00:00:00",
          "2020-03-09T00:00:00",
          "2020-03-10T00:00:00",
          "2020-03-11T00:00:00",
          "2020-03-12T00:00:00",
          "2020-03-13T00:00:00",
          "2020-03-14T00:00:00",
          "2020-03-15T00:00:00",
          "2020-03-16T00:00:00",
          "2020-03-17T00:00:00",
          "2020-03-18T00:00:00",
          "2020-03-19T00:00:00",
          "2020-03-20T00:00:00",
          "2020-03-21T00:00:00",
          "2020-03-22T00:00:00",
          "2020-03-23T00:00:00",
          "2020-03-24T00:00:00",
          "2020-03-25T00:00:00",
          "2020-03-26T00:00:00",
          "2020-03-27T00:00:00",
          "2020-03-28T00:00:00",
          "2020-03-29T00:00:00",
          "2020-03-30T00:00:00",
          "2020-03-31T00:00:00",
          "2020-04-01T00:00:00",
          "2020-04-02T00:00:00",
          "2020-04-03T00:00:00",
          "2020-04-04T00:00:00",
          "2020-04-05T00:00:00",
          "2020-04-06T00:00:00",
          "2020-04-07T00:00:00",
          "2020-04-08T00:00:00",
          "2020-04-09T00:00:00",
          "2020-04-10T00:00:00",
          "2020-04-11T00:00:00",
          "2020-04-12T00:00:00",
          "2020-04-13T00:00:00",
          "2020-04-14T00:00:00",
          "2020-04-15T00:00:00",
          "2020-04-16T00:00:00",
          "2020-04-17T00:00:00",
          "2020-04-18T00:00:00",
          "2020-04-19T00:00:00",
          "2020-04-20T00:00:00",
          "2020-04-21T00:00:00",
          "2020-04-22T00:00:00",
          "2020-04-23T00:00:00",
          "2020-04-24T00:00:00",
          "2020-04-25T00:00:00",
          "2020-04-26T00:00:00",
          "2020-04-27T00:00:00",
          "2020-04-28T00:00:00",
          "2020-04-29T00:00:00",
          "2020-04-30T00:00:00",
          "2020-05-01T00:00:00",
          "2020-05-02T00:00:00",
          "2020-05-03T00:00:00",
          "2020-05-04T00:00:00",
          "2020-05-05T00:00:00",
          "2020-05-06T00:00:00",
          "2020-05-07T00:00:00",
          "2020-05-08T00:00:00",
          "2020-05-09T00:00:00",
          "2020-05-10T00:00:00",
          "2020-05-11T00:00:00",
          "2020-05-12T00:00:00",
          "2020-05-13T00:00:00",
          "2020-05-14T00:00:00",
          "2020-05-15T00:00:00",
          "2020-05-16T00:00:00",
          "2020-05-17T00:00:00",
          "2020-05-18T00:00:00",
          "2020-05-19T00:00:00",
          "2020-05-20T00:00:00",
          "2020-05-21T00:00:00",
          "2020-05-22T00:00:00",
          "2020-05-23T00:00:00",
          "2020-05-24T00:00:00",
          "2020-05-25T00:00:00",
          "2020-05-26T00:00:00",
          "2020-05-27T00:00:00",
          "2020-05-28T00:00:00",
          "2020-05-29T00:00:00",
          "2020-05-30T00:00:00",
          "2020-05-31T00:00:00",
          "2020-06-01T00:00:00",
          "2020-06-02T00:00:00",
          "2020-06-03T00:00:00",
          "2020-06-04T00:00:00",
          "2020-06-05T00:00:00",
          "2020-06-06T00:00:00",
          "2020-06-07T00:00:00",
          "2020-06-08T00:00:00",
          "2020-06-09T00:00:00",
          "2020-06-10T00:00:00",
          "2020-06-11T00:00:00",
          "2020-06-12T00:00:00",
          "2020-06-13T00:00:00",
          "2020-06-14T00:00:00",
          "2020-06-15T00:00:00",
          "2020-06-16T00:00:00",
          "2020-06-17T00:00:00",
          "2020-06-18T00:00:00",
          "2020-06-19T00:00:00",
          "2020-06-20T00:00:00",
          "2020-06-21T00:00:00",
          "2020-06-22T00:00:00",
          "2020-06-23T00:00:00",
          "2020-06-24T00:00:00",
          "2020-06-25T00:00:00",
          "2020-06-26T00:00:00",
          "2020-06-27T00:00:00",
          "2020-06-28T00:00:00",
          "2020-06-29T00:00:00",
          "2020-06-30T00:00:00",
          "2020-07-01T00:00:00",
          "2020-07-02T00:00:00",
          "2020-07-03T00:00:00",
          "2020-07-04T00:00:00",
          "2020-07-05T00:00:00",
          "2020-07-06T00:00:00",
          "2020-07-07T00:00:00",
          "2020-07-08T00:00:00",
          "2020-07-09T00:00:00",
          "2020-07-10T00:00:00",
          "2020-07-11T00:00:00",
          "2020-07-12T00:00:00",
          "2020-07-13T00:00:00",
          "2020-07-14T00:00:00",
          "2020-07-15T00:00:00",
          "2020-07-16T00:00:00",
          "2020-07-17T00:00:00",
          "2020-07-18T00:00:00",
          "2020-07-19T00:00:00",
          "2020-07-20T00:00:00",
          "2020-07-21T00:00:00",
          "2020-07-22T00:00:00",
          "2020-07-23T00:00:00",
          "2020-07-24T00:00:00",
          "2020-07-25T00:00:00",
          "2020-07-26T00:00:00",
          "2020-07-27T00:00:00",
          "2020-07-28T00:00:00",
          "2020-07-29T00:00:00",
          "2020-07-30T00:00:00",
          "2020-07-31T00:00:00",
          "2020-08-01T00:00:00",
          "2020-08-02T00:00:00",
          "2020-08-03T00:00:00",
          "2020-08-04T00:00:00",
          "2020-08-05T00:00:00",
          "2020-08-06T00:00:00",
          "2020-08-07T00:00:00",
          "2020-08-08T00:00:00",
          "2020-08-09T00:00:00",
          "2020-08-10T00:00:00",
          "2020-08-11T00:00:00",
          "2020-08-12T00:00:00",
          "2020-08-13T00:00:00",
          "2020-08-14T00:00:00",
          "2020-08-15T00:00:00",
          "2020-08-16T00:00:00",
          "2020-08-17T00:00:00",
          "2020-08-18T00:00:00",
          "2020-08-19T00:00:00",
          "2020-08-20T00:00:00",
          "2020-08-21T00:00:00",
          "2020-08-22T00:00:00",
          "2020-08-23T00:00:00",
          "2020-08-24T00:00:00",
          "2020-08-25T00:00:00",
          "2020-08-26T00:00:00",
          "2020-08-27T00:00:00",
          "2020-08-28T00:00:00",
          "2020-08-29T00:00:00",
          "2020-08-30T00:00:00",
          "2020-08-31T00:00:00",
          "2020-09-01T00:00:00",
          "2020-09-02T00:00:00",
          "2020-09-03T00:00:00",
          "2020-09-04T00:00:00",
          "2020-09-05T00:00:00",
          "2020-09-06T00:00:00",
          "2020-09-07T00:00:00",
          "2020-09-08T00:00:00",
          "2020-09-09T00:00:00",
          "2020-09-10T00:00:00",
          "2020-09-11T00:00:00",
          "2020-09-12T00:00:00",
          "2020-09-13T00:00:00",
          "2020-09-14T00:00:00",
          "2020-09-15T00:00:00",
          "2020-09-16T00:00:00",
          "2020-09-17T00:00:00",
          "2020-09-18T00:00:00",
          "2020-09-19T00:00:00",
          "2020-09-20T00:00:00",
          "2020-09-21T00:00:00",
          "2020-09-22T00:00:00",
          "2020-09-23T00:00:00",
          "2020-09-24T00:00:00",
          "2020-09-25T00:00:00",
          "2020-09-26T00:00:00",
          "2020-09-27T00:00:00",
          "2020-09-28T00:00:00",
          "2020-09-29T00:00:00",
          "2020-09-30T00:00:00",
          "2020-10-01T00:00:00",
          "2020-10-02T00:00:00",
          "2020-10-03T00:00:00",
          "2020-10-04T00:00:00",
          "2020-10-05T00:00:00",
          "2020-10-06T00:00:00",
          "2020-10-07T00:00:00",
          "2020-10-08T00:00:00",
          "2020-10-09T00:00:00",
          "2020-10-10T00:00:00",
          "2020-10-11T00:00:00",
          "2020-10-12T00:00:00",
          "2020-10-13T00:00:00",
          "2020-10-14T00:00:00",
          "2020-10-15T00:00:00",
          "2020-10-16T00:00:00",
          "2020-10-17T00:00:00",
          "2020-10-18T00:00:00",
          "2020-10-19T00:00:00",
          "2020-10-20T00:00:00",
          "2020-10-21T00:00:00",
          "2020-10-22T00:00:00",
          "2020-10-23T00:00:00",
          "2020-10-24T00:00:00",
          "2020-10-25T00:00:00",
          "2020-10-26T00:00:00",
          "2020-10-27T00:00:00",
          "2020-10-28T00:00:00",
          "2020-10-29T00:00:00",
          "2020-10-30T00:00:00",
          "2020-10-31T00:00:00",
          "2020-11-01T00:00:00",
          "2020-11-02T00:00:00",
          "2020-11-03T00:00:00",
          "2020-11-04T00:00:00",
          "2020-11-05T00:00:00",
          "2020-11-06T00:00:00",
          "2020-11-07T00:00:00",
          "2020-11-08T00:00:00",
          "2020-11-09T00:00:00",
          "2020-11-10T00:00:00",
          "2020-11-11T00:00:00",
          "2020-11-12T00:00:00",
          "2020-11-13T00:00:00",
          "2020-11-14T00:00:00",
          "2020-11-15T00:00:00",
          "2020-11-16T00:00:00",
          "2020-11-17T00:00:00",
          "2020-11-18T00:00:00",
          "2020-11-19T00:00:00",
          "2020-11-20T00:00:00",
          "2020-11-21T00:00:00",
          "2020-11-22T00:00:00",
          "2020-11-23T00:00:00",
          "2020-11-24T00:00:00",
          "2020-11-25T00:00:00",
          "2020-11-26T00:00:00",
          "2020-11-27T00:00:00",
          "2020-11-28T00:00:00",
          "2020-11-29T00:00:00",
          "2020-11-30T00:00:00",
          "2020-12-01T00:00:00",
          "2020-12-02T00:00:00",
          "2020-12-03T00:00:00",
          "2020-12-04T00:00:00",
          "2020-12-05T00:00:00",
          "2020-12-06T00:00:00",
          "2020-12-07T00:00:00",
          "2020-12-08T00:00:00",
          "2020-12-09T00:00:00",
          "2020-12-10T00:00:00",
          "2020-12-11T00:00:00",
          "2020-12-12T00:00:00",
          "2020-12-13T00:00:00",
          "2020-12-14T00:00:00",
          "2020-12-15T00:00:00",
          "2020-12-16T00:00:00",
          "2020-12-17T00:00:00",
          "2020-12-18T00:00:00",
          "2020-12-19T00:00:00",
          "2020-12-20T00:00:00",
          "2020-12-21T00:00:00",
          "2020-12-22T00:00:00",
          "2020-12-23T00:00:00",
          "2020-12-24T00:00:00",
          "2020-12-25T00:00:00",
          "2020-12-26T00:00:00",
          "2020-12-27T00:00:00",
          "2020-12-28T00:00:00",
          "2020-12-29T00:00:00",
          "2020-12-30T00:00:00",
          "2020-12-31T00:00:00",
          "2021-01-01T00:00:00",
          "2021-01-02T00:00:00",
          "2021-01-03T00:00:00",
          "2021-01-04T00:00:00",
          "2021-01-05T00:00:00",
          "2021-01-06T00:00:00",
          "2021-01-07T00:00:00",
          "2021-01-08T00:00:00",
          "2021-01-09T00:00:00",
          "2021-01-10T00:00:00",
          "2021-01-11T00:00:00",
          "2021-01-12T00:00:00",
          "2021-01-13T00:00:00",
          "2021-01-14T00:00:00",
          "2021-01-15T00:00:00",
          "2021-01-16T00:00:00",
          "2021-01-17T00:00:00",
          "2021-01-18T00:00:00",
          "2021-01-19T00:00:00",
          "2021-01-20T00:00:00",
          "2021-01-21T00:00:00",
          "2021-01-22T00:00:00",
          "2021-01-23T00:00:00",
          "2021-01-24T00:00:00",
          "2021-01-25T00:00:00",
          "2021-01-26T00:00:00",
          "2021-01-27T00:00:00",
          "2021-01-28T00:00:00",
          "2021-01-29T00:00:00",
          "2021-01-30T00:00:00",
          "2021-01-31T00:00:00",
          "2021-02-01T00:00:00",
          "2021-02-02T00:00:00",
          "2021-02-03T00:00:00",
          "2021-02-04T00:00:00",
          "2021-02-05T00:00:00",
          "2021-02-06T00:00:00",
          "2021-02-07T00:00:00",
          "2021-02-08T00:00:00",
          "2021-02-09T00:00:00",
          "2021-02-10T00:00:00",
          "2021-02-11T00:00:00",
          "2021-02-12T00:00:00",
          "2021-02-13T00:00:00",
          "2021-02-14T00:00:00",
          "2021-02-15T00:00:00",
          "2021-02-16T00:00:00",
          "2021-02-17T00:00:00",
          "2021-02-18T00:00:00",
          "2021-02-19T00:00:00",
          "2021-02-20T00:00:00",
          "2021-02-21T00:00:00",
          "2021-02-22T00:00:00",
          "2021-02-23T00:00:00",
          "2021-02-24T00:00:00",
          "2021-02-25T00:00:00",
          "2021-02-26T00:00:00",
          "2021-02-27T00:00:00",
          "2021-02-28T00:00:00",
          "2021-03-01T00:00:00",
          "2021-03-02T00:00:00",
          "2021-03-03T00:00:00",
          "2021-03-04T00:00:00",
          "2021-03-05T00:00:00",
          "2021-03-06T00:00:00",
          "2021-03-07T00:00:00",
          "2021-03-08T00:00:00",
          "2021-03-09T00:00:00",
          "2021-03-10T00:00:00",
          "2021-03-11T00:00:00",
          "2021-03-12T00:00:00",
          "2021-03-13T00:00:00",
          "2021-03-14T00:00:00",
          "2021-03-15T00:00:00",
          "2021-03-16T00:00:00",
          "2021-03-17T00:00:00",
          "2021-03-18T00:00:00",
          "2021-03-19T00:00:00",
          "2021-03-20T00:00:00",
          "2021-03-21T00:00:00",
          "2021-03-22T00:00:00",
          "2021-03-23T00:00:00",
          "2021-03-24T00:00:00",
          "2021-03-25T00:00:00",
          "2021-03-26T00:00:00",
          "2021-03-27T00:00:00",
          "2021-03-28T00:00:00",
          "2021-03-29T00:00:00",
          "2021-03-30T00:00:00",
          "2021-03-31T00:00:00",
          "2021-04-01T00:00:00",
          "2021-04-02T00:00:00",
          "2021-04-03T00:00:00",
          "2021-04-04T00:00:00",
          "2021-04-05T00:00:00",
          "2021-04-06T00:00:00",
          "2021-04-07T00:00:00",
          "2021-04-08T00:00:00",
          "2021-04-09T00:00:00",
          "2021-04-10T00:00:00",
          "2021-04-11T00:00:00",
          "2021-04-12T00:00:00",
          "2021-04-13T00:00:00",
          "2021-04-14T00:00:00",
          "2021-04-15T00:00:00",
          "2021-04-16T00:00:00",
          "2021-04-17T00:00:00",
          "2021-04-18T00:00:00",
          "2021-04-19T00:00:00",
          "2021-04-20T00:00:00",
          "2021-04-21T00:00:00",
          "2021-04-22T00:00:00",
          "2021-04-23T00:00:00",
          "2021-04-24T00:00:00",
          "2021-04-25T00:00:00",
          "2021-04-26T00:00:00",
          "2021-04-27T00:00:00",
          "2021-04-28T00:00:00",
          "2021-04-29T00:00:00",
          "2021-04-30T00:00:00",
          "2021-05-01T00:00:00",
          "2021-05-02T00:00:00",
          "2021-05-03T00:00:00",
          "2021-05-04T00:00:00",
          "2021-05-05T00:00:00",
          "2021-05-06T00:00:00",
          "2021-05-07T00:00:00",
          "2021-05-08T00:00:00",
          "2021-05-09T00:00:00",
          "2021-05-10T00:00:00",
          "2021-05-11T00:00:00",
          "2021-05-12T00:00:00",
          "2021-05-13T00:00:00",
          "2021-05-14T00:00:00",
          "2021-05-15T00:00:00",
          "2021-05-16T00:00:00",
          "2021-05-17T00:00:00",
          "2021-05-18T00:00:00",
          "2021-05-19T00:00:00",
          "2021-05-20T00:00:00",
          "2021-05-21T00:00:00",
          "2021-05-22T00:00:00",
          "2021-05-23T00:00:00",
          "2021-05-24T00:00:00",
          "2021-05-25T00:00:00",
          "2021-05-26T00:00:00",
          "2021-05-27T00:00:00",
          "2021-05-28T00:00:00",
          "2021-05-29T00:00:00",
          "2021-05-30T00:00:00",
          "2021-05-31T00:00:00",
          "2021-06-01T00:00:00",
          "2021-06-02T00:00:00",
          "2021-06-03T00:00:00",
          "2021-06-04T00:00:00",
          "2021-06-05T00:00:00",
          "2021-06-06T00:00:00",
          "2021-06-07T00:00:00",
          "2021-06-08T00:00:00",
          "2021-06-09T00:00:00",
          "2021-06-10T00:00:00",
          "2021-06-11T00:00:00",
          "2021-06-12T00:00:00",
          "2021-06-13T00:00:00",
          "2021-06-14T00:00:00",
          "2021-06-15T00:00:00",
          "2021-06-16T00:00:00",
          "2021-06-17T00:00:00",
          "2021-06-18T00:00:00",
          "2021-06-19T00:00:00",
          "2021-06-20T00:00:00",
          "2021-06-21T00:00:00",
          "2021-06-22T00:00:00",
          "2021-06-23T00:00:00",
          "2021-06-24T00:00:00",
          "2021-06-25T00:00:00",
          "2021-06-26T00:00:00",
          "2021-06-27T00:00:00",
          "2021-06-28T00:00:00",
          "2021-06-29T00:00:00",
          "2021-06-30T00:00:00",
          "2021-07-01T00:00:00"
         ],
         "xaxis": "x",
         "y": [
          -0.5853797908849885,
          -0.3808567780189284,
          -2.5709174595795368,
          -0.5575059662101777,
          1.5336098558362794,
          0.3532331119414685,
          2.02395235094042,
          2.769725585769016,
          0.9384159232694127,
          0.21067116132083263,
          2.9866159220429127,
          0.0922164204779898,
          0.7864152656677267,
          0.6132272731725845,
          1.7634425091145518,
          1.3800944770350014,
          -0.5096078961152205,
          -0.0360218285007812,
          1.540416962289317,
          0.6108134910237726,
          3.1158072567045383,
          2.0522584175159864,
          0.8962347489020683,
          1.7464127013326372,
          0.19002950356465062,
          0.2796102558840967,
          0.9192175097035051,
          0.033964589845201176,
          -1.1428956998244173,
          0.7879980866803883,
          -1.061634576044237,
          0.7586494630621425,
          0.6932330389414625,
          1.0987838739171738,
          -0.9446339290405324,
          0.740780076349614,
          2.562263472602761,
          -0.3099172730625597,
          1.1447741802176379,
          0.9136232484857048,
          0.03240336505217711,
          -2.0299960410866182,
          1.0250527134238332,
          1.6974680585438375,
          0.4669680350915735,
          -0.7853512769863747,
          -1.570186877982679,
          0.6884568576283207,
          0.15437007851313103,
          3.0595587826013695,
          0.4066666659135765,
          1.5695139100267559,
          -0.10961834553479613,
          3.53902435055795,
          2.8244172657608964,
          1.185335961399736,
          3.1035151254265747,
          -1.1222641899503996,
          0.6745809210565122,
          0.057915388969618925,
          1.0028657015258224,
          1.1985780572796434,
          -1.285016639480406,
          1.5773764408777184,
          0.2029718273549068,
          -0.09393372590795968,
          4.427346862718738,
          0.9759108242704964,
          0.444567011318968,
          1.988008630795362,
          -0.25122296423118395,
          1.207021742238252,
          1.9306079054333911,
          1.2219057841392968,
          0.7365747496513882,
          -0.30095619102456206,
          2.733481734773027,
          -0.6120881970430372,
          1.8549475362433314,
          -0.3441720830317199,
          -0.5236459577670591,
          -0.26803359083227724,
          -0.29961227012475633,
          0.8094052417578016,
          0.24324218104346218,
          0.20521255729559798,
          2.2487802797502505,
          -0.01290843865264497,
          0.7304243998408776,
          1.2612304415149371,
          2.341573014689463,
          5.079717750120085,
          2.688797894805001,
          0.3452386053144296,
          0.7949208491523343,
          0.31128098258969644,
          -0.5713566045903363,
          0.15207265688788396,
          0.92043775112687,
          -0.10712672319958433,
          1.1501955181319716,
          0.6439131201949732,
          2.583267616020893,
          0.13052563828206876,
          1.0131849905824892,
          0.3171024009772669,
          0.4641617762658638,
          0.8936231421269053,
          0.09953913088989552,
          -1.2429752542059436,
          0.4196586830181561,
          1.6649062873030138,
          2.238743232817446,
          0.7299236373428208,
          -1.041119021171871,
          -1.9587840335932014,
          -0.13960371338206884,
          2.1011494620120112,
          -0.5086838420889284,
          0.4976483724050025,
          1.301497740210098,
          0.698797336386389,
          -0.5487950893484397,
          1.2147999334692914,
          0.7169467454622688,
          0.6779165078673342,
          1.2326652258592496,
          -2.892257612842967,
          0.950367540968684,
          2.298781121192945,
          0.23451969176778042,
          -0.482011189268143,
          1.8407523932799732,
          4.585466741248367,
          1.6202388167903736,
          -0.2642330481093873,
          2.4628602491144616,
          0.5559417825445467,
          0.47477284366857464,
          2.0344512658062213,
          1.0621730087350485,
          1.9339517868774398,
          0.4438304865281289,
          0.3374975772108119,
          0.640439949050996,
          3.693635155802485,
          1.5872057809409479,
          1.6564633346831117,
          1.354589383312712,
          2.7083350775017108,
          1.2676787180692166,
          0.20039267675666822,
          0.07641814336987371,
          2.2375138617027455,
          -0.5207023266512967,
          0.9560448562683668,
          1.8762086495417254,
          -0.5849324649129148,
          -1.0068192378749603,
          1.5542783722665419,
          2.3480580269764744,
          0.8760460253193116,
          1.6247730028369785,
          -0.6505894145504217,
          0.30687762878753905,
          2.610338567726139,
          2.4452245659033554,
          2.912788452344013,
          3.1397760576181906,
          4.89622189881436,
          -1.0161624170243226,
          1.0697057232148288,
          2.3687376645555354,
          0.10681174971750043,
          5.068590780142833,
          2.231595838833224,
          4.050588484132412,
          4.537338470521154,
          1.0011362754206738,
          0.9071533761780115,
          -0.06954006331115437,
          1.9152823471366456,
          1.9332271622431967,
          0.3512713140102899,
          0.33511605404252176,
          1.4805729042188611,
          0.10994207567199046,
          0.21241443738715082,
          1.5273393648932123,
          0.32046219150602717,
          3.2075448642455573,
          2.532405115124711,
          2.6337021016985025,
          1.0438035600747475,
          -0.42088731288165143,
          0.9718792691041245,
          1.6428218596982633,
          1.280821330744847,
          3.9215632684821182,
          1.5439299013532952,
          2.001847954676831,
          0.6927440496383501,
          0.7481571106642924,
          2.7953367572019983,
          0.39100599516442147,
          -0.11465143302191128,
          -0.3731798430148511,
          1.3857699826992467,
          -0.775879785023889,
          0.20907707919072216,
          2.2564748980044986,
          -0.10990270207015412,
          0.17957838142538832,
          0.19166271898985981,
          0.5127062689670693,
          1.431679060872242,
          3.0969623233841297,
          -0.528582580137508,
          0.23911082634252204,
          4.089127442894025,
          1.0754107586472574,
          0.5314929478468128,
          0.4030553212813268,
          0.1128578427320378,
          1.5412384462412063,
          -1.6471828131539206,
          1.0091905500416325,
          1.5862518810938024,
          1.3960542120618256,
          0.1294368332745276,
          1.118524314865702,
          1.4389295282165162,
          0.795676941161275,
          2.1067473280500177,
          -0.2880482851227896,
          0.751800724413283,
          0.47492921342220284,
          0.41248657159526037,
          0.9232064003246492,
          -0.6300478996107325,
          -0.4162988705886426,
          0.22387204599399013,
          0.11987884436584649,
          -0.9433681731175891,
          0.009945138758545913,
          0.7721000047604446,
          1.593766066167721,
          1.4391068628637576,
          0.479345949530281,
          1.5460538709556362,
          0.5877470453336585,
          0.24049249511222093,
          1.1681613576297398,
          -0.017502325711208716,
          1.3716951274854552,
          -0.844386669859751,
          1.2853083804202146,
          0.6935794309633684,
          0.5333982333596202,
          -0.9635539154104009,
          1.7190703804469285,
          0.4456726993140697,
          1.1170993456022857,
          0.5901123563115493,
          0.7708143336371771,
          1.1415364948050768,
          -1.2548271795224915,
          -1.884272525811919,
          0.3019029186001154,
          1.2413913692376923,
          0.9803094924260295,
          0.7634467474580191,
          0.11139552357387572,
          -0.5533626321625197,
          1.6613419331320962,
          -0.6200028669379551,
          0.4995406649596192,
          0.03660951054226558,
          0.9855169365321138,
          -0.8866129333007134,
          -0.3864019764707045,
          0.9711052913047344,
          1.7971334626534983,
          -0.6808151238527944,
          -0.5553366942010632,
          1.1707649639976023,
          2.0872304436027904,
          2.071146958496394,
          -1.2077553708537596,
          -0.741004077767661,
          0.26179817999494676,
          0.21480659502717936,
          2.3932458217598405,
          1.97266949845025,
          -0.342929429977365,
          0.23261728299150644,
          0.8076673608584458,
          1.3281589799593623,
          0.18755900637125555,
          1.0577710350245502,
          -0.4416691365371752,
          1.7507105655448256,
          -0.13470808531328368,
          1.0899762306258232,
          0.40685917616398676,
          0.6087167717755438,
          0.5473880463766607,
          0.7269780455708794,
          0.17911289037815106,
          0.00447641566762047,
          -1.2175053662634014,
          0.6060259660572137,
          -0.1999498956118767,
          0.6247753526302612,
          -0.6795832345594941,
          0.2298960106011282,
          -0.04347890606929117,
          0.15962253117917669,
          -0.9398374564681045,
          -0.6399931052388221,
          -0.43738029770545406,
          -1.909414256361441,
          1.150840457385409,
          1.148438650519003,
          1.8032102987622083,
          -1.7528277271521877,
          0.32538057312934077,
          -0.16923061096222947,
          -0.3886506677181854,
          0.9162762409483147,
          -0.024904867319248156,
          1.3648922916362067,
          0.5712568580086383,
          2.1432187273763903,
          0.7956207716736223,
          0.9339068035481441,
          0.8079753600397788,
          -0.05202124836279676,
          -0.3958008602466637,
          -0.2702617021921496,
          1.0943272097421073,
          0.10986507867664523,
          -0.07257855229165816,
          2.01390328068093,
          2.7122165858922607,
          0.2991836243955867,
          0.634493933893582,
          0.13602853094881617,
          -1.221751477384554,
          -0.07040382162605308,
          -0.07588235847566072,
          0.06288653201121525,
          -0.5760319258282482,
          0.7910229051253366,
          0.7809613508269638,
          0.31740308183542754,
          0.44138355867701995,
          -0.17103769515257017,
          -0.4234453123419956,
          -0.5208069063908811,
          0.12154444609816756,
          -0.824530176076792,
          0.8585870377406941,
          0.42566989695046564,
          -0.02507339095618455,
          2.3007577981102147,
          -0.4703367265621805,
          0.292283448437901,
          0.22767207814510948,
          0.16629241292775004,
          -1.2460118927333204,
          1.0817250764795738,
          -0.14723785050954635,
          0.37480648892892776,
          1.1414580211025447,
          0.5048075100478275,
          0.6011263600301635,
          -0.21339469797985788,
          1.6350566882324071,
          -1.1113006142259727,
          0.48833074146622885,
          -0.9818420867436283,
          -0.5268693017245596,
          -0.11137756818579347,
          0.9496629429056037,
          -0.8320001926094672,
          2.2413020131810057,
          -1.5728953207179237,
          0.1599052898979353,
          0.3995226531987871,
          0.6575224375858179,
          0.08764335201447393,
          1.5279141299742112,
          1.733697491761096,
          0.1986254808986455,
          -2.1981055894853125,
          -0.5468959423220958,
          1.041988008947867,
          0.7934802157850465,
          -0.007964399508657405,
          -0.3990019485109212,
          1.1928709788730134,
          1.9703612700450994,
          1.5437244244719683,
          1.0654600246290251,
          1.4278323581716412,
          3.3583910113731714,
          -0.9949842210939135,
          0.10354544301360799,
          0.9794164446825133,
          -0.4544309675291137,
          -1.4816443351301085,
          2.0143331202737946,
          0.11388933817462835,
          -1.286652220761606,
          2.9189683512112117,
          -0.5490312369877988,
          0.05490723802491573,
          2.469381387426065,
          -0.3249615554740954,
          1.5115440552760562,
          -0.09665597394459843,
          1.4627031273364233,
          0.2624828052893639,
          0.34234231617551114,
          0.7039197184390452,
          0.5297628224355235,
          1.0800118884372663,
          1.2851602506694464,
          1.561096587991156,
          0.5552014967041426,
          0.9479254854322328,
          0.33212198848558294,
          -0.5437297725403875,
          0.45164979722896503,
          -0.2145274658175353,
          0.2673244139261332,
          -2.8913693964107363,
          0.6231530056898213,
          0.12690083840578786,
          -0.3899310563947035,
          0.42287528730192275,
          -0.7650488959673982,
          -1.0185190361590926,
          -0.9898679386755429,
          -1.2095927570211833,
          -1.0678921511555606,
          -1.6417783264411698,
          -1.4989926796240753,
          0.7136356988708413,
          -0.8415305597201146,
          -2.544505059709127,
          -0.9461212312404883,
          -0.010276774941045203,
          0.9357866737872925,
          0.30824280377568103,
          0.5756771787768762,
          1.7968145687833266,
          1.4123301111486823,
          1.3988353508810083,
          0.2040816450311379,
          0.30606482953331104,
          1.3558658639976553,
          -1.716790162818449,
          0.48228084259837356,
          -0.8702644465354339,
          0.2602572569623486,
          0.9136623572381405,
          1.4452761329136046,
          1.3680479858344685,
          0.051449583526641085,
          0.6869453783352939,
          -1.1968275242269628,
          0.43250107809291316,
          1.2027653248996133,
          -0.7319101579062903,
          -0.37897455604226266,
          0.01825739201075429,
          -0.3571308710297971,
          1.2268999821101172,
          0.22855149683615067,
          0.05604853082696071,
          0.8944136058094979,
          -1.2082904287264884,
          0,
          0,
          -0.18980513290106837,
          1.4698332669927958,
          1.1907148167505652,
          0.0974072014320172,
          3.075591350474391,
          1.4180416605287554,
          2.0593273075446334,
          1.0687008326668452,
          1.4044652809030735,
          0.7411850614103445,
          3.0696707725523456,
          1.34809736515574,
          0.2540221049771337,
          0.6840770419969098,
          2.187741866432442,
          -0.6783199964793505,
          -0.16720752998181085,
          0.9659957933696347,
          0.6274725904410364,
          0.5304980246670226,
          1.8911639101153521,
          1.4574692237768168,
          -0.5925837186670839,
          -0.2490277774777876,
          -0.579086310436659,
          1.4477436853757757,
          1.4101183852739594,
          1.7401970405610374,
          1.345099291981282,
          0.9275227053844346,
          2.4534451102016344,
          2.3515765748686337,
          -0.28222748974056877,
          2.683678425421152,
          0.15110038135619192,
          2.641877397866616,
          -0.4423442934498859,
          -0.6432859568830773,
          1.1356744757410389,
          0.21834077812855524,
          2.978806456397505,
          0.2476521885948986,
          -0.413786720296473,
          0.9003860631375604,
          0.9483041061423318,
          0.16102017470979405,
          -0.59338624360815,
          -0.1928575654573162,
          0.20150428536793114,
          1.9968939976438453,
          0.2532871774003155,
          0.19859653128465315,
          -1.16016014116481,
          0.07308398353108744,
          0.6195118747694526,
          0.9323810713068541,
          -0.15625241174829863,
          -0.5515570371379668,
          0.4863230664320845,
          -0.14174993592216323,
          1.122593041121597,
          1.70591582881371,
          0.38965880236518025,
          2.439643983135497,
          -0.0066256044908848954,
          0.7356290638598454,
          0.03845701855922268,
          2.6322458925580743,
          0.17552580364362097,
          0.3902982644814241,
          1.1858375121054632,
          1.11146435517266,
          1.801930820040254,
          -0.400968402859212,
          -0.32289294642419547,
          -0.8392972990505929,
          1.4603235187540464,
          1.282502903350897,
          -0.06370752627716042,
          0.4537891988938289,
          0.7558658635715,
          0.3320849417094529,
          1.8417816954137298,
          -0.019968947065397535,
          0.33736428307454325,
          1.0388387875066813,
          3.3351636308669144,
          1.8232477074755185,
          0.7989578475360007,
          -0.5796553552136919,
          -0.4156253570682081,
          0.7794025817437027,
          2.420701223618006,
          1.1895822189457912,
          1.2994128405559076,
          1.5574431695874658,
          1.231680404609459,
          -1.0147383316271583,
          1.1171909977954022,
          0.6307401053648302,
          1.4480102389063325,
          0.663430522812753,
          1.3761727860820718,
          0.9951268114623213,
          1.058121625215416,
          3.3147192686932847,
          1.2758034084065397,
          0.1463928619002023,
          2.7985626534708627,
          -0.1806185529224919,
          0.6943236665598406,
          -0.7603667642588998,
          -0.5569577440788843,
          -0.1559725731277553,
          0.32586745656510263,
          1.0755581626482122,
          0.9337266086846546,
          0.7099508754390287,
          -0.13961597659358332,
          1.34598862949678,
          -0.6471290596938357,
          -0.10301919124719289,
          0.5034428099187049,
          0.8143365519031377,
          2.361198849732201,
          1.8338299601030028,
          0.10120258444930758,
          0.19536806703677512,
          0.42959412274127157,
          -0.4760958527156939,
          -1.0839880325474869,
          0.02461749532312771,
          0.39959258618551097,
          1.836173952337659,
          1.9513674940707577,
          1.4368887103631462,
          0.08485003940339553,
          0.05890871926641039,
          -0.27435637789144995,
          1.8064049304322027,
          -0.07297776125039916,
          0.9535648359571909,
          -1.2771063747781817,
          -0.7631245373259128,
          0.343992407682957,
          1.3373067236116152,
          0.5688150826858622,
          -0.21781308112155262,
          -1.4499220947038929,
          2.689510386912851,
          1.6568981576665975,
          1.171077082022303,
          1.8519918843481435,
          1.1527691223315044,
          0.3102374555450555,
          1.6977409414837998,
          0.5849066523817312,
          0.9449753156010553,
          -0.13430748037223758,
          2.305863119990809,
          1.8821288026955805,
          -0.22803805307746247,
          -0.8941379489080797,
          0.9959699910304294,
          1.0675220669211192,
          1.9178820030029928,
          1.2513352978073078,
          3.013499571999554,
          0.19361113270505398,
          2.249467999144518,
          1.9723574398565697,
          3.409521606779886,
          2.775537740864939,
          2.9260604818689364,
          0.323489439365984,
          1.2063549537191072,
          -0.6054653229064523,
          1.9025866865990266,
          -1.0833454739013524,
          0.4480951998719563,
          2.323843828885886,
          -1.8655727618131832,
          -0.272281327538375,
          1.2003400001030737,
          -0.22950454781975604,
          0.18296827498425325,
          1.7118188582893064,
          2.370008197278346,
          1.6913928968224674,
          2.975171295861875,
          4.720118631289937,
          3.507685421494968,
          1.0405153574893895,
          -0.6595671881317817,
          1.1126365653670154,
          1.749971288271707,
          3.53029345797888,
          1.0474004317908927,
          2.2682422939100793,
          0.8152744277772265,
          3.1678574222818807,
          2.098642814498909,
          0.08673535266108012,
          3.9064898783448188,
          4.809981121036583,
          0.9543114431418246,
          2.927586848618065,
          3.396755547522763,
          2.9325931246943573,
          0.4388878204877501,
          2.1253825180616372,
          3.13330300116442,
          1.024292663480804,
          2.1842434506673016,
          1.4593396846121065,
          1.6751454885679948,
          0.35487320425001245,
          0.5895998011893909,
          1.291585971669236,
          0.15209363516671656,
          0.9943137580207282,
          0.6628208880519507,
          0.5113767123367225,
          2.8059677905273546,
          4.2383982528635515,
          2.250659234208071,
          1.8161569368514536,
          1.56498651974793,
          -0.4771839310067106,
          5.273506130726724,
          1.1414350745869748,
          3.7357539780431686,
          4.002728903273445,
          3.8269193748075447,
          -0.20409286778329994,
          0.9452354538471646,
          1.1922433414585096,
          1.1005068231207955,
          1.6951062156319423,
          4.472151377640115,
          5.963546166090049,
          4.136667632245721,
          2.0797362162478974,
          3.2668185156107508,
          2.0419121574633454,
          3.414548610990686,
          2.7295582307520907,
          3.2029062559953543,
          3.176634563190573,
          3.9838291151767127,
          4.361804770282229,
          6.155592207308603,
          7.178887246126798,
          5.096882521036776,
          -0.6083441334155673,
          1.9279474101846779,
          2.440605543628074,
          3.0026840977156843,
          2.7884737083226834,
          -1.7270151796245736,
          -1.2923021071986758,
          2.9320710982644345,
          5.425599569858007,
          3.02012929781335,
          0.26134452074459263,
          0.941570137406188,
          5.106019522515298,
          4.0597021831069044,
          0.3601701120893709,
          1.5191247002289343,
          3.970769630323164,
          3.6736988221416653,
          0.9153964943197409,
          4.40538640381196,
          3.520207932679026,
          5.060126628015845,
          11.267844041456067,
          8.170804087459441,
          7.85524704442796,
          6.216284876579488,
          3.325846752161959,
          7.641408724214336,
          9.833070883673589,
          10.578783270629973,
          9.196951216413499,
          8.561517806715937,
          11.077675423912588,
          10.291034664115704,
          6.461267715674548,
          8.67174583651937,
          9.583722531466195,
          10.240596474127283,
          6.453855709625319,
          10.095664412578772,
          13.805751862083532,
          15.870333384226198,
          8.122369449642315,
          8.383622402091826,
          9.281613328622345,
          2.348453940753625,
          7.282785770820903,
          8.655575834991609,
          8.220921625688515,
          4.501783584352711,
          3.332475155802865,
          7.673334298898833,
          7.428502818017222,
          2.7925387968581035,
          11.375954906745774,
          7.391894885500721,
          9.744185532499351,
          7.949732345752376,
          8.45794392559576,
          6.423275113361887,
          6.264669021457852,
          0.8928515695964657,
          4.679704501045424,
          3.0535604600024366,
          0.6426538213828833,
          7.423145228517971,
          4.828644182130806,
          5.747251357101014,
          1.9954096395595842,
          2.896474377538368,
          2.5715183783522506,
          2.008610202145118,
          4.748951298957335,
          5.098714214011134,
          6.481572049881956,
          7.31563186236027,
          7.06349377175393,
          4.225519618892725,
          8.409460532921546,
          2.453748831203473E-4,
          9.659470410800745,
          6.282031134312799,
          4.0475906007045745,
          4.402630127026722,
          4.445554539077744,
          3.752161071181708,
          5.912562742217839,
          2.99983038951409,
          3.083859138783269,
          3.944778491443475,
          2.175653685324791,
          11.01262621179744,
          6.768680456790905,
          13.170256581784406,
          12.671906239486258,
          9.120351069806453,
          5.236029483073103,
          8.56852385233827,
          6.972830348747111,
          10.18316254164257,
          8.097661454273856,
          5.8067992139449425,
          10.926432291524282,
          2.2153666246025514,
          6.821236197674087,
          6.367006682078088,
          3.603386713949995,
          9.142215965654245,
          7.545802084426402,
          8.403764384153765,
          7.9967377969068565,
          7.377290301738113,
          9.497320158623872,
          5.0213069656758655,
          9.015726327227362,
          6.232589396233674,
          5.05700447543809,
          3.9338422947378113,
          4.800606024785172,
          9.779296645147088,
          7.665396863511752,
          8.93789480786008,
          1.728590006453765,
          12.247420187250519,
          1.8205603069211787,
          5.577813809506963,
          9.318956686260384,
          6.126065058171167,
          6.651335080473092,
          -1.4561340939665788,
          1.5894128344832215,
          0.5956670309731242,
          3.976012643331889,
          1.3410027018217292,
          5.201478466667272,
          5.050460615203189,
          2.856105622873656,
          5.130435818895949,
          1.719366006858169,
          4.6909958035661266,
          7.003180784689118,
          1.7041727987064093,
          8.402949819429836,
          2.777457187224673,
          2.391960393781141,
          5.254591828267934,
          7.396372778787139,
          2.399426972110746,
          4.420296417267298,
          3.799889921071548,
          6.9235400455395295,
          4.160599374886548,
          5.281638357513896,
          1.0227344265466098,
          2.4077275429637264,
          9.969383443453834,
          4.733983367177838,
          3.725590501048705,
          8.803735411622071,
          5.277541188733431,
          7.516915641993237,
          2.607829892263052,
          1.963774337904513,
          1.9763927857878065,
          1.2591260749796545,
          4.81163866016021,
          6.412303673106753,
          5.3298412561519,
          2.0216825583278353,
          4.576592574473738,
          4.715827310123246,
          5.440510503805492,
          0.40487552595159926
         ],
         "yaxis": "y"
        },
        {
         "name": "Bit Coin Avg",
         "type": "scatter",
         "x": [
          "2019-01-01T00:00:00",
          "2019-01-02T00:00:00",
          "2019-01-03T00:00:00",
          "2019-01-04T00:00:00",
          "2019-01-05T00:00:00",
          "2019-01-06T00:00:00",
          "2019-01-07T00:00:00",
          "2019-01-08T00:00:00",
          "2019-01-09T00:00:00",
          "2019-01-10T00:00:00",
          "2019-01-11T00:00:00",
          "2019-01-12T00:00:00",
          "2019-01-13T00:00:00",
          "2019-01-14T00:00:00",
          "2019-01-15T00:00:00",
          "2019-01-16T00:00:00",
          "2019-01-17T00:00:00",
          "2019-01-18T00:00:00",
          "2019-01-19T00:00:00",
          "2019-01-20T00:00:00",
          "2019-01-21T00:00:00",
          "2019-01-22T00:00:00",
          "2019-01-23T00:00:00",
          "2019-01-24T00:00:00",
          "2019-01-25T00:00:00",
          "2019-01-26T00:00:00",
          "2019-01-27T00:00:00",
          "2019-01-28T00:00:00",
          "2019-01-29T00:00:00",
          "2019-01-30T00:00:00",
          "2019-01-31T00:00:00",
          "2019-02-01T00:00:00",
          "2019-02-02T00:00:00",
          "2019-02-03T00:00:00",
          "2019-02-04T00:00:00",
          "2019-02-05T00:00:00",
          "2019-02-06T00:00:00",
          "2019-02-07T00:00:00",
          "2019-02-08T00:00:00",
          "2019-02-09T00:00:00",
          "2019-02-10T00:00:00",
          "2019-02-11T00:00:00",
          "2019-02-12T00:00:00",
          "2019-02-13T00:00:00",
          "2019-02-14T00:00:00",
          "2019-02-15T00:00:00",
          "2019-02-16T00:00:00",
          "2019-02-17T00:00:00",
          "2019-02-18T00:00:00",
          "2019-02-19T00:00:00",
          "2019-02-20T00:00:00",
          "2019-02-21T00:00:00",
          "2019-02-22T00:00:00",
          "2019-02-23T00:00:00",
          "2019-02-24T00:00:00",
          "2019-02-25T00:00:00",
          "2019-02-26T00:00:00",
          "2019-02-27T00:00:00",
          "2019-02-28T00:00:00",
          "2019-03-01T00:00:00",
          "2019-03-02T00:00:00",
          "2019-03-03T00:00:00",
          "2019-03-04T00:00:00",
          "2019-03-05T00:00:00",
          "2019-03-06T00:00:00",
          "2019-03-07T00:00:00",
          "2019-03-08T00:00:00",
          "2019-03-09T00:00:00",
          "2019-03-10T00:00:00",
          "2019-03-11T00:00:00",
          "2019-03-12T00:00:00",
          "2019-03-13T00:00:00",
          "2019-03-14T00:00:00",
          "2019-03-15T00:00:00",
          "2019-03-16T00:00:00",
          "2019-03-17T00:00:00",
          "2019-03-18T00:00:00",
          "2019-03-19T00:00:00",
          "2019-03-20T00:00:00",
          "2019-03-21T00:00:00",
          "2019-03-22T00:00:00",
          "2019-03-23T00:00:00",
          "2019-03-24T00:00:00",
          "2019-03-25T00:00:00",
          "2019-03-26T00:00:00",
          "2019-03-27T00:00:00",
          "2019-03-28T00:00:00",
          "2019-03-29T00:00:00",
          "2019-03-30T00:00:00",
          "2019-03-31T00:00:00",
          "2019-04-01T00:00:00",
          "2019-04-02T00:00:00",
          "2019-04-03T00:00:00",
          "2019-04-04T00:00:00",
          "2019-04-05T00:00:00",
          "2019-04-06T00:00:00",
          "2019-04-07T00:00:00",
          "2019-04-08T00:00:00",
          "2019-04-09T00:00:00",
          "2019-04-10T00:00:00",
          "2019-04-11T00:00:00",
          "2019-04-12T00:00:00",
          "2019-04-13T00:00:00",
          "2019-04-14T00:00:00",
          "2019-04-15T00:00:00",
          "2019-04-16T00:00:00",
          "2019-04-17T00:00:00",
          "2019-04-18T00:00:00",
          "2019-04-19T00:00:00",
          "2019-04-20T00:00:00",
          "2019-04-21T00:00:00",
          "2019-04-22T00:00:00",
          "2019-04-23T00:00:00",
          "2019-04-24T00:00:00",
          "2019-04-25T00:00:00",
          "2019-04-26T00:00:00",
          "2019-04-27T00:00:00",
          "2019-04-28T00:00:00",
          "2019-04-29T00:00:00",
          "2019-04-30T00:00:00",
          "2019-05-01T00:00:00",
          "2019-05-02T00:00:00",
          "2019-05-03T00:00:00",
          "2019-05-04T00:00:00",
          "2019-05-05T00:00:00",
          "2019-05-06T00:00:00",
          "2019-05-07T00:00:00",
          "2019-05-08T00:00:00",
          "2019-05-09T00:00:00",
          "2019-05-10T00:00:00",
          "2019-05-11T00:00:00",
          "2019-05-12T00:00:00",
          "2019-05-13T00:00:00",
          "2019-05-14T00:00:00",
          "2019-05-15T00:00:00",
          "2019-05-16T00:00:00",
          "2019-05-17T00:00:00",
          "2019-05-18T00:00:00",
          "2019-05-19T00:00:00",
          "2019-05-20T00:00:00",
          "2019-05-21T00:00:00",
          "2019-05-22T00:00:00",
          "2019-05-23T00:00:00",
          "2019-05-24T00:00:00",
          "2019-05-25T00:00:00",
          "2019-05-26T00:00:00",
          "2019-05-27T00:00:00",
          "2019-05-28T00:00:00",
          "2019-05-29T00:00:00",
          "2019-05-30T00:00:00",
          "2019-05-31T00:00:00",
          "2019-06-01T00:00:00",
          "2019-06-02T00:00:00",
          "2019-06-03T00:00:00",
          "2019-06-04T00:00:00",
          "2019-06-05T00:00:00",
          "2019-06-06T00:00:00",
          "2019-06-07T00:00:00",
          "2019-06-08T00:00:00",
          "2019-06-09T00:00:00",
          "2019-06-10T00:00:00",
          "2019-06-11T00:00:00",
          "2019-06-12T00:00:00",
          "2019-06-13T00:00:00",
          "2019-06-14T00:00:00",
          "2019-06-15T00:00:00",
          "2019-06-16T00:00:00",
          "2019-06-17T00:00:00",
          "2019-06-18T00:00:00",
          "2019-06-19T00:00:00",
          "2019-06-20T00:00:00",
          "2019-06-21T00:00:00",
          "2019-06-22T00:00:00",
          "2019-06-23T00:00:00",
          "2019-06-24T00:00:00",
          "2019-06-25T00:00:00",
          "2019-06-26T00:00:00",
          "2019-06-27T00:00:00",
          "2019-06-28T00:00:00",
          "2019-06-29T00:00:00",
          "2019-06-30T00:00:00",
          "2019-07-01T00:00:00",
          "2019-07-02T00:00:00",
          "2019-07-03T00:00:00",
          "2019-07-04T00:00:00",
          "2019-07-05T00:00:00",
          "2019-07-06T00:00:00",
          "2019-07-07T00:00:00",
          "2019-07-08T00:00:00",
          "2019-07-09T00:00:00",
          "2019-07-10T00:00:00",
          "2019-07-11T00:00:00",
          "2019-07-12T00:00:00",
          "2019-07-13T00:00:00",
          "2019-07-14T00:00:00",
          "2019-07-15T00:00:00",
          "2019-07-16T00:00:00",
          "2019-07-17T00:00:00",
          "2019-07-18T00:00:00",
          "2019-07-19T00:00:00",
          "2019-07-20T00:00:00",
          "2019-07-21T00:00:00",
          "2019-07-22T00:00:00",
          "2019-07-23T00:00:00",
          "2019-07-24T00:00:00",
          "2019-07-25T00:00:00",
          "2019-07-26T00:00:00",
          "2019-07-27T00:00:00",
          "2019-07-28T00:00:00",
          "2019-07-29T00:00:00",
          "2019-07-30T00:00:00",
          "2019-07-31T00:00:00",
          "2019-08-01T00:00:00",
          "2019-08-02T00:00:00",
          "2019-08-03T00:00:00",
          "2019-08-04T00:00:00",
          "2019-08-05T00:00:00",
          "2019-08-06T00:00:00",
          "2019-08-07T00:00:00",
          "2019-08-08T00:00:00",
          "2019-08-09T00:00:00",
          "2019-08-10T00:00:00",
          "2019-08-11T00:00:00",
          "2019-08-12T00:00:00",
          "2019-08-13T00:00:00",
          "2019-08-14T00:00:00",
          "2019-08-15T00:00:00",
          "2019-08-16T00:00:00",
          "2019-08-17T00:00:00",
          "2019-08-18T00:00:00",
          "2019-08-19T00:00:00",
          "2019-08-20T00:00:00",
          "2019-08-21T00:00:00",
          "2019-08-22T00:00:00",
          "2019-08-23T00:00:00",
          "2019-08-24T00:00:00",
          "2019-08-25T00:00:00",
          "2019-08-26T00:00:00",
          "2019-08-27T00:00:00",
          "2019-08-28T00:00:00",
          "2019-08-29T00:00:00",
          "2019-08-30T00:00:00",
          "2019-08-31T00:00:00",
          "2019-09-01T00:00:00",
          "2019-09-02T00:00:00",
          "2019-09-03T00:00:00",
          "2019-09-04T00:00:00",
          "2019-09-05T00:00:00",
          "2019-09-06T00:00:00",
          "2019-09-07T00:00:00",
          "2019-09-08T00:00:00",
          "2019-09-09T00:00:00",
          "2019-09-10T00:00:00",
          "2019-09-11T00:00:00",
          "2019-09-12T00:00:00",
          "2019-09-13T00:00:00",
          "2019-09-14T00:00:00",
          "2019-09-15T00:00:00",
          "2019-09-16T00:00:00",
          "2019-09-17T00:00:00",
          "2019-09-18T00:00:00",
          "2019-09-19T00:00:00",
          "2019-09-20T00:00:00",
          "2019-09-21T00:00:00",
          "2019-09-22T00:00:00",
          "2019-09-23T00:00:00",
          "2019-09-24T00:00:00",
          "2019-09-25T00:00:00",
          "2019-09-26T00:00:00",
          "2019-09-27T00:00:00",
          "2019-09-28T00:00:00",
          "2019-09-29T00:00:00",
          "2019-09-30T00:00:00",
          "2019-10-01T00:00:00",
          "2019-10-02T00:00:00",
          "2019-10-03T00:00:00",
          "2019-10-04T00:00:00",
          "2019-10-05T00:00:00",
          "2019-10-06T00:00:00",
          "2019-10-07T00:00:00",
          "2019-10-08T00:00:00",
          "2019-10-09T00:00:00",
          "2019-10-10T00:00:00",
          "2019-10-11T00:00:00",
          "2019-10-12T00:00:00",
          "2019-10-13T00:00:00",
          "2019-10-14T00:00:00",
          "2019-10-15T00:00:00",
          "2019-10-16T00:00:00",
          "2019-10-17T00:00:00",
          "2019-10-18T00:00:00",
          "2019-10-19T00:00:00",
          "2019-10-20T00:00:00",
          "2019-10-21T00:00:00",
          "2019-10-22T00:00:00",
          "2019-10-23T00:00:00",
          "2019-10-24T00:00:00",
          "2019-10-25T00:00:00",
          "2019-10-26T00:00:00",
          "2019-10-27T00:00:00",
          "2019-10-28T00:00:00",
          "2019-10-29T00:00:00",
          "2019-10-30T00:00:00",
          "2019-10-31T00:00:00",
          "2019-11-01T00:00:00",
          "2019-11-02T00:00:00",
          "2019-11-03T00:00:00",
          "2019-11-04T00:00:00",
          "2019-11-05T00:00:00",
          "2019-11-06T00:00:00",
          "2019-11-07T00:00:00",
          "2019-11-08T00:00:00",
          "2019-11-09T00:00:00",
          "2019-11-10T00:00:00",
          "2019-11-11T00:00:00",
          "2019-11-12T00:00:00",
          "2019-11-13T00:00:00",
          "2019-11-14T00:00:00",
          "2019-11-15T00:00:00",
          "2019-11-16T00:00:00",
          "2019-11-17T00:00:00",
          "2019-11-18T00:00:00",
          "2019-11-19T00:00:00",
          "2019-11-20T00:00:00",
          "2019-11-21T00:00:00",
          "2019-11-22T00:00:00",
          "2019-11-23T00:00:00",
          "2019-11-24T00:00:00",
          "2019-11-25T00:00:00",
          "2019-11-26T00:00:00",
          "2019-11-27T00:00:00",
          "2019-11-28T00:00:00",
          "2019-11-29T00:00:00",
          "2019-11-30T00:00:00",
          "2019-12-01T00:00:00",
          "2019-12-02T00:00:00",
          "2019-12-03T00:00:00",
          "2019-12-04T00:00:00",
          "2019-12-05T00:00:00",
          "2019-12-06T00:00:00",
          "2019-12-07T00:00:00",
          "2019-12-08T00:00:00",
          "2019-12-09T00:00:00",
          "2019-12-10T00:00:00",
          "2019-12-11T00:00:00",
          "2019-12-12T00:00:00",
          "2019-12-13T00:00:00",
          "2019-12-14T00:00:00",
          "2019-12-15T00:00:00",
          "2019-12-16T00:00:00",
          "2019-12-17T00:00:00",
          "2019-12-18T00:00:00",
          "2019-12-19T00:00:00",
          "2019-12-20T00:00:00",
          "2019-12-21T00:00:00",
          "2019-12-22T00:00:00",
          "2019-12-23T00:00:00",
          "2019-12-24T00:00:00",
          "2019-12-25T00:00:00",
          "2019-12-26T00:00:00",
          "2019-12-27T00:00:00",
          "2019-12-28T00:00:00",
          "2019-12-29T00:00:00",
          "2019-12-30T00:00:00",
          "2019-12-31T00:00:00",
          "2020-01-01T00:00:00",
          "2020-01-02T00:00:00",
          "2020-01-03T00:00:00",
          "2020-01-04T00:00:00",
          "2020-01-05T00:00:00",
          "2020-01-06T00:00:00",
          "2020-01-07T00:00:00",
          "2020-01-08T00:00:00",
          "2020-01-09T00:00:00",
          "2020-01-10T00:00:00",
          "2020-01-11T00:00:00",
          "2020-01-12T00:00:00",
          "2020-01-13T00:00:00",
          "2020-01-14T00:00:00",
          "2020-01-15T00:00:00",
          "2020-01-16T00:00:00",
          "2020-01-17T00:00:00",
          "2020-01-18T00:00:00",
          "2020-01-19T00:00:00",
          "2020-01-20T00:00:00",
          "2020-01-21T00:00:00",
          "2020-01-22T00:00:00",
          "2020-01-23T00:00:00",
          "2020-01-24T00:00:00",
          "2020-01-25T00:00:00",
          "2020-01-26T00:00:00",
          "2020-01-27T00:00:00",
          "2020-01-28T00:00:00",
          "2020-01-29T00:00:00",
          "2020-01-30T00:00:00",
          "2020-01-31T00:00:00",
          "2020-02-01T00:00:00",
          "2020-02-02T00:00:00",
          "2020-02-03T00:00:00",
          "2020-02-04T00:00:00",
          "2020-02-05T00:00:00",
          "2020-02-06T00:00:00",
          "2020-02-07T00:00:00",
          "2020-02-08T00:00:00",
          "2020-02-09T00:00:00",
          "2020-02-10T00:00:00",
          "2020-02-11T00:00:00",
          "2020-02-12T00:00:00",
          "2020-02-13T00:00:00",
          "2020-02-14T00:00:00",
          "2020-02-15T00:00:00",
          "2020-02-16T00:00:00",
          "2020-02-17T00:00:00",
          "2020-02-18T00:00:00",
          "2020-02-19T00:00:00",
          "2020-02-20T00:00:00",
          "2020-02-21T00:00:00",
          "2020-02-22T00:00:00",
          "2020-02-23T00:00:00",
          "2020-02-24T00:00:00",
          "2020-02-25T00:00:00",
          "2020-02-26T00:00:00",
          "2020-02-27T00:00:00",
          "2020-02-28T00:00:00",
          "2020-02-29T00:00:00",
          "2020-03-01T00:00:00",
          "2020-03-02T00:00:00",
          "2020-03-03T00:00:00",
          "2020-03-04T00:00:00",
          "2020-03-05T00:00:00",
          "2020-03-06T00:00:00",
          "2020-03-07T00:00:00",
          "2020-03-08T00:00:00",
          "2020-03-09T00:00:00",
          "2020-03-10T00:00:00",
          "2020-03-11T00:00:00",
          "2020-03-12T00:00:00",
          "2020-03-13T00:00:00",
          "2020-03-14T00:00:00",
          "2020-03-15T00:00:00",
          "2020-03-16T00:00:00",
          "2020-03-17T00:00:00",
          "2020-03-18T00:00:00",
          "2020-03-19T00:00:00",
          "2020-03-20T00:00:00",
          "2020-03-21T00:00:00",
          "2020-03-22T00:00:00",
          "2020-03-23T00:00:00",
          "2020-03-24T00:00:00",
          "2020-03-25T00:00:00",
          "2020-03-26T00:00:00",
          "2020-03-27T00:00:00",
          "2020-03-28T00:00:00",
          "2020-03-29T00:00:00",
          "2020-03-30T00:00:00",
          "2020-03-31T00:00:00",
          "2020-04-01T00:00:00",
          "2020-04-02T00:00:00",
          "2020-04-03T00:00:00",
          "2020-04-04T00:00:00",
          "2020-04-05T00:00:00",
          "2020-04-06T00:00:00",
          "2020-04-07T00:00:00",
          "2020-04-08T00:00:00",
          "2020-04-09T00:00:00",
          "2020-04-10T00:00:00",
          "2020-04-11T00:00:00",
          "2020-04-12T00:00:00",
          "2020-04-13T00:00:00",
          "2020-04-14T00:00:00",
          "2020-04-15T00:00:00",
          "2020-04-16T00:00:00",
          "2020-04-17T00:00:00",
          "2020-04-18T00:00:00",
          "2020-04-19T00:00:00",
          "2020-04-20T00:00:00",
          "2020-04-21T00:00:00",
          "2020-04-22T00:00:00",
          "2020-04-23T00:00:00",
          "2020-04-24T00:00:00",
          "2020-04-25T00:00:00",
          "2020-04-26T00:00:00",
          "2020-04-27T00:00:00",
          "2020-04-28T00:00:00",
          "2020-04-29T00:00:00",
          "2020-04-30T00:00:00",
          "2020-05-01T00:00:00",
          "2020-05-02T00:00:00",
          "2020-05-03T00:00:00",
          "2020-05-04T00:00:00",
          "2020-05-05T00:00:00",
          "2020-05-06T00:00:00",
          "2020-05-07T00:00:00",
          "2020-05-08T00:00:00",
          "2020-05-09T00:00:00",
          "2020-05-10T00:00:00",
          "2020-05-11T00:00:00",
          "2020-05-12T00:00:00",
          "2020-05-13T00:00:00",
          "2020-05-14T00:00:00",
          "2020-05-15T00:00:00",
          "2020-05-16T00:00:00",
          "2020-05-17T00:00:00",
          "2020-05-18T00:00:00",
          "2020-05-19T00:00:00",
          "2020-05-20T00:00:00",
          "2020-05-21T00:00:00",
          "2020-05-22T00:00:00",
          "2020-05-23T00:00:00",
          "2020-05-24T00:00:00",
          "2020-05-25T00:00:00",
          "2020-05-26T00:00:00",
          "2020-05-27T00:00:00",
          "2020-05-28T00:00:00",
          "2020-05-29T00:00:00",
          "2020-05-30T00:00:00",
          "2020-05-31T00:00:00",
          "2020-06-01T00:00:00",
          "2020-06-02T00:00:00",
          "2020-06-03T00:00:00",
          "2020-06-04T00:00:00",
          "2020-06-05T00:00:00",
          "2020-06-06T00:00:00",
          "2020-06-07T00:00:00",
          "2020-06-08T00:00:00",
          "2020-06-09T00:00:00",
          "2020-06-10T00:00:00",
          "2020-06-11T00:00:00",
          "2020-06-12T00:00:00",
          "2020-06-13T00:00:00",
          "2020-06-14T00:00:00",
          "2020-06-15T00:00:00",
          "2020-06-16T00:00:00",
          "2020-06-17T00:00:00",
          "2020-06-18T00:00:00",
          "2020-06-19T00:00:00",
          "2020-06-20T00:00:00",
          "2020-06-21T00:00:00",
          "2020-06-22T00:00:00",
          "2020-06-23T00:00:00",
          "2020-06-24T00:00:00",
          "2020-06-25T00:00:00",
          "2020-06-26T00:00:00",
          "2020-06-27T00:00:00",
          "2020-06-28T00:00:00",
          "2020-06-29T00:00:00",
          "2020-06-30T00:00:00",
          "2020-07-01T00:00:00",
          "2020-07-02T00:00:00",
          "2020-07-03T00:00:00",
          "2020-07-04T00:00:00",
          "2020-07-05T00:00:00",
          "2020-07-06T00:00:00",
          "2020-07-07T00:00:00",
          "2020-07-08T00:00:00",
          "2020-07-09T00:00:00",
          "2020-07-10T00:00:00",
          "2020-07-11T00:00:00",
          "2020-07-12T00:00:00",
          "2020-07-13T00:00:00",
          "2020-07-14T00:00:00",
          "2020-07-15T00:00:00",
          "2020-07-16T00:00:00",
          "2020-07-17T00:00:00",
          "2020-07-18T00:00:00",
          "2020-07-19T00:00:00",
          "2020-07-20T00:00:00",
          "2020-07-21T00:00:00",
          "2020-07-22T00:00:00",
          "2020-07-23T00:00:00",
          "2020-07-24T00:00:00",
          "2020-07-25T00:00:00",
          "2020-07-26T00:00:00",
          "2020-07-27T00:00:00",
          "2020-07-28T00:00:00",
          "2020-07-29T00:00:00",
          "2020-07-30T00:00:00",
          "2020-07-31T00:00:00",
          "2020-08-01T00:00:00",
          "2020-08-02T00:00:00",
          "2020-08-03T00:00:00",
          "2020-08-04T00:00:00",
          "2020-08-05T00:00:00",
          "2020-08-06T00:00:00",
          "2020-08-07T00:00:00",
          "2020-08-08T00:00:00",
          "2020-08-09T00:00:00",
          "2020-08-10T00:00:00",
          "2020-08-11T00:00:00",
          "2020-08-12T00:00:00",
          "2020-08-13T00:00:00",
          "2020-08-14T00:00:00",
          "2020-08-15T00:00:00",
          "2020-08-16T00:00:00",
          "2020-08-17T00:00:00",
          "2020-08-18T00:00:00",
          "2020-08-19T00:00:00",
          "2020-08-20T00:00:00",
          "2020-08-21T00:00:00",
          "2020-08-22T00:00:00",
          "2020-08-23T00:00:00",
          "2020-08-24T00:00:00",
          "2020-08-25T00:00:00",
          "2020-08-26T00:00:00",
          "2020-08-27T00:00:00",
          "2020-08-28T00:00:00",
          "2020-08-29T00:00:00",
          "2020-08-30T00:00:00",
          "2020-08-31T00:00:00",
          "2020-09-01T00:00:00",
          "2020-09-02T00:00:00",
          "2020-09-03T00:00:00",
          "2020-09-04T00:00:00",
          "2020-09-05T00:00:00",
          "2020-09-06T00:00:00",
          "2020-09-07T00:00:00",
          "2020-09-08T00:00:00",
          "2020-09-09T00:00:00",
          "2020-09-10T00:00:00",
          "2020-09-11T00:00:00",
          "2020-09-12T00:00:00",
          "2020-09-13T00:00:00",
          "2020-09-14T00:00:00",
          "2020-09-15T00:00:00",
          "2020-09-16T00:00:00",
          "2020-09-17T00:00:00",
          "2020-09-18T00:00:00",
          "2020-09-19T00:00:00",
          "2020-09-20T00:00:00",
          "2020-09-21T00:00:00",
          "2020-09-22T00:00:00",
          "2020-09-23T00:00:00",
          "2020-09-24T00:00:00",
          "2020-09-25T00:00:00",
          "2020-09-26T00:00:00",
          "2020-09-27T00:00:00",
          "2020-09-28T00:00:00",
          "2020-09-29T00:00:00",
          "2020-09-30T00:00:00",
          "2020-10-01T00:00:00",
          "2020-10-02T00:00:00",
          "2020-10-03T00:00:00",
          "2020-10-04T00:00:00",
          "2020-10-05T00:00:00",
          "2020-10-06T00:00:00",
          "2020-10-07T00:00:00",
          "2020-10-08T00:00:00",
          "2020-10-09T00:00:00",
          "2020-10-10T00:00:00",
          "2020-10-11T00:00:00",
          "2020-10-12T00:00:00",
          "2020-10-13T00:00:00",
          "2020-10-14T00:00:00",
          "2020-10-15T00:00:00",
          "2020-10-16T00:00:00",
          "2020-10-17T00:00:00",
          "2020-10-18T00:00:00",
          "2020-10-19T00:00:00",
          "2020-10-20T00:00:00",
          "2020-10-21T00:00:00",
          "2020-10-22T00:00:00",
          "2020-10-23T00:00:00",
          "2020-10-24T00:00:00",
          "2020-10-25T00:00:00",
          "2020-10-26T00:00:00",
          "2020-10-27T00:00:00",
          "2020-10-28T00:00:00",
          "2020-10-29T00:00:00",
          "2020-10-30T00:00:00",
          "2020-10-31T00:00:00",
          "2020-11-01T00:00:00",
          "2020-11-02T00:00:00",
          "2020-11-03T00:00:00",
          "2020-11-04T00:00:00",
          "2020-11-05T00:00:00",
          "2020-11-06T00:00:00",
          "2020-11-07T00:00:00",
          "2020-11-08T00:00:00",
          "2020-11-09T00:00:00",
          "2020-11-10T00:00:00",
          "2020-11-11T00:00:00",
          "2020-11-12T00:00:00",
          "2020-11-13T00:00:00",
          "2020-11-14T00:00:00",
          "2020-11-15T00:00:00",
          "2020-11-16T00:00:00",
          "2020-11-17T00:00:00",
          "2020-11-18T00:00:00",
          "2020-11-19T00:00:00",
          "2020-11-20T00:00:00",
          "2020-11-21T00:00:00",
          "2020-11-22T00:00:00",
          "2020-11-23T00:00:00",
          "2020-11-24T00:00:00",
          "2020-11-25T00:00:00",
          "2020-11-26T00:00:00",
          "2020-11-27T00:00:00",
          "2020-11-28T00:00:00",
          "2020-11-29T00:00:00",
          "2020-11-30T00:00:00",
          "2020-12-01T00:00:00",
          "2020-12-02T00:00:00",
          "2020-12-03T00:00:00",
          "2020-12-04T00:00:00",
          "2020-12-05T00:00:00",
          "2020-12-06T00:00:00",
          "2020-12-07T00:00:00",
          "2020-12-08T00:00:00",
          "2020-12-09T00:00:00",
          "2020-12-10T00:00:00",
          "2020-12-11T00:00:00",
          "2020-12-12T00:00:00",
          "2020-12-13T00:00:00",
          "2020-12-14T00:00:00",
          "2020-12-15T00:00:00",
          "2020-12-16T00:00:00",
          "2020-12-17T00:00:00",
          "2020-12-18T00:00:00",
          "2020-12-19T00:00:00",
          "2020-12-20T00:00:00",
          "2020-12-21T00:00:00",
          "2020-12-22T00:00:00",
          "2020-12-23T00:00:00",
          "2020-12-24T00:00:00",
          "2020-12-25T00:00:00",
          "2020-12-26T00:00:00",
          "2020-12-27T00:00:00",
          "2020-12-28T00:00:00",
          "2020-12-29T00:00:00",
          "2020-12-30T00:00:00",
          "2020-12-31T00:00:00",
          "2021-01-01T00:00:00",
          "2021-01-02T00:00:00",
          "2021-01-03T00:00:00",
          "2021-01-04T00:00:00",
          "2021-01-05T00:00:00",
          "2021-01-06T00:00:00",
          "2021-01-07T00:00:00",
          "2021-01-08T00:00:00",
          "2021-01-09T00:00:00",
          "2021-01-10T00:00:00",
          "2021-01-11T00:00:00",
          "2021-01-12T00:00:00",
          "2021-01-13T00:00:00",
          "2021-01-14T00:00:00",
          "2021-01-15T00:00:00",
          "2021-01-16T00:00:00",
          "2021-01-17T00:00:00",
          "2021-01-18T00:00:00",
          "2021-01-19T00:00:00",
          "2021-01-20T00:00:00",
          "2021-01-21T00:00:00",
          "2021-01-22T00:00:00",
          "2021-01-23T00:00:00",
          "2021-01-24T00:00:00",
          "2021-01-25T00:00:00",
          "2021-01-26T00:00:00",
          "2021-01-27T00:00:00",
          "2021-01-28T00:00:00",
          "2021-01-29T00:00:00",
          "2021-01-30T00:00:00",
          "2021-01-31T00:00:00",
          "2021-02-01T00:00:00",
          "2021-02-02T00:00:00",
          "2021-02-03T00:00:00",
          "2021-02-04T00:00:00",
          "2021-02-05T00:00:00",
          "2021-02-06T00:00:00",
          "2021-02-07T00:00:00",
          "2021-02-08T00:00:00",
          "2021-02-09T00:00:00",
          "2021-02-10T00:00:00",
          "2021-02-11T00:00:00",
          "2021-02-12T00:00:00",
          "2021-02-13T00:00:00",
          "2021-02-14T00:00:00",
          "2021-02-15T00:00:00",
          "2021-02-16T00:00:00",
          "2021-02-17T00:00:00",
          "2021-02-18T00:00:00",
          "2021-02-19T00:00:00",
          "2021-02-20T00:00:00",
          "2021-02-21T00:00:00",
          "2021-02-22T00:00:00",
          "2021-02-23T00:00:00",
          "2021-02-24T00:00:00",
          "2021-02-25T00:00:00",
          "2021-02-26T00:00:00",
          "2021-02-27T00:00:00",
          "2021-02-28T00:00:00",
          "2021-03-01T00:00:00",
          "2021-03-02T00:00:00",
          "2021-03-03T00:00:00",
          "2021-03-04T00:00:00",
          "2021-03-05T00:00:00",
          "2021-03-06T00:00:00",
          "2021-03-07T00:00:00",
          "2021-03-08T00:00:00",
          "2021-03-09T00:00:00",
          "2021-03-10T00:00:00",
          "2021-03-11T00:00:00",
          "2021-03-12T00:00:00",
          "2021-03-13T00:00:00",
          "2021-03-14T00:00:00",
          "2021-03-15T00:00:00",
          "2021-03-16T00:00:00",
          "2021-03-17T00:00:00",
          "2021-03-18T00:00:00",
          "2021-03-19T00:00:00",
          "2021-03-20T00:00:00",
          "2021-03-21T00:00:00",
          "2021-03-22T00:00:00",
          "2021-03-23T00:00:00",
          "2021-03-24T00:00:00",
          "2021-03-25T00:00:00",
          "2021-03-26T00:00:00",
          "2021-03-27T00:00:00",
          "2021-03-28T00:00:00",
          "2021-03-29T00:00:00",
          "2021-03-30T00:00:00",
          "2021-03-31T00:00:00",
          "2021-04-01T00:00:00",
          "2021-04-02T00:00:00",
          "2021-04-03T00:00:00",
          "2021-04-04T00:00:00",
          "2021-04-05T00:00:00",
          "2021-04-06T00:00:00",
          "2021-04-07T00:00:00",
          "2021-04-08T00:00:00",
          "2021-04-09T00:00:00",
          "2021-04-10T00:00:00",
          "2021-04-11T00:00:00",
          "2021-04-12T00:00:00",
          "2021-04-13T00:00:00",
          "2021-04-14T00:00:00",
          "2021-04-15T00:00:00",
          "2021-04-16T00:00:00",
          "2021-04-17T00:00:00",
          "2021-04-18T00:00:00",
          "2021-04-19T00:00:00",
          "2021-04-20T00:00:00",
          "2021-04-21T00:00:00",
          "2021-04-22T00:00:00",
          "2021-04-23T00:00:00",
          "2021-04-24T00:00:00",
          "2021-04-25T00:00:00",
          "2021-04-26T00:00:00",
          "2021-04-27T00:00:00",
          "2021-04-28T00:00:00",
          "2021-04-29T00:00:00",
          "2021-04-30T00:00:00",
          "2021-05-01T00:00:00",
          "2021-05-02T00:00:00",
          "2021-05-03T00:00:00",
          "2021-05-04T00:00:00",
          "2021-05-05T00:00:00",
          "2021-05-06T00:00:00",
          "2021-05-07T00:00:00",
          "2021-05-08T00:00:00",
          "2021-05-09T00:00:00",
          "2021-05-10T00:00:00",
          "2021-05-11T00:00:00",
          "2021-05-12T00:00:00",
          "2021-05-13T00:00:00",
          "2021-05-14T00:00:00",
          "2021-05-15T00:00:00",
          "2021-05-16T00:00:00",
          "2021-05-17T00:00:00",
          "2021-05-18T00:00:00",
          "2021-05-19T00:00:00",
          "2021-05-20T00:00:00",
          "2021-05-21T00:00:00",
          "2021-05-22T00:00:00",
          "2021-05-23T00:00:00",
          "2021-05-24T00:00:00",
          "2021-05-25T00:00:00",
          "2021-05-26T00:00:00",
          "2021-05-27T00:00:00",
          "2021-05-28T00:00:00",
          "2021-05-29T00:00:00",
          "2021-05-30T00:00:00",
          "2021-05-31T00:00:00",
          "2021-06-01T00:00:00",
          "2021-06-02T00:00:00",
          "2021-06-03T00:00:00",
          "2021-06-04T00:00:00",
          "2021-06-05T00:00:00",
          "2021-06-06T00:00:00",
          "2021-06-07T00:00:00",
          "2021-06-08T00:00:00",
          "2021-06-09T00:00:00",
          "2021-06-10T00:00:00",
          "2021-06-11T00:00:00",
          "2021-06-12T00:00:00",
          "2021-06-13T00:00:00",
          "2021-06-14T00:00:00",
          "2021-06-15T00:00:00",
          "2021-06-16T00:00:00",
          "2021-06-17T00:00:00",
          "2021-06-18T00:00:00",
          "2021-06-19T00:00:00",
          "2021-06-20T00:00:00",
          "2021-06-21T00:00:00",
          "2021-06-22T00:00:00",
          "2021-06-23T00:00:00",
          "2021-06-24T00:00:00",
          "2021-06-25T00:00:00",
          "2021-06-26T00:00:00",
          "2021-06-27T00:00:00",
          "2021-06-28T00:00:00",
          "2021-06-29T00:00:00",
          "2021-06-30T00:00:00"
         ],
         "xaxis": "x",
         "y": [
          3779.072533685,
          3882.6953842949997,
          3880.95400076,
          3824.894098615,
          3870.9016109550003,
          3959.905253425,
          4056.753693925,
          4052.98816071,
          4045.533195135,
          3861.620544855,
          3683.4758258250004,
          3676.394602915,
          3609.843607545,
          3640.06072143,
          3670.051270985,
          3655.225223935,
          3651.04850174,
          3659.8004336249996,
          3705.4556792599997,
          3663.203728585,
          3583.688998605,
          3580.23393733,
          3594.190892695,
          3592.5901305899997,
          3594.262497735,
          3624.1395151650004,
          3589.95859272,
          3512.991943775,
          3438.44254517,
          3462.281417835,
          3476.36035043,
          3466.7728131000003,
          3495.43100718,
          3484.656267115,
          3459.40534904,
          3465.0425341600003,
          3433.8285414800002,
          3411.08210855,
          3543.318863845,
          3663.250422515,
          3668.007983695,
          3668.950385945,
          3643.5718794550003,
          3643.49646956,
          3626.97719854,
          3628.00074842,
          3634.05576717,
          3649.859709315,
          3803.32366234,
          3959.51619467,
          3963.36660967,
          3975.05883506,
          3978.67740707,
          4067.50642983,
          4002.17537999,
          3860.354855395,
          3864.78270018,
          3837.9306822999997,
          3875.939904525,
          3879.743917725,
          3853.3677282950002,
          3856.1947239049996,
          3800.56573612,
          3824.5499676199997,
          3895.4855560899996,
          3916.7431759700003,
          3912.830330995,
          3939.814125985,
          3945.27764627,
          3927.8119346900003,
          3895.22409145,
          3909.25096003,
          3923.90058194,
          3941.2791114399997,
          4019.34690443,
          4030.266580935,
          4040.33697884,
          4053.014278235,
          4060.286316465,
          4051.25561353,
          4037.72455574,
          4032.9235917,
          4023.446236325,
          3986.43612813,
          3964.916987505,
          4032.438348065,
          4067.5843074100003,
          4073.7989967599997,
          4175.358150435,
          4103.56223114,
          4130.92728923,
          4530.63555547,
          5091.812460035,
          4949.97677413,
          4986.500803815,
          5099.021965895,
          5142.799368315,
          5233.524150654999,
          5228.668519855,
          5307.516988365,
          5185.760937659999,
          5029.56350421,
          5094.355731935,
          5118.79232505,
          5110.33808652,
          5147.070099435,
          5246.740576345001,
          5285.24638649,
          5285.0076040700005,
          5327.184102589999,
          5308.63228112,
          5351.482075365,
          5511.605471245,
          5530.153960850001,
          5361.7886614,
          5280.501464535,
          5272.1929328549995,
          5290.95788016,
          5263.881321655001,
          5293.723684095,
          5382.825075549999,
          5458.240036845,
          5678.0419707050005,
          5766.181410525,
          5770.9490210700005,
          5728.32257292,
          5864.787126159999,
          5892.348397805,
          6082.677782105,
          6298.068367035,
          6854.350867114999,
          7159.821379675001,
          7472.847714285,
          7982.551861344999,
          8057.7653476000005,
          8025.216369835,
          7483.635045195,
          7349.38812596,
          7764.952092899999,
          7939.87479192,
          7952.753911755,
          7806.79996163,
          7738.494041465,
          7982.584402285,
          8041.951078295,
          8306.095495174999,
          8787.93968046,
          8720.86872193,
          8619.290508415,
          8614.79396725,
          8379.605110870001,
          8553.589240475001,
          8685.269565355,
          8473.84296951,
          7887.737213705001,
          7785.2588027500005,
          7754.405925775,
          7957.263437535,
          7957.251031375,
          7779.5970194500005,
          7809.3203715,
          7899.599074375,
          8029.504023224999,
          8199.31429773,
          8447.014677194999,
          8738.76171532,
          9075.21170069,
          9202.66557465,
          9176.6380871,
          9185.008519160001,
          9413.45226944,
          9834.815662445,
          10632.19036025,
          10901.1200577,
          10838.16204985,
          11399.0593033,
          12776.04342785,
          11901.49830465,
          11679.8350409,
          11954.644324050001,
          11488.695969299999,
          10647.87711725,
          10325.03657994,
          11393.1167596,
          11586.322108,
          11135.31314145,
          11301.75453335,
          11345.212342750001,
          11869.60372965,
          12506.19706425,
          12420.253674299998,
          11651.77280435,
          11542.31592505,
          11375.218259450001,
          10842.8900908,
          10522.387023055,
          10222.37001405,
          9563.134536435,
          10056.820736624999,
          10473.30479855,
          10749.969180150001,
          10615.74379415,
          10403.3563925,
          10115.171417385,
          9761.551910085,
          9964.10536966,
          9817.24998552,
          9789.42118281,
          9413.92110594,
          9577.298172815,
          9569.54784065,
          9841.862715924999,
          10184.47007319,
          10514.48334875,
          10725.14286195,
          10814.742583,
          11427.9138312,
          11782.27651625,
          11735.34554775,
          11767.7943127,
          11840.10154685,
          11619.7770088,
          11385.937100899999,
          11424.5704334,
          11125.18838765,
          10458.8461421,
          10056.36353545,
          10189.914329235,
          10269.66132635,
          10303.08242595,
          10614.629152,
          10783.0011987,
          10380.72571955,
          10032.229324545,
          10260.31812135,
          10200.158644665,
          10156.705506,
          10319.31363605,
          10234.3144505,
          9998.01090242,
          9589.2079335,
          9542.213161615,
          9602.51013944,
          9689.850299415,
          10063.621020855,
          10522.326300749999,
          10598.677304699999,
          10571.84405105,
          10595.5311554,
          10453.7964786,
          10502.3646697,
          10297.6204934,
          10207.4636615,
          10098.362230055,
          10270.747913899999,
          10334.04295835,
          10356.91398335,
          10350.06367335,
          10288.3057259,
          10248.25573015,
          10233.69930295,
          10073.680572919999,
          10209.029214350001,
          10094.40298025,
          9998.488905465001,
          9900.690909835,
          9087.559274435,
          8535.112390425,
          8205.657454035,
          8118.721705509999,
          8205.52421343,
          8126.102266725,
          8072.49487896,
          8365.18581821,
          8310.368673765,
          8280.332006035,
          8205.646119685,
          8143.323382164999,
          8060.13049538,
          8107.108059885,
          8259.23906946,
          8398.502596975,
          8548.603227805,
          8518.981061175,
          8364.291760995,
          8373.800068205,
          8337.170116599998,
          8296.710669635,
          8100.95092689,
          8067.887041625,
          8020.28890454,
          8013.7031793549995,
          8115.62893189,
          8246.555159775,
          8185.556977914999,
          7781.16109562,
          7489.928103485,
          8085.762160185,
          9342.183181274999,
          9431.035743255,
          9530.633239105,
          9374.41456675,
          9256.122287135,
          9205.939165920001,
          9203.852423565,
          9313.537147135,
          9260.52943164,
          9348.268707705,
          9357.175224785,
          9364.573175425001,
          9285.414680275,
          9024.146750865,
          8842.490901125,
          8954.994088935,
          8890.944034105,
          8769.59816049,
          8799.246456035,
          8759.74776965,
          8607.858805725,
          8532.985652250001,
          8614.378556745,
          8463.426522425001,
          8254.23974828,
          8123.875887195,
          7853.7398693449995,
          7317.04465645,
          7296.838373445,
          7218.93324835,
          6968.511927415,
          7209.401324435,
          7296.933977535,
          7592.097229965,
          7620.967947155,
          7675.975639025,
          7431.479074445,
          7354.109200855,
          7324.10801137,
          7355.353703639999,
          7488.054356645,
          7469.58588023,
          7557.831552235,
          7555.3489484149995,
          7492.038434485,
          7335.03330835,
          7259.841901735,
          7215.6903516,
          7260.341702575,
          7203.02260371,
          7052.725725335,
          7037.42573791,
          6776.024610285,
          6932.517075035,
          7193.992206055,
          7172.02296375,
          7167.98118023,
          7342.606091109999,
          7491.18435555,
          7402.62272118,
          7289.005527505,
          7294.344567135,
          7276.73158525,
          7342.973030845,
          7396.90693819,
          7365.566083795,
          7252.53386854,
          7214.63738195,
          7073.712612225,
          7164.355503635,
          7368.449903025,
          7472.51621657,
          7595.580182605,
          7973.2217964,
          8176.756050104999,
          7962.349843765,
          7946.664564785,
          8124.000522625,
          8104.561177185,
          8138.744459989999,
          8510.22231128,
          8773.652433035,
          8729.278467715001,
          8817.719149985001,
          8919.765225595,
          8892.221126485001,
          8653.032420015,
          8650.113374125001,
          8714.87065315,
          8510.692481024998,
          8390.753806875,
          8377.336010985,
          8463.94966443,
          8787.517870529999,
          9133.51862278,
          9337.94996595,
          9392.011705685,
          9376.241053239999,
          9376.2810612,
          9343.310797625,
          9394.50298506,
          9222.03861711,
          9432.50208828,
          9682.218672855,
          9780.35997357,
          9777.829566295,
          9989.91368672,
          9975.1645785,
          9969.69376582,
          10297.9996884,
          10286.8943498,
          10223.764793999999,
          10107.9917047,
          9888.178083275001,
          9723.226887045,
          9897.15903872,
          9901.449693555,
          9575.558396404998,
          9656.37929288,
          9649.479954415001,
          9797.597625375,
          9744.394685755,
          9478.879025440001,
          9029.602430415,
          8755.046178345001,
          8691.694079125,
          8687.57031602,
          8599.00469311,
          8726.969670055001,
          8803.294488595,
          8777.898780835,
          8949.654165144999,
          9099.887689480001,
          9026.982633615,
          8509.79847966,
          7933.945704765,
          7975.85423324,
          7796.813393385,
          6394.73492448,
          4972.54784389,
          5375.14792621,
          5502.96419835,
          4980.29370412,
          5176.628964585,
          5200.585005785,
          5783.35235063,
          6355.021746215,
          6155.479278365,
          6091.705680235,
          6114.469500075,
          6600.04461819,
          6714.71877159,
          6663.213297505,
          6630.26900115,
          6292.669456755,
          6085.276663255,
          6210.215068255,
          6439.33874782,
          6407.47365131,
          6842.08280046,
          6838.278270995001,
          6787.719092895,
          6799.67172146,
          7027.335448655,
          7282.32676301,
          7254.7647692,
          7260.271327410001,
          7053.145082065001,
          6857.9951681,
          6965.512480955,
          6816.9382009149995,
          6876.189216860001,
          6781.0335310850005,
          6844.977401325,
          7108.757408740001,
          7179.601849285,
          7223.78817208,
          7037.89687074,
          6884.4970976,
          7006.823716955,
          7286.689778905,
          7504.188791265,
          7581.518197915,
          7631.00107408,
          7737.50989268,
          7772.66684179,
          8328.901511510001,
          8986.953303105,
          8857.89352459,
          8909.277066384999,
          8999.37629979,
          8800.96532272,
          8959.62085946,
          9189.08693008,
          9565.4932465,
          9881.958211655001,
          9747.253742595,
          8995.344040105,
          8703.897075605,
          8759.77098339,
          9061.633183745002,
          9524.15152744,
          9508.613248919999,
          9412.44957613,
          9586.27417945,
          9738.194594285,
          9687.83578974,
          9625.997714559999,
          9212.58664194,
          9120.78718208,
          9210.305252335002,
          9037.82750882,
          8835.337000165,
          8874.63071467,
          9018.738972269999,
          9347.388375089999,
          9476.50288173,
          9535.379863515001,
          9566.320345095,
          9825.23204169,
          9821.45603969,
          9577.352938259999,
          9706.42865426,
          9766.226621310001,
          9682.22827534,
          9613.32418598,
          9729.096201954999,
          9750.54455101,
          9818.593849795001,
          9600.683631075,
          9413.15839864,
          9444.610554269999,
          9414.93236458,
          9247.51800598,
          9489.93769145,
          9433.881428755001,
          9405.588790915,
          9357.586077544998,
          9321.175633545,
          9350.769002649999,
          9475.972441925,
          9608.893922915,
          9479.300346594999,
          9217.743042535,
          9206.12741712,
          9103.01384204,
          9086.53643575,
          9139.72450549,
          9151.336752565,
          9207.24487134,
          9155.793208514999,
          9130.569583205,
          9118.46262689,
          9069.59943341,
          9217.069608775,
          9281.21647811,
          9349.9178099,
          9333.18902053,
          9202.737000515,
          9246.509095595,
          9258.434868255,
          9265.3488856,
          9227.751630375,
          9223.62933995,
          9151.63005032,
          9135.728381320001,
          9165.903957675,
          9149.515784514999,
          9175.89012516,
          9278.326487345,
          9425.086201965001,
          9546.625571864999,
          9552.3954784,
          9617.38460461,
          9838.327433710001,
          10601.095934425,
          10918.47965265,
          11080.26920515,
          11032.40603765,
          11201.45872215,
          11517.2290644,
          11526.13709635,
          11232.74673115,
          11239.763480450001,
          11472.45104695,
          11750.52488705,
          11653.316228399999,
          11679.248241149999,
          11677.42036145,
          11853.6986258,
          11564.2102227,
          11499.0009689,
          11506.63436695,
          11918.2245741,
          11865.9501046,
          11836.04475695,
          12082.8764522,
          12145.11640975,
          11858.1281374,
          11805.237273949999,
          11732.119319500001,
          11569.1067172,
          11636.675527849999,
          11715.441377,
          11484.07547225,
          11413.52321955,
          11378.3640607,
          11431.0189228,
          11525.967022,
          11603.8233111,
          11683.597620100001,
          11834.10495,
          11627.8085345,
          10812.743940150001,
          10435.93013205,
          10264.123369404999,
          10205.4069108,
          10157.823179465,
          10179.94268366,
          10183.89690265,
          10371.0242084,
          10287.879615950002,
          10435.61238015,
          10400.772570950001,
          10533.0099157,
          10797.54619185,
          10902.5043459,
          10906.0243969,
          10932.2824424,
          11021.8555416,
          10955.1734215,
          10684.282750949998,
          10475.40152385,
          10367.846507615,
          10501.273161075002,
          10678.30505571,
          10720.139796815001,
          10713.448919015002,
          10824.620579030001,
          10754.748068225,
          10758.289042965,
          10702.990413715,
          10537.2635954,
          10555.035291435,
          10610.195967265001,
          10714.054006845,
          10663.234459145,
          10621.507662015,
          10754.171567165,
          10974.760967475,
          11249.575821575,
          11358.72071541,
          11469.577365995,
          11435.104672545,
          11423.90440748,
          11436.758850405,
          11381.537355785,
          11335.80354178,
          11415.46913754,
          11603.691547775,
          11840.69902019,
          12542.747394945,
          12939.343781855001,
          12884.304233784998,
          13015.40665705,
          13119.622560795,
          13023.840043855002,
          13410.253381035,
          13384.97301829,
          13296.05364894,
          13393.85747895,
          13742.872063075,
          13745.20592429,
          13525.74136998,
          13655.211654915,
          13899.619269384999,
          14904.246775325,
          15565.13868422,
          15080.149240204999,
          15190.715116845,
          15325.33307433,
          15287.64461955,
          15603.133813765,
          15919.888015634999,
          16227.66532029,
          16033.50065474,
          15958.32218632,
          16348.44356511,
          17173.73277318,
          17873.427878895,
          17751.050919335,
          18269.511640375,
          18690.48980648,
          18180.17698032,
          18356.111420325,
          18738.46356853,
          18986.056043805,
          17608.660491964998,
          16985.7239069,
          17382.295951125,
          17921.37289783,
          18963.79290604,
          19083.948206865,
          18828.02425044,
          19245.988158695,
          19104.298813995003,
          18875.321470075003,
          19144.1969836,
          19171.485297865,
          18776.71189154,
          18280.92023559,
          18255.182470665,
          17943.99261704,
          18482.795975704998,
          19057.93433072,
          19158.90492547,
          19302.424983935,
          20378.61258714,
          22438.668317465,
          22819.206712835003,
          23456.16376956,
          23678.685458745,
          23109.675186425,
          23110.253766595,
          23413.567646145,
          23272.967676289998,
          24086.887914305,
          25620.38018765,
          27105.804893605,
          26798.37599787,
          26679.009079565,
          28148.914856535,
          28723.43434075,
          29202.105981925,
          31123.15000515,
          33330.43690674,
          31081.486919554998,
          32329.38866535,
          35196.86615508,
          38335.778859065,
          39392.68767358,
          40208.61345632,
          38702.409077150005,
          34448.064136235,
          34633.251797885,
          35092.3141348,
          38417.484243855,
          37118.65046641,
          36748.9614478,
          35395.83603077,
          36091.564927165,
          36912.849126165005,
          34974.40225169,
          32901.71456814,
          31382.61215557,
          32427.068926909997,
          32025.347355985003,
          33445.26547203,
          31912.407777955,
          30965.58472944,
          31940.758911995,
          35235.537575735,
          33887.447607565,
          33279.253749875,
          33511.22079575,
          34693.050408105,
          36462.08531018,
          37454.837592259995,
          37442.33474107,
          39492.46762152,
          38533.994688295,
          42140.127121854995,
          46585.342003369995,
          45513.360398595,
          46325.614737805,
          47585.355808975,
          47220.01346226,
          48301.07522962,
          47611.524351225,
          48771.203503590004,
          50803.145726015,
          51744.93590121,
          53525.463134210004,
          56065.893981825,
          57001.590827565,
          53250.47725684,
          49747.760011980004,
          49251.817428325,
          49521.410000705,
          46412.813686815,
          46761.147933475004,
          44979.024609775006,
          47449.55420216,
          48678.17761476,
          50404.72814034,
          49696.01004948,
          47969.472901265,
          48202.37256366,
          50151.523137575,
          50910.061129525,
          53402.974561805,
          55274.573072219995,
          56287.82789603,
          56686.634789135,
          58950.918197815,
          60450.117686625,
          57967.079037195,
          55194.10375764,
          56749.22175623,
          57184.914824535,
          58071.038973045,
          59122.292169025,
          57386.75689943,
          56379.818337665,
          54728.06676039,
          54888.35816568,
          52124.477343365,
          53358.584391444994,
          55405.562862895,
          55840.711981015,
          56740.719085104996,
          58349.38731804,
          58828.22296723,
          59045.675651419995,
          59568.2338092,
          58857.07881726,
          58041.21178709,
          58793.06146477,
          58563.193720865005,
          57167.58324676,
          57108.911210295,
          58372.45517909,
          59657.685821755,
          60040.175472924995,
          60421.455336015,
          61806.11981512,
          63208.94779906,
          63015.318279125,
          61908.626495870005,
          61466.76411483,
          56943.496217665,
          55944.32421621,
          55255.099315535,
          55226.72096177,
          52997.02136051,
          49917.726898969995,
          49986.42402751,
          48832.75246961,
          51570.399499160005,
          54368.07535586,
          55057.561732455,
          53766.936299709996,
          55515.16043291,
          57750.30649311,
          57022.24934294,
          57782.088787939996,
          55202.801897025,
          55440.209479995,
          56872.91036114,
          56964.240338785,
          58219.911572605,
          57846.442667265,
          56795.40490224,
          55740.598689805,
          53544.94814499,
          49155.431168954994,
          50153.348685189994,
          48651.90359948,
          46841.697404415,
          44415.423167015004,
          44090.144930505005,
          37113.806698140004,
          38756.800405015005,
          37894.313749965004,
          37107.369095250004,
          34758.278776415,
          37193.11018977,
          38178.88935686,
          39343.956518355,
          38813.760674025005,
          36818.00365611,
          35464.21396881,
          34960.703420445,
          35855.09627588,
          36841.911078970006,
          37098.82316626,
          38361.462454755005,
          37480.104282504995,
          36409.06319313,
          35870.50052111,
          35135.606698355,
          32565.915224525,
          35006.618590469996,
          37090.95954189,
          36826.57210196499,
          36068.55784794,
          37093.445075785,
          39867.824299479995,
          40452.368885395,
          39346.40550179,
          38476.672136049994,
          36721.55753931501,
          35695.429265415,
          34745.779780490004,
          33508.78758154,
          31093.038211214996,
          33263.020429085,
          33807.033653255,
          33419.065930845,
          31411.044493445,
          33363.942251805,
          34560.983841745,
          35397.29795482,
          35080.45581762
         ],
         "yaxis": "y2"
        }
       ],
       "layout": {
        "template": {
         "data": {
          "bar": [
           {
            "error_x": {
             "color": "#2a3f5f"
            },
            "error_y": {
             "color": "#2a3f5f"
            },
            "marker": {
             "line": {
              "color": "#E5ECF6",
              "width": 0.5
             }
            },
            "type": "bar"
           }
          ],
          "barpolar": [
           {
            "marker": {
             "line": {
              "color": "#E5ECF6",
              "width": 0.5
             }
            },
            "type": "barpolar"
           }
          ],
          "carpet": [
           {
            "aaxis": {
             "endlinecolor": "#2a3f5f",
             "gridcolor": "white",
             "linecolor": "white",
             "minorgridcolor": "white",
             "startlinecolor": "#2a3f5f"
            },
            "baxis": {
             "endlinecolor": "#2a3f5f",
             "gridcolor": "white",
             "linecolor": "white",
             "minorgridcolor": "white",
             "startlinecolor": "#2a3f5f"
            },
            "type": "carpet"
           }
          ],
          "choropleth": [
           {
            "colorbar": {
             "outlinewidth": 0,
             "ticks": ""
            },
            "type": "choropleth"
           }
          ],
          "contour": [
           {
            "colorbar": {
             "outlinewidth": 0,
             "ticks": ""
            },
            "colorscale": [
             [
              0,
              "#0d0887"
             ],
             [
              0.1111111111111111,
              "#46039f"
             ],
             [
              0.2222222222222222,
              "#7201a8"
             ],
             [
              0.3333333333333333,
              "#9c179e"
             ],
             [
              0.4444444444444444,
              "#bd3786"
             ],
             [
              0.5555555555555556,
              "#d8576b"
             ],
             [
              0.6666666666666666,
              "#ed7953"
             ],
             [
              0.7777777777777778,
              "#fb9f3a"
             ],
             [
              0.8888888888888888,
              "#fdca26"
             ],
             [
              1,
              "#f0f921"
             ]
            ],
            "type": "contour"
           }
          ],
          "contourcarpet": [
           {
            "colorbar": {
             "outlinewidth": 0,
             "ticks": ""
            },
            "type": "contourcarpet"
           }
          ],
          "heatmap": [
           {
            "colorbar": {
             "outlinewidth": 0,
             "ticks": ""
            },
            "colorscale": [
             [
              0,
              "#0d0887"
             ],
             [
              0.1111111111111111,
              "#46039f"
             ],
             [
              0.2222222222222222,
              "#7201a8"
             ],
             [
              0.3333333333333333,
              "#9c179e"
             ],
             [
              0.4444444444444444,
              "#bd3786"
             ],
             [
              0.5555555555555556,
              "#d8576b"
             ],
             [
              0.6666666666666666,
              "#ed7953"
             ],
             [
              0.7777777777777778,
              "#fb9f3a"
             ],
             [
              0.8888888888888888,
              "#fdca26"
             ],
             [
              1,
              "#f0f921"
             ]
            ],
            "type": "heatmap"
           }
          ],
          "heatmapgl": [
           {
            "colorbar": {
             "outlinewidth": 0,
             "ticks": ""
            },
            "colorscale": [
             [
              0,
              "#0d0887"
             ],
             [
              0.1111111111111111,
              "#46039f"
             ],
             [
              0.2222222222222222,
              "#7201a8"
             ],
             [
              0.3333333333333333,
              "#9c179e"
             ],
             [
              0.4444444444444444,
              "#bd3786"
             ],
             [
              0.5555555555555556,
              "#d8576b"
             ],
             [
              0.6666666666666666,
              "#ed7953"
             ],
             [
              0.7777777777777778,
              "#fb9f3a"
             ],
             [
              0.8888888888888888,
              "#fdca26"
             ],
             [
              1,
              "#f0f921"
             ]
            ],
            "type": "heatmapgl"
           }
          ],
          "histogram": [
           {
            "marker": {
             "colorbar": {
              "outlinewidth": 0,
              "ticks": ""
             }
            },
            "type": "histogram"
           }
          ],
          "histogram2d": [
           {
            "colorbar": {
             "outlinewidth": 0,
             "ticks": ""
            },
            "colorscale": [
             [
              0,
              "#0d0887"
             ],
             [
              0.1111111111111111,
              "#46039f"
             ],
             [
              0.2222222222222222,
              "#7201a8"
             ],
             [
              0.3333333333333333,
              "#9c179e"
             ],
             [
              0.4444444444444444,
              "#bd3786"
             ],
             [
              0.5555555555555556,
              "#d8576b"
             ],
             [
              0.6666666666666666,
              "#ed7953"
             ],
             [
              0.7777777777777778,
              "#fb9f3a"
             ],
             [
              0.8888888888888888,
              "#fdca26"
             ],
             [
              1,
              "#f0f921"
             ]
            ],
            "type": "histogram2d"
           }
          ],
          "histogram2dcontour": [
           {
            "colorbar": {
             "outlinewidth": 0,
             "ticks": ""
            },
            "colorscale": [
             [
              0,
              "#0d0887"
             ],
             [
              0.1111111111111111,
              "#46039f"
             ],
             [
              0.2222222222222222,
              "#7201a8"
             ],
             [
              0.3333333333333333,
              "#9c179e"
             ],
             [
              0.4444444444444444,
              "#bd3786"
             ],
             [
              0.5555555555555556,
              "#d8576b"
             ],
             [
              0.6666666666666666,
              "#ed7953"
             ],
             [
              0.7777777777777778,
              "#fb9f3a"
             ],
             [
              0.8888888888888888,
              "#fdca26"
             ],
             [
              1,
              "#f0f921"
             ]
            ],
            "type": "histogram2dcontour"
           }
          ],
          "mesh3d": [
           {
            "colorbar": {
             "outlinewidth": 0,
             "ticks": ""
            },
            "type": "mesh3d"
           }
          ],
          "parcoords": [
           {
            "line": {
             "colorbar": {
              "outlinewidth": 0,
              "ticks": ""
             }
            },
            "type": "parcoords"
           }
          ],
          "pie": [
           {
            "automargin": true,
            "type": "pie"
           }
          ],
          "scatter": [
           {
            "marker": {
             "colorbar": {
              "outlinewidth": 0,
              "ticks": ""
             }
            },
            "type": "scatter"
           }
          ],
          "scatter3d": [
           {
            "line": {
             "colorbar": {
              "outlinewidth": 0,
              "ticks": ""
             }
            },
            "marker": {
             "colorbar": {
              "outlinewidth": 0,
              "ticks": ""
             }
            },
            "type": "scatter3d"
           }
          ],
          "scattercarpet": [
           {
            "marker": {
             "colorbar": {
              "outlinewidth": 0,
              "ticks": ""
             }
            },
            "type": "scattercarpet"
           }
          ],
          "scattergeo": [
           {
            "marker": {
             "colorbar": {
              "outlinewidth": 0,
              "ticks": ""
             }
            },
            "type": "scattergeo"
           }
          ],
          "scattergl": [
           {
            "marker": {
             "colorbar": {
              "outlinewidth": 0,
              "ticks": ""
             }
            },
            "type": "scattergl"
           }
          ],
          "scattermapbox": [
           {
            "marker": {
             "colorbar": {
              "outlinewidth": 0,
              "ticks": ""
             }
            },
            "type": "scattermapbox"
           }
          ],
          "scatterpolar": [
           {
            "marker": {
             "colorbar": {
              "outlinewidth": 0,
              "ticks": ""
             }
            },
            "type": "scatterpolar"
           }
          ],
          "scatterpolargl": [
           {
            "marker": {
             "colorbar": {
              "outlinewidth": 0,
              "ticks": ""
             }
            },
            "type": "scatterpolargl"
           }
          ],
          "scatterternary": [
           {
            "marker": {
             "colorbar": {
              "outlinewidth": 0,
              "ticks": ""
             }
            },
            "type": "scatterternary"
           }
          ],
          "surface": [
           {
            "colorbar": {
             "outlinewidth": 0,
             "ticks": ""
            },
            "colorscale": [
             [
              0,
              "#0d0887"
             ],
             [
              0.1111111111111111,
              "#46039f"
             ],
             [
              0.2222222222222222,
              "#7201a8"
             ],
             [
              0.3333333333333333,
              "#9c179e"
             ],
             [
              0.4444444444444444,
              "#bd3786"
             ],
             [
              0.5555555555555556,
              "#d8576b"
             ],
             [
              0.6666666666666666,
              "#ed7953"
             ],
             [
              0.7777777777777778,
              "#fb9f3a"
             ],
             [
              0.8888888888888888,
              "#fdca26"
             ],
             [
              1,
              "#f0f921"
             ]
            ],
            "type": "surface"
           }
          ],
          "table": [
           {
            "cells": {
             "fill": {
              "color": "#EBF0F8"
             },
             "line": {
              "color": "white"
             }
            },
            "header": {
             "fill": {
              "color": "#C8D4E3"
             },
             "line": {
              "color": "white"
             }
            },
            "type": "table"
           }
          ]
         },
         "layout": {
          "annotationdefaults": {
           "arrowcolor": "#2a3f5f",
           "arrowhead": 0,
           "arrowwidth": 1
          },
          "coloraxis": {
           "colorbar": {
            "outlinewidth": 0,
            "ticks": ""
           }
          },
          "colorscale": {
           "diverging": [
            [
             0,
             "#8e0152"
            ],
            [
             0.1,
             "#c51b7d"
            ],
            [
             0.2,
             "#de77ae"
            ],
            [
             0.3,
             "#f1b6da"
            ],
            [
             0.4,
             "#fde0ef"
            ],
            [
             0.5,
             "#f7f7f7"
            ],
            [
             0.6,
             "#e6f5d0"
            ],
            [
             0.7,
             "#b8e186"
            ],
            [
             0.8,
             "#7fbc41"
            ],
            [
             0.9,
             "#4d9221"
            ],
            [
             1,
             "#276419"
            ]
           ],
           "sequential": [
            [
             0,
             "#0d0887"
            ],
            [
             0.1111111111111111,
             "#46039f"
            ],
            [
             0.2222222222222222,
             "#7201a8"
            ],
            [
             0.3333333333333333,
             "#9c179e"
            ],
            [
             0.4444444444444444,
             "#bd3786"
            ],
            [
             0.5555555555555556,
             "#d8576b"
            ],
            [
             0.6666666666666666,
             "#ed7953"
            ],
            [
             0.7777777777777778,
             "#fb9f3a"
            ],
            [
             0.8888888888888888,
             "#fdca26"
            ],
            [
             1,
             "#f0f921"
            ]
           ],
           "sequentialminus": [
            [
             0,
             "#0d0887"
            ],
            [
             0.1111111111111111,
             "#46039f"
            ],
            [
             0.2222222222222222,
             "#7201a8"
            ],
            [
             0.3333333333333333,
             "#9c179e"
            ],
            [
             0.4444444444444444,
             "#bd3786"
            ],
            [
             0.5555555555555556,
             "#d8576b"
            ],
            [
             0.6666666666666666,
             "#ed7953"
            ],
            [
             0.7777777777777778,
             "#fb9f3a"
            ],
            [
             0.8888888888888888,
             "#fdca26"
            ],
            [
             1,
             "#f0f921"
            ]
           ]
          },
          "colorway": [
           "#636efa",
           "#EF553B",
           "#00cc96",
           "#ab63fa",
           "#FFA15A",
           "#19d3f3",
           "#FF6692",
           "#B6E880",
           "#FF97FF",
           "#FECB52"
          ],
          "font": {
           "color": "#2a3f5f"
          },
          "geo": {
           "bgcolor": "white",
           "lakecolor": "white",
           "landcolor": "#E5ECF6",
           "showlakes": true,
           "showland": true,
           "subunitcolor": "white"
          },
          "hoverlabel": {
           "align": "left"
          },
          "hovermode": "closest",
          "mapbox": {
           "style": "light"
          },
          "paper_bgcolor": "white",
          "plot_bgcolor": "#E5ECF6",
          "polar": {
           "angularaxis": {
            "gridcolor": "white",
            "linecolor": "white",
            "ticks": ""
           },
           "bgcolor": "#E5ECF6",
           "radialaxis": {
            "gridcolor": "white",
            "linecolor": "white",
            "ticks": ""
           }
          },
          "scene": {
           "xaxis": {
            "backgroundcolor": "#E5ECF6",
            "gridcolor": "white",
            "gridwidth": 2,
            "linecolor": "white",
            "showbackground": true,
            "ticks": "",
            "zerolinecolor": "white"
           },
           "yaxis": {
            "backgroundcolor": "#E5ECF6",
            "gridcolor": "white",
            "gridwidth": 2,
            "linecolor": "white",
            "showbackground": true,
            "ticks": "",
            "zerolinecolor": "white"
           },
           "zaxis": {
            "backgroundcolor": "#E5ECF6",
            "gridcolor": "white",
            "gridwidth": 2,
            "linecolor": "white",
            "showbackground": true,
            "ticks": "",
            "zerolinecolor": "white"
           }
          },
          "shapedefaults": {
           "line": {
            "color": "#2a3f5f"
           }
          },
          "ternary": {
           "aaxis": {
            "gridcolor": "white",
            "linecolor": "white",
            "ticks": ""
           },
           "baxis": {
            "gridcolor": "white",
            "linecolor": "white",
            "ticks": ""
           },
           "bgcolor": "#E5ECF6",
           "caxis": {
            "gridcolor": "white",
            "linecolor": "white",
            "ticks": ""
           }
          },
          "title": {
           "x": 0.05
          },
          "xaxis": {
           "automargin": true,
           "gridcolor": "white",
           "linecolor": "white",
           "ticks": "",
           "title": {
            "standoff": 15
           },
           "zerolinecolor": "white",
           "zerolinewidth": 2
          },
          "yaxis": {
           "automargin": true,
           "gridcolor": "white",
           "linecolor": "white",
           "ticks": "",
           "title": {
            "standoff": 15
           },
           "zerolinecolor": "white",
           "zerolinewidth": 2
          }
         }
        },
        "title": {
         "text": "BTC vs LR Sentiment Model - Weekly"
        },
        "xaxis": {
         "anchor": "y",
         "domain": [
          0,
          0.94
         ],
         "title": {
          "text": "Date"
         }
        },
        "yaxis": {
         "anchor": "x",
         "domain": [
          0,
          1
         ],
         "title": {
          "text": "<b>Sentiment Polarity </b>"
         }
        },
        "yaxis2": {
         "anchor": "x",
         "overlaying": "y",
         "side": "right",
         "title": {
          "text": "<b>BTC Price</b>"
         }
        }
       }
      },
      "text/html": [
       "<div>                            <div id=\"c542f354-e583-4f98-b361-770354ef6988\" class=\"plotly-graph-div\" style=\"height:525px; width:100%;\"></div>            <script type=\"text/javascript\">                require([\"plotly\"], function(Plotly) {                    window.PLOTLYENV=window.PLOTLYENV || {};                                    if (document.getElementById(\"c542f354-e583-4f98-b361-770354ef6988\")) {                    Plotly.newPlot(                        \"c542f354-e583-4f98-b361-770354ef6988\",                        [{\"name\": \"LR-Model\", \"type\": \"scatter\", \"x\": [\"2019-01-01T00:00:00\", \"2019-01-02T00:00:00\", \"2019-01-03T00:00:00\", \"2019-01-04T00:00:00\", \"2019-01-05T00:00:00\", \"2019-01-06T00:00:00\", \"2019-01-07T00:00:00\", \"2019-01-08T00:00:00\", \"2019-01-09T00:00:00\", \"2019-01-10T00:00:00\", \"2019-01-11T00:00:00\", \"2019-01-12T00:00:00\", \"2019-01-13T00:00:00\", \"2019-01-14T00:00:00\", \"2019-01-15T00:00:00\", \"2019-01-16T00:00:00\", \"2019-01-17T00:00:00\", \"2019-01-18T00:00:00\", \"2019-01-19T00:00:00\", \"2019-01-20T00:00:00\", \"2019-01-21T00:00:00\", \"2019-01-22T00:00:00\", \"2019-01-23T00:00:00\", \"2019-01-24T00:00:00\", \"2019-01-25T00:00:00\", \"2019-01-26T00:00:00\", \"2019-01-27T00:00:00\", \"2019-01-28T00:00:00\", \"2019-01-29T00:00:00\", \"2019-01-30T00:00:00\", \"2019-01-31T00:00:00\", \"2019-02-01T00:00:00\", \"2019-02-02T00:00:00\", \"2019-02-03T00:00:00\", \"2019-02-04T00:00:00\", \"2019-02-05T00:00:00\", \"2019-02-06T00:00:00\", \"2019-02-07T00:00:00\", \"2019-02-08T00:00:00\", \"2019-02-09T00:00:00\", \"2019-02-10T00:00:00\", \"2019-02-11T00:00:00\", \"2019-02-12T00:00:00\", \"2019-02-13T00:00:00\", \"2019-02-14T00:00:00\", \"2019-02-15T00:00:00\", \"2019-02-16T00:00:00\", \"2019-02-17T00:00:00\", \"2019-02-18T00:00:00\", \"2019-02-19T00:00:00\", \"2019-02-20T00:00:00\", \"2019-02-21T00:00:00\", \"2019-02-22T00:00:00\", \"2019-02-23T00:00:00\", \"2019-02-24T00:00:00\", \"2019-02-25T00:00:00\", \"2019-02-26T00:00:00\", \"2019-02-27T00:00:00\", \"2019-02-28T00:00:00\", \"2019-03-01T00:00:00\", \"2019-03-02T00:00:00\", \"2019-03-03T00:00:00\", \"2019-03-04T00:00:00\", \"2019-03-05T00:00:00\", \"2019-03-06T00:00:00\", \"2019-03-07T00:00:00\", \"2019-03-08T00:00:00\", \"2019-03-09T00:00:00\", \"2019-03-10T00:00:00\", \"2019-03-11T00:00:00\", \"2019-03-12T00:00:00\", \"2019-03-13T00:00:00\", \"2019-03-14T00:00:00\", \"2019-03-15T00:00:00\", \"2019-03-16T00:00:00\", \"2019-03-17T00:00:00\", \"2019-03-18T00:00:00\", \"2019-03-19T00:00:00\", \"2019-03-20T00:00:00\", \"2019-03-21T00:00:00\", \"2019-03-22T00:00:00\", \"2019-03-23T00:00:00\", \"2019-03-24T00:00:00\", \"2019-03-25T00:00:00\", \"2019-03-26T00:00:00\", \"2019-03-27T00:00:00\", \"2019-03-28T00:00:00\", \"2019-03-29T00:00:00\", \"2019-03-30T00:00:00\", \"2019-03-31T00:00:00\", \"2019-04-01T00:00:00\", \"2019-04-02T00:00:00\", \"2019-04-03T00:00:00\", \"2019-04-04T00:00:00\", \"2019-04-05T00:00:00\", \"2019-04-06T00:00:00\", \"2019-04-07T00:00:00\", \"2019-04-08T00:00:00\", \"2019-04-09T00:00:00\", \"2019-04-10T00:00:00\", \"2019-04-11T00:00:00\", \"2019-04-12T00:00:00\", \"2019-04-13T00:00:00\", \"2019-04-14T00:00:00\", \"2019-04-15T00:00:00\", \"2019-04-16T00:00:00\", \"2019-04-17T00:00:00\", \"2019-04-18T00:00:00\", \"2019-04-19T00:00:00\", \"2019-04-20T00:00:00\", \"2019-04-21T00:00:00\", \"2019-04-22T00:00:00\", \"2019-04-23T00:00:00\", \"2019-04-24T00:00:00\", \"2019-04-25T00:00:00\", \"2019-04-26T00:00:00\", \"2019-04-27T00:00:00\", \"2019-04-28T00:00:00\", \"2019-04-29T00:00:00\", \"2019-04-30T00:00:00\", \"2019-05-01T00:00:00\", \"2019-05-02T00:00:00\", \"2019-05-03T00:00:00\", \"2019-05-04T00:00:00\", \"2019-05-05T00:00:00\", \"2019-05-06T00:00:00\", \"2019-05-07T00:00:00\", \"2019-05-08T00:00:00\", \"2019-05-09T00:00:00\", \"2019-05-10T00:00:00\", \"2019-05-11T00:00:00\", \"2019-05-12T00:00:00\", \"2019-05-13T00:00:00\", \"2019-05-14T00:00:00\", \"2019-05-15T00:00:00\", \"2019-05-16T00:00:00\", \"2019-05-17T00:00:00\", \"2019-05-18T00:00:00\", \"2019-05-19T00:00:00\", \"2019-05-20T00:00:00\", \"2019-05-21T00:00:00\", \"2019-05-22T00:00:00\", \"2019-05-23T00:00:00\", \"2019-05-24T00:00:00\", \"2019-05-25T00:00:00\", \"2019-05-26T00:00:00\", \"2019-05-27T00:00:00\", \"2019-05-28T00:00:00\", \"2019-05-29T00:00:00\", \"2019-05-30T00:00:00\", \"2019-05-31T00:00:00\", \"2019-06-01T00:00:00\", \"2019-06-02T00:00:00\", \"2019-06-03T00:00:00\", \"2019-06-04T00:00:00\", \"2019-06-05T00:00:00\", \"2019-06-06T00:00:00\", \"2019-06-07T00:00:00\", \"2019-06-08T00:00:00\", \"2019-06-09T00:00:00\", \"2019-06-10T00:00:00\", \"2019-06-11T00:00:00\", \"2019-06-12T00:00:00\", \"2019-06-13T00:00:00\", \"2019-06-14T00:00:00\", \"2019-06-15T00:00:00\", \"2019-06-16T00:00:00\", \"2019-06-17T00:00:00\", \"2019-06-18T00:00:00\", \"2019-06-19T00:00:00\", \"2019-06-20T00:00:00\", \"2019-06-21T00:00:00\", \"2019-06-22T00:00:00\", \"2019-06-23T00:00:00\", \"2019-06-24T00:00:00\", \"2019-06-25T00:00:00\", \"2019-06-26T00:00:00\", \"2019-06-27T00:00:00\", \"2019-06-28T00:00:00\", \"2019-06-29T00:00:00\", \"2019-06-30T00:00:00\", \"2019-07-01T00:00:00\", \"2019-07-02T00:00:00\", \"2019-07-03T00:00:00\", \"2019-07-04T00:00:00\", \"2019-07-05T00:00:00\", \"2019-07-06T00:00:00\", \"2019-07-07T00:00:00\", \"2019-07-08T00:00:00\", \"2019-07-09T00:00:00\", \"2019-07-10T00:00:00\", \"2019-07-11T00:00:00\", \"2019-07-12T00:00:00\", \"2019-07-13T00:00:00\", \"2019-07-14T00:00:00\", \"2019-07-15T00:00:00\", \"2019-07-16T00:00:00\", \"2019-07-17T00:00:00\", \"2019-07-18T00:00:00\", \"2019-07-19T00:00:00\", \"2019-07-20T00:00:00\", \"2019-07-21T00:00:00\", \"2019-07-22T00:00:00\", \"2019-07-23T00:00:00\", \"2019-07-24T00:00:00\", \"2019-07-25T00:00:00\", \"2019-07-26T00:00:00\", \"2019-07-27T00:00:00\", \"2019-07-28T00:00:00\", \"2019-07-29T00:00:00\", \"2019-07-30T00:00:00\", \"2019-07-31T00:00:00\", \"2019-08-01T00:00:00\", \"2019-08-02T00:00:00\", \"2019-08-03T00:00:00\", \"2019-08-04T00:00:00\", \"2019-08-05T00:00:00\", \"2019-08-06T00:00:00\", \"2019-08-07T00:00:00\", \"2019-08-08T00:00:00\", \"2019-08-09T00:00:00\", \"2019-08-10T00:00:00\", \"2019-08-11T00:00:00\", \"2019-08-12T00:00:00\", \"2019-08-13T00:00:00\", \"2019-08-14T00:00:00\", \"2019-08-15T00:00:00\", \"2019-08-16T00:00:00\", \"2019-08-17T00:00:00\", \"2019-08-18T00:00:00\", \"2019-08-19T00:00:00\", \"2019-08-20T00:00:00\", \"2019-08-21T00:00:00\", \"2019-08-22T00:00:00\", \"2019-08-23T00:00:00\", \"2019-08-24T00:00:00\", \"2019-08-25T00:00:00\", \"2019-08-26T00:00:00\", \"2019-08-27T00:00:00\", \"2019-08-28T00:00:00\", \"2019-08-29T00:00:00\", \"2019-08-30T00:00:00\", \"2019-08-31T00:00:00\", \"2019-09-01T00:00:00\", \"2019-09-02T00:00:00\", \"2019-09-03T00:00:00\", \"2019-09-04T00:00:00\", \"2019-09-05T00:00:00\", \"2019-09-06T00:00:00\", \"2019-09-07T00:00:00\", \"2019-09-08T00:00:00\", \"2019-09-09T00:00:00\", \"2019-09-10T00:00:00\", \"2019-09-11T00:00:00\", \"2019-09-12T00:00:00\", \"2019-09-13T00:00:00\", \"2019-09-14T00:00:00\", \"2019-09-15T00:00:00\", \"2019-09-16T00:00:00\", \"2019-09-17T00:00:00\", \"2019-09-18T00:00:00\", \"2019-09-19T00:00:00\", \"2019-09-20T00:00:00\", \"2019-09-21T00:00:00\", \"2019-09-22T00:00:00\", \"2019-09-23T00:00:00\", \"2019-09-24T00:00:00\", \"2019-09-25T00:00:00\", \"2019-09-26T00:00:00\", \"2019-09-27T00:00:00\", \"2019-09-28T00:00:00\", \"2019-09-29T00:00:00\", \"2019-09-30T00:00:00\", \"2019-10-01T00:00:00\", \"2019-10-02T00:00:00\", \"2019-10-03T00:00:00\", \"2019-10-04T00:00:00\", \"2019-10-05T00:00:00\", \"2019-10-06T00:00:00\", \"2019-10-07T00:00:00\", \"2019-10-08T00:00:00\", \"2019-10-09T00:00:00\", \"2019-10-10T00:00:00\", \"2019-10-11T00:00:00\", \"2019-10-12T00:00:00\", \"2019-10-13T00:00:00\", \"2019-10-14T00:00:00\", \"2019-10-15T00:00:00\", \"2019-10-16T00:00:00\", \"2019-10-17T00:00:00\", \"2019-10-18T00:00:00\", \"2019-10-19T00:00:00\", \"2019-10-20T00:00:00\", \"2019-10-21T00:00:00\", \"2019-10-22T00:00:00\", \"2019-10-23T00:00:00\", \"2019-10-24T00:00:00\", \"2019-10-25T00:00:00\", \"2019-10-26T00:00:00\", \"2019-10-27T00:00:00\", \"2019-10-28T00:00:00\", \"2019-10-29T00:00:00\", \"2019-10-30T00:00:00\", \"2019-10-31T00:00:00\", \"2019-11-01T00:00:00\", \"2019-11-02T00:00:00\", \"2019-11-03T00:00:00\", \"2019-11-04T00:00:00\", \"2019-11-05T00:00:00\", \"2019-11-06T00:00:00\", \"2019-11-07T00:00:00\", \"2019-11-08T00:00:00\", \"2019-11-09T00:00:00\", \"2019-11-10T00:00:00\", \"2019-11-11T00:00:00\", \"2019-11-12T00:00:00\", \"2019-11-13T00:00:00\", \"2019-11-14T00:00:00\", \"2019-11-15T00:00:00\", \"2019-11-16T00:00:00\", \"2019-11-17T00:00:00\", \"2019-11-18T00:00:00\", \"2019-11-19T00:00:00\", \"2019-11-20T00:00:00\", \"2019-11-21T00:00:00\", \"2019-11-22T00:00:00\", \"2019-11-23T00:00:00\", \"2019-11-24T00:00:00\", \"2019-11-25T00:00:00\", \"2019-11-26T00:00:00\", \"2019-11-27T00:00:00\", \"2019-11-28T00:00:00\", \"2019-11-29T00:00:00\", \"2019-11-30T00:00:00\", \"2019-12-01T00:00:00\", \"2019-12-02T00:00:00\", \"2019-12-03T00:00:00\", \"2019-12-04T00:00:00\", \"2019-12-05T00:00:00\", \"2019-12-06T00:00:00\", \"2019-12-07T00:00:00\", \"2019-12-08T00:00:00\", \"2019-12-09T00:00:00\", \"2019-12-10T00:00:00\", \"2019-12-11T00:00:00\", \"2019-12-12T00:00:00\", \"2019-12-13T00:00:00\", \"2019-12-14T00:00:00\", \"2019-12-15T00:00:00\", \"2019-12-16T00:00:00\", \"2019-12-17T00:00:00\", \"2019-12-18T00:00:00\", \"2019-12-19T00:00:00\", \"2019-12-20T00:00:00\", \"2019-12-21T00:00:00\", \"2019-12-22T00:00:00\", \"2019-12-23T00:00:00\", \"2019-12-24T00:00:00\", \"2019-12-25T00:00:00\", \"2019-12-26T00:00:00\", \"2019-12-27T00:00:00\", \"2019-12-28T00:00:00\", \"2019-12-29T00:00:00\", \"2019-12-30T00:00:00\", \"2019-12-31T00:00:00\", \"2020-01-01T00:00:00\", \"2020-01-02T00:00:00\", \"2020-01-03T00:00:00\", \"2020-01-04T00:00:00\", \"2020-01-05T00:00:00\", \"2020-01-06T00:00:00\", \"2020-01-07T00:00:00\", \"2020-01-08T00:00:00\", \"2020-01-09T00:00:00\", \"2020-01-10T00:00:00\", \"2020-01-11T00:00:00\", \"2020-01-12T00:00:00\", \"2020-01-13T00:00:00\", \"2020-01-14T00:00:00\", \"2020-01-15T00:00:00\", \"2020-01-16T00:00:00\", \"2020-01-17T00:00:00\", \"2020-01-18T00:00:00\", \"2020-01-19T00:00:00\", \"2020-01-20T00:00:00\", \"2020-01-21T00:00:00\", \"2020-01-22T00:00:00\", \"2020-01-23T00:00:00\", \"2020-01-24T00:00:00\", \"2020-01-25T00:00:00\", \"2020-01-26T00:00:00\", \"2020-01-27T00:00:00\", \"2020-01-28T00:00:00\", \"2020-01-29T00:00:00\", \"2020-01-30T00:00:00\", \"2020-01-31T00:00:00\", \"2020-02-01T00:00:00\", \"2020-02-02T00:00:00\", \"2020-02-03T00:00:00\", \"2020-02-04T00:00:00\", \"2020-02-05T00:00:00\", \"2020-02-06T00:00:00\", \"2020-02-07T00:00:00\", \"2020-02-08T00:00:00\", \"2020-02-09T00:00:00\", \"2020-02-10T00:00:00\", \"2020-02-11T00:00:00\", \"2020-02-12T00:00:00\", \"2020-02-13T00:00:00\", \"2020-02-14T00:00:00\", \"2020-02-15T00:00:00\", \"2020-02-16T00:00:00\", \"2020-02-17T00:00:00\", \"2020-02-18T00:00:00\", \"2020-02-19T00:00:00\", \"2020-02-20T00:00:00\", \"2020-02-21T00:00:00\", \"2020-02-22T00:00:00\", \"2020-02-23T00:00:00\", \"2020-02-24T00:00:00\", \"2020-02-25T00:00:00\", \"2020-02-26T00:00:00\", \"2020-02-27T00:00:00\", \"2020-02-28T00:00:00\", \"2020-02-29T00:00:00\", \"2020-03-01T00:00:00\", \"2020-03-02T00:00:00\", \"2020-03-03T00:00:00\", \"2020-03-04T00:00:00\", \"2020-03-05T00:00:00\", \"2020-03-06T00:00:00\", \"2020-03-07T00:00:00\", \"2020-03-08T00:00:00\", \"2020-03-09T00:00:00\", \"2020-03-10T00:00:00\", \"2020-03-11T00:00:00\", \"2020-03-12T00:00:00\", \"2020-03-13T00:00:00\", \"2020-03-14T00:00:00\", \"2020-03-15T00:00:00\", \"2020-03-16T00:00:00\", \"2020-03-17T00:00:00\", \"2020-03-18T00:00:00\", \"2020-03-19T00:00:00\", \"2020-03-20T00:00:00\", \"2020-03-21T00:00:00\", \"2020-03-22T00:00:00\", \"2020-03-23T00:00:00\", \"2020-03-24T00:00:00\", \"2020-03-25T00:00:00\", \"2020-03-26T00:00:00\", \"2020-03-27T00:00:00\", \"2020-03-28T00:00:00\", \"2020-03-29T00:00:00\", \"2020-03-30T00:00:00\", \"2020-03-31T00:00:00\", \"2020-04-01T00:00:00\", \"2020-04-02T00:00:00\", \"2020-04-03T00:00:00\", \"2020-04-04T00:00:00\", \"2020-04-05T00:00:00\", \"2020-04-06T00:00:00\", \"2020-04-07T00:00:00\", \"2020-04-08T00:00:00\", \"2020-04-09T00:00:00\", \"2020-04-10T00:00:00\", \"2020-04-11T00:00:00\", \"2020-04-12T00:00:00\", \"2020-04-13T00:00:00\", \"2020-04-14T00:00:00\", \"2020-04-15T00:00:00\", \"2020-04-16T00:00:00\", \"2020-04-17T00:00:00\", \"2020-04-18T00:00:00\", \"2020-04-19T00:00:00\", \"2020-04-20T00:00:00\", \"2020-04-21T00:00:00\", \"2020-04-22T00:00:00\", \"2020-04-23T00:00:00\", \"2020-04-24T00:00:00\", \"2020-04-25T00:00:00\", \"2020-04-26T00:00:00\", \"2020-04-27T00:00:00\", \"2020-04-28T00:00:00\", \"2020-04-29T00:00:00\", \"2020-04-30T00:00:00\", \"2020-05-01T00:00:00\", \"2020-05-02T00:00:00\", \"2020-05-03T00:00:00\", \"2020-05-04T00:00:00\", \"2020-05-05T00:00:00\", \"2020-05-06T00:00:00\", \"2020-05-07T00:00:00\", \"2020-05-08T00:00:00\", \"2020-05-09T00:00:00\", \"2020-05-10T00:00:00\", \"2020-05-11T00:00:00\", \"2020-05-12T00:00:00\", \"2020-05-13T00:00:00\", \"2020-05-14T00:00:00\", \"2020-05-15T00:00:00\", \"2020-05-16T00:00:00\", \"2020-05-17T00:00:00\", \"2020-05-18T00:00:00\", \"2020-05-19T00:00:00\", \"2020-05-20T00:00:00\", \"2020-05-21T00:00:00\", \"2020-05-22T00:00:00\", \"2020-05-23T00:00:00\", \"2020-05-24T00:00:00\", \"2020-05-25T00:00:00\", \"2020-05-26T00:00:00\", \"2020-05-27T00:00:00\", \"2020-05-28T00:00:00\", \"2020-05-29T00:00:00\", \"2020-05-30T00:00:00\", \"2020-05-31T00:00:00\", \"2020-06-01T00:00:00\", \"2020-06-02T00:00:00\", \"2020-06-03T00:00:00\", \"2020-06-04T00:00:00\", \"2020-06-05T00:00:00\", \"2020-06-06T00:00:00\", \"2020-06-07T00:00:00\", \"2020-06-08T00:00:00\", \"2020-06-09T00:00:00\", \"2020-06-10T00:00:00\", \"2020-06-11T00:00:00\", \"2020-06-12T00:00:00\", \"2020-06-13T00:00:00\", \"2020-06-14T00:00:00\", \"2020-06-15T00:00:00\", \"2020-06-16T00:00:00\", \"2020-06-17T00:00:00\", \"2020-06-18T00:00:00\", \"2020-06-19T00:00:00\", \"2020-06-20T00:00:00\", \"2020-06-21T00:00:00\", \"2020-06-22T00:00:00\", \"2020-06-23T00:00:00\", \"2020-06-24T00:00:00\", \"2020-06-25T00:00:00\", \"2020-06-26T00:00:00\", \"2020-06-27T00:00:00\", \"2020-06-28T00:00:00\", \"2020-06-29T00:00:00\", \"2020-06-30T00:00:00\", \"2020-07-01T00:00:00\", \"2020-07-02T00:00:00\", \"2020-07-03T00:00:00\", \"2020-07-04T00:00:00\", \"2020-07-05T00:00:00\", \"2020-07-06T00:00:00\", \"2020-07-07T00:00:00\", \"2020-07-08T00:00:00\", \"2020-07-09T00:00:00\", \"2020-07-10T00:00:00\", \"2020-07-11T00:00:00\", \"2020-07-12T00:00:00\", \"2020-07-13T00:00:00\", \"2020-07-14T00:00:00\", \"2020-07-15T00:00:00\", \"2020-07-16T00:00:00\", \"2020-07-17T00:00:00\", \"2020-07-18T00:00:00\", \"2020-07-19T00:00:00\", \"2020-07-20T00:00:00\", \"2020-07-21T00:00:00\", \"2020-07-22T00:00:00\", \"2020-07-23T00:00:00\", \"2020-07-24T00:00:00\", \"2020-07-25T00:00:00\", \"2020-07-26T00:00:00\", \"2020-07-27T00:00:00\", \"2020-07-28T00:00:00\", \"2020-07-29T00:00:00\", \"2020-07-30T00:00:00\", \"2020-07-31T00:00:00\", \"2020-08-01T00:00:00\", \"2020-08-02T00:00:00\", \"2020-08-03T00:00:00\", \"2020-08-04T00:00:00\", \"2020-08-05T00:00:00\", \"2020-08-06T00:00:00\", \"2020-08-07T00:00:00\", \"2020-08-08T00:00:00\", \"2020-08-09T00:00:00\", \"2020-08-10T00:00:00\", \"2020-08-11T00:00:00\", \"2020-08-12T00:00:00\", \"2020-08-13T00:00:00\", \"2020-08-14T00:00:00\", \"2020-08-15T00:00:00\", \"2020-08-16T00:00:00\", \"2020-08-17T00:00:00\", \"2020-08-18T00:00:00\", \"2020-08-19T00:00:00\", \"2020-08-20T00:00:00\", \"2020-08-21T00:00:00\", \"2020-08-22T00:00:00\", \"2020-08-23T00:00:00\", \"2020-08-24T00:00:00\", \"2020-08-25T00:00:00\", \"2020-08-26T00:00:00\", \"2020-08-27T00:00:00\", \"2020-08-28T00:00:00\", \"2020-08-29T00:00:00\", \"2020-08-30T00:00:00\", \"2020-08-31T00:00:00\", \"2020-09-01T00:00:00\", \"2020-09-02T00:00:00\", \"2020-09-03T00:00:00\", \"2020-09-04T00:00:00\", \"2020-09-05T00:00:00\", \"2020-09-06T00:00:00\", \"2020-09-07T00:00:00\", \"2020-09-08T00:00:00\", \"2020-09-09T00:00:00\", \"2020-09-10T00:00:00\", \"2020-09-11T00:00:00\", \"2020-09-12T00:00:00\", \"2020-09-13T00:00:00\", \"2020-09-14T00:00:00\", \"2020-09-15T00:00:00\", \"2020-09-16T00:00:00\", \"2020-09-17T00:00:00\", \"2020-09-18T00:00:00\", \"2020-09-19T00:00:00\", \"2020-09-20T00:00:00\", \"2020-09-21T00:00:00\", \"2020-09-22T00:00:00\", \"2020-09-23T00:00:00\", \"2020-09-24T00:00:00\", \"2020-09-25T00:00:00\", \"2020-09-26T00:00:00\", \"2020-09-27T00:00:00\", \"2020-09-28T00:00:00\", \"2020-09-29T00:00:00\", \"2020-09-30T00:00:00\", \"2020-10-01T00:00:00\", \"2020-10-02T00:00:00\", \"2020-10-03T00:00:00\", \"2020-10-04T00:00:00\", \"2020-10-05T00:00:00\", \"2020-10-06T00:00:00\", \"2020-10-07T00:00:00\", \"2020-10-08T00:00:00\", \"2020-10-09T00:00:00\", \"2020-10-10T00:00:00\", \"2020-10-11T00:00:00\", \"2020-10-12T00:00:00\", \"2020-10-13T00:00:00\", \"2020-10-14T00:00:00\", \"2020-10-15T00:00:00\", \"2020-10-16T00:00:00\", \"2020-10-17T00:00:00\", \"2020-10-18T00:00:00\", \"2020-10-19T00:00:00\", \"2020-10-20T00:00:00\", \"2020-10-21T00:00:00\", \"2020-10-22T00:00:00\", \"2020-10-23T00:00:00\", \"2020-10-24T00:00:00\", \"2020-10-25T00:00:00\", \"2020-10-26T00:00:00\", \"2020-10-27T00:00:00\", \"2020-10-28T00:00:00\", \"2020-10-29T00:00:00\", \"2020-10-30T00:00:00\", \"2020-10-31T00:00:00\", \"2020-11-01T00:00:00\", \"2020-11-02T00:00:00\", \"2020-11-03T00:00:00\", \"2020-11-04T00:00:00\", \"2020-11-05T00:00:00\", \"2020-11-06T00:00:00\", \"2020-11-07T00:00:00\", \"2020-11-08T00:00:00\", \"2020-11-09T00:00:00\", \"2020-11-10T00:00:00\", \"2020-11-11T00:00:00\", \"2020-11-12T00:00:00\", \"2020-11-13T00:00:00\", \"2020-11-14T00:00:00\", \"2020-11-15T00:00:00\", \"2020-11-16T00:00:00\", \"2020-11-17T00:00:00\", \"2020-11-18T00:00:00\", \"2020-11-19T00:00:00\", \"2020-11-20T00:00:00\", \"2020-11-21T00:00:00\", \"2020-11-22T00:00:00\", \"2020-11-23T00:00:00\", \"2020-11-24T00:00:00\", \"2020-11-25T00:00:00\", \"2020-11-26T00:00:00\", \"2020-11-27T00:00:00\", \"2020-11-28T00:00:00\", \"2020-11-29T00:00:00\", \"2020-11-30T00:00:00\", \"2020-12-01T00:00:00\", \"2020-12-02T00:00:00\", \"2020-12-03T00:00:00\", \"2020-12-04T00:00:00\", \"2020-12-05T00:00:00\", \"2020-12-06T00:00:00\", \"2020-12-07T00:00:00\", \"2020-12-08T00:00:00\", \"2020-12-09T00:00:00\", \"2020-12-10T00:00:00\", \"2020-12-11T00:00:00\", \"2020-12-12T00:00:00\", \"2020-12-13T00:00:00\", \"2020-12-14T00:00:00\", \"2020-12-15T00:00:00\", \"2020-12-16T00:00:00\", \"2020-12-17T00:00:00\", \"2020-12-18T00:00:00\", \"2020-12-19T00:00:00\", \"2020-12-20T00:00:00\", \"2020-12-21T00:00:00\", \"2020-12-22T00:00:00\", \"2020-12-23T00:00:00\", \"2020-12-24T00:00:00\", \"2020-12-25T00:00:00\", \"2020-12-26T00:00:00\", \"2020-12-27T00:00:00\", \"2020-12-28T00:00:00\", \"2020-12-29T00:00:00\", \"2020-12-30T00:00:00\", \"2020-12-31T00:00:00\", \"2021-01-01T00:00:00\", \"2021-01-02T00:00:00\", \"2021-01-03T00:00:00\", \"2021-01-04T00:00:00\", \"2021-01-05T00:00:00\", \"2021-01-06T00:00:00\", \"2021-01-07T00:00:00\", \"2021-01-08T00:00:00\", \"2021-01-09T00:00:00\", \"2021-01-10T00:00:00\", \"2021-01-11T00:00:00\", \"2021-01-12T00:00:00\", \"2021-01-13T00:00:00\", \"2021-01-14T00:00:00\", \"2021-01-15T00:00:00\", \"2021-01-16T00:00:00\", \"2021-01-17T00:00:00\", \"2021-01-18T00:00:00\", \"2021-01-19T00:00:00\", \"2021-01-20T00:00:00\", \"2021-01-21T00:00:00\", \"2021-01-22T00:00:00\", \"2021-01-23T00:00:00\", \"2021-01-24T00:00:00\", \"2021-01-25T00:00:00\", \"2021-01-26T00:00:00\", \"2021-01-27T00:00:00\", \"2021-01-28T00:00:00\", \"2021-01-29T00:00:00\", \"2021-01-30T00:00:00\", \"2021-01-31T00:00:00\", \"2021-02-01T00:00:00\", \"2021-02-02T00:00:00\", \"2021-02-03T00:00:00\", \"2021-02-04T00:00:00\", \"2021-02-05T00:00:00\", \"2021-02-06T00:00:00\", \"2021-02-07T00:00:00\", \"2021-02-08T00:00:00\", \"2021-02-09T00:00:00\", \"2021-02-10T00:00:00\", \"2021-02-11T00:00:00\", \"2021-02-12T00:00:00\", \"2021-02-13T00:00:00\", \"2021-02-14T00:00:00\", \"2021-02-15T00:00:00\", \"2021-02-16T00:00:00\", \"2021-02-17T00:00:00\", \"2021-02-18T00:00:00\", \"2021-02-19T00:00:00\", \"2021-02-20T00:00:00\", \"2021-02-21T00:00:00\", \"2021-02-22T00:00:00\", \"2021-02-23T00:00:00\", \"2021-02-24T00:00:00\", \"2021-02-25T00:00:00\", \"2021-02-26T00:00:00\", \"2021-02-27T00:00:00\", \"2021-02-28T00:00:00\", \"2021-03-01T00:00:00\", \"2021-03-02T00:00:00\", \"2021-03-03T00:00:00\", \"2021-03-04T00:00:00\", \"2021-03-05T00:00:00\", \"2021-03-06T00:00:00\", \"2021-03-07T00:00:00\", \"2021-03-08T00:00:00\", \"2021-03-09T00:00:00\", \"2021-03-10T00:00:00\", \"2021-03-11T00:00:00\", \"2021-03-12T00:00:00\", \"2021-03-13T00:00:00\", \"2021-03-14T00:00:00\", \"2021-03-15T00:00:00\", \"2021-03-16T00:00:00\", \"2021-03-17T00:00:00\", \"2021-03-18T00:00:00\", \"2021-03-19T00:00:00\", \"2021-03-20T00:00:00\", \"2021-03-21T00:00:00\", \"2021-03-22T00:00:00\", \"2021-03-23T00:00:00\", \"2021-03-24T00:00:00\", \"2021-03-25T00:00:00\", \"2021-03-26T00:00:00\", \"2021-03-27T00:00:00\", \"2021-03-28T00:00:00\", \"2021-03-29T00:00:00\", \"2021-03-30T00:00:00\", \"2021-03-31T00:00:00\", \"2021-04-01T00:00:00\", \"2021-04-02T00:00:00\", \"2021-04-03T00:00:00\", \"2021-04-04T00:00:00\", \"2021-04-05T00:00:00\", \"2021-04-06T00:00:00\", \"2021-04-07T00:00:00\", \"2021-04-08T00:00:00\", \"2021-04-09T00:00:00\", \"2021-04-10T00:00:00\", \"2021-04-11T00:00:00\", \"2021-04-12T00:00:00\", \"2021-04-13T00:00:00\", \"2021-04-14T00:00:00\", \"2021-04-15T00:00:00\", \"2021-04-16T00:00:00\", \"2021-04-17T00:00:00\", \"2021-04-18T00:00:00\", \"2021-04-19T00:00:00\", \"2021-04-20T00:00:00\", \"2021-04-21T00:00:00\", \"2021-04-22T00:00:00\", \"2021-04-23T00:00:00\", \"2021-04-24T00:00:00\", \"2021-04-25T00:00:00\", \"2021-04-26T00:00:00\", \"2021-04-27T00:00:00\", \"2021-04-28T00:00:00\", \"2021-04-29T00:00:00\", \"2021-04-30T00:00:00\", \"2021-05-01T00:00:00\", \"2021-05-02T00:00:00\", \"2021-05-03T00:00:00\", \"2021-05-04T00:00:00\", \"2021-05-05T00:00:00\", \"2021-05-06T00:00:00\", \"2021-05-07T00:00:00\", \"2021-05-08T00:00:00\", \"2021-05-09T00:00:00\", \"2021-05-10T00:00:00\", \"2021-05-11T00:00:00\", \"2021-05-12T00:00:00\", \"2021-05-13T00:00:00\", \"2021-05-14T00:00:00\", \"2021-05-15T00:00:00\", \"2021-05-16T00:00:00\", \"2021-05-17T00:00:00\", \"2021-05-18T00:00:00\", \"2021-05-19T00:00:00\", \"2021-05-20T00:00:00\", \"2021-05-21T00:00:00\", \"2021-05-22T00:00:00\", \"2021-05-23T00:00:00\", \"2021-05-24T00:00:00\", \"2021-05-25T00:00:00\", \"2021-05-26T00:00:00\", \"2021-05-27T00:00:00\", \"2021-05-28T00:00:00\", \"2021-05-29T00:00:00\", \"2021-05-30T00:00:00\", \"2021-05-31T00:00:00\", \"2021-06-01T00:00:00\", \"2021-06-02T00:00:00\", \"2021-06-03T00:00:00\", \"2021-06-04T00:00:00\", \"2021-06-05T00:00:00\", \"2021-06-06T00:00:00\", \"2021-06-07T00:00:00\", \"2021-06-08T00:00:00\", \"2021-06-09T00:00:00\", \"2021-06-10T00:00:00\", \"2021-06-11T00:00:00\", \"2021-06-12T00:00:00\", \"2021-06-13T00:00:00\", \"2021-06-14T00:00:00\", \"2021-06-15T00:00:00\", \"2021-06-16T00:00:00\", \"2021-06-17T00:00:00\", \"2021-06-18T00:00:00\", \"2021-06-19T00:00:00\", \"2021-06-20T00:00:00\", \"2021-06-21T00:00:00\", \"2021-06-22T00:00:00\", \"2021-06-23T00:00:00\", \"2021-06-24T00:00:00\", \"2021-06-25T00:00:00\", \"2021-06-26T00:00:00\", \"2021-06-27T00:00:00\", \"2021-06-28T00:00:00\", \"2021-06-29T00:00:00\", \"2021-06-30T00:00:00\", \"2021-07-01T00:00:00\"], \"xaxis\": \"x\", \"y\": [-0.5853797908849885, -0.3808567780189284, -2.5709174595795368, -0.5575059662101777, 1.5336098558362794, 0.3532331119414685, 2.02395235094042, 2.769725585769016, 0.9384159232694127, 0.21067116132083263, 2.9866159220429127, 0.0922164204779898, 0.7864152656677267, 0.6132272731725845, 1.7634425091145518, 1.3800944770350014, -0.5096078961152205, -0.0360218285007812, 1.540416962289317, 0.6108134910237726, 3.1158072567045383, 2.0522584175159864, 0.8962347489020683, 1.7464127013326372, 0.19002950356465062, 0.2796102558840967, 0.9192175097035051, 0.033964589845201176, -1.1428956998244173, 0.7879980866803883, -1.061634576044237, 0.7586494630621425, 0.6932330389414625, 1.0987838739171738, -0.9446339290405324, 0.740780076349614, 2.562263472602761, -0.3099172730625597, 1.1447741802176379, 0.9136232484857048, 0.03240336505217711, -2.0299960410866182, 1.0250527134238332, 1.6974680585438375, 0.4669680350915735, -0.7853512769863747, -1.570186877982679, 0.6884568576283207, 0.15437007851313103, 3.0595587826013695, 0.4066666659135765, 1.5695139100267559, -0.10961834553479613, 3.53902435055795, 2.8244172657608964, 1.185335961399736, 3.1035151254265747, -1.1222641899503996, 0.6745809210565122, 0.057915388969618925, 1.0028657015258224, 1.1985780572796434, -1.285016639480406, 1.5773764408777184, 0.2029718273549068, -0.09393372590795968, 4.427346862718738, 0.9759108242704964, 0.444567011318968, 1.988008630795362, -0.25122296423118395, 1.207021742238252, 1.9306079054333911, 1.2219057841392968, 0.7365747496513882, -0.30095619102456206, 2.733481734773027, -0.6120881970430372, 1.8549475362433314, -0.3441720830317199, -0.5236459577670591, -0.26803359083227724, -0.29961227012475633, 0.8094052417578016, 0.24324218104346218, 0.20521255729559798, 2.2487802797502505, -0.01290843865264497, 0.7304243998408776, 1.2612304415149371, 2.341573014689463, 5.079717750120085, 2.688797894805001, 0.3452386053144296, 0.7949208491523343, 0.31128098258969644, -0.5713566045903363, 0.15207265688788396, 0.92043775112687, -0.10712672319958433, 1.1501955181319716, 0.6439131201949732, 2.583267616020893, 0.13052563828206876, 1.0131849905824892, 0.3171024009772669, 0.4641617762658638, 0.8936231421269053, 0.09953913088989552, -1.2429752542059436, 0.4196586830181561, 1.6649062873030138, 2.238743232817446, 0.7299236373428208, -1.041119021171871, -1.9587840335932014, -0.13960371338206884, 2.1011494620120112, -0.5086838420889284, 0.4976483724050025, 1.301497740210098, 0.698797336386389, -0.5487950893484397, 1.2147999334692914, 0.7169467454622688, 0.6779165078673342, 1.2326652258592496, -2.892257612842967, 0.950367540968684, 2.298781121192945, 0.23451969176778042, -0.482011189268143, 1.8407523932799732, 4.585466741248367, 1.6202388167903736, -0.2642330481093873, 2.4628602491144616, 0.5559417825445467, 0.47477284366857464, 2.0344512658062213, 1.0621730087350485, 1.9339517868774398, 0.4438304865281289, 0.3374975772108119, 0.640439949050996, 3.693635155802485, 1.5872057809409479, 1.6564633346831117, 1.354589383312712, 2.7083350775017108, 1.2676787180692166, 0.20039267675666822, 0.07641814336987371, 2.2375138617027455, -0.5207023266512967, 0.9560448562683668, 1.8762086495417254, -0.5849324649129148, -1.0068192378749603, 1.5542783722665419, 2.3480580269764744, 0.8760460253193116, 1.6247730028369785, -0.6505894145504217, 0.30687762878753905, 2.610338567726139, 2.4452245659033554, 2.912788452344013, 3.1397760576181906, 4.89622189881436, -1.0161624170243226, 1.0697057232148288, 2.3687376645555354, 0.10681174971750043, 5.068590780142833, 2.231595838833224, 4.050588484132412, 4.537338470521154, 1.0011362754206738, 0.9071533761780115, -0.06954006331115437, 1.9152823471366456, 1.9332271622431967, 0.3512713140102899, 0.33511605404252176, 1.4805729042188611, 0.10994207567199046, 0.21241443738715082, 1.5273393648932123, 0.32046219150602717, 3.2075448642455573, 2.532405115124711, 2.6337021016985025, 1.0438035600747475, -0.42088731288165143, 0.9718792691041245, 1.6428218596982633, 1.280821330744847, 3.9215632684821182, 1.5439299013532952, 2.001847954676831, 0.6927440496383501, 0.7481571106642924, 2.7953367572019983, 0.39100599516442147, -0.11465143302191128, -0.3731798430148511, 1.3857699826992467, -0.775879785023889, 0.20907707919072216, 2.2564748980044986, -0.10990270207015412, 0.17957838142538832, 0.19166271898985981, 0.5127062689670693, 1.431679060872242, 3.0969623233841297, -0.528582580137508, 0.23911082634252204, 4.089127442894025, 1.0754107586472574, 0.5314929478468128, 0.4030553212813268, 0.1128578427320378, 1.5412384462412063, -1.6471828131539206, 1.0091905500416325, 1.5862518810938024, 1.3960542120618256, 0.1294368332745276, 1.118524314865702, 1.4389295282165162, 0.795676941161275, 2.1067473280500177, -0.2880482851227896, 0.751800724413283, 0.47492921342220284, 0.41248657159526037, 0.9232064003246492, -0.6300478996107325, -0.4162988705886426, 0.22387204599399013, 0.11987884436584649, -0.9433681731175891, 0.009945138758545913, 0.7721000047604446, 1.593766066167721, 1.4391068628637576, 0.479345949530281, 1.5460538709556362, 0.5877470453336585, 0.24049249511222093, 1.1681613576297398, -0.017502325711208716, 1.3716951274854552, -0.844386669859751, 1.2853083804202146, 0.6935794309633684, 0.5333982333596202, -0.9635539154104009, 1.7190703804469285, 0.4456726993140697, 1.1170993456022857, 0.5901123563115493, 0.7708143336371771, 1.1415364948050768, -1.2548271795224915, -1.884272525811919, 0.3019029186001154, 1.2413913692376923, 0.9803094924260295, 0.7634467474580191, 0.11139552357387572, -0.5533626321625197, 1.6613419331320962, -0.6200028669379551, 0.4995406649596192, 0.03660951054226558, 0.9855169365321138, -0.8866129333007134, -0.3864019764707045, 0.9711052913047344, 1.7971334626534983, -0.6808151238527944, -0.5553366942010632, 1.1707649639976023, 2.0872304436027904, 2.071146958496394, -1.2077553708537596, -0.741004077767661, 0.26179817999494676, 0.21480659502717936, 2.3932458217598405, 1.97266949845025, -0.342929429977365, 0.23261728299150644, 0.8076673608584458, 1.3281589799593623, 0.18755900637125555, 1.0577710350245502, -0.4416691365371752, 1.7507105655448256, -0.13470808531328368, 1.0899762306258232, 0.40685917616398676, 0.6087167717755438, 0.5473880463766607, 0.7269780455708794, 0.17911289037815106, 0.00447641566762047, -1.2175053662634014, 0.6060259660572137, -0.1999498956118767, 0.6247753526302612, -0.6795832345594941, 0.2298960106011282, -0.04347890606929117, 0.15962253117917669, -0.9398374564681045, -0.6399931052388221, -0.43738029770545406, -1.909414256361441, 1.150840457385409, 1.148438650519003, 1.8032102987622083, -1.7528277271521877, 0.32538057312934077, -0.16923061096222947, -0.3886506677181854, 0.9162762409483147, -0.024904867319248156, 1.3648922916362067, 0.5712568580086383, 2.1432187273763903, 0.7956207716736223, 0.9339068035481441, 0.8079753600397788, -0.05202124836279676, -0.3958008602466637, -0.2702617021921496, 1.0943272097421073, 0.10986507867664523, -0.07257855229165816, 2.01390328068093, 2.7122165858922607, 0.2991836243955867, 0.634493933893582, 0.13602853094881617, -1.221751477384554, -0.07040382162605308, -0.07588235847566072, 0.06288653201121525, -0.5760319258282482, 0.7910229051253366, 0.7809613508269638, 0.31740308183542754, 0.44138355867701995, -0.17103769515257017, -0.4234453123419956, -0.5208069063908811, 0.12154444609816756, -0.824530176076792, 0.8585870377406941, 0.42566989695046564, -0.02507339095618455, 2.3007577981102147, -0.4703367265621805, 0.292283448437901, 0.22767207814510948, 0.16629241292775004, -1.2460118927333204, 1.0817250764795738, -0.14723785050954635, 0.37480648892892776, 1.1414580211025447, 0.5048075100478275, 0.6011263600301635, -0.21339469797985788, 1.6350566882324071, -1.1113006142259727, 0.48833074146622885, -0.9818420867436283, -0.5268693017245596, -0.11137756818579347, 0.9496629429056037, -0.8320001926094672, 2.2413020131810057, -1.5728953207179237, 0.1599052898979353, 0.3995226531987871, 0.6575224375858179, 0.08764335201447393, 1.5279141299742112, 1.733697491761096, 0.1986254808986455, -2.1981055894853125, -0.5468959423220958, 1.041988008947867, 0.7934802157850465, -0.007964399508657405, -0.3990019485109212, 1.1928709788730134, 1.9703612700450994, 1.5437244244719683, 1.0654600246290251, 1.4278323581716412, 3.3583910113731714, -0.9949842210939135, 0.10354544301360799, 0.9794164446825133, -0.4544309675291137, -1.4816443351301085, 2.0143331202737946, 0.11388933817462835, -1.286652220761606, 2.9189683512112117, -0.5490312369877988, 0.05490723802491573, 2.469381387426065, -0.3249615554740954, 1.5115440552760562, -0.09665597394459843, 1.4627031273364233, 0.2624828052893639, 0.34234231617551114, 0.7039197184390452, 0.5297628224355235, 1.0800118884372663, 1.2851602506694464, 1.561096587991156, 0.5552014967041426, 0.9479254854322328, 0.33212198848558294, -0.5437297725403875, 0.45164979722896503, -0.2145274658175353, 0.2673244139261332, -2.8913693964107363, 0.6231530056898213, 0.12690083840578786, -0.3899310563947035, 0.42287528730192275, -0.7650488959673982, -1.0185190361590926, -0.9898679386755429, -1.2095927570211833, -1.0678921511555606, -1.6417783264411698, -1.4989926796240753, 0.7136356988708413, -0.8415305597201146, -2.544505059709127, -0.9461212312404883, -0.010276774941045203, 0.9357866737872925, 0.30824280377568103, 0.5756771787768762, 1.7968145687833266, 1.4123301111486823, 1.3988353508810083, 0.2040816450311379, 0.30606482953331104, 1.3558658639976553, -1.716790162818449, 0.48228084259837356, -0.8702644465354339, 0.2602572569623486, 0.9136623572381405, 1.4452761329136046, 1.3680479858344685, 0.051449583526641085, 0.6869453783352939, -1.1968275242269628, 0.43250107809291316, 1.2027653248996133, -0.7319101579062903, -0.37897455604226266, 0.01825739201075429, -0.3571308710297971, 1.2268999821101172, 0.22855149683615067, 0.05604853082696071, 0.8944136058094979, -1.2082904287264884, 0.0, 0.0, -0.18980513290106837, 1.4698332669927958, 1.1907148167505652, 0.0974072014320172, 3.075591350474391, 1.4180416605287554, 2.0593273075446334, 1.0687008326668452, 1.4044652809030735, 0.7411850614103445, 3.0696707725523456, 1.34809736515574, 0.2540221049771337, 0.6840770419969098, 2.187741866432442, -0.6783199964793505, -0.16720752998181085, 0.9659957933696347, 0.6274725904410364, 0.5304980246670226, 1.8911639101153521, 1.4574692237768168, -0.5925837186670839, -0.2490277774777876, -0.579086310436659, 1.4477436853757757, 1.4101183852739594, 1.7401970405610374, 1.345099291981282, 0.9275227053844346, 2.4534451102016344, 2.3515765748686337, -0.28222748974056877, 2.683678425421152, 0.15110038135619192, 2.641877397866616, -0.4423442934498859, -0.6432859568830773, 1.1356744757410389, 0.21834077812855524, 2.978806456397505, 0.2476521885948986, -0.413786720296473, 0.9003860631375604, 0.9483041061423318, 0.16102017470979405, -0.59338624360815, -0.1928575654573162, 0.20150428536793114, 1.9968939976438453, 0.2532871774003155, 0.19859653128465315, -1.16016014116481, 0.07308398353108744, 0.6195118747694526, 0.9323810713068541, -0.15625241174829863, -0.5515570371379668, 0.4863230664320845, -0.14174993592216323, 1.122593041121597, 1.70591582881371, 0.38965880236518025, 2.439643983135497, -0.0066256044908848954, 0.7356290638598454, 0.03845701855922268, 2.6322458925580743, 0.17552580364362097, 0.3902982644814241, 1.1858375121054632, 1.11146435517266, 1.801930820040254, -0.400968402859212, -0.32289294642419547, -0.8392972990505929, 1.4603235187540464, 1.282502903350897, -0.06370752627716042, 0.4537891988938289, 0.7558658635715, 0.3320849417094529, 1.8417816954137298, -0.019968947065397535, 0.33736428307454325, 1.0388387875066813, 3.3351636308669144, 1.8232477074755185, 0.7989578475360007, -0.5796553552136919, -0.4156253570682081, 0.7794025817437027, 2.420701223618006, 1.1895822189457912, 1.2994128405559076, 1.5574431695874658, 1.231680404609459, -1.0147383316271583, 1.1171909977954022, 0.6307401053648302, 1.4480102389063325, 0.663430522812753, 1.3761727860820718, 0.9951268114623213, 1.058121625215416, 3.3147192686932847, 1.2758034084065397, 0.1463928619002023, 2.7985626534708627, -0.1806185529224919, 0.6943236665598406, -0.7603667642588998, -0.5569577440788843, -0.1559725731277553, 0.32586745656510263, 1.0755581626482122, 0.9337266086846546, 0.7099508754390287, -0.13961597659358332, 1.34598862949678, -0.6471290596938357, -0.10301919124719289, 0.5034428099187049, 0.8143365519031377, 2.361198849732201, 1.8338299601030028, 0.10120258444930758, 0.19536806703677512, 0.42959412274127157, -0.4760958527156939, -1.0839880325474869, 0.02461749532312771, 0.39959258618551097, 1.836173952337659, 1.9513674940707577, 1.4368887103631462, 0.08485003940339553, 0.05890871926641039, -0.27435637789144995, 1.8064049304322027, -0.07297776125039916, 0.9535648359571909, -1.2771063747781817, -0.7631245373259128, 0.343992407682957, 1.3373067236116152, 0.5688150826858622, -0.21781308112155262, -1.4499220947038929, 2.689510386912851, 1.6568981576665975, 1.171077082022303, 1.8519918843481435, 1.1527691223315044, 0.3102374555450555, 1.6977409414837998, 0.5849066523817312, 0.9449753156010553, -0.13430748037223758, 2.305863119990809, 1.8821288026955805, -0.22803805307746247, -0.8941379489080797, 0.9959699910304294, 1.0675220669211192, 1.9178820030029928, 1.2513352978073078, 3.013499571999554, 0.19361113270505398, 2.249467999144518, 1.9723574398565697, 3.409521606779886, 2.775537740864939, 2.9260604818689364, 0.323489439365984, 1.2063549537191072, -0.6054653229064523, 1.9025866865990266, -1.0833454739013524, 0.4480951998719563, 2.323843828885886, -1.8655727618131832, -0.272281327538375, 1.2003400001030737, -0.22950454781975604, 0.18296827498425325, 1.7118188582893064, 2.370008197278346, 1.6913928968224674, 2.975171295861875, 4.720118631289937, 3.507685421494968, 1.0405153574893895, -0.6595671881317817, 1.1126365653670154, 1.749971288271707, 3.53029345797888, 1.0474004317908927, 2.2682422939100793, 0.8152744277772265, 3.1678574222818807, 2.098642814498909, 0.08673535266108012, 3.9064898783448188, 4.809981121036583, 0.9543114431418246, 2.927586848618065, 3.396755547522763, 2.9325931246943573, 0.4388878204877501, 2.1253825180616372, 3.13330300116442, 1.024292663480804, 2.1842434506673016, 1.4593396846121065, 1.6751454885679948, 0.35487320425001245, 0.5895998011893909, 1.291585971669236, 0.15209363516671656, 0.9943137580207282, 0.6628208880519507, 0.5113767123367225, 2.8059677905273546, 4.2383982528635515, 2.250659234208071, 1.8161569368514536, 1.56498651974793, -0.4771839310067106, 5.273506130726724, 1.1414350745869748, 3.7357539780431686, 4.002728903273445, 3.8269193748075447, -0.20409286778329994, 0.9452354538471646, 1.1922433414585096, 1.1005068231207955, 1.6951062156319423, 4.472151377640115, 5.963546166090049, 4.136667632245721, 2.0797362162478974, 3.2668185156107508, 2.0419121574633454, 3.414548610990686, 2.7295582307520907, 3.2029062559953543, 3.176634563190573, 3.9838291151767127, 4.361804770282229, 6.155592207308603, 7.178887246126798, 5.096882521036776, -0.6083441334155673, 1.9279474101846779, 2.440605543628074, 3.0026840977156843, 2.7884737083226834, -1.7270151796245736, -1.2923021071986758, 2.9320710982644345, 5.425599569858007, 3.02012929781335, 0.26134452074459263, 0.941570137406188, 5.106019522515298, 4.0597021831069044, 0.3601701120893709, 1.5191247002289343, 3.970769630323164, 3.6736988221416653, 0.9153964943197409, 4.40538640381196, 3.520207932679026, 5.060126628015845, 11.267844041456067, 8.170804087459441, 7.85524704442796, 6.216284876579488, 3.325846752161959, 7.641408724214336, 9.833070883673589, 10.578783270629973, 9.196951216413499, 8.561517806715937, 11.077675423912588, 10.291034664115704, 6.461267715674548, 8.67174583651937, 9.583722531466195, 10.240596474127283, 6.453855709625319, 10.095664412578772, 13.805751862083532, 15.870333384226198, 8.122369449642315, 8.383622402091826, 9.281613328622345, 2.348453940753625, 7.282785770820903, 8.655575834991609, 8.220921625688515, 4.501783584352711, 3.332475155802865, 7.673334298898833, 7.428502818017222, 2.7925387968581035, 11.375954906745774, 7.391894885500721, 9.744185532499351, 7.949732345752376, 8.45794392559576, 6.423275113361887, 6.264669021457852, 0.8928515695964657, 4.679704501045424, 3.0535604600024366, 0.6426538213828833, 7.423145228517971, 4.828644182130806, 5.747251357101014, 1.9954096395595842, 2.896474377538368, 2.5715183783522506, 2.008610202145118, 4.748951298957335, 5.098714214011134, 6.481572049881956, 7.31563186236027, 7.06349377175393, 4.225519618892725, 8.409460532921546, 0.0002453748831203473, 9.659470410800745, 6.282031134312799, 4.0475906007045745, 4.402630127026722, 4.445554539077744, 3.752161071181708, 5.912562742217839, 2.99983038951409, 3.083859138783269, 3.944778491443475, 2.175653685324791, 11.01262621179744, 6.768680456790905, 13.170256581784406, 12.671906239486258, 9.120351069806453, 5.236029483073103, 8.56852385233827, 6.972830348747111, 10.18316254164257, 8.097661454273856, 5.8067992139449425, 10.926432291524282, 2.2153666246025514, 6.821236197674087, 6.367006682078088, 3.603386713949995, 9.142215965654245, 7.545802084426402, 8.403764384153765, 7.9967377969068565, 7.377290301738113, 9.497320158623872, 5.0213069656758655, 9.015726327227362, 6.232589396233674, 5.05700447543809, 3.9338422947378113, 4.800606024785172, 9.779296645147088, 7.665396863511752, 8.93789480786008, 1.728590006453765, 12.247420187250519, 1.8205603069211787, 5.577813809506963, 9.318956686260384, 6.126065058171167, 6.651335080473092, -1.4561340939665788, 1.5894128344832215, 0.5956670309731242, 3.976012643331889, 1.3410027018217292, 5.201478466667272, 5.050460615203189, 2.856105622873656, 5.130435818895949, 1.719366006858169, 4.6909958035661266, 7.003180784689118, 1.7041727987064093, 8.402949819429836, 2.777457187224673, 2.391960393781141, 5.254591828267934, 7.396372778787139, 2.399426972110746, 4.420296417267298, 3.799889921071548, 6.9235400455395295, 4.160599374886548, 5.281638357513896, 1.0227344265466098, 2.4077275429637264, 9.969383443453834, 4.733983367177838, 3.725590501048705, 8.803735411622071, 5.277541188733431, 7.516915641993237, 2.607829892263052, 1.963774337904513, 1.9763927857878065, 1.2591260749796545, 4.81163866016021, 6.412303673106753, 5.3298412561519, 2.0216825583278353, 4.576592574473738, 4.715827310123246, 5.440510503805492, 0.40487552595159926], \"yaxis\": \"y\"}, {\"name\": \"Bit Coin Avg\", \"type\": \"scatter\", \"x\": [\"2019-01-01T00:00:00\", \"2019-01-02T00:00:00\", \"2019-01-03T00:00:00\", \"2019-01-04T00:00:00\", \"2019-01-05T00:00:00\", \"2019-01-06T00:00:00\", \"2019-01-07T00:00:00\", \"2019-01-08T00:00:00\", \"2019-01-09T00:00:00\", \"2019-01-10T00:00:00\", \"2019-01-11T00:00:00\", \"2019-01-12T00:00:00\", \"2019-01-13T00:00:00\", \"2019-01-14T00:00:00\", \"2019-01-15T00:00:00\", \"2019-01-16T00:00:00\", \"2019-01-17T00:00:00\", \"2019-01-18T00:00:00\", \"2019-01-19T00:00:00\", \"2019-01-20T00:00:00\", \"2019-01-21T00:00:00\", \"2019-01-22T00:00:00\", \"2019-01-23T00:00:00\", \"2019-01-24T00:00:00\", \"2019-01-25T00:00:00\", \"2019-01-26T00:00:00\", \"2019-01-27T00:00:00\", \"2019-01-28T00:00:00\", \"2019-01-29T00:00:00\", \"2019-01-30T00:00:00\", \"2019-01-31T00:00:00\", \"2019-02-01T00:00:00\", \"2019-02-02T00:00:00\", \"2019-02-03T00:00:00\", \"2019-02-04T00:00:00\", \"2019-02-05T00:00:00\", \"2019-02-06T00:00:00\", \"2019-02-07T00:00:00\", \"2019-02-08T00:00:00\", \"2019-02-09T00:00:00\", \"2019-02-10T00:00:00\", \"2019-02-11T00:00:00\", \"2019-02-12T00:00:00\", \"2019-02-13T00:00:00\", \"2019-02-14T00:00:00\", \"2019-02-15T00:00:00\", \"2019-02-16T00:00:00\", \"2019-02-17T00:00:00\", \"2019-02-18T00:00:00\", \"2019-02-19T00:00:00\", \"2019-02-20T00:00:00\", \"2019-02-21T00:00:00\", \"2019-02-22T00:00:00\", \"2019-02-23T00:00:00\", \"2019-02-24T00:00:00\", \"2019-02-25T00:00:00\", \"2019-02-26T00:00:00\", \"2019-02-27T00:00:00\", \"2019-02-28T00:00:00\", \"2019-03-01T00:00:00\", \"2019-03-02T00:00:00\", \"2019-03-03T00:00:00\", \"2019-03-04T00:00:00\", \"2019-03-05T00:00:00\", \"2019-03-06T00:00:00\", \"2019-03-07T00:00:00\", \"2019-03-08T00:00:00\", \"2019-03-09T00:00:00\", \"2019-03-10T00:00:00\", \"2019-03-11T00:00:00\", \"2019-03-12T00:00:00\", \"2019-03-13T00:00:00\", \"2019-03-14T00:00:00\", \"2019-03-15T00:00:00\", \"2019-03-16T00:00:00\", \"2019-03-17T00:00:00\", \"2019-03-18T00:00:00\", \"2019-03-19T00:00:00\", \"2019-03-20T00:00:00\", \"2019-03-21T00:00:00\", \"2019-03-22T00:00:00\", \"2019-03-23T00:00:00\", \"2019-03-24T00:00:00\", \"2019-03-25T00:00:00\", \"2019-03-26T00:00:00\", \"2019-03-27T00:00:00\", \"2019-03-28T00:00:00\", \"2019-03-29T00:00:00\", \"2019-03-30T00:00:00\", \"2019-03-31T00:00:00\", \"2019-04-01T00:00:00\", \"2019-04-02T00:00:00\", \"2019-04-03T00:00:00\", \"2019-04-04T00:00:00\", \"2019-04-05T00:00:00\", \"2019-04-06T00:00:00\", \"2019-04-07T00:00:00\", \"2019-04-08T00:00:00\", \"2019-04-09T00:00:00\", \"2019-04-10T00:00:00\", \"2019-04-11T00:00:00\", \"2019-04-12T00:00:00\", \"2019-04-13T00:00:00\", \"2019-04-14T00:00:00\", \"2019-04-15T00:00:00\", \"2019-04-16T00:00:00\", \"2019-04-17T00:00:00\", \"2019-04-18T00:00:00\", \"2019-04-19T00:00:00\", \"2019-04-20T00:00:00\", \"2019-04-21T00:00:00\", \"2019-04-22T00:00:00\", \"2019-04-23T00:00:00\", \"2019-04-24T00:00:00\", \"2019-04-25T00:00:00\", \"2019-04-26T00:00:00\", \"2019-04-27T00:00:00\", \"2019-04-28T00:00:00\", \"2019-04-29T00:00:00\", \"2019-04-30T00:00:00\", \"2019-05-01T00:00:00\", \"2019-05-02T00:00:00\", \"2019-05-03T00:00:00\", \"2019-05-04T00:00:00\", \"2019-05-05T00:00:00\", \"2019-05-06T00:00:00\", \"2019-05-07T00:00:00\", \"2019-05-08T00:00:00\", \"2019-05-09T00:00:00\", \"2019-05-10T00:00:00\", \"2019-05-11T00:00:00\", \"2019-05-12T00:00:00\", \"2019-05-13T00:00:00\", \"2019-05-14T00:00:00\", \"2019-05-15T00:00:00\", \"2019-05-16T00:00:00\", \"2019-05-17T00:00:00\", \"2019-05-18T00:00:00\", \"2019-05-19T00:00:00\", \"2019-05-20T00:00:00\", \"2019-05-21T00:00:00\", \"2019-05-22T00:00:00\", \"2019-05-23T00:00:00\", \"2019-05-24T00:00:00\", \"2019-05-25T00:00:00\", \"2019-05-26T00:00:00\", \"2019-05-27T00:00:00\", \"2019-05-28T00:00:00\", \"2019-05-29T00:00:00\", \"2019-05-30T00:00:00\", \"2019-05-31T00:00:00\", \"2019-06-01T00:00:00\", \"2019-06-02T00:00:00\", \"2019-06-03T00:00:00\", \"2019-06-04T00:00:00\", \"2019-06-05T00:00:00\", \"2019-06-06T00:00:00\", \"2019-06-07T00:00:00\", \"2019-06-08T00:00:00\", \"2019-06-09T00:00:00\", \"2019-06-10T00:00:00\", \"2019-06-11T00:00:00\", \"2019-06-12T00:00:00\", \"2019-06-13T00:00:00\", \"2019-06-14T00:00:00\", \"2019-06-15T00:00:00\", \"2019-06-16T00:00:00\", \"2019-06-17T00:00:00\", \"2019-06-18T00:00:00\", \"2019-06-19T00:00:00\", \"2019-06-20T00:00:00\", \"2019-06-21T00:00:00\", \"2019-06-22T00:00:00\", \"2019-06-23T00:00:00\", \"2019-06-24T00:00:00\", \"2019-06-25T00:00:00\", \"2019-06-26T00:00:00\", \"2019-06-27T00:00:00\", \"2019-06-28T00:00:00\", \"2019-06-29T00:00:00\", \"2019-06-30T00:00:00\", \"2019-07-01T00:00:00\", \"2019-07-02T00:00:00\", \"2019-07-03T00:00:00\", \"2019-07-04T00:00:00\", \"2019-07-05T00:00:00\", \"2019-07-06T00:00:00\", \"2019-07-07T00:00:00\", \"2019-07-08T00:00:00\", \"2019-07-09T00:00:00\", \"2019-07-10T00:00:00\", \"2019-07-11T00:00:00\", \"2019-07-12T00:00:00\", \"2019-07-13T00:00:00\", \"2019-07-14T00:00:00\", \"2019-07-15T00:00:00\", \"2019-07-16T00:00:00\", \"2019-07-17T00:00:00\", \"2019-07-18T00:00:00\", \"2019-07-19T00:00:00\", \"2019-07-20T00:00:00\", \"2019-07-21T00:00:00\", \"2019-07-22T00:00:00\", \"2019-07-23T00:00:00\", \"2019-07-24T00:00:00\", \"2019-07-25T00:00:00\", \"2019-07-26T00:00:00\", \"2019-07-27T00:00:00\", \"2019-07-28T00:00:00\", \"2019-07-29T00:00:00\", \"2019-07-30T00:00:00\", \"2019-07-31T00:00:00\", \"2019-08-01T00:00:00\", \"2019-08-02T00:00:00\", \"2019-08-03T00:00:00\", \"2019-08-04T00:00:00\", \"2019-08-05T00:00:00\", \"2019-08-06T00:00:00\", \"2019-08-07T00:00:00\", \"2019-08-08T00:00:00\", \"2019-08-09T00:00:00\", \"2019-08-10T00:00:00\", \"2019-08-11T00:00:00\", \"2019-08-12T00:00:00\", \"2019-08-13T00:00:00\", \"2019-08-14T00:00:00\", \"2019-08-15T00:00:00\", \"2019-08-16T00:00:00\", \"2019-08-17T00:00:00\", \"2019-08-18T00:00:00\", \"2019-08-19T00:00:00\", \"2019-08-20T00:00:00\", \"2019-08-21T00:00:00\", \"2019-08-22T00:00:00\", \"2019-08-23T00:00:00\", \"2019-08-24T00:00:00\", \"2019-08-25T00:00:00\", \"2019-08-26T00:00:00\", \"2019-08-27T00:00:00\", \"2019-08-28T00:00:00\", \"2019-08-29T00:00:00\", \"2019-08-30T00:00:00\", \"2019-08-31T00:00:00\", \"2019-09-01T00:00:00\", \"2019-09-02T00:00:00\", \"2019-09-03T00:00:00\", \"2019-09-04T00:00:00\", \"2019-09-05T00:00:00\", \"2019-09-06T00:00:00\", \"2019-09-07T00:00:00\", \"2019-09-08T00:00:00\", \"2019-09-09T00:00:00\", \"2019-09-10T00:00:00\", \"2019-09-11T00:00:00\", \"2019-09-12T00:00:00\", \"2019-09-13T00:00:00\", \"2019-09-14T00:00:00\", \"2019-09-15T00:00:00\", \"2019-09-16T00:00:00\", \"2019-09-17T00:00:00\", \"2019-09-18T00:00:00\", \"2019-09-19T00:00:00\", \"2019-09-20T00:00:00\", \"2019-09-21T00:00:00\", \"2019-09-22T00:00:00\", \"2019-09-23T00:00:00\", \"2019-09-24T00:00:00\", \"2019-09-25T00:00:00\", \"2019-09-26T00:00:00\", \"2019-09-27T00:00:00\", \"2019-09-28T00:00:00\", \"2019-09-29T00:00:00\", \"2019-09-30T00:00:00\", \"2019-10-01T00:00:00\", \"2019-10-02T00:00:00\", \"2019-10-03T00:00:00\", \"2019-10-04T00:00:00\", \"2019-10-05T00:00:00\", \"2019-10-06T00:00:00\", \"2019-10-07T00:00:00\", \"2019-10-08T00:00:00\", \"2019-10-09T00:00:00\", \"2019-10-10T00:00:00\", \"2019-10-11T00:00:00\", \"2019-10-12T00:00:00\", \"2019-10-13T00:00:00\", \"2019-10-14T00:00:00\", \"2019-10-15T00:00:00\", \"2019-10-16T00:00:00\", \"2019-10-17T00:00:00\", \"2019-10-18T00:00:00\", \"2019-10-19T00:00:00\", \"2019-10-20T00:00:00\", \"2019-10-21T00:00:00\", \"2019-10-22T00:00:00\", \"2019-10-23T00:00:00\", \"2019-10-24T00:00:00\", \"2019-10-25T00:00:00\", \"2019-10-26T00:00:00\", \"2019-10-27T00:00:00\", \"2019-10-28T00:00:00\", \"2019-10-29T00:00:00\", \"2019-10-30T00:00:00\", \"2019-10-31T00:00:00\", \"2019-11-01T00:00:00\", \"2019-11-02T00:00:00\", \"2019-11-03T00:00:00\", \"2019-11-04T00:00:00\", \"2019-11-05T00:00:00\", \"2019-11-06T00:00:00\", \"2019-11-07T00:00:00\", \"2019-11-08T00:00:00\", \"2019-11-09T00:00:00\", \"2019-11-10T00:00:00\", \"2019-11-11T00:00:00\", \"2019-11-12T00:00:00\", \"2019-11-13T00:00:00\", \"2019-11-14T00:00:00\", \"2019-11-15T00:00:00\", \"2019-11-16T00:00:00\", \"2019-11-17T00:00:00\", \"2019-11-18T00:00:00\", \"2019-11-19T00:00:00\", \"2019-11-20T00:00:00\", \"2019-11-21T00:00:00\", \"2019-11-22T00:00:00\", \"2019-11-23T00:00:00\", \"2019-11-24T00:00:00\", \"2019-11-25T00:00:00\", \"2019-11-26T00:00:00\", \"2019-11-27T00:00:00\", \"2019-11-28T00:00:00\", \"2019-11-29T00:00:00\", \"2019-11-30T00:00:00\", \"2019-12-01T00:00:00\", \"2019-12-02T00:00:00\", \"2019-12-03T00:00:00\", \"2019-12-04T00:00:00\", \"2019-12-05T00:00:00\", \"2019-12-06T00:00:00\", \"2019-12-07T00:00:00\", \"2019-12-08T00:00:00\", \"2019-12-09T00:00:00\", \"2019-12-10T00:00:00\", \"2019-12-11T00:00:00\", \"2019-12-12T00:00:00\", \"2019-12-13T00:00:00\", \"2019-12-14T00:00:00\", \"2019-12-15T00:00:00\", \"2019-12-16T00:00:00\", \"2019-12-17T00:00:00\", \"2019-12-18T00:00:00\", \"2019-12-19T00:00:00\", \"2019-12-20T00:00:00\", \"2019-12-21T00:00:00\", \"2019-12-22T00:00:00\", \"2019-12-23T00:00:00\", \"2019-12-24T00:00:00\", \"2019-12-25T00:00:00\", \"2019-12-26T00:00:00\", \"2019-12-27T00:00:00\", \"2019-12-28T00:00:00\", \"2019-12-29T00:00:00\", \"2019-12-30T00:00:00\", \"2019-12-31T00:00:00\", \"2020-01-01T00:00:00\", \"2020-01-02T00:00:00\", \"2020-01-03T00:00:00\", \"2020-01-04T00:00:00\", \"2020-01-05T00:00:00\", \"2020-01-06T00:00:00\", \"2020-01-07T00:00:00\", \"2020-01-08T00:00:00\", \"2020-01-09T00:00:00\", \"2020-01-10T00:00:00\", \"2020-01-11T00:00:00\", \"2020-01-12T00:00:00\", \"2020-01-13T00:00:00\", \"2020-01-14T00:00:00\", \"2020-01-15T00:00:00\", \"2020-01-16T00:00:00\", \"2020-01-17T00:00:00\", \"2020-01-18T00:00:00\", \"2020-01-19T00:00:00\", \"2020-01-20T00:00:00\", \"2020-01-21T00:00:00\", \"2020-01-22T00:00:00\", \"2020-01-23T00:00:00\", \"2020-01-24T00:00:00\", \"2020-01-25T00:00:00\", \"2020-01-26T00:00:00\", \"2020-01-27T00:00:00\", \"2020-01-28T00:00:00\", \"2020-01-29T00:00:00\", \"2020-01-30T00:00:00\", \"2020-01-31T00:00:00\", \"2020-02-01T00:00:00\", \"2020-02-02T00:00:00\", \"2020-02-03T00:00:00\", \"2020-02-04T00:00:00\", \"2020-02-05T00:00:00\", \"2020-02-06T00:00:00\", \"2020-02-07T00:00:00\", \"2020-02-08T00:00:00\", \"2020-02-09T00:00:00\", \"2020-02-10T00:00:00\", \"2020-02-11T00:00:00\", \"2020-02-12T00:00:00\", \"2020-02-13T00:00:00\", \"2020-02-14T00:00:00\", \"2020-02-15T00:00:00\", \"2020-02-16T00:00:00\", \"2020-02-17T00:00:00\", \"2020-02-18T00:00:00\", \"2020-02-19T00:00:00\", \"2020-02-20T00:00:00\", \"2020-02-21T00:00:00\", \"2020-02-22T00:00:00\", \"2020-02-23T00:00:00\", \"2020-02-24T00:00:00\", \"2020-02-25T00:00:00\", \"2020-02-26T00:00:00\", \"2020-02-27T00:00:00\", \"2020-02-28T00:00:00\", \"2020-02-29T00:00:00\", \"2020-03-01T00:00:00\", \"2020-03-02T00:00:00\", \"2020-03-03T00:00:00\", \"2020-03-04T00:00:00\", \"2020-03-05T00:00:00\", \"2020-03-06T00:00:00\", \"2020-03-07T00:00:00\", \"2020-03-08T00:00:00\", \"2020-03-09T00:00:00\", \"2020-03-10T00:00:00\", \"2020-03-11T00:00:00\", \"2020-03-12T00:00:00\", \"2020-03-13T00:00:00\", \"2020-03-14T00:00:00\", \"2020-03-15T00:00:00\", \"2020-03-16T00:00:00\", \"2020-03-17T00:00:00\", \"2020-03-18T00:00:00\", \"2020-03-19T00:00:00\", \"2020-03-20T00:00:00\", \"2020-03-21T00:00:00\", \"2020-03-22T00:00:00\", \"2020-03-23T00:00:00\", \"2020-03-24T00:00:00\", \"2020-03-25T00:00:00\", \"2020-03-26T00:00:00\", \"2020-03-27T00:00:00\", \"2020-03-28T00:00:00\", \"2020-03-29T00:00:00\", \"2020-03-30T00:00:00\", \"2020-03-31T00:00:00\", \"2020-04-01T00:00:00\", \"2020-04-02T00:00:00\", \"2020-04-03T00:00:00\", \"2020-04-04T00:00:00\", \"2020-04-05T00:00:00\", \"2020-04-06T00:00:00\", \"2020-04-07T00:00:00\", \"2020-04-08T00:00:00\", \"2020-04-09T00:00:00\", \"2020-04-10T00:00:00\", \"2020-04-11T00:00:00\", \"2020-04-12T00:00:00\", \"2020-04-13T00:00:00\", \"2020-04-14T00:00:00\", \"2020-04-15T00:00:00\", \"2020-04-16T00:00:00\", \"2020-04-17T00:00:00\", \"2020-04-18T00:00:00\", \"2020-04-19T00:00:00\", \"2020-04-20T00:00:00\", \"2020-04-21T00:00:00\", \"2020-04-22T00:00:00\", \"2020-04-23T00:00:00\", \"2020-04-24T00:00:00\", \"2020-04-25T00:00:00\", \"2020-04-26T00:00:00\", \"2020-04-27T00:00:00\", \"2020-04-28T00:00:00\", \"2020-04-29T00:00:00\", \"2020-04-30T00:00:00\", \"2020-05-01T00:00:00\", \"2020-05-02T00:00:00\", \"2020-05-03T00:00:00\", \"2020-05-04T00:00:00\", \"2020-05-05T00:00:00\", \"2020-05-06T00:00:00\", \"2020-05-07T00:00:00\", \"2020-05-08T00:00:00\", \"2020-05-09T00:00:00\", \"2020-05-10T00:00:00\", \"2020-05-11T00:00:00\", \"2020-05-12T00:00:00\", \"2020-05-13T00:00:00\", \"2020-05-14T00:00:00\", \"2020-05-15T00:00:00\", \"2020-05-16T00:00:00\", \"2020-05-17T00:00:00\", \"2020-05-18T00:00:00\", \"2020-05-19T00:00:00\", \"2020-05-20T00:00:00\", \"2020-05-21T00:00:00\", \"2020-05-22T00:00:00\", \"2020-05-23T00:00:00\", \"2020-05-24T00:00:00\", \"2020-05-25T00:00:00\", \"2020-05-26T00:00:00\", \"2020-05-27T00:00:00\", \"2020-05-28T00:00:00\", \"2020-05-29T00:00:00\", \"2020-05-30T00:00:00\", \"2020-05-31T00:00:00\", \"2020-06-01T00:00:00\", \"2020-06-02T00:00:00\", \"2020-06-03T00:00:00\", \"2020-06-04T00:00:00\", \"2020-06-05T00:00:00\", \"2020-06-06T00:00:00\", \"2020-06-07T00:00:00\", \"2020-06-08T00:00:00\", \"2020-06-09T00:00:00\", \"2020-06-10T00:00:00\", \"2020-06-11T00:00:00\", \"2020-06-12T00:00:00\", \"2020-06-13T00:00:00\", \"2020-06-14T00:00:00\", \"2020-06-15T00:00:00\", \"2020-06-16T00:00:00\", \"2020-06-17T00:00:00\", \"2020-06-18T00:00:00\", \"2020-06-19T00:00:00\", \"2020-06-20T00:00:00\", \"2020-06-21T00:00:00\", \"2020-06-22T00:00:00\", \"2020-06-23T00:00:00\", \"2020-06-24T00:00:00\", \"2020-06-25T00:00:00\", \"2020-06-26T00:00:00\", \"2020-06-27T00:00:00\", \"2020-06-28T00:00:00\", \"2020-06-29T00:00:00\", \"2020-06-30T00:00:00\", \"2020-07-01T00:00:00\", \"2020-07-02T00:00:00\", \"2020-07-03T00:00:00\", \"2020-07-04T00:00:00\", \"2020-07-05T00:00:00\", \"2020-07-06T00:00:00\", \"2020-07-07T00:00:00\", \"2020-07-08T00:00:00\", \"2020-07-09T00:00:00\", \"2020-07-10T00:00:00\", \"2020-07-11T00:00:00\", \"2020-07-12T00:00:00\", \"2020-07-13T00:00:00\", \"2020-07-14T00:00:00\", \"2020-07-15T00:00:00\", \"2020-07-16T00:00:00\", \"2020-07-17T00:00:00\", \"2020-07-18T00:00:00\", \"2020-07-19T00:00:00\", \"2020-07-20T00:00:00\", \"2020-07-21T00:00:00\", \"2020-07-22T00:00:00\", \"2020-07-23T00:00:00\", \"2020-07-24T00:00:00\", \"2020-07-25T00:00:00\", \"2020-07-26T00:00:00\", \"2020-07-27T00:00:00\", \"2020-07-28T00:00:00\", \"2020-07-29T00:00:00\", \"2020-07-30T00:00:00\", \"2020-07-31T00:00:00\", \"2020-08-01T00:00:00\", \"2020-08-02T00:00:00\", \"2020-08-03T00:00:00\", \"2020-08-04T00:00:00\", \"2020-08-05T00:00:00\", \"2020-08-06T00:00:00\", \"2020-08-07T00:00:00\", \"2020-08-08T00:00:00\", \"2020-08-09T00:00:00\", \"2020-08-10T00:00:00\", \"2020-08-11T00:00:00\", \"2020-08-12T00:00:00\", \"2020-08-13T00:00:00\", \"2020-08-14T00:00:00\", \"2020-08-15T00:00:00\", \"2020-08-16T00:00:00\", \"2020-08-17T00:00:00\", \"2020-08-18T00:00:00\", \"2020-08-19T00:00:00\", \"2020-08-20T00:00:00\", \"2020-08-21T00:00:00\", \"2020-08-22T00:00:00\", \"2020-08-23T00:00:00\", \"2020-08-24T00:00:00\", \"2020-08-25T00:00:00\", \"2020-08-26T00:00:00\", \"2020-08-27T00:00:00\", \"2020-08-28T00:00:00\", \"2020-08-29T00:00:00\", \"2020-08-30T00:00:00\", \"2020-08-31T00:00:00\", \"2020-09-01T00:00:00\", \"2020-09-02T00:00:00\", \"2020-09-03T00:00:00\", \"2020-09-04T00:00:00\", \"2020-09-05T00:00:00\", \"2020-09-06T00:00:00\", \"2020-09-07T00:00:00\", \"2020-09-08T00:00:00\", \"2020-09-09T00:00:00\", \"2020-09-10T00:00:00\", \"2020-09-11T00:00:00\", \"2020-09-12T00:00:00\", \"2020-09-13T00:00:00\", \"2020-09-14T00:00:00\", \"2020-09-15T00:00:00\", \"2020-09-16T00:00:00\", \"2020-09-17T00:00:00\", \"2020-09-18T00:00:00\", \"2020-09-19T00:00:00\", \"2020-09-20T00:00:00\", \"2020-09-21T00:00:00\", \"2020-09-22T00:00:00\", \"2020-09-23T00:00:00\", \"2020-09-24T00:00:00\", \"2020-09-25T00:00:00\", \"2020-09-26T00:00:00\", \"2020-09-27T00:00:00\", \"2020-09-28T00:00:00\", \"2020-09-29T00:00:00\", \"2020-09-30T00:00:00\", \"2020-10-01T00:00:00\", \"2020-10-02T00:00:00\", \"2020-10-03T00:00:00\", \"2020-10-04T00:00:00\", \"2020-10-05T00:00:00\", \"2020-10-06T00:00:00\", \"2020-10-07T00:00:00\", \"2020-10-08T00:00:00\", \"2020-10-09T00:00:00\", \"2020-10-10T00:00:00\", \"2020-10-11T00:00:00\", \"2020-10-12T00:00:00\", \"2020-10-13T00:00:00\", \"2020-10-14T00:00:00\", \"2020-10-15T00:00:00\", \"2020-10-16T00:00:00\", \"2020-10-17T00:00:00\", \"2020-10-18T00:00:00\", \"2020-10-19T00:00:00\", \"2020-10-20T00:00:00\", \"2020-10-21T00:00:00\", \"2020-10-22T00:00:00\", \"2020-10-23T00:00:00\", \"2020-10-24T00:00:00\", \"2020-10-25T00:00:00\", \"2020-10-26T00:00:00\", \"2020-10-27T00:00:00\", \"2020-10-28T00:00:00\", \"2020-10-29T00:00:00\", \"2020-10-30T00:00:00\", \"2020-10-31T00:00:00\", \"2020-11-01T00:00:00\", \"2020-11-02T00:00:00\", \"2020-11-03T00:00:00\", \"2020-11-04T00:00:00\", \"2020-11-05T00:00:00\", \"2020-11-06T00:00:00\", \"2020-11-07T00:00:00\", \"2020-11-08T00:00:00\", \"2020-11-09T00:00:00\", \"2020-11-10T00:00:00\", \"2020-11-11T00:00:00\", \"2020-11-12T00:00:00\", \"2020-11-13T00:00:00\", \"2020-11-14T00:00:00\", \"2020-11-15T00:00:00\", \"2020-11-16T00:00:00\", \"2020-11-17T00:00:00\", \"2020-11-18T00:00:00\", \"2020-11-19T00:00:00\", \"2020-11-20T00:00:00\", \"2020-11-21T00:00:00\", \"2020-11-22T00:00:00\", \"2020-11-23T00:00:00\", \"2020-11-24T00:00:00\", \"2020-11-25T00:00:00\", \"2020-11-26T00:00:00\", \"2020-11-27T00:00:00\", \"2020-11-28T00:00:00\", \"2020-11-29T00:00:00\", \"2020-11-30T00:00:00\", \"2020-12-01T00:00:00\", \"2020-12-02T00:00:00\", \"2020-12-03T00:00:00\", \"2020-12-04T00:00:00\", \"2020-12-05T00:00:00\", \"2020-12-06T00:00:00\", \"2020-12-07T00:00:00\", \"2020-12-08T00:00:00\", \"2020-12-09T00:00:00\", \"2020-12-10T00:00:00\", \"2020-12-11T00:00:00\", \"2020-12-12T00:00:00\", \"2020-12-13T00:00:00\", \"2020-12-14T00:00:00\", \"2020-12-15T00:00:00\", \"2020-12-16T00:00:00\", \"2020-12-17T00:00:00\", \"2020-12-18T00:00:00\", \"2020-12-19T00:00:00\", \"2020-12-20T00:00:00\", \"2020-12-21T00:00:00\", \"2020-12-22T00:00:00\", \"2020-12-23T00:00:00\", \"2020-12-24T00:00:00\", \"2020-12-25T00:00:00\", \"2020-12-26T00:00:00\", \"2020-12-27T00:00:00\", \"2020-12-28T00:00:00\", \"2020-12-29T00:00:00\", \"2020-12-30T00:00:00\", \"2020-12-31T00:00:00\", \"2021-01-01T00:00:00\", \"2021-01-02T00:00:00\", \"2021-01-03T00:00:00\", \"2021-01-04T00:00:00\", \"2021-01-05T00:00:00\", \"2021-01-06T00:00:00\", \"2021-01-07T00:00:00\", \"2021-01-08T00:00:00\", \"2021-01-09T00:00:00\", \"2021-01-10T00:00:00\", \"2021-01-11T00:00:00\", \"2021-01-12T00:00:00\", \"2021-01-13T00:00:00\", \"2021-01-14T00:00:00\", \"2021-01-15T00:00:00\", \"2021-01-16T00:00:00\", \"2021-01-17T00:00:00\", \"2021-01-18T00:00:00\", \"2021-01-19T00:00:00\", \"2021-01-20T00:00:00\", \"2021-01-21T00:00:00\", \"2021-01-22T00:00:00\", \"2021-01-23T00:00:00\", \"2021-01-24T00:00:00\", \"2021-01-25T00:00:00\", \"2021-01-26T00:00:00\", \"2021-01-27T00:00:00\", \"2021-01-28T00:00:00\", \"2021-01-29T00:00:00\", \"2021-01-30T00:00:00\", \"2021-01-31T00:00:00\", \"2021-02-01T00:00:00\", \"2021-02-02T00:00:00\", \"2021-02-03T00:00:00\", \"2021-02-04T00:00:00\", \"2021-02-05T00:00:00\", \"2021-02-06T00:00:00\", \"2021-02-07T00:00:00\", \"2021-02-08T00:00:00\", \"2021-02-09T00:00:00\", \"2021-02-10T00:00:00\", \"2021-02-11T00:00:00\", \"2021-02-12T00:00:00\", \"2021-02-13T00:00:00\", \"2021-02-14T00:00:00\", \"2021-02-15T00:00:00\", \"2021-02-16T00:00:00\", \"2021-02-17T00:00:00\", \"2021-02-18T00:00:00\", \"2021-02-19T00:00:00\", \"2021-02-20T00:00:00\", \"2021-02-21T00:00:00\", \"2021-02-22T00:00:00\", \"2021-02-23T00:00:00\", \"2021-02-24T00:00:00\", \"2021-02-25T00:00:00\", \"2021-02-26T00:00:00\", \"2021-02-27T00:00:00\", \"2021-02-28T00:00:00\", \"2021-03-01T00:00:00\", \"2021-03-02T00:00:00\", \"2021-03-03T00:00:00\", \"2021-03-04T00:00:00\", \"2021-03-05T00:00:00\", \"2021-03-06T00:00:00\", \"2021-03-07T00:00:00\", \"2021-03-08T00:00:00\", \"2021-03-09T00:00:00\", \"2021-03-10T00:00:00\", \"2021-03-11T00:00:00\", \"2021-03-12T00:00:00\", \"2021-03-13T00:00:00\", \"2021-03-14T00:00:00\", \"2021-03-15T00:00:00\", \"2021-03-16T00:00:00\", \"2021-03-17T00:00:00\", \"2021-03-18T00:00:00\", \"2021-03-19T00:00:00\", \"2021-03-20T00:00:00\", \"2021-03-21T00:00:00\", \"2021-03-22T00:00:00\", \"2021-03-23T00:00:00\", \"2021-03-24T00:00:00\", \"2021-03-25T00:00:00\", \"2021-03-26T00:00:00\", \"2021-03-27T00:00:00\", \"2021-03-28T00:00:00\", \"2021-03-29T00:00:00\", \"2021-03-30T00:00:00\", \"2021-03-31T00:00:00\", \"2021-04-01T00:00:00\", \"2021-04-02T00:00:00\", \"2021-04-03T00:00:00\", \"2021-04-04T00:00:00\", \"2021-04-05T00:00:00\", \"2021-04-06T00:00:00\", \"2021-04-07T00:00:00\", \"2021-04-08T00:00:00\", \"2021-04-09T00:00:00\", \"2021-04-10T00:00:00\", \"2021-04-11T00:00:00\", \"2021-04-12T00:00:00\", \"2021-04-13T00:00:00\", \"2021-04-14T00:00:00\", \"2021-04-15T00:00:00\", \"2021-04-16T00:00:00\", \"2021-04-17T00:00:00\", \"2021-04-18T00:00:00\", \"2021-04-19T00:00:00\", \"2021-04-20T00:00:00\", \"2021-04-21T00:00:00\", \"2021-04-22T00:00:00\", \"2021-04-23T00:00:00\", \"2021-04-24T00:00:00\", \"2021-04-25T00:00:00\", \"2021-04-26T00:00:00\", \"2021-04-27T00:00:00\", \"2021-04-28T00:00:00\", \"2021-04-29T00:00:00\", \"2021-04-30T00:00:00\", \"2021-05-01T00:00:00\", \"2021-05-02T00:00:00\", \"2021-05-03T00:00:00\", \"2021-05-04T00:00:00\", \"2021-05-05T00:00:00\", \"2021-05-06T00:00:00\", \"2021-05-07T00:00:00\", \"2021-05-08T00:00:00\", \"2021-05-09T00:00:00\", \"2021-05-10T00:00:00\", \"2021-05-11T00:00:00\", \"2021-05-12T00:00:00\", \"2021-05-13T00:00:00\", \"2021-05-14T00:00:00\", \"2021-05-15T00:00:00\", \"2021-05-16T00:00:00\", \"2021-05-17T00:00:00\", \"2021-05-18T00:00:00\", \"2021-05-19T00:00:00\", \"2021-05-20T00:00:00\", \"2021-05-21T00:00:00\", \"2021-05-22T00:00:00\", \"2021-05-23T00:00:00\", \"2021-05-24T00:00:00\", \"2021-05-25T00:00:00\", \"2021-05-26T00:00:00\", \"2021-05-27T00:00:00\", \"2021-05-28T00:00:00\", \"2021-05-29T00:00:00\", \"2021-05-30T00:00:00\", \"2021-05-31T00:00:00\", \"2021-06-01T00:00:00\", \"2021-06-02T00:00:00\", \"2021-06-03T00:00:00\", \"2021-06-04T00:00:00\", \"2021-06-05T00:00:00\", \"2021-06-06T00:00:00\", \"2021-06-07T00:00:00\", \"2021-06-08T00:00:00\", \"2021-06-09T00:00:00\", \"2021-06-10T00:00:00\", \"2021-06-11T00:00:00\", \"2021-06-12T00:00:00\", \"2021-06-13T00:00:00\", \"2021-06-14T00:00:00\", \"2021-06-15T00:00:00\", \"2021-06-16T00:00:00\", \"2021-06-17T00:00:00\", \"2021-06-18T00:00:00\", \"2021-06-19T00:00:00\", \"2021-06-20T00:00:00\", \"2021-06-21T00:00:00\", \"2021-06-22T00:00:00\", \"2021-06-23T00:00:00\", \"2021-06-24T00:00:00\", \"2021-06-25T00:00:00\", \"2021-06-26T00:00:00\", \"2021-06-27T00:00:00\", \"2021-06-28T00:00:00\", \"2021-06-29T00:00:00\", \"2021-06-30T00:00:00\"], \"xaxis\": \"x\", \"y\": [3779.072533685, 3882.6953842949997, 3880.95400076, 3824.894098615, 3870.9016109550003, 3959.905253425, 4056.753693925, 4052.98816071, 4045.533195135, 3861.620544855, 3683.4758258250004, 3676.394602915, 3609.843607545, 3640.06072143, 3670.051270985, 3655.225223935, 3651.04850174, 3659.8004336249996, 3705.4556792599997, 3663.203728585, 3583.688998605, 3580.23393733, 3594.190892695, 3592.5901305899997, 3594.262497735, 3624.1395151650004, 3589.95859272, 3512.991943775, 3438.44254517, 3462.281417835, 3476.36035043, 3466.7728131000003, 3495.43100718, 3484.656267115, 3459.40534904, 3465.0425341600003, 3433.8285414800002, 3411.08210855, 3543.318863845, 3663.250422515, 3668.007983695, 3668.950385945, 3643.5718794550003, 3643.49646956, 3626.97719854, 3628.00074842, 3634.05576717, 3649.859709315, 3803.32366234, 3959.51619467, 3963.36660967, 3975.05883506, 3978.67740707, 4067.50642983, 4002.17537999, 3860.354855395, 3864.78270018, 3837.9306822999997, 3875.939904525, 3879.743917725, 3853.3677282950002, 3856.1947239049996, 3800.56573612, 3824.5499676199997, 3895.4855560899996, 3916.7431759700003, 3912.830330995, 3939.814125985, 3945.27764627, 3927.8119346900003, 3895.22409145, 3909.25096003, 3923.90058194, 3941.2791114399997, 4019.34690443, 4030.266580935, 4040.33697884, 4053.014278235, 4060.286316465, 4051.25561353, 4037.72455574, 4032.9235917, 4023.446236325, 3986.43612813, 3964.916987505, 4032.438348065, 4067.5843074100003, 4073.7989967599997, 4175.358150435, 4103.56223114, 4130.92728923, 4530.63555547, 5091.812460035, 4949.97677413, 4986.500803815, 5099.021965895, 5142.799368315, 5233.524150654999, 5228.668519855, 5307.516988365, 5185.760937659999, 5029.56350421, 5094.355731935, 5118.79232505, 5110.33808652, 5147.070099435, 5246.740576345001, 5285.24638649, 5285.0076040700005, 5327.184102589999, 5308.63228112, 5351.482075365, 5511.605471245, 5530.153960850001, 5361.7886614, 5280.501464535, 5272.1929328549995, 5290.95788016, 5263.881321655001, 5293.723684095, 5382.825075549999, 5458.240036845, 5678.0419707050005, 5766.181410525, 5770.9490210700005, 5728.32257292, 5864.787126159999, 5892.348397805, 6082.677782105, 6298.068367035, 6854.350867114999, 7159.821379675001, 7472.847714285, 7982.551861344999, 8057.7653476000005, 8025.216369835, 7483.635045195, 7349.38812596, 7764.952092899999, 7939.87479192, 7952.753911755, 7806.79996163, 7738.494041465, 7982.584402285, 8041.951078295, 8306.095495174999, 8787.93968046, 8720.86872193, 8619.290508415, 8614.79396725, 8379.605110870001, 8553.589240475001, 8685.269565355, 8473.84296951, 7887.737213705001, 7785.2588027500005, 7754.405925775, 7957.263437535, 7957.251031375, 7779.5970194500005, 7809.3203715, 7899.599074375, 8029.504023224999, 8199.31429773, 8447.014677194999, 8738.76171532, 9075.21170069, 9202.66557465, 9176.6380871, 9185.008519160001, 9413.45226944, 9834.815662445, 10632.19036025, 10901.1200577, 10838.16204985, 11399.0593033, 12776.04342785, 11901.49830465, 11679.8350409, 11954.644324050001, 11488.695969299999, 10647.87711725, 10325.03657994, 11393.1167596, 11586.322108, 11135.31314145, 11301.75453335, 11345.212342750001, 11869.60372965, 12506.19706425, 12420.253674299998, 11651.77280435, 11542.31592505, 11375.218259450001, 10842.8900908, 10522.387023055, 10222.37001405, 9563.134536435, 10056.820736624999, 10473.30479855, 10749.969180150001, 10615.74379415, 10403.3563925, 10115.171417385, 9761.551910085, 9964.10536966, 9817.24998552, 9789.42118281, 9413.92110594, 9577.298172815, 9569.54784065, 9841.862715924999, 10184.47007319, 10514.48334875, 10725.14286195, 10814.742583, 11427.9138312, 11782.27651625, 11735.34554775, 11767.7943127, 11840.10154685, 11619.7770088, 11385.937100899999, 11424.5704334, 11125.18838765, 10458.8461421, 10056.36353545, 10189.914329235, 10269.66132635, 10303.08242595, 10614.629152, 10783.0011987, 10380.72571955, 10032.229324545, 10260.31812135, 10200.158644665, 10156.705506, 10319.31363605, 10234.3144505, 9998.01090242, 9589.2079335, 9542.213161615, 9602.51013944, 9689.850299415, 10063.621020855, 10522.326300749999, 10598.677304699999, 10571.84405105, 10595.5311554, 10453.7964786, 10502.3646697, 10297.6204934, 10207.4636615, 10098.362230055, 10270.747913899999, 10334.04295835, 10356.91398335, 10350.06367335, 10288.3057259, 10248.25573015, 10233.69930295, 10073.680572919999, 10209.029214350001, 10094.40298025, 9998.488905465001, 9900.690909835, 9087.559274435, 8535.112390425, 8205.657454035, 8118.721705509999, 8205.52421343, 8126.102266725, 8072.49487896, 8365.18581821, 8310.368673765, 8280.332006035, 8205.646119685, 8143.323382164999, 8060.13049538, 8107.108059885, 8259.23906946, 8398.502596975, 8548.603227805, 8518.981061175, 8364.291760995, 8373.800068205, 8337.170116599998, 8296.710669635, 8100.95092689, 8067.887041625, 8020.28890454, 8013.7031793549995, 8115.62893189, 8246.555159775, 8185.556977914999, 7781.16109562, 7489.928103485, 8085.762160185, 9342.183181274999, 9431.035743255, 9530.633239105, 9374.41456675, 9256.122287135, 9205.939165920001, 9203.852423565, 9313.537147135, 9260.52943164, 9348.268707705, 9357.175224785, 9364.573175425001, 9285.414680275, 9024.146750865, 8842.490901125, 8954.994088935, 8890.944034105, 8769.59816049, 8799.246456035, 8759.74776965, 8607.858805725, 8532.985652250001, 8614.378556745, 8463.426522425001, 8254.23974828, 8123.875887195, 7853.7398693449995, 7317.04465645, 7296.838373445, 7218.93324835, 6968.511927415, 7209.401324435, 7296.933977535, 7592.097229965, 7620.967947155, 7675.975639025, 7431.479074445, 7354.109200855, 7324.10801137, 7355.353703639999, 7488.054356645, 7469.58588023, 7557.831552235, 7555.3489484149995, 7492.038434485, 7335.03330835, 7259.841901735, 7215.6903516, 7260.341702575, 7203.02260371, 7052.725725335, 7037.42573791, 6776.024610285, 6932.517075035, 7193.992206055, 7172.02296375, 7167.98118023, 7342.606091109999, 7491.18435555, 7402.62272118, 7289.005527505, 7294.344567135, 7276.73158525, 7342.973030845, 7396.90693819, 7365.566083795, 7252.53386854, 7214.63738195, 7073.712612225, 7164.355503635, 7368.449903025, 7472.51621657, 7595.580182605, 7973.2217964, 8176.756050104999, 7962.349843765, 7946.664564785, 8124.000522625, 8104.561177185, 8138.744459989999, 8510.22231128, 8773.652433035, 8729.278467715001, 8817.719149985001, 8919.765225595, 8892.221126485001, 8653.032420015, 8650.113374125001, 8714.87065315, 8510.692481024998, 8390.753806875, 8377.336010985, 8463.94966443, 8787.517870529999, 9133.51862278, 9337.94996595, 9392.011705685, 9376.241053239999, 9376.2810612, 9343.310797625, 9394.50298506, 9222.03861711, 9432.50208828, 9682.218672855, 9780.35997357, 9777.829566295, 9989.91368672, 9975.1645785, 9969.69376582, 10297.9996884, 10286.8943498, 10223.764793999999, 10107.9917047, 9888.178083275001, 9723.226887045, 9897.15903872, 9901.449693555, 9575.558396404998, 9656.37929288, 9649.479954415001, 9797.597625375, 9744.394685755, 9478.879025440001, 9029.602430415, 8755.046178345001, 8691.694079125, 8687.57031602, 8599.00469311, 8726.969670055001, 8803.294488595, 8777.898780835, 8949.654165144999, 9099.887689480001, 9026.982633615, 8509.79847966, 7933.945704765, 7975.85423324, 7796.813393385, 6394.73492448, 4972.54784389, 5375.14792621, 5502.96419835, 4980.29370412, 5176.628964585, 5200.585005785, 5783.35235063, 6355.021746215, 6155.479278365, 6091.705680235, 6114.469500075, 6600.04461819, 6714.71877159, 6663.213297505, 6630.26900115, 6292.669456755, 6085.276663255, 6210.215068255, 6439.33874782, 6407.47365131, 6842.08280046, 6838.278270995001, 6787.719092895, 6799.67172146, 7027.335448655, 7282.32676301, 7254.7647692, 7260.271327410001, 7053.145082065001, 6857.9951681, 6965.512480955, 6816.9382009149995, 6876.189216860001, 6781.0335310850005, 6844.977401325, 7108.757408740001, 7179.601849285, 7223.78817208, 7037.89687074, 6884.4970976, 7006.823716955, 7286.689778905, 7504.188791265, 7581.518197915, 7631.00107408, 7737.50989268, 7772.66684179, 8328.901511510001, 8986.953303105, 8857.89352459, 8909.277066384999, 8999.37629979, 8800.96532272, 8959.62085946, 9189.08693008, 9565.4932465, 9881.958211655001, 9747.253742595, 8995.344040105, 8703.897075605, 8759.77098339, 9061.633183745002, 9524.15152744, 9508.613248919999, 9412.44957613, 9586.27417945, 9738.194594285, 9687.83578974, 9625.997714559999, 9212.58664194, 9120.78718208, 9210.305252335002, 9037.82750882, 8835.337000165, 8874.63071467, 9018.738972269999, 9347.388375089999, 9476.50288173, 9535.379863515001, 9566.320345095, 9825.23204169, 9821.45603969, 9577.352938259999, 9706.42865426, 9766.226621310001, 9682.22827534, 9613.32418598, 9729.096201954999, 9750.54455101, 9818.593849795001, 9600.683631075, 9413.15839864, 9444.610554269999, 9414.93236458, 9247.51800598, 9489.93769145, 9433.881428755001, 9405.588790915, 9357.586077544998, 9321.175633545, 9350.769002649999, 9475.972441925, 9608.893922915, 9479.300346594999, 9217.743042535, 9206.12741712, 9103.01384204, 9086.53643575, 9139.72450549, 9151.336752565, 9207.24487134, 9155.793208514999, 9130.569583205, 9118.46262689, 9069.59943341, 9217.069608775, 9281.21647811, 9349.9178099, 9333.18902053, 9202.737000515, 9246.509095595, 9258.434868255, 9265.3488856, 9227.751630375, 9223.62933995, 9151.63005032, 9135.728381320001, 9165.903957675, 9149.515784514999, 9175.89012516, 9278.326487345, 9425.086201965001, 9546.625571864999, 9552.3954784, 9617.38460461, 9838.327433710001, 10601.095934425, 10918.47965265, 11080.26920515, 11032.40603765, 11201.45872215, 11517.2290644, 11526.13709635, 11232.74673115, 11239.763480450001, 11472.45104695, 11750.52488705, 11653.316228399999, 11679.248241149999, 11677.42036145, 11853.6986258, 11564.2102227, 11499.0009689, 11506.63436695, 11918.2245741, 11865.9501046, 11836.04475695, 12082.8764522, 12145.11640975, 11858.1281374, 11805.237273949999, 11732.119319500001, 11569.1067172, 11636.675527849999, 11715.441377, 11484.07547225, 11413.52321955, 11378.3640607, 11431.0189228, 11525.967022, 11603.8233111, 11683.597620100001, 11834.10495, 11627.8085345, 10812.743940150001, 10435.93013205, 10264.123369404999, 10205.4069108, 10157.823179465, 10179.94268366, 10183.89690265, 10371.0242084, 10287.879615950002, 10435.61238015, 10400.772570950001, 10533.0099157, 10797.54619185, 10902.5043459, 10906.0243969, 10932.2824424, 11021.8555416, 10955.1734215, 10684.282750949998, 10475.40152385, 10367.846507615, 10501.273161075002, 10678.30505571, 10720.139796815001, 10713.448919015002, 10824.620579030001, 10754.748068225, 10758.289042965, 10702.990413715, 10537.2635954, 10555.035291435, 10610.195967265001, 10714.054006845, 10663.234459145, 10621.507662015, 10754.171567165, 10974.760967475, 11249.575821575, 11358.72071541, 11469.577365995, 11435.104672545, 11423.90440748, 11436.758850405, 11381.537355785, 11335.80354178, 11415.46913754, 11603.691547775, 11840.69902019, 12542.747394945, 12939.343781855001, 12884.304233784998, 13015.40665705, 13119.622560795, 13023.840043855002, 13410.253381035, 13384.97301829, 13296.05364894, 13393.85747895, 13742.872063075, 13745.20592429, 13525.74136998, 13655.211654915, 13899.619269384999, 14904.246775325, 15565.13868422, 15080.149240204999, 15190.715116845, 15325.33307433, 15287.64461955, 15603.133813765, 15919.888015634999, 16227.66532029, 16033.50065474, 15958.32218632, 16348.44356511, 17173.73277318, 17873.427878895, 17751.050919335, 18269.511640375, 18690.48980648, 18180.17698032, 18356.111420325, 18738.46356853, 18986.056043805, 17608.660491964998, 16985.7239069, 17382.295951125, 17921.37289783, 18963.79290604, 19083.948206865, 18828.02425044, 19245.988158695, 19104.298813995003, 18875.321470075003, 19144.1969836, 19171.485297865, 18776.71189154, 18280.92023559, 18255.182470665, 17943.99261704, 18482.795975704998, 19057.93433072, 19158.90492547, 19302.424983935, 20378.61258714, 22438.668317465, 22819.206712835003, 23456.16376956, 23678.685458745, 23109.675186425, 23110.253766595, 23413.567646145, 23272.967676289998, 24086.887914305, 25620.38018765, 27105.804893605, 26798.37599787, 26679.009079565, 28148.914856535, 28723.43434075, 29202.105981925, 31123.15000515, 33330.43690674, 31081.486919554998, 32329.38866535, 35196.86615508, 38335.778859065, 39392.68767358, 40208.61345632, 38702.409077150005, 34448.064136235, 34633.251797885, 35092.3141348, 38417.484243855, 37118.65046641, 36748.9614478, 35395.83603077, 36091.564927165, 36912.849126165005, 34974.40225169, 32901.71456814, 31382.61215557, 32427.068926909997, 32025.347355985003, 33445.26547203, 31912.407777955, 30965.58472944, 31940.758911995, 35235.537575735, 33887.447607565, 33279.253749875, 33511.22079575, 34693.050408105, 36462.08531018, 37454.837592259995, 37442.33474107, 39492.46762152, 38533.994688295, 42140.127121854995, 46585.342003369995, 45513.360398595, 46325.614737805, 47585.355808975, 47220.01346226, 48301.07522962, 47611.524351225, 48771.203503590004, 50803.145726015, 51744.93590121, 53525.463134210004, 56065.893981825, 57001.590827565, 53250.47725684, 49747.760011980004, 49251.817428325, 49521.410000705, 46412.813686815, 46761.147933475004, 44979.024609775006, 47449.55420216, 48678.17761476, 50404.72814034, 49696.01004948, 47969.472901265, 48202.37256366, 50151.523137575, 50910.061129525, 53402.974561805, 55274.573072219995, 56287.82789603, 56686.634789135, 58950.918197815, 60450.117686625, 57967.079037195, 55194.10375764, 56749.22175623, 57184.914824535, 58071.038973045, 59122.292169025, 57386.75689943, 56379.818337665, 54728.06676039, 54888.35816568, 52124.477343365, 53358.584391444994, 55405.562862895, 55840.711981015, 56740.719085104996, 58349.38731804, 58828.22296723, 59045.675651419995, 59568.2338092, 58857.07881726, 58041.21178709, 58793.06146477, 58563.193720865005, 57167.58324676, 57108.911210295, 58372.45517909, 59657.685821755, 60040.175472924995, 60421.455336015, 61806.11981512, 63208.94779906, 63015.318279125, 61908.626495870005, 61466.76411483, 56943.496217665, 55944.32421621, 55255.099315535, 55226.72096177, 52997.02136051, 49917.726898969995, 49986.42402751, 48832.75246961, 51570.399499160005, 54368.07535586, 55057.561732455, 53766.936299709996, 55515.16043291, 57750.30649311, 57022.24934294, 57782.088787939996, 55202.801897025, 55440.209479995, 56872.91036114, 56964.240338785, 58219.911572605, 57846.442667265, 56795.40490224, 55740.598689805, 53544.94814499, 49155.431168954994, 50153.348685189994, 48651.90359948, 46841.697404415, 44415.423167015004, 44090.144930505005, 37113.806698140004, 38756.800405015005, 37894.313749965004, 37107.369095250004, 34758.278776415, 37193.11018977, 38178.88935686, 39343.956518355, 38813.760674025005, 36818.00365611, 35464.21396881, 34960.703420445, 35855.09627588, 36841.911078970006, 37098.82316626, 38361.462454755005, 37480.104282504995, 36409.06319313, 35870.50052111, 35135.606698355, 32565.915224525, 35006.618590469996, 37090.95954189, 36826.57210196499, 36068.55784794, 37093.445075785, 39867.824299479995, 40452.368885395, 39346.40550179, 38476.672136049994, 36721.55753931501, 35695.429265415, 34745.779780490004, 33508.78758154, 31093.038211214996, 33263.020429085, 33807.033653255, 33419.065930845, 31411.044493445, 33363.942251805, 34560.983841745, 35397.29795482, 35080.45581762], \"yaxis\": \"y2\"}],                        {\"template\": {\"data\": {\"bar\": [{\"error_x\": {\"color\": \"#2a3f5f\"}, \"error_y\": {\"color\": \"#2a3f5f\"}, \"marker\": {\"line\": {\"color\": \"#E5ECF6\", \"width\": 0.5}}, \"type\": \"bar\"}], \"barpolar\": [{\"marker\": {\"line\": {\"color\": \"#E5ECF6\", \"width\": 0.5}}, \"type\": \"barpolar\"}], \"carpet\": [{\"aaxis\": {\"endlinecolor\": \"#2a3f5f\", \"gridcolor\": \"white\", \"linecolor\": \"white\", \"minorgridcolor\": \"white\", \"startlinecolor\": \"#2a3f5f\"}, \"baxis\": {\"endlinecolor\": \"#2a3f5f\", \"gridcolor\": \"white\", \"linecolor\": \"white\", \"minorgridcolor\": \"white\", \"startlinecolor\": \"#2a3f5f\"}, \"type\": \"carpet\"}], \"choropleth\": [{\"colorbar\": {\"outlinewidth\": 0, \"ticks\": \"\"}, \"type\": \"choropleth\"}], \"contour\": [{\"colorbar\": {\"outlinewidth\": 0, \"ticks\": \"\"}, \"colorscale\": [[0.0, \"#0d0887\"], [0.1111111111111111, \"#46039f\"], [0.2222222222222222, \"#7201a8\"], [0.3333333333333333, \"#9c179e\"], [0.4444444444444444, \"#bd3786\"], [0.5555555555555556, \"#d8576b\"], [0.6666666666666666, \"#ed7953\"], [0.7777777777777778, \"#fb9f3a\"], [0.8888888888888888, \"#fdca26\"], [1.0, \"#f0f921\"]], \"type\": \"contour\"}], \"contourcarpet\": [{\"colorbar\": {\"outlinewidth\": 0, \"ticks\": \"\"}, \"type\": \"contourcarpet\"}], \"heatmap\": [{\"colorbar\": {\"outlinewidth\": 0, \"ticks\": \"\"}, \"colorscale\": [[0.0, \"#0d0887\"], [0.1111111111111111, \"#46039f\"], [0.2222222222222222, \"#7201a8\"], [0.3333333333333333, \"#9c179e\"], [0.4444444444444444, \"#bd3786\"], [0.5555555555555556, \"#d8576b\"], [0.6666666666666666, \"#ed7953\"], [0.7777777777777778, \"#fb9f3a\"], [0.8888888888888888, \"#fdca26\"], [1.0, \"#f0f921\"]], \"type\": \"heatmap\"}], \"heatmapgl\": [{\"colorbar\": {\"outlinewidth\": 0, \"ticks\": \"\"}, \"colorscale\": [[0.0, \"#0d0887\"], [0.1111111111111111, \"#46039f\"], [0.2222222222222222, \"#7201a8\"], [0.3333333333333333, \"#9c179e\"], [0.4444444444444444, \"#bd3786\"], [0.5555555555555556, \"#d8576b\"], [0.6666666666666666, \"#ed7953\"], [0.7777777777777778, \"#fb9f3a\"], [0.8888888888888888, \"#fdca26\"], [1.0, \"#f0f921\"]], \"type\": \"heatmapgl\"}], \"histogram\": [{\"marker\": {\"colorbar\": {\"outlinewidth\": 0, \"ticks\": \"\"}}, \"type\": \"histogram\"}], \"histogram2d\": [{\"colorbar\": {\"outlinewidth\": 0, \"ticks\": \"\"}, \"colorscale\": [[0.0, \"#0d0887\"], [0.1111111111111111, \"#46039f\"], [0.2222222222222222, \"#7201a8\"], [0.3333333333333333, \"#9c179e\"], [0.4444444444444444, \"#bd3786\"], [0.5555555555555556, \"#d8576b\"], [0.6666666666666666, \"#ed7953\"], [0.7777777777777778, \"#fb9f3a\"], [0.8888888888888888, \"#fdca26\"], [1.0, \"#f0f921\"]], \"type\": \"histogram2d\"}], \"histogram2dcontour\": [{\"colorbar\": {\"outlinewidth\": 0, \"ticks\": \"\"}, \"colorscale\": [[0.0, \"#0d0887\"], [0.1111111111111111, \"#46039f\"], [0.2222222222222222, \"#7201a8\"], [0.3333333333333333, \"#9c179e\"], [0.4444444444444444, \"#bd3786\"], [0.5555555555555556, \"#d8576b\"], [0.6666666666666666, \"#ed7953\"], [0.7777777777777778, \"#fb9f3a\"], [0.8888888888888888, \"#fdca26\"], [1.0, \"#f0f921\"]], \"type\": \"histogram2dcontour\"}], \"mesh3d\": [{\"colorbar\": {\"outlinewidth\": 0, \"ticks\": \"\"}, \"type\": \"mesh3d\"}], \"parcoords\": [{\"line\": {\"colorbar\": {\"outlinewidth\": 0, \"ticks\": \"\"}}, \"type\": \"parcoords\"}], \"pie\": [{\"automargin\": true, \"type\": \"pie\"}], \"scatter\": [{\"marker\": {\"colorbar\": {\"outlinewidth\": 0, \"ticks\": \"\"}}, \"type\": \"scatter\"}], \"scatter3d\": [{\"line\": {\"colorbar\": {\"outlinewidth\": 0, \"ticks\": \"\"}}, \"marker\": {\"colorbar\": {\"outlinewidth\": 0, \"ticks\": \"\"}}, \"type\": \"scatter3d\"}], \"scattercarpet\": [{\"marker\": {\"colorbar\": {\"outlinewidth\": 0, \"ticks\": \"\"}}, \"type\": \"scattercarpet\"}], \"scattergeo\": [{\"marker\": {\"colorbar\": {\"outlinewidth\": 0, \"ticks\": \"\"}}, \"type\": \"scattergeo\"}], \"scattergl\": [{\"marker\": {\"colorbar\": {\"outlinewidth\": 0, \"ticks\": \"\"}}, \"type\": \"scattergl\"}], \"scattermapbox\": [{\"marker\": {\"colorbar\": {\"outlinewidth\": 0, \"ticks\": \"\"}}, \"type\": \"scattermapbox\"}], \"scatterpolar\": [{\"marker\": {\"colorbar\": {\"outlinewidth\": 0, \"ticks\": \"\"}}, \"type\": \"scatterpolar\"}], \"scatterpolargl\": [{\"marker\": {\"colorbar\": {\"outlinewidth\": 0, \"ticks\": \"\"}}, \"type\": \"scatterpolargl\"}], \"scatterternary\": [{\"marker\": {\"colorbar\": {\"outlinewidth\": 0, \"ticks\": \"\"}}, \"type\": \"scatterternary\"}], \"surface\": [{\"colorbar\": {\"outlinewidth\": 0, \"ticks\": \"\"}, \"colorscale\": [[0.0, \"#0d0887\"], [0.1111111111111111, \"#46039f\"], [0.2222222222222222, \"#7201a8\"], [0.3333333333333333, \"#9c179e\"], [0.4444444444444444, \"#bd3786\"], [0.5555555555555556, \"#d8576b\"], [0.6666666666666666, \"#ed7953\"], [0.7777777777777778, \"#fb9f3a\"], [0.8888888888888888, \"#fdca26\"], [1.0, \"#f0f921\"]], \"type\": \"surface\"}], \"table\": [{\"cells\": {\"fill\": {\"color\": \"#EBF0F8\"}, \"line\": {\"color\": \"white\"}}, \"header\": {\"fill\": {\"color\": \"#C8D4E3\"}, \"line\": {\"color\": \"white\"}}, \"type\": \"table\"}]}, \"layout\": {\"annotationdefaults\": {\"arrowcolor\": \"#2a3f5f\", \"arrowhead\": 0, \"arrowwidth\": 1}, \"coloraxis\": {\"colorbar\": {\"outlinewidth\": 0, \"ticks\": \"\"}}, \"colorscale\": {\"diverging\": [[0, \"#8e0152\"], [0.1, \"#c51b7d\"], [0.2, \"#de77ae\"], [0.3, \"#f1b6da\"], [0.4, \"#fde0ef\"], [0.5, \"#f7f7f7\"], [0.6, \"#e6f5d0\"], [0.7, \"#b8e186\"], [0.8, \"#7fbc41\"], [0.9, \"#4d9221\"], [1, \"#276419\"]], \"sequential\": [[0.0, \"#0d0887\"], [0.1111111111111111, \"#46039f\"], [0.2222222222222222, \"#7201a8\"], [0.3333333333333333, \"#9c179e\"], [0.4444444444444444, \"#bd3786\"], [0.5555555555555556, \"#d8576b\"], [0.6666666666666666, \"#ed7953\"], [0.7777777777777778, \"#fb9f3a\"], [0.8888888888888888, \"#fdca26\"], [1.0, \"#f0f921\"]], \"sequentialminus\": [[0.0, \"#0d0887\"], [0.1111111111111111, \"#46039f\"], [0.2222222222222222, \"#7201a8\"], [0.3333333333333333, \"#9c179e\"], [0.4444444444444444, \"#bd3786\"], [0.5555555555555556, \"#d8576b\"], [0.6666666666666666, \"#ed7953\"], [0.7777777777777778, \"#fb9f3a\"], [0.8888888888888888, \"#fdca26\"], [1.0, \"#f0f921\"]]}, \"colorway\": [\"#636efa\", \"#EF553B\", \"#00cc96\", \"#ab63fa\", \"#FFA15A\", \"#19d3f3\", \"#FF6692\", \"#B6E880\", \"#FF97FF\", \"#FECB52\"], \"font\": {\"color\": \"#2a3f5f\"}, \"geo\": {\"bgcolor\": \"white\", \"lakecolor\": \"white\", \"landcolor\": \"#E5ECF6\", \"showlakes\": true, \"showland\": true, \"subunitcolor\": \"white\"}, \"hoverlabel\": {\"align\": \"left\"}, \"hovermode\": \"closest\", \"mapbox\": {\"style\": \"light\"}, \"paper_bgcolor\": \"white\", \"plot_bgcolor\": \"#E5ECF6\", \"polar\": {\"angularaxis\": {\"gridcolor\": \"white\", \"linecolor\": \"white\", \"ticks\": \"\"}, \"bgcolor\": \"#E5ECF6\", \"radialaxis\": {\"gridcolor\": \"white\", \"linecolor\": \"white\", \"ticks\": \"\"}}, \"scene\": {\"xaxis\": {\"backgroundcolor\": \"#E5ECF6\", \"gridcolor\": \"white\", \"gridwidth\": 2, \"linecolor\": \"white\", \"showbackground\": true, \"ticks\": \"\", \"zerolinecolor\": \"white\"}, \"yaxis\": {\"backgroundcolor\": \"#E5ECF6\", \"gridcolor\": \"white\", \"gridwidth\": 2, \"linecolor\": \"white\", \"showbackground\": true, \"ticks\": \"\", \"zerolinecolor\": \"white\"}, \"zaxis\": {\"backgroundcolor\": \"#E5ECF6\", \"gridcolor\": \"white\", \"gridwidth\": 2, \"linecolor\": \"white\", \"showbackground\": true, \"ticks\": \"\", \"zerolinecolor\": \"white\"}}, \"shapedefaults\": {\"line\": {\"color\": \"#2a3f5f\"}}, \"ternary\": {\"aaxis\": {\"gridcolor\": \"white\", \"linecolor\": \"white\", \"ticks\": \"\"}, \"baxis\": {\"gridcolor\": \"white\", \"linecolor\": \"white\", \"ticks\": \"\"}, \"bgcolor\": \"#E5ECF6\", \"caxis\": {\"gridcolor\": \"white\", \"linecolor\": \"white\", \"ticks\": \"\"}}, \"title\": {\"x\": 0.05}, \"xaxis\": {\"automargin\": true, \"gridcolor\": \"white\", \"linecolor\": \"white\", \"ticks\": \"\", \"title\": {\"standoff\": 15}, \"zerolinecolor\": \"white\", \"zerolinewidth\": 2}, \"yaxis\": {\"automargin\": true, \"gridcolor\": \"white\", \"linecolor\": \"white\", \"ticks\": \"\", \"title\": {\"standoff\": 15}, \"zerolinecolor\": \"white\", \"zerolinewidth\": 2}}}, \"title\": {\"text\": \"BTC vs LR Sentiment Model - Weekly\"}, \"xaxis\": {\"anchor\": \"y\", \"domain\": [0.0, 0.94], \"title\": {\"text\": \"Date\"}}, \"yaxis\": {\"anchor\": \"x\", \"domain\": [0.0, 1.0], \"title\": {\"text\": \"<b>Sentiment Polarity </b>\"}}, \"yaxis2\": {\"anchor\": \"x\", \"overlaying\": \"y\", \"side\": \"right\", \"title\": {\"text\": \"<b>BTC Price</b>\"}}},                        {\"responsive\": true}                    ).then(function(){\n",
       "                            \n",
       "var gd = document.getElementById('c542f354-e583-4f98-b361-770354ef6988');\n",
       "var x = new MutationObserver(function (mutations, observer) {{\n",
       "        var display = window.getComputedStyle(gd).display;\n",
       "        if (!display || display === 'none') {{\n",
       "            console.log([gd, 'removed!']);\n",
       "            Plotly.purge(gd);\n",
       "            observer.disconnect();\n",
       "        }}\n",
       "}});\n",
       "\n",
       "// Listen for the removal of the full notebook cells\n",
       "var notebookContainer = gd.closest('#notebook-container');\n",
       "if (notebookContainer) {{\n",
       "    x.observe(notebookContainer, {childList: true});\n",
       "}}\n",
       "\n",
       "// Listen for the clearing of the current output cell\n",
       "var outputEl = gd.closest('.output');\n",
       "if (outputEl) {{\n",
       "    x.observe(outputEl, {childList: true});\n",
       "}}\n",
       "\n",
       "                        })                };                });            </script>        </div>"
      ]
     },
     "metadata": {},
     "output_type": "display_data"
    }
   ],
   "source": [
    "dchunk='d'\n",
    "a=df.resample(dchunk).sum().polarity\n",
    "btc_price=pd.read_csv(r\"C:\\Users\\Ben\\Desktop\\Diplomatiki\\CryptoSent\\Datasets\\other\\coin_Bitcoin.csv\")\n",
    "btc_price.Date=pd.to_datetime(btc_price.Date)\n",
    "btc_price=btc_price.set_index('Date')\n",
    "btc_price['avg_price']=(btc_price.High+btc_price.Low)/2\n",
    "\n",
    "btc_price_avg=btc_price.resample(dchunk).mean().loc['2019':'2021-06']['avg_price']\n",
    "# Create figure with secondary y-axis\n",
    "fig = make_subplots(specs=[[{\"secondary_y\": True}]])\n",
    "\n",
    "# Add traces\n",
    "fig.add_trace(\n",
    "    go.Scatter(x=a.index, y=a, name=\"LR-Model\"),\n",
    "    secondary_y=False,\n",
    ")\n",
    "\n",
    "fig.add_trace(\n",
    "    go.Scatter(x=btc_price_avg.index, y=btc_price_avg, name=\"Bit Coin Avg\"),\n",
    "    secondary_y=True,\n",
    ")\n",
    "\n",
    "# Add figure title\n",
    "fig.update_layout(\n",
    "    title_text=\"BTC vs LR Sentiment Model - Weekly\"\n",
    ")\n",
    "\n",
    "# Set x-axis title\n",
    "fig.update_xaxes(title_text=\"Date\")\n",
    "\n",
    "# Set y-axes titles\n",
    "fig.update_yaxes(title_text=\"<b>Sentiment Polarity </b>\", secondary_y=False)\n",
    "fig.update_yaxes(title_text=\"<b>BTC Price</b>\", secondary_y=True)\n",
    "\n",
    "fig.show()"
   ]
  },
  {
   "cell_type": "code",
   "execution_count": 289,
   "id": "d3b2fd4a",
   "metadata": {},
   "outputs": [],
   "source": [
    "dchunk='w'\n",
    "a=df.resample(dchunk).sum().polarity\n",
    "btc_price=pd.read_csv(r\"C:\\Users\\Ben\\Desktop\\Diplomatiki\\CryptoSent\\Datasets\\other\\coin_Bitcoin.csv\")\n",
    "btc_price.Date=pd.to_datetime(btc_price.Date)\n",
    "btc_price=btc_price.set_index('Date')\n",
    "btc_price['avg_price']=(btc_price.High+btc_price.Low)/2\n",
    "\n",
    "btc_price_avg=btc_price.resample(dchunk).mean().loc['2019':'2021-06']['avg_price']\n",
    "\n",
    "apct=a.pct_change().tail(-1)\n",
    "\n",
    "\n",
    "apct=apct['2019':'2021-06']\n",
    "\n",
    "btcpct=btc_price_avg.pct_change().tail(-1)"
   ]
  },
  {
   "cell_type": "code",
   "execution_count": 290,
   "id": "4f728338",
   "metadata": {},
   "outputs": [
    {
     "data": {
      "application/vnd.plotly.v1+json": {
       "config": {
        "plotlyServerURL": "https://plot.ly"
       },
       "data": [
        {
         "name": "LR-Model",
         "type": "scatter",
         "x": [
          "2019-01-13T00:00:00",
          "2019-01-20T00:00:00",
          "2019-01-27T00:00:00",
          "2019-02-03T00:00:00",
          "2019-02-10T00:00:00",
          "2019-02-17T00:00:00",
          "2019-02-24T00:00:00",
          "2019-03-03T00:00:00",
          "2019-03-10T00:00:00",
          "2019-03-17T00:00:00",
          "2019-03-24T00:00:00",
          "2019-03-31T00:00:00",
          "2019-04-07T00:00:00",
          "2019-04-14T00:00:00",
          "2019-04-21T00:00:00",
          "2019-04-28T00:00:00",
          "2019-05-05T00:00:00",
          "2019-05-12T00:00:00",
          "2019-05-19T00:00:00",
          "2019-05-26T00:00:00",
          "2019-06-02T00:00:00",
          "2019-06-09T00:00:00",
          "2019-06-16T00:00:00",
          "2019-06-23T00:00:00",
          "2019-06-30T00:00:00",
          "2019-07-07T00:00:00",
          "2019-07-14T00:00:00",
          "2019-07-21T00:00:00",
          "2019-07-28T00:00:00",
          "2019-08-04T00:00:00",
          "2019-08-11T00:00:00",
          "2019-08-18T00:00:00",
          "2019-08-25T00:00:00",
          "2019-09-01T00:00:00",
          "2019-09-08T00:00:00",
          "2019-09-15T00:00:00",
          "2019-09-22T00:00:00",
          "2019-09-29T00:00:00",
          "2019-10-06T00:00:00",
          "2019-10-13T00:00:00",
          "2019-10-20T00:00:00",
          "2019-10-27T00:00:00",
          "2019-11-03T00:00:00",
          "2019-11-10T00:00:00",
          "2019-11-17T00:00:00",
          "2019-11-24T00:00:00",
          "2019-12-01T00:00:00",
          "2019-12-08T00:00:00",
          "2019-12-15T00:00:00",
          "2019-12-22T00:00:00",
          "2019-12-29T00:00:00",
          "2020-01-05T00:00:00",
          "2020-01-12T00:00:00",
          "2020-01-19T00:00:00",
          "2020-01-26T00:00:00",
          "2020-02-02T00:00:00",
          "2020-02-09T00:00:00",
          "2020-02-16T00:00:00",
          "2020-02-23T00:00:00",
          "2020-03-01T00:00:00",
          "2020-03-08T00:00:00",
          "2020-03-15T00:00:00",
          "2020-03-22T00:00:00",
          "2020-03-29T00:00:00",
          "2020-04-05T00:00:00",
          "2020-04-12T00:00:00",
          "2020-04-19T00:00:00",
          "2020-04-26T00:00:00",
          "2020-05-03T00:00:00",
          "2020-05-10T00:00:00",
          "2020-05-17T00:00:00",
          "2020-05-24T00:00:00",
          "2020-05-31T00:00:00",
          "2020-06-07T00:00:00",
          "2020-06-14T00:00:00",
          "2020-06-21T00:00:00",
          "2020-06-28T00:00:00",
          "2020-07-05T00:00:00",
          "2020-07-12T00:00:00",
          "2020-07-19T00:00:00",
          "2020-07-26T00:00:00",
          "2020-08-02T00:00:00",
          "2020-08-09T00:00:00",
          "2020-08-16T00:00:00",
          "2020-08-23T00:00:00",
          "2020-08-30T00:00:00",
          "2020-09-06T00:00:00",
          "2020-09-13T00:00:00",
          "2020-09-20T00:00:00",
          "2020-09-27T00:00:00",
          "2020-10-04T00:00:00",
          "2020-10-11T00:00:00",
          "2020-10-18T00:00:00",
          "2020-10-25T00:00:00",
          "2020-11-01T00:00:00",
          "2020-11-08T00:00:00",
          "2020-11-15T00:00:00",
          "2020-11-22T00:00:00",
          "2020-11-29T00:00:00",
          "2020-12-06T00:00:00",
          "2020-12-13T00:00:00",
          "2020-12-20T00:00:00",
          "2020-12-27T00:00:00",
          "2021-01-03T00:00:00",
          "2021-01-10T00:00:00",
          "2021-01-17T00:00:00",
          "2021-01-24T00:00:00",
          "2021-01-31T00:00:00",
          "2021-02-07T00:00:00",
          "2021-02-14T00:00:00",
          "2021-02-21T00:00:00",
          "2021-02-28T00:00:00",
          "2021-03-07T00:00:00",
          "2021-03-14T00:00:00",
          "2021-03-21T00:00:00",
          "2021-03-28T00:00:00",
          "2021-04-04T00:00:00",
          "2021-04-11T00:00:00",
          "2021-04-18T00:00:00",
          "2021-04-25T00:00:00",
          "2021-05-02T00:00:00",
          "2021-05-09T00:00:00",
          "2021-05-16T00:00:00",
          "2021-05-23T00:00:00",
          "2021-05-30T00:00:00",
          "2021-06-06T00:00:00",
          "2021-06-13T00:00:00",
          "2021-06-20T00:00:00",
          "2021-06-27T00:00:00"
         ],
         "xaxis": "x",
         "y": [
          -5.442402839509395,
          -0.4532669164906057,
          0.715580795817045,
          -0.8730268124923102,
          2.543615680115742,
          -1.122626862637214,
          -23.54568809305829,
          -0.46692040914145194,
          0.02437422804305389,
          0.045240356104028656,
          -0.6110072496622342,
          1.1588555017647706,
          1.0035365176920985,
          -0.501983651176628,
          -0.6411123004892495,
          0.8302831753362314,
          -0.062028168559083,
          -0.4009920589659396,
          4.5821308143928166,
          -0.10019870614201132,
          -0.12762652929021134,
          -0.49027800870146465,
          1.1191475241624702,
          0.4097125826743333,
          0.31525613131957275,
          -0.6424733334476069,
          0.7110550810948331,
          0.11169277347778106,
          -0.6635127064578299,
          0.15153654941066774,
          0.906669098978979,
          -0.5365394658764131,
          0.5500961733706633,
          -1.0484907686154772,
          -21.71757676184773,
          -0.39369812946720417,
          0.0808923539083477,
          -0.693898493744712,
          0.6448700513452363,
          -0.32587899459410563,
          2.5524808669245016,
          0.03229573759441573,
          -0.2700937266446747,
          -0.8108540203759799,
          -4.2472868037668245,
          -1.2537046705257897,
          8.016990159538297,
          -0.5856989483269669,
          1.0204285614504265,
          -0.7267673271171801,
          -1.4214013728558523,
          -6.628472135137758,
          -0.2079316401476079,
          -1.3554793714131457,
          -3.438553118231227,
          -0.07895722738336242,
          2.3384145271727177,
          -0.5229487161601868,
          0.9521955483342595,
          -0.32679361184772204,
          0.6292852535803395,
          -1.3466064774145703,
          1.3011922484058682,
          0.3490634856407948,
          -1.9796441099885407,
          -0.889761447572282,
          4.4579209367721395,
          -0.9845264730283272,
          33.93363557336269,
          3.5736351307296816,
          -0.3210063224534221,
          -0.30860979221574947,
          0.8883745371508991,
          -0.26125265211462023,
          -0.0688810926419966,
          -0.6633530632843164,
          -0.8798402993640643,
          24.66496017427602,
          0.17464901589274673,
          -0.7860140574747633,
          3.854997893208729,
          -0.21053562061497721,
          0.042071618681859935,
          0.4083148733572539,
          -0.754825005865082,
          0.46683485791488466,
          0.9647461628029754,
          -0.344674774441188,
          -0.6871052027459132,
          0.9610633929946271,
          2.358473859765637,
          -0.4217098566486748,
          1.3942095948504973,
          0.023351418834446358,
          -0.9563100034743278,
          31.89875143686932,
          -0.4120055932810379,
          0.5698800430473119,
          0.008807783847798456,
          -0.5176808958711497,
          0.7230956551681196,
          0.43588750339460436,
          -0.20471049098856375,
          0.37636434765014526,
          0.4059543284641678,
          -0.6567603917081031,
          0.9036587528124316,
          0.20288237489408156,
          1.3547014018396522,
          0.19385695733589192,
          0.14394610271561148,
          -0.3437609385118394,
          0.021862048909859544,
          -0.2416047147143665,
          -0.30795612544799833,
          0.415144829372591,
          0.008242261873782963,
          -0.11720441954490235,
          0.9010273793340111,
          -0.19342806070698493,
          0.06245533979715945,
          -0.1815713573945733,
          0.07883739052967509,
          -0.6020147694760342,
          0.6815287498061566,
          -0.041864348938267404,
          -0.07618659577594888,
          0.5217850883527939,
          -0.4423649394186283
         ],
         "yaxis": "y"
        },
        {
         "name": "Bit Coin Avg",
         "type": "scatter",
         "x": [
          "2019-01-13T00:00:00",
          "2019-01-20T00:00:00",
          "2019-01-27T00:00:00",
          "2019-02-03T00:00:00",
          "2019-02-10T00:00:00",
          "2019-02-17T00:00:00",
          "2019-02-24T00:00:00",
          "2019-03-03T00:00:00",
          "2019-03-10T00:00:00",
          "2019-03-17T00:00:00",
          "2019-03-24T00:00:00",
          "2019-03-31T00:00:00",
          "2019-04-07T00:00:00",
          "2019-04-14T00:00:00",
          "2019-04-21T00:00:00",
          "2019-04-28T00:00:00",
          "2019-05-05T00:00:00",
          "2019-05-12T00:00:00",
          "2019-05-19T00:00:00",
          "2019-05-26T00:00:00",
          "2019-06-02T00:00:00",
          "2019-06-09T00:00:00",
          "2019-06-16T00:00:00",
          "2019-06-23T00:00:00",
          "2019-06-30T00:00:00",
          "2019-07-07T00:00:00",
          "2019-07-14T00:00:00",
          "2019-07-21T00:00:00",
          "2019-07-28T00:00:00",
          "2019-08-04T00:00:00",
          "2019-08-11T00:00:00",
          "2019-08-18T00:00:00",
          "2019-08-25T00:00:00",
          "2019-09-01T00:00:00",
          "2019-09-08T00:00:00",
          "2019-09-15T00:00:00",
          "2019-09-22T00:00:00",
          "2019-09-29T00:00:00",
          "2019-10-06T00:00:00",
          "2019-10-13T00:00:00",
          "2019-10-20T00:00:00",
          "2019-10-27T00:00:00",
          "2019-11-03T00:00:00",
          "2019-11-10T00:00:00",
          "2019-11-17T00:00:00",
          "2019-11-24T00:00:00",
          "2019-12-01T00:00:00",
          "2019-12-08T00:00:00",
          "2019-12-15T00:00:00",
          "2019-12-22T00:00:00",
          "2019-12-29T00:00:00",
          "2020-01-05T00:00:00",
          "2020-01-12T00:00:00",
          "2020-01-19T00:00:00",
          "2020-01-26T00:00:00",
          "2020-02-02T00:00:00",
          "2020-02-09T00:00:00",
          "2020-02-16T00:00:00",
          "2020-02-23T00:00:00",
          "2020-03-01T00:00:00",
          "2020-03-08T00:00:00",
          "2020-03-15T00:00:00",
          "2020-03-22T00:00:00",
          "2020-03-29T00:00:00",
          "2020-04-05T00:00:00",
          "2020-04-12T00:00:00",
          "2020-04-19T00:00:00",
          "2020-04-26T00:00:00",
          "2020-05-03T00:00:00",
          "2020-05-10T00:00:00",
          "2020-05-17T00:00:00",
          "2020-05-24T00:00:00",
          "2020-05-31T00:00:00",
          "2020-06-07T00:00:00",
          "2020-06-14T00:00:00",
          "2020-06-21T00:00:00",
          "2020-06-28T00:00:00",
          "2020-07-05T00:00:00",
          "2020-07-12T00:00:00",
          "2020-07-19T00:00:00",
          "2020-07-26T00:00:00",
          "2020-08-02T00:00:00",
          "2020-08-09T00:00:00",
          "2020-08-16T00:00:00",
          "2020-08-23T00:00:00",
          "2020-08-30T00:00:00",
          "2020-09-06T00:00:00",
          "2020-09-13T00:00:00",
          "2020-09-20T00:00:00",
          "2020-09-27T00:00:00",
          "2020-10-04T00:00:00",
          "2020-10-11T00:00:00",
          "2020-10-18T00:00:00",
          "2020-10-25T00:00:00",
          "2020-11-01T00:00:00",
          "2020-11-08T00:00:00",
          "2020-11-15T00:00:00",
          "2020-11-22T00:00:00",
          "2020-11-29T00:00:00",
          "2020-12-06T00:00:00",
          "2020-12-13T00:00:00",
          "2020-12-20T00:00:00",
          "2020-12-27T00:00:00",
          "2021-01-03T00:00:00",
          "2021-01-10T00:00:00",
          "2021-01-17T00:00:00",
          "2021-01-24T00:00:00",
          "2021-01-31T00:00:00",
          "2021-02-07T00:00:00",
          "2021-02-14T00:00:00",
          "2021-02-21T00:00:00",
          "2021-02-28T00:00:00",
          "2021-03-07T00:00:00",
          "2021-03-14T00:00:00",
          "2021-03-21T00:00:00",
          "2021-03-28T00:00:00",
          "2021-04-04T00:00:00",
          "2021-04-11T00:00:00",
          "2021-04-18T00:00:00",
          "2021-04-25T00:00:00",
          "2021-05-02T00:00:00",
          "2021-05-09T00:00:00",
          "2021-05-16T00:00:00",
          "2021-05-23T00:00:00",
          "2021-05-30T00:00:00",
          "2021-06-06T00:00:00",
          "2021-06-13T00:00:00",
          "2021-06-20T00:00:00",
          "2021-06-27T00:00:00"
         ],
         "xaxis": "x",
         "y": [
          -3.377753572187947E-4,
          -0.04971962353556125,
          -0.01894263678023611,
          -0.03267721731530249,
          0.012614548287136929,
          0.03453086235545899,
          0.0884377379382999,
          -0.02599350509484344,
          0.007656860239310559,
          0.015120602006025496,
          0.023579611374198173,
          0.003714181588542864,
          0.19460500460804186,
          0.06679623075338292,
          0.014145378257086172,
          0.02420207045168321,
          0.02699988425078259,
          0.13638979258750306,
          0.23372589034153624,
          0.030149740935795144,
          0.08235471083534929,
          -0.07895780757315796,
          0.04682710263064904,
          0.174353725459788,
          0.20033461826056254,
          -0.05245507042771014,
          0.05754988242558867,
          -0.12169729043576338,
          -0.040703613452324316,
          0.02833720553331287,
          0.14505059652944707,
          -0.09479647196360619,
          -0.018961179956198726,
          -0.0476660713851057,
          0.06281571645763306,
          -0.019001241451275463,
          -0.010698048846006447,
          -0.1541409977013618,
          -0.04556190803510518,
          0.01972656953598495,
          -0.027627992930457146,
          0.02826648839119117,
          0.11240779574024384,
          -0.014858612513808156,
          -0.04989795291369514,
          -0.10572671691115465,
          -0.05011601853791148,
          0.0059662581925366,
          -0.024675417652944565,
          -0.02353708977174629,
          0.037708624651932254,
          -0.011302283175576577,
          0.09764662305887595,
          0.08765558897546799,
          -0.01679545635800639,
          0.08343407335106567,
          0.039114416423991605,
          0.05158076840020742,
          -0.03602611100426656,
          -0.07646032875335174,
          -0.017332457740613427,
          -0.2575750884645899,
          -0.13511795750199507,
          0.13480576662569388,
          0.027141908991116237,
          0.07288910456444775,
          -0.01750586736395454,
          0.04303244761206293,
          0.17002784606105736,
          0.09308447559227595,
          -0.008948957063018792,
          0.016679034271036564,
          -0.014919759174074954,
          0.05162766744633074,
          -0.012069452330420005,
          -0.023300955536572854,
          -0.006536996569913689,
          -0.01848574816320092,
          0.014323960947223213,
          -0.008777530913194331,
          0.032875373865138835,
          0.1722466451747482,
          0.03631871430633371,
          0.016582427773552455,
          0.009574112439406868,
          -0.027490846313339423,
          -0.04579014993352781,
          -0.06305659161755084,
          0.05597910808981221,
          -0.025085322436017243,
          0.008125702368226628,
          0.021311416386240678,
          0.046663814661354275,
          0.10072397580985415,
          0.06880646166650184,
          0.0832341662827536,
          0.08382043472858047,
          0.12624062628292188,
          0.013612469384522319,
          0.057683460902409056,
          -0.0245902955810523,
          0.16360547671130177,
          0.12224125192340729,
          0.2020149857159399,
          0.2511786296510268,
          -0.0132916958104915,
          -0.060110100092752194,
          -0.02555515786381579,
          0.1167216038442076,
          0.2565351910935769,
          0.1293068673033273,
          -0.07003459003053392,
          0.007729328308548666,
          0.1442446460790423,
          0.02477860773690077,
          -0.04717696733414267,
          0.06977571136970462,
          6.656481662246083E-4,
          0.04654019830011458,
          -0.1413591340111625,
          0.04587846786435468,
          0.03448355326336161,
          -0.0940059840789802,
          -0.2403746250872264,
          -0.048747674030995114,
          -0.01095082994913854,
          -0.03151900464794699,
          0.06212621308067812,
          -0.13358197650908432
         ],
         "yaxis": "y2"
        }
       ],
       "layout": {
        "template": {
         "data": {
          "bar": [
           {
            "error_x": {
             "color": "#2a3f5f"
            },
            "error_y": {
             "color": "#2a3f5f"
            },
            "marker": {
             "line": {
              "color": "#E5ECF6",
              "width": 0.5
             }
            },
            "type": "bar"
           }
          ],
          "barpolar": [
           {
            "marker": {
             "line": {
              "color": "#E5ECF6",
              "width": 0.5
             }
            },
            "type": "barpolar"
           }
          ],
          "carpet": [
           {
            "aaxis": {
             "endlinecolor": "#2a3f5f",
             "gridcolor": "white",
             "linecolor": "white",
             "minorgridcolor": "white",
             "startlinecolor": "#2a3f5f"
            },
            "baxis": {
             "endlinecolor": "#2a3f5f",
             "gridcolor": "white",
             "linecolor": "white",
             "minorgridcolor": "white",
             "startlinecolor": "#2a3f5f"
            },
            "type": "carpet"
           }
          ],
          "choropleth": [
           {
            "colorbar": {
             "outlinewidth": 0,
             "ticks": ""
            },
            "type": "choropleth"
           }
          ],
          "contour": [
           {
            "colorbar": {
             "outlinewidth": 0,
             "ticks": ""
            },
            "colorscale": [
             [
              0,
              "#0d0887"
             ],
             [
              0.1111111111111111,
              "#46039f"
             ],
             [
              0.2222222222222222,
              "#7201a8"
             ],
             [
              0.3333333333333333,
              "#9c179e"
             ],
             [
              0.4444444444444444,
              "#bd3786"
             ],
             [
              0.5555555555555556,
              "#d8576b"
             ],
             [
              0.6666666666666666,
              "#ed7953"
             ],
             [
              0.7777777777777778,
              "#fb9f3a"
             ],
             [
              0.8888888888888888,
              "#fdca26"
             ],
             [
              1,
              "#f0f921"
             ]
            ],
            "type": "contour"
           }
          ],
          "contourcarpet": [
           {
            "colorbar": {
             "outlinewidth": 0,
             "ticks": ""
            },
            "type": "contourcarpet"
           }
          ],
          "heatmap": [
           {
            "colorbar": {
             "outlinewidth": 0,
             "ticks": ""
            },
            "colorscale": [
             [
              0,
              "#0d0887"
             ],
             [
              0.1111111111111111,
              "#46039f"
             ],
             [
              0.2222222222222222,
              "#7201a8"
             ],
             [
              0.3333333333333333,
              "#9c179e"
             ],
             [
              0.4444444444444444,
              "#bd3786"
             ],
             [
              0.5555555555555556,
              "#d8576b"
             ],
             [
              0.6666666666666666,
              "#ed7953"
             ],
             [
              0.7777777777777778,
              "#fb9f3a"
             ],
             [
              0.8888888888888888,
              "#fdca26"
             ],
             [
              1,
              "#f0f921"
             ]
            ],
            "type": "heatmap"
           }
          ],
          "heatmapgl": [
           {
            "colorbar": {
             "outlinewidth": 0,
             "ticks": ""
            },
            "colorscale": [
             [
              0,
              "#0d0887"
             ],
             [
              0.1111111111111111,
              "#46039f"
             ],
             [
              0.2222222222222222,
              "#7201a8"
             ],
             [
              0.3333333333333333,
              "#9c179e"
             ],
             [
              0.4444444444444444,
              "#bd3786"
             ],
             [
              0.5555555555555556,
              "#d8576b"
             ],
             [
              0.6666666666666666,
              "#ed7953"
             ],
             [
              0.7777777777777778,
              "#fb9f3a"
             ],
             [
              0.8888888888888888,
              "#fdca26"
             ],
             [
              1,
              "#f0f921"
             ]
            ],
            "type": "heatmapgl"
           }
          ],
          "histogram": [
           {
            "marker": {
             "colorbar": {
              "outlinewidth": 0,
              "ticks": ""
             }
            },
            "type": "histogram"
           }
          ],
          "histogram2d": [
           {
            "colorbar": {
             "outlinewidth": 0,
             "ticks": ""
            },
            "colorscale": [
             [
              0,
              "#0d0887"
             ],
             [
              0.1111111111111111,
              "#46039f"
             ],
             [
              0.2222222222222222,
              "#7201a8"
             ],
             [
              0.3333333333333333,
              "#9c179e"
             ],
             [
              0.4444444444444444,
              "#bd3786"
             ],
             [
              0.5555555555555556,
              "#d8576b"
             ],
             [
              0.6666666666666666,
              "#ed7953"
             ],
             [
              0.7777777777777778,
              "#fb9f3a"
             ],
             [
              0.8888888888888888,
              "#fdca26"
             ],
             [
              1,
              "#f0f921"
             ]
            ],
            "type": "histogram2d"
           }
          ],
          "histogram2dcontour": [
           {
            "colorbar": {
             "outlinewidth": 0,
             "ticks": ""
            },
            "colorscale": [
             [
              0,
              "#0d0887"
             ],
             [
              0.1111111111111111,
              "#46039f"
             ],
             [
              0.2222222222222222,
              "#7201a8"
             ],
             [
              0.3333333333333333,
              "#9c179e"
             ],
             [
              0.4444444444444444,
              "#bd3786"
             ],
             [
              0.5555555555555556,
              "#d8576b"
             ],
             [
              0.6666666666666666,
              "#ed7953"
             ],
             [
              0.7777777777777778,
              "#fb9f3a"
             ],
             [
              0.8888888888888888,
              "#fdca26"
             ],
             [
              1,
              "#f0f921"
             ]
            ],
            "type": "histogram2dcontour"
           }
          ],
          "mesh3d": [
           {
            "colorbar": {
             "outlinewidth": 0,
             "ticks": ""
            },
            "type": "mesh3d"
           }
          ],
          "parcoords": [
           {
            "line": {
             "colorbar": {
              "outlinewidth": 0,
              "ticks": ""
             }
            },
            "type": "parcoords"
           }
          ],
          "pie": [
           {
            "automargin": true,
            "type": "pie"
           }
          ],
          "scatter": [
           {
            "marker": {
             "colorbar": {
              "outlinewidth": 0,
              "ticks": ""
             }
            },
            "type": "scatter"
           }
          ],
          "scatter3d": [
           {
            "line": {
             "colorbar": {
              "outlinewidth": 0,
              "ticks": ""
             }
            },
            "marker": {
             "colorbar": {
              "outlinewidth": 0,
              "ticks": ""
             }
            },
            "type": "scatter3d"
           }
          ],
          "scattercarpet": [
           {
            "marker": {
             "colorbar": {
              "outlinewidth": 0,
              "ticks": ""
             }
            },
            "type": "scattercarpet"
           }
          ],
          "scattergeo": [
           {
            "marker": {
             "colorbar": {
              "outlinewidth": 0,
              "ticks": ""
             }
            },
            "type": "scattergeo"
           }
          ],
          "scattergl": [
           {
            "marker": {
             "colorbar": {
              "outlinewidth": 0,
              "ticks": ""
             }
            },
            "type": "scattergl"
           }
          ],
          "scattermapbox": [
           {
            "marker": {
             "colorbar": {
              "outlinewidth": 0,
              "ticks": ""
             }
            },
            "type": "scattermapbox"
           }
          ],
          "scatterpolar": [
           {
            "marker": {
             "colorbar": {
              "outlinewidth": 0,
              "ticks": ""
             }
            },
            "type": "scatterpolar"
           }
          ],
          "scatterpolargl": [
           {
            "marker": {
             "colorbar": {
              "outlinewidth": 0,
              "ticks": ""
             }
            },
            "type": "scatterpolargl"
           }
          ],
          "scatterternary": [
           {
            "marker": {
             "colorbar": {
              "outlinewidth": 0,
              "ticks": ""
             }
            },
            "type": "scatterternary"
           }
          ],
          "surface": [
           {
            "colorbar": {
             "outlinewidth": 0,
             "ticks": ""
            },
            "colorscale": [
             [
              0,
              "#0d0887"
             ],
             [
              0.1111111111111111,
              "#46039f"
             ],
             [
              0.2222222222222222,
              "#7201a8"
             ],
             [
              0.3333333333333333,
              "#9c179e"
             ],
             [
              0.4444444444444444,
              "#bd3786"
             ],
             [
              0.5555555555555556,
              "#d8576b"
             ],
             [
              0.6666666666666666,
              "#ed7953"
             ],
             [
              0.7777777777777778,
              "#fb9f3a"
             ],
             [
              0.8888888888888888,
              "#fdca26"
             ],
             [
              1,
              "#f0f921"
             ]
            ],
            "type": "surface"
           }
          ],
          "table": [
           {
            "cells": {
             "fill": {
              "color": "#EBF0F8"
             },
             "line": {
              "color": "white"
             }
            },
            "header": {
             "fill": {
              "color": "#C8D4E3"
             },
             "line": {
              "color": "white"
             }
            },
            "type": "table"
           }
          ]
         },
         "layout": {
          "annotationdefaults": {
           "arrowcolor": "#2a3f5f",
           "arrowhead": 0,
           "arrowwidth": 1
          },
          "coloraxis": {
           "colorbar": {
            "outlinewidth": 0,
            "ticks": ""
           }
          },
          "colorscale": {
           "diverging": [
            [
             0,
             "#8e0152"
            ],
            [
             0.1,
             "#c51b7d"
            ],
            [
             0.2,
             "#de77ae"
            ],
            [
             0.3,
             "#f1b6da"
            ],
            [
             0.4,
             "#fde0ef"
            ],
            [
             0.5,
             "#f7f7f7"
            ],
            [
             0.6,
             "#e6f5d0"
            ],
            [
             0.7,
             "#b8e186"
            ],
            [
             0.8,
             "#7fbc41"
            ],
            [
             0.9,
             "#4d9221"
            ],
            [
             1,
             "#276419"
            ]
           ],
           "sequential": [
            [
             0,
             "#0d0887"
            ],
            [
             0.1111111111111111,
             "#46039f"
            ],
            [
             0.2222222222222222,
             "#7201a8"
            ],
            [
             0.3333333333333333,
             "#9c179e"
            ],
            [
             0.4444444444444444,
             "#bd3786"
            ],
            [
             0.5555555555555556,
             "#d8576b"
            ],
            [
             0.6666666666666666,
             "#ed7953"
            ],
            [
             0.7777777777777778,
             "#fb9f3a"
            ],
            [
             0.8888888888888888,
             "#fdca26"
            ],
            [
             1,
             "#f0f921"
            ]
           ],
           "sequentialminus": [
            [
             0,
             "#0d0887"
            ],
            [
             0.1111111111111111,
             "#46039f"
            ],
            [
             0.2222222222222222,
             "#7201a8"
            ],
            [
             0.3333333333333333,
             "#9c179e"
            ],
            [
             0.4444444444444444,
             "#bd3786"
            ],
            [
             0.5555555555555556,
             "#d8576b"
            ],
            [
             0.6666666666666666,
             "#ed7953"
            ],
            [
             0.7777777777777778,
             "#fb9f3a"
            ],
            [
             0.8888888888888888,
             "#fdca26"
            ],
            [
             1,
             "#f0f921"
            ]
           ]
          },
          "colorway": [
           "#636efa",
           "#EF553B",
           "#00cc96",
           "#ab63fa",
           "#FFA15A",
           "#19d3f3",
           "#FF6692",
           "#B6E880",
           "#FF97FF",
           "#FECB52"
          ],
          "font": {
           "color": "#2a3f5f"
          },
          "geo": {
           "bgcolor": "white",
           "lakecolor": "white",
           "landcolor": "#E5ECF6",
           "showlakes": true,
           "showland": true,
           "subunitcolor": "white"
          },
          "hoverlabel": {
           "align": "left"
          },
          "hovermode": "closest",
          "mapbox": {
           "style": "light"
          },
          "paper_bgcolor": "white",
          "plot_bgcolor": "#E5ECF6",
          "polar": {
           "angularaxis": {
            "gridcolor": "white",
            "linecolor": "white",
            "ticks": ""
           },
           "bgcolor": "#E5ECF6",
           "radialaxis": {
            "gridcolor": "white",
            "linecolor": "white",
            "ticks": ""
           }
          },
          "scene": {
           "xaxis": {
            "backgroundcolor": "#E5ECF6",
            "gridcolor": "white",
            "gridwidth": 2,
            "linecolor": "white",
            "showbackground": true,
            "ticks": "",
            "zerolinecolor": "white"
           },
           "yaxis": {
            "backgroundcolor": "#E5ECF6",
            "gridcolor": "white",
            "gridwidth": 2,
            "linecolor": "white",
            "showbackground": true,
            "ticks": "",
            "zerolinecolor": "white"
           },
           "zaxis": {
            "backgroundcolor": "#E5ECF6",
            "gridcolor": "white",
            "gridwidth": 2,
            "linecolor": "white",
            "showbackground": true,
            "ticks": "",
            "zerolinecolor": "white"
           }
          },
          "shapedefaults": {
           "line": {
            "color": "#2a3f5f"
           }
          },
          "ternary": {
           "aaxis": {
            "gridcolor": "white",
            "linecolor": "white",
            "ticks": ""
           },
           "baxis": {
            "gridcolor": "white",
            "linecolor": "white",
            "ticks": ""
           },
           "bgcolor": "#E5ECF6",
           "caxis": {
            "gridcolor": "white",
            "linecolor": "white",
            "ticks": ""
           }
          },
          "title": {
           "x": 0.05
          },
          "xaxis": {
           "automargin": true,
           "gridcolor": "white",
           "linecolor": "white",
           "ticks": "",
           "title": {
            "standoff": 15
           },
           "zerolinecolor": "white",
           "zerolinewidth": 2
          },
          "yaxis": {
           "automargin": true,
           "gridcolor": "white",
           "linecolor": "white",
           "ticks": "",
           "title": {
            "standoff": 15
           },
           "zerolinecolor": "white",
           "zerolinewidth": 2
          }
         }
        },
        "title": {
         "text": "BTC vs LR Sentiment Model - Weekly"
        },
        "xaxis": {
         "anchor": "y",
         "domain": [
          0,
          0.94
         ],
         "title": {
          "text": "Date"
         }
        },
        "yaxis": {
         "anchor": "x",
         "domain": [
          0,
          1
         ],
         "title": {
          "text": "<b>Sentiment Polarity </b>"
         }
        },
        "yaxis2": {
         "anchor": "x",
         "overlaying": "y",
         "side": "right",
         "title": {
          "text": "<b>BTC Price</b>"
         }
        }
       }
      },
      "text/html": [
       "<div>                            <div id=\"852600cb-e2f0-4d3c-92bc-302f20f7f9e4\" class=\"plotly-graph-div\" style=\"height:525px; width:100%;\"></div>            <script type=\"text/javascript\">                require([\"plotly\"], function(Plotly) {                    window.PLOTLYENV=window.PLOTLYENV || {};                                    if (document.getElementById(\"852600cb-e2f0-4d3c-92bc-302f20f7f9e4\")) {                    Plotly.newPlot(                        \"852600cb-e2f0-4d3c-92bc-302f20f7f9e4\",                        [{\"name\": \"LR-Model\", \"type\": \"scatter\", \"x\": [\"2019-01-13T00:00:00\", \"2019-01-20T00:00:00\", \"2019-01-27T00:00:00\", \"2019-02-03T00:00:00\", \"2019-02-10T00:00:00\", \"2019-02-17T00:00:00\", \"2019-02-24T00:00:00\", \"2019-03-03T00:00:00\", \"2019-03-10T00:00:00\", \"2019-03-17T00:00:00\", \"2019-03-24T00:00:00\", \"2019-03-31T00:00:00\", \"2019-04-07T00:00:00\", \"2019-04-14T00:00:00\", \"2019-04-21T00:00:00\", \"2019-04-28T00:00:00\", \"2019-05-05T00:00:00\", \"2019-05-12T00:00:00\", \"2019-05-19T00:00:00\", \"2019-05-26T00:00:00\", \"2019-06-02T00:00:00\", \"2019-06-09T00:00:00\", \"2019-06-16T00:00:00\", \"2019-06-23T00:00:00\", \"2019-06-30T00:00:00\", \"2019-07-07T00:00:00\", \"2019-07-14T00:00:00\", \"2019-07-21T00:00:00\", \"2019-07-28T00:00:00\", \"2019-08-04T00:00:00\", \"2019-08-11T00:00:00\", \"2019-08-18T00:00:00\", \"2019-08-25T00:00:00\", \"2019-09-01T00:00:00\", \"2019-09-08T00:00:00\", \"2019-09-15T00:00:00\", \"2019-09-22T00:00:00\", \"2019-09-29T00:00:00\", \"2019-10-06T00:00:00\", \"2019-10-13T00:00:00\", \"2019-10-20T00:00:00\", \"2019-10-27T00:00:00\", \"2019-11-03T00:00:00\", \"2019-11-10T00:00:00\", \"2019-11-17T00:00:00\", \"2019-11-24T00:00:00\", \"2019-12-01T00:00:00\", \"2019-12-08T00:00:00\", \"2019-12-15T00:00:00\", \"2019-12-22T00:00:00\", \"2019-12-29T00:00:00\", \"2020-01-05T00:00:00\", \"2020-01-12T00:00:00\", \"2020-01-19T00:00:00\", \"2020-01-26T00:00:00\", \"2020-02-02T00:00:00\", \"2020-02-09T00:00:00\", \"2020-02-16T00:00:00\", \"2020-02-23T00:00:00\", \"2020-03-01T00:00:00\", \"2020-03-08T00:00:00\", \"2020-03-15T00:00:00\", \"2020-03-22T00:00:00\", \"2020-03-29T00:00:00\", \"2020-04-05T00:00:00\", \"2020-04-12T00:00:00\", \"2020-04-19T00:00:00\", \"2020-04-26T00:00:00\", \"2020-05-03T00:00:00\", \"2020-05-10T00:00:00\", \"2020-05-17T00:00:00\", \"2020-05-24T00:00:00\", \"2020-05-31T00:00:00\", \"2020-06-07T00:00:00\", \"2020-06-14T00:00:00\", \"2020-06-21T00:00:00\", \"2020-06-28T00:00:00\", \"2020-07-05T00:00:00\", \"2020-07-12T00:00:00\", \"2020-07-19T00:00:00\", \"2020-07-26T00:00:00\", \"2020-08-02T00:00:00\", \"2020-08-09T00:00:00\", \"2020-08-16T00:00:00\", \"2020-08-23T00:00:00\", \"2020-08-30T00:00:00\", \"2020-09-06T00:00:00\", \"2020-09-13T00:00:00\", \"2020-09-20T00:00:00\", \"2020-09-27T00:00:00\", \"2020-10-04T00:00:00\", \"2020-10-11T00:00:00\", \"2020-10-18T00:00:00\", \"2020-10-25T00:00:00\", \"2020-11-01T00:00:00\", \"2020-11-08T00:00:00\", \"2020-11-15T00:00:00\", \"2020-11-22T00:00:00\", \"2020-11-29T00:00:00\", \"2020-12-06T00:00:00\", \"2020-12-13T00:00:00\", \"2020-12-20T00:00:00\", \"2020-12-27T00:00:00\", \"2021-01-03T00:00:00\", \"2021-01-10T00:00:00\", \"2021-01-17T00:00:00\", \"2021-01-24T00:00:00\", \"2021-01-31T00:00:00\", \"2021-02-07T00:00:00\", \"2021-02-14T00:00:00\", \"2021-02-21T00:00:00\", \"2021-02-28T00:00:00\", \"2021-03-07T00:00:00\", \"2021-03-14T00:00:00\", \"2021-03-21T00:00:00\", \"2021-03-28T00:00:00\", \"2021-04-04T00:00:00\", \"2021-04-11T00:00:00\", \"2021-04-18T00:00:00\", \"2021-04-25T00:00:00\", \"2021-05-02T00:00:00\", \"2021-05-09T00:00:00\", \"2021-05-16T00:00:00\", \"2021-05-23T00:00:00\", \"2021-05-30T00:00:00\", \"2021-06-06T00:00:00\", \"2021-06-13T00:00:00\", \"2021-06-20T00:00:00\", \"2021-06-27T00:00:00\"], \"xaxis\": \"x\", \"y\": [-5.442402839509395, -0.4532669164906057, 0.715580795817045, -0.8730268124923102, 2.543615680115742, -1.122626862637214, -23.54568809305829, -0.46692040914145194, 0.02437422804305389, 0.045240356104028656, -0.6110072496622342, 1.1588555017647706, 1.0035365176920985, -0.501983651176628, -0.6411123004892495, 0.8302831753362314, -0.062028168559083, -0.4009920589659396, 4.5821308143928166, -0.10019870614201132, -0.12762652929021134, -0.49027800870146465, 1.1191475241624702, 0.4097125826743333, 0.31525613131957275, -0.6424733334476069, 0.7110550810948331, 0.11169277347778106, -0.6635127064578299, 0.15153654941066774, 0.906669098978979, -0.5365394658764131, 0.5500961733706633, -1.0484907686154772, -21.71757676184773, -0.39369812946720417, 0.0808923539083477, -0.693898493744712, 0.6448700513452363, -0.32587899459410563, 2.5524808669245016, 0.03229573759441573, -0.2700937266446747, -0.8108540203759799, -4.2472868037668245, -1.2537046705257897, 8.016990159538297, -0.5856989483269669, 1.0204285614504265, -0.7267673271171801, -1.4214013728558523, -6.628472135137758, -0.2079316401476079, -1.3554793714131457, -3.438553118231227, -0.07895722738336242, 2.3384145271727177, -0.5229487161601868, 0.9521955483342595, -0.32679361184772204, 0.6292852535803395, -1.3466064774145703, 1.3011922484058682, 0.3490634856407948, -1.9796441099885407, -0.889761447572282, 4.4579209367721395, -0.9845264730283272, 33.93363557336269, 3.5736351307296816, -0.3210063224534221, -0.30860979221574947, 0.8883745371508991, -0.26125265211462023, -0.0688810926419966, -0.6633530632843164, -0.8798402993640643, 24.66496017427602, 0.17464901589274673, -0.7860140574747633, 3.854997893208729, -0.21053562061497721, 0.042071618681859935, 0.4083148733572539, -0.754825005865082, 0.46683485791488466, 0.9647461628029754, -0.344674774441188, -0.6871052027459132, 0.9610633929946271, 2.358473859765637, -0.4217098566486748, 1.3942095948504973, 0.023351418834446358, -0.9563100034743278, 31.89875143686932, -0.4120055932810379, 0.5698800430473119, 0.008807783847798456, -0.5176808958711497, 0.7230956551681196, 0.43588750339460436, -0.20471049098856375, 0.37636434765014526, 0.4059543284641678, -0.6567603917081031, 0.9036587528124316, 0.20288237489408156, 1.3547014018396522, 0.19385695733589192, 0.14394610271561148, -0.3437609385118394, 0.021862048909859544, -0.2416047147143665, -0.30795612544799833, 0.415144829372591, 0.008242261873782963, -0.11720441954490235, 0.9010273793340111, -0.19342806070698493, 0.06245533979715945, -0.1815713573945733, 0.07883739052967509, -0.6020147694760342, 0.6815287498061566, -0.041864348938267404, -0.07618659577594888, 0.5217850883527939, -0.4423649394186283], \"yaxis\": \"y\"}, {\"name\": \"Bit Coin Avg\", \"type\": \"scatter\", \"x\": [\"2019-01-13T00:00:00\", \"2019-01-20T00:00:00\", \"2019-01-27T00:00:00\", \"2019-02-03T00:00:00\", \"2019-02-10T00:00:00\", \"2019-02-17T00:00:00\", \"2019-02-24T00:00:00\", \"2019-03-03T00:00:00\", \"2019-03-10T00:00:00\", \"2019-03-17T00:00:00\", \"2019-03-24T00:00:00\", \"2019-03-31T00:00:00\", \"2019-04-07T00:00:00\", \"2019-04-14T00:00:00\", \"2019-04-21T00:00:00\", \"2019-04-28T00:00:00\", \"2019-05-05T00:00:00\", \"2019-05-12T00:00:00\", \"2019-05-19T00:00:00\", \"2019-05-26T00:00:00\", \"2019-06-02T00:00:00\", \"2019-06-09T00:00:00\", \"2019-06-16T00:00:00\", \"2019-06-23T00:00:00\", \"2019-06-30T00:00:00\", \"2019-07-07T00:00:00\", \"2019-07-14T00:00:00\", \"2019-07-21T00:00:00\", \"2019-07-28T00:00:00\", \"2019-08-04T00:00:00\", \"2019-08-11T00:00:00\", \"2019-08-18T00:00:00\", \"2019-08-25T00:00:00\", \"2019-09-01T00:00:00\", \"2019-09-08T00:00:00\", \"2019-09-15T00:00:00\", \"2019-09-22T00:00:00\", \"2019-09-29T00:00:00\", \"2019-10-06T00:00:00\", \"2019-10-13T00:00:00\", \"2019-10-20T00:00:00\", \"2019-10-27T00:00:00\", \"2019-11-03T00:00:00\", \"2019-11-10T00:00:00\", \"2019-11-17T00:00:00\", \"2019-11-24T00:00:00\", \"2019-12-01T00:00:00\", \"2019-12-08T00:00:00\", \"2019-12-15T00:00:00\", \"2019-12-22T00:00:00\", \"2019-12-29T00:00:00\", \"2020-01-05T00:00:00\", \"2020-01-12T00:00:00\", \"2020-01-19T00:00:00\", \"2020-01-26T00:00:00\", \"2020-02-02T00:00:00\", \"2020-02-09T00:00:00\", \"2020-02-16T00:00:00\", \"2020-02-23T00:00:00\", \"2020-03-01T00:00:00\", \"2020-03-08T00:00:00\", \"2020-03-15T00:00:00\", \"2020-03-22T00:00:00\", \"2020-03-29T00:00:00\", \"2020-04-05T00:00:00\", \"2020-04-12T00:00:00\", \"2020-04-19T00:00:00\", \"2020-04-26T00:00:00\", \"2020-05-03T00:00:00\", \"2020-05-10T00:00:00\", \"2020-05-17T00:00:00\", \"2020-05-24T00:00:00\", \"2020-05-31T00:00:00\", \"2020-06-07T00:00:00\", \"2020-06-14T00:00:00\", \"2020-06-21T00:00:00\", \"2020-06-28T00:00:00\", \"2020-07-05T00:00:00\", \"2020-07-12T00:00:00\", \"2020-07-19T00:00:00\", \"2020-07-26T00:00:00\", \"2020-08-02T00:00:00\", \"2020-08-09T00:00:00\", \"2020-08-16T00:00:00\", \"2020-08-23T00:00:00\", \"2020-08-30T00:00:00\", \"2020-09-06T00:00:00\", \"2020-09-13T00:00:00\", \"2020-09-20T00:00:00\", \"2020-09-27T00:00:00\", \"2020-10-04T00:00:00\", \"2020-10-11T00:00:00\", \"2020-10-18T00:00:00\", \"2020-10-25T00:00:00\", \"2020-11-01T00:00:00\", \"2020-11-08T00:00:00\", \"2020-11-15T00:00:00\", \"2020-11-22T00:00:00\", \"2020-11-29T00:00:00\", \"2020-12-06T00:00:00\", \"2020-12-13T00:00:00\", \"2020-12-20T00:00:00\", \"2020-12-27T00:00:00\", \"2021-01-03T00:00:00\", \"2021-01-10T00:00:00\", \"2021-01-17T00:00:00\", \"2021-01-24T00:00:00\", \"2021-01-31T00:00:00\", \"2021-02-07T00:00:00\", \"2021-02-14T00:00:00\", \"2021-02-21T00:00:00\", \"2021-02-28T00:00:00\", \"2021-03-07T00:00:00\", \"2021-03-14T00:00:00\", \"2021-03-21T00:00:00\", \"2021-03-28T00:00:00\", \"2021-04-04T00:00:00\", \"2021-04-11T00:00:00\", \"2021-04-18T00:00:00\", \"2021-04-25T00:00:00\", \"2021-05-02T00:00:00\", \"2021-05-09T00:00:00\", \"2021-05-16T00:00:00\", \"2021-05-23T00:00:00\", \"2021-05-30T00:00:00\", \"2021-06-06T00:00:00\", \"2021-06-13T00:00:00\", \"2021-06-20T00:00:00\", \"2021-06-27T00:00:00\"], \"xaxis\": \"x\", \"y\": [-0.0003377753572187947, -0.04971962353556125, -0.01894263678023611, -0.03267721731530249, 0.012614548287136929, 0.03453086235545899, 0.0884377379382999, -0.02599350509484344, 0.007656860239310559, 0.015120602006025496, 0.023579611374198173, 0.003714181588542864, 0.19460500460804186, 0.06679623075338292, 0.014145378257086172, 0.02420207045168321, 0.02699988425078259, 0.13638979258750306, 0.23372589034153624, 0.030149740935795144, 0.08235471083534929, -0.07895780757315796, 0.04682710263064904, 0.174353725459788, 0.20033461826056254, -0.05245507042771014, 0.05754988242558867, -0.12169729043576338, -0.040703613452324316, 0.02833720553331287, 0.14505059652944707, -0.09479647196360619, -0.018961179956198726, -0.0476660713851057, 0.06281571645763306, -0.019001241451275463, -0.010698048846006447, -0.1541409977013618, -0.04556190803510518, 0.01972656953598495, -0.027627992930457146, 0.02826648839119117, 0.11240779574024384, -0.014858612513808156, -0.04989795291369514, -0.10572671691115465, -0.05011601853791148, 0.0059662581925366, -0.024675417652944565, -0.02353708977174629, 0.037708624651932254, -0.011302283175576577, 0.09764662305887595, 0.08765558897546799, -0.01679545635800639, 0.08343407335106567, 0.039114416423991605, 0.05158076840020742, -0.03602611100426656, -0.07646032875335174, -0.017332457740613427, -0.2575750884645899, -0.13511795750199507, 0.13480576662569388, 0.027141908991116237, 0.07288910456444775, -0.01750586736395454, 0.04303244761206293, 0.17002784606105736, 0.09308447559227595, -0.008948957063018792, 0.016679034271036564, -0.014919759174074954, 0.05162766744633074, -0.012069452330420005, -0.023300955536572854, -0.006536996569913689, -0.01848574816320092, 0.014323960947223213, -0.008777530913194331, 0.032875373865138835, 0.1722466451747482, 0.03631871430633371, 0.016582427773552455, 0.009574112439406868, -0.027490846313339423, -0.04579014993352781, -0.06305659161755084, 0.05597910808981221, -0.025085322436017243, 0.008125702368226628, 0.021311416386240678, 0.046663814661354275, 0.10072397580985415, 0.06880646166650184, 0.0832341662827536, 0.08382043472858047, 0.12624062628292188, 0.013612469384522319, 0.057683460902409056, -0.0245902955810523, 0.16360547671130177, 0.12224125192340729, 0.2020149857159399, 0.2511786296510268, -0.0132916958104915, -0.060110100092752194, -0.02555515786381579, 0.1167216038442076, 0.2565351910935769, 0.1293068673033273, -0.07003459003053392, 0.007729328308548666, 0.1442446460790423, 0.02477860773690077, -0.04717696733414267, 0.06977571136970462, 0.0006656481662246083, 0.04654019830011458, -0.1413591340111625, 0.04587846786435468, 0.03448355326336161, -0.0940059840789802, -0.2403746250872264, -0.048747674030995114, -0.01095082994913854, -0.03151900464794699, 0.06212621308067812, -0.13358197650908432], \"yaxis\": \"y2\"}],                        {\"template\": {\"data\": {\"bar\": [{\"error_x\": {\"color\": \"#2a3f5f\"}, \"error_y\": {\"color\": \"#2a3f5f\"}, \"marker\": {\"line\": {\"color\": \"#E5ECF6\", \"width\": 0.5}}, \"type\": \"bar\"}], \"barpolar\": [{\"marker\": {\"line\": {\"color\": \"#E5ECF6\", \"width\": 0.5}}, \"type\": \"barpolar\"}], \"carpet\": [{\"aaxis\": {\"endlinecolor\": \"#2a3f5f\", \"gridcolor\": \"white\", \"linecolor\": \"white\", \"minorgridcolor\": \"white\", \"startlinecolor\": \"#2a3f5f\"}, \"baxis\": {\"endlinecolor\": \"#2a3f5f\", \"gridcolor\": \"white\", \"linecolor\": \"white\", \"minorgridcolor\": \"white\", \"startlinecolor\": \"#2a3f5f\"}, \"type\": \"carpet\"}], \"choropleth\": [{\"colorbar\": {\"outlinewidth\": 0, \"ticks\": \"\"}, \"type\": \"choropleth\"}], \"contour\": [{\"colorbar\": {\"outlinewidth\": 0, \"ticks\": \"\"}, \"colorscale\": [[0.0, \"#0d0887\"], [0.1111111111111111, \"#46039f\"], [0.2222222222222222, \"#7201a8\"], [0.3333333333333333, \"#9c179e\"], [0.4444444444444444, \"#bd3786\"], [0.5555555555555556, \"#d8576b\"], [0.6666666666666666, \"#ed7953\"], [0.7777777777777778, \"#fb9f3a\"], [0.8888888888888888, \"#fdca26\"], [1.0, \"#f0f921\"]], \"type\": \"contour\"}], \"contourcarpet\": [{\"colorbar\": {\"outlinewidth\": 0, \"ticks\": \"\"}, \"type\": \"contourcarpet\"}], \"heatmap\": [{\"colorbar\": {\"outlinewidth\": 0, \"ticks\": \"\"}, \"colorscale\": [[0.0, \"#0d0887\"], [0.1111111111111111, \"#46039f\"], [0.2222222222222222, \"#7201a8\"], [0.3333333333333333, \"#9c179e\"], [0.4444444444444444, \"#bd3786\"], [0.5555555555555556, \"#d8576b\"], [0.6666666666666666, \"#ed7953\"], [0.7777777777777778, \"#fb9f3a\"], [0.8888888888888888, \"#fdca26\"], [1.0, \"#f0f921\"]], \"type\": \"heatmap\"}], \"heatmapgl\": [{\"colorbar\": {\"outlinewidth\": 0, \"ticks\": \"\"}, \"colorscale\": [[0.0, \"#0d0887\"], [0.1111111111111111, \"#46039f\"], [0.2222222222222222, \"#7201a8\"], [0.3333333333333333, \"#9c179e\"], [0.4444444444444444, \"#bd3786\"], [0.5555555555555556, \"#d8576b\"], [0.6666666666666666, \"#ed7953\"], [0.7777777777777778, \"#fb9f3a\"], [0.8888888888888888, \"#fdca26\"], [1.0, \"#f0f921\"]], \"type\": \"heatmapgl\"}], \"histogram\": [{\"marker\": {\"colorbar\": {\"outlinewidth\": 0, \"ticks\": \"\"}}, \"type\": \"histogram\"}], \"histogram2d\": [{\"colorbar\": {\"outlinewidth\": 0, \"ticks\": \"\"}, \"colorscale\": [[0.0, \"#0d0887\"], [0.1111111111111111, \"#46039f\"], [0.2222222222222222, \"#7201a8\"], [0.3333333333333333, \"#9c179e\"], [0.4444444444444444, \"#bd3786\"], [0.5555555555555556, \"#d8576b\"], [0.6666666666666666, \"#ed7953\"], [0.7777777777777778, \"#fb9f3a\"], [0.8888888888888888, \"#fdca26\"], [1.0, \"#f0f921\"]], \"type\": \"histogram2d\"}], \"histogram2dcontour\": [{\"colorbar\": {\"outlinewidth\": 0, \"ticks\": \"\"}, \"colorscale\": [[0.0, \"#0d0887\"], [0.1111111111111111, \"#46039f\"], [0.2222222222222222, \"#7201a8\"], [0.3333333333333333, \"#9c179e\"], [0.4444444444444444, \"#bd3786\"], [0.5555555555555556, \"#d8576b\"], [0.6666666666666666, \"#ed7953\"], [0.7777777777777778, \"#fb9f3a\"], [0.8888888888888888, \"#fdca26\"], [1.0, \"#f0f921\"]], \"type\": \"histogram2dcontour\"}], \"mesh3d\": [{\"colorbar\": {\"outlinewidth\": 0, \"ticks\": \"\"}, \"type\": \"mesh3d\"}], \"parcoords\": [{\"line\": {\"colorbar\": {\"outlinewidth\": 0, \"ticks\": \"\"}}, \"type\": \"parcoords\"}], \"pie\": [{\"automargin\": true, \"type\": \"pie\"}], \"scatter\": [{\"marker\": {\"colorbar\": {\"outlinewidth\": 0, \"ticks\": \"\"}}, \"type\": \"scatter\"}], \"scatter3d\": [{\"line\": {\"colorbar\": {\"outlinewidth\": 0, \"ticks\": \"\"}}, \"marker\": {\"colorbar\": {\"outlinewidth\": 0, \"ticks\": \"\"}}, \"type\": \"scatter3d\"}], \"scattercarpet\": [{\"marker\": {\"colorbar\": {\"outlinewidth\": 0, \"ticks\": \"\"}}, \"type\": \"scattercarpet\"}], \"scattergeo\": [{\"marker\": {\"colorbar\": {\"outlinewidth\": 0, \"ticks\": \"\"}}, \"type\": \"scattergeo\"}], \"scattergl\": [{\"marker\": {\"colorbar\": {\"outlinewidth\": 0, \"ticks\": \"\"}}, \"type\": \"scattergl\"}], \"scattermapbox\": [{\"marker\": {\"colorbar\": {\"outlinewidth\": 0, \"ticks\": \"\"}}, \"type\": \"scattermapbox\"}], \"scatterpolar\": [{\"marker\": {\"colorbar\": {\"outlinewidth\": 0, \"ticks\": \"\"}}, \"type\": \"scatterpolar\"}], \"scatterpolargl\": [{\"marker\": {\"colorbar\": {\"outlinewidth\": 0, \"ticks\": \"\"}}, \"type\": \"scatterpolargl\"}], \"scatterternary\": [{\"marker\": {\"colorbar\": {\"outlinewidth\": 0, \"ticks\": \"\"}}, \"type\": \"scatterternary\"}], \"surface\": [{\"colorbar\": {\"outlinewidth\": 0, \"ticks\": \"\"}, \"colorscale\": [[0.0, \"#0d0887\"], [0.1111111111111111, \"#46039f\"], [0.2222222222222222, \"#7201a8\"], [0.3333333333333333, \"#9c179e\"], [0.4444444444444444, \"#bd3786\"], [0.5555555555555556, \"#d8576b\"], [0.6666666666666666, \"#ed7953\"], [0.7777777777777778, \"#fb9f3a\"], [0.8888888888888888, \"#fdca26\"], [1.0, \"#f0f921\"]], \"type\": \"surface\"}], \"table\": [{\"cells\": {\"fill\": {\"color\": \"#EBF0F8\"}, \"line\": {\"color\": \"white\"}}, \"header\": {\"fill\": {\"color\": \"#C8D4E3\"}, \"line\": {\"color\": \"white\"}}, \"type\": \"table\"}]}, \"layout\": {\"annotationdefaults\": {\"arrowcolor\": \"#2a3f5f\", \"arrowhead\": 0, \"arrowwidth\": 1}, \"coloraxis\": {\"colorbar\": {\"outlinewidth\": 0, \"ticks\": \"\"}}, \"colorscale\": {\"diverging\": [[0, \"#8e0152\"], [0.1, \"#c51b7d\"], [0.2, \"#de77ae\"], [0.3, \"#f1b6da\"], [0.4, \"#fde0ef\"], [0.5, \"#f7f7f7\"], [0.6, \"#e6f5d0\"], [0.7, \"#b8e186\"], [0.8, \"#7fbc41\"], [0.9, \"#4d9221\"], [1, \"#276419\"]], \"sequential\": [[0.0, \"#0d0887\"], [0.1111111111111111, \"#46039f\"], [0.2222222222222222, \"#7201a8\"], [0.3333333333333333, \"#9c179e\"], [0.4444444444444444, \"#bd3786\"], [0.5555555555555556, \"#d8576b\"], [0.6666666666666666, \"#ed7953\"], [0.7777777777777778, \"#fb9f3a\"], [0.8888888888888888, \"#fdca26\"], [1.0, \"#f0f921\"]], \"sequentialminus\": [[0.0, \"#0d0887\"], [0.1111111111111111, \"#46039f\"], [0.2222222222222222, \"#7201a8\"], [0.3333333333333333, \"#9c179e\"], [0.4444444444444444, \"#bd3786\"], [0.5555555555555556, \"#d8576b\"], [0.6666666666666666, \"#ed7953\"], [0.7777777777777778, \"#fb9f3a\"], [0.8888888888888888, \"#fdca26\"], [1.0, \"#f0f921\"]]}, \"colorway\": [\"#636efa\", \"#EF553B\", \"#00cc96\", \"#ab63fa\", \"#FFA15A\", \"#19d3f3\", \"#FF6692\", \"#B6E880\", \"#FF97FF\", \"#FECB52\"], \"font\": {\"color\": \"#2a3f5f\"}, \"geo\": {\"bgcolor\": \"white\", \"lakecolor\": \"white\", \"landcolor\": \"#E5ECF6\", \"showlakes\": true, \"showland\": true, \"subunitcolor\": \"white\"}, \"hoverlabel\": {\"align\": \"left\"}, \"hovermode\": \"closest\", \"mapbox\": {\"style\": \"light\"}, \"paper_bgcolor\": \"white\", \"plot_bgcolor\": \"#E5ECF6\", \"polar\": {\"angularaxis\": {\"gridcolor\": \"white\", \"linecolor\": \"white\", \"ticks\": \"\"}, \"bgcolor\": \"#E5ECF6\", \"radialaxis\": {\"gridcolor\": \"white\", \"linecolor\": \"white\", \"ticks\": \"\"}}, \"scene\": {\"xaxis\": {\"backgroundcolor\": \"#E5ECF6\", \"gridcolor\": \"white\", \"gridwidth\": 2, \"linecolor\": \"white\", \"showbackground\": true, \"ticks\": \"\", \"zerolinecolor\": \"white\"}, \"yaxis\": {\"backgroundcolor\": \"#E5ECF6\", \"gridcolor\": \"white\", \"gridwidth\": 2, \"linecolor\": \"white\", \"showbackground\": true, \"ticks\": \"\", \"zerolinecolor\": \"white\"}, \"zaxis\": {\"backgroundcolor\": \"#E5ECF6\", \"gridcolor\": \"white\", \"gridwidth\": 2, \"linecolor\": \"white\", \"showbackground\": true, \"ticks\": \"\", \"zerolinecolor\": \"white\"}}, \"shapedefaults\": {\"line\": {\"color\": \"#2a3f5f\"}}, \"ternary\": {\"aaxis\": {\"gridcolor\": \"white\", \"linecolor\": \"white\", \"ticks\": \"\"}, \"baxis\": {\"gridcolor\": \"white\", \"linecolor\": \"white\", \"ticks\": \"\"}, \"bgcolor\": \"#E5ECF6\", \"caxis\": {\"gridcolor\": \"white\", \"linecolor\": \"white\", \"ticks\": \"\"}}, \"title\": {\"x\": 0.05}, \"xaxis\": {\"automargin\": true, \"gridcolor\": \"white\", \"linecolor\": \"white\", \"ticks\": \"\", \"title\": {\"standoff\": 15}, \"zerolinecolor\": \"white\", \"zerolinewidth\": 2}, \"yaxis\": {\"automargin\": true, \"gridcolor\": \"white\", \"linecolor\": \"white\", \"ticks\": \"\", \"title\": {\"standoff\": 15}, \"zerolinecolor\": \"white\", \"zerolinewidth\": 2}}}, \"title\": {\"text\": \"BTC vs LR Sentiment Model - Weekly\"}, \"xaxis\": {\"anchor\": \"y\", \"domain\": [0.0, 0.94], \"title\": {\"text\": \"Date\"}}, \"yaxis\": {\"anchor\": \"x\", \"domain\": [0.0, 1.0], \"title\": {\"text\": \"<b>Sentiment Polarity </b>\"}}, \"yaxis2\": {\"anchor\": \"x\", \"overlaying\": \"y\", \"side\": \"right\", \"title\": {\"text\": \"<b>BTC Price</b>\"}}},                        {\"responsive\": true}                    ).then(function(){\n",
       "                            \n",
       "var gd = document.getElementById('852600cb-e2f0-4d3c-92bc-302f20f7f9e4');\n",
       "var x = new MutationObserver(function (mutations, observer) {{\n",
       "        var display = window.getComputedStyle(gd).display;\n",
       "        if (!display || display === 'none') {{\n",
       "            console.log([gd, 'removed!']);\n",
       "            Plotly.purge(gd);\n",
       "            observer.disconnect();\n",
       "        }}\n",
       "}});\n",
       "\n",
       "// Listen for the removal of the full notebook cells\n",
       "var notebookContainer = gd.closest('#notebook-container');\n",
       "if (notebookContainer) {{\n",
       "    x.observe(notebookContainer, {childList: true});\n",
       "}}\n",
       "\n",
       "// Listen for the clearing of the current output cell\n",
       "var outputEl = gd.closest('.output');\n",
       "if (outputEl) {{\n",
       "    x.observe(outputEl, {childList: true});\n",
       "}}\n",
       "\n",
       "                        })                };                });            </script>        </div>"
      ]
     },
     "metadata": {},
     "output_type": "display_data"
    }
   ],
   "source": [
    "# Create figure with secondary y-axis\n",
    "fig = make_subplots(specs=[[{\"secondary_y\": True}]])\n",
    "\n",
    "# Add traces\n",
    "fig.add_trace(\n",
    "    go.Scatter(x=apct.index, y=apct, name=\"LR-Model\"),\n",
    "    secondary_y=False,\n",
    ")\n",
    "\n",
    "fig.add_trace(\n",
    "    go.Scatter(x=btcpct.index, y=btcpct, name=\"Bit Coin Avg\"),\n",
    "    secondary_y=True,\n",
    ")\n",
    "\n",
    "# Add figure title\n",
    "fig.update_layout(\n",
    "    title_text=\"BTC vs LR Sentiment Model - Weekly\"\n",
    ")\n",
    "\n",
    "# Set x-axis title\n",
    "fig.update_xaxes(title_text=\"Date\")\n",
    "\n",
    "# Set y-axes titles\n",
    "fig.update_yaxes(title_text=\"<b>Sentiment Polarity </b>\", secondary_y=False)\n",
    "fig.update_yaxes(title_text=\"<b>BTC Price</b>\", secondary_y=True)\n",
    "\n",
    "fig.show()"
   ]
  },
  {
   "cell_type": "code",
   "execution_count": 291,
   "id": "dfb165d5",
   "metadata": {},
   "outputs": [
    {
     "data": {
      "application/vnd.plotly.v1+json": {
       "config": {
        "plotlyServerURL": "https://plot.ly"
       },
       "data": [
        {
         "name": "LR-Model",
         "type": "scatter",
         "x": [
          "2019-01-06T00:00:00",
          "2019-01-13T00:00:00",
          "2019-01-20T00:00:00",
          "2019-01-27T00:00:00",
          "2019-02-03T00:00:00",
          "2019-02-10T00:00:00",
          "2019-02-17T00:00:00",
          "2019-02-24T00:00:00",
          "2019-03-03T00:00:00",
          "2019-03-10T00:00:00",
          "2019-03-17T00:00:00",
          "2019-03-24T00:00:00",
          "2019-03-31T00:00:00",
          "2019-04-07T00:00:00",
          "2019-04-14T00:00:00",
          "2019-04-21T00:00:00",
          "2019-04-28T00:00:00",
          "2019-05-05T00:00:00",
          "2019-05-12T00:00:00",
          "2019-05-19T00:00:00",
          "2019-05-26T00:00:00",
          "2019-06-02T00:00:00",
          "2019-06-09T00:00:00",
          "2019-06-16T00:00:00",
          "2019-06-23T00:00:00",
          "2019-06-30T00:00:00",
          "2019-07-07T00:00:00",
          "2019-07-14T00:00:00",
          "2019-07-21T00:00:00",
          "2019-07-28T00:00:00",
          "2019-08-04T00:00:00",
          "2019-08-11T00:00:00",
          "2019-08-18T00:00:00",
          "2019-08-25T00:00:00",
          "2019-09-01T00:00:00",
          "2019-09-08T00:00:00",
          "2019-09-15T00:00:00",
          "2019-09-22T00:00:00",
          "2019-09-29T00:00:00",
          "2019-10-06T00:00:00",
          "2019-10-13T00:00:00",
          "2019-10-20T00:00:00",
          "2019-10-27T00:00:00",
          "2019-11-03T00:00:00",
          "2019-11-10T00:00:00",
          "2019-11-17T00:00:00",
          "2019-11-24T00:00:00",
          "2019-12-01T00:00:00",
          "2019-12-08T00:00:00",
          "2019-12-15T00:00:00",
          "2019-12-22T00:00:00",
          "2019-12-29T00:00:00",
          "2020-01-05T00:00:00",
          "2020-01-12T00:00:00",
          "2020-01-19T00:00:00",
          "2020-01-26T00:00:00",
          "2020-02-02T00:00:00",
          "2020-02-09T00:00:00",
          "2020-02-16T00:00:00",
          "2020-02-23T00:00:00",
          "2020-03-01T00:00:00",
          "2020-03-08T00:00:00",
          "2020-03-15T00:00:00",
          "2020-03-22T00:00:00",
          "2020-03-29T00:00:00",
          "2020-04-05T00:00:00",
          "2020-04-12T00:00:00",
          "2020-04-19T00:00:00",
          "2020-04-26T00:00:00",
          "2020-05-03T00:00:00",
          "2020-05-10T00:00:00",
          "2020-05-17T00:00:00",
          "2020-05-24T00:00:00",
          "2020-05-31T00:00:00",
          "2020-06-07T00:00:00",
          "2020-06-14T00:00:00",
          "2020-06-21T00:00:00",
          "2020-06-28T00:00:00",
          "2020-07-05T00:00:00",
          "2020-07-12T00:00:00",
          "2020-07-19T00:00:00",
          "2020-07-26T00:00:00",
          "2020-08-02T00:00:00",
          "2020-08-09T00:00:00",
          "2020-08-16T00:00:00",
          "2020-08-23T00:00:00",
          "2020-08-30T00:00:00",
          "2020-09-06T00:00:00",
          "2020-09-13T00:00:00",
          "2020-09-20T00:00:00",
          "2020-09-27T00:00:00",
          "2020-10-04T00:00:00",
          "2020-10-11T00:00:00",
          "2020-10-18T00:00:00",
          "2020-10-25T00:00:00",
          "2020-11-01T00:00:00",
          "2020-11-08T00:00:00",
          "2020-11-15T00:00:00",
          "2020-11-22T00:00:00",
          "2020-11-29T00:00:00",
          "2020-12-06T00:00:00",
          "2020-12-13T00:00:00",
          "2020-12-20T00:00:00",
          "2020-12-27T00:00:00",
          "2021-01-03T00:00:00",
          "2021-01-10T00:00:00",
          "2021-01-17T00:00:00",
          "2021-01-24T00:00:00",
          "2021-01-31T00:00:00",
          "2021-02-07T00:00:00",
          "2021-02-14T00:00:00",
          "2021-02-21T00:00:00",
          "2021-02-28T00:00:00",
          "2021-03-07T00:00:00",
          "2021-03-14T00:00:00",
          "2021-03-21T00:00:00",
          "2021-03-28T00:00:00",
          "2021-04-04T00:00:00",
          "2021-04-11T00:00:00",
          "2021-04-18T00:00:00",
          "2021-04-25T00:00:00",
          "2021-05-02T00:00:00",
          "2021-05-09T00:00:00",
          "2021-05-16T00:00:00",
          "2021-05-23T00:00:00",
          "2021-05-30T00:00:00",
          "2021-06-06T00:00:00",
          "2021-06-13T00:00:00",
          "2021-06-20T00:00:00",
          "2021-06-27T00:00:00"
         ],
         "xaxis": "x",
         "y": [
          null,
          -1.3026416728571348,
          -191.68058162142825,
          -69.39728495999952,
          -117.44688860500037,
          43.857065525714006,
          121.56805073142868,
          322.10176574642855,
          -103.04428661500015,
          29.56457524642883,
          58.830517980714376,
          93.12962941714295,
          15.015368372856756,
          789.6541524921431,
          323.78684869142853,
          73.14813983428576,
          126.9233299771422,
          145.0228677192863,
          752.3619960528567,
          1465.1400091864289,
          233.17101791500045,
          656.1147303185708,
          -680.8571992364277,
          371.90992284785625,
          1449.5949529585723,
          1956.006841307857,
          -614.7579767942862,
          639.0884236442853,
          -1429.2173521192854,
          -419.85038844500014,
          280.3957474828567,
          1475.9426097385713,
          -1104.5027549021434,
          -199.97984476071179,
          -493.19244912428803,
          618.962922587858,
          -198.99229530714183,
          -109.90749741714353,
          -1566.642031084286,
          -391.69812002785693,
          161.86349575714303,
          -231.1694391378578,
          229.97752156785737,
          940.4065485342853,
          -138.28067601928524,
          -457.4720134449999,
          -920.9515899300004,
          -390.3901693592852,
          44.14636191642785,
          -183.67108937142802,
          -170.8748804878569,
          267.3141230399997,
          -83.14245084499998,
          710.1946525328567,
          699.7812909450013,
          -145.8363947828584,
          712.2975237721421,
          361.79064469714467,
          495.7601963721427,
          -364.1194394428585,
          -744.9513543121429,
          -155.95792868928402,
          -2277.496811866429,
          -886.9916420549998,
          765.370654083571,
          174.8740063821433,
          482.3673837428569,
          -124.29503701499925,
          300.1899638814284,
          1237.1375589128556,
          792.4491304664298,
          -83.2760826335707,
          153.82070129714157,
          -139.89093303214213,
          476.85008628499963,
          -117.23274360071446,
          -223.59470292642982,
          -61.26702599428427,
          -172.1223524950001,
          130.9061286092856,
          -81.3665502749991,
          302.07541047142877,
          1634.7199728171418,
          404.05646626071393,
          191.18466334285768,
          112.21374540714169,
          -325.29235034999874,
          -526.9282754849992,
          -692.3948451114284,
          575.9206735178577,
          -272.5283629742862,
          86.06360614357072,
          227.55460594214128,
          508.8757331285724,
          1149.6656949807148,
          864.4629088628571,
          1117.6809360628577,
          1219.2379391078575,
          1990.1922684378533,
          241.6929595407164,
          1038.1266441757143,
          -468.078281512142,
          3037.663419432145,
          2640.981502266426,
          4897.984271074289,
          7320.257662509281,
          -484.6669354778569,
          -2162.7147065899917,
          -864.1862124328618,
          3846.2479046549997,
          9440.12822932857,
          5978.981237594286,
          -3657.043785389287,
          375.3410973321443,
          7058.752674845004,
          1387.4714405635677,
          -2707.118224949285,
          3814.9927989842836,
          38.9338115878636,
          2723.9517058892816,
          -8658.665543938572,
          2412.9457008614263,
          1896.8451355157158,
          -5349.324644239998,
          -12392.45653896714,
          -1909.0712911328592,
          -407.9538302521396,
          -1161.3265559542924,
          2216.9089038578604,
          -5062.872122392146
         ],
         "yaxis": "y"
        },
        {
         "name": "Bit Coin Avg",
         "type": "scatter",
         "x": [
          "2019-01-06T00:00:00",
          "2019-01-13T00:00:00",
          "2019-01-20T00:00:00",
          "2019-01-27T00:00:00",
          "2019-02-03T00:00:00",
          "2019-02-10T00:00:00",
          "2019-02-17T00:00:00",
          "2019-02-24T00:00:00",
          "2019-03-03T00:00:00",
          "2019-03-10T00:00:00",
          "2019-03-17T00:00:00",
          "2019-03-24T00:00:00",
          "2019-03-31T00:00:00",
          "2019-04-07T00:00:00",
          "2019-04-14T00:00:00",
          "2019-04-21T00:00:00",
          "2019-04-28T00:00:00",
          "2019-05-05T00:00:00",
          "2019-05-12T00:00:00",
          "2019-05-19T00:00:00",
          "2019-05-26T00:00:00",
          "2019-06-02T00:00:00",
          "2019-06-09T00:00:00",
          "2019-06-16T00:00:00",
          "2019-06-23T00:00:00",
          "2019-06-30T00:00:00",
          "2019-07-07T00:00:00",
          "2019-07-14T00:00:00",
          "2019-07-21T00:00:00",
          "2019-07-28T00:00:00",
          "2019-08-04T00:00:00",
          "2019-08-11T00:00:00",
          "2019-08-18T00:00:00",
          "2019-08-25T00:00:00",
          "2019-09-01T00:00:00",
          "2019-09-08T00:00:00",
          "2019-09-15T00:00:00",
          "2019-09-22T00:00:00",
          "2019-09-29T00:00:00",
          "2019-10-06T00:00:00",
          "2019-10-13T00:00:00",
          "2019-10-20T00:00:00",
          "2019-10-27T00:00:00",
          "2019-11-03T00:00:00",
          "2019-11-10T00:00:00",
          "2019-11-17T00:00:00",
          "2019-11-24T00:00:00",
          "2019-12-01T00:00:00",
          "2019-12-08T00:00:00",
          "2019-12-15T00:00:00",
          "2019-12-22T00:00:00",
          "2019-12-29T00:00:00",
          "2020-01-05T00:00:00",
          "2020-01-12T00:00:00",
          "2020-01-19T00:00:00",
          "2020-01-26T00:00:00",
          "2020-02-02T00:00:00",
          "2020-02-09T00:00:00",
          "2020-02-16T00:00:00",
          "2020-02-23T00:00:00",
          "2020-03-01T00:00:00",
          "2020-03-08T00:00:00",
          "2020-03-15T00:00:00",
          "2020-03-22T00:00:00",
          "2020-03-29T00:00:00",
          "2020-04-05T00:00:00",
          "2020-04-12T00:00:00",
          "2020-04-19T00:00:00",
          "2020-04-26T00:00:00",
          "2020-05-03T00:00:00",
          "2020-05-10T00:00:00",
          "2020-05-17T00:00:00",
          "2020-05-24T00:00:00",
          "2020-05-31T00:00:00",
          "2020-06-07T00:00:00",
          "2020-06-14T00:00:00",
          "2020-06-21T00:00:00",
          "2020-06-28T00:00:00",
          "2020-07-05T00:00:00",
          "2020-07-12T00:00:00",
          "2020-07-19T00:00:00",
          "2020-07-26T00:00:00",
          "2020-08-02T00:00:00",
          "2020-08-09T00:00:00",
          "2020-08-16T00:00:00",
          "2020-08-23T00:00:00",
          "2020-08-30T00:00:00",
          "2020-09-06T00:00:00",
          "2020-09-13T00:00:00",
          "2020-09-20T00:00:00",
          "2020-09-27T00:00:00",
          "2020-10-04T00:00:00",
          "2020-10-11T00:00:00",
          "2020-10-18T00:00:00",
          "2020-10-25T00:00:00",
          "2020-11-01T00:00:00",
          "2020-11-08T00:00:00",
          "2020-11-15T00:00:00",
          "2020-11-22T00:00:00",
          "2020-11-29T00:00:00",
          "2020-12-06T00:00:00",
          "2020-12-13T00:00:00",
          "2020-12-20T00:00:00",
          "2020-12-27T00:00:00",
          "2021-01-03T00:00:00",
          "2021-01-10T00:00:00",
          "2021-01-17T00:00:00",
          "2021-01-24T00:00:00",
          "2021-01-31T00:00:00",
          "2021-02-07T00:00:00",
          "2021-02-14T00:00:00",
          "2021-02-21T00:00:00",
          "2021-02-28T00:00:00",
          "2021-03-07T00:00:00",
          "2021-03-14T00:00:00",
          "2021-03-21T00:00:00",
          "2021-03-28T00:00:00",
          "2021-04-04T00:00:00",
          "2021-04-11T00:00:00",
          "2021-04-18T00:00:00",
          "2021-04-25T00:00:00",
          "2021-05-02T00:00:00",
          "2021-05-09T00:00:00",
          "2021-05-16T00:00:00",
          "2021-05-23T00:00:00",
          "2021-05-30T00:00:00",
          "2021-06-06T00:00:00",
          "2021-06-13T00:00:00",
          "2021-06-20T00:00:00",
          "2021-06-27T00:00:00",
          "2021-07-04T00:00:00"
         ],
         "xaxis": "x",
         "y": [
          -2.207817026915883,
          9.80801262948831,
          5.362364988019226,
          9.199570393607482,
          1.1680987765777142,
          4.139293140604803,
          -0.5075885313681074,
          11.443932707838883,
          6.100526965707508,
          6.2492226011524625,
          6.531939657001944,
          2.5408771722175088,
          5.485386662550281,
          10.990172492080672,
          5.473285577445076,
          1.9642948696546332,
          3.5952158513281507,
          3.372211196495681,
          2.0199812855448833,
          11.275799778536909,
          10.145979230011132,
          8.85108311463424,
          4.511591710340208,
          9.560728402999377,
          13.477879129240106,
          17.726863161917155,
          6.337826294710656,
          10.844369884661106,
          12.055607633697829,
          4.056558784669307,
          4.671275705379626,
          8.906577040258567,
          4.127846952291112,
          6.398559765006207,
          -0.3102710810372182,
          6.428064938370046,
          3.8973477960400396,
          4.21261343326123,
          1.2894873171925225,
          2.1210390696394956,
          1.4298369901305596,
          5.0794685502597305,
          5.2435137336780056,
          3.827273568636381,
          0.7239134084288478,
          -2.350754458260861,
          0.596397385320103,
          5.377709354605739,
          2.2279906412050656,
          4.501495926134964,
          1.229955763868981,
          -0.5183050474463573,
          2.917265517053076,
          2.3106737133461706,
          -0.8213968391611759,
          2.003019823441759,
          1.8448669317888855,
          6.1589305657845745,
          2.9381257334877984,
          5.735795977361211,
          3.861374493097706,
          6.29128052015535,
          -2.1805985795179517,
          -5.017976548071558,
          -6.769568932805179,
          6.631768332184005,
          0.7310765409759462,
          3.990157959375572,
          0.061741816805632954,
          2.156866127925302,
          9.864718694960061,
          6.69808162465341,
          4.630988046224991,
          8.745039908341464,
          6.460375039439062,
          6.015377347845417,
          2.0250583573410728,
          0.24333040598840314,
          6.245065178882781,
          7.335759666560719,
          1.5697494463876116,
          7.621130255077424,
          6.016610867037119,
          6.269739425192239,
          8.82976728457259,
          2.1648381422077745,
          3.1754600487340636,
          6.2389729458844005,
          4.088556353017021,
          1.279288011139169,
          2.508764887741927,
          8.425621295779134,
          4.872453746960094,
          11.665675511437115,
          11.938085586291427,
          0.521574917788249,
          17.159163576021154,
          10.089492206676182,
          15.839292459742323,
          15.978801524029796,
          7.706881236122759,
          13.279693572859832,
          19.068146050179077,
          15.164696510005276,
          20.872147619305846,
          29.345286289706127,
          10.072464571292304,
          19.174535343533712,
          23.064710611520336,
          54.31050640997284,
          64.83897593398163,
          74.17229382374961,
          48.67475648732154,
          49.73888639432287,
          37.721736936812206,
          26.105096984582875,
          36.94249301800247,
          37.24698271972725,
          32.88147173026261,
          62.508578032026506,
          50.41766500574038,
          53.56651740545325,
          43.84037212924506,
          47.29663266776464,
          18.823361255287644,
          31.65202311875348,
          30.326931778307877,
          28.016426085789156,
          42.63497944629217,
          23.774759346418673,
          15.137805914354075
         ],
         "yaxis": "y2"
        }
       ],
       "layout": {
        "template": {
         "data": {
          "bar": [
           {
            "error_x": {
             "color": "#2a3f5f"
            },
            "error_y": {
             "color": "#2a3f5f"
            },
            "marker": {
             "line": {
              "color": "#E5ECF6",
              "width": 0.5
             }
            },
            "type": "bar"
           }
          ],
          "barpolar": [
           {
            "marker": {
             "line": {
              "color": "#E5ECF6",
              "width": 0.5
             }
            },
            "type": "barpolar"
           }
          ],
          "carpet": [
           {
            "aaxis": {
             "endlinecolor": "#2a3f5f",
             "gridcolor": "white",
             "linecolor": "white",
             "minorgridcolor": "white",
             "startlinecolor": "#2a3f5f"
            },
            "baxis": {
             "endlinecolor": "#2a3f5f",
             "gridcolor": "white",
             "linecolor": "white",
             "minorgridcolor": "white",
             "startlinecolor": "#2a3f5f"
            },
            "type": "carpet"
           }
          ],
          "choropleth": [
           {
            "colorbar": {
             "outlinewidth": 0,
             "ticks": ""
            },
            "type": "choropleth"
           }
          ],
          "contour": [
           {
            "colorbar": {
             "outlinewidth": 0,
             "ticks": ""
            },
            "colorscale": [
             [
              0,
              "#0d0887"
             ],
             [
              0.1111111111111111,
              "#46039f"
             ],
             [
              0.2222222222222222,
              "#7201a8"
             ],
             [
              0.3333333333333333,
              "#9c179e"
             ],
             [
              0.4444444444444444,
              "#bd3786"
             ],
             [
              0.5555555555555556,
              "#d8576b"
             ],
             [
              0.6666666666666666,
              "#ed7953"
             ],
             [
              0.7777777777777778,
              "#fb9f3a"
             ],
             [
              0.8888888888888888,
              "#fdca26"
             ],
             [
              1,
              "#f0f921"
             ]
            ],
            "type": "contour"
           }
          ],
          "contourcarpet": [
           {
            "colorbar": {
             "outlinewidth": 0,
             "ticks": ""
            },
            "type": "contourcarpet"
           }
          ],
          "heatmap": [
           {
            "colorbar": {
             "outlinewidth": 0,
             "ticks": ""
            },
            "colorscale": [
             [
              0,
              "#0d0887"
             ],
             [
              0.1111111111111111,
              "#46039f"
             ],
             [
              0.2222222222222222,
              "#7201a8"
             ],
             [
              0.3333333333333333,
              "#9c179e"
             ],
             [
              0.4444444444444444,
              "#bd3786"
             ],
             [
              0.5555555555555556,
              "#d8576b"
             ],
             [
              0.6666666666666666,
              "#ed7953"
             ],
             [
              0.7777777777777778,
              "#fb9f3a"
             ],
             [
              0.8888888888888888,
              "#fdca26"
             ],
             [
              1,
              "#f0f921"
             ]
            ],
            "type": "heatmap"
           }
          ],
          "heatmapgl": [
           {
            "colorbar": {
             "outlinewidth": 0,
             "ticks": ""
            },
            "colorscale": [
             [
              0,
              "#0d0887"
             ],
             [
              0.1111111111111111,
              "#46039f"
             ],
             [
              0.2222222222222222,
              "#7201a8"
             ],
             [
              0.3333333333333333,
              "#9c179e"
             ],
             [
              0.4444444444444444,
              "#bd3786"
             ],
             [
              0.5555555555555556,
              "#d8576b"
             ],
             [
              0.6666666666666666,
              "#ed7953"
             ],
             [
              0.7777777777777778,
              "#fb9f3a"
             ],
             [
              0.8888888888888888,
              "#fdca26"
             ],
             [
              1,
              "#f0f921"
             ]
            ],
            "type": "heatmapgl"
           }
          ],
          "histogram": [
           {
            "marker": {
             "colorbar": {
              "outlinewidth": 0,
              "ticks": ""
             }
            },
            "type": "histogram"
           }
          ],
          "histogram2d": [
           {
            "colorbar": {
             "outlinewidth": 0,
             "ticks": ""
            },
            "colorscale": [
             [
              0,
              "#0d0887"
             ],
             [
              0.1111111111111111,
              "#46039f"
             ],
             [
              0.2222222222222222,
              "#7201a8"
             ],
             [
              0.3333333333333333,
              "#9c179e"
             ],
             [
              0.4444444444444444,
              "#bd3786"
             ],
             [
              0.5555555555555556,
              "#d8576b"
             ],
             [
              0.6666666666666666,
              "#ed7953"
             ],
             [
              0.7777777777777778,
              "#fb9f3a"
             ],
             [
              0.8888888888888888,
              "#fdca26"
             ],
             [
              1,
              "#f0f921"
             ]
            ],
            "type": "histogram2d"
           }
          ],
          "histogram2dcontour": [
           {
            "colorbar": {
             "outlinewidth": 0,
             "ticks": ""
            },
            "colorscale": [
             [
              0,
              "#0d0887"
             ],
             [
              0.1111111111111111,
              "#46039f"
             ],
             [
              0.2222222222222222,
              "#7201a8"
             ],
             [
              0.3333333333333333,
              "#9c179e"
             ],
             [
              0.4444444444444444,
              "#bd3786"
             ],
             [
              0.5555555555555556,
              "#d8576b"
             ],
             [
              0.6666666666666666,
              "#ed7953"
             ],
             [
              0.7777777777777778,
              "#fb9f3a"
             ],
             [
              0.8888888888888888,
              "#fdca26"
             ],
             [
              1,
              "#f0f921"
             ]
            ],
            "type": "histogram2dcontour"
           }
          ],
          "mesh3d": [
           {
            "colorbar": {
             "outlinewidth": 0,
             "ticks": ""
            },
            "type": "mesh3d"
           }
          ],
          "parcoords": [
           {
            "line": {
             "colorbar": {
              "outlinewidth": 0,
              "ticks": ""
             }
            },
            "type": "parcoords"
           }
          ],
          "pie": [
           {
            "automargin": true,
            "type": "pie"
           }
          ],
          "scatter": [
           {
            "marker": {
             "colorbar": {
              "outlinewidth": 0,
              "ticks": ""
             }
            },
            "type": "scatter"
           }
          ],
          "scatter3d": [
           {
            "line": {
             "colorbar": {
              "outlinewidth": 0,
              "ticks": ""
             }
            },
            "marker": {
             "colorbar": {
              "outlinewidth": 0,
              "ticks": ""
             }
            },
            "type": "scatter3d"
           }
          ],
          "scattercarpet": [
           {
            "marker": {
             "colorbar": {
              "outlinewidth": 0,
              "ticks": ""
             }
            },
            "type": "scattercarpet"
           }
          ],
          "scattergeo": [
           {
            "marker": {
             "colorbar": {
              "outlinewidth": 0,
              "ticks": ""
             }
            },
            "type": "scattergeo"
           }
          ],
          "scattergl": [
           {
            "marker": {
             "colorbar": {
              "outlinewidth": 0,
              "ticks": ""
             }
            },
            "type": "scattergl"
           }
          ],
          "scattermapbox": [
           {
            "marker": {
             "colorbar": {
              "outlinewidth": 0,
              "ticks": ""
             }
            },
            "type": "scattermapbox"
           }
          ],
          "scatterpolar": [
           {
            "marker": {
             "colorbar": {
              "outlinewidth": 0,
              "ticks": ""
             }
            },
            "type": "scatterpolar"
           }
          ],
          "scatterpolargl": [
           {
            "marker": {
             "colorbar": {
              "outlinewidth": 0,
              "ticks": ""
             }
            },
            "type": "scatterpolargl"
           }
          ],
          "scatterternary": [
           {
            "marker": {
             "colorbar": {
              "outlinewidth": 0,
              "ticks": ""
             }
            },
            "type": "scatterternary"
           }
          ],
          "surface": [
           {
            "colorbar": {
             "outlinewidth": 0,
             "ticks": ""
            },
            "colorscale": [
             [
              0,
              "#0d0887"
             ],
             [
              0.1111111111111111,
              "#46039f"
             ],
             [
              0.2222222222222222,
              "#7201a8"
             ],
             [
              0.3333333333333333,
              "#9c179e"
             ],
             [
              0.4444444444444444,
              "#bd3786"
             ],
             [
              0.5555555555555556,
              "#d8576b"
             ],
             [
              0.6666666666666666,
              "#ed7953"
             ],
             [
              0.7777777777777778,
              "#fb9f3a"
             ],
             [
              0.8888888888888888,
              "#fdca26"
             ],
             [
              1,
              "#f0f921"
             ]
            ],
            "type": "surface"
           }
          ],
          "table": [
           {
            "cells": {
             "fill": {
              "color": "#EBF0F8"
             },
             "line": {
              "color": "white"
             }
            },
            "header": {
             "fill": {
              "color": "#C8D4E3"
             },
             "line": {
              "color": "white"
             }
            },
            "type": "table"
           }
          ]
         },
         "layout": {
          "annotationdefaults": {
           "arrowcolor": "#2a3f5f",
           "arrowhead": 0,
           "arrowwidth": 1
          },
          "coloraxis": {
           "colorbar": {
            "outlinewidth": 0,
            "ticks": ""
           }
          },
          "colorscale": {
           "diverging": [
            [
             0,
             "#8e0152"
            ],
            [
             0.1,
             "#c51b7d"
            ],
            [
             0.2,
             "#de77ae"
            ],
            [
             0.3,
             "#f1b6da"
            ],
            [
             0.4,
             "#fde0ef"
            ],
            [
             0.5,
             "#f7f7f7"
            ],
            [
             0.6,
             "#e6f5d0"
            ],
            [
             0.7,
             "#b8e186"
            ],
            [
             0.8,
             "#7fbc41"
            ],
            [
             0.9,
             "#4d9221"
            ],
            [
             1,
             "#276419"
            ]
           ],
           "sequential": [
            [
             0,
             "#0d0887"
            ],
            [
             0.1111111111111111,
             "#46039f"
            ],
            [
             0.2222222222222222,
             "#7201a8"
            ],
            [
             0.3333333333333333,
             "#9c179e"
            ],
            [
             0.4444444444444444,
             "#bd3786"
            ],
            [
             0.5555555555555556,
             "#d8576b"
            ],
            [
             0.6666666666666666,
             "#ed7953"
            ],
            [
             0.7777777777777778,
             "#fb9f3a"
            ],
            [
             0.8888888888888888,
             "#fdca26"
            ],
            [
             1,
             "#f0f921"
            ]
           ],
           "sequentialminus": [
            [
             0,
             "#0d0887"
            ],
            [
             0.1111111111111111,
             "#46039f"
            ],
            [
             0.2222222222222222,
             "#7201a8"
            ],
            [
             0.3333333333333333,
             "#9c179e"
            ],
            [
             0.4444444444444444,
             "#bd3786"
            ],
            [
             0.5555555555555556,
             "#d8576b"
            ],
            [
             0.6666666666666666,
             "#ed7953"
            ],
            [
             0.7777777777777778,
             "#fb9f3a"
            ],
            [
             0.8888888888888888,
             "#fdca26"
            ],
            [
             1,
             "#f0f921"
            ]
           ]
          },
          "colorway": [
           "#636efa",
           "#EF553B",
           "#00cc96",
           "#ab63fa",
           "#FFA15A",
           "#19d3f3",
           "#FF6692",
           "#B6E880",
           "#FF97FF",
           "#FECB52"
          ],
          "font": {
           "color": "#2a3f5f"
          },
          "geo": {
           "bgcolor": "white",
           "lakecolor": "white",
           "landcolor": "#E5ECF6",
           "showlakes": true,
           "showland": true,
           "subunitcolor": "white"
          },
          "hoverlabel": {
           "align": "left"
          },
          "hovermode": "closest",
          "mapbox": {
           "style": "light"
          },
          "paper_bgcolor": "white",
          "plot_bgcolor": "#E5ECF6",
          "polar": {
           "angularaxis": {
            "gridcolor": "white",
            "linecolor": "white",
            "ticks": ""
           },
           "bgcolor": "#E5ECF6",
           "radialaxis": {
            "gridcolor": "white",
            "linecolor": "white",
            "ticks": ""
           }
          },
          "scene": {
           "xaxis": {
            "backgroundcolor": "#E5ECF6",
            "gridcolor": "white",
            "gridwidth": 2,
            "linecolor": "white",
            "showbackground": true,
            "ticks": "",
            "zerolinecolor": "white"
           },
           "yaxis": {
            "backgroundcolor": "#E5ECF6",
            "gridcolor": "white",
            "gridwidth": 2,
            "linecolor": "white",
            "showbackground": true,
            "ticks": "",
            "zerolinecolor": "white"
           },
           "zaxis": {
            "backgroundcolor": "#E5ECF6",
            "gridcolor": "white",
            "gridwidth": 2,
            "linecolor": "white",
            "showbackground": true,
            "ticks": "",
            "zerolinecolor": "white"
           }
          },
          "shapedefaults": {
           "line": {
            "color": "#2a3f5f"
           }
          },
          "ternary": {
           "aaxis": {
            "gridcolor": "white",
            "linecolor": "white",
            "ticks": ""
           },
           "baxis": {
            "gridcolor": "white",
            "linecolor": "white",
            "ticks": ""
           },
           "bgcolor": "#E5ECF6",
           "caxis": {
            "gridcolor": "white",
            "linecolor": "white",
            "ticks": ""
           }
          },
          "title": {
           "x": 0.05
          },
          "xaxis": {
           "automargin": true,
           "gridcolor": "white",
           "linecolor": "white",
           "ticks": "",
           "title": {
            "standoff": 15
           },
           "zerolinecolor": "white",
           "zerolinewidth": 2
          },
          "yaxis": {
           "automargin": true,
           "gridcolor": "white",
           "linecolor": "white",
           "ticks": "",
           "title": {
            "standoff": 15
           },
           "zerolinecolor": "white",
           "zerolinewidth": 2
          }
         }
        },
        "title": {
         "text": "BTC vs LR Sentiment Model - Weekly"
        },
        "xaxis": {
         "anchor": "y",
         "domain": [
          0,
          0.94
         ],
         "title": {
          "text": "Date"
         }
        },
        "yaxis": {
         "anchor": "x",
         "domain": [
          0,
          1
         ],
         "title": {
          "text": "<b>Sentiment Polarity </b>"
         }
        },
        "yaxis2": {
         "anchor": "x",
         "overlaying": "y",
         "side": "right",
         "title": {
          "text": "<b>BTC Price</b>"
         }
        }
       }
      },
      "text/html": [
       "<div>                            <div id=\"57a2b867-415c-4c9b-bd5c-1e419338ed55\" class=\"plotly-graph-div\" style=\"height:525px; width:100%;\"></div>            <script type=\"text/javascript\">                require([\"plotly\"], function(Plotly) {                    window.PLOTLYENV=window.PLOTLYENV || {};                                    if (document.getElementById(\"57a2b867-415c-4c9b-bd5c-1e419338ed55\")) {                    Plotly.newPlot(                        \"57a2b867-415c-4c9b-bd5c-1e419338ed55\",                        [{\"name\": \"LR-Model\", \"type\": \"scatter\", \"x\": [\"2019-01-06T00:00:00\", \"2019-01-13T00:00:00\", \"2019-01-20T00:00:00\", \"2019-01-27T00:00:00\", \"2019-02-03T00:00:00\", \"2019-02-10T00:00:00\", \"2019-02-17T00:00:00\", \"2019-02-24T00:00:00\", \"2019-03-03T00:00:00\", \"2019-03-10T00:00:00\", \"2019-03-17T00:00:00\", \"2019-03-24T00:00:00\", \"2019-03-31T00:00:00\", \"2019-04-07T00:00:00\", \"2019-04-14T00:00:00\", \"2019-04-21T00:00:00\", \"2019-04-28T00:00:00\", \"2019-05-05T00:00:00\", \"2019-05-12T00:00:00\", \"2019-05-19T00:00:00\", \"2019-05-26T00:00:00\", \"2019-06-02T00:00:00\", \"2019-06-09T00:00:00\", \"2019-06-16T00:00:00\", \"2019-06-23T00:00:00\", \"2019-06-30T00:00:00\", \"2019-07-07T00:00:00\", \"2019-07-14T00:00:00\", \"2019-07-21T00:00:00\", \"2019-07-28T00:00:00\", \"2019-08-04T00:00:00\", \"2019-08-11T00:00:00\", \"2019-08-18T00:00:00\", \"2019-08-25T00:00:00\", \"2019-09-01T00:00:00\", \"2019-09-08T00:00:00\", \"2019-09-15T00:00:00\", \"2019-09-22T00:00:00\", \"2019-09-29T00:00:00\", \"2019-10-06T00:00:00\", \"2019-10-13T00:00:00\", \"2019-10-20T00:00:00\", \"2019-10-27T00:00:00\", \"2019-11-03T00:00:00\", \"2019-11-10T00:00:00\", \"2019-11-17T00:00:00\", \"2019-11-24T00:00:00\", \"2019-12-01T00:00:00\", \"2019-12-08T00:00:00\", \"2019-12-15T00:00:00\", \"2019-12-22T00:00:00\", \"2019-12-29T00:00:00\", \"2020-01-05T00:00:00\", \"2020-01-12T00:00:00\", \"2020-01-19T00:00:00\", \"2020-01-26T00:00:00\", \"2020-02-02T00:00:00\", \"2020-02-09T00:00:00\", \"2020-02-16T00:00:00\", \"2020-02-23T00:00:00\", \"2020-03-01T00:00:00\", \"2020-03-08T00:00:00\", \"2020-03-15T00:00:00\", \"2020-03-22T00:00:00\", \"2020-03-29T00:00:00\", \"2020-04-05T00:00:00\", \"2020-04-12T00:00:00\", \"2020-04-19T00:00:00\", \"2020-04-26T00:00:00\", \"2020-05-03T00:00:00\", \"2020-05-10T00:00:00\", \"2020-05-17T00:00:00\", \"2020-05-24T00:00:00\", \"2020-05-31T00:00:00\", \"2020-06-07T00:00:00\", \"2020-06-14T00:00:00\", \"2020-06-21T00:00:00\", \"2020-06-28T00:00:00\", \"2020-07-05T00:00:00\", \"2020-07-12T00:00:00\", \"2020-07-19T00:00:00\", \"2020-07-26T00:00:00\", \"2020-08-02T00:00:00\", \"2020-08-09T00:00:00\", \"2020-08-16T00:00:00\", \"2020-08-23T00:00:00\", \"2020-08-30T00:00:00\", \"2020-09-06T00:00:00\", \"2020-09-13T00:00:00\", \"2020-09-20T00:00:00\", \"2020-09-27T00:00:00\", \"2020-10-04T00:00:00\", \"2020-10-11T00:00:00\", \"2020-10-18T00:00:00\", \"2020-10-25T00:00:00\", \"2020-11-01T00:00:00\", \"2020-11-08T00:00:00\", \"2020-11-15T00:00:00\", \"2020-11-22T00:00:00\", \"2020-11-29T00:00:00\", \"2020-12-06T00:00:00\", \"2020-12-13T00:00:00\", \"2020-12-20T00:00:00\", \"2020-12-27T00:00:00\", \"2021-01-03T00:00:00\", \"2021-01-10T00:00:00\", \"2021-01-17T00:00:00\", \"2021-01-24T00:00:00\", \"2021-01-31T00:00:00\", \"2021-02-07T00:00:00\", \"2021-02-14T00:00:00\", \"2021-02-21T00:00:00\", \"2021-02-28T00:00:00\", \"2021-03-07T00:00:00\", \"2021-03-14T00:00:00\", \"2021-03-21T00:00:00\", \"2021-03-28T00:00:00\", \"2021-04-04T00:00:00\", \"2021-04-11T00:00:00\", \"2021-04-18T00:00:00\", \"2021-04-25T00:00:00\", \"2021-05-02T00:00:00\", \"2021-05-09T00:00:00\", \"2021-05-16T00:00:00\", \"2021-05-23T00:00:00\", \"2021-05-30T00:00:00\", \"2021-06-06T00:00:00\", \"2021-06-13T00:00:00\", \"2021-06-20T00:00:00\", \"2021-06-27T00:00:00\"], \"xaxis\": \"x\", \"y\": [null, -1.3026416728571348, -191.68058162142825, -69.39728495999952, -117.44688860500037, 43.857065525714006, 121.56805073142868, 322.10176574642855, -103.04428661500015, 29.56457524642883, 58.830517980714376, 93.12962941714295, 15.015368372856756, 789.6541524921431, 323.78684869142853, 73.14813983428576, 126.9233299771422, 145.0228677192863, 752.3619960528567, 1465.1400091864289, 233.17101791500045, 656.1147303185708, -680.8571992364277, 371.90992284785625, 1449.5949529585723, 1956.006841307857, -614.7579767942862, 639.0884236442853, -1429.2173521192854, -419.85038844500014, 280.3957474828567, 1475.9426097385713, -1104.5027549021434, -199.97984476071179, -493.19244912428803, 618.962922587858, -198.99229530714183, -109.90749741714353, -1566.642031084286, -391.69812002785693, 161.86349575714303, -231.1694391378578, 229.97752156785737, 940.4065485342853, -138.28067601928524, -457.4720134449999, -920.9515899300004, -390.3901693592852, 44.14636191642785, -183.67108937142802, -170.8748804878569, 267.3141230399997, -83.14245084499998, 710.1946525328567, 699.7812909450013, -145.8363947828584, 712.2975237721421, 361.79064469714467, 495.7601963721427, -364.1194394428585, -744.9513543121429, -155.95792868928402, -2277.496811866429, -886.9916420549998, 765.370654083571, 174.8740063821433, 482.3673837428569, -124.29503701499925, 300.1899638814284, 1237.1375589128556, 792.4491304664298, -83.2760826335707, 153.82070129714157, -139.89093303214213, 476.85008628499963, -117.23274360071446, -223.59470292642982, -61.26702599428427, -172.1223524950001, 130.9061286092856, -81.3665502749991, 302.07541047142877, 1634.7199728171418, 404.05646626071393, 191.18466334285768, 112.21374540714169, -325.29235034999874, -526.9282754849992, -692.3948451114284, 575.9206735178577, -272.5283629742862, 86.06360614357072, 227.55460594214128, 508.8757331285724, 1149.6656949807148, 864.4629088628571, 1117.6809360628577, 1219.2379391078575, 1990.1922684378533, 241.6929595407164, 1038.1266441757143, -468.078281512142, 3037.663419432145, 2640.981502266426, 4897.984271074289, 7320.257662509281, -484.6669354778569, -2162.7147065899917, -864.1862124328618, 3846.2479046549997, 9440.12822932857, 5978.981237594286, -3657.043785389287, 375.3410973321443, 7058.752674845004, 1387.4714405635677, -2707.118224949285, 3814.9927989842836, 38.9338115878636, 2723.9517058892816, -8658.665543938572, 2412.9457008614263, 1896.8451355157158, -5349.324644239998, -12392.45653896714, -1909.0712911328592, -407.9538302521396, -1161.3265559542924, 2216.9089038578604, -5062.872122392146], \"yaxis\": \"y\"}, {\"name\": \"Bit Coin Avg\", \"type\": \"scatter\", \"x\": [\"2019-01-06T00:00:00\", \"2019-01-13T00:00:00\", \"2019-01-20T00:00:00\", \"2019-01-27T00:00:00\", \"2019-02-03T00:00:00\", \"2019-02-10T00:00:00\", \"2019-02-17T00:00:00\", \"2019-02-24T00:00:00\", \"2019-03-03T00:00:00\", \"2019-03-10T00:00:00\", \"2019-03-17T00:00:00\", \"2019-03-24T00:00:00\", \"2019-03-31T00:00:00\", \"2019-04-07T00:00:00\", \"2019-04-14T00:00:00\", \"2019-04-21T00:00:00\", \"2019-04-28T00:00:00\", \"2019-05-05T00:00:00\", \"2019-05-12T00:00:00\", \"2019-05-19T00:00:00\", \"2019-05-26T00:00:00\", \"2019-06-02T00:00:00\", \"2019-06-09T00:00:00\", \"2019-06-16T00:00:00\", \"2019-06-23T00:00:00\", \"2019-06-30T00:00:00\", \"2019-07-07T00:00:00\", \"2019-07-14T00:00:00\", \"2019-07-21T00:00:00\", \"2019-07-28T00:00:00\", \"2019-08-04T00:00:00\", \"2019-08-11T00:00:00\", \"2019-08-18T00:00:00\", \"2019-08-25T00:00:00\", \"2019-09-01T00:00:00\", \"2019-09-08T00:00:00\", \"2019-09-15T00:00:00\", \"2019-09-22T00:00:00\", \"2019-09-29T00:00:00\", \"2019-10-06T00:00:00\", \"2019-10-13T00:00:00\", \"2019-10-20T00:00:00\", \"2019-10-27T00:00:00\", \"2019-11-03T00:00:00\", \"2019-11-10T00:00:00\", \"2019-11-17T00:00:00\", \"2019-11-24T00:00:00\", \"2019-12-01T00:00:00\", \"2019-12-08T00:00:00\", \"2019-12-15T00:00:00\", \"2019-12-22T00:00:00\", \"2019-12-29T00:00:00\", \"2020-01-05T00:00:00\", \"2020-01-12T00:00:00\", \"2020-01-19T00:00:00\", \"2020-01-26T00:00:00\", \"2020-02-02T00:00:00\", \"2020-02-09T00:00:00\", \"2020-02-16T00:00:00\", \"2020-02-23T00:00:00\", \"2020-03-01T00:00:00\", \"2020-03-08T00:00:00\", \"2020-03-15T00:00:00\", \"2020-03-22T00:00:00\", \"2020-03-29T00:00:00\", \"2020-04-05T00:00:00\", \"2020-04-12T00:00:00\", \"2020-04-19T00:00:00\", \"2020-04-26T00:00:00\", \"2020-05-03T00:00:00\", \"2020-05-10T00:00:00\", \"2020-05-17T00:00:00\", \"2020-05-24T00:00:00\", \"2020-05-31T00:00:00\", \"2020-06-07T00:00:00\", \"2020-06-14T00:00:00\", \"2020-06-21T00:00:00\", \"2020-06-28T00:00:00\", \"2020-07-05T00:00:00\", \"2020-07-12T00:00:00\", \"2020-07-19T00:00:00\", \"2020-07-26T00:00:00\", \"2020-08-02T00:00:00\", \"2020-08-09T00:00:00\", \"2020-08-16T00:00:00\", \"2020-08-23T00:00:00\", \"2020-08-30T00:00:00\", \"2020-09-06T00:00:00\", \"2020-09-13T00:00:00\", \"2020-09-20T00:00:00\", \"2020-09-27T00:00:00\", \"2020-10-04T00:00:00\", \"2020-10-11T00:00:00\", \"2020-10-18T00:00:00\", \"2020-10-25T00:00:00\", \"2020-11-01T00:00:00\", \"2020-11-08T00:00:00\", \"2020-11-15T00:00:00\", \"2020-11-22T00:00:00\", \"2020-11-29T00:00:00\", \"2020-12-06T00:00:00\", \"2020-12-13T00:00:00\", \"2020-12-20T00:00:00\", \"2020-12-27T00:00:00\", \"2021-01-03T00:00:00\", \"2021-01-10T00:00:00\", \"2021-01-17T00:00:00\", \"2021-01-24T00:00:00\", \"2021-01-31T00:00:00\", \"2021-02-07T00:00:00\", \"2021-02-14T00:00:00\", \"2021-02-21T00:00:00\", \"2021-02-28T00:00:00\", \"2021-03-07T00:00:00\", \"2021-03-14T00:00:00\", \"2021-03-21T00:00:00\", \"2021-03-28T00:00:00\", \"2021-04-04T00:00:00\", \"2021-04-11T00:00:00\", \"2021-04-18T00:00:00\", \"2021-04-25T00:00:00\", \"2021-05-02T00:00:00\", \"2021-05-09T00:00:00\", \"2021-05-16T00:00:00\", \"2021-05-23T00:00:00\", \"2021-05-30T00:00:00\", \"2021-06-06T00:00:00\", \"2021-06-13T00:00:00\", \"2021-06-20T00:00:00\", \"2021-06-27T00:00:00\", \"2021-07-04T00:00:00\"], \"xaxis\": \"x\", \"y\": [-2.207817026915883, 9.80801262948831, 5.362364988019226, 9.199570393607482, 1.1680987765777142, 4.139293140604803, -0.5075885313681074, 11.443932707838883, 6.100526965707508, 6.2492226011524625, 6.531939657001944, 2.5408771722175088, 5.485386662550281, 10.990172492080672, 5.473285577445076, 1.9642948696546332, 3.5952158513281507, 3.372211196495681, 2.0199812855448833, 11.275799778536909, 10.145979230011132, 8.85108311463424, 4.511591710340208, 9.560728402999377, 13.477879129240106, 17.726863161917155, 6.337826294710656, 10.844369884661106, 12.055607633697829, 4.056558784669307, 4.671275705379626, 8.906577040258567, 4.127846952291112, 6.398559765006207, -0.3102710810372182, 6.428064938370046, 3.8973477960400396, 4.21261343326123, 1.2894873171925225, 2.1210390696394956, 1.4298369901305596, 5.0794685502597305, 5.2435137336780056, 3.827273568636381, 0.7239134084288478, -2.350754458260861, 0.596397385320103, 5.377709354605739, 2.2279906412050656, 4.501495926134964, 1.229955763868981, -0.5183050474463573, 2.917265517053076, 2.3106737133461706, -0.8213968391611759, 2.003019823441759, 1.8448669317888855, 6.1589305657845745, 2.9381257334877984, 5.735795977361211, 3.861374493097706, 6.29128052015535, -2.1805985795179517, -5.017976548071558, -6.769568932805179, 6.631768332184005, 0.7310765409759462, 3.990157959375572, 0.061741816805632954, 2.156866127925302, 9.864718694960061, 6.69808162465341, 4.630988046224991, 8.745039908341464, 6.460375039439062, 6.015377347845417, 2.0250583573410728, 0.24333040598840314, 6.245065178882781, 7.335759666560719, 1.5697494463876116, 7.621130255077424, 6.016610867037119, 6.269739425192239, 8.82976728457259, 2.1648381422077745, 3.1754600487340636, 6.2389729458844005, 4.088556353017021, 1.279288011139169, 2.508764887741927, 8.425621295779134, 4.872453746960094, 11.665675511437115, 11.938085586291427, 0.521574917788249, 17.159163576021154, 10.089492206676182, 15.839292459742323, 15.978801524029796, 7.706881236122759, 13.279693572859832, 19.068146050179077, 15.164696510005276, 20.872147619305846, 29.345286289706127, 10.072464571292304, 19.174535343533712, 23.064710611520336, 54.31050640997284, 64.83897593398163, 74.17229382374961, 48.67475648732154, 49.73888639432287, 37.721736936812206, 26.105096984582875, 36.94249301800247, 37.24698271972725, 32.88147173026261, 62.508578032026506, 50.41766500574038, 53.56651740545325, 43.84037212924506, 47.29663266776464, 18.823361255287644, 31.65202311875348, 30.326931778307877, 28.016426085789156, 42.63497944629217, 23.774759346418673, 15.137805914354075], \"yaxis\": \"y2\"}],                        {\"template\": {\"data\": {\"bar\": [{\"error_x\": {\"color\": \"#2a3f5f\"}, \"error_y\": {\"color\": \"#2a3f5f\"}, \"marker\": {\"line\": {\"color\": \"#E5ECF6\", \"width\": 0.5}}, \"type\": \"bar\"}], \"barpolar\": [{\"marker\": {\"line\": {\"color\": \"#E5ECF6\", \"width\": 0.5}}, \"type\": \"barpolar\"}], \"carpet\": [{\"aaxis\": {\"endlinecolor\": \"#2a3f5f\", \"gridcolor\": \"white\", \"linecolor\": \"white\", \"minorgridcolor\": \"white\", \"startlinecolor\": \"#2a3f5f\"}, \"baxis\": {\"endlinecolor\": \"#2a3f5f\", \"gridcolor\": \"white\", \"linecolor\": \"white\", \"minorgridcolor\": \"white\", \"startlinecolor\": \"#2a3f5f\"}, \"type\": \"carpet\"}], \"choropleth\": [{\"colorbar\": {\"outlinewidth\": 0, \"ticks\": \"\"}, \"type\": \"choropleth\"}], \"contour\": [{\"colorbar\": {\"outlinewidth\": 0, \"ticks\": \"\"}, \"colorscale\": [[0.0, \"#0d0887\"], [0.1111111111111111, \"#46039f\"], [0.2222222222222222, \"#7201a8\"], [0.3333333333333333, \"#9c179e\"], [0.4444444444444444, \"#bd3786\"], [0.5555555555555556, \"#d8576b\"], [0.6666666666666666, \"#ed7953\"], [0.7777777777777778, \"#fb9f3a\"], [0.8888888888888888, \"#fdca26\"], [1.0, \"#f0f921\"]], \"type\": \"contour\"}], \"contourcarpet\": [{\"colorbar\": {\"outlinewidth\": 0, \"ticks\": \"\"}, \"type\": \"contourcarpet\"}], \"heatmap\": [{\"colorbar\": {\"outlinewidth\": 0, \"ticks\": \"\"}, \"colorscale\": [[0.0, \"#0d0887\"], [0.1111111111111111, \"#46039f\"], [0.2222222222222222, \"#7201a8\"], [0.3333333333333333, \"#9c179e\"], [0.4444444444444444, \"#bd3786\"], [0.5555555555555556, \"#d8576b\"], [0.6666666666666666, \"#ed7953\"], [0.7777777777777778, \"#fb9f3a\"], [0.8888888888888888, \"#fdca26\"], [1.0, \"#f0f921\"]], \"type\": \"heatmap\"}], \"heatmapgl\": [{\"colorbar\": {\"outlinewidth\": 0, \"ticks\": \"\"}, \"colorscale\": [[0.0, \"#0d0887\"], [0.1111111111111111, \"#46039f\"], [0.2222222222222222, \"#7201a8\"], [0.3333333333333333, \"#9c179e\"], [0.4444444444444444, \"#bd3786\"], [0.5555555555555556, \"#d8576b\"], [0.6666666666666666, \"#ed7953\"], [0.7777777777777778, \"#fb9f3a\"], [0.8888888888888888, \"#fdca26\"], [1.0, \"#f0f921\"]], \"type\": \"heatmapgl\"}], \"histogram\": [{\"marker\": {\"colorbar\": {\"outlinewidth\": 0, \"ticks\": \"\"}}, \"type\": \"histogram\"}], \"histogram2d\": [{\"colorbar\": {\"outlinewidth\": 0, \"ticks\": \"\"}, \"colorscale\": [[0.0, \"#0d0887\"], [0.1111111111111111, \"#46039f\"], [0.2222222222222222, \"#7201a8\"], [0.3333333333333333, \"#9c179e\"], [0.4444444444444444, \"#bd3786\"], [0.5555555555555556, \"#d8576b\"], [0.6666666666666666, \"#ed7953\"], [0.7777777777777778, \"#fb9f3a\"], [0.8888888888888888, \"#fdca26\"], [1.0, \"#f0f921\"]], \"type\": \"histogram2d\"}], \"histogram2dcontour\": [{\"colorbar\": {\"outlinewidth\": 0, \"ticks\": \"\"}, \"colorscale\": [[0.0, \"#0d0887\"], [0.1111111111111111, \"#46039f\"], [0.2222222222222222, \"#7201a8\"], [0.3333333333333333, \"#9c179e\"], [0.4444444444444444, \"#bd3786\"], [0.5555555555555556, \"#d8576b\"], [0.6666666666666666, \"#ed7953\"], [0.7777777777777778, \"#fb9f3a\"], [0.8888888888888888, \"#fdca26\"], [1.0, \"#f0f921\"]], \"type\": \"histogram2dcontour\"}], \"mesh3d\": [{\"colorbar\": {\"outlinewidth\": 0, \"ticks\": \"\"}, \"type\": \"mesh3d\"}], \"parcoords\": [{\"line\": {\"colorbar\": {\"outlinewidth\": 0, \"ticks\": \"\"}}, \"type\": \"parcoords\"}], \"pie\": [{\"automargin\": true, \"type\": \"pie\"}], \"scatter\": [{\"marker\": {\"colorbar\": {\"outlinewidth\": 0, \"ticks\": \"\"}}, \"type\": \"scatter\"}], \"scatter3d\": [{\"line\": {\"colorbar\": {\"outlinewidth\": 0, \"ticks\": \"\"}}, \"marker\": {\"colorbar\": {\"outlinewidth\": 0, \"ticks\": \"\"}}, \"type\": \"scatter3d\"}], \"scattercarpet\": [{\"marker\": {\"colorbar\": {\"outlinewidth\": 0, \"ticks\": \"\"}}, \"type\": \"scattercarpet\"}], \"scattergeo\": [{\"marker\": {\"colorbar\": {\"outlinewidth\": 0, \"ticks\": \"\"}}, \"type\": \"scattergeo\"}], \"scattergl\": [{\"marker\": {\"colorbar\": {\"outlinewidth\": 0, \"ticks\": \"\"}}, \"type\": \"scattergl\"}], \"scattermapbox\": [{\"marker\": {\"colorbar\": {\"outlinewidth\": 0, \"ticks\": \"\"}}, \"type\": \"scattermapbox\"}], \"scatterpolar\": [{\"marker\": {\"colorbar\": {\"outlinewidth\": 0, \"ticks\": \"\"}}, \"type\": \"scatterpolar\"}], \"scatterpolargl\": [{\"marker\": {\"colorbar\": {\"outlinewidth\": 0, \"ticks\": \"\"}}, \"type\": \"scatterpolargl\"}], \"scatterternary\": [{\"marker\": {\"colorbar\": {\"outlinewidth\": 0, \"ticks\": \"\"}}, \"type\": \"scatterternary\"}], \"surface\": [{\"colorbar\": {\"outlinewidth\": 0, \"ticks\": \"\"}, \"colorscale\": [[0.0, \"#0d0887\"], [0.1111111111111111, \"#46039f\"], [0.2222222222222222, \"#7201a8\"], [0.3333333333333333, \"#9c179e\"], [0.4444444444444444, \"#bd3786\"], [0.5555555555555556, \"#d8576b\"], [0.6666666666666666, \"#ed7953\"], [0.7777777777777778, \"#fb9f3a\"], [0.8888888888888888, \"#fdca26\"], [1.0, \"#f0f921\"]], \"type\": \"surface\"}], \"table\": [{\"cells\": {\"fill\": {\"color\": \"#EBF0F8\"}, \"line\": {\"color\": \"white\"}}, \"header\": {\"fill\": {\"color\": \"#C8D4E3\"}, \"line\": {\"color\": \"white\"}}, \"type\": \"table\"}]}, \"layout\": {\"annotationdefaults\": {\"arrowcolor\": \"#2a3f5f\", \"arrowhead\": 0, \"arrowwidth\": 1}, \"coloraxis\": {\"colorbar\": {\"outlinewidth\": 0, \"ticks\": \"\"}}, \"colorscale\": {\"diverging\": [[0, \"#8e0152\"], [0.1, \"#c51b7d\"], [0.2, \"#de77ae\"], [0.3, \"#f1b6da\"], [0.4, \"#fde0ef\"], [0.5, \"#f7f7f7\"], [0.6, \"#e6f5d0\"], [0.7, \"#b8e186\"], [0.8, \"#7fbc41\"], [0.9, \"#4d9221\"], [1, \"#276419\"]], \"sequential\": [[0.0, \"#0d0887\"], [0.1111111111111111, \"#46039f\"], [0.2222222222222222, \"#7201a8\"], [0.3333333333333333, \"#9c179e\"], [0.4444444444444444, \"#bd3786\"], [0.5555555555555556, \"#d8576b\"], [0.6666666666666666, \"#ed7953\"], [0.7777777777777778, \"#fb9f3a\"], [0.8888888888888888, \"#fdca26\"], [1.0, \"#f0f921\"]], \"sequentialminus\": [[0.0, \"#0d0887\"], [0.1111111111111111, \"#46039f\"], [0.2222222222222222, \"#7201a8\"], [0.3333333333333333, \"#9c179e\"], [0.4444444444444444, \"#bd3786\"], [0.5555555555555556, \"#d8576b\"], [0.6666666666666666, \"#ed7953\"], [0.7777777777777778, \"#fb9f3a\"], [0.8888888888888888, \"#fdca26\"], [1.0, \"#f0f921\"]]}, \"colorway\": [\"#636efa\", \"#EF553B\", \"#00cc96\", \"#ab63fa\", \"#FFA15A\", \"#19d3f3\", \"#FF6692\", \"#B6E880\", \"#FF97FF\", \"#FECB52\"], \"font\": {\"color\": \"#2a3f5f\"}, \"geo\": {\"bgcolor\": \"white\", \"lakecolor\": \"white\", \"landcolor\": \"#E5ECF6\", \"showlakes\": true, \"showland\": true, \"subunitcolor\": \"white\"}, \"hoverlabel\": {\"align\": \"left\"}, \"hovermode\": \"closest\", \"mapbox\": {\"style\": \"light\"}, \"paper_bgcolor\": \"white\", \"plot_bgcolor\": \"#E5ECF6\", \"polar\": {\"angularaxis\": {\"gridcolor\": \"white\", \"linecolor\": \"white\", \"ticks\": \"\"}, \"bgcolor\": \"#E5ECF6\", \"radialaxis\": {\"gridcolor\": \"white\", \"linecolor\": \"white\", \"ticks\": \"\"}}, \"scene\": {\"xaxis\": {\"backgroundcolor\": \"#E5ECF6\", \"gridcolor\": \"white\", \"gridwidth\": 2, \"linecolor\": \"white\", \"showbackground\": true, \"ticks\": \"\", \"zerolinecolor\": \"white\"}, \"yaxis\": {\"backgroundcolor\": \"#E5ECF6\", \"gridcolor\": \"white\", \"gridwidth\": 2, \"linecolor\": \"white\", \"showbackground\": true, \"ticks\": \"\", \"zerolinecolor\": \"white\"}, \"zaxis\": {\"backgroundcolor\": \"#E5ECF6\", \"gridcolor\": \"white\", \"gridwidth\": 2, \"linecolor\": \"white\", \"showbackground\": true, \"ticks\": \"\", \"zerolinecolor\": \"white\"}}, \"shapedefaults\": {\"line\": {\"color\": \"#2a3f5f\"}}, \"ternary\": {\"aaxis\": {\"gridcolor\": \"white\", \"linecolor\": \"white\", \"ticks\": \"\"}, \"baxis\": {\"gridcolor\": \"white\", \"linecolor\": \"white\", \"ticks\": \"\"}, \"bgcolor\": \"#E5ECF6\", \"caxis\": {\"gridcolor\": \"white\", \"linecolor\": \"white\", \"ticks\": \"\"}}, \"title\": {\"x\": 0.05}, \"xaxis\": {\"automargin\": true, \"gridcolor\": \"white\", \"linecolor\": \"white\", \"ticks\": \"\", \"title\": {\"standoff\": 15}, \"zerolinecolor\": \"white\", \"zerolinewidth\": 2}, \"yaxis\": {\"automargin\": true, \"gridcolor\": \"white\", \"linecolor\": \"white\", \"ticks\": \"\", \"title\": {\"standoff\": 15}, \"zerolinecolor\": \"white\", \"zerolinewidth\": 2}}}, \"title\": {\"text\": \"BTC vs LR Sentiment Model - Weekly\"}, \"xaxis\": {\"anchor\": \"y\", \"domain\": [0.0, 0.94], \"title\": {\"text\": \"Date\"}}, \"yaxis\": {\"anchor\": \"x\", \"domain\": [0.0, 1.0], \"title\": {\"text\": \"<b>Sentiment Polarity </b>\"}}, \"yaxis2\": {\"anchor\": \"x\", \"overlaying\": \"y\", \"side\": \"right\", \"title\": {\"text\": \"<b>BTC Price</b>\"}}},                        {\"responsive\": true}                    ).then(function(){\n",
       "                            \n",
       "var gd = document.getElementById('57a2b867-415c-4c9b-bd5c-1e419338ed55');\n",
       "var x = new MutationObserver(function (mutations, observer) {{\n",
       "        var display = window.getComputedStyle(gd).display;\n",
       "        if (!display || display === 'none') {{\n",
       "            console.log([gd, 'removed!']);\n",
       "            Plotly.purge(gd);\n",
       "            observer.disconnect();\n",
       "        }}\n",
       "}});\n",
       "\n",
       "// Listen for the removal of the full notebook cells\n",
       "var notebookContainer = gd.closest('#notebook-container');\n",
       "if (notebookContainer) {{\n",
       "    x.observe(notebookContainer, {childList: true});\n",
       "}}\n",
       "\n",
       "// Listen for the clearing of the current output cell\n",
       "var outputEl = gd.closest('.output');\n",
       "if (outputEl) {{\n",
       "    x.observe(outputEl, {childList: true});\n",
       "}}\n",
       "\n",
       "                        })                };                });            </script>        </div>"
      ]
     },
     "metadata": {},
     "output_type": "display_data"
    }
   ],
   "source": [
    "# Create figure with secondary y-axis\n",
    "fig = make_subplots(specs=[[{\"secondary_y\": True}]])\n",
    "\n",
    "# Add traces\n",
    "fig.add_trace(\n",
    "    go.Scatter(x=btc_price_avg.diff().index, y=btc_price_avg.diff(), name=\"LR-Model\"),\n",
    "    secondary_y=False,\n",
    ")\n",
    "\n",
    "fig.add_trace(\n",
    "    go.Scatter(x=a.index, y=a, name=\"Bit Coin Avg\"),\n",
    "    secondary_y=True,\n",
    ")\n",
    "\n",
    "# Add figure title\n",
    "fig.update_layout(\n",
    "    title_text=\"BTC vs LR Sentiment Model - Weekly\"\n",
    ")\n",
    "\n",
    "# Set x-axis title\n",
    "fig.update_xaxes(title_text=\"Date\")\n",
    "\n",
    "# Set y-axes titles\n",
    "fig.update_yaxes(title_text=\"<b>Sentiment Polarity </b>\", secondary_y=False)\n",
    "fig.update_yaxes(title_text=\"<b>BTC Price</b>\", secondary_y=True)\n",
    "\n",
    "fig.show()"
   ]
  },
  {
   "cell_type": "code",
   "execution_count": 261,
   "id": "0c707d95",
   "metadata": {},
   "outputs": [
    {
     "data": {
      "application/vnd.plotly.v1+json": {
       "config": {
        "plotlyServerURL": "https://plot.ly"
       },
       "data": [
        {
         "name": "LR-Model",
         "type": "scatter",
         "x": [
          "2019-01-06T00:00:00",
          "2019-01-13T00:00:00",
          "2019-01-20T00:00:00",
          "2019-01-27T00:00:00",
          "2019-02-03T00:00:00",
          "2019-02-10T00:00:00",
          "2019-02-17T00:00:00",
          "2019-02-24T00:00:00",
          "2019-03-03T00:00:00",
          "2019-03-10T00:00:00",
          "2019-03-17T00:00:00",
          "2019-03-24T00:00:00",
          "2019-03-31T00:00:00",
          "2019-04-07T00:00:00",
          "2019-04-14T00:00:00",
          "2019-04-21T00:00:00",
          "2019-04-28T00:00:00",
          "2019-05-05T00:00:00",
          "2019-05-12T00:00:00",
          "2019-05-19T00:00:00",
          "2019-05-26T00:00:00",
          "2019-06-02T00:00:00",
          "2019-06-09T00:00:00",
          "2019-06-16T00:00:00",
          "2019-06-23T00:00:00",
          "2019-06-30T00:00:00",
          "2019-07-07T00:00:00",
          "2019-07-14T00:00:00",
          "2019-07-21T00:00:00",
          "2019-07-28T00:00:00",
          "2019-08-04T00:00:00",
          "2019-08-11T00:00:00",
          "2019-08-18T00:00:00",
          "2019-08-25T00:00:00",
          "2019-09-01T00:00:00",
          "2019-09-08T00:00:00",
          "2019-09-15T00:00:00",
          "2019-09-22T00:00:00",
          "2019-09-29T00:00:00",
          "2019-10-06T00:00:00",
          "2019-10-13T00:00:00",
          "2019-10-20T00:00:00",
          "2019-10-27T00:00:00",
          "2019-11-03T00:00:00",
          "2019-11-10T00:00:00",
          "2019-11-17T00:00:00",
          "2019-11-24T00:00:00",
          "2019-12-01T00:00:00",
          "2019-12-08T00:00:00",
          "2019-12-15T00:00:00",
          "2019-12-22T00:00:00",
          "2019-12-29T00:00:00",
          "2020-01-05T00:00:00",
          "2020-01-12T00:00:00",
          "2020-01-19T00:00:00",
          "2020-01-26T00:00:00",
          "2020-02-02T00:00:00",
          "2020-02-09T00:00:00",
          "2020-02-16T00:00:00",
          "2020-02-23T00:00:00",
          "2020-03-01T00:00:00",
          "2020-03-08T00:00:00",
          "2020-03-15T00:00:00",
          "2020-03-22T00:00:00",
          "2020-03-29T00:00:00",
          "2020-04-05T00:00:00",
          "2020-04-12T00:00:00",
          "2020-04-19T00:00:00",
          "2020-04-26T00:00:00",
          "2020-05-03T00:00:00",
          "2020-05-10T00:00:00",
          "2020-05-17T00:00:00",
          "2020-05-24T00:00:00",
          "2020-05-31T00:00:00",
          "2020-06-07T00:00:00",
          "2020-06-14T00:00:00",
          "2020-06-21T00:00:00",
          "2020-06-28T00:00:00",
          "2020-07-05T00:00:00",
          "2020-07-12T00:00:00",
          "2020-07-19T00:00:00",
          "2020-07-26T00:00:00",
          "2020-08-02T00:00:00",
          "2020-08-09T00:00:00",
          "2020-08-16T00:00:00",
          "2020-08-23T00:00:00",
          "2020-08-30T00:00:00",
          "2020-09-06T00:00:00",
          "2020-09-13T00:00:00",
          "2020-09-20T00:00:00",
          "2020-09-27T00:00:00",
          "2020-10-04T00:00:00",
          "2020-10-11T00:00:00",
          "2020-10-18T00:00:00",
          "2020-10-25T00:00:00",
          "2020-11-01T00:00:00",
          "2020-11-08T00:00:00",
          "2020-11-15T00:00:00",
          "2020-11-22T00:00:00",
          "2020-11-29T00:00:00",
          "2020-12-06T00:00:00",
          "2020-12-13T00:00:00",
          "2020-12-20T00:00:00",
          "2020-12-27T00:00:00",
          "2021-01-03T00:00:00",
          "2021-01-10T00:00:00",
          "2021-01-17T00:00:00",
          "2021-01-24T00:00:00",
          "2021-01-31T00:00:00",
          "2021-02-07T00:00:00",
          "2021-02-14T00:00:00",
          "2021-02-21T00:00:00",
          "2021-02-28T00:00:00",
          "2021-03-07T00:00:00",
          "2021-03-14T00:00:00",
          "2021-03-21T00:00:00",
          "2021-03-28T00:00:00",
          "2021-04-04T00:00:00",
          "2021-04-11T00:00:00",
          "2021-04-18T00:00:00",
          "2021-04-25T00:00:00",
          "2021-05-02T00:00:00",
          "2021-05-09T00:00:00",
          "2021-05-16T00:00:00",
          "2021-05-23T00:00:00",
          "2021-05-30T00:00:00",
          "2021-06-06T00:00:00",
          "2021-06-13T00:00:00",
          "2021-06-20T00:00:00",
          "2021-06-27T00:00:00"
         ],
         "xaxis": "x",
         "y": [
          null,
          -1.3026416728571348,
          -191.68058162142825,
          -69.39728495999952,
          -117.44688860500037,
          43.857065525714006,
          121.56805073142868,
          322.10176574642855,
          -103.04428661500015,
          29.56457524642883,
          58.830517980714376,
          93.12962941714295,
          15.015368372856756,
          789.6541524921431,
          323.78684869142853,
          73.14813983428576,
          126.9233299771422,
          145.0228677192863,
          752.3619960528567,
          1465.1400091864289,
          233.17101791500045,
          656.1147303185708,
          -680.8571992364277,
          371.90992284785625,
          1449.5949529585723,
          1956.006841307857,
          -614.7579767942862,
          639.0884236442853,
          -1429.2173521192854,
          -419.85038844500014,
          280.3957474828567,
          1475.9426097385713,
          -1104.5027549021434,
          -199.97984476071179,
          -493.19244912428803,
          618.962922587858,
          -198.99229530714183,
          -109.90749741714353,
          -1566.642031084286,
          -391.69812002785693,
          161.86349575714303,
          -231.1694391378578,
          229.97752156785737,
          940.4065485342853,
          -138.28067601928524,
          -457.4720134449999,
          -920.9515899300004,
          -390.3901693592852,
          44.14636191642785,
          -183.67108937142802,
          -170.8748804878569,
          267.3141230399997,
          -83.14245084499998,
          710.1946525328567,
          699.7812909450013,
          -145.8363947828584,
          712.2975237721421,
          361.79064469714467,
          495.7601963721427,
          -364.1194394428585,
          -744.9513543121429,
          -155.95792868928402,
          -2277.496811866429,
          -886.9916420549998,
          765.370654083571,
          174.8740063821433,
          482.3673837428569,
          -124.29503701499925,
          300.1899638814284,
          1237.1375589128556,
          792.4491304664298,
          -83.2760826335707,
          153.82070129714157,
          -139.89093303214213,
          476.85008628499963,
          -117.23274360071446,
          -223.59470292642982,
          -61.26702599428427,
          -172.1223524950001,
          130.9061286092856,
          -81.3665502749991,
          302.07541047142877,
          1634.7199728171418,
          404.05646626071393,
          191.18466334285768,
          112.21374540714169,
          -325.29235034999874,
          -526.9282754849992,
          -692.3948451114284,
          575.9206735178577,
          -272.5283629742862,
          86.06360614357072,
          227.55460594214128,
          508.8757331285724,
          1149.6656949807148,
          864.4629088628571,
          1117.6809360628577,
          1219.2379391078575,
          1990.1922684378533,
          241.6929595407164,
          1038.1266441757143,
          -468.078281512142,
          3037.663419432145,
          2640.981502266426,
          4897.984271074289,
          7320.257662509281,
          -484.6669354778569,
          -2162.7147065899917,
          -864.1862124328618,
          3846.2479046549997,
          9440.12822932857,
          5978.981237594286,
          -3657.043785389287,
          375.3410973321443,
          7058.752674845004,
          1387.4714405635677,
          -2707.118224949285,
          3814.9927989842836,
          38.9338115878636,
          2723.9517058892816,
          -8658.665543938572,
          2412.9457008614263,
          1896.8451355157158,
          -5349.324644239998,
          -12392.45653896714,
          -1909.0712911328592,
          -407.9538302521396,
          -1161.3265559542924,
          2216.9089038578604,
          -5062.872122392146
         ],
         "yaxis": "y"
        },
        {
         "name": "Bit Coin Avg",
         "type": "scatter",
         "x": [
          "2019-01-06T00:00:00",
          "2019-01-13T00:00:00",
          "2019-01-20T00:00:00",
          "2019-01-27T00:00:00",
          "2019-02-03T00:00:00",
          "2019-02-10T00:00:00",
          "2019-02-17T00:00:00",
          "2019-02-24T00:00:00",
          "2019-03-03T00:00:00",
          "2019-03-10T00:00:00",
          "2019-03-17T00:00:00",
          "2019-03-24T00:00:00",
          "2019-03-31T00:00:00",
          "2019-04-07T00:00:00",
          "2019-04-14T00:00:00",
          "2019-04-21T00:00:00",
          "2019-04-28T00:00:00",
          "2019-05-05T00:00:00",
          "2019-05-12T00:00:00",
          "2019-05-19T00:00:00",
          "2019-05-26T00:00:00",
          "2019-06-02T00:00:00",
          "2019-06-09T00:00:00",
          "2019-06-16T00:00:00",
          "2019-06-23T00:00:00",
          "2019-06-30T00:00:00",
          "2019-07-07T00:00:00",
          "2019-07-14T00:00:00",
          "2019-07-21T00:00:00",
          "2019-07-28T00:00:00",
          "2019-08-04T00:00:00",
          "2019-08-11T00:00:00",
          "2019-08-18T00:00:00",
          "2019-08-25T00:00:00",
          "2019-09-01T00:00:00",
          "2019-09-08T00:00:00",
          "2019-09-15T00:00:00",
          "2019-09-22T00:00:00",
          "2019-09-29T00:00:00",
          "2019-10-06T00:00:00",
          "2019-10-13T00:00:00",
          "2019-10-20T00:00:00",
          "2019-10-27T00:00:00",
          "2019-11-03T00:00:00",
          "2019-11-10T00:00:00",
          "2019-11-17T00:00:00",
          "2019-11-24T00:00:00",
          "2019-12-01T00:00:00",
          "2019-12-08T00:00:00",
          "2019-12-15T00:00:00",
          "2019-12-22T00:00:00",
          "2019-12-29T00:00:00",
          "2020-01-05T00:00:00",
          "2020-01-12T00:00:00",
          "2020-01-19T00:00:00",
          "2020-01-26T00:00:00",
          "2020-02-02T00:00:00",
          "2020-02-09T00:00:00",
          "2020-02-16T00:00:00",
          "2020-02-23T00:00:00",
          "2020-03-01T00:00:00",
          "2020-03-08T00:00:00",
          "2020-03-15T00:00:00",
          "2020-03-22T00:00:00",
          "2020-03-29T00:00:00",
          "2020-04-05T00:00:00",
          "2020-04-12T00:00:00",
          "2020-04-19T00:00:00",
          "2020-04-26T00:00:00",
          "2020-05-03T00:00:00",
          "2020-05-10T00:00:00",
          "2020-05-17T00:00:00",
          "2020-05-24T00:00:00",
          "2020-05-31T00:00:00",
          "2020-06-07T00:00:00",
          "2020-06-14T00:00:00",
          "2020-06-21T00:00:00",
          "2020-06-28T00:00:00",
          "2020-07-05T00:00:00",
          "2020-07-12T00:00:00",
          "2020-07-19T00:00:00",
          "2020-07-26T00:00:00",
          "2020-08-02T00:00:00",
          "2020-08-09T00:00:00",
          "2020-08-16T00:00:00",
          "2020-08-23T00:00:00",
          "2020-08-30T00:00:00",
          "2020-09-06T00:00:00",
          "2020-09-13T00:00:00",
          "2020-09-20T00:00:00",
          "2020-09-27T00:00:00",
          "2020-10-04T00:00:00",
          "2020-10-11T00:00:00",
          "2020-10-18T00:00:00",
          "2020-10-25T00:00:00",
          "2020-11-01T00:00:00",
          "2020-11-08T00:00:00",
          "2020-11-15T00:00:00",
          "2020-11-22T00:00:00",
          "2020-11-29T00:00:00",
          "2020-12-06T00:00:00",
          "2020-12-13T00:00:00",
          "2020-12-20T00:00:00",
          "2020-12-27T00:00:00",
          "2021-01-03T00:00:00",
          "2021-01-10T00:00:00",
          "2021-01-17T00:00:00",
          "2021-01-24T00:00:00",
          "2021-01-31T00:00:00",
          "2021-02-07T00:00:00",
          "2021-02-14T00:00:00",
          "2021-02-21T00:00:00",
          "2021-02-28T00:00:00",
          "2021-03-07T00:00:00",
          "2021-03-14T00:00:00",
          "2021-03-21T00:00:00",
          "2021-03-28T00:00:00",
          "2021-04-04T00:00:00",
          "2021-04-11T00:00:00",
          "2021-04-18T00:00:00",
          "2021-04-25T00:00:00",
          "2021-05-02T00:00:00",
          "2021-05-09T00:00:00",
          "2021-05-16T00:00:00",
          "2021-05-23T00:00:00",
          "2021-05-30T00:00:00",
          "2021-06-06T00:00:00",
          "2021-06-13T00:00:00",
          "2021-06-20T00:00:00",
          "2021-06-27T00:00:00",
          "2021-07-04T00:00:00"
         ],
         "xaxis": "x",
         "y": [
          -2.207817026915883,
          9.80801262948831,
          5.362364988019226,
          9.199570393607482,
          1.1680987765777142,
          4.139293140604803,
          -0.5075885313681074,
          11.443932707838883,
          6.100526965707508,
          6.2492226011524625,
          6.531939657001944,
          2.5408771722175088,
          5.485386662550281,
          10.990172492080672,
          5.473285577445076,
          1.9642948696546332,
          3.5952158513281507,
          3.372211196495681,
          2.0199812855448833,
          11.275799778536909,
          10.145979230011132,
          8.85108311463424,
          4.511591710340208,
          9.560728402999377,
          13.477879129240106,
          17.726863161917155,
          6.337826294710656,
          10.844369884661106,
          12.055607633697829,
          4.056558784669307,
          4.671275705379626,
          8.906577040258567,
          4.127846952291112,
          6.398559765006207,
          -0.3102710810372182,
          6.428064938370046,
          3.8973477960400396,
          4.21261343326123,
          1.2894873171925225,
          2.1210390696394956,
          1.4298369901305596,
          5.0794685502597305,
          5.2435137336780056,
          3.827273568636381,
          0.7239134084288478,
          -2.350754458260861,
          0.596397385320103,
          5.377709354605739,
          2.2279906412050656,
          4.501495926134964,
          1.229955763868981,
          -0.5183050474463573,
          2.917265517053076,
          2.3106737133461706,
          -0.8213968391611759,
          2.003019823441759,
          1.8448669317888855,
          6.1589305657845745,
          2.9381257334877984,
          5.735795977361211,
          3.861374493097706,
          6.29128052015535,
          -2.1805985795179517,
          -5.017976548071558,
          -6.769568932805179,
          6.631768332184005,
          0.7310765409759462,
          3.990157959375572,
          0.061741816805632954,
          2.156866127925302,
          9.864718694960061,
          6.69808162465341,
          4.630988046224991,
          8.745039908341464,
          6.460375039439062,
          6.015377347845417,
          2.0250583573410728,
          0.24333040598840314,
          6.245065178882781,
          7.335759666560719,
          1.5697494463876116,
          7.621130255077424,
          6.016610867037119,
          6.269739425192239,
          8.82976728457259,
          2.1648381422077745,
          3.1754600487340636,
          6.2389729458844005,
          4.088556353017021,
          1.279288011139169,
          2.508764887741927,
          8.425621295779134,
          4.872453746960094,
          11.665675511437115,
          11.938085586291427,
          0.521574917788249,
          17.159163576021154,
          10.089492206676182,
          15.839292459742323,
          15.978801524029796,
          7.706881236122759,
          13.279693572859832,
          19.068146050179077,
          15.164696510005276,
          20.872147619305846,
          29.345286289706127,
          10.072464571292304,
          19.174535343533712,
          23.064710611520336,
          54.31050640997284,
          64.83897593398163,
          74.17229382374961,
          48.67475648732154,
          49.73888639432287,
          37.721736936812206,
          26.105096984582875,
          36.94249301800247,
          37.24698271972725,
          32.88147173026261,
          62.508578032026506,
          50.41766500574038,
          53.56651740545325,
          43.84037212924506,
          47.29663266776464,
          18.823361255287644,
          31.65202311875348,
          30.326931778307877,
          28.016426085789156,
          42.63497944629217,
          23.774759346418673,
          15.137805914354075
         ],
         "yaxis": "y2"
        }
       ],
       "layout": {
        "template": {
         "data": {
          "bar": [
           {
            "error_x": {
             "color": "#2a3f5f"
            },
            "error_y": {
             "color": "#2a3f5f"
            },
            "marker": {
             "line": {
              "color": "#E5ECF6",
              "width": 0.5
             }
            },
            "type": "bar"
           }
          ],
          "barpolar": [
           {
            "marker": {
             "line": {
              "color": "#E5ECF6",
              "width": 0.5
             }
            },
            "type": "barpolar"
           }
          ],
          "carpet": [
           {
            "aaxis": {
             "endlinecolor": "#2a3f5f",
             "gridcolor": "white",
             "linecolor": "white",
             "minorgridcolor": "white",
             "startlinecolor": "#2a3f5f"
            },
            "baxis": {
             "endlinecolor": "#2a3f5f",
             "gridcolor": "white",
             "linecolor": "white",
             "minorgridcolor": "white",
             "startlinecolor": "#2a3f5f"
            },
            "type": "carpet"
           }
          ],
          "choropleth": [
           {
            "colorbar": {
             "outlinewidth": 0,
             "ticks": ""
            },
            "type": "choropleth"
           }
          ],
          "contour": [
           {
            "colorbar": {
             "outlinewidth": 0,
             "ticks": ""
            },
            "colorscale": [
             [
              0,
              "#0d0887"
             ],
             [
              0.1111111111111111,
              "#46039f"
             ],
             [
              0.2222222222222222,
              "#7201a8"
             ],
             [
              0.3333333333333333,
              "#9c179e"
             ],
             [
              0.4444444444444444,
              "#bd3786"
             ],
             [
              0.5555555555555556,
              "#d8576b"
             ],
             [
              0.6666666666666666,
              "#ed7953"
             ],
             [
              0.7777777777777778,
              "#fb9f3a"
             ],
             [
              0.8888888888888888,
              "#fdca26"
             ],
             [
              1,
              "#f0f921"
             ]
            ],
            "type": "contour"
           }
          ],
          "contourcarpet": [
           {
            "colorbar": {
             "outlinewidth": 0,
             "ticks": ""
            },
            "type": "contourcarpet"
           }
          ],
          "heatmap": [
           {
            "colorbar": {
             "outlinewidth": 0,
             "ticks": ""
            },
            "colorscale": [
             [
              0,
              "#0d0887"
             ],
             [
              0.1111111111111111,
              "#46039f"
             ],
             [
              0.2222222222222222,
              "#7201a8"
             ],
             [
              0.3333333333333333,
              "#9c179e"
             ],
             [
              0.4444444444444444,
              "#bd3786"
             ],
             [
              0.5555555555555556,
              "#d8576b"
             ],
             [
              0.6666666666666666,
              "#ed7953"
             ],
             [
              0.7777777777777778,
              "#fb9f3a"
             ],
             [
              0.8888888888888888,
              "#fdca26"
             ],
             [
              1,
              "#f0f921"
             ]
            ],
            "type": "heatmap"
           }
          ],
          "heatmapgl": [
           {
            "colorbar": {
             "outlinewidth": 0,
             "ticks": ""
            },
            "colorscale": [
             [
              0,
              "#0d0887"
             ],
             [
              0.1111111111111111,
              "#46039f"
             ],
             [
              0.2222222222222222,
              "#7201a8"
             ],
             [
              0.3333333333333333,
              "#9c179e"
             ],
             [
              0.4444444444444444,
              "#bd3786"
             ],
             [
              0.5555555555555556,
              "#d8576b"
             ],
             [
              0.6666666666666666,
              "#ed7953"
             ],
             [
              0.7777777777777778,
              "#fb9f3a"
             ],
             [
              0.8888888888888888,
              "#fdca26"
             ],
             [
              1,
              "#f0f921"
             ]
            ],
            "type": "heatmapgl"
           }
          ],
          "histogram": [
           {
            "marker": {
             "colorbar": {
              "outlinewidth": 0,
              "ticks": ""
             }
            },
            "type": "histogram"
           }
          ],
          "histogram2d": [
           {
            "colorbar": {
             "outlinewidth": 0,
             "ticks": ""
            },
            "colorscale": [
             [
              0,
              "#0d0887"
             ],
             [
              0.1111111111111111,
              "#46039f"
             ],
             [
              0.2222222222222222,
              "#7201a8"
             ],
             [
              0.3333333333333333,
              "#9c179e"
             ],
             [
              0.4444444444444444,
              "#bd3786"
             ],
             [
              0.5555555555555556,
              "#d8576b"
             ],
             [
              0.6666666666666666,
              "#ed7953"
             ],
             [
              0.7777777777777778,
              "#fb9f3a"
             ],
             [
              0.8888888888888888,
              "#fdca26"
             ],
             [
              1,
              "#f0f921"
             ]
            ],
            "type": "histogram2d"
           }
          ],
          "histogram2dcontour": [
           {
            "colorbar": {
             "outlinewidth": 0,
             "ticks": ""
            },
            "colorscale": [
             [
              0,
              "#0d0887"
             ],
             [
              0.1111111111111111,
              "#46039f"
             ],
             [
              0.2222222222222222,
              "#7201a8"
             ],
             [
              0.3333333333333333,
              "#9c179e"
             ],
             [
              0.4444444444444444,
              "#bd3786"
             ],
             [
              0.5555555555555556,
              "#d8576b"
             ],
             [
              0.6666666666666666,
              "#ed7953"
             ],
             [
              0.7777777777777778,
              "#fb9f3a"
             ],
             [
              0.8888888888888888,
              "#fdca26"
             ],
             [
              1,
              "#f0f921"
             ]
            ],
            "type": "histogram2dcontour"
           }
          ],
          "mesh3d": [
           {
            "colorbar": {
             "outlinewidth": 0,
             "ticks": ""
            },
            "type": "mesh3d"
           }
          ],
          "parcoords": [
           {
            "line": {
             "colorbar": {
              "outlinewidth": 0,
              "ticks": ""
             }
            },
            "type": "parcoords"
           }
          ],
          "pie": [
           {
            "automargin": true,
            "type": "pie"
           }
          ],
          "scatter": [
           {
            "marker": {
             "colorbar": {
              "outlinewidth": 0,
              "ticks": ""
             }
            },
            "type": "scatter"
           }
          ],
          "scatter3d": [
           {
            "line": {
             "colorbar": {
              "outlinewidth": 0,
              "ticks": ""
             }
            },
            "marker": {
             "colorbar": {
              "outlinewidth": 0,
              "ticks": ""
             }
            },
            "type": "scatter3d"
           }
          ],
          "scattercarpet": [
           {
            "marker": {
             "colorbar": {
              "outlinewidth": 0,
              "ticks": ""
             }
            },
            "type": "scattercarpet"
           }
          ],
          "scattergeo": [
           {
            "marker": {
             "colorbar": {
              "outlinewidth": 0,
              "ticks": ""
             }
            },
            "type": "scattergeo"
           }
          ],
          "scattergl": [
           {
            "marker": {
             "colorbar": {
              "outlinewidth": 0,
              "ticks": ""
             }
            },
            "type": "scattergl"
           }
          ],
          "scattermapbox": [
           {
            "marker": {
             "colorbar": {
              "outlinewidth": 0,
              "ticks": ""
             }
            },
            "type": "scattermapbox"
           }
          ],
          "scatterpolar": [
           {
            "marker": {
             "colorbar": {
              "outlinewidth": 0,
              "ticks": ""
             }
            },
            "type": "scatterpolar"
           }
          ],
          "scatterpolargl": [
           {
            "marker": {
             "colorbar": {
              "outlinewidth": 0,
              "ticks": ""
             }
            },
            "type": "scatterpolargl"
           }
          ],
          "scatterternary": [
           {
            "marker": {
             "colorbar": {
              "outlinewidth": 0,
              "ticks": ""
             }
            },
            "type": "scatterternary"
           }
          ],
          "surface": [
           {
            "colorbar": {
             "outlinewidth": 0,
             "ticks": ""
            },
            "colorscale": [
             [
              0,
              "#0d0887"
             ],
             [
              0.1111111111111111,
              "#46039f"
             ],
             [
              0.2222222222222222,
              "#7201a8"
             ],
             [
              0.3333333333333333,
              "#9c179e"
             ],
             [
              0.4444444444444444,
              "#bd3786"
             ],
             [
              0.5555555555555556,
              "#d8576b"
             ],
             [
              0.6666666666666666,
              "#ed7953"
             ],
             [
              0.7777777777777778,
              "#fb9f3a"
             ],
             [
              0.8888888888888888,
              "#fdca26"
             ],
             [
              1,
              "#f0f921"
             ]
            ],
            "type": "surface"
           }
          ],
          "table": [
           {
            "cells": {
             "fill": {
              "color": "#EBF0F8"
             },
             "line": {
              "color": "white"
             }
            },
            "header": {
             "fill": {
              "color": "#C8D4E3"
             },
             "line": {
              "color": "white"
             }
            },
            "type": "table"
           }
          ]
         },
         "layout": {
          "annotationdefaults": {
           "arrowcolor": "#2a3f5f",
           "arrowhead": 0,
           "arrowwidth": 1
          },
          "coloraxis": {
           "colorbar": {
            "outlinewidth": 0,
            "ticks": ""
           }
          },
          "colorscale": {
           "diverging": [
            [
             0,
             "#8e0152"
            ],
            [
             0.1,
             "#c51b7d"
            ],
            [
             0.2,
             "#de77ae"
            ],
            [
             0.3,
             "#f1b6da"
            ],
            [
             0.4,
             "#fde0ef"
            ],
            [
             0.5,
             "#f7f7f7"
            ],
            [
             0.6,
             "#e6f5d0"
            ],
            [
             0.7,
             "#b8e186"
            ],
            [
             0.8,
             "#7fbc41"
            ],
            [
             0.9,
             "#4d9221"
            ],
            [
             1,
             "#276419"
            ]
           ],
           "sequential": [
            [
             0,
             "#0d0887"
            ],
            [
             0.1111111111111111,
             "#46039f"
            ],
            [
             0.2222222222222222,
             "#7201a8"
            ],
            [
             0.3333333333333333,
             "#9c179e"
            ],
            [
             0.4444444444444444,
             "#bd3786"
            ],
            [
             0.5555555555555556,
             "#d8576b"
            ],
            [
             0.6666666666666666,
             "#ed7953"
            ],
            [
             0.7777777777777778,
             "#fb9f3a"
            ],
            [
             0.8888888888888888,
             "#fdca26"
            ],
            [
             1,
             "#f0f921"
            ]
           ],
           "sequentialminus": [
            [
             0,
             "#0d0887"
            ],
            [
             0.1111111111111111,
             "#46039f"
            ],
            [
             0.2222222222222222,
             "#7201a8"
            ],
            [
             0.3333333333333333,
             "#9c179e"
            ],
            [
             0.4444444444444444,
             "#bd3786"
            ],
            [
             0.5555555555555556,
             "#d8576b"
            ],
            [
             0.6666666666666666,
             "#ed7953"
            ],
            [
             0.7777777777777778,
             "#fb9f3a"
            ],
            [
             0.8888888888888888,
             "#fdca26"
            ],
            [
             1,
             "#f0f921"
            ]
           ]
          },
          "colorway": [
           "#636efa",
           "#EF553B",
           "#00cc96",
           "#ab63fa",
           "#FFA15A",
           "#19d3f3",
           "#FF6692",
           "#B6E880",
           "#FF97FF",
           "#FECB52"
          ],
          "font": {
           "color": "#2a3f5f"
          },
          "geo": {
           "bgcolor": "white",
           "lakecolor": "white",
           "landcolor": "#E5ECF6",
           "showlakes": true,
           "showland": true,
           "subunitcolor": "white"
          },
          "hoverlabel": {
           "align": "left"
          },
          "hovermode": "closest",
          "mapbox": {
           "style": "light"
          },
          "paper_bgcolor": "white",
          "plot_bgcolor": "#E5ECF6",
          "polar": {
           "angularaxis": {
            "gridcolor": "white",
            "linecolor": "white",
            "ticks": ""
           },
           "bgcolor": "#E5ECF6",
           "radialaxis": {
            "gridcolor": "white",
            "linecolor": "white",
            "ticks": ""
           }
          },
          "scene": {
           "xaxis": {
            "backgroundcolor": "#E5ECF6",
            "gridcolor": "white",
            "gridwidth": 2,
            "linecolor": "white",
            "showbackground": true,
            "ticks": "",
            "zerolinecolor": "white"
           },
           "yaxis": {
            "backgroundcolor": "#E5ECF6",
            "gridcolor": "white",
            "gridwidth": 2,
            "linecolor": "white",
            "showbackground": true,
            "ticks": "",
            "zerolinecolor": "white"
           },
           "zaxis": {
            "backgroundcolor": "#E5ECF6",
            "gridcolor": "white",
            "gridwidth": 2,
            "linecolor": "white",
            "showbackground": true,
            "ticks": "",
            "zerolinecolor": "white"
           }
          },
          "shapedefaults": {
           "line": {
            "color": "#2a3f5f"
           }
          },
          "ternary": {
           "aaxis": {
            "gridcolor": "white",
            "linecolor": "white",
            "ticks": ""
           },
           "baxis": {
            "gridcolor": "white",
            "linecolor": "white",
            "ticks": ""
           },
           "bgcolor": "#E5ECF6",
           "caxis": {
            "gridcolor": "white",
            "linecolor": "white",
            "ticks": ""
           }
          },
          "title": {
           "x": 0.05
          },
          "xaxis": {
           "automargin": true,
           "gridcolor": "white",
           "linecolor": "white",
           "ticks": "",
           "title": {
            "standoff": 15
           },
           "zerolinecolor": "white",
           "zerolinewidth": 2
          },
          "yaxis": {
           "automargin": true,
           "gridcolor": "white",
           "linecolor": "white",
           "ticks": "",
           "title": {
            "standoff": 15
           },
           "zerolinecolor": "white",
           "zerolinewidth": 2
          }
         }
        },
        "title": {
         "text": "BTC vs LR Sentiment Model - Weekly"
        },
        "xaxis": {
         "anchor": "y",
         "domain": [
          0,
          0.94
         ],
         "title": {
          "text": "Date"
         }
        },
        "yaxis": {
         "anchor": "x",
         "domain": [
          0,
          1
         ],
         "title": {
          "text": "<b>Sentiment Polarity </b>"
         }
        },
        "yaxis2": {
         "anchor": "x",
         "overlaying": "y",
         "side": "right",
         "title": {
          "text": "<b>BTC Price</b>"
         }
        }
       }
      },
      "text/html": [
       "<div>                            <div id=\"5f30e146-0868-41ca-8fc6-73eba33cc064\" class=\"plotly-graph-div\" style=\"height:525px; width:100%;\"></div>            <script type=\"text/javascript\">                require([\"plotly\"], function(Plotly) {                    window.PLOTLYENV=window.PLOTLYENV || {};                                    if (document.getElementById(\"5f30e146-0868-41ca-8fc6-73eba33cc064\")) {                    Plotly.newPlot(                        \"5f30e146-0868-41ca-8fc6-73eba33cc064\",                        [{\"name\": \"LR-Model\", \"type\": \"scatter\", \"x\": [\"2019-01-06T00:00:00\", \"2019-01-13T00:00:00\", \"2019-01-20T00:00:00\", \"2019-01-27T00:00:00\", \"2019-02-03T00:00:00\", \"2019-02-10T00:00:00\", \"2019-02-17T00:00:00\", \"2019-02-24T00:00:00\", \"2019-03-03T00:00:00\", \"2019-03-10T00:00:00\", \"2019-03-17T00:00:00\", \"2019-03-24T00:00:00\", \"2019-03-31T00:00:00\", \"2019-04-07T00:00:00\", \"2019-04-14T00:00:00\", \"2019-04-21T00:00:00\", \"2019-04-28T00:00:00\", \"2019-05-05T00:00:00\", \"2019-05-12T00:00:00\", \"2019-05-19T00:00:00\", \"2019-05-26T00:00:00\", \"2019-06-02T00:00:00\", \"2019-06-09T00:00:00\", \"2019-06-16T00:00:00\", \"2019-06-23T00:00:00\", \"2019-06-30T00:00:00\", \"2019-07-07T00:00:00\", \"2019-07-14T00:00:00\", \"2019-07-21T00:00:00\", \"2019-07-28T00:00:00\", \"2019-08-04T00:00:00\", \"2019-08-11T00:00:00\", \"2019-08-18T00:00:00\", \"2019-08-25T00:00:00\", \"2019-09-01T00:00:00\", \"2019-09-08T00:00:00\", \"2019-09-15T00:00:00\", \"2019-09-22T00:00:00\", \"2019-09-29T00:00:00\", \"2019-10-06T00:00:00\", \"2019-10-13T00:00:00\", \"2019-10-20T00:00:00\", \"2019-10-27T00:00:00\", \"2019-11-03T00:00:00\", \"2019-11-10T00:00:00\", \"2019-11-17T00:00:00\", \"2019-11-24T00:00:00\", \"2019-12-01T00:00:00\", \"2019-12-08T00:00:00\", \"2019-12-15T00:00:00\", \"2019-12-22T00:00:00\", \"2019-12-29T00:00:00\", \"2020-01-05T00:00:00\", \"2020-01-12T00:00:00\", \"2020-01-19T00:00:00\", \"2020-01-26T00:00:00\", \"2020-02-02T00:00:00\", \"2020-02-09T00:00:00\", \"2020-02-16T00:00:00\", \"2020-02-23T00:00:00\", \"2020-03-01T00:00:00\", \"2020-03-08T00:00:00\", \"2020-03-15T00:00:00\", \"2020-03-22T00:00:00\", \"2020-03-29T00:00:00\", \"2020-04-05T00:00:00\", \"2020-04-12T00:00:00\", \"2020-04-19T00:00:00\", \"2020-04-26T00:00:00\", \"2020-05-03T00:00:00\", \"2020-05-10T00:00:00\", \"2020-05-17T00:00:00\", \"2020-05-24T00:00:00\", \"2020-05-31T00:00:00\", \"2020-06-07T00:00:00\", \"2020-06-14T00:00:00\", \"2020-06-21T00:00:00\", \"2020-06-28T00:00:00\", \"2020-07-05T00:00:00\", \"2020-07-12T00:00:00\", \"2020-07-19T00:00:00\", \"2020-07-26T00:00:00\", \"2020-08-02T00:00:00\", \"2020-08-09T00:00:00\", \"2020-08-16T00:00:00\", \"2020-08-23T00:00:00\", \"2020-08-30T00:00:00\", \"2020-09-06T00:00:00\", \"2020-09-13T00:00:00\", \"2020-09-20T00:00:00\", \"2020-09-27T00:00:00\", \"2020-10-04T00:00:00\", \"2020-10-11T00:00:00\", \"2020-10-18T00:00:00\", \"2020-10-25T00:00:00\", \"2020-11-01T00:00:00\", \"2020-11-08T00:00:00\", \"2020-11-15T00:00:00\", \"2020-11-22T00:00:00\", \"2020-11-29T00:00:00\", \"2020-12-06T00:00:00\", \"2020-12-13T00:00:00\", \"2020-12-20T00:00:00\", \"2020-12-27T00:00:00\", \"2021-01-03T00:00:00\", \"2021-01-10T00:00:00\", \"2021-01-17T00:00:00\", \"2021-01-24T00:00:00\", \"2021-01-31T00:00:00\", \"2021-02-07T00:00:00\", \"2021-02-14T00:00:00\", \"2021-02-21T00:00:00\", \"2021-02-28T00:00:00\", \"2021-03-07T00:00:00\", \"2021-03-14T00:00:00\", \"2021-03-21T00:00:00\", \"2021-03-28T00:00:00\", \"2021-04-04T00:00:00\", \"2021-04-11T00:00:00\", \"2021-04-18T00:00:00\", \"2021-04-25T00:00:00\", \"2021-05-02T00:00:00\", \"2021-05-09T00:00:00\", \"2021-05-16T00:00:00\", \"2021-05-23T00:00:00\", \"2021-05-30T00:00:00\", \"2021-06-06T00:00:00\", \"2021-06-13T00:00:00\", \"2021-06-20T00:00:00\", \"2021-06-27T00:00:00\"], \"xaxis\": \"x\", \"y\": [null, -1.3026416728571348, -191.68058162142825, -69.39728495999952, -117.44688860500037, 43.857065525714006, 121.56805073142868, 322.10176574642855, -103.04428661500015, 29.56457524642883, 58.830517980714376, 93.12962941714295, 15.015368372856756, 789.6541524921431, 323.78684869142853, 73.14813983428576, 126.9233299771422, 145.0228677192863, 752.3619960528567, 1465.1400091864289, 233.17101791500045, 656.1147303185708, -680.8571992364277, 371.90992284785625, 1449.5949529585723, 1956.006841307857, -614.7579767942862, 639.0884236442853, -1429.2173521192854, -419.85038844500014, 280.3957474828567, 1475.9426097385713, -1104.5027549021434, -199.97984476071179, -493.19244912428803, 618.962922587858, -198.99229530714183, -109.90749741714353, -1566.642031084286, -391.69812002785693, 161.86349575714303, -231.1694391378578, 229.97752156785737, 940.4065485342853, -138.28067601928524, -457.4720134449999, -920.9515899300004, -390.3901693592852, 44.14636191642785, -183.67108937142802, -170.8748804878569, 267.3141230399997, -83.14245084499998, 710.1946525328567, 699.7812909450013, -145.8363947828584, 712.2975237721421, 361.79064469714467, 495.7601963721427, -364.1194394428585, -744.9513543121429, -155.95792868928402, -2277.496811866429, -886.9916420549998, 765.370654083571, 174.8740063821433, 482.3673837428569, -124.29503701499925, 300.1899638814284, 1237.1375589128556, 792.4491304664298, -83.2760826335707, 153.82070129714157, -139.89093303214213, 476.85008628499963, -117.23274360071446, -223.59470292642982, -61.26702599428427, -172.1223524950001, 130.9061286092856, -81.3665502749991, 302.07541047142877, 1634.7199728171418, 404.05646626071393, 191.18466334285768, 112.21374540714169, -325.29235034999874, -526.9282754849992, -692.3948451114284, 575.9206735178577, -272.5283629742862, 86.06360614357072, 227.55460594214128, 508.8757331285724, 1149.6656949807148, 864.4629088628571, 1117.6809360628577, 1219.2379391078575, 1990.1922684378533, 241.6929595407164, 1038.1266441757143, -468.078281512142, 3037.663419432145, 2640.981502266426, 4897.984271074289, 7320.257662509281, -484.6669354778569, -2162.7147065899917, -864.1862124328618, 3846.2479046549997, 9440.12822932857, 5978.981237594286, -3657.043785389287, 375.3410973321443, 7058.752674845004, 1387.4714405635677, -2707.118224949285, 3814.9927989842836, 38.9338115878636, 2723.9517058892816, -8658.665543938572, 2412.9457008614263, 1896.8451355157158, -5349.324644239998, -12392.45653896714, -1909.0712911328592, -407.9538302521396, -1161.3265559542924, 2216.9089038578604, -5062.872122392146], \"yaxis\": \"y\"}, {\"name\": \"Bit Coin Avg\", \"type\": \"scatter\", \"x\": [\"2019-01-06T00:00:00\", \"2019-01-13T00:00:00\", \"2019-01-20T00:00:00\", \"2019-01-27T00:00:00\", \"2019-02-03T00:00:00\", \"2019-02-10T00:00:00\", \"2019-02-17T00:00:00\", \"2019-02-24T00:00:00\", \"2019-03-03T00:00:00\", \"2019-03-10T00:00:00\", \"2019-03-17T00:00:00\", \"2019-03-24T00:00:00\", \"2019-03-31T00:00:00\", \"2019-04-07T00:00:00\", \"2019-04-14T00:00:00\", \"2019-04-21T00:00:00\", \"2019-04-28T00:00:00\", \"2019-05-05T00:00:00\", \"2019-05-12T00:00:00\", \"2019-05-19T00:00:00\", \"2019-05-26T00:00:00\", \"2019-06-02T00:00:00\", \"2019-06-09T00:00:00\", \"2019-06-16T00:00:00\", \"2019-06-23T00:00:00\", \"2019-06-30T00:00:00\", \"2019-07-07T00:00:00\", \"2019-07-14T00:00:00\", \"2019-07-21T00:00:00\", \"2019-07-28T00:00:00\", \"2019-08-04T00:00:00\", \"2019-08-11T00:00:00\", \"2019-08-18T00:00:00\", \"2019-08-25T00:00:00\", \"2019-09-01T00:00:00\", \"2019-09-08T00:00:00\", \"2019-09-15T00:00:00\", \"2019-09-22T00:00:00\", \"2019-09-29T00:00:00\", \"2019-10-06T00:00:00\", \"2019-10-13T00:00:00\", \"2019-10-20T00:00:00\", \"2019-10-27T00:00:00\", \"2019-11-03T00:00:00\", \"2019-11-10T00:00:00\", \"2019-11-17T00:00:00\", \"2019-11-24T00:00:00\", \"2019-12-01T00:00:00\", \"2019-12-08T00:00:00\", \"2019-12-15T00:00:00\", \"2019-12-22T00:00:00\", \"2019-12-29T00:00:00\", \"2020-01-05T00:00:00\", \"2020-01-12T00:00:00\", \"2020-01-19T00:00:00\", \"2020-01-26T00:00:00\", \"2020-02-02T00:00:00\", \"2020-02-09T00:00:00\", \"2020-02-16T00:00:00\", \"2020-02-23T00:00:00\", \"2020-03-01T00:00:00\", \"2020-03-08T00:00:00\", \"2020-03-15T00:00:00\", \"2020-03-22T00:00:00\", \"2020-03-29T00:00:00\", \"2020-04-05T00:00:00\", \"2020-04-12T00:00:00\", \"2020-04-19T00:00:00\", \"2020-04-26T00:00:00\", \"2020-05-03T00:00:00\", \"2020-05-10T00:00:00\", \"2020-05-17T00:00:00\", \"2020-05-24T00:00:00\", \"2020-05-31T00:00:00\", \"2020-06-07T00:00:00\", \"2020-06-14T00:00:00\", \"2020-06-21T00:00:00\", \"2020-06-28T00:00:00\", \"2020-07-05T00:00:00\", \"2020-07-12T00:00:00\", \"2020-07-19T00:00:00\", \"2020-07-26T00:00:00\", \"2020-08-02T00:00:00\", \"2020-08-09T00:00:00\", \"2020-08-16T00:00:00\", \"2020-08-23T00:00:00\", \"2020-08-30T00:00:00\", \"2020-09-06T00:00:00\", \"2020-09-13T00:00:00\", \"2020-09-20T00:00:00\", \"2020-09-27T00:00:00\", \"2020-10-04T00:00:00\", \"2020-10-11T00:00:00\", \"2020-10-18T00:00:00\", \"2020-10-25T00:00:00\", \"2020-11-01T00:00:00\", \"2020-11-08T00:00:00\", \"2020-11-15T00:00:00\", \"2020-11-22T00:00:00\", \"2020-11-29T00:00:00\", \"2020-12-06T00:00:00\", \"2020-12-13T00:00:00\", \"2020-12-20T00:00:00\", \"2020-12-27T00:00:00\", \"2021-01-03T00:00:00\", \"2021-01-10T00:00:00\", \"2021-01-17T00:00:00\", \"2021-01-24T00:00:00\", \"2021-01-31T00:00:00\", \"2021-02-07T00:00:00\", \"2021-02-14T00:00:00\", \"2021-02-21T00:00:00\", \"2021-02-28T00:00:00\", \"2021-03-07T00:00:00\", \"2021-03-14T00:00:00\", \"2021-03-21T00:00:00\", \"2021-03-28T00:00:00\", \"2021-04-04T00:00:00\", \"2021-04-11T00:00:00\", \"2021-04-18T00:00:00\", \"2021-04-25T00:00:00\", \"2021-05-02T00:00:00\", \"2021-05-09T00:00:00\", \"2021-05-16T00:00:00\", \"2021-05-23T00:00:00\", \"2021-05-30T00:00:00\", \"2021-06-06T00:00:00\", \"2021-06-13T00:00:00\", \"2021-06-20T00:00:00\", \"2021-06-27T00:00:00\", \"2021-07-04T00:00:00\"], \"xaxis\": \"x\", \"y\": [-2.207817026915883, 9.80801262948831, 5.362364988019226, 9.199570393607482, 1.1680987765777142, 4.139293140604803, -0.5075885313681074, 11.443932707838883, 6.100526965707508, 6.2492226011524625, 6.531939657001944, 2.5408771722175088, 5.485386662550281, 10.990172492080672, 5.473285577445076, 1.9642948696546332, 3.5952158513281507, 3.372211196495681, 2.0199812855448833, 11.275799778536909, 10.145979230011132, 8.85108311463424, 4.511591710340208, 9.560728402999377, 13.477879129240106, 17.726863161917155, 6.337826294710656, 10.844369884661106, 12.055607633697829, 4.056558784669307, 4.671275705379626, 8.906577040258567, 4.127846952291112, 6.398559765006207, -0.3102710810372182, 6.428064938370046, 3.8973477960400396, 4.21261343326123, 1.2894873171925225, 2.1210390696394956, 1.4298369901305596, 5.0794685502597305, 5.2435137336780056, 3.827273568636381, 0.7239134084288478, -2.350754458260861, 0.596397385320103, 5.377709354605739, 2.2279906412050656, 4.501495926134964, 1.229955763868981, -0.5183050474463573, 2.917265517053076, 2.3106737133461706, -0.8213968391611759, 2.003019823441759, 1.8448669317888855, 6.1589305657845745, 2.9381257334877984, 5.735795977361211, 3.861374493097706, 6.29128052015535, -2.1805985795179517, -5.017976548071558, -6.769568932805179, 6.631768332184005, 0.7310765409759462, 3.990157959375572, 0.061741816805632954, 2.156866127925302, 9.864718694960061, 6.69808162465341, 4.630988046224991, 8.745039908341464, 6.460375039439062, 6.015377347845417, 2.0250583573410728, 0.24333040598840314, 6.245065178882781, 7.335759666560719, 1.5697494463876116, 7.621130255077424, 6.016610867037119, 6.269739425192239, 8.82976728457259, 2.1648381422077745, 3.1754600487340636, 6.2389729458844005, 4.088556353017021, 1.279288011139169, 2.508764887741927, 8.425621295779134, 4.872453746960094, 11.665675511437115, 11.938085586291427, 0.521574917788249, 17.159163576021154, 10.089492206676182, 15.839292459742323, 15.978801524029796, 7.706881236122759, 13.279693572859832, 19.068146050179077, 15.164696510005276, 20.872147619305846, 29.345286289706127, 10.072464571292304, 19.174535343533712, 23.064710611520336, 54.31050640997284, 64.83897593398163, 74.17229382374961, 48.67475648732154, 49.73888639432287, 37.721736936812206, 26.105096984582875, 36.94249301800247, 37.24698271972725, 32.88147173026261, 62.508578032026506, 50.41766500574038, 53.56651740545325, 43.84037212924506, 47.29663266776464, 18.823361255287644, 31.65202311875348, 30.326931778307877, 28.016426085789156, 42.63497944629217, 23.774759346418673, 15.137805914354075], \"yaxis\": \"y2\"}],                        {\"template\": {\"data\": {\"bar\": [{\"error_x\": {\"color\": \"#2a3f5f\"}, \"error_y\": {\"color\": \"#2a3f5f\"}, \"marker\": {\"line\": {\"color\": \"#E5ECF6\", \"width\": 0.5}}, \"type\": \"bar\"}], \"barpolar\": [{\"marker\": {\"line\": {\"color\": \"#E5ECF6\", \"width\": 0.5}}, \"type\": \"barpolar\"}], \"carpet\": [{\"aaxis\": {\"endlinecolor\": \"#2a3f5f\", \"gridcolor\": \"white\", \"linecolor\": \"white\", \"minorgridcolor\": \"white\", \"startlinecolor\": \"#2a3f5f\"}, \"baxis\": {\"endlinecolor\": \"#2a3f5f\", \"gridcolor\": \"white\", \"linecolor\": \"white\", \"minorgridcolor\": \"white\", \"startlinecolor\": \"#2a3f5f\"}, \"type\": \"carpet\"}], \"choropleth\": [{\"colorbar\": {\"outlinewidth\": 0, \"ticks\": \"\"}, \"type\": \"choropleth\"}], \"contour\": [{\"colorbar\": {\"outlinewidth\": 0, \"ticks\": \"\"}, \"colorscale\": [[0.0, \"#0d0887\"], [0.1111111111111111, \"#46039f\"], [0.2222222222222222, \"#7201a8\"], [0.3333333333333333, \"#9c179e\"], [0.4444444444444444, \"#bd3786\"], [0.5555555555555556, \"#d8576b\"], [0.6666666666666666, \"#ed7953\"], [0.7777777777777778, \"#fb9f3a\"], [0.8888888888888888, \"#fdca26\"], [1.0, \"#f0f921\"]], \"type\": \"contour\"}], \"contourcarpet\": [{\"colorbar\": {\"outlinewidth\": 0, \"ticks\": \"\"}, \"type\": \"contourcarpet\"}], \"heatmap\": [{\"colorbar\": {\"outlinewidth\": 0, \"ticks\": \"\"}, \"colorscale\": [[0.0, \"#0d0887\"], [0.1111111111111111, \"#46039f\"], [0.2222222222222222, \"#7201a8\"], [0.3333333333333333, \"#9c179e\"], [0.4444444444444444, \"#bd3786\"], [0.5555555555555556, \"#d8576b\"], [0.6666666666666666, \"#ed7953\"], [0.7777777777777778, \"#fb9f3a\"], [0.8888888888888888, \"#fdca26\"], [1.0, \"#f0f921\"]], \"type\": \"heatmap\"}], \"heatmapgl\": [{\"colorbar\": {\"outlinewidth\": 0, \"ticks\": \"\"}, \"colorscale\": [[0.0, \"#0d0887\"], [0.1111111111111111, \"#46039f\"], [0.2222222222222222, \"#7201a8\"], [0.3333333333333333, \"#9c179e\"], [0.4444444444444444, \"#bd3786\"], [0.5555555555555556, \"#d8576b\"], [0.6666666666666666, \"#ed7953\"], [0.7777777777777778, \"#fb9f3a\"], [0.8888888888888888, \"#fdca26\"], [1.0, \"#f0f921\"]], \"type\": \"heatmapgl\"}], \"histogram\": [{\"marker\": {\"colorbar\": {\"outlinewidth\": 0, \"ticks\": \"\"}}, \"type\": \"histogram\"}], \"histogram2d\": [{\"colorbar\": {\"outlinewidth\": 0, \"ticks\": \"\"}, \"colorscale\": [[0.0, \"#0d0887\"], [0.1111111111111111, \"#46039f\"], [0.2222222222222222, \"#7201a8\"], [0.3333333333333333, \"#9c179e\"], [0.4444444444444444, \"#bd3786\"], [0.5555555555555556, \"#d8576b\"], [0.6666666666666666, \"#ed7953\"], [0.7777777777777778, \"#fb9f3a\"], [0.8888888888888888, \"#fdca26\"], [1.0, \"#f0f921\"]], \"type\": \"histogram2d\"}], \"histogram2dcontour\": [{\"colorbar\": {\"outlinewidth\": 0, \"ticks\": \"\"}, \"colorscale\": [[0.0, \"#0d0887\"], [0.1111111111111111, \"#46039f\"], [0.2222222222222222, \"#7201a8\"], [0.3333333333333333, \"#9c179e\"], [0.4444444444444444, \"#bd3786\"], [0.5555555555555556, \"#d8576b\"], [0.6666666666666666, \"#ed7953\"], [0.7777777777777778, \"#fb9f3a\"], [0.8888888888888888, \"#fdca26\"], [1.0, \"#f0f921\"]], \"type\": \"histogram2dcontour\"}], \"mesh3d\": [{\"colorbar\": {\"outlinewidth\": 0, \"ticks\": \"\"}, \"type\": \"mesh3d\"}], \"parcoords\": [{\"line\": {\"colorbar\": {\"outlinewidth\": 0, \"ticks\": \"\"}}, \"type\": \"parcoords\"}], \"pie\": [{\"automargin\": true, \"type\": \"pie\"}], \"scatter\": [{\"marker\": {\"colorbar\": {\"outlinewidth\": 0, \"ticks\": \"\"}}, \"type\": \"scatter\"}], \"scatter3d\": [{\"line\": {\"colorbar\": {\"outlinewidth\": 0, \"ticks\": \"\"}}, \"marker\": {\"colorbar\": {\"outlinewidth\": 0, \"ticks\": \"\"}}, \"type\": \"scatter3d\"}], \"scattercarpet\": [{\"marker\": {\"colorbar\": {\"outlinewidth\": 0, \"ticks\": \"\"}}, \"type\": \"scattercarpet\"}], \"scattergeo\": [{\"marker\": {\"colorbar\": {\"outlinewidth\": 0, \"ticks\": \"\"}}, \"type\": \"scattergeo\"}], \"scattergl\": [{\"marker\": {\"colorbar\": {\"outlinewidth\": 0, \"ticks\": \"\"}}, \"type\": \"scattergl\"}], \"scattermapbox\": [{\"marker\": {\"colorbar\": {\"outlinewidth\": 0, \"ticks\": \"\"}}, \"type\": \"scattermapbox\"}], \"scatterpolar\": [{\"marker\": {\"colorbar\": {\"outlinewidth\": 0, \"ticks\": \"\"}}, \"type\": \"scatterpolar\"}], \"scatterpolargl\": [{\"marker\": {\"colorbar\": {\"outlinewidth\": 0, \"ticks\": \"\"}}, \"type\": \"scatterpolargl\"}], \"scatterternary\": [{\"marker\": {\"colorbar\": {\"outlinewidth\": 0, \"ticks\": \"\"}}, \"type\": \"scatterternary\"}], \"surface\": [{\"colorbar\": {\"outlinewidth\": 0, \"ticks\": \"\"}, \"colorscale\": [[0.0, \"#0d0887\"], [0.1111111111111111, \"#46039f\"], [0.2222222222222222, \"#7201a8\"], [0.3333333333333333, \"#9c179e\"], [0.4444444444444444, \"#bd3786\"], [0.5555555555555556, \"#d8576b\"], [0.6666666666666666, \"#ed7953\"], [0.7777777777777778, \"#fb9f3a\"], [0.8888888888888888, \"#fdca26\"], [1.0, \"#f0f921\"]], \"type\": \"surface\"}], \"table\": [{\"cells\": {\"fill\": {\"color\": \"#EBF0F8\"}, \"line\": {\"color\": \"white\"}}, \"header\": {\"fill\": {\"color\": \"#C8D4E3\"}, \"line\": {\"color\": \"white\"}}, \"type\": \"table\"}]}, \"layout\": {\"annotationdefaults\": {\"arrowcolor\": \"#2a3f5f\", \"arrowhead\": 0, \"arrowwidth\": 1}, \"coloraxis\": {\"colorbar\": {\"outlinewidth\": 0, \"ticks\": \"\"}}, \"colorscale\": {\"diverging\": [[0, \"#8e0152\"], [0.1, \"#c51b7d\"], [0.2, \"#de77ae\"], [0.3, \"#f1b6da\"], [0.4, \"#fde0ef\"], [0.5, \"#f7f7f7\"], [0.6, \"#e6f5d0\"], [0.7, \"#b8e186\"], [0.8, \"#7fbc41\"], [0.9, \"#4d9221\"], [1, \"#276419\"]], \"sequential\": [[0.0, \"#0d0887\"], [0.1111111111111111, \"#46039f\"], [0.2222222222222222, \"#7201a8\"], [0.3333333333333333, \"#9c179e\"], [0.4444444444444444, \"#bd3786\"], [0.5555555555555556, \"#d8576b\"], [0.6666666666666666, \"#ed7953\"], [0.7777777777777778, \"#fb9f3a\"], [0.8888888888888888, \"#fdca26\"], [1.0, \"#f0f921\"]], \"sequentialminus\": [[0.0, \"#0d0887\"], [0.1111111111111111, \"#46039f\"], [0.2222222222222222, \"#7201a8\"], [0.3333333333333333, \"#9c179e\"], [0.4444444444444444, \"#bd3786\"], [0.5555555555555556, \"#d8576b\"], [0.6666666666666666, \"#ed7953\"], [0.7777777777777778, \"#fb9f3a\"], [0.8888888888888888, \"#fdca26\"], [1.0, \"#f0f921\"]]}, \"colorway\": [\"#636efa\", \"#EF553B\", \"#00cc96\", \"#ab63fa\", \"#FFA15A\", \"#19d3f3\", \"#FF6692\", \"#B6E880\", \"#FF97FF\", \"#FECB52\"], \"font\": {\"color\": \"#2a3f5f\"}, \"geo\": {\"bgcolor\": \"white\", \"lakecolor\": \"white\", \"landcolor\": \"#E5ECF6\", \"showlakes\": true, \"showland\": true, \"subunitcolor\": \"white\"}, \"hoverlabel\": {\"align\": \"left\"}, \"hovermode\": \"closest\", \"mapbox\": {\"style\": \"light\"}, \"paper_bgcolor\": \"white\", \"plot_bgcolor\": \"#E5ECF6\", \"polar\": {\"angularaxis\": {\"gridcolor\": \"white\", \"linecolor\": \"white\", \"ticks\": \"\"}, \"bgcolor\": \"#E5ECF6\", \"radialaxis\": {\"gridcolor\": \"white\", \"linecolor\": \"white\", \"ticks\": \"\"}}, \"scene\": {\"xaxis\": {\"backgroundcolor\": \"#E5ECF6\", \"gridcolor\": \"white\", \"gridwidth\": 2, \"linecolor\": \"white\", \"showbackground\": true, \"ticks\": \"\", \"zerolinecolor\": \"white\"}, \"yaxis\": {\"backgroundcolor\": \"#E5ECF6\", \"gridcolor\": \"white\", \"gridwidth\": 2, \"linecolor\": \"white\", \"showbackground\": true, \"ticks\": \"\", \"zerolinecolor\": \"white\"}, \"zaxis\": {\"backgroundcolor\": \"#E5ECF6\", \"gridcolor\": \"white\", \"gridwidth\": 2, \"linecolor\": \"white\", \"showbackground\": true, \"ticks\": \"\", \"zerolinecolor\": \"white\"}}, \"shapedefaults\": {\"line\": {\"color\": \"#2a3f5f\"}}, \"ternary\": {\"aaxis\": {\"gridcolor\": \"white\", \"linecolor\": \"white\", \"ticks\": \"\"}, \"baxis\": {\"gridcolor\": \"white\", \"linecolor\": \"white\", \"ticks\": \"\"}, \"bgcolor\": \"#E5ECF6\", \"caxis\": {\"gridcolor\": \"white\", \"linecolor\": \"white\", \"ticks\": \"\"}}, \"title\": {\"x\": 0.05}, \"xaxis\": {\"automargin\": true, \"gridcolor\": \"white\", \"linecolor\": \"white\", \"ticks\": \"\", \"title\": {\"standoff\": 15}, \"zerolinecolor\": \"white\", \"zerolinewidth\": 2}, \"yaxis\": {\"automargin\": true, \"gridcolor\": \"white\", \"linecolor\": \"white\", \"ticks\": \"\", \"title\": {\"standoff\": 15}, \"zerolinecolor\": \"white\", \"zerolinewidth\": 2}}}, \"title\": {\"text\": \"BTC vs LR Sentiment Model - Weekly\"}, \"xaxis\": {\"anchor\": \"y\", \"domain\": [0.0, 0.94], \"title\": {\"text\": \"Date\"}}, \"yaxis\": {\"anchor\": \"x\", \"domain\": [0.0, 1.0], \"title\": {\"text\": \"<b>Sentiment Polarity </b>\"}}, \"yaxis2\": {\"anchor\": \"x\", \"overlaying\": \"y\", \"side\": \"right\", \"title\": {\"text\": \"<b>BTC Price</b>\"}}},                        {\"responsive\": true}                    ).then(function(){\n",
       "                            \n",
       "var gd = document.getElementById('5f30e146-0868-41ca-8fc6-73eba33cc064');\n",
       "var x = new MutationObserver(function (mutations, observer) {{\n",
       "        var display = window.getComputedStyle(gd).display;\n",
       "        if (!display || display === 'none') {{\n",
       "            console.log([gd, 'removed!']);\n",
       "            Plotly.purge(gd);\n",
       "            observer.disconnect();\n",
       "        }}\n",
       "}});\n",
       "\n",
       "// Listen for the removal of the full notebook cells\n",
       "var notebookContainer = gd.closest('#notebook-container');\n",
       "if (notebookContainer) {{\n",
       "    x.observe(notebookContainer, {childList: true});\n",
       "}}\n",
       "\n",
       "// Listen for the clearing of the current output cell\n",
       "var outputEl = gd.closest('.output');\n",
       "if (outputEl) {{\n",
       "    x.observe(outputEl, {childList: true});\n",
       "}}\n",
       "\n",
       "                        })                };                });            </script>        </div>"
      ]
     },
     "metadata": {},
     "output_type": "display_data"
    }
   ],
   "source": [
    "# Create figure with secondary y-axis\n",
    "fig = make_subplots(specs=[[{\"secondary_y\": True}]])\n",
    "\n",
    "# Add traces\n",
    "fig.add_trace(\n",
    "    go.Scatter(x=btc_price_avg.diff().index, y=btc_price_avg.diff(), name=\"LR-Model\"),\n",
    "    secondary_y=False,\n",
    ")\n",
    "\n",
    "fig.add_trace(\n",
    "    go.Scatter(x=a.index, y=a, name=\"Bit Coin Avg\"),\n",
    "    secondary_y=True,\n",
    ")\n",
    "\n",
    "# Add figure title\n",
    "fig.update_layout(\n",
    "    title_text=\"BTC vs LR Sentiment Model - Weekly\"\n",
    ")\n",
    "\n",
    "# Set x-axis title\n",
    "fig.update_xaxes(title_text=\"Date\")\n",
    "\n",
    "# Set y-axes titles\n",
    "fig.update_yaxes(title_text=\"<b>Sentiment Polarity </b>\", secondary_y=False)\n",
    "fig.update_yaxes(title_text=\"<b>BTC Price</b>\", secondary_y=True)\n",
    "\n",
    "fig.show()"
   ]
  },
  {
   "cell_type": "code",
   "execution_count": 263,
   "id": "9a33ecc5",
   "metadata": {},
   "outputs": [
    {
     "data": {
      "application/vnd.plotly.v1+json": {
       "config": {
        "plotlyServerURL": "https://plot.ly"
       },
       "data": [
        {
         "name": "LR-Model",
         "type": "scatter",
         "x": [
          "2019-01-06T00:00:00",
          "2019-01-13T00:00:00",
          "2019-01-20T00:00:00",
          "2019-01-27T00:00:00",
          "2019-02-03T00:00:00",
          "2019-02-10T00:00:00",
          "2019-02-17T00:00:00",
          "2019-02-24T00:00:00",
          "2019-03-03T00:00:00",
          "2019-03-10T00:00:00",
          "2019-03-17T00:00:00",
          "2019-03-24T00:00:00",
          "2019-03-31T00:00:00",
          "2019-04-07T00:00:00",
          "2019-04-14T00:00:00",
          "2019-04-21T00:00:00",
          "2019-04-28T00:00:00",
          "2019-05-05T00:00:00",
          "2019-05-12T00:00:00",
          "2019-05-19T00:00:00",
          "2019-05-26T00:00:00",
          "2019-06-02T00:00:00",
          "2019-06-09T00:00:00",
          "2019-06-16T00:00:00",
          "2019-06-23T00:00:00",
          "2019-06-30T00:00:00",
          "2019-07-07T00:00:00",
          "2019-07-14T00:00:00",
          "2019-07-21T00:00:00",
          "2019-07-28T00:00:00",
          "2019-08-04T00:00:00",
          "2019-08-11T00:00:00",
          "2019-08-18T00:00:00",
          "2019-08-25T00:00:00",
          "2019-09-01T00:00:00",
          "2019-09-08T00:00:00",
          "2019-09-15T00:00:00",
          "2019-09-22T00:00:00",
          "2019-09-29T00:00:00",
          "2019-10-06T00:00:00",
          "2019-10-13T00:00:00",
          "2019-10-20T00:00:00",
          "2019-10-27T00:00:00",
          "2019-11-03T00:00:00",
          "2019-11-10T00:00:00",
          "2019-11-17T00:00:00",
          "2019-11-24T00:00:00",
          "2019-12-01T00:00:00",
          "2019-12-08T00:00:00",
          "2019-12-15T00:00:00",
          "2019-12-22T00:00:00",
          "2019-12-29T00:00:00",
          "2020-01-05T00:00:00",
          "2020-01-12T00:00:00",
          "2020-01-19T00:00:00",
          "2020-01-26T00:00:00",
          "2020-02-02T00:00:00",
          "2020-02-09T00:00:00",
          "2020-02-16T00:00:00",
          "2020-02-23T00:00:00",
          "2020-03-01T00:00:00",
          "2020-03-08T00:00:00",
          "2020-03-15T00:00:00",
          "2020-03-22T00:00:00",
          "2020-03-29T00:00:00",
          "2020-04-05T00:00:00",
          "2020-04-12T00:00:00",
          "2020-04-19T00:00:00",
          "2020-04-26T00:00:00",
          "2020-05-03T00:00:00",
          "2020-05-10T00:00:00",
          "2020-05-17T00:00:00",
          "2020-05-24T00:00:00",
          "2020-05-31T00:00:00",
          "2020-06-07T00:00:00",
          "2020-06-14T00:00:00",
          "2020-06-21T00:00:00",
          "2020-06-28T00:00:00",
          "2020-07-05T00:00:00",
          "2020-07-12T00:00:00",
          "2020-07-19T00:00:00",
          "2020-07-26T00:00:00",
          "2020-08-02T00:00:00",
          "2020-08-09T00:00:00",
          "2020-08-16T00:00:00",
          "2020-08-23T00:00:00",
          "2020-08-30T00:00:00",
          "2020-09-06T00:00:00",
          "2020-09-13T00:00:00",
          "2020-09-20T00:00:00",
          "2020-09-27T00:00:00",
          "2020-10-04T00:00:00",
          "2020-10-11T00:00:00",
          "2020-10-18T00:00:00",
          "2020-10-25T00:00:00",
          "2020-11-01T00:00:00",
          "2020-11-08T00:00:00",
          "2020-11-15T00:00:00",
          "2020-11-22T00:00:00",
          "2020-11-29T00:00:00",
          "2020-12-06T00:00:00",
          "2020-12-13T00:00:00",
          "2020-12-20T00:00:00",
          "2020-12-27T00:00:00",
          "2021-01-03T00:00:00",
          "2021-01-10T00:00:00",
          "2021-01-17T00:00:00",
          "2021-01-24T00:00:00",
          "2021-01-31T00:00:00",
          "2021-02-07T00:00:00",
          "2021-02-14T00:00:00",
          "2021-02-21T00:00:00",
          "2021-02-28T00:00:00",
          "2021-03-07T00:00:00",
          "2021-03-14T00:00:00",
          "2021-03-21T00:00:00",
          "2021-03-28T00:00:00",
          "2021-04-04T00:00:00",
          "2021-04-11T00:00:00",
          "2021-04-18T00:00:00",
          "2021-04-25T00:00:00",
          "2021-05-02T00:00:00",
          "2021-05-09T00:00:00",
          "2021-05-16T00:00:00",
          "2021-05-23T00:00:00",
          "2021-05-30T00:00:00",
          "2021-06-06T00:00:00",
          "2021-06-13T00:00:00",
          "2021-06-20T00:00:00",
          "2021-06-27T00:00:00"
         ],
         "xaxis": "x",
         "y": [
          null,
          -3.377753572187947E-4,
          -0.04971962353556125,
          -0.01894263678023611,
          -0.03267721731530249,
          0.012614548287136929,
          0.03453086235545899,
          0.0884377379382999,
          -0.02599350509484344,
          0.007656860239310559,
          0.015120602006025496,
          0.023579611374198173,
          0.003714181588542864,
          0.19460500460804186,
          0.06679623075338292,
          0.014145378257086172,
          0.02420207045168321,
          0.02699988425078259,
          0.13638979258750306,
          0.23372589034153624,
          0.030149740935795144,
          0.08235471083534929,
          -0.07895780757315796,
          0.04682710263064904,
          0.174353725459788,
          0.20033461826056254,
          -0.05245507042771014,
          0.05754988242558867,
          -0.12169729043576338,
          -0.040703613452324316,
          0.02833720553331287,
          0.14505059652944707,
          -0.09479647196360619,
          -0.018961179956198726,
          -0.0476660713851057,
          0.06281571645763306,
          -0.019001241451275463,
          -0.010698048846006447,
          -0.1541409977013618,
          -0.04556190803510518,
          0.01972656953598495,
          -0.027627992930457146,
          0.02826648839119117,
          0.11240779574024384,
          -0.014858612513808156,
          -0.04989795291369514,
          -0.10572671691115465,
          -0.05011601853791148,
          0.0059662581925366,
          -0.024675417652944565,
          -0.02353708977174629,
          0.037708624651932254,
          -0.011302283175576577,
          0.09764662305887595,
          0.08765558897546799,
          -0.01679545635800639,
          0.08343407335106567,
          0.039114416423991605,
          0.05158076840020742,
          -0.03602611100426656,
          -0.07646032875335174,
          -0.017332457740613427,
          -0.2575750884645899,
          -0.13511795750199507,
          0.13480576662569388,
          0.027141908991116237,
          0.07288910456444775,
          -0.01750586736395454,
          0.04303244761206293,
          0.17002784606105736,
          0.09308447559227595,
          -0.008948957063018792,
          0.016679034271036564,
          -0.014919759174074954,
          0.05162766744633074,
          -0.012069452330420005,
          -0.023300955536572854,
          -0.006536996569913689,
          -0.01848574816320092,
          0.014323960947223213,
          -0.008777530913194331,
          0.032875373865138835,
          0.1722466451747482,
          0.03631871430633371,
          0.016582427773552455,
          0.009574112439406868,
          -0.027490846313339423,
          -0.04579014993352781,
          -0.06305659161755084,
          0.05597910808981221,
          -0.025085322436017243,
          0.008125702368226628,
          0.021311416386240678,
          0.046663814661354275,
          0.10072397580985415,
          0.06880646166650184,
          0.0832341662827536,
          0.08382043472858047,
          0.12624062628292188,
          0.013612469384522319,
          0.057683460902409056,
          -0.0245902955810523,
          0.16360547671130177,
          0.12224125192340729,
          0.2020149857159399,
          0.2511786296510268,
          -0.0132916958104915,
          -0.060110100092752194,
          -0.02555515786381579,
          0.1167216038442076,
          0.2565351910935769,
          0.1293068673033273,
          -0.07003459003053392,
          0.007729328308548666,
          0.1442446460790423,
          0.02477860773690077,
          -0.04717696733414267,
          0.06977571136970462,
          6.656481662246083E-4,
          0.04654019830011458,
          -0.1413591340111625,
          0.04587846786435468,
          0.03448355326336161,
          -0.0940059840789802,
          -0.2403746250872264,
          -0.048747674030995114,
          -0.01095082994913854,
          -0.03151900464794699,
          0.06212621308067812,
          -0.13358197650908432
         ],
         "yaxis": "y"
        },
        {
         "name": "Bit Coin Avg",
         "type": "scatter",
         "x": [
          "2019-01-06T00:00:00",
          "2019-01-13T00:00:00",
          "2019-01-20T00:00:00",
          "2019-01-27T00:00:00",
          "2019-02-03T00:00:00",
          "2019-02-10T00:00:00",
          "2019-02-17T00:00:00",
          "2019-02-24T00:00:00",
          "2019-03-03T00:00:00",
          "2019-03-10T00:00:00",
          "2019-03-17T00:00:00",
          "2019-03-24T00:00:00",
          "2019-03-31T00:00:00",
          "2019-04-07T00:00:00",
          "2019-04-14T00:00:00",
          "2019-04-21T00:00:00",
          "2019-04-28T00:00:00",
          "2019-05-05T00:00:00",
          "2019-05-12T00:00:00",
          "2019-05-19T00:00:00",
          "2019-05-26T00:00:00",
          "2019-06-02T00:00:00",
          "2019-06-09T00:00:00",
          "2019-06-16T00:00:00",
          "2019-06-23T00:00:00",
          "2019-06-30T00:00:00",
          "2019-07-07T00:00:00",
          "2019-07-14T00:00:00",
          "2019-07-21T00:00:00",
          "2019-07-28T00:00:00",
          "2019-08-04T00:00:00",
          "2019-08-11T00:00:00",
          "2019-08-18T00:00:00",
          "2019-08-25T00:00:00",
          "2019-09-01T00:00:00",
          "2019-09-08T00:00:00",
          "2019-09-15T00:00:00",
          "2019-09-22T00:00:00",
          "2019-09-29T00:00:00",
          "2019-10-06T00:00:00",
          "2019-10-13T00:00:00",
          "2019-10-20T00:00:00",
          "2019-10-27T00:00:00",
          "2019-11-03T00:00:00",
          "2019-11-10T00:00:00",
          "2019-11-17T00:00:00",
          "2019-11-24T00:00:00",
          "2019-12-01T00:00:00",
          "2019-12-08T00:00:00",
          "2019-12-15T00:00:00",
          "2019-12-22T00:00:00",
          "2019-12-29T00:00:00",
          "2020-01-05T00:00:00",
          "2020-01-12T00:00:00",
          "2020-01-19T00:00:00",
          "2020-01-26T00:00:00",
          "2020-02-02T00:00:00",
          "2020-02-09T00:00:00",
          "2020-02-16T00:00:00",
          "2020-02-23T00:00:00",
          "2020-03-01T00:00:00",
          "2020-03-08T00:00:00",
          "2020-03-15T00:00:00",
          "2020-03-22T00:00:00",
          "2020-03-29T00:00:00",
          "2020-04-05T00:00:00",
          "2020-04-12T00:00:00",
          "2020-04-19T00:00:00",
          "2020-04-26T00:00:00",
          "2020-05-03T00:00:00",
          "2020-05-10T00:00:00",
          "2020-05-17T00:00:00",
          "2020-05-24T00:00:00",
          "2020-05-31T00:00:00",
          "2020-06-07T00:00:00",
          "2020-06-14T00:00:00",
          "2020-06-21T00:00:00",
          "2020-06-28T00:00:00",
          "2020-07-05T00:00:00",
          "2020-07-12T00:00:00",
          "2020-07-19T00:00:00",
          "2020-07-26T00:00:00",
          "2020-08-02T00:00:00",
          "2020-08-09T00:00:00",
          "2020-08-16T00:00:00",
          "2020-08-23T00:00:00",
          "2020-08-30T00:00:00",
          "2020-09-06T00:00:00",
          "2020-09-13T00:00:00",
          "2020-09-20T00:00:00",
          "2020-09-27T00:00:00",
          "2020-10-04T00:00:00",
          "2020-10-11T00:00:00",
          "2020-10-18T00:00:00",
          "2020-10-25T00:00:00",
          "2020-11-01T00:00:00",
          "2020-11-08T00:00:00",
          "2020-11-15T00:00:00",
          "2020-11-22T00:00:00",
          "2020-11-29T00:00:00",
          "2020-12-06T00:00:00",
          "2020-12-13T00:00:00",
          "2020-12-20T00:00:00",
          "2020-12-27T00:00:00",
          "2021-01-03T00:00:00",
          "2021-01-10T00:00:00",
          "2021-01-17T00:00:00",
          "2021-01-24T00:00:00",
          "2021-01-31T00:00:00",
          "2021-02-07T00:00:00",
          "2021-02-14T00:00:00",
          "2021-02-21T00:00:00",
          "2021-02-28T00:00:00",
          "2021-03-07T00:00:00",
          "2021-03-14T00:00:00",
          "2021-03-21T00:00:00",
          "2021-03-28T00:00:00",
          "2021-04-04T00:00:00",
          "2021-04-11T00:00:00",
          "2021-04-18T00:00:00",
          "2021-04-25T00:00:00",
          "2021-05-02T00:00:00",
          "2021-05-09T00:00:00",
          "2021-05-16T00:00:00",
          "2021-05-23T00:00:00",
          "2021-05-30T00:00:00",
          "2021-06-06T00:00:00",
          "2021-06-13T00:00:00",
          "2021-06-20T00:00:00",
          "2021-06-27T00:00:00",
          "2021-07-04T00:00:00"
         ],
         "xaxis": "x",
         "y": [
          -2.207817026915883,
          9.80801262948831,
          5.362364988019226,
          9.199570393607482,
          1.1680987765777142,
          4.139293140604803,
          -0.5075885313681074,
          11.443932707838883,
          6.100526965707508,
          6.2492226011524625,
          6.531939657001944,
          2.5408771722175088,
          5.485386662550281,
          10.990172492080672,
          5.473285577445076,
          1.9642948696546332,
          3.5952158513281507,
          3.372211196495681,
          2.0199812855448833,
          11.275799778536909,
          10.145979230011132,
          8.85108311463424,
          4.511591710340208,
          9.560728402999377,
          13.477879129240106,
          17.726863161917155,
          6.337826294710656,
          10.844369884661106,
          12.055607633697829,
          4.056558784669307,
          4.671275705379626,
          8.906577040258567,
          4.127846952291112,
          6.398559765006207,
          -0.3102710810372182,
          6.428064938370046,
          3.8973477960400396,
          4.21261343326123,
          1.2894873171925225,
          2.1210390696394956,
          1.4298369901305596,
          5.0794685502597305,
          5.2435137336780056,
          3.827273568636381,
          0.7239134084288478,
          -2.350754458260861,
          0.596397385320103,
          5.377709354605739,
          2.2279906412050656,
          4.501495926134964,
          1.229955763868981,
          -0.5183050474463573,
          2.917265517053076,
          2.3106737133461706,
          -0.8213968391611759,
          2.003019823441759,
          1.8448669317888855,
          6.1589305657845745,
          2.9381257334877984,
          5.735795977361211,
          3.861374493097706,
          6.29128052015535,
          -2.1805985795179517,
          -5.017976548071558,
          -6.769568932805179,
          6.631768332184005,
          0.7310765409759462,
          3.990157959375572,
          0.061741816805632954,
          2.156866127925302,
          9.864718694960061,
          6.69808162465341,
          4.630988046224991,
          8.745039908341464,
          6.460375039439062,
          6.015377347845417,
          2.0250583573410728,
          0.24333040598840314,
          6.245065178882781,
          7.335759666560719,
          1.5697494463876116,
          7.621130255077424,
          6.016610867037119,
          6.269739425192239,
          8.82976728457259,
          2.1648381422077745,
          3.1754600487340636,
          6.2389729458844005,
          4.088556353017021,
          1.279288011139169,
          2.508764887741927,
          8.425621295779134,
          4.872453746960094,
          11.665675511437115,
          11.938085586291427,
          0.521574917788249,
          17.159163576021154,
          10.089492206676182,
          15.839292459742323,
          15.978801524029796,
          7.706881236122759,
          13.279693572859832,
          19.068146050179077,
          15.164696510005276,
          20.872147619305846,
          29.345286289706127,
          10.072464571292304,
          19.174535343533712,
          23.064710611520336,
          54.31050640997284,
          64.83897593398163,
          74.17229382374961,
          48.67475648732154,
          49.73888639432287,
          37.721736936812206,
          26.105096984582875,
          36.94249301800247,
          37.24698271972725,
          32.88147173026261,
          62.508578032026506,
          50.41766500574038,
          53.56651740545325,
          43.84037212924506,
          47.29663266776464,
          18.823361255287644,
          31.65202311875348,
          30.326931778307877,
          28.016426085789156,
          42.63497944629217,
          23.774759346418673,
          15.137805914354075
         ],
         "yaxis": "y2"
        }
       ],
       "layout": {
        "template": {
         "data": {
          "bar": [
           {
            "error_x": {
             "color": "#2a3f5f"
            },
            "error_y": {
             "color": "#2a3f5f"
            },
            "marker": {
             "line": {
              "color": "#E5ECF6",
              "width": 0.5
             }
            },
            "type": "bar"
           }
          ],
          "barpolar": [
           {
            "marker": {
             "line": {
              "color": "#E5ECF6",
              "width": 0.5
             }
            },
            "type": "barpolar"
           }
          ],
          "carpet": [
           {
            "aaxis": {
             "endlinecolor": "#2a3f5f",
             "gridcolor": "white",
             "linecolor": "white",
             "minorgridcolor": "white",
             "startlinecolor": "#2a3f5f"
            },
            "baxis": {
             "endlinecolor": "#2a3f5f",
             "gridcolor": "white",
             "linecolor": "white",
             "minorgridcolor": "white",
             "startlinecolor": "#2a3f5f"
            },
            "type": "carpet"
           }
          ],
          "choropleth": [
           {
            "colorbar": {
             "outlinewidth": 0,
             "ticks": ""
            },
            "type": "choropleth"
           }
          ],
          "contour": [
           {
            "colorbar": {
             "outlinewidth": 0,
             "ticks": ""
            },
            "colorscale": [
             [
              0,
              "#0d0887"
             ],
             [
              0.1111111111111111,
              "#46039f"
             ],
             [
              0.2222222222222222,
              "#7201a8"
             ],
             [
              0.3333333333333333,
              "#9c179e"
             ],
             [
              0.4444444444444444,
              "#bd3786"
             ],
             [
              0.5555555555555556,
              "#d8576b"
             ],
             [
              0.6666666666666666,
              "#ed7953"
             ],
             [
              0.7777777777777778,
              "#fb9f3a"
             ],
             [
              0.8888888888888888,
              "#fdca26"
             ],
             [
              1,
              "#f0f921"
             ]
            ],
            "type": "contour"
           }
          ],
          "contourcarpet": [
           {
            "colorbar": {
             "outlinewidth": 0,
             "ticks": ""
            },
            "type": "contourcarpet"
           }
          ],
          "heatmap": [
           {
            "colorbar": {
             "outlinewidth": 0,
             "ticks": ""
            },
            "colorscale": [
             [
              0,
              "#0d0887"
             ],
             [
              0.1111111111111111,
              "#46039f"
             ],
             [
              0.2222222222222222,
              "#7201a8"
             ],
             [
              0.3333333333333333,
              "#9c179e"
             ],
             [
              0.4444444444444444,
              "#bd3786"
             ],
             [
              0.5555555555555556,
              "#d8576b"
             ],
             [
              0.6666666666666666,
              "#ed7953"
             ],
             [
              0.7777777777777778,
              "#fb9f3a"
             ],
             [
              0.8888888888888888,
              "#fdca26"
             ],
             [
              1,
              "#f0f921"
             ]
            ],
            "type": "heatmap"
           }
          ],
          "heatmapgl": [
           {
            "colorbar": {
             "outlinewidth": 0,
             "ticks": ""
            },
            "colorscale": [
             [
              0,
              "#0d0887"
             ],
             [
              0.1111111111111111,
              "#46039f"
             ],
             [
              0.2222222222222222,
              "#7201a8"
             ],
             [
              0.3333333333333333,
              "#9c179e"
             ],
             [
              0.4444444444444444,
              "#bd3786"
             ],
             [
              0.5555555555555556,
              "#d8576b"
             ],
             [
              0.6666666666666666,
              "#ed7953"
             ],
             [
              0.7777777777777778,
              "#fb9f3a"
             ],
             [
              0.8888888888888888,
              "#fdca26"
             ],
             [
              1,
              "#f0f921"
             ]
            ],
            "type": "heatmapgl"
           }
          ],
          "histogram": [
           {
            "marker": {
             "colorbar": {
              "outlinewidth": 0,
              "ticks": ""
             }
            },
            "type": "histogram"
           }
          ],
          "histogram2d": [
           {
            "colorbar": {
             "outlinewidth": 0,
             "ticks": ""
            },
            "colorscale": [
             [
              0,
              "#0d0887"
             ],
             [
              0.1111111111111111,
              "#46039f"
             ],
             [
              0.2222222222222222,
              "#7201a8"
             ],
             [
              0.3333333333333333,
              "#9c179e"
             ],
             [
              0.4444444444444444,
              "#bd3786"
             ],
             [
              0.5555555555555556,
              "#d8576b"
             ],
             [
              0.6666666666666666,
              "#ed7953"
             ],
             [
              0.7777777777777778,
              "#fb9f3a"
             ],
             [
              0.8888888888888888,
              "#fdca26"
             ],
             [
              1,
              "#f0f921"
             ]
            ],
            "type": "histogram2d"
           }
          ],
          "histogram2dcontour": [
           {
            "colorbar": {
             "outlinewidth": 0,
             "ticks": ""
            },
            "colorscale": [
             [
              0,
              "#0d0887"
             ],
             [
              0.1111111111111111,
              "#46039f"
             ],
             [
              0.2222222222222222,
              "#7201a8"
             ],
             [
              0.3333333333333333,
              "#9c179e"
             ],
             [
              0.4444444444444444,
              "#bd3786"
             ],
             [
              0.5555555555555556,
              "#d8576b"
             ],
             [
              0.6666666666666666,
              "#ed7953"
             ],
             [
              0.7777777777777778,
              "#fb9f3a"
             ],
             [
              0.8888888888888888,
              "#fdca26"
             ],
             [
              1,
              "#f0f921"
             ]
            ],
            "type": "histogram2dcontour"
           }
          ],
          "mesh3d": [
           {
            "colorbar": {
             "outlinewidth": 0,
             "ticks": ""
            },
            "type": "mesh3d"
           }
          ],
          "parcoords": [
           {
            "line": {
             "colorbar": {
              "outlinewidth": 0,
              "ticks": ""
             }
            },
            "type": "parcoords"
           }
          ],
          "pie": [
           {
            "automargin": true,
            "type": "pie"
           }
          ],
          "scatter": [
           {
            "marker": {
             "colorbar": {
              "outlinewidth": 0,
              "ticks": ""
             }
            },
            "type": "scatter"
           }
          ],
          "scatter3d": [
           {
            "line": {
             "colorbar": {
              "outlinewidth": 0,
              "ticks": ""
             }
            },
            "marker": {
             "colorbar": {
              "outlinewidth": 0,
              "ticks": ""
             }
            },
            "type": "scatter3d"
           }
          ],
          "scattercarpet": [
           {
            "marker": {
             "colorbar": {
              "outlinewidth": 0,
              "ticks": ""
             }
            },
            "type": "scattercarpet"
           }
          ],
          "scattergeo": [
           {
            "marker": {
             "colorbar": {
              "outlinewidth": 0,
              "ticks": ""
             }
            },
            "type": "scattergeo"
           }
          ],
          "scattergl": [
           {
            "marker": {
             "colorbar": {
              "outlinewidth": 0,
              "ticks": ""
             }
            },
            "type": "scattergl"
           }
          ],
          "scattermapbox": [
           {
            "marker": {
             "colorbar": {
              "outlinewidth": 0,
              "ticks": ""
             }
            },
            "type": "scattermapbox"
           }
          ],
          "scatterpolar": [
           {
            "marker": {
             "colorbar": {
              "outlinewidth": 0,
              "ticks": ""
             }
            },
            "type": "scatterpolar"
           }
          ],
          "scatterpolargl": [
           {
            "marker": {
             "colorbar": {
              "outlinewidth": 0,
              "ticks": ""
             }
            },
            "type": "scatterpolargl"
           }
          ],
          "scatterternary": [
           {
            "marker": {
             "colorbar": {
              "outlinewidth": 0,
              "ticks": ""
             }
            },
            "type": "scatterternary"
           }
          ],
          "surface": [
           {
            "colorbar": {
             "outlinewidth": 0,
             "ticks": ""
            },
            "colorscale": [
             [
              0,
              "#0d0887"
             ],
             [
              0.1111111111111111,
              "#46039f"
             ],
             [
              0.2222222222222222,
              "#7201a8"
             ],
             [
              0.3333333333333333,
              "#9c179e"
             ],
             [
              0.4444444444444444,
              "#bd3786"
             ],
             [
              0.5555555555555556,
              "#d8576b"
             ],
             [
              0.6666666666666666,
              "#ed7953"
             ],
             [
              0.7777777777777778,
              "#fb9f3a"
             ],
             [
              0.8888888888888888,
              "#fdca26"
             ],
             [
              1,
              "#f0f921"
             ]
            ],
            "type": "surface"
           }
          ],
          "table": [
           {
            "cells": {
             "fill": {
              "color": "#EBF0F8"
             },
             "line": {
              "color": "white"
             }
            },
            "header": {
             "fill": {
              "color": "#C8D4E3"
             },
             "line": {
              "color": "white"
             }
            },
            "type": "table"
           }
          ]
         },
         "layout": {
          "annotationdefaults": {
           "arrowcolor": "#2a3f5f",
           "arrowhead": 0,
           "arrowwidth": 1
          },
          "coloraxis": {
           "colorbar": {
            "outlinewidth": 0,
            "ticks": ""
           }
          },
          "colorscale": {
           "diverging": [
            [
             0,
             "#8e0152"
            ],
            [
             0.1,
             "#c51b7d"
            ],
            [
             0.2,
             "#de77ae"
            ],
            [
             0.3,
             "#f1b6da"
            ],
            [
             0.4,
             "#fde0ef"
            ],
            [
             0.5,
             "#f7f7f7"
            ],
            [
             0.6,
             "#e6f5d0"
            ],
            [
             0.7,
             "#b8e186"
            ],
            [
             0.8,
             "#7fbc41"
            ],
            [
             0.9,
             "#4d9221"
            ],
            [
             1,
             "#276419"
            ]
           ],
           "sequential": [
            [
             0,
             "#0d0887"
            ],
            [
             0.1111111111111111,
             "#46039f"
            ],
            [
             0.2222222222222222,
             "#7201a8"
            ],
            [
             0.3333333333333333,
             "#9c179e"
            ],
            [
             0.4444444444444444,
             "#bd3786"
            ],
            [
             0.5555555555555556,
             "#d8576b"
            ],
            [
             0.6666666666666666,
             "#ed7953"
            ],
            [
             0.7777777777777778,
             "#fb9f3a"
            ],
            [
             0.8888888888888888,
             "#fdca26"
            ],
            [
             1,
             "#f0f921"
            ]
           ],
           "sequentialminus": [
            [
             0,
             "#0d0887"
            ],
            [
             0.1111111111111111,
             "#46039f"
            ],
            [
             0.2222222222222222,
             "#7201a8"
            ],
            [
             0.3333333333333333,
             "#9c179e"
            ],
            [
             0.4444444444444444,
             "#bd3786"
            ],
            [
             0.5555555555555556,
             "#d8576b"
            ],
            [
             0.6666666666666666,
             "#ed7953"
            ],
            [
             0.7777777777777778,
             "#fb9f3a"
            ],
            [
             0.8888888888888888,
             "#fdca26"
            ],
            [
             1,
             "#f0f921"
            ]
           ]
          },
          "colorway": [
           "#636efa",
           "#EF553B",
           "#00cc96",
           "#ab63fa",
           "#FFA15A",
           "#19d3f3",
           "#FF6692",
           "#B6E880",
           "#FF97FF",
           "#FECB52"
          ],
          "font": {
           "color": "#2a3f5f"
          },
          "geo": {
           "bgcolor": "white",
           "lakecolor": "white",
           "landcolor": "#E5ECF6",
           "showlakes": true,
           "showland": true,
           "subunitcolor": "white"
          },
          "hoverlabel": {
           "align": "left"
          },
          "hovermode": "closest",
          "mapbox": {
           "style": "light"
          },
          "paper_bgcolor": "white",
          "plot_bgcolor": "#E5ECF6",
          "polar": {
           "angularaxis": {
            "gridcolor": "white",
            "linecolor": "white",
            "ticks": ""
           },
           "bgcolor": "#E5ECF6",
           "radialaxis": {
            "gridcolor": "white",
            "linecolor": "white",
            "ticks": ""
           }
          },
          "scene": {
           "xaxis": {
            "backgroundcolor": "#E5ECF6",
            "gridcolor": "white",
            "gridwidth": 2,
            "linecolor": "white",
            "showbackground": true,
            "ticks": "",
            "zerolinecolor": "white"
           },
           "yaxis": {
            "backgroundcolor": "#E5ECF6",
            "gridcolor": "white",
            "gridwidth": 2,
            "linecolor": "white",
            "showbackground": true,
            "ticks": "",
            "zerolinecolor": "white"
           },
           "zaxis": {
            "backgroundcolor": "#E5ECF6",
            "gridcolor": "white",
            "gridwidth": 2,
            "linecolor": "white",
            "showbackground": true,
            "ticks": "",
            "zerolinecolor": "white"
           }
          },
          "shapedefaults": {
           "line": {
            "color": "#2a3f5f"
           }
          },
          "ternary": {
           "aaxis": {
            "gridcolor": "white",
            "linecolor": "white",
            "ticks": ""
           },
           "baxis": {
            "gridcolor": "white",
            "linecolor": "white",
            "ticks": ""
           },
           "bgcolor": "#E5ECF6",
           "caxis": {
            "gridcolor": "white",
            "linecolor": "white",
            "ticks": ""
           }
          },
          "title": {
           "x": 0.05
          },
          "xaxis": {
           "automargin": true,
           "gridcolor": "white",
           "linecolor": "white",
           "ticks": "",
           "title": {
            "standoff": 15
           },
           "zerolinecolor": "white",
           "zerolinewidth": 2
          },
          "yaxis": {
           "automargin": true,
           "gridcolor": "white",
           "linecolor": "white",
           "ticks": "",
           "title": {
            "standoff": 15
           },
           "zerolinecolor": "white",
           "zerolinewidth": 2
          }
         }
        },
        "title": {
         "text": "BTC vs LR Sentiment Model - Weekly"
        },
        "xaxis": {
         "anchor": "y",
         "domain": [
          0,
          0.94
         ],
         "title": {
          "text": "Date"
         }
        },
        "yaxis": {
         "anchor": "x",
         "domain": [
          0,
          1
         ],
         "title": {
          "text": "<b>Sentiment Polarity </b>"
         }
        },
        "yaxis2": {
         "anchor": "x",
         "overlaying": "y",
         "side": "right",
         "title": {
          "text": "<b>BTC Price</b>"
         }
        }
       }
      },
      "text/html": [
       "<div>                            <div id=\"c73e2e4a-7d98-4177-b1f5-55ee91ddd08b\" class=\"plotly-graph-div\" style=\"height:525px; width:100%;\"></div>            <script type=\"text/javascript\">                require([\"plotly\"], function(Plotly) {                    window.PLOTLYENV=window.PLOTLYENV || {};                                    if (document.getElementById(\"c73e2e4a-7d98-4177-b1f5-55ee91ddd08b\")) {                    Plotly.newPlot(                        \"c73e2e4a-7d98-4177-b1f5-55ee91ddd08b\",                        [{\"name\": \"LR-Model\", \"type\": \"scatter\", \"x\": [\"2019-01-06T00:00:00\", \"2019-01-13T00:00:00\", \"2019-01-20T00:00:00\", \"2019-01-27T00:00:00\", \"2019-02-03T00:00:00\", \"2019-02-10T00:00:00\", \"2019-02-17T00:00:00\", \"2019-02-24T00:00:00\", \"2019-03-03T00:00:00\", \"2019-03-10T00:00:00\", \"2019-03-17T00:00:00\", \"2019-03-24T00:00:00\", \"2019-03-31T00:00:00\", \"2019-04-07T00:00:00\", \"2019-04-14T00:00:00\", \"2019-04-21T00:00:00\", \"2019-04-28T00:00:00\", \"2019-05-05T00:00:00\", \"2019-05-12T00:00:00\", \"2019-05-19T00:00:00\", \"2019-05-26T00:00:00\", \"2019-06-02T00:00:00\", \"2019-06-09T00:00:00\", \"2019-06-16T00:00:00\", \"2019-06-23T00:00:00\", \"2019-06-30T00:00:00\", \"2019-07-07T00:00:00\", \"2019-07-14T00:00:00\", \"2019-07-21T00:00:00\", \"2019-07-28T00:00:00\", \"2019-08-04T00:00:00\", \"2019-08-11T00:00:00\", \"2019-08-18T00:00:00\", \"2019-08-25T00:00:00\", \"2019-09-01T00:00:00\", \"2019-09-08T00:00:00\", \"2019-09-15T00:00:00\", \"2019-09-22T00:00:00\", \"2019-09-29T00:00:00\", \"2019-10-06T00:00:00\", \"2019-10-13T00:00:00\", \"2019-10-20T00:00:00\", \"2019-10-27T00:00:00\", \"2019-11-03T00:00:00\", \"2019-11-10T00:00:00\", \"2019-11-17T00:00:00\", \"2019-11-24T00:00:00\", \"2019-12-01T00:00:00\", \"2019-12-08T00:00:00\", \"2019-12-15T00:00:00\", \"2019-12-22T00:00:00\", \"2019-12-29T00:00:00\", \"2020-01-05T00:00:00\", \"2020-01-12T00:00:00\", \"2020-01-19T00:00:00\", \"2020-01-26T00:00:00\", \"2020-02-02T00:00:00\", \"2020-02-09T00:00:00\", \"2020-02-16T00:00:00\", \"2020-02-23T00:00:00\", \"2020-03-01T00:00:00\", \"2020-03-08T00:00:00\", \"2020-03-15T00:00:00\", \"2020-03-22T00:00:00\", \"2020-03-29T00:00:00\", \"2020-04-05T00:00:00\", \"2020-04-12T00:00:00\", \"2020-04-19T00:00:00\", \"2020-04-26T00:00:00\", \"2020-05-03T00:00:00\", \"2020-05-10T00:00:00\", \"2020-05-17T00:00:00\", \"2020-05-24T00:00:00\", \"2020-05-31T00:00:00\", \"2020-06-07T00:00:00\", \"2020-06-14T00:00:00\", \"2020-06-21T00:00:00\", \"2020-06-28T00:00:00\", \"2020-07-05T00:00:00\", \"2020-07-12T00:00:00\", \"2020-07-19T00:00:00\", \"2020-07-26T00:00:00\", \"2020-08-02T00:00:00\", \"2020-08-09T00:00:00\", \"2020-08-16T00:00:00\", \"2020-08-23T00:00:00\", \"2020-08-30T00:00:00\", \"2020-09-06T00:00:00\", \"2020-09-13T00:00:00\", \"2020-09-20T00:00:00\", \"2020-09-27T00:00:00\", \"2020-10-04T00:00:00\", \"2020-10-11T00:00:00\", \"2020-10-18T00:00:00\", \"2020-10-25T00:00:00\", \"2020-11-01T00:00:00\", \"2020-11-08T00:00:00\", \"2020-11-15T00:00:00\", \"2020-11-22T00:00:00\", \"2020-11-29T00:00:00\", \"2020-12-06T00:00:00\", \"2020-12-13T00:00:00\", \"2020-12-20T00:00:00\", \"2020-12-27T00:00:00\", \"2021-01-03T00:00:00\", \"2021-01-10T00:00:00\", \"2021-01-17T00:00:00\", \"2021-01-24T00:00:00\", \"2021-01-31T00:00:00\", \"2021-02-07T00:00:00\", \"2021-02-14T00:00:00\", \"2021-02-21T00:00:00\", \"2021-02-28T00:00:00\", \"2021-03-07T00:00:00\", \"2021-03-14T00:00:00\", \"2021-03-21T00:00:00\", \"2021-03-28T00:00:00\", \"2021-04-04T00:00:00\", \"2021-04-11T00:00:00\", \"2021-04-18T00:00:00\", \"2021-04-25T00:00:00\", \"2021-05-02T00:00:00\", \"2021-05-09T00:00:00\", \"2021-05-16T00:00:00\", \"2021-05-23T00:00:00\", \"2021-05-30T00:00:00\", \"2021-06-06T00:00:00\", \"2021-06-13T00:00:00\", \"2021-06-20T00:00:00\", \"2021-06-27T00:00:00\"], \"xaxis\": \"x\", \"y\": [null, -0.0003377753572187947, -0.04971962353556125, -0.01894263678023611, -0.03267721731530249, 0.012614548287136929, 0.03453086235545899, 0.0884377379382999, -0.02599350509484344, 0.007656860239310559, 0.015120602006025496, 0.023579611374198173, 0.003714181588542864, 0.19460500460804186, 0.06679623075338292, 0.014145378257086172, 0.02420207045168321, 0.02699988425078259, 0.13638979258750306, 0.23372589034153624, 0.030149740935795144, 0.08235471083534929, -0.07895780757315796, 0.04682710263064904, 0.174353725459788, 0.20033461826056254, -0.05245507042771014, 0.05754988242558867, -0.12169729043576338, -0.040703613452324316, 0.02833720553331287, 0.14505059652944707, -0.09479647196360619, -0.018961179956198726, -0.0476660713851057, 0.06281571645763306, -0.019001241451275463, -0.010698048846006447, -0.1541409977013618, -0.04556190803510518, 0.01972656953598495, -0.027627992930457146, 0.02826648839119117, 0.11240779574024384, -0.014858612513808156, -0.04989795291369514, -0.10572671691115465, -0.05011601853791148, 0.0059662581925366, -0.024675417652944565, -0.02353708977174629, 0.037708624651932254, -0.011302283175576577, 0.09764662305887595, 0.08765558897546799, -0.01679545635800639, 0.08343407335106567, 0.039114416423991605, 0.05158076840020742, -0.03602611100426656, -0.07646032875335174, -0.017332457740613427, -0.2575750884645899, -0.13511795750199507, 0.13480576662569388, 0.027141908991116237, 0.07288910456444775, -0.01750586736395454, 0.04303244761206293, 0.17002784606105736, 0.09308447559227595, -0.008948957063018792, 0.016679034271036564, -0.014919759174074954, 0.05162766744633074, -0.012069452330420005, -0.023300955536572854, -0.006536996569913689, -0.01848574816320092, 0.014323960947223213, -0.008777530913194331, 0.032875373865138835, 0.1722466451747482, 0.03631871430633371, 0.016582427773552455, 0.009574112439406868, -0.027490846313339423, -0.04579014993352781, -0.06305659161755084, 0.05597910808981221, -0.025085322436017243, 0.008125702368226628, 0.021311416386240678, 0.046663814661354275, 0.10072397580985415, 0.06880646166650184, 0.0832341662827536, 0.08382043472858047, 0.12624062628292188, 0.013612469384522319, 0.057683460902409056, -0.0245902955810523, 0.16360547671130177, 0.12224125192340729, 0.2020149857159399, 0.2511786296510268, -0.0132916958104915, -0.060110100092752194, -0.02555515786381579, 0.1167216038442076, 0.2565351910935769, 0.1293068673033273, -0.07003459003053392, 0.007729328308548666, 0.1442446460790423, 0.02477860773690077, -0.04717696733414267, 0.06977571136970462, 0.0006656481662246083, 0.04654019830011458, -0.1413591340111625, 0.04587846786435468, 0.03448355326336161, -0.0940059840789802, -0.2403746250872264, -0.048747674030995114, -0.01095082994913854, -0.03151900464794699, 0.06212621308067812, -0.13358197650908432], \"yaxis\": \"y\"}, {\"name\": \"Bit Coin Avg\", \"type\": \"scatter\", \"x\": [\"2019-01-06T00:00:00\", \"2019-01-13T00:00:00\", \"2019-01-20T00:00:00\", \"2019-01-27T00:00:00\", \"2019-02-03T00:00:00\", \"2019-02-10T00:00:00\", \"2019-02-17T00:00:00\", \"2019-02-24T00:00:00\", \"2019-03-03T00:00:00\", \"2019-03-10T00:00:00\", \"2019-03-17T00:00:00\", \"2019-03-24T00:00:00\", \"2019-03-31T00:00:00\", \"2019-04-07T00:00:00\", \"2019-04-14T00:00:00\", \"2019-04-21T00:00:00\", \"2019-04-28T00:00:00\", \"2019-05-05T00:00:00\", \"2019-05-12T00:00:00\", \"2019-05-19T00:00:00\", \"2019-05-26T00:00:00\", \"2019-06-02T00:00:00\", \"2019-06-09T00:00:00\", \"2019-06-16T00:00:00\", \"2019-06-23T00:00:00\", \"2019-06-30T00:00:00\", \"2019-07-07T00:00:00\", \"2019-07-14T00:00:00\", \"2019-07-21T00:00:00\", \"2019-07-28T00:00:00\", \"2019-08-04T00:00:00\", \"2019-08-11T00:00:00\", \"2019-08-18T00:00:00\", \"2019-08-25T00:00:00\", \"2019-09-01T00:00:00\", \"2019-09-08T00:00:00\", \"2019-09-15T00:00:00\", \"2019-09-22T00:00:00\", \"2019-09-29T00:00:00\", \"2019-10-06T00:00:00\", \"2019-10-13T00:00:00\", \"2019-10-20T00:00:00\", \"2019-10-27T00:00:00\", \"2019-11-03T00:00:00\", \"2019-11-10T00:00:00\", \"2019-11-17T00:00:00\", \"2019-11-24T00:00:00\", \"2019-12-01T00:00:00\", \"2019-12-08T00:00:00\", \"2019-12-15T00:00:00\", \"2019-12-22T00:00:00\", \"2019-12-29T00:00:00\", \"2020-01-05T00:00:00\", \"2020-01-12T00:00:00\", \"2020-01-19T00:00:00\", \"2020-01-26T00:00:00\", \"2020-02-02T00:00:00\", \"2020-02-09T00:00:00\", \"2020-02-16T00:00:00\", \"2020-02-23T00:00:00\", \"2020-03-01T00:00:00\", \"2020-03-08T00:00:00\", \"2020-03-15T00:00:00\", \"2020-03-22T00:00:00\", \"2020-03-29T00:00:00\", \"2020-04-05T00:00:00\", \"2020-04-12T00:00:00\", \"2020-04-19T00:00:00\", \"2020-04-26T00:00:00\", \"2020-05-03T00:00:00\", \"2020-05-10T00:00:00\", \"2020-05-17T00:00:00\", \"2020-05-24T00:00:00\", \"2020-05-31T00:00:00\", \"2020-06-07T00:00:00\", \"2020-06-14T00:00:00\", \"2020-06-21T00:00:00\", \"2020-06-28T00:00:00\", \"2020-07-05T00:00:00\", \"2020-07-12T00:00:00\", \"2020-07-19T00:00:00\", \"2020-07-26T00:00:00\", \"2020-08-02T00:00:00\", \"2020-08-09T00:00:00\", \"2020-08-16T00:00:00\", \"2020-08-23T00:00:00\", \"2020-08-30T00:00:00\", \"2020-09-06T00:00:00\", \"2020-09-13T00:00:00\", \"2020-09-20T00:00:00\", \"2020-09-27T00:00:00\", \"2020-10-04T00:00:00\", \"2020-10-11T00:00:00\", \"2020-10-18T00:00:00\", \"2020-10-25T00:00:00\", \"2020-11-01T00:00:00\", \"2020-11-08T00:00:00\", \"2020-11-15T00:00:00\", \"2020-11-22T00:00:00\", \"2020-11-29T00:00:00\", \"2020-12-06T00:00:00\", \"2020-12-13T00:00:00\", \"2020-12-20T00:00:00\", \"2020-12-27T00:00:00\", \"2021-01-03T00:00:00\", \"2021-01-10T00:00:00\", \"2021-01-17T00:00:00\", \"2021-01-24T00:00:00\", \"2021-01-31T00:00:00\", \"2021-02-07T00:00:00\", \"2021-02-14T00:00:00\", \"2021-02-21T00:00:00\", \"2021-02-28T00:00:00\", \"2021-03-07T00:00:00\", \"2021-03-14T00:00:00\", \"2021-03-21T00:00:00\", \"2021-03-28T00:00:00\", \"2021-04-04T00:00:00\", \"2021-04-11T00:00:00\", \"2021-04-18T00:00:00\", \"2021-04-25T00:00:00\", \"2021-05-02T00:00:00\", \"2021-05-09T00:00:00\", \"2021-05-16T00:00:00\", \"2021-05-23T00:00:00\", \"2021-05-30T00:00:00\", \"2021-06-06T00:00:00\", \"2021-06-13T00:00:00\", \"2021-06-20T00:00:00\", \"2021-06-27T00:00:00\", \"2021-07-04T00:00:00\"], \"xaxis\": \"x\", \"y\": [-2.207817026915883, 9.80801262948831, 5.362364988019226, 9.199570393607482, 1.1680987765777142, 4.139293140604803, -0.5075885313681074, 11.443932707838883, 6.100526965707508, 6.2492226011524625, 6.531939657001944, 2.5408771722175088, 5.485386662550281, 10.990172492080672, 5.473285577445076, 1.9642948696546332, 3.5952158513281507, 3.372211196495681, 2.0199812855448833, 11.275799778536909, 10.145979230011132, 8.85108311463424, 4.511591710340208, 9.560728402999377, 13.477879129240106, 17.726863161917155, 6.337826294710656, 10.844369884661106, 12.055607633697829, 4.056558784669307, 4.671275705379626, 8.906577040258567, 4.127846952291112, 6.398559765006207, -0.3102710810372182, 6.428064938370046, 3.8973477960400396, 4.21261343326123, 1.2894873171925225, 2.1210390696394956, 1.4298369901305596, 5.0794685502597305, 5.2435137336780056, 3.827273568636381, 0.7239134084288478, -2.350754458260861, 0.596397385320103, 5.377709354605739, 2.2279906412050656, 4.501495926134964, 1.229955763868981, -0.5183050474463573, 2.917265517053076, 2.3106737133461706, -0.8213968391611759, 2.003019823441759, 1.8448669317888855, 6.1589305657845745, 2.9381257334877984, 5.735795977361211, 3.861374493097706, 6.29128052015535, -2.1805985795179517, -5.017976548071558, -6.769568932805179, 6.631768332184005, 0.7310765409759462, 3.990157959375572, 0.061741816805632954, 2.156866127925302, 9.864718694960061, 6.69808162465341, 4.630988046224991, 8.745039908341464, 6.460375039439062, 6.015377347845417, 2.0250583573410728, 0.24333040598840314, 6.245065178882781, 7.335759666560719, 1.5697494463876116, 7.621130255077424, 6.016610867037119, 6.269739425192239, 8.82976728457259, 2.1648381422077745, 3.1754600487340636, 6.2389729458844005, 4.088556353017021, 1.279288011139169, 2.508764887741927, 8.425621295779134, 4.872453746960094, 11.665675511437115, 11.938085586291427, 0.521574917788249, 17.159163576021154, 10.089492206676182, 15.839292459742323, 15.978801524029796, 7.706881236122759, 13.279693572859832, 19.068146050179077, 15.164696510005276, 20.872147619305846, 29.345286289706127, 10.072464571292304, 19.174535343533712, 23.064710611520336, 54.31050640997284, 64.83897593398163, 74.17229382374961, 48.67475648732154, 49.73888639432287, 37.721736936812206, 26.105096984582875, 36.94249301800247, 37.24698271972725, 32.88147173026261, 62.508578032026506, 50.41766500574038, 53.56651740545325, 43.84037212924506, 47.29663266776464, 18.823361255287644, 31.65202311875348, 30.326931778307877, 28.016426085789156, 42.63497944629217, 23.774759346418673, 15.137805914354075], \"yaxis\": \"y2\"}],                        {\"template\": {\"data\": {\"bar\": [{\"error_x\": {\"color\": \"#2a3f5f\"}, \"error_y\": {\"color\": \"#2a3f5f\"}, \"marker\": {\"line\": {\"color\": \"#E5ECF6\", \"width\": 0.5}}, \"type\": \"bar\"}], \"barpolar\": [{\"marker\": {\"line\": {\"color\": \"#E5ECF6\", \"width\": 0.5}}, \"type\": \"barpolar\"}], \"carpet\": [{\"aaxis\": {\"endlinecolor\": \"#2a3f5f\", \"gridcolor\": \"white\", \"linecolor\": \"white\", \"minorgridcolor\": \"white\", \"startlinecolor\": \"#2a3f5f\"}, \"baxis\": {\"endlinecolor\": \"#2a3f5f\", \"gridcolor\": \"white\", \"linecolor\": \"white\", \"minorgridcolor\": \"white\", \"startlinecolor\": \"#2a3f5f\"}, \"type\": \"carpet\"}], \"choropleth\": [{\"colorbar\": {\"outlinewidth\": 0, \"ticks\": \"\"}, \"type\": \"choropleth\"}], \"contour\": [{\"colorbar\": {\"outlinewidth\": 0, \"ticks\": \"\"}, \"colorscale\": [[0.0, \"#0d0887\"], [0.1111111111111111, \"#46039f\"], [0.2222222222222222, \"#7201a8\"], [0.3333333333333333, \"#9c179e\"], [0.4444444444444444, \"#bd3786\"], [0.5555555555555556, \"#d8576b\"], [0.6666666666666666, \"#ed7953\"], [0.7777777777777778, \"#fb9f3a\"], [0.8888888888888888, \"#fdca26\"], [1.0, \"#f0f921\"]], \"type\": \"contour\"}], \"contourcarpet\": [{\"colorbar\": {\"outlinewidth\": 0, \"ticks\": \"\"}, \"type\": \"contourcarpet\"}], \"heatmap\": [{\"colorbar\": {\"outlinewidth\": 0, \"ticks\": \"\"}, \"colorscale\": [[0.0, \"#0d0887\"], [0.1111111111111111, \"#46039f\"], [0.2222222222222222, \"#7201a8\"], [0.3333333333333333, \"#9c179e\"], [0.4444444444444444, \"#bd3786\"], [0.5555555555555556, \"#d8576b\"], [0.6666666666666666, \"#ed7953\"], [0.7777777777777778, \"#fb9f3a\"], [0.8888888888888888, \"#fdca26\"], [1.0, \"#f0f921\"]], \"type\": \"heatmap\"}], \"heatmapgl\": [{\"colorbar\": {\"outlinewidth\": 0, \"ticks\": \"\"}, \"colorscale\": [[0.0, \"#0d0887\"], [0.1111111111111111, \"#46039f\"], [0.2222222222222222, \"#7201a8\"], [0.3333333333333333, \"#9c179e\"], [0.4444444444444444, \"#bd3786\"], [0.5555555555555556, \"#d8576b\"], [0.6666666666666666, \"#ed7953\"], [0.7777777777777778, \"#fb9f3a\"], [0.8888888888888888, \"#fdca26\"], [1.0, \"#f0f921\"]], \"type\": \"heatmapgl\"}], \"histogram\": [{\"marker\": {\"colorbar\": {\"outlinewidth\": 0, \"ticks\": \"\"}}, \"type\": \"histogram\"}], \"histogram2d\": [{\"colorbar\": {\"outlinewidth\": 0, \"ticks\": \"\"}, \"colorscale\": [[0.0, \"#0d0887\"], [0.1111111111111111, \"#46039f\"], [0.2222222222222222, \"#7201a8\"], [0.3333333333333333, \"#9c179e\"], [0.4444444444444444, \"#bd3786\"], [0.5555555555555556, \"#d8576b\"], [0.6666666666666666, \"#ed7953\"], [0.7777777777777778, \"#fb9f3a\"], [0.8888888888888888, \"#fdca26\"], [1.0, \"#f0f921\"]], \"type\": \"histogram2d\"}], \"histogram2dcontour\": [{\"colorbar\": {\"outlinewidth\": 0, \"ticks\": \"\"}, \"colorscale\": [[0.0, \"#0d0887\"], [0.1111111111111111, \"#46039f\"], [0.2222222222222222, \"#7201a8\"], [0.3333333333333333, \"#9c179e\"], [0.4444444444444444, \"#bd3786\"], [0.5555555555555556, \"#d8576b\"], [0.6666666666666666, \"#ed7953\"], [0.7777777777777778, \"#fb9f3a\"], [0.8888888888888888, \"#fdca26\"], [1.0, \"#f0f921\"]], \"type\": \"histogram2dcontour\"}], \"mesh3d\": [{\"colorbar\": {\"outlinewidth\": 0, \"ticks\": \"\"}, \"type\": \"mesh3d\"}], \"parcoords\": [{\"line\": {\"colorbar\": {\"outlinewidth\": 0, \"ticks\": \"\"}}, \"type\": \"parcoords\"}], \"pie\": [{\"automargin\": true, \"type\": \"pie\"}], \"scatter\": [{\"marker\": {\"colorbar\": {\"outlinewidth\": 0, \"ticks\": \"\"}}, \"type\": \"scatter\"}], \"scatter3d\": [{\"line\": {\"colorbar\": {\"outlinewidth\": 0, \"ticks\": \"\"}}, \"marker\": {\"colorbar\": {\"outlinewidth\": 0, \"ticks\": \"\"}}, \"type\": \"scatter3d\"}], \"scattercarpet\": [{\"marker\": {\"colorbar\": {\"outlinewidth\": 0, \"ticks\": \"\"}}, \"type\": \"scattercarpet\"}], \"scattergeo\": [{\"marker\": {\"colorbar\": {\"outlinewidth\": 0, \"ticks\": \"\"}}, \"type\": \"scattergeo\"}], \"scattergl\": [{\"marker\": {\"colorbar\": {\"outlinewidth\": 0, \"ticks\": \"\"}}, \"type\": \"scattergl\"}], \"scattermapbox\": [{\"marker\": {\"colorbar\": {\"outlinewidth\": 0, \"ticks\": \"\"}}, \"type\": \"scattermapbox\"}], \"scatterpolar\": [{\"marker\": {\"colorbar\": {\"outlinewidth\": 0, \"ticks\": \"\"}}, \"type\": \"scatterpolar\"}], \"scatterpolargl\": [{\"marker\": {\"colorbar\": {\"outlinewidth\": 0, \"ticks\": \"\"}}, \"type\": \"scatterpolargl\"}], \"scatterternary\": [{\"marker\": {\"colorbar\": {\"outlinewidth\": 0, \"ticks\": \"\"}}, \"type\": \"scatterternary\"}], \"surface\": [{\"colorbar\": {\"outlinewidth\": 0, \"ticks\": \"\"}, \"colorscale\": [[0.0, \"#0d0887\"], [0.1111111111111111, \"#46039f\"], [0.2222222222222222, \"#7201a8\"], [0.3333333333333333, \"#9c179e\"], [0.4444444444444444, \"#bd3786\"], [0.5555555555555556, \"#d8576b\"], [0.6666666666666666, \"#ed7953\"], [0.7777777777777778, \"#fb9f3a\"], [0.8888888888888888, \"#fdca26\"], [1.0, \"#f0f921\"]], \"type\": \"surface\"}], \"table\": [{\"cells\": {\"fill\": {\"color\": \"#EBF0F8\"}, \"line\": {\"color\": \"white\"}}, \"header\": {\"fill\": {\"color\": \"#C8D4E3\"}, \"line\": {\"color\": \"white\"}}, \"type\": \"table\"}]}, \"layout\": {\"annotationdefaults\": {\"arrowcolor\": \"#2a3f5f\", \"arrowhead\": 0, \"arrowwidth\": 1}, \"coloraxis\": {\"colorbar\": {\"outlinewidth\": 0, \"ticks\": \"\"}}, \"colorscale\": {\"diverging\": [[0, \"#8e0152\"], [0.1, \"#c51b7d\"], [0.2, \"#de77ae\"], [0.3, \"#f1b6da\"], [0.4, \"#fde0ef\"], [0.5, \"#f7f7f7\"], [0.6, \"#e6f5d0\"], [0.7, \"#b8e186\"], [0.8, \"#7fbc41\"], [0.9, \"#4d9221\"], [1, \"#276419\"]], \"sequential\": [[0.0, \"#0d0887\"], [0.1111111111111111, \"#46039f\"], [0.2222222222222222, \"#7201a8\"], [0.3333333333333333, \"#9c179e\"], [0.4444444444444444, \"#bd3786\"], [0.5555555555555556, \"#d8576b\"], [0.6666666666666666, \"#ed7953\"], [0.7777777777777778, \"#fb9f3a\"], [0.8888888888888888, \"#fdca26\"], [1.0, \"#f0f921\"]], \"sequentialminus\": [[0.0, \"#0d0887\"], [0.1111111111111111, \"#46039f\"], [0.2222222222222222, \"#7201a8\"], [0.3333333333333333, \"#9c179e\"], [0.4444444444444444, \"#bd3786\"], [0.5555555555555556, \"#d8576b\"], [0.6666666666666666, \"#ed7953\"], [0.7777777777777778, \"#fb9f3a\"], [0.8888888888888888, \"#fdca26\"], [1.0, \"#f0f921\"]]}, \"colorway\": [\"#636efa\", \"#EF553B\", \"#00cc96\", \"#ab63fa\", \"#FFA15A\", \"#19d3f3\", \"#FF6692\", \"#B6E880\", \"#FF97FF\", \"#FECB52\"], \"font\": {\"color\": \"#2a3f5f\"}, \"geo\": {\"bgcolor\": \"white\", \"lakecolor\": \"white\", \"landcolor\": \"#E5ECF6\", \"showlakes\": true, \"showland\": true, \"subunitcolor\": \"white\"}, \"hoverlabel\": {\"align\": \"left\"}, \"hovermode\": \"closest\", \"mapbox\": {\"style\": \"light\"}, \"paper_bgcolor\": \"white\", \"plot_bgcolor\": \"#E5ECF6\", \"polar\": {\"angularaxis\": {\"gridcolor\": \"white\", \"linecolor\": \"white\", \"ticks\": \"\"}, \"bgcolor\": \"#E5ECF6\", \"radialaxis\": {\"gridcolor\": \"white\", \"linecolor\": \"white\", \"ticks\": \"\"}}, \"scene\": {\"xaxis\": {\"backgroundcolor\": \"#E5ECF6\", \"gridcolor\": \"white\", \"gridwidth\": 2, \"linecolor\": \"white\", \"showbackground\": true, \"ticks\": \"\", \"zerolinecolor\": \"white\"}, \"yaxis\": {\"backgroundcolor\": \"#E5ECF6\", \"gridcolor\": \"white\", \"gridwidth\": 2, \"linecolor\": \"white\", \"showbackground\": true, \"ticks\": \"\", \"zerolinecolor\": \"white\"}, \"zaxis\": {\"backgroundcolor\": \"#E5ECF6\", \"gridcolor\": \"white\", \"gridwidth\": 2, \"linecolor\": \"white\", \"showbackground\": true, \"ticks\": \"\", \"zerolinecolor\": \"white\"}}, \"shapedefaults\": {\"line\": {\"color\": \"#2a3f5f\"}}, \"ternary\": {\"aaxis\": {\"gridcolor\": \"white\", \"linecolor\": \"white\", \"ticks\": \"\"}, \"baxis\": {\"gridcolor\": \"white\", \"linecolor\": \"white\", \"ticks\": \"\"}, \"bgcolor\": \"#E5ECF6\", \"caxis\": {\"gridcolor\": \"white\", \"linecolor\": \"white\", \"ticks\": \"\"}}, \"title\": {\"x\": 0.05}, \"xaxis\": {\"automargin\": true, \"gridcolor\": \"white\", \"linecolor\": \"white\", \"ticks\": \"\", \"title\": {\"standoff\": 15}, \"zerolinecolor\": \"white\", \"zerolinewidth\": 2}, \"yaxis\": {\"automargin\": true, \"gridcolor\": \"white\", \"linecolor\": \"white\", \"ticks\": \"\", \"title\": {\"standoff\": 15}, \"zerolinecolor\": \"white\", \"zerolinewidth\": 2}}}, \"title\": {\"text\": \"BTC vs LR Sentiment Model - Weekly\"}, \"xaxis\": {\"anchor\": \"y\", \"domain\": [0.0, 0.94], \"title\": {\"text\": \"Date\"}}, \"yaxis\": {\"anchor\": \"x\", \"domain\": [0.0, 1.0], \"title\": {\"text\": \"<b>Sentiment Polarity </b>\"}}, \"yaxis2\": {\"anchor\": \"x\", \"overlaying\": \"y\", \"side\": \"right\", \"title\": {\"text\": \"<b>BTC Price</b>\"}}},                        {\"responsive\": true}                    ).then(function(){\n",
       "                            \n",
       "var gd = document.getElementById('c73e2e4a-7d98-4177-b1f5-55ee91ddd08b');\n",
       "var x = new MutationObserver(function (mutations, observer) {{\n",
       "        var display = window.getComputedStyle(gd).display;\n",
       "        if (!display || display === 'none') {{\n",
       "            console.log([gd, 'removed!']);\n",
       "            Plotly.purge(gd);\n",
       "            observer.disconnect();\n",
       "        }}\n",
       "}});\n",
       "\n",
       "// Listen for the removal of the full notebook cells\n",
       "var notebookContainer = gd.closest('#notebook-container');\n",
       "if (notebookContainer) {{\n",
       "    x.observe(notebookContainer, {childList: true});\n",
       "}}\n",
       "\n",
       "// Listen for the clearing of the current output cell\n",
       "var outputEl = gd.closest('.output');\n",
       "if (outputEl) {{\n",
       "    x.observe(outputEl, {childList: true});\n",
       "}}\n",
       "\n",
       "                        })                };                });            </script>        </div>"
      ]
     },
     "metadata": {},
     "output_type": "display_data"
    }
   ],
   "source": [
    "# Create figure with secondary y-axis\n",
    "fig = make_subplots(specs=[[{\"secondary_y\": True}]])\n",
    "\n",
    "# Add traces\n",
    "fig.add_trace(\n",
    "    go.Scatter(x=btc_price_avg.pct_change().index, y=btc_price_avg.pct_change(), name=\"LR-Model\"),\n",
    "    secondary_y=False,\n",
    ")\n",
    "\n",
    "fig.add_trace(\n",
    "    go.Scatter(x=a.index, y=a, name=\"Bit Coin Avg\"),\n",
    "    secondary_y=True,\n",
    ")\n",
    "\n",
    "# Add figure title\n",
    "fig.update_layout(\n",
    "    title_text=\"BTC vs LR Sentiment Model - Weekly\"\n",
    ")\n",
    "\n",
    "# Set x-axis title\n",
    "fig.update_xaxes(title_text=\"Date\")\n",
    "\n",
    "# Set y-axes titles\n",
    "fig.update_yaxes(title_text=\"<b>Sentiment Polarity </b>\", secondary_y=False)\n",
    "fig.update_yaxes(title_text=\"<b>BTC Price</b>\", secondary_y=True)\n",
    "\n",
    "fig.show()"
   ]
  },
  {
   "cell_type": "code",
   "execution_count": 367,
   "id": "0ca5463e",
   "metadata": {},
   "outputs": [],
   "source": [
    "dchunk='d'\n",
    "a=df[df.subreddit=='Bitcoin'].resample(dchunk).sum().polarity\n",
    "btc_price=pd.read_csv(r\"C:\\Users\\Ben\\Desktop\\Diplomatiki\\CryptoSent\\Datasets\\other\\coin_Bitcoin.csv\")\n",
    "btc_price.Date=pd.to_datetime(btc_price.Date)\n",
    "btc_price=btc_price.set_index('Date')\n",
    "btc_price['avg_price']=(btc_price.High+btc_price.Low)/2\n",
    "\n",
    "btc_price_avg=btc_price.resample(dchunk).mean().loc['2020':'2021-06']['avg_price']\n",
    "\n",
    "apct=a.pct_change().tail(-1)\n",
    "\n",
    "\n",
    "apct=apct['2021':'2021-06']\n",
    "\n",
    "btcpct=btc_price_avg.pct_change().tail(-1)"
   ]
  },
  {
   "cell_type": "code",
   "execution_count": 368,
   "id": "f136f3b9",
   "metadata": {},
   "outputs": [],
   "source": [
    "x=btc_price_avg.tail(-1)"
   ]
  },
  {
   "cell_type": "code",
   "execution_count": 369,
   "id": "e02fedd5",
   "metadata": {},
   "outputs": [],
   "source": [
    "y=a['2020':'2021-06'].tail(-1)"
   ]
  },
  {
   "cell_type": "code",
   "execution_count": 370,
   "id": "7bf76508",
   "metadata": {},
   "outputs": [
    {
     "data": {
      "application/vnd.plotly.v1+json": {
       "config": {
        "plotlyServerURL": "https://plot.ly"
       },
       "data": [
        {
         "hovertemplate": "x=%{x}<br>y=%{y}<extra></extra>",
         "legendgroup": "",
         "marker": {
          "color": "#636efa",
          "symbol": "circle"
         },
         "mode": "markers",
         "name": "",
         "orientation": "v",
         "showlegend": false,
         "type": "scatter",
         "x": [
          null,
          0.012814047782114812,
          0.028487475152014552,
          0.014123230111434681,
          0.01646887908548278,
          0.04971860012219409,
          0.02552722837798105,
          -0.02622142632434854,
          -0.001969930898261363,
          0.022315772409200463,
          -0.0023928291715222816,
          0.004217783302225886,
          0.045643139813049016,
          0.030954552315964,
          -0.005057638840686218,
          0.010131499710668512,
          0.011572842576889286,
          -0.0030879847634287527,
          -0.02689864580150736,
          -3.373436904324789E-4,
          0.0074862925171252925,
          -0.02342870941534858,
          -0.014092704491133645,
          -0.0015991168611103612,
          0.010339044934025043,
          0.03822898515805262,
          0.039374116485197286,
          0.022382539699445703,
          0.005789465560656293,
          -0.001679155961385237,
          4.266950878628606E-6,
          -0.003516347617973481,
          0.005479020075840113,
          -0.018358008744503995,
          0.02282179460618594,
          0.026474055583330047,
          0.010136240879391467,
          -2.5872332734566683E-4,
          0.021690306523246328,
          -0.0014763999652576132,
          -5.484433501770081E-4,
          0.03293039187477942,
          -0.0010783976438170084,
          -0.006136891626696728,
          -0.011323919479049649,
          -0.021746517789759445,
          -0.016681657110221404,
          0.017888315648248554,
          4.335238848052203E-4,
          -0.03291349319909476,
          0.008440332472448242,
          -7.144850316811446E-4,
          0.015349808659090414,
          -0.005430202551103824,
          -0.027248040425040143,
          -0.04739765048369171,
          -0.030406239276404068,
          -0.0072360668270029516,
          -4.7444871706947556E-4,
          -0.010194521562223446,
          0.014881370753005108,
          0.008745855826896465,
          -0.002884795890095715,
          0.019566799367178644,
          0.016786517284667513,
          -0.008011643478774366,
          -0.057293137136332994,
          -0.06766937857240618,
          0.0052821798931432795,
          -0.022447857573528962,
          -0.17982711630556103,
          -0.222399692463507,
          0.08096454673929254,
          0.023779117132153527,
          -0.09497981004250688,
          0.03942242609157365,
          0.004627730008059494,
          0.1120580365856425,
          0.09884740906763656,
          -0.03139917939208414,
          -0.010360460208866051,
          0.003736854837530723,
          0.07941410421771566,
          0.01737475426816859,
          -0.0076705333219493355,
          -0.0049442055783109895,
          -0.05091792570353393,
          -0.03295784005901814,
          0.020531261257918043,
          0.036894644878922245,
          -0.0049485044595283245,
          0.06782847231235123,
          -5.560484396276433E-4,
          -0.007393553771341876,
          0.0017609197436456725,
          0.03348157624675974,
          0.03628563289999254,
          -0.003784778506506825,
          7.590264309296213E-4,
          -0.028528719658592827,
          -0.02766849564192786,
          0.015677659464549798,
          -0.021329985474325075,
          0.008691734353268421,
          -0.013838433291172958,
          0.00942981183426883,
          0.03853628608970139,
          0.009965798025108885,
          0.006154425234513594,
          -0.02573321599579448,
          -0.021796251914084963,
          0.01776841759402359,
          0.039941929932215015,
          0.029848809124502607,
          0.010304832247825857,
          0.006526776678925428,
          0.013957384826189578,
          0.0045437032840836,
          0.07156291155171957,
          0.07900823304076932,
          -0.014360793270218775,
          0.0058008759816716715,
          0.010112967947191631,
          -0.0220471919898082,
          0.018027060773711412,
          0.02561113625446776,
          0.04096231968247599,
          0.03308401950634332,
          -0.013631353844537397,
          -0.0771406718596227,
          -0.03239975738566603,
          0.006419412741173414,
          0.03446005619637571,
          0.051041388932480336,
          -0.0016314606582260582,
          -0.010113322550049153,
          0.018467520268137028,
          0.01584770182775186,
          -0.0051712670205371625,
          -0.006383063929045085,
          -0.04294734788838406,
          -0.009964569499090303,
          0.00981473073189143,
          -0.01872660447071217,
          -0.022404776862292475,
          0.004447336248098566,
          0.016238225818431484,
          0.03644072678347832,
          0.01381289633627314,
          0.006212944006856347,
          0.00324480849456088,
          0.027064920184044716,
          -3.843168267149144E-4,
          -0.02485406445271887,
          0.01347718068156012,
          0.006160655909602353,
          -0.008600900760045493,
          -0.007116552863713599,
          0.012042870263736738,
          0.002204557197275081,
          0.006979025471756994,
          -0.02219362793222679,
          -0.019532487439543167,
          0.003341296756946388,
          -0.003142341287601491,
          -0.017781790895262328,
          0.026214567553503265,
          -0.005906915779384292,
          -0.002999045308515691,
          -0.005103637256220317,
          -0.0038910081829084397,
          0.003174853716788384,
          0.013389640920390411,
          0.014027212700820968,
          -0.013486835983374745,
          -0.027592469327544,
          -0.0012601376889548321,
          -0.011200537469017391,
          -0.001810104496809961,
          0.005853503159986895,
          0.0012705248465667562,
          0.006109284390537928,
          -0.005588171439336764,
          -0.0027549361082707113,
          -0.0013259804007486053,
          -0.005358709628957015,
          0.016259833352921804,
          0.006959573059308388,
          0.00740219042967416,
          -0.0017891910613681006,
          -0.013977218261416069,
          0.004756421386110432,
          0.001289759468866114,
          7.467803622733804E-4,
          -0.004057834808944283,
          -4.4672750092578095E-4,
          -0.007805960861648087,
          -0.0017375777771352352,
          0.0033030290629809667,
          -0.0017879494740155044,
          0.002882594146636608,
          0.011163643067621631,
          0.01581747687152113,
          0.012895305920348932,
          6.043922526934864E-4,
          0.00680343756254187,
          0.022973275810774352,
          0.07753030236638114,
          0.029938764839808396,
          0.014817956130067422,
          -0.004319675507320153,
          0.015323283418238853,
          0.0281901089922858,
          7.734527029190641E-4,
          -0.025454353244931283,
          6.246690562818902E-4,
          0.020702176420769547,
          0.02423839848712417,
          -0.00827270777981437,
          0.002225290401611346,
          -1.5650662287991501E-4,
          0.015095651170693225,
          -0.024421778572125907,
          -0.00563888519356015,
          6.638314120197553E-4,
          0.035769817135425264,
          -0.004386095359672937,
          -0.0025202657508569537,
          0.020854238076876586,
          0.005151087805641552,
          -0.023629931790493997,
          -0.004460304597585285,
          -0.006193687831361316,
          -0.01389455714357224,
          0.005840451843143857,
          0.006768758737105918,
          -0.019748799665731842,
          -0.006143485635433432,
          -0.0030804825270583924,
          0.004627630283149831,
          0.008306179863863283,
          0.006754859609731101,
          0.006874829688563899,
          0.012881933698321912,
          -0.01743236318856556,
          -0.07009614855040669,
          -0.03484904573582037,
          -0.01646300430062886,
          -0.005720552695227643,
          -0.004662600105111325,
          0.002177583110495096,
          3.884323431748715E-4,
          0.018374823266455786,
          -0.008017008810244142,
          0.01435988461324511,
          -0.003338549567658222,
          0.012714184821168706,
          0.025114974567307158,
          0.00972055615091727,
          3.228662780880853E-4,
          0.002407664291257383,
          0.008193449050730495,
          -0.006049990389396798,
          -0.024727191448961183,
          -0.0195503275202471,
          -0.010267388413715883,
          0.012869273610677245,
          0.01685813633447819,
          0.003917732344856706,
          -6.241409092433425E-4,
          0.010376832041237849,
          -0.006454961658458602,
          3.292475767480152E-4,
          -0.005140095142373902,
          -0.015484160212143716,
          0.0016865570339115177,
          0.005226005816840962,
          0.009788512851263587,
          -0.004743260363213708,
          -0.0039131463619104245,
          0.012490119987809134,
          0.02051198448270175,
          0.025040623200308865,
          0.00970213415742105,
          0.009759607033440254,
          -0.0030055766093181058,
          -9.794632743406195E-4,
          0.0011252232569962661,
          -0.004828421700790231,
          -0.004018245740919579,
          0.007027785499843731,
          0.01648836398812792,
          0.020425178611408912,
          0.05929112576528728,
          0.031619578583703234,
          -0.0042536583769561265,
          0.010175359172381881,
          0.008007118524302914,
          -0.00730070674641381,
          0.029669693107319706,
          -0.0018851517586350175,
          -0.006643223653009622,
          0.007355854044541754,
          0.02605780931098578,
          1.6982339676085978E-4,
          -0.01596662541971594,
          0.00957213962573289,
          0.01789848598809729,
          0.07227733986590357,
          0.04434252323231469,
          -0.03115869725636855,
          0.007331882123899902,
          0.00886185781574711,
          -0.0024592258189238825,
          0.020636873898255637,
          0.02030067841823935,
          0.019332881258506962,
          -0.011965040054605303,
          -0.004688836832259513,
          0.024446265355165364,
          0.050481209711687125,
          0.04074216799318697,
          -0.006846865659412837,
          0.029207325436449327,
          0.023042661149992316,
          -0.027303341509170798,
          0.009677267729321315,
          0.02082969205458407,
          0.013213061698975848,
          -0.07254774496936323,
          -0.03537671621014282,
          0.023347373735652432,
          0.031012988630544358,
          0.05816630311488136,
          0.006336037385576532,
          -0.013410430255356487,
          0.022199031756889198,
          -0.007362019737915282,
          -0.011985645018924296,
          0.014244817708205515,
          0.0014254091873573405,
          -0.020591696480030452,
          -0.026404604747297666,
          -0.0014079031358001926,
          -0.017046658072307097,
          0.03002694941778672,
          0.03111749736192526,
          0.005298087032824084,
          0.007491036623612279,
          0.055754010395102416,
          0.10108910611633126,
          0.016959045429350006,
          0.027913198944235385,
          0.009486704278291791,
          -0.02403048401108998,
          2.503627443184442E-5,
          0.01312464512996514,
          -0.00600506390055211,
          0.034972773964027315,
          0.06366502301172217,
          0.057978246032079905,
          -0.011341810248458262,
          -0.004454259404170213,
          0.055095965992825624,
          0.02041000468910137,
          0.016664847089538748,
          0.06578443432860825,
          0.07092106362064099,
          -0.06747436265170059,
          0.040149358009313296,
          0.0886956916943904,
          0.08918159617264543,
          0.027569775441384614,
          0.020712620309155216,
          -0.037459744310910925,
          -0.10992455101268572,
          0.00537585104688687,
          0.013254959124081811,
          0.09475493967944182,
          -0.03380840268458629,
          -0.009959656775359926,
          -0.03682077979134313,
          0.019655670678048187,
          0.02275557185335142,
          -0.05251414941852783,
          -0.059262990933600435,
          -0.046170919434119884,
          0.03328138416784454,
          -0.012388463842676223,
          0.04433732131806645,
          -0.0458318291824269,
          -0.02966943312779613,
          0.03149219338422071,
          0.10315279836706326,
          -0.03825938415931418,
          -0.0179474672962453,
          0.006970319936211666,
          0.03526668334639971,
          0.05099104521699016,
          0.027226974914756896,
          -3.338113844225665E-4,
          0.054754408202040805,
          -0.024269765627476625,
          0.09358314555058023,
          0.10548650858743125,
          -0.02301113523428555,
          0.01784650335849669,
          0.02719318628149714,
          -0.0076776214132266984,
          0.022894143565291847,
          -0.014276097894651896,
          0.02435711034601984,
          0.04166274515402146,
          0.018538028732987266,
          0.03440969057144705,
          0.04746209932355194,
          0.01668923438629788,
          -0.06580717338350184,
          -0.06577813806185318,
          -0.009969144008405095,
          0.00547375886732171,
          -0.06277277472199883,
          0.007505130997023768,
          -0.03811119706118726,
          0.05492625982485366,
          0.0258932551266009,
          0.035468676318245684,
          -0.014060547829694459,
          -0.03474196714174771,
          0.00485516409309672,
          0.0404368181533139,
          0.015124924319231292,
          0.04896700921135322,
          0.03504670902271423,
          0.018331300768006376,
          0.007085135597018288,
          0.03994386714086606,
          0.02543131701154011,
          -0.041075828210991094,
          -0.047837071068833725,
          0.028175437097748723,
          0.007677516181218369,
          0.015495767567879737,
          0.01810288251374259,
          -0.029355006477645884,
          -0.017546531920764608,
          -0.029296858804731762,
          0.002928870226529101,
          -0.05035459093114525,
          0.02367615199190265,
          0.03836268324573844,
          0.007853888592320724,
          0.01611740022935204,
          0.028351213359178118,
          0.008206352649086979,
          0.00369640069378141,
          0.008850066529257017,
          -0.011938493832431951,
          -0.013861833556217062,
          0.012953721235834603,
          -0.003909776735180448,
          -0.02383084639743238,
          -0.0010263165439711175,
          0.022125162991502023,
          0.022017758867977077,
          0.006411406106378248,
          0.00635041220460697,
          0.022916768081877814,
          0.022697234321395143,
          -0.0030633245240934137,
          -0.01756226602479305,
          -0.0071373313550976425,
          -0.07358884044578617,
          -0.017546727331874568,
          -0.012319836021458141,
          -5.135879605056015E-4,
          -0.040373564869141565,
          -0.0581031609416921,
          0.0013762070672618254,
          -0.023079697744833205,
          0.05606169816566697,
          0.05424964483250827,
          0.012681824252229745,
          -0.023441383747006883,
          0.03251485491855033,
          0.040261904005504334,
          -0.012606983311107878,
          0.013325315184082198,
          -0.04463817326474595,
          0.004300643713934349,
          0.025842270341023488,
          0.0016058608055233847,
          0.02204314893610637,
          -0.006414796849601112,
          -0.018169445112997007,
          -0.018572034379376268,
          -0.03939050882882944,
          -0.08197817213584724,
          0.020301266665833984,
          -0.029937085460324697,
          -0.03720730456853805,
          -0.05179731674649579,
          -0.007323542439005015,
          -0.1582289702916858,
          0.04426907000508096,
          -0.022253814712176245,
          -0.020766826915178727,
          -0.06330522416733941,
          0.07005040235211935,
          0.026504348844726078,
          0.030516004554377085,
          -0.013475915775848502,
          -0.05141880052995251,
          -0.03676977437301476,
          -0.014197707830429396,
          0.02558280491896392,
          0.027522302422426925,
          0.006973364838194884,
          0.034034483596323994,
          -0.022975093123457357,
          -0.02857625692025989,
          -0.014791994761392924,
          -0.020487414785932856,
          -0.07313639112286363,
          0.07494656143141132,
          0.05954133919085325,
          -0.0071280830474717005,
          -0.02058335084585694,
          0.028414976616635945,
          0.07479432600629865,
          0.0146620638619257,
          -0.02733989168195039,
          -0.022104518942662743,
          -0.04561503111623222,
          -0.027943484499572513,
          -0.026604232095482905,
          -0.03560122140774591,
          -0.07209301036173088,
          0.06978997044706015,
          0.016354895531204283,
          -0.011475946881031596,
          -0.060086102991485535,
          0.06217232791375471,
          0.035878301817742875,
          0.024198214868664802,
          -0.008951026081267854
         ],
         "xaxis": "x",
         "y": [
          0.35567450666640404,
          0.28565661647649887,
          0.391564025264782,
          -0.2763719006939621,
          -0.9740944026568193,
          1.90853479136236,
          0.4501619932408847,
          0.5288749890200183,
          -0.39779478989322337,
          -0.2517583886051432,
          0.6498691369438833,
          -1.5101116928067726,
          0.6561824356487488,
          -1.1725578814937463,
          0.18425695031330264,
          -0.7670057745101874,
          -0.4037098140476555,
          -0.18562005156497385,
          0.5844241430751611,
          -0.5852610225767311,
          1.1046177511757915,
          -0.4813349674163476,
          -0.34248230708693056,
          0.42449898179832535,
          0.777066242371787,
          1.0709345543637108,
          1.1305440751263716,
          1.4999505449287052,
          0.15203248921034923,
          -0.835982457207896,
          -0.3068892007766944,
          0.8299194044702563,
          0.10963623244332346,
          -0.010397399583376654,
          -0.4085719370085545,
          1.3236666826911645,
          0.7801728119939086,
          0.9357972738103227,
          1.1261094638080569,
          0.504820932838695,
          1.4371118504859588,
          -1.6762868379404647,
          -0.48430112454906105,
          0.0568188181207962,
          -0.22443822488051499,
          -0.6083141324662673,
          0.691647066728297,
          -0.6992924017312938,
          -0.8149279402174023,
          1.1422232517351356,
          -0.025546331917532944,
          -0.10618531603661482,
          1.5353132130368712,
          0.5691409505708646,
          2.2648171549730085,
          -0.7614896968896634,
          1.1955612106802544,
          0.7861995115645062,
          -0.259599516884763,
          0.278675343840878,
          0.15978130201586227,
          0.04607345538867852,
          -0.16647160867822683,
          0.3193111893968915,
          1.0473895234794843,
          0.6785468360648261,
          0.6694129663933159,
          -0.43580399651518453,
          0.9286842461448854,
          -0.0030316693909653927,
          1.1742155414881048,
          -1.095682920343782,
          1.1820176195737835,
          0.7996555567281483,
          -1.209789988386606,
          -0.4767866416483515,
          -0.503659799921295,
          0.17976946922794487,
          -1.314900799296887,
          -0.6160681869443209,
          -0.1972703975430778,
          -0.4905677182850805,
          -0.3903079993366737,
          0.3214309161390033,
          0.2786063159998593,
          -1.3104015092562287,
          0.4302374108793892,
          -0.284145718725454,
          0.7241728784232426,
          0.046964554805955766,
          0.8282090040202118,
          1.4027423111276895,
          1.3365693317787817,
          1.3062613502239921,
          0.13193399604369205,
          0.4017826094924616,
          0.3878189946364115,
          -0.7379216145567479,
          -0.1444101646061061,
          -0.42349276442198347,
          1.1344897129612272,
          0.7034472821857406,
          1.3733896936309173,
          0.4955122022668435,
          0.7942938679760224,
          0.5801044165172736,
          -1.2114917689676696,
          -0.08731498327802431,
          0.024336419375575243,
          0.5387150756642958,
          0.10515110594939558,
          0.09056218812372918,
          0.5345675784146481,
          0.5438333667033168,
          0.22498572872276645,
          0.4891373717185291,
          0.5959126480695628,
          -0.3602827796276667,
          0,
          0,
          -0.5913119181494761,
          0.9170212477150446,
          1.0989293747404196,
          0.056983665540417505,
          2.0339430246176358,
          1.7916584753856006,
          1.6568270048795781,
          1.439132429410887,
          0.25617714133792546,
          1.8302851894725243,
          2.5698477043335233,
          1.4452855578759858,
          0.5597438051152798,
          0.6313624286024409,
          1.1441405844429542,
          -1.052816513084236,
          -0.8238335933858034,
          0.0971718486294374,
          0.8157628732938211,
          0.42625854612937497,
          0.7869291291274688,
          -0.433131057366224,
          -0.2598619074038613,
          0.04515241419896221,
          -0.12200314540919302,
          0.7355762540536317,
          -0.10485892705621037,
          1.1855644291240812,
          1.4543000781078188,
          0.523058821874453,
          1.1723364704237313,
          1.695667737932399,
          -0.6245203321687449,
          1.2317778730084306,
          0.005547320477428411,
          0.6288406525039835,
          -0.46257115022993966,
          -0.37164304025578043,
          0.7127653126895996,
          0.8170884023126701,
          2.6535090230761558,
          1.2278283354792312,
          -0.819836627459837,
          0.7397572080530691,
          0.5472221083979406,
          -0.23131476680851495,
          -1.210069012121942,
          0.15203757695006814,
          0.7232262822896592,
          1.4163620206565681,
          -0.2855299022607515,
          0.5718571108460613,
          -1.0211456939500638,
          0.08699517491408637,
          -0.7038948200842429,
          0.5911189576329129,
          0.5172982752556389,
          -0.3261161764588232,
          0.8341426500114509,
          0.8992011351855711,
          0.49578115442623527,
          0.16437496785215583,
          0.7992803882973517,
          1.732356667336755,
          0.7694297713891899,
          0.5424347479629328,
          -0.7640022750657495,
          0.6212944759742536,
          0.8491705115977586,
          0.6129547629870706,
          0.7945637266108996,
          0.1544157073136267,
          0.5310990958857078,
          0.1538805133441039,
          0.012226889721974749,
          -0.2703037749059663,
          -0.0667841051252048,
          -0.44941696382625207,
          -0.8761060850229991,
          -0.7999131945674005,
          0.5017730059903142,
          -0.04228627933060802,
          1.0335288927741104,
          -0.9104761545479579,
          0.8770020735067068,
          0.604446245506085,
          1.681763365493766,
          0.8285148755730611,
          0.7407102521889894,
          -0.9150818354773127,
          -0.7911823262206701,
          0.2759472591456767,
          1.0936084241409012,
          0.6483157972607742,
          0.4504844031500317,
          0.3816520222522899,
          1.0242107429133294,
          -0.17363431880582558,
          0.8016884241842556,
          1.1295914972389876,
          0.8700556617237243,
          -0.17165945586884918,
          1.0602160534318203,
          0.2833766376214577,
          0.33301200667920783,
          1.357282913733667,
          0.8285803698063324,
          0.5470504947572777,
          1.3020913416723852,
          -0.1131177862905822,
          0.35536365339685916,
          -0.20935617952499147,
          0.1311610265232161,
          -0.061574370780812196,
          0.3582186410538084,
          0.6220372052257683,
          0.2997248846790236,
          -0.13810234525006085,
          1.0152542244524323,
          1.6388719761064474,
          0.3480914071509064,
          0.23314327051845582,
          -0.2600969870561511,
          0.5799138706219631,
          0.9150944949948038,
          2.1578777530664572,
          0.22807597693568463,
          -0.4791094800863307,
          0.6389204622998861,
          -0.13988965790891844,
          -0.5451031764985927,
          0.6346761508377923,
          0.708528202136848,
          1.0404749044852777,
          0.7646985876400724,
          0.7462682126143293,
          -0.6864697285448524,
          0.2161217396247814,
          0.09714000618902449,
          0.8228482323856111,
          0.1717111826326591,
          0.6342522622665706,
          -1.6682799092416745,
          -0.7539930598811466,
          0.13143562404496523,
          1.2831893393345775,
          0.5746795319427145,
          0.0528651833680904,
          0.022586756919674118,
          0.03173836441400029,
          0.8004928656798914,
          0.23308536129958918,
          1.0820673118137458,
          0.22191788999503823,
          0.05255697542906462,
          0.15399759156955717,
          0.4885737320896524,
          0.96262283591414,
          -0.13423437448158598,
          -0.39020750198255266,
          0.295979385961032,
          0.35016027852621917,
          5.670598240850588E-4,
          0.2892170499906966,
          0.6956121014793863,
          0.8818477084758672,
          0.36166178290451323,
          0.3789406560937276,
          0.37620781290936667,
          0.7477351871781193,
          0.48401278989580854,
          1.1132148373714372,
          0.9554021721104498,
          0.4162332225315945,
          0.023829676773745423,
          0.6150228260408326,
          0.09751308266444794,
          1.5004917112971878,
          -0.46552518038885443,
          1.0826089357205202,
          0.826715017427812,
          -0.13906696702465104,
          0.46062951054846696,
          1.8522094143149777,
          0.2275531013266946,
          0.06559151340628154,
          1.4415381683461388,
          1.553803145809474,
          1.0585788168394985,
          1.9306032164378908,
          2.365355029428296,
          1.4708729766066218,
          0.21993473316837153,
          -0.1319618902857237,
          0.5040713611356857,
          1.0557590516579556,
          2.1513428336625786,
          -0.4440060881062036,
          0.8857092977685144,
          1.027319653481065,
          1.673691747709473,
          1.488403361515672,
          -0.6537973466301026,
          1.5378832491755183,
          1.0144496247835235,
          -0.04023617998672368,
          0.43553135709045177,
          1.7638563922147226,
          1.7298394253282747,
          1.893072240180581,
          1.809168278933348,
          0.14127183842226693,
          0.9020479521132407,
          1.2260108855292182,
          0.5500751637643952,
          0.8856729479075741,
          0.5577283869866333,
          -0.11556317318412279,
          2.0110018241617698,
          -0.45368997725550597,
          0.9268552865033575,
          -0.8081791230703106,
          -0.15791477691169514,
          1.5960335229279818,
          1.9763009536521057,
          0.7997547962408487,
          0.8819348433583563,
          0.2527291501457558,
          -0.24014969304275638,
          5.250395955458929,
          -0.08947893339524404,
          2.608642880679567,
          1.555116109870422,
          1.347151034517574,
          0.4066432933726651,
          0.7712125839615731,
          1.2806824028777501,
          1.3891238570383555,
          1.117437995294554,
          2.3610103761346215,
          2.1744048388368578,
          2.8899042061302564,
          1.5056404111318105,
          1.6140529052257455,
          1.8323184233208798,
          1.8845893878242819,
          3.205960991408322,
          -0.11407180166934927,
          1.203666058194686,
          0.5148292391425049,
          1.479629268640049,
          1.1892379909232245,
          3.8750414956801396,
          -0.8760739412883621,
          0.11467821487865823,
          2.9602631842489,
          0.3258392720681583,
          0.7139670243788012,
          1.8785046648449188,
          -0.2032591377008825,
          0.13777944042827028,
          0.9547620656767927,
          2.068688042189966,
          0.8573287332094204,
          -1.0756427038732148,
          -0.31584724172971906,
          3.398557494184552,
          0.5397521681744318,
          0.1627482205884777,
          1.1229325732603401,
          1.5893750211783988,
          1.371026347714931,
          -1.073192910142044,
          0.5919917522290365,
          2.0217583892565774,
          1.9864310784018475,
          1.8996660155360758,
          1.0544989045034798,
          1.7598854615084225,
          0.7118487491969945,
          -0.4626374409595336,
          0.4547153155947893,
          0.6895499130876201,
          6.24242675728656,
          5.1192912643176784,
          3.826649402106814,
          3.2432332715941032,
          3.057347730879232,
          1.566342963030244,
          2.4851742255158533,
          1.5049391905541887,
          1.7978062522593905,
          2.5560663666825025,
          2.037554555116258,
          5.675984416838726,
          4.135977986184249,
          2.1202582754451242,
          5.552513334518341,
          3.294982603161508,
          -0.12358409370354603,
          1.3653368777695682,
          3.8304686146527556,
          1.5537111431819755,
          0.30708208181584695,
          1.2915847183692688,
          0.9667031385858404,
          2.898887520337754,
          0.456392116769882,
          3.552689652327226,
          1.2377290013131717,
          1.862787188981784,
          4.537300605088536,
          -0.1452666293233484,
          2.0232577808520866,
          1.1195395954379146,
          -2.064638427972473,
          -1.1586466640173598,
          0.7628375808191812,
          -0.15117376555503553,
          2.309947467754069,
          0.6175762259263436,
          1.6463332488754694,
          -0.9301057096744875,
          -0.26333624454571086,
          2.1405906761070104,
          0.30085456135834954,
          -1.0232786023929856,
          1.2534605122952245,
          0.7723131117344189,
          0.3406411458336449,
          0.12144014210368081,
          -0.06955334790006824,
          1.3842453337266498,
          -1.0288656115283,
          2.9926163708330815,
          0.2487136993514028,
          1.667122721965606,
          1.0478612078731808,
          0.8620377618886343,
          1.8012398790503792,
          2.3708910068140723,
          2.060336843394242,
          1.1899348283583644,
          1.5416673461004688,
          0.16987387226433173,
          1.8566763848316847,
          1.7305575766726613,
          5.146583587859334,
          4.9405972029045095,
          1.7075673109648728,
          0.7570887177718024,
          1.3745153608654697,
          0.4257639500224143,
          2.255665452929835,
          0.7594452520540775,
          1.4575770833615957,
          1.9877815756275887,
          -0.3658527968948452,
          1.299544783867707,
          0.681626714455579,
          0.7761085109413718,
          1.2226243490045392,
          2.1051807723948293,
          1.820155119435992,
          0.6249311680271783,
          3.0228763034860453,
          2.0707497829084462,
          0.9105301380749109,
          0.6782422408698099,
          1.465309956120588,
          0.1119413465912168,
          1.5748119387073536,
          1.5565452679363023,
          1.128517913425728,
          0.6680145438597147,
          0.7382755349734222,
          -1.5523109471884733,
          3.5833413980078483,
          0.9983443819927469,
          0.0419101063635941,
          1.3556502088228908,
          0.7493256046592119,
          3.018274578037012,
          0.5285732007292552,
          0.3594250729034302,
          0.015388518083670755,
          1.6805107665476542,
          0.5342600571849551,
          0.7980951123345568,
          -0.8158779526428572,
          -1.6714924060155072,
          -0.7467462951895584,
          -2.236045409197483,
          3.2488598414019636,
          0.42862654005953205,
          -1.602485966076849,
          2.5934220930795857,
          0.6179959918022909,
          -0.695616130538921,
          0.901826207097112,
          1.8469504876370761,
          0.8245751831810219,
          2.00418498411001,
          0.6426800346625151,
          4.948654221135238,
          0.2392759999727811,
          0.15939856695850635,
          -0.16720022557524566,
          0.6152351197946734,
          5.097423869532388,
          1.6069948476305649,
          -0.006214693666259097,
          1.429358072825511,
          1.3217968556933486,
          1.3340643171876563,
          0.03941914676300967,
          0.13132244373193236,
          0.97775630560607,
          -1.2510125274175776,
          -0.17022322678889956,
          0.11337153617646023,
          1.0036075007557088,
          2.4755677204897286,
          0.2688810650481239,
          -0.752007987380314,
          1.9064670735065978
         ],
         "yaxis": "y"
        }
       ],
       "layout": {
        "legend": {
         "tracegroupgap": 0
        },
        "margin": {
         "t": 60
        },
        "template": {
         "data": {
          "bar": [
           {
            "error_x": {
             "color": "#2a3f5f"
            },
            "error_y": {
             "color": "#2a3f5f"
            },
            "marker": {
             "line": {
              "color": "#E5ECF6",
              "width": 0.5
             }
            },
            "type": "bar"
           }
          ],
          "barpolar": [
           {
            "marker": {
             "line": {
              "color": "#E5ECF6",
              "width": 0.5
             }
            },
            "type": "barpolar"
           }
          ],
          "carpet": [
           {
            "aaxis": {
             "endlinecolor": "#2a3f5f",
             "gridcolor": "white",
             "linecolor": "white",
             "minorgridcolor": "white",
             "startlinecolor": "#2a3f5f"
            },
            "baxis": {
             "endlinecolor": "#2a3f5f",
             "gridcolor": "white",
             "linecolor": "white",
             "minorgridcolor": "white",
             "startlinecolor": "#2a3f5f"
            },
            "type": "carpet"
           }
          ],
          "choropleth": [
           {
            "colorbar": {
             "outlinewidth": 0,
             "ticks": ""
            },
            "type": "choropleth"
           }
          ],
          "contour": [
           {
            "colorbar": {
             "outlinewidth": 0,
             "ticks": ""
            },
            "colorscale": [
             [
              0,
              "#0d0887"
             ],
             [
              0.1111111111111111,
              "#46039f"
             ],
             [
              0.2222222222222222,
              "#7201a8"
             ],
             [
              0.3333333333333333,
              "#9c179e"
             ],
             [
              0.4444444444444444,
              "#bd3786"
             ],
             [
              0.5555555555555556,
              "#d8576b"
             ],
             [
              0.6666666666666666,
              "#ed7953"
             ],
             [
              0.7777777777777778,
              "#fb9f3a"
             ],
             [
              0.8888888888888888,
              "#fdca26"
             ],
             [
              1,
              "#f0f921"
             ]
            ],
            "type": "contour"
           }
          ],
          "contourcarpet": [
           {
            "colorbar": {
             "outlinewidth": 0,
             "ticks": ""
            },
            "type": "contourcarpet"
           }
          ],
          "heatmap": [
           {
            "colorbar": {
             "outlinewidth": 0,
             "ticks": ""
            },
            "colorscale": [
             [
              0,
              "#0d0887"
             ],
             [
              0.1111111111111111,
              "#46039f"
             ],
             [
              0.2222222222222222,
              "#7201a8"
             ],
             [
              0.3333333333333333,
              "#9c179e"
             ],
             [
              0.4444444444444444,
              "#bd3786"
             ],
             [
              0.5555555555555556,
              "#d8576b"
             ],
             [
              0.6666666666666666,
              "#ed7953"
             ],
             [
              0.7777777777777778,
              "#fb9f3a"
             ],
             [
              0.8888888888888888,
              "#fdca26"
             ],
             [
              1,
              "#f0f921"
             ]
            ],
            "type": "heatmap"
           }
          ],
          "heatmapgl": [
           {
            "colorbar": {
             "outlinewidth": 0,
             "ticks": ""
            },
            "colorscale": [
             [
              0,
              "#0d0887"
             ],
             [
              0.1111111111111111,
              "#46039f"
             ],
             [
              0.2222222222222222,
              "#7201a8"
             ],
             [
              0.3333333333333333,
              "#9c179e"
             ],
             [
              0.4444444444444444,
              "#bd3786"
             ],
             [
              0.5555555555555556,
              "#d8576b"
             ],
             [
              0.6666666666666666,
              "#ed7953"
             ],
             [
              0.7777777777777778,
              "#fb9f3a"
             ],
             [
              0.8888888888888888,
              "#fdca26"
             ],
             [
              1,
              "#f0f921"
             ]
            ],
            "type": "heatmapgl"
           }
          ],
          "histogram": [
           {
            "marker": {
             "colorbar": {
              "outlinewidth": 0,
              "ticks": ""
             }
            },
            "type": "histogram"
           }
          ],
          "histogram2d": [
           {
            "colorbar": {
             "outlinewidth": 0,
             "ticks": ""
            },
            "colorscale": [
             [
              0,
              "#0d0887"
             ],
             [
              0.1111111111111111,
              "#46039f"
             ],
             [
              0.2222222222222222,
              "#7201a8"
             ],
             [
              0.3333333333333333,
              "#9c179e"
             ],
             [
              0.4444444444444444,
              "#bd3786"
             ],
             [
              0.5555555555555556,
              "#d8576b"
             ],
             [
              0.6666666666666666,
              "#ed7953"
             ],
             [
              0.7777777777777778,
              "#fb9f3a"
             ],
             [
              0.8888888888888888,
              "#fdca26"
             ],
             [
              1,
              "#f0f921"
             ]
            ],
            "type": "histogram2d"
           }
          ],
          "histogram2dcontour": [
           {
            "colorbar": {
             "outlinewidth": 0,
             "ticks": ""
            },
            "colorscale": [
             [
              0,
              "#0d0887"
             ],
             [
              0.1111111111111111,
              "#46039f"
             ],
             [
              0.2222222222222222,
              "#7201a8"
             ],
             [
              0.3333333333333333,
              "#9c179e"
             ],
             [
              0.4444444444444444,
              "#bd3786"
             ],
             [
              0.5555555555555556,
              "#d8576b"
             ],
             [
              0.6666666666666666,
              "#ed7953"
             ],
             [
              0.7777777777777778,
              "#fb9f3a"
             ],
             [
              0.8888888888888888,
              "#fdca26"
             ],
             [
              1,
              "#f0f921"
             ]
            ],
            "type": "histogram2dcontour"
           }
          ],
          "mesh3d": [
           {
            "colorbar": {
             "outlinewidth": 0,
             "ticks": ""
            },
            "type": "mesh3d"
           }
          ],
          "parcoords": [
           {
            "line": {
             "colorbar": {
              "outlinewidth": 0,
              "ticks": ""
             }
            },
            "type": "parcoords"
           }
          ],
          "pie": [
           {
            "automargin": true,
            "type": "pie"
           }
          ],
          "scatter": [
           {
            "marker": {
             "colorbar": {
              "outlinewidth": 0,
              "ticks": ""
             }
            },
            "type": "scatter"
           }
          ],
          "scatter3d": [
           {
            "line": {
             "colorbar": {
              "outlinewidth": 0,
              "ticks": ""
             }
            },
            "marker": {
             "colorbar": {
              "outlinewidth": 0,
              "ticks": ""
             }
            },
            "type": "scatter3d"
           }
          ],
          "scattercarpet": [
           {
            "marker": {
             "colorbar": {
              "outlinewidth": 0,
              "ticks": ""
             }
            },
            "type": "scattercarpet"
           }
          ],
          "scattergeo": [
           {
            "marker": {
             "colorbar": {
              "outlinewidth": 0,
              "ticks": ""
             }
            },
            "type": "scattergeo"
           }
          ],
          "scattergl": [
           {
            "marker": {
             "colorbar": {
              "outlinewidth": 0,
              "ticks": ""
             }
            },
            "type": "scattergl"
           }
          ],
          "scattermapbox": [
           {
            "marker": {
             "colorbar": {
              "outlinewidth": 0,
              "ticks": ""
             }
            },
            "type": "scattermapbox"
           }
          ],
          "scatterpolar": [
           {
            "marker": {
             "colorbar": {
              "outlinewidth": 0,
              "ticks": ""
             }
            },
            "type": "scatterpolar"
           }
          ],
          "scatterpolargl": [
           {
            "marker": {
             "colorbar": {
              "outlinewidth": 0,
              "ticks": ""
             }
            },
            "type": "scatterpolargl"
           }
          ],
          "scatterternary": [
           {
            "marker": {
             "colorbar": {
              "outlinewidth": 0,
              "ticks": ""
             }
            },
            "type": "scatterternary"
           }
          ],
          "surface": [
           {
            "colorbar": {
             "outlinewidth": 0,
             "ticks": ""
            },
            "colorscale": [
             [
              0,
              "#0d0887"
             ],
             [
              0.1111111111111111,
              "#46039f"
             ],
             [
              0.2222222222222222,
              "#7201a8"
             ],
             [
              0.3333333333333333,
              "#9c179e"
             ],
             [
              0.4444444444444444,
              "#bd3786"
             ],
             [
              0.5555555555555556,
              "#d8576b"
             ],
             [
              0.6666666666666666,
              "#ed7953"
             ],
             [
              0.7777777777777778,
              "#fb9f3a"
             ],
             [
              0.8888888888888888,
              "#fdca26"
             ],
             [
              1,
              "#f0f921"
             ]
            ],
            "type": "surface"
           }
          ],
          "table": [
           {
            "cells": {
             "fill": {
              "color": "#EBF0F8"
             },
             "line": {
              "color": "white"
             }
            },
            "header": {
             "fill": {
              "color": "#C8D4E3"
             },
             "line": {
              "color": "white"
             }
            },
            "type": "table"
           }
          ]
         },
         "layout": {
          "annotationdefaults": {
           "arrowcolor": "#2a3f5f",
           "arrowhead": 0,
           "arrowwidth": 1
          },
          "coloraxis": {
           "colorbar": {
            "outlinewidth": 0,
            "ticks": ""
           }
          },
          "colorscale": {
           "diverging": [
            [
             0,
             "#8e0152"
            ],
            [
             0.1,
             "#c51b7d"
            ],
            [
             0.2,
             "#de77ae"
            ],
            [
             0.3,
             "#f1b6da"
            ],
            [
             0.4,
             "#fde0ef"
            ],
            [
             0.5,
             "#f7f7f7"
            ],
            [
             0.6,
             "#e6f5d0"
            ],
            [
             0.7,
             "#b8e186"
            ],
            [
             0.8,
             "#7fbc41"
            ],
            [
             0.9,
             "#4d9221"
            ],
            [
             1,
             "#276419"
            ]
           ],
           "sequential": [
            [
             0,
             "#0d0887"
            ],
            [
             0.1111111111111111,
             "#46039f"
            ],
            [
             0.2222222222222222,
             "#7201a8"
            ],
            [
             0.3333333333333333,
             "#9c179e"
            ],
            [
             0.4444444444444444,
             "#bd3786"
            ],
            [
             0.5555555555555556,
             "#d8576b"
            ],
            [
             0.6666666666666666,
             "#ed7953"
            ],
            [
             0.7777777777777778,
             "#fb9f3a"
            ],
            [
             0.8888888888888888,
             "#fdca26"
            ],
            [
             1,
             "#f0f921"
            ]
           ],
           "sequentialminus": [
            [
             0,
             "#0d0887"
            ],
            [
             0.1111111111111111,
             "#46039f"
            ],
            [
             0.2222222222222222,
             "#7201a8"
            ],
            [
             0.3333333333333333,
             "#9c179e"
            ],
            [
             0.4444444444444444,
             "#bd3786"
            ],
            [
             0.5555555555555556,
             "#d8576b"
            ],
            [
             0.6666666666666666,
             "#ed7953"
            ],
            [
             0.7777777777777778,
             "#fb9f3a"
            ],
            [
             0.8888888888888888,
             "#fdca26"
            ],
            [
             1,
             "#f0f921"
            ]
           ]
          },
          "colorway": [
           "#636efa",
           "#EF553B",
           "#00cc96",
           "#ab63fa",
           "#FFA15A",
           "#19d3f3",
           "#FF6692",
           "#B6E880",
           "#FF97FF",
           "#FECB52"
          ],
          "font": {
           "color": "#2a3f5f"
          },
          "geo": {
           "bgcolor": "white",
           "lakecolor": "white",
           "landcolor": "#E5ECF6",
           "showlakes": true,
           "showland": true,
           "subunitcolor": "white"
          },
          "hoverlabel": {
           "align": "left"
          },
          "hovermode": "closest",
          "mapbox": {
           "style": "light"
          },
          "paper_bgcolor": "white",
          "plot_bgcolor": "#E5ECF6",
          "polar": {
           "angularaxis": {
            "gridcolor": "white",
            "linecolor": "white",
            "ticks": ""
           },
           "bgcolor": "#E5ECF6",
           "radialaxis": {
            "gridcolor": "white",
            "linecolor": "white",
            "ticks": ""
           }
          },
          "scene": {
           "xaxis": {
            "backgroundcolor": "#E5ECF6",
            "gridcolor": "white",
            "gridwidth": 2,
            "linecolor": "white",
            "showbackground": true,
            "ticks": "",
            "zerolinecolor": "white"
           },
           "yaxis": {
            "backgroundcolor": "#E5ECF6",
            "gridcolor": "white",
            "gridwidth": 2,
            "linecolor": "white",
            "showbackground": true,
            "ticks": "",
            "zerolinecolor": "white"
           },
           "zaxis": {
            "backgroundcolor": "#E5ECF6",
            "gridcolor": "white",
            "gridwidth": 2,
            "linecolor": "white",
            "showbackground": true,
            "ticks": "",
            "zerolinecolor": "white"
           }
          },
          "shapedefaults": {
           "line": {
            "color": "#2a3f5f"
           }
          },
          "ternary": {
           "aaxis": {
            "gridcolor": "white",
            "linecolor": "white",
            "ticks": ""
           },
           "baxis": {
            "gridcolor": "white",
            "linecolor": "white",
            "ticks": ""
           },
           "bgcolor": "#E5ECF6",
           "caxis": {
            "gridcolor": "white",
            "linecolor": "white",
            "ticks": ""
           }
          },
          "title": {
           "x": 0.05
          },
          "xaxis": {
           "automargin": true,
           "gridcolor": "white",
           "linecolor": "white",
           "ticks": "",
           "title": {
            "standoff": 15
           },
           "zerolinecolor": "white",
           "zerolinewidth": 2
          },
          "yaxis": {
           "automargin": true,
           "gridcolor": "white",
           "linecolor": "white",
           "ticks": "",
           "title": {
            "standoff": 15
           },
           "zerolinecolor": "white",
           "zerolinewidth": 2
          }
         }
        },
        "xaxis": {
         "anchor": "y",
         "domain": [
          0,
          1
         ],
         "title": {
          "text": "x"
         }
        },
        "yaxis": {
         "anchor": "x",
         "domain": [
          0,
          1
         ],
         "title": {
          "text": "y"
         }
        }
       }
      },
      "text/html": [
       "<div>                            <div id=\"31792974-2bbb-4a8e-999a-363d98f76a0a\" class=\"plotly-graph-div\" style=\"height:525px; width:100%;\"></div>            <script type=\"text/javascript\">                require([\"plotly\"], function(Plotly) {                    window.PLOTLYENV=window.PLOTLYENV || {};                                    if (document.getElementById(\"31792974-2bbb-4a8e-999a-363d98f76a0a\")) {                    Plotly.newPlot(                        \"31792974-2bbb-4a8e-999a-363d98f76a0a\",                        [{\"hovertemplate\": \"x=%{x}<br>y=%{y}<extra></extra>\", \"legendgroup\": \"\", \"marker\": {\"color\": \"#636efa\", \"symbol\": \"circle\"}, \"mode\": \"markers\", \"name\": \"\", \"orientation\": \"v\", \"showlegend\": false, \"type\": \"scatter\", \"x\": [null, 0.012814047782114812, 0.028487475152014552, 0.014123230111434681, 0.01646887908548278, 0.04971860012219409, 0.02552722837798105, -0.02622142632434854, -0.001969930898261363, 0.022315772409200463, -0.0023928291715222816, 0.004217783302225886, 0.045643139813049016, 0.030954552315964, -0.005057638840686218, 0.010131499710668512, 0.011572842576889286, -0.0030879847634287527, -0.02689864580150736, -0.0003373436904324789, 0.0074862925171252925, -0.02342870941534858, -0.014092704491133645, -0.0015991168611103612, 0.010339044934025043, 0.03822898515805262, 0.039374116485197286, 0.022382539699445703, 0.005789465560656293, -0.001679155961385237, 4.266950878628606e-06, -0.003516347617973481, 0.005479020075840113, -0.018358008744503995, 0.02282179460618594, 0.026474055583330047, 0.010136240879391467, -0.00025872332734566683, 0.021690306523246328, -0.0014763999652576132, -0.0005484433501770081, 0.03293039187477942, -0.0010783976438170084, -0.006136891626696728, -0.011323919479049649, -0.021746517789759445, -0.016681657110221404, 0.017888315648248554, 0.0004335238848052203, -0.03291349319909476, 0.008440332472448242, -0.0007144850316811446, 0.015349808659090414, -0.005430202551103824, -0.027248040425040143, -0.04739765048369171, -0.030406239276404068, -0.0072360668270029516, -0.00047444871706947556, -0.010194521562223446, 0.014881370753005108, 0.008745855826896465, -0.002884795890095715, 0.019566799367178644, 0.016786517284667513, -0.008011643478774366, -0.057293137136332994, -0.06766937857240618, 0.0052821798931432795, -0.022447857573528962, -0.17982711630556103, -0.222399692463507, 0.08096454673929254, 0.023779117132153527, -0.09497981004250688, 0.03942242609157365, 0.004627730008059494, 0.1120580365856425, 0.09884740906763656, -0.03139917939208414, -0.010360460208866051, 0.003736854837530723, 0.07941410421771566, 0.01737475426816859, -0.0076705333219493355, -0.0049442055783109895, -0.05091792570353393, -0.03295784005901814, 0.020531261257918043, 0.036894644878922245, -0.0049485044595283245, 0.06782847231235123, -0.0005560484396276433, -0.007393553771341876, 0.0017609197436456725, 0.03348157624675974, 0.03628563289999254, -0.003784778506506825, 0.0007590264309296213, -0.028528719658592827, -0.02766849564192786, 0.015677659464549798, -0.021329985474325075, 0.008691734353268421, -0.013838433291172958, 0.00942981183426883, 0.03853628608970139, 0.009965798025108885, 0.006154425234513594, -0.02573321599579448, -0.021796251914084963, 0.01776841759402359, 0.039941929932215015, 0.029848809124502607, 0.010304832247825857, 0.006526776678925428, 0.013957384826189578, 0.0045437032840836, 0.07156291155171957, 0.07900823304076932, -0.014360793270218775, 0.0058008759816716715, 0.010112967947191631, -0.0220471919898082, 0.018027060773711412, 0.02561113625446776, 0.04096231968247599, 0.03308401950634332, -0.013631353844537397, -0.0771406718596227, -0.03239975738566603, 0.006419412741173414, 0.03446005619637571, 0.051041388932480336, -0.0016314606582260582, -0.010113322550049153, 0.018467520268137028, 0.01584770182775186, -0.0051712670205371625, -0.006383063929045085, -0.04294734788838406, -0.009964569499090303, 0.00981473073189143, -0.01872660447071217, -0.022404776862292475, 0.004447336248098566, 0.016238225818431484, 0.03644072678347832, 0.01381289633627314, 0.006212944006856347, 0.00324480849456088, 0.027064920184044716, -0.0003843168267149144, -0.02485406445271887, 0.01347718068156012, 0.006160655909602353, -0.008600900760045493, -0.007116552863713599, 0.012042870263736738, 0.002204557197275081, 0.006979025471756994, -0.02219362793222679, -0.019532487439543167, 0.003341296756946388, -0.003142341287601491, -0.017781790895262328, 0.026214567553503265, -0.005906915779384292, -0.002999045308515691, -0.005103637256220317, -0.0038910081829084397, 0.003174853716788384, 0.013389640920390411, 0.014027212700820968, -0.013486835983374745, -0.027592469327544, -0.0012601376889548321, -0.011200537469017391, -0.001810104496809961, 0.005853503159986895, 0.0012705248465667562, 0.006109284390537928, -0.005588171439336764, -0.0027549361082707113, -0.0013259804007486053, -0.005358709628957015, 0.016259833352921804, 0.006959573059308388, 0.00740219042967416, -0.0017891910613681006, -0.013977218261416069, 0.004756421386110432, 0.001289759468866114, 0.0007467803622733804, -0.004057834808944283, -0.00044672750092578095, -0.007805960861648087, -0.0017375777771352352, 0.0033030290629809667, -0.0017879494740155044, 0.002882594146636608, 0.011163643067621631, 0.01581747687152113, 0.012895305920348932, 0.0006043922526934864, 0.00680343756254187, 0.022973275810774352, 0.07753030236638114, 0.029938764839808396, 0.014817956130067422, -0.004319675507320153, 0.015323283418238853, 0.0281901089922858, 0.0007734527029190641, -0.025454353244931283, 0.0006246690562818902, 0.020702176420769547, 0.02423839848712417, -0.00827270777981437, 0.002225290401611346, -0.00015650662287991501, 0.015095651170693225, -0.024421778572125907, -0.00563888519356015, 0.0006638314120197553, 0.035769817135425264, -0.004386095359672937, -0.0025202657508569537, 0.020854238076876586, 0.005151087805641552, -0.023629931790493997, -0.004460304597585285, -0.006193687831361316, -0.01389455714357224, 0.005840451843143857, 0.006768758737105918, -0.019748799665731842, -0.006143485635433432, -0.0030804825270583924, 0.004627630283149831, 0.008306179863863283, 0.006754859609731101, 0.006874829688563899, 0.012881933698321912, -0.01743236318856556, -0.07009614855040669, -0.03484904573582037, -0.01646300430062886, -0.005720552695227643, -0.004662600105111325, 0.002177583110495096, 0.0003884323431748715, 0.018374823266455786, -0.008017008810244142, 0.01435988461324511, -0.003338549567658222, 0.012714184821168706, 0.025114974567307158, 0.00972055615091727, 0.0003228662780880853, 0.002407664291257383, 0.008193449050730495, -0.006049990389396798, -0.024727191448961183, -0.0195503275202471, -0.010267388413715883, 0.012869273610677245, 0.01685813633447819, 0.003917732344856706, -0.0006241409092433425, 0.010376832041237849, -0.006454961658458602, 0.0003292475767480152, -0.005140095142373902, -0.015484160212143716, 0.0016865570339115177, 0.005226005816840962, 0.009788512851263587, -0.004743260363213708, -0.0039131463619104245, 0.012490119987809134, 0.02051198448270175, 0.025040623200308865, 0.00970213415742105, 0.009759607033440254, -0.0030055766093181058, -0.0009794632743406195, 0.0011252232569962661, -0.004828421700790231, -0.004018245740919579, 0.007027785499843731, 0.01648836398812792, 0.020425178611408912, 0.05929112576528728, 0.031619578583703234, -0.0042536583769561265, 0.010175359172381881, 0.008007118524302914, -0.00730070674641381, 0.029669693107319706, -0.0018851517586350175, -0.006643223653009622, 0.007355854044541754, 0.02605780931098578, 0.00016982339676085978, -0.01596662541971594, 0.00957213962573289, 0.01789848598809729, 0.07227733986590357, 0.04434252323231469, -0.03115869725636855, 0.007331882123899902, 0.00886185781574711, -0.0024592258189238825, 0.020636873898255637, 0.02030067841823935, 0.019332881258506962, -0.011965040054605303, -0.004688836832259513, 0.024446265355165364, 0.050481209711687125, 0.04074216799318697, -0.006846865659412837, 0.029207325436449327, 0.023042661149992316, -0.027303341509170798, 0.009677267729321315, 0.02082969205458407, 0.013213061698975848, -0.07254774496936323, -0.03537671621014282, 0.023347373735652432, 0.031012988630544358, 0.05816630311488136, 0.006336037385576532, -0.013410430255356487, 0.022199031756889198, -0.007362019737915282, -0.011985645018924296, 0.014244817708205515, 0.0014254091873573405, -0.020591696480030452, -0.026404604747297666, -0.0014079031358001926, -0.017046658072307097, 0.03002694941778672, 0.03111749736192526, 0.005298087032824084, 0.007491036623612279, 0.055754010395102416, 0.10108910611633126, 0.016959045429350006, 0.027913198944235385, 0.009486704278291791, -0.02403048401108998, 2.503627443184442e-05, 0.01312464512996514, -0.00600506390055211, 0.034972773964027315, 0.06366502301172217, 0.057978246032079905, -0.011341810248458262, -0.004454259404170213, 0.055095965992825624, 0.02041000468910137, 0.016664847089538748, 0.06578443432860825, 0.07092106362064099, -0.06747436265170059, 0.040149358009313296, 0.0886956916943904, 0.08918159617264543, 0.027569775441384614, 0.020712620309155216, -0.037459744310910925, -0.10992455101268572, 0.00537585104688687, 0.013254959124081811, 0.09475493967944182, -0.03380840268458629, -0.009959656775359926, -0.03682077979134313, 0.019655670678048187, 0.02275557185335142, -0.05251414941852783, -0.059262990933600435, -0.046170919434119884, 0.03328138416784454, -0.012388463842676223, 0.04433732131806645, -0.0458318291824269, -0.02966943312779613, 0.03149219338422071, 0.10315279836706326, -0.03825938415931418, -0.0179474672962453, 0.006970319936211666, 0.03526668334639971, 0.05099104521699016, 0.027226974914756896, -0.0003338113844225665, 0.054754408202040805, -0.024269765627476625, 0.09358314555058023, 0.10548650858743125, -0.02301113523428555, 0.01784650335849669, 0.02719318628149714, -0.0076776214132266984, 0.022894143565291847, -0.014276097894651896, 0.02435711034601984, 0.04166274515402146, 0.018538028732987266, 0.03440969057144705, 0.04746209932355194, 0.01668923438629788, -0.06580717338350184, -0.06577813806185318, -0.009969144008405095, 0.00547375886732171, -0.06277277472199883, 0.007505130997023768, -0.03811119706118726, 0.05492625982485366, 0.0258932551266009, 0.035468676318245684, -0.014060547829694459, -0.03474196714174771, 0.00485516409309672, 0.0404368181533139, 0.015124924319231292, 0.04896700921135322, 0.03504670902271423, 0.018331300768006376, 0.007085135597018288, 0.03994386714086606, 0.02543131701154011, -0.041075828210991094, -0.047837071068833725, 0.028175437097748723, 0.007677516181218369, 0.015495767567879737, 0.01810288251374259, -0.029355006477645884, -0.017546531920764608, -0.029296858804731762, 0.002928870226529101, -0.05035459093114525, 0.02367615199190265, 0.03836268324573844, 0.007853888592320724, 0.01611740022935204, 0.028351213359178118, 0.008206352649086979, 0.00369640069378141, 0.008850066529257017, -0.011938493832431951, -0.013861833556217062, 0.012953721235834603, -0.003909776735180448, -0.02383084639743238, -0.0010263165439711175, 0.022125162991502023, 0.022017758867977077, 0.006411406106378248, 0.00635041220460697, 0.022916768081877814, 0.022697234321395143, -0.0030633245240934137, -0.01756226602479305, -0.0071373313550976425, -0.07358884044578617, -0.017546727331874568, -0.012319836021458141, -0.0005135879605056015, -0.040373564869141565, -0.0581031609416921, 0.0013762070672618254, -0.023079697744833205, 0.05606169816566697, 0.05424964483250827, 0.012681824252229745, -0.023441383747006883, 0.03251485491855033, 0.040261904005504334, -0.012606983311107878, 0.013325315184082198, -0.04463817326474595, 0.004300643713934349, 0.025842270341023488, 0.0016058608055233847, 0.02204314893610637, -0.006414796849601112, -0.018169445112997007, -0.018572034379376268, -0.03939050882882944, -0.08197817213584724, 0.020301266665833984, -0.029937085460324697, -0.03720730456853805, -0.05179731674649579, -0.007323542439005015, -0.1582289702916858, 0.04426907000508096, -0.022253814712176245, -0.020766826915178727, -0.06330522416733941, 0.07005040235211935, 0.026504348844726078, 0.030516004554377085, -0.013475915775848502, -0.05141880052995251, -0.03676977437301476, -0.014197707830429396, 0.02558280491896392, 0.027522302422426925, 0.006973364838194884, 0.034034483596323994, -0.022975093123457357, -0.02857625692025989, -0.014791994761392924, -0.020487414785932856, -0.07313639112286363, 0.07494656143141132, 0.05954133919085325, -0.0071280830474717005, -0.02058335084585694, 0.028414976616635945, 0.07479432600629865, 0.0146620638619257, -0.02733989168195039, -0.022104518942662743, -0.04561503111623222, -0.027943484499572513, -0.026604232095482905, -0.03560122140774591, -0.07209301036173088, 0.06978997044706015, 0.016354895531204283, -0.011475946881031596, -0.060086102991485535, 0.06217232791375471, 0.035878301817742875, 0.024198214868664802, -0.008951026081267854], \"xaxis\": \"x\", \"y\": [0.35567450666640404, 0.28565661647649887, 0.391564025264782, -0.2763719006939621, -0.9740944026568193, 1.90853479136236, 0.4501619932408847, 0.5288749890200183, -0.39779478989322337, -0.2517583886051432, 0.6498691369438833, -1.5101116928067726, 0.6561824356487488, -1.1725578814937463, 0.18425695031330264, -0.7670057745101874, -0.4037098140476555, -0.18562005156497385, 0.5844241430751611, -0.5852610225767311, 1.1046177511757915, -0.4813349674163476, -0.34248230708693056, 0.42449898179832535, 0.777066242371787, 1.0709345543637108, 1.1305440751263716, 1.4999505449287052, 0.15203248921034923, -0.835982457207896, -0.3068892007766944, 0.8299194044702563, 0.10963623244332346, -0.010397399583376654, -0.4085719370085545, 1.3236666826911645, 0.7801728119939086, 0.9357972738103227, 1.1261094638080569, 0.504820932838695, 1.4371118504859588, -1.6762868379404647, -0.48430112454906105, 0.0568188181207962, -0.22443822488051499, -0.6083141324662673, 0.691647066728297, -0.6992924017312938, -0.8149279402174023, 1.1422232517351356, -0.025546331917532944, -0.10618531603661482, 1.5353132130368712, 0.5691409505708646, 2.2648171549730085, -0.7614896968896634, 1.1955612106802544, 0.7861995115645062, -0.259599516884763, 0.278675343840878, 0.15978130201586227, 0.04607345538867852, -0.16647160867822683, 0.3193111893968915, 1.0473895234794843, 0.6785468360648261, 0.6694129663933159, -0.43580399651518453, 0.9286842461448854, -0.0030316693909653927, 1.1742155414881048, -1.095682920343782, 1.1820176195737835, 0.7996555567281483, -1.209789988386606, -0.4767866416483515, -0.503659799921295, 0.17976946922794487, -1.314900799296887, -0.6160681869443209, -0.1972703975430778, -0.4905677182850805, -0.3903079993366737, 0.3214309161390033, 0.2786063159998593, -1.3104015092562287, 0.4302374108793892, -0.284145718725454, 0.7241728784232426, 0.046964554805955766, 0.8282090040202118, 1.4027423111276895, 1.3365693317787817, 1.3062613502239921, 0.13193399604369205, 0.4017826094924616, 0.3878189946364115, -0.7379216145567479, -0.1444101646061061, -0.42349276442198347, 1.1344897129612272, 0.7034472821857406, 1.3733896936309173, 0.4955122022668435, 0.7942938679760224, 0.5801044165172736, -1.2114917689676696, -0.08731498327802431, 0.024336419375575243, 0.5387150756642958, 0.10515110594939558, 0.09056218812372918, 0.5345675784146481, 0.5438333667033168, 0.22498572872276645, 0.4891373717185291, 0.5959126480695628, -0.3602827796276667, 0.0, 0.0, -0.5913119181494761, 0.9170212477150446, 1.0989293747404196, 0.056983665540417505, 2.0339430246176358, 1.7916584753856006, 1.6568270048795781, 1.439132429410887, 0.25617714133792546, 1.8302851894725243, 2.5698477043335233, 1.4452855578759858, 0.5597438051152798, 0.6313624286024409, 1.1441405844429542, -1.052816513084236, -0.8238335933858034, 0.0971718486294374, 0.8157628732938211, 0.42625854612937497, 0.7869291291274688, -0.433131057366224, -0.2598619074038613, 0.04515241419896221, -0.12200314540919302, 0.7355762540536317, -0.10485892705621037, 1.1855644291240812, 1.4543000781078188, 0.523058821874453, 1.1723364704237313, 1.695667737932399, -0.6245203321687449, 1.2317778730084306, 0.005547320477428411, 0.6288406525039835, -0.46257115022993966, -0.37164304025578043, 0.7127653126895996, 0.8170884023126701, 2.6535090230761558, 1.2278283354792312, -0.819836627459837, 0.7397572080530691, 0.5472221083979406, -0.23131476680851495, -1.210069012121942, 0.15203757695006814, 0.7232262822896592, 1.4163620206565681, -0.2855299022607515, 0.5718571108460613, -1.0211456939500638, 0.08699517491408637, -0.7038948200842429, 0.5911189576329129, 0.5172982752556389, -0.3261161764588232, 0.8341426500114509, 0.8992011351855711, 0.49578115442623527, 0.16437496785215583, 0.7992803882973517, 1.732356667336755, 0.7694297713891899, 0.5424347479629328, -0.7640022750657495, 0.6212944759742536, 0.8491705115977586, 0.6129547629870706, 0.7945637266108996, 0.1544157073136267, 0.5310990958857078, 0.1538805133441039, 0.012226889721974749, -0.2703037749059663, -0.0667841051252048, -0.44941696382625207, -0.8761060850229991, -0.7999131945674005, 0.5017730059903142, -0.04228627933060802, 1.0335288927741104, -0.9104761545479579, 0.8770020735067068, 0.604446245506085, 1.681763365493766, 0.8285148755730611, 0.7407102521889894, -0.9150818354773127, -0.7911823262206701, 0.2759472591456767, 1.0936084241409012, 0.6483157972607742, 0.4504844031500317, 0.3816520222522899, 1.0242107429133294, -0.17363431880582558, 0.8016884241842556, 1.1295914972389876, 0.8700556617237243, -0.17165945586884918, 1.0602160534318203, 0.2833766376214577, 0.33301200667920783, 1.357282913733667, 0.8285803698063324, 0.5470504947572777, 1.3020913416723852, -0.1131177862905822, 0.35536365339685916, -0.20935617952499147, 0.1311610265232161, -0.061574370780812196, 0.3582186410538084, 0.6220372052257683, 0.2997248846790236, -0.13810234525006085, 1.0152542244524323, 1.6388719761064474, 0.3480914071509064, 0.23314327051845582, -0.2600969870561511, 0.5799138706219631, 0.9150944949948038, 2.1578777530664572, 0.22807597693568463, -0.4791094800863307, 0.6389204622998861, -0.13988965790891844, -0.5451031764985927, 0.6346761508377923, 0.708528202136848, 1.0404749044852777, 0.7646985876400724, 0.7462682126143293, -0.6864697285448524, 0.2161217396247814, 0.09714000618902449, 0.8228482323856111, 0.1717111826326591, 0.6342522622665706, -1.6682799092416745, -0.7539930598811466, 0.13143562404496523, 1.2831893393345775, 0.5746795319427145, 0.0528651833680904, 0.022586756919674118, 0.03173836441400029, 0.8004928656798914, 0.23308536129958918, 1.0820673118137458, 0.22191788999503823, 0.05255697542906462, 0.15399759156955717, 0.4885737320896524, 0.96262283591414, -0.13423437448158598, -0.39020750198255266, 0.295979385961032, 0.35016027852621917, 0.0005670598240850588, 0.2892170499906966, 0.6956121014793863, 0.8818477084758672, 0.36166178290451323, 0.3789406560937276, 0.37620781290936667, 0.7477351871781193, 0.48401278989580854, 1.1132148373714372, 0.9554021721104498, 0.4162332225315945, 0.023829676773745423, 0.6150228260408326, 0.09751308266444794, 1.5004917112971878, -0.46552518038885443, 1.0826089357205202, 0.826715017427812, -0.13906696702465104, 0.46062951054846696, 1.8522094143149777, 0.2275531013266946, 0.06559151340628154, 1.4415381683461388, 1.553803145809474, 1.0585788168394985, 1.9306032164378908, 2.365355029428296, 1.4708729766066218, 0.21993473316837153, -0.1319618902857237, 0.5040713611356857, 1.0557590516579556, 2.1513428336625786, -0.4440060881062036, 0.8857092977685144, 1.027319653481065, 1.673691747709473, 1.488403361515672, -0.6537973466301026, 1.5378832491755183, 1.0144496247835235, -0.04023617998672368, 0.43553135709045177, 1.7638563922147226, 1.7298394253282747, 1.893072240180581, 1.809168278933348, 0.14127183842226693, 0.9020479521132407, 1.2260108855292182, 0.5500751637643952, 0.8856729479075741, 0.5577283869866333, -0.11556317318412279, 2.0110018241617698, -0.45368997725550597, 0.9268552865033575, -0.8081791230703106, -0.15791477691169514, 1.5960335229279818, 1.9763009536521057, 0.7997547962408487, 0.8819348433583563, 0.2527291501457558, -0.24014969304275638, 5.250395955458929, -0.08947893339524404, 2.608642880679567, 1.555116109870422, 1.347151034517574, 0.4066432933726651, 0.7712125839615731, 1.2806824028777501, 1.3891238570383555, 1.117437995294554, 2.3610103761346215, 2.1744048388368578, 2.8899042061302564, 1.5056404111318105, 1.6140529052257455, 1.8323184233208798, 1.8845893878242819, 3.205960991408322, -0.11407180166934927, 1.203666058194686, 0.5148292391425049, 1.479629268640049, 1.1892379909232245, 3.8750414956801396, -0.8760739412883621, 0.11467821487865823, 2.9602631842489, 0.3258392720681583, 0.7139670243788012, 1.8785046648449188, -0.2032591377008825, 0.13777944042827028, 0.9547620656767927, 2.068688042189966, 0.8573287332094204, -1.0756427038732148, -0.31584724172971906, 3.398557494184552, 0.5397521681744318, 0.1627482205884777, 1.1229325732603401, 1.5893750211783988, 1.371026347714931, -1.073192910142044, 0.5919917522290365, 2.0217583892565774, 1.9864310784018475, 1.8996660155360758, 1.0544989045034798, 1.7598854615084225, 0.7118487491969945, -0.4626374409595336, 0.4547153155947893, 0.6895499130876201, 6.24242675728656, 5.1192912643176784, 3.826649402106814, 3.2432332715941032, 3.057347730879232, 1.566342963030244, 2.4851742255158533, 1.5049391905541887, 1.7978062522593905, 2.5560663666825025, 2.037554555116258, 5.675984416838726, 4.135977986184249, 2.1202582754451242, 5.552513334518341, 3.294982603161508, -0.12358409370354603, 1.3653368777695682, 3.8304686146527556, 1.5537111431819755, 0.30708208181584695, 1.2915847183692688, 0.9667031385858404, 2.898887520337754, 0.456392116769882, 3.552689652327226, 1.2377290013131717, 1.862787188981784, 4.537300605088536, -0.1452666293233484, 2.0232577808520866, 1.1195395954379146, -2.064638427972473, -1.1586466640173598, 0.7628375808191812, -0.15117376555503553, 2.309947467754069, 0.6175762259263436, 1.6463332488754694, -0.9301057096744875, -0.26333624454571086, 2.1405906761070104, 0.30085456135834954, -1.0232786023929856, 1.2534605122952245, 0.7723131117344189, 0.3406411458336449, 0.12144014210368081, -0.06955334790006824, 1.3842453337266498, -1.0288656115283, 2.9926163708330815, 0.2487136993514028, 1.667122721965606, 1.0478612078731808, 0.8620377618886343, 1.8012398790503792, 2.3708910068140723, 2.060336843394242, 1.1899348283583644, 1.5416673461004688, 0.16987387226433173, 1.8566763848316847, 1.7305575766726613, 5.146583587859334, 4.9405972029045095, 1.7075673109648728, 0.7570887177718024, 1.3745153608654697, 0.4257639500224143, 2.255665452929835, 0.7594452520540775, 1.4575770833615957, 1.9877815756275887, -0.3658527968948452, 1.299544783867707, 0.681626714455579, 0.7761085109413718, 1.2226243490045392, 2.1051807723948293, 1.820155119435992, 0.6249311680271783, 3.0228763034860453, 2.0707497829084462, 0.9105301380749109, 0.6782422408698099, 1.465309956120588, 0.1119413465912168, 1.5748119387073536, 1.5565452679363023, 1.128517913425728, 0.6680145438597147, 0.7382755349734222, -1.5523109471884733, 3.5833413980078483, 0.9983443819927469, 0.0419101063635941, 1.3556502088228908, 0.7493256046592119, 3.018274578037012, 0.5285732007292552, 0.3594250729034302, 0.015388518083670755, 1.6805107665476542, 0.5342600571849551, 0.7980951123345568, -0.8158779526428572, -1.6714924060155072, -0.7467462951895584, -2.236045409197483, 3.2488598414019636, 0.42862654005953205, -1.602485966076849, 2.5934220930795857, 0.6179959918022909, -0.695616130538921, 0.901826207097112, 1.8469504876370761, 0.8245751831810219, 2.00418498411001, 0.6426800346625151, 4.948654221135238, 0.2392759999727811, 0.15939856695850635, -0.16720022557524566, 0.6152351197946734, 5.097423869532388, 1.6069948476305649, -0.006214693666259097, 1.429358072825511, 1.3217968556933486, 1.3340643171876563, 0.03941914676300967, 0.13132244373193236, 0.97775630560607, -1.2510125274175776, -0.17022322678889956, 0.11337153617646023, 1.0036075007557088, 2.4755677204897286, 0.2688810650481239, -0.752007987380314, 1.9064670735065978], \"yaxis\": \"y\"}],                        {\"legend\": {\"tracegroupgap\": 0}, \"margin\": {\"t\": 60}, \"template\": {\"data\": {\"bar\": [{\"error_x\": {\"color\": \"#2a3f5f\"}, \"error_y\": {\"color\": \"#2a3f5f\"}, \"marker\": {\"line\": {\"color\": \"#E5ECF6\", \"width\": 0.5}}, \"type\": \"bar\"}], \"barpolar\": [{\"marker\": {\"line\": {\"color\": \"#E5ECF6\", \"width\": 0.5}}, \"type\": \"barpolar\"}], \"carpet\": [{\"aaxis\": {\"endlinecolor\": \"#2a3f5f\", \"gridcolor\": \"white\", \"linecolor\": \"white\", \"minorgridcolor\": \"white\", \"startlinecolor\": \"#2a3f5f\"}, \"baxis\": {\"endlinecolor\": \"#2a3f5f\", \"gridcolor\": \"white\", \"linecolor\": \"white\", \"minorgridcolor\": \"white\", \"startlinecolor\": \"#2a3f5f\"}, \"type\": \"carpet\"}], \"choropleth\": [{\"colorbar\": {\"outlinewidth\": 0, \"ticks\": \"\"}, \"type\": \"choropleth\"}], \"contour\": [{\"colorbar\": {\"outlinewidth\": 0, \"ticks\": \"\"}, \"colorscale\": [[0.0, \"#0d0887\"], [0.1111111111111111, \"#46039f\"], [0.2222222222222222, \"#7201a8\"], [0.3333333333333333, \"#9c179e\"], [0.4444444444444444, \"#bd3786\"], [0.5555555555555556, \"#d8576b\"], [0.6666666666666666, \"#ed7953\"], [0.7777777777777778, \"#fb9f3a\"], [0.8888888888888888, \"#fdca26\"], [1.0, \"#f0f921\"]], \"type\": \"contour\"}], \"contourcarpet\": [{\"colorbar\": {\"outlinewidth\": 0, \"ticks\": \"\"}, \"type\": \"contourcarpet\"}], \"heatmap\": [{\"colorbar\": {\"outlinewidth\": 0, \"ticks\": \"\"}, \"colorscale\": [[0.0, \"#0d0887\"], [0.1111111111111111, \"#46039f\"], [0.2222222222222222, \"#7201a8\"], [0.3333333333333333, \"#9c179e\"], [0.4444444444444444, \"#bd3786\"], [0.5555555555555556, \"#d8576b\"], [0.6666666666666666, \"#ed7953\"], [0.7777777777777778, \"#fb9f3a\"], [0.8888888888888888, \"#fdca26\"], [1.0, \"#f0f921\"]], \"type\": \"heatmap\"}], \"heatmapgl\": [{\"colorbar\": {\"outlinewidth\": 0, \"ticks\": \"\"}, \"colorscale\": [[0.0, \"#0d0887\"], [0.1111111111111111, \"#46039f\"], [0.2222222222222222, \"#7201a8\"], [0.3333333333333333, \"#9c179e\"], [0.4444444444444444, \"#bd3786\"], [0.5555555555555556, \"#d8576b\"], [0.6666666666666666, \"#ed7953\"], [0.7777777777777778, \"#fb9f3a\"], [0.8888888888888888, \"#fdca26\"], [1.0, \"#f0f921\"]], \"type\": \"heatmapgl\"}], \"histogram\": [{\"marker\": {\"colorbar\": {\"outlinewidth\": 0, \"ticks\": \"\"}}, \"type\": \"histogram\"}], \"histogram2d\": [{\"colorbar\": {\"outlinewidth\": 0, \"ticks\": \"\"}, \"colorscale\": [[0.0, \"#0d0887\"], [0.1111111111111111, \"#46039f\"], [0.2222222222222222, \"#7201a8\"], [0.3333333333333333, \"#9c179e\"], [0.4444444444444444, \"#bd3786\"], [0.5555555555555556, \"#d8576b\"], [0.6666666666666666, \"#ed7953\"], [0.7777777777777778, \"#fb9f3a\"], [0.8888888888888888, \"#fdca26\"], [1.0, \"#f0f921\"]], \"type\": \"histogram2d\"}], \"histogram2dcontour\": [{\"colorbar\": {\"outlinewidth\": 0, \"ticks\": \"\"}, \"colorscale\": [[0.0, \"#0d0887\"], [0.1111111111111111, \"#46039f\"], [0.2222222222222222, \"#7201a8\"], [0.3333333333333333, \"#9c179e\"], [0.4444444444444444, \"#bd3786\"], [0.5555555555555556, \"#d8576b\"], [0.6666666666666666, \"#ed7953\"], [0.7777777777777778, \"#fb9f3a\"], [0.8888888888888888, \"#fdca26\"], [1.0, \"#f0f921\"]], \"type\": \"histogram2dcontour\"}], \"mesh3d\": [{\"colorbar\": {\"outlinewidth\": 0, \"ticks\": \"\"}, \"type\": \"mesh3d\"}], \"parcoords\": [{\"line\": {\"colorbar\": {\"outlinewidth\": 0, \"ticks\": \"\"}}, \"type\": \"parcoords\"}], \"pie\": [{\"automargin\": true, \"type\": \"pie\"}], \"scatter\": [{\"marker\": {\"colorbar\": {\"outlinewidth\": 0, \"ticks\": \"\"}}, \"type\": \"scatter\"}], \"scatter3d\": [{\"line\": {\"colorbar\": {\"outlinewidth\": 0, \"ticks\": \"\"}}, \"marker\": {\"colorbar\": {\"outlinewidth\": 0, \"ticks\": \"\"}}, \"type\": \"scatter3d\"}], \"scattercarpet\": [{\"marker\": {\"colorbar\": {\"outlinewidth\": 0, \"ticks\": \"\"}}, \"type\": \"scattercarpet\"}], \"scattergeo\": [{\"marker\": {\"colorbar\": {\"outlinewidth\": 0, \"ticks\": \"\"}}, \"type\": \"scattergeo\"}], \"scattergl\": [{\"marker\": {\"colorbar\": {\"outlinewidth\": 0, \"ticks\": \"\"}}, \"type\": \"scattergl\"}], \"scattermapbox\": [{\"marker\": {\"colorbar\": {\"outlinewidth\": 0, \"ticks\": \"\"}}, \"type\": \"scattermapbox\"}], \"scatterpolar\": [{\"marker\": {\"colorbar\": {\"outlinewidth\": 0, \"ticks\": \"\"}}, \"type\": \"scatterpolar\"}], \"scatterpolargl\": [{\"marker\": {\"colorbar\": {\"outlinewidth\": 0, \"ticks\": \"\"}}, \"type\": \"scatterpolargl\"}], \"scatterternary\": [{\"marker\": {\"colorbar\": {\"outlinewidth\": 0, \"ticks\": \"\"}}, \"type\": \"scatterternary\"}], \"surface\": [{\"colorbar\": {\"outlinewidth\": 0, \"ticks\": \"\"}, \"colorscale\": [[0.0, \"#0d0887\"], [0.1111111111111111, \"#46039f\"], [0.2222222222222222, \"#7201a8\"], [0.3333333333333333, \"#9c179e\"], [0.4444444444444444, \"#bd3786\"], [0.5555555555555556, \"#d8576b\"], [0.6666666666666666, \"#ed7953\"], [0.7777777777777778, \"#fb9f3a\"], [0.8888888888888888, \"#fdca26\"], [1.0, \"#f0f921\"]], \"type\": \"surface\"}], \"table\": [{\"cells\": {\"fill\": {\"color\": \"#EBF0F8\"}, \"line\": {\"color\": \"white\"}}, \"header\": {\"fill\": {\"color\": \"#C8D4E3\"}, \"line\": {\"color\": \"white\"}}, \"type\": \"table\"}]}, \"layout\": {\"annotationdefaults\": {\"arrowcolor\": \"#2a3f5f\", \"arrowhead\": 0, \"arrowwidth\": 1}, \"coloraxis\": {\"colorbar\": {\"outlinewidth\": 0, \"ticks\": \"\"}}, \"colorscale\": {\"diverging\": [[0, \"#8e0152\"], [0.1, \"#c51b7d\"], [0.2, \"#de77ae\"], [0.3, \"#f1b6da\"], [0.4, \"#fde0ef\"], [0.5, \"#f7f7f7\"], [0.6, \"#e6f5d0\"], [0.7, \"#b8e186\"], [0.8, \"#7fbc41\"], [0.9, \"#4d9221\"], [1, \"#276419\"]], \"sequential\": [[0.0, \"#0d0887\"], [0.1111111111111111, \"#46039f\"], [0.2222222222222222, \"#7201a8\"], [0.3333333333333333, \"#9c179e\"], [0.4444444444444444, \"#bd3786\"], [0.5555555555555556, \"#d8576b\"], [0.6666666666666666, \"#ed7953\"], [0.7777777777777778, \"#fb9f3a\"], [0.8888888888888888, \"#fdca26\"], [1.0, \"#f0f921\"]], \"sequentialminus\": [[0.0, \"#0d0887\"], [0.1111111111111111, \"#46039f\"], [0.2222222222222222, \"#7201a8\"], [0.3333333333333333, \"#9c179e\"], [0.4444444444444444, \"#bd3786\"], [0.5555555555555556, \"#d8576b\"], [0.6666666666666666, \"#ed7953\"], [0.7777777777777778, \"#fb9f3a\"], [0.8888888888888888, \"#fdca26\"], [1.0, \"#f0f921\"]]}, \"colorway\": [\"#636efa\", \"#EF553B\", \"#00cc96\", \"#ab63fa\", \"#FFA15A\", \"#19d3f3\", \"#FF6692\", \"#B6E880\", \"#FF97FF\", \"#FECB52\"], \"font\": {\"color\": \"#2a3f5f\"}, \"geo\": {\"bgcolor\": \"white\", \"lakecolor\": \"white\", \"landcolor\": \"#E5ECF6\", \"showlakes\": true, \"showland\": true, \"subunitcolor\": \"white\"}, \"hoverlabel\": {\"align\": \"left\"}, \"hovermode\": \"closest\", \"mapbox\": {\"style\": \"light\"}, \"paper_bgcolor\": \"white\", \"plot_bgcolor\": \"#E5ECF6\", \"polar\": {\"angularaxis\": {\"gridcolor\": \"white\", \"linecolor\": \"white\", \"ticks\": \"\"}, \"bgcolor\": \"#E5ECF6\", \"radialaxis\": {\"gridcolor\": \"white\", \"linecolor\": \"white\", \"ticks\": \"\"}}, \"scene\": {\"xaxis\": {\"backgroundcolor\": \"#E5ECF6\", \"gridcolor\": \"white\", \"gridwidth\": 2, \"linecolor\": \"white\", \"showbackground\": true, \"ticks\": \"\", \"zerolinecolor\": \"white\"}, \"yaxis\": {\"backgroundcolor\": \"#E5ECF6\", \"gridcolor\": \"white\", \"gridwidth\": 2, \"linecolor\": \"white\", \"showbackground\": true, \"ticks\": \"\", \"zerolinecolor\": \"white\"}, \"zaxis\": {\"backgroundcolor\": \"#E5ECF6\", \"gridcolor\": \"white\", \"gridwidth\": 2, \"linecolor\": \"white\", \"showbackground\": true, \"ticks\": \"\", \"zerolinecolor\": \"white\"}}, \"shapedefaults\": {\"line\": {\"color\": \"#2a3f5f\"}}, \"ternary\": {\"aaxis\": {\"gridcolor\": \"white\", \"linecolor\": \"white\", \"ticks\": \"\"}, \"baxis\": {\"gridcolor\": \"white\", \"linecolor\": \"white\", \"ticks\": \"\"}, \"bgcolor\": \"#E5ECF6\", \"caxis\": {\"gridcolor\": \"white\", \"linecolor\": \"white\", \"ticks\": \"\"}}, \"title\": {\"x\": 0.05}, \"xaxis\": {\"automargin\": true, \"gridcolor\": \"white\", \"linecolor\": \"white\", \"ticks\": \"\", \"title\": {\"standoff\": 15}, \"zerolinecolor\": \"white\", \"zerolinewidth\": 2}, \"yaxis\": {\"automargin\": true, \"gridcolor\": \"white\", \"linecolor\": \"white\", \"ticks\": \"\", \"title\": {\"standoff\": 15}, \"zerolinecolor\": \"white\", \"zerolinewidth\": 2}}}, \"xaxis\": {\"anchor\": \"y\", \"domain\": [0.0, 1.0], \"title\": {\"text\": \"x\"}}, \"yaxis\": {\"anchor\": \"x\", \"domain\": [0.0, 1.0], \"title\": {\"text\": \"y\"}}},                        {\"responsive\": true}                    ).then(function(){\n",
       "                            \n",
       "var gd = document.getElementById('31792974-2bbb-4a8e-999a-363d98f76a0a');\n",
       "var x = new MutationObserver(function (mutations, observer) {{\n",
       "        var display = window.getComputedStyle(gd).display;\n",
       "        if (!display || display === 'none') {{\n",
       "            console.log([gd, 'removed!']);\n",
       "            Plotly.purge(gd);\n",
       "            observer.disconnect();\n",
       "        }}\n",
       "}});\n",
       "\n",
       "// Listen for the removal of the full notebook cells\n",
       "var notebookContainer = gd.closest('#notebook-container');\n",
       "if (notebookContainer) {{\n",
       "    x.observe(notebookContainer, {childList: true});\n",
       "}}\n",
       "\n",
       "// Listen for the clearing of the current output cell\n",
       "var outputEl = gd.closest('.output');\n",
       "if (outputEl) {{\n",
       "    x.observe(outputEl, {childList: true});\n",
       "}}\n",
       "\n",
       "                        })                };                });            </script>        </div>"
      ]
     },
     "metadata": {},
     "output_type": "display_data"
    },
    {
     "data": {
      "application/vnd.plotly.v1+json": {
       "config": {
        "plotlyServerURL": "https://plot.ly"
       },
       "data": [
        {
         "hovertemplate": "x=%{x}<br>y=%{y}<extra></extra>",
         "legendgroup": "",
         "marker": {
          "color": "#636efa",
          "symbol": "circle"
         },
         "mode": "markers",
         "name": "",
         "orientation": "v",
         "showlegend": false,
         "type": "scatter",
         "x": [
          null,
          90.64289140999972,
          204.09439939000004,
          104.06631354500041,
          123.0639660349998,
          377.641613795,
          203.53425370499917,
          -214.4062063399997,
          -15.685278979999566,
          177.33595783999954,
          -19.43934543999967,
          34.18328280499918,
          371.4778512900011,
          263.4301217550001,
          -44.373965319999115,
          88.44068227000025,
          102.0460756099983,
          -27.54409910999857,
          -239.1887064700004,
          -2.9190458899993246,
          64.75727902499784,
          -204.17817212500086,
          -119.9386741499984,
          -13.41779588999998,
          86.61365344499973,
          323.56820609999886,
          346.0007522500018,
          204.4313431699993,
          54.06173973499972,
          -15.77065244500045,
          0.04000796000036644,
          -32.97026357499999,
          51.19218743500096,
          -172.46436795000045,
          210.46347117000005,
          249.71658457500052,
          98.1413007150004,
          -2.5304072750004707,
          212.08412042499913,
          -14.74910821999947,
          -5.4708126799996535,
          328.3059225799989,
          -11.105338599998504,
          -63.12955580000198,
          -115.7730892999989,
          -219.81362142499893,
          -164.95119623000028,
          173.93215167499875,
          4.2906548350001685,
          -325.89129715000126,
          80.82089647500106,
          -6.899338464998436,
          148.11767095999858,
          -53.2029396199996,
          -265.51566031499897,
          -449.27659502500137,
          -274.55625206999866,
          -63.35209922000104,
          -4.123763105000762,
          -88.56562290999864,
          127.96497694500067,
          76.32481853999889,
          -25.395707760000732,
          171.7553843099995,
          150.23352433500258,
          -72.90505586500149,
          -517.1841539550005,
          -575.8527748949991,
          41.90852847499991,
          -179.04083985499983,
          -1402.0784689050006,
          -1422.1870805899998,
          402.6000823200002,
          127.81627213999946,
          -522.6704942299993,
          196.33526046499992,
          23.956041200000072,
          582.7673448449996,
          571.6693955850005,
          -199.54246785000032,
          -63.77359813000021,
          22.763819839999996,
          485.5751181149999,
          114.67415340000025,
          -51.50547408500006,
          -32.944296355000006,
          -337.5995443949996,
          -207.39279350000015,
          124.93840499999988,
          229.1236795650002,
          -31.865096510000512,
          434.6091491500001,
          -3.8045294649991774,
          -50.55917810000028,
          11.95262856499994,
          227.6637271949994,
          254.9913143550002,
          -27.561993809999876,
          5.506558210000549,
          -207.12624534499992,
          -195.14991396500045,
          107.51731285499955,
          -148.5742800400003,
          59.2510159450012,
          -95.15568577500017,
          63.94387023999934,
          263.7800074150009,
          70.84444054499909,
          44.186322794999796,
          -185.8913013399997,
          -153.39977313999952,
          122.32661935499982,
          279.8660619499997,
          217.49901236000005,
          77.32940665000024,
          49.48287616499965,
          106.50881860000027,
          35.156949109999914,
          556.234669720001,
          658.0517915949986,
          -129.0597785150003,
          51.38354179499947,
          90.09923340500063,
          -198.41097706999972,
          158.65553673999966,
          229.46607062000112,
          376.4063164199997,
          316.46496515500075,
          -134.70446906000143,
          -751.9097024900002,
          -291.446964499999,
          55.87390778500048,
          301.8622003550008,
          462.5183436949992,
          -15.538278520001768,
          -96.1636727899986,
          173.82460331999937,
          151.92041483499997,
          -50.35880454499966,
          -61.8380751800014,
          -413.41107261999787,
          -91.79945986000166,
          89.51807025500239,
          -172.47774351500084,
          -202.49050865500067,
          39.293714505000025,
          144.10825759999898,
          328.6494028199995,
          129.11450664000222,
          58.87698178500068,
          30.94048157999896,
          258.91169659499974,
          -3.776002000000517,
          -244.1031014300006,
          129.0757160000012,
          59.79796705000081,
          -83.99834597000154,
          -68.90408935999949,
          115.7720159749988,
          21.448349055001017,
          68.04929878500116,
          -217.91021872000056,
          -187.52523243500036,
          31.452155629998742,
          -29.67818968999927,
          -167.4143585999991,
          242.41968547000033,
          -56.05626269499953,
          -28.29263784000068,
          -48.00271337000231,
          -36.41044399999737,
          29.59336910499769,
          125.20343927500107,
          132.92148099000042,
          -129.59357632000138,
          -261.5573040599993,
          -11.615625414999158,
          -103.11357508000037,
          -16.477406289999635,
          53.188069739999264,
          11.612247074999686,
          55.90811877500164,
          -51.45166282500213,
          -25.22362530999817,
          -12.106956315001298,
          -48.86319347999961,
          147.4701753650006,
          64.14686933499979,
          68.70133179000004,
          -16.728789369999504,
          -130.45202001500002,
          43.77209507999942,
          11.925772660000803,
          6.914017344999593,
          -37.59725522500048,
          -4.122290425000756,
          -71.99928962999911,
          -15.901668999998947,
          30.175576354999066,
          -16.388173160001315,
          26.37434064500121,
          102.43636218500069,
          146.75971462000052,
          121.53936989999784,
          5.7699065350007,
          64.9891262100009,
          220.94282910000038,
          762.7685007149994,
          317.38371822499903,
          161.78955250000035,
          -47.86316749999969,
          169.0526845000004,
          315.7703422499999,
          8.908031949998986,
          -293.390365199999,
          7.016749300000811,
          232.68756649999887,
          278.07384009999987,
          -97.20865865000087,
          25.932012749999558,
          -1.827879699998448,
          176.27826434999952,
          -289.48840310000014,
          -65.20925379999971,
          7.633398050000324,
          411.5902071500004,
          -52.27446950000012,
          -29.905347650001204,
          246.83169525000085,
          62.23995755000033,
          -286.98827235000135,
          -52.890863450000325,
          -73.11795444999734,
          -163.01260230000116,
          67.56881064999834,
          78.76584915000058,
          -231.36590474999866,
          -70.55225270000119,
          -35.159158849999585,
          52.65486210000017,
          94.9480992000008,
          77.85628910000014,
          79.77430900000036,
          150.5073298999996,
          -206.29641550000088,
          -815.0645943499985,
          -376.81380810000155,
          -171.80676264500107,
          -58.71645860499848,
          -47.583731335000266,
          22.119504194999536,
          3.9542189900002995,
          187.12730575000023,
          -83.14459244999853,
          147.7327641999982,
          -34.839809199998854,
          132.23734474999947,
          264.53627615000005,
          104.9581540500003,
          3.520050999999512,
          26.258045499998843,
          89.5730992000008,
          -66.68212010000025,
          -270.89067055000123,
          -208.8812270999988,
          -107.55501623499913,
          133.42665346000103,
          177.03189463499803,
          41.83474110500174,
          -6.6908777999997255,
          111.17166001499936,
          -69.87251080500027,
          3.540974739999001,
          -55.29862924999907,
          -165.72681831500086,
          17.771696035000787,
          55.1606758300004,
          103.85803957999815,
          -50.81954769999902,
          -41.726797130000705,
          132.66390515000057,
          220.5894003100002,
          274.81485409999914,
          109.1448938350004,
          110.85665058499944,
          -34.4726934499995,
          -11.200265064999257,
          12.854442924999603,
          -55.22149462000016,
          -45.73381400499966,
          79.66559575999963,
          188.222410235001,
          237.00747241499994,
          702.0483747549988,
          396.59638691000146,
          -55.03954807000264,
          131.10242326500156,
          104.2159037450001,
          -95.78251693999846,
          386.41333717999805,
          -25.280362744999366,
          -88.91936935000012,
          97.80383000999973,
          349.0145841249996,
          2.33386121500007,
          -219.46455430999958,
          129.47028493499965,
          244.40761446999932,
          1004.6275059400014,
          660.8919088950006,
          -484.98944401500194,
          110.56587664000108,
          134.61795748499935,
          -37.68845478000003,
          315.4891942150007,
          316.7542018699987,
          307.777304655001,
          -194.16466554999897,
          -75.17846842000108,
          390.12137878999965,
          825.2892080700003,
          699.695105715,
          -122.3769595599988,
          518.460721039999,
          420.9781661050001,
          -510.31282615999953,
          175.9344400049995,
          382.35214820500187,
          247.59247527499974,
          -1377.3955518400035,
          -622.9365850649992,
          396.5720442250022,
          539.0769467049977,
          1042.4200082099997,
          120.15530082500118,
          -255.92395642499832,
          417.9639082549984,
          -141.68934469999658,
          -228.97734391999984,
          268.87551352499577,
          27.288314265002555,
          -394.7734063250027,
          -495.7916559499972,
          -25.737764925001102,
          -311.189853625001,
          538.8033586649981,
          575.1383550150022,
          100.9705947500006,
          143.52005846500106,
          1076.1876032049986,
          2060.055730324999,
          380.53839537000385,
          636.9570567249975,
          222.52168918499956,
          -569.0102723199998,
          0.5785801700003503,
          303.3138795499981,
          -140.59996985500038,
          813.9202380150018,
          1533.4922733450003,
          1485.4247059549998,
          -307.42889573499997,
          -119.36691830500058,
          1469.9057769700012,
          574.5194842149976,
          478.67164117500215,
          1921.0440232250003,
          2207.286901589996,
          -2248.9499871849985,
          1247.901745795003,
          2867.4774897300013,
          3138.912703984999,
          1056.9088145150017,
          815.9257827399997,
          -1506.204379169998,
          -4254.344940915005,
          185.18766165000125,
          459.062336914998,
          3325.1701090549977,
          -1298.8337774449974,
          -369.68901860999904,
          -1353.1254170300017,
          695.728896395005,
          821.2841990000015,
          -1938.4468744750047,
          -2072.6876835500007,
          -1519.1024125699987,
          1044.4567713399956,
          -401.721570924994,
          1419.9181160449953,
          -1532.857694074999,
          -946.8230485149979,
          975.174182554998,
          3294.7786637399986,
          -1348.0899681699957,
          -608.1938576899993,
          231.96704587499698,
          1181.8296123550026,
          1769.034902075,
          992.7522820799932,
          -12.502851189994544,
          2050.132880450001,
          -958.472933224999,
          3606.132433559993,
          4445.214881514999,
          -1071.9816047749919,
          812.2543392099979,
          1259.7410711699995,
          -365.3423467149987,
          1081.061767359999,
          -689.550878394999,
          1159.6791523650027,
          2031.9422224249938,
          941.7901751950048,
          1780.5272330000007,
          2540.4308476149963,
          935.6968457399998,
          -3751.1135707249996,
          -3502.717244859996,
          -495.9425836550072,
          269.5925723800028,
          -3108.596313889997,
          348.33424666000064,
          -1782.1233236999979,
          2470.5295923849917,
          1228.6234126000054,
          1726.5505255799944,
          -708.7180908599985,
          -1726.5371482150003,
          232.89966239500063,
          1949.1505739150016,
          758.5379919499974,
          2492.913432280002,
          1871.598510414995,
          1013.2548238100062,
          398.8068931050002,
          2264.2834086799994,
          1499.1994888100016,
          -2483.0386494300037,
          -2772.975279555001,
          1555.1179985900017,
          435.69306830500136,
          886.1241485099963,
          1051.2531959800035,
          -1735.5352695949987,
          -1006.9385617650041,
          -1651.7515772749975,
          160.29140529000142,
          -2763.8808223150045,
          1234.1070480799972,
          2046.9784714500056,
          435.14911812000355,
          900.0071040899929,
          1608.6682329350006,
          478.8356491900049,
          217.4526841899933,
          522.558157780004,
          -711.1549919399986,
          -815.867030170004,
          751.8496776800021,
          -229.8677439049934,
          -1395.6104741050076,
          -58.67203646499547,
          1263.5439687949984,
          1285.230642665003,
          382.4896511699917,
          381.279863090007,
          1384.6644791049985,
          1402.8279839399984,
          -193.62951993499883,
          -1106.6917832549952,
          -441.8623810400022,
          -4523.267897165002,
          -999.172001455001,
          -689.2249006749989,
          -28.37835376500152,
          -2229.6996012599993,
          -3079.2944615400047,
          68.69712854000682,
          -1153.671557900001,
          2737.647029550004,
          2797.6758566999924,
          689.4863765949995,
          -1290.6254327450006,
          1748.2241332000049,
          2235.1460602000006,
          -728.0571501700033,
          759.8394449999978,
          -2579.2868909149984,
          237.40758297000139,
          1432.7008811449996,
          91.32997764500033,
          1255.6712338200014,
          -373.46890533999976,
          -1051.0377650250011,
          -1054.8062124349963,
          -2195.6505448150056,
          -4389.516976035004,
          997.9175162350002,
          -1501.4450857099946,
          -1810.2061950650022,
          -2426.2742373999936,
          -325.27823650999926,
          -6976.338232365,
          1642.9937068750005,
          -862.486655050001,
          -786.9446547150001,
          -2349.0903188350057,
          2434.831413355001,
          985.7791670900042,
          1165.067161494997,
          -530.1958443299955,
          -1995.7570179150061,
          -1353.789687299999,
          -503.5105483649968,
          894.3928554349986,
          986.8148030900047,
          256.9120872899948,
          1262.6392884950037,
          -881.3581722500094,
          -1071.041089374994,
          -538.5626720200016,
          -734.8938227550025,
          -2569.6914738299965,
          2440.7033659449953,
          2084.340951420003,
          -264.3874399250053,
          -758.0142540249944,
          1024.8872278449999,
          2774.3792236949957,
          584.5445859150059,
          -1105.963383604998,
          -869.7333657400086,
          -1755.1145967349876,
          -1026.128273900009,
          -949.6494849249939,
          -1236.9921989500072,
          -2415.749370325,
          2169.982217870005,
          544.0132241699976,
          -387.96772241000144,
          -2008.0214373999988,
          1952.897758359999,
          1197.0415899400032,
          836.3141130750009,
          -316.84213720000116
         ],
         "xaxis": "x",
         "y": [
          0.35567450666640404,
          0.28565661647649887,
          0.391564025264782,
          -0.2763719006939621,
          -0.9740944026568193,
          1.90853479136236,
          0.4501619932408847,
          0.5288749890200183,
          -0.39779478989322337,
          -0.2517583886051432,
          0.6498691369438833,
          -1.5101116928067726,
          0.6561824356487488,
          -1.1725578814937463,
          0.18425695031330264,
          -0.7670057745101874,
          -0.4037098140476555,
          -0.18562005156497385,
          0.5844241430751611,
          -0.5852610225767311,
          1.1046177511757915,
          -0.4813349674163476,
          -0.34248230708693056,
          0.42449898179832535,
          0.777066242371787,
          1.0709345543637108,
          1.1305440751263716,
          1.4999505449287052,
          0.15203248921034923,
          -0.835982457207896,
          -0.3068892007766944,
          0.8299194044702563,
          0.10963623244332346,
          -0.010397399583376654,
          -0.4085719370085545,
          1.3236666826911645,
          0.7801728119939086,
          0.9357972738103227,
          1.1261094638080569,
          0.504820932838695,
          1.4371118504859588,
          -1.6762868379404647,
          -0.48430112454906105,
          0.0568188181207962,
          -0.22443822488051499,
          -0.6083141324662673,
          0.691647066728297,
          -0.6992924017312938,
          -0.8149279402174023,
          1.1422232517351356,
          -0.025546331917532944,
          -0.10618531603661482,
          1.5353132130368712,
          0.5691409505708646,
          2.2648171549730085,
          -0.7614896968896634,
          1.1955612106802544,
          0.7861995115645062,
          -0.259599516884763,
          0.278675343840878,
          0.15978130201586227,
          0.04607345538867852,
          -0.16647160867822683,
          0.3193111893968915,
          1.0473895234794843,
          0.6785468360648261,
          0.6694129663933159,
          -0.43580399651518453,
          0.9286842461448854,
          -0.0030316693909653927,
          1.1742155414881048,
          -1.095682920343782,
          1.1820176195737835,
          0.7996555567281483,
          -1.209789988386606,
          -0.4767866416483515,
          -0.503659799921295,
          0.17976946922794487,
          -1.314900799296887,
          -0.6160681869443209,
          -0.1972703975430778,
          -0.4905677182850805,
          -0.3903079993366737,
          0.3214309161390033,
          0.2786063159998593,
          -1.3104015092562287,
          0.4302374108793892,
          -0.284145718725454,
          0.7241728784232426,
          0.046964554805955766,
          0.8282090040202118,
          1.4027423111276895,
          1.3365693317787817,
          1.3062613502239921,
          0.13193399604369205,
          0.4017826094924616,
          0.3878189946364115,
          -0.7379216145567479,
          -0.1444101646061061,
          -0.42349276442198347,
          1.1344897129612272,
          0.7034472821857406,
          1.3733896936309173,
          0.4955122022668435,
          0.7942938679760224,
          0.5801044165172736,
          -1.2114917689676696,
          -0.08731498327802431,
          0.024336419375575243,
          0.5387150756642958,
          0.10515110594939558,
          0.09056218812372918,
          0.5345675784146481,
          0.5438333667033168,
          0.22498572872276645,
          0.4891373717185291,
          0.5959126480695628,
          -0.3602827796276667,
          0,
          0,
          -0.5913119181494761,
          0.9170212477150446,
          1.0989293747404196,
          0.056983665540417505,
          2.0339430246176358,
          1.7916584753856006,
          1.6568270048795781,
          1.439132429410887,
          0.25617714133792546,
          1.8302851894725243,
          2.5698477043335233,
          1.4452855578759858,
          0.5597438051152798,
          0.6313624286024409,
          1.1441405844429542,
          -1.052816513084236,
          -0.8238335933858034,
          0.0971718486294374,
          0.8157628732938211,
          0.42625854612937497,
          0.7869291291274688,
          -0.433131057366224,
          -0.2598619074038613,
          0.04515241419896221,
          -0.12200314540919302,
          0.7355762540536317,
          -0.10485892705621037,
          1.1855644291240812,
          1.4543000781078188,
          0.523058821874453,
          1.1723364704237313,
          1.695667737932399,
          -0.6245203321687449,
          1.2317778730084306,
          0.005547320477428411,
          0.6288406525039835,
          -0.46257115022993966,
          -0.37164304025578043,
          0.7127653126895996,
          0.8170884023126701,
          2.6535090230761558,
          1.2278283354792312,
          -0.819836627459837,
          0.7397572080530691,
          0.5472221083979406,
          -0.23131476680851495,
          -1.210069012121942,
          0.15203757695006814,
          0.7232262822896592,
          1.4163620206565681,
          -0.2855299022607515,
          0.5718571108460613,
          -1.0211456939500638,
          0.08699517491408637,
          -0.7038948200842429,
          0.5911189576329129,
          0.5172982752556389,
          -0.3261161764588232,
          0.8341426500114509,
          0.8992011351855711,
          0.49578115442623527,
          0.16437496785215583,
          0.7992803882973517,
          1.732356667336755,
          0.7694297713891899,
          0.5424347479629328,
          -0.7640022750657495,
          0.6212944759742536,
          0.8491705115977586,
          0.6129547629870706,
          0.7945637266108996,
          0.1544157073136267,
          0.5310990958857078,
          0.1538805133441039,
          0.012226889721974749,
          -0.2703037749059663,
          -0.0667841051252048,
          -0.44941696382625207,
          -0.8761060850229991,
          -0.7999131945674005,
          0.5017730059903142,
          -0.04228627933060802,
          1.0335288927741104,
          -0.9104761545479579,
          0.8770020735067068,
          0.604446245506085,
          1.681763365493766,
          0.8285148755730611,
          0.7407102521889894,
          -0.9150818354773127,
          -0.7911823262206701,
          0.2759472591456767,
          1.0936084241409012,
          0.6483157972607742,
          0.4504844031500317,
          0.3816520222522899,
          1.0242107429133294,
          -0.17363431880582558,
          0.8016884241842556,
          1.1295914972389876,
          0.8700556617237243,
          -0.17165945586884918,
          1.0602160534318203,
          0.2833766376214577,
          0.33301200667920783,
          1.357282913733667,
          0.8285803698063324,
          0.5470504947572777,
          1.3020913416723852,
          -0.1131177862905822,
          0.35536365339685916,
          -0.20935617952499147,
          0.1311610265232161,
          -0.061574370780812196,
          0.3582186410538084,
          0.6220372052257683,
          0.2997248846790236,
          -0.13810234525006085,
          1.0152542244524323,
          1.6388719761064474,
          0.3480914071509064,
          0.23314327051845582,
          -0.2600969870561511,
          0.5799138706219631,
          0.9150944949948038,
          2.1578777530664572,
          0.22807597693568463,
          -0.4791094800863307,
          0.6389204622998861,
          -0.13988965790891844,
          -0.5451031764985927,
          0.6346761508377923,
          0.708528202136848,
          1.0404749044852777,
          0.7646985876400724,
          0.7462682126143293,
          -0.6864697285448524,
          0.2161217396247814,
          0.09714000618902449,
          0.8228482323856111,
          0.1717111826326591,
          0.6342522622665706,
          -1.6682799092416745,
          -0.7539930598811466,
          0.13143562404496523,
          1.2831893393345775,
          0.5746795319427145,
          0.0528651833680904,
          0.022586756919674118,
          0.03173836441400029,
          0.8004928656798914,
          0.23308536129958918,
          1.0820673118137458,
          0.22191788999503823,
          0.05255697542906462,
          0.15399759156955717,
          0.4885737320896524,
          0.96262283591414,
          -0.13423437448158598,
          -0.39020750198255266,
          0.295979385961032,
          0.35016027852621917,
          5.670598240850588E-4,
          0.2892170499906966,
          0.6956121014793863,
          0.8818477084758672,
          0.36166178290451323,
          0.3789406560937276,
          0.37620781290936667,
          0.7477351871781193,
          0.48401278989580854,
          1.1132148373714372,
          0.9554021721104498,
          0.4162332225315945,
          0.023829676773745423,
          0.6150228260408326,
          0.09751308266444794,
          1.5004917112971878,
          -0.46552518038885443,
          1.0826089357205202,
          0.826715017427812,
          -0.13906696702465104,
          0.46062951054846696,
          1.8522094143149777,
          0.2275531013266946,
          0.06559151340628154,
          1.4415381683461388,
          1.553803145809474,
          1.0585788168394985,
          1.9306032164378908,
          2.365355029428296,
          1.4708729766066218,
          0.21993473316837153,
          -0.1319618902857237,
          0.5040713611356857,
          1.0557590516579556,
          2.1513428336625786,
          -0.4440060881062036,
          0.8857092977685144,
          1.027319653481065,
          1.673691747709473,
          1.488403361515672,
          -0.6537973466301026,
          1.5378832491755183,
          1.0144496247835235,
          -0.04023617998672368,
          0.43553135709045177,
          1.7638563922147226,
          1.7298394253282747,
          1.893072240180581,
          1.809168278933348,
          0.14127183842226693,
          0.9020479521132407,
          1.2260108855292182,
          0.5500751637643952,
          0.8856729479075741,
          0.5577283869866333,
          -0.11556317318412279,
          2.0110018241617698,
          -0.45368997725550597,
          0.9268552865033575,
          -0.8081791230703106,
          -0.15791477691169514,
          1.5960335229279818,
          1.9763009536521057,
          0.7997547962408487,
          0.8819348433583563,
          0.2527291501457558,
          -0.24014969304275638,
          5.250395955458929,
          -0.08947893339524404,
          2.608642880679567,
          1.555116109870422,
          1.347151034517574,
          0.4066432933726651,
          0.7712125839615731,
          1.2806824028777501,
          1.3891238570383555,
          1.117437995294554,
          2.3610103761346215,
          2.1744048388368578,
          2.8899042061302564,
          1.5056404111318105,
          1.6140529052257455,
          1.8323184233208798,
          1.8845893878242819,
          3.205960991408322,
          -0.11407180166934927,
          1.203666058194686,
          0.5148292391425049,
          1.479629268640049,
          1.1892379909232245,
          3.8750414956801396,
          -0.8760739412883621,
          0.11467821487865823,
          2.9602631842489,
          0.3258392720681583,
          0.7139670243788012,
          1.8785046648449188,
          -0.2032591377008825,
          0.13777944042827028,
          0.9547620656767927,
          2.068688042189966,
          0.8573287332094204,
          -1.0756427038732148,
          -0.31584724172971906,
          3.398557494184552,
          0.5397521681744318,
          0.1627482205884777,
          1.1229325732603401,
          1.5893750211783988,
          1.371026347714931,
          -1.073192910142044,
          0.5919917522290365,
          2.0217583892565774,
          1.9864310784018475,
          1.8996660155360758,
          1.0544989045034798,
          1.7598854615084225,
          0.7118487491969945,
          -0.4626374409595336,
          0.4547153155947893,
          0.6895499130876201,
          6.24242675728656,
          5.1192912643176784,
          3.826649402106814,
          3.2432332715941032,
          3.057347730879232,
          1.566342963030244,
          2.4851742255158533,
          1.5049391905541887,
          1.7978062522593905,
          2.5560663666825025,
          2.037554555116258,
          5.675984416838726,
          4.135977986184249,
          2.1202582754451242,
          5.552513334518341,
          3.294982603161508,
          -0.12358409370354603,
          1.3653368777695682,
          3.8304686146527556,
          1.5537111431819755,
          0.30708208181584695,
          1.2915847183692688,
          0.9667031385858404,
          2.898887520337754,
          0.456392116769882,
          3.552689652327226,
          1.2377290013131717,
          1.862787188981784,
          4.537300605088536,
          -0.1452666293233484,
          2.0232577808520866,
          1.1195395954379146,
          -2.064638427972473,
          -1.1586466640173598,
          0.7628375808191812,
          -0.15117376555503553,
          2.309947467754069,
          0.6175762259263436,
          1.6463332488754694,
          -0.9301057096744875,
          -0.26333624454571086,
          2.1405906761070104,
          0.30085456135834954,
          -1.0232786023929856,
          1.2534605122952245,
          0.7723131117344189,
          0.3406411458336449,
          0.12144014210368081,
          -0.06955334790006824,
          1.3842453337266498,
          -1.0288656115283,
          2.9926163708330815,
          0.2487136993514028,
          1.667122721965606,
          1.0478612078731808,
          0.8620377618886343,
          1.8012398790503792,
          2.3708910068140723,
          2.060336843394242,
          1.1899348283583644,
          1.5416673461004688,
          0.16987387226433173,
          1.8566763848316847,
          1.7305575766726613,
          5.146583587859334,
          4.9405972029045095,
          1.7075673109648728,
          0.7570887177718024,
          1.3745153608654697,
          0.4257639500224143,
          2.255665452929835,
          0.7594452520540775,
          1.4575770833615957,
          1.9877815756275887,
          -0.3658527968948452,
          1.299544783867707,
          0.681626714455579,
          0.7761085109413718,
          1.2226243490045392,
          2.1051807723948293,
          1.820155119435992,
          0.6249311680271783,
          3.0228763034860453,
          2.0707497829084462,
          0.9105301380749109,
          0.6782422408698099,
          1.465309956120588,
          0.1119413465912168,
          1.5748119387073536,
          1.5565452679363023,
          1.128517913425728,
          0.6680145438597147,
          0.7382755349734222,
          -1.5523109471884733,
          3.5833413980078483,
          0.9983443819927469,
          0.0419101063635941,
          1.3556502088228908,
          0.7493256046592119,
          3.018274578037012,
          0.5285732007292552,
          0.3594250729034302,
          0.015388518083670755,
          1.6805107665476542,
          0.5342600571849551,
          0.7980951123345568,
          -0.8158779526428572,
          -1.6714924060155072,
          -0.7467462951895584,
          -2.236045409197483,
          3.2488598414019636,
          0.42862654005953205,
          -1.602485966076849,
          2.5934220930795857,
          0.6179959918022909,
          -0.695616130538921,
          0.901826207097112,
          1.8469504876370761,
          0.8245751831810219,
          2.00418498411001,
          0.6426800346625151,
          4.948654221135238,
          0.2392759999727811,
          0.15939856695850635,
          -0.16720022557524566,
          0.6152351197946734,
          5.097423869532388,
          1.6069948476305649,
          -0.006214693666259097,
          1.429358072825511,
          1.3217968556933486,
          1.3340643171876563,
          0.03941914676300967,
          0.13132244373193236,
          0.97775630560607,
          -1.2510125274175776,
          -0.17022322678889956,
          0.11337153617646023,
          1.0036075007557088,
          2.4755677204897286,
          0.2688810650481239,
          -0.752007987380314,
          1.9064670735065978
         ],
         "yaxis": "y"
        }
       ],
       "layout": {
        "legend": {
         "tracegroupgap": 0
        },
        "margin": {
         "t": 60
        },
        "template": {
         "data": {
          "bar": [
           {
            "error_x": {
             "color": "#2a3f5f"
            },
            "error_y": {
             "color": "#2a3f5f"
            },
            "marker": {
             "line": {
              "color": "#E5ECF6",
              "width": 0.5
             }
            },
            "type": "bar"
           }
          ],
          "barpolar": [
           {
            "marker": {
             "line": {
              "color": "#E5ECF6",
              "width": 0.5
             }
            },
            "type": "barpolar"
           }
          ],
          "carpet": [
           {
            "aaxis": {
             "endlinecolor": "#2a3f5f",
             "gridcolor": "white",
             "linecolor": "white",
             "minorgridcolor": "white",
             "startlinecolor": "#2a3f5f"
            },
            "baxis": {
             "endlinecolor": "#2a3f5f",
             "gridcolor": "white",
             "linecolor": "white",
             "minorgridcolor": "white",
             "startlinecolor": "#2a3f5f"
            },
            "type": "carpet"
           }
          ],
          "choropleth": [
           {
            "colorbar": {
             "outlinewidth": 0,
             "ticks": ""
            },
            "type": "choropleth"
           }
          ],
          "contour": [
           {
            "colorbar": {
             "outlinewidth": 0,
             "ticks": ""
            },
            "colorscale": [
             [
              0,
              "#0d0887"
             ],
             [
              0.1111111111111111,
              "#46039f"
             ],
             [
              0.2222222222222222,
              "#7201a8"
             ],
             [
              0.3333333333333333,
              "#9c179e"
             ],
             [
              0.4444444444444444,
              "#bd3786"
             ],
             [
              0.5555555555555556,
              "#d8576b"
             ],
             [
              0.6666666666666666,
              "#ed7953"
             ],
             [
              0.7777777777777778,
              "#fb9f3a"
             ],
             [
              0.8888888888888888,
              "#fdca26"
             ],
             [
              1,
              "#f0f921"
             ]
            ],
            "type": "contour"
           }
          ],
          "contourcarpet": [
           {
            "colorbar": {
             "outlinewidth": 0,
             "ticks": ""
            },
            "type": "contourcarpet"
           }
          ],
          "heatmap": [
           {
            "colorbar": {
             "outlinewidth": 0,
             "ticks": ""
            },
            "colorscale": [
             [
              0,
              "#0d0887"
             ],
             [
              0.1111111111111111,
              "#46039f"
             ],
             [
              0.2222222222222222,
              "#7201a8"
             ],
             [
              0.3333333333333333,
              "#9c179e"
             ],
             [
              0.4444444444444444,
              "#bd3786"
             ],
             [
              0.5555555555555556,
              "#d8576b"
             ],
             [
              0.6666666666666666,
              "#ed7953"
             ],
             [
              0.7777777777777778,
              "#fb9f3a"
             ],
             [
              0.8888888888888888,
              "#fdca26"
             ],
             [
              1,
              "#f0f921"
             ]
            ],
            "type": "heatmap"
           }
          ],
          "heatmapgl": [
           {
            "colorbar": {
             "outlinewidth": 0,
             "ticks": ""
            },
            "colorscale": [
             [
              0,
              "#0d0887"
             ],
             [
              0.1111111111111111,
              "#46039f"
             ],
             [
              0.2222222222222222,
              "#7201a8"
             ],
             [
              0.3333333333333333,
              "#9c179e"
             ],
             [
              0.4444444444444444,
              "#bd3786"
             ],
             [
              0.5555555555555556,
              "#d8576b"
             ],
             [
              0.6666666666666666,
              "#ed7953"
             ],
             [
              0.7777777777777778,
              "#fb9f3a"
             ],
             [
              0.8888888888888888,
              "#fdca26"
             ],
             [
              1,
              "#f0f921"
             ]
            ],
            "type": "heatmapgl"
           }
          ],
          "histogram": [
           {
            "marker": {
             "colorbar": {
              "outlinewidth": 0,
              "ticks": ""
             }
            },
            "type": "histogram"
           }
          ],
          "histogram2d": [
           {
            "colorbar": {
             "outlinewidth": 0,
             "ticks": ""
            },
            "colorscale": [
             [
              0,
              "#0d0887"
             ],
             [
              0.1111111111111111,
              "#46039f"
             ],
             [
              0.2222222222222222,
              "#7201a8"
             ],
             [
              0.3333333333333333,
              "#9c179e"
             ],
             [
              0.4444444444444444,
              "#bd3786"
             ],
             [
              0.5555555555555556,
              "#d8576b"
             ],
             [
              0.6666666666666666,
              "#ed7953"
             ],
             [
              0.7777777777777778,
              "#fb9f3a"
             ],
             [
              0.8888888888888888,
              "#fdca26"
             ],
             [
              1,
              "#f0f921"
             ]
            ],
            "type": "histogram2d"
           }
          ],
          "histogram2dcontour": [
           {
            "colorbar": {
             "outlinewidth": 0,
             "ticks": ""
            },
            "colorscale": [
             [
              0,
              "#0d0887"
             ],
             [
              0.1111111111111111,
              "#46039f"
             ],
             [
              0.2222222222222222,
              "#7201a8"
             ],
             [
              0.3333333333333333,
              "#9c179e"
             ],
             [
              0.4444444444444444,
              "#bd3786"
             ],
             [
              0.5555555555555556,
              "#d8576b"
             ],
             [
              0.6666666666666666,
              "#ed7953"
             ],
             [
              0.7777777777777778,
              "#fb9f3a"
             ],
             [
              0.8888888888888888,
              "#fdca26"
             ],
             [
              1,
              "#f0f921"
             ]
            ],
            "type": "histogram2dcontour"
           }
          ],
          "mesh3d": [
           {
            "colorbar": {
             "outlinewidth": 0,
             "ticks": ""
            },
            "type": "mesh3d"
           }
          ],
          "parcoords": [
           {
            "line": {
             "colorbar": {
              "outlinewidth": 0,
              "ticks": ""
             }
            },
            "type": "parcoords"
           }
          ],
          "pie": [
           {
            "automargin": true,
            "type": "pie"
           }
          ],
          "scatter": [
           {
            "marker": {
             "colorbar": {
              "outlinewidth": 0,
              "ticks": ""
             }
            },
            "type": "scatter"
           }
          ],
          "scatter3d": [
           {
            "line": {
             "colorbar": {
              "outlinewidth": 0,
              "ticks": ""
             }
            },
            "marker": {
             "colorbar": {
              "outlinewidth": 0,
              "ticks": ""
             }
            },
            "type": "scatter3d"
           }
          ],
          "scattercarpet": [
           {
            "marker": {
             "colorbar": {
              "outlinewidth": 0,
              "ticks": ""
             }
            },
            "type": "scattercarpet"
           }
          ],
          "scattergeo": [
           {
            "marker": {
             "colorbar": {
              "outlinewidth": 0,
              "ticks": ""
             }
            },
            "type": "scattergeo"
           }
          ],
          "scattergl": [
           {
            "marker": {
             "colorbar": {
              "outlinewidth": 0,
              "ticks": ""
             }
            },
            "type": "scattergl"
           }
          ],
          "scattermapbox": [
           {
            "marker": {
             "colorbar": {
              "outlinewidth": 0,
              "ticks": ""
             }
            },
            "type": "scattermapbox"
           }
          ],
          "scatterpolar": [
           {
            "marker": {
             "colorbar": {
              "outlinewidth": 0,
              "ticks": ""
             }
            },
            "type": "scatterpolar"
           }
          ],
          "scatterpolargl": [
           {
            "marker": {
             "colorbar": {
              "outlinewidth": 0,
              "ticks": ""
             }
            },
            "type": "scatterpolargl"
           }
          ],
          "scatterternary": [
           {
            "marker": {
             "colorbar": {
              "outlinewidth": 0,
              "ticks": ""
             }
            },
            "type": "scatterternary"
           }
          ],
          "surface": [
           {
            "colorbar": {
             "outlinewidth": 0,
             "ticks": ""
            },
            "colorscale": [
             [
              0,
              "#0d0887"
             ],
             [
              0.1111111111111111,
              "#46039f"
             ],
             [
              0.2222222222222222,
              "#7201a8"
             ],
             [
              0.3333333333333333,
              "#9c179e"
             ],
             [
              0.4444444444444444,
              "#bd3786"
             ],
             [
              0.5555555555555556,
              "#d8576b"
             ],
             [
              0.6666666666666666,
              "#ed7953"
             ],
             [
              0.7777777777777778,
              "#fb9f3a"
             ],
             [
              0.8888888888888888,
              "#fdca26"
             ],
             [
              1,
              "#f0f921"
             ]
            ],
            "type": "surface"
           }
          ],
          "table": [
           {
            "cells": {
             "fill": {
              "color": "#EBF0F8"
             },
             "line": {
              "color": "white"
             }
            },
            "header": {
             "fill": {
              "color": "#C8D4E3"
             },
             "line": {
              "color": "white"
             }
            },
            "type": "table"
           }
          ]
         },
         "layout": {
          "annotationdefaults": {
           "arrowcolor": "#2a3f5f",
           "arrowhead": 0,
           "arrowwidth": 1
          },
          "coloraxis": {
           "colorbar": {
            "outlinewidth": 0,
            "ticks": ""
           }
          },
          "colorscale": {
           "diverging": [
            [
             0,
             "#8e0152"
            ],
            [
             0.1,
             "#c51b7d"
            ],
            [
             0.2,
             "#de77ae"
            ],
            [
             0.3,
             "#f1b6da"
            ],
            [
             0.4,
             "#fde0ef"
            ],
            [
             0.5,
             "#f7f7f7"
            ],
            [
             0.6,
             "#e6f5d0"
            ],
            [
             0.7,
             "#b8e186"
            ],
            [
             0.8,
             "#7fbc41"
            ],
            [
             0.9,
             "#4d9221"
            ],
            [
             1,
             "#276419"
            ]
           ],
           "sequential": [
            [
             0,
             "#0d0887"
            ],
            [
             0.1111111111111111,
             "#46039f"
            ],
            [
             0.2222222222222222,
             "#7201a8"
            ],
            [
             0.3333333333333333,
             "#9c179e"
            ],
            [
             0.4444444444444444,
             "#bd3786"
            ],
            [
             0.5555555555555556,
             "#d8576b"
            ],
            [
             0.6666666666666666,
             "#ed7953"
            ],
            [
             0.7777777777777778,
             "#fb9f3a"
            ],
            [
             0.8888888888888888,
             "#fdca26"
            ],
            [
             1,
             "#f0f921"
            ]
           ],
           "sequentialminus": [
            [
             0,
             "#0d0887"
            ],
            [
             0.1111111111111111,
             "#46039f"
            ],
            [
             0.2222222222222222,
             "#7201a8"
            ],
            [
             0.3333333333333333,
             "#9c179e"
            ],
            [
             0.4444444444444444,
             "#bd3786"
            ],
            [
             0.5555555555555556,
             "#d8576b"
            ],
            [
             0.6666666666666666,
             "#ed7953"
            ],
            [
             0.7777777777777778,
             "#fb9f3a"
            ],
            [
             0.8888888888888888,
             "#fdca26"
            ],
            [
             1,
             "#f0f921"
            ]
           ]
          },
          "colorway": [
           "#636efa",
           "#EF553B",
           "#00cc96",
           "#ab63fa",
           "#FFA15A",
           "#19d3f3",
           "#FF6692",
           "#B6E880",
           "#FF97FF",
           "#FECB52"
          ],
          "font": {
           "color": "#2a3f5f"
          },
          "geo": {
           "bgcolor": "white",
           "lakecolor": "white",
           "landcolor": "#E5ECF6",
           "showlakes": true,
           "showland": true,
           "subunitcolor": "white"
          },
          "hoverlabel": {
           "align": "left"
          },
          "hovermode": "closest",
          "mapbox": {
           "style": "light"
          },
          "paper_bgcolor": "white",
          "plot_bgcolor": "#E5ECF6",
          "polar": {
           "angularaxis": {
            "gridcolor": "white",
            "linecolor": "white",
            "ticks": ""
           },
           "bgcolor": "#E5ECF6",
           "radialaxis": {
            "gridcolor": "white",
            "linecolor": "white",
            "ticks": ""
           }
          },
          "scene": {
           "xaxis": {
            "backgroundcolor": "#E5ECF6",
            "gridcolor": "white",
            "gridwidth": 2,
            "linecolor": "white",
            "showbackground": true,
            "ticks": "",
            "zerolinecolor": "white"
           },
           "yaxis": {
            "backgroundcolor": "#E5ECF6",
            "gridcolor": "white",
            "gridwidth": 2,
            "linecolor": "white",
            "showbackground": true,
            "ticks": "",
            "zerolinecolor": "white"
           },
           "zaxis": {
            "backgroundcolor": "#E5ECF6",
            "gridcolor": "white",
            "gridwidth": 2,
            "linecolor": "white",
            "showbackground": true,
            "ticks": "",
            "zerolinecolor": "white"
           }
          },
          "shapedefaults": {
           "line": {
            "color": "#2a3f5f"
           }
          },
          "ternary": {
           "aaxis": {
            "gridcolor": "white",
            "linecolor": "white",
            "ticks": ""
           },
           "baxis": {
            "gridcolor": "white",
            "linecolor": "white",
            "ticks": ""
           },
           "bgcolor": "#E5ECF6",
           "caxis": {
            "gridcolor": "white",
            "linecolor": "white",
            "ticks": ""
           }
          },
          "title": {
           "x": 0.05
          },
          "xaxis": {
           "automargin": true,
           "gridcolor": "white",
           "linecolor": "white",
           "ticks": "",
           "title": {
            "standoff": 15
           },
           "zerolinecolor": "white",
           "zerolinewidth": 2
          },
          "yaxis": {
           "automargin": true,
           "gridcolor": "white",
           "linecolor": "white",
           "ticks": "",
           "title": {
            "standoff": 15
           },
           "zerolinecolor": "white",
           "zerolinewidth": 2
          }
         }
        },
        "xaxis": {
         "anchor": "y",
         "domain": [
          0,
          1
         ],
         "title": {
          "text": "x"
         }
        },
        "yaxis": {
         "anchor": "x",
         "domain": [
          0,
          1
         ],
         "title": {
          "text": "y"
         }
        }
       }
      },
      "text/html": [
       "<div>                            <div id=\"a5f4df0c-5257-4547-b22e-66242999979a\" class=\"plotly-graph-div\" style=\"height:525px; width:100%;\"></div>            <script type=\"text/javascript\">                require([\"plotly\"], function(Plotly) {                    window.PLOTLYENV=window.PLOTLYENV || {};                                    if (document.getElementById(\"a5f4df0c-5257-4547-b22e-66242999979a\")) {                    Plotly.newPlot(                        \"a5f4df0c-5257-4547-b22e-66242999979a\",                        [{\"hovertemplate\": \"x=%{x}<br>y=%{y}<extra></extra>\", \"legendgroup\": \"\", \"marker\": {\"color\": \"#636efa\", \"symbol\": \"circle\"}, \"mode\": \"markers\", \"name\": \"\", \"orientation\": \"v\", \"showlegend\": false, \"type\": \"scatter\", \"x\": [null, 90.64289140999972, 204.09439939000004, 104.06631354500041, 123.0639660349998, 377.641613795, 203.53425370499917, -214.4062063399997, -15.685278979999566, 177.33595783999954, -19.43934543999967, 34.18328280499918, 371.4778512900011, 263.4301217550001, -44.373965319999115, 88.44068227000025, 102.0460756099983, -27.54409910999857, -239.1887064700004, -2.9190458899993246, 64.75727902499784, -204.17817212500086, -119.9386741499984, -13.41779588999998, 86.61365344499973, 323.56820609999886, 346.0007522500018, 204.4313431699993, 54.06173973499972, -15.77065244500045, 0.04000796000036644, -32.97026357499999, 51.19218743500096, -172.46436795000045, 210.46347117000005, 249.71658457500052, 98.1413007150004, -2.5304072750004707, 212.08412042499913, -14.74910821999947, -5.4708126799996535, 328.3059225799989, -11.105338599998504, -63.12955580000198, -115.7730892999989, -219.81362142499893, -164.95119623000028, 173.93215167499875, 4.2906548350001685, -325.89129715000126, 80.82089647500106, -6.899338464998436, 148.11767095999858, -53.2029396199996, -265.51566031499897, -449.27659502500137, -274.55625206999866, -63.35209922000104, -4.123763105000762, -88.56562290999864, 127.96497694500067, 76.32481853999889, -25.395707760000732, 171.7553843099995, 150.23352433500258, -72.90505586500149, -517.1841539550005, -575.8527748949991, 41.90852847499991, -179.04083985499983, -1402.0784689050006, -1422.1870805899998, 402.6000823200002, 127.81627213999946, -522.6704942299993, 196.33526046499992, 23.956041200000072, 582.7673448449996, 571.6693955850005, -199.54246785000032, -63.77359813000021, 22.763819839999996, 485.5751181149999, 114.67415340000025, -51.50547408500006, -32.944296355000006, -337.5995443949996, -207.39279350000015, 124.93840499999988, 229.1236795650002, -31.865096510000512, 434.6091491500001, -3.8045294649991774, -50.55917810000028, 11.95262856499994, 227.6637271949994, 254.9913143550002, -27.561993809999876, 5.506558210000549, -207.12624534499992, -195.14991396500045, 107.51731285499955, -148.5742800400003, 59.2510159450012, -95.15568577500017, 63.94387023999934, 263.7800074150009, 70.84444054499909, 44.186322794999796, -185.8913013399997, -153.39977313999952, 122.32661935499982, 279.8660619499997, 217.49901236000005, 77.32940665000024, 49.48287616499965, 106.50881860000027, 35.156949109999914, 556.234669720001, 658.0517915949986, -129.0597785150003, 51.38354179499947, 90.09923340500063, -198.41097706999972, 158.65553673999966, 229.46607062000112, 376.4063164199997, 316.46496515500075, -134.70446906000143, -751.9097024900002, -291.446964499999, 55.87390778500048, 301.8622003550008, 462.5183436949992, -15.538278520001768, -96.1636727899986, 173.82460331999937, 151.92041483499997, -50.35880454499966, -61.8380751800014, -413.41107261999787, -91.79945986000166, 89.51807025500239, -172.47774351500084, -202.49050865500067, 39.293714505000025, 144.10825759999898, 328.6494028199995, 129.11450664000222, 58.87698178500068, 30.94048157999896, 258.91169659499974, -3.776002000000517, -244.1031014300006, 129.0757160000012, 59.79796705000081, -83.99834597000154, -68.90408935999949, 115.7720159749988, 21.448349055001017, 68.04929878500116, -217.91021872000056, -187.52523243500036, 31.452155629998742, -29.67818968999927, -167.4143585999991, 242.41968547000033, -56.05626269499953, -28.29263784000068, -48.00271337000231, -36.41044399999737, 29.59336910499769, 125.20343927500107, 132.92148099000042, -129.59357632000138, -261.5573040599993, -11.615625414999158, -103.11357508000037, -16.477406289999635, 53.188069739999264, 11.612247074999686, 55.90811877500164, -51.45166282500213, -25.22362530999817, -12.106956315001298, -48.86319347999961, 147.4701753650006, 64.14686933499979, 68.70133179000004, -16.728789369999504, -130.45202001500002, 43.77209507999942, 11.925772660000803, 6.914017344999593, -37.59725522500048, -4.122290425000756, -71.99928962999911, -15.901668999998947, 30.175576354999066, -16.388173160001315, 26.37434064500121, 102.43636218500069, 146.75971462000052, 121.53936989999784, 5.7699065350007, 64.9891262100009, 220.94282910000038, 762.7685007149994, 317.38371822499903, 161.78955250000035, -47.86316749999969, 169.0526845000004, 315.7703422499999, 8.908031949998986, -293.390365199999, 7.016749300000811, 232.68756649999887, 278.07384009999987, -97.20865865000087, 25.932012749999558, -1.827879699998448, 176.27826434999952, -289.48840310000014, -65.20925379999971, 7.633398050000324, 411.5902071500004, -52.27446950000012, -29.905347650001204, 246.83169525000085, 62.23995755000033, -286.98827235000135, -52.890863450000325, -73.11795444999734, -163.01260230000116, 67.56881064999834, 78.76584915000058, -231.36590474999866, -70.55225270000119, -35.159158849999585, 52.65486210000017, 94.9480992000008, 77.85628910000014, 79.77430900000036, 150.5073298999996, -206.29641550000088, -815.0645943499985, -376.81380810000155, -171.80676264500107, -58.71645860499848, -47.583731335000266, 22.119504194999536, 3.9542189900002995, 187.12730575000023, -83.14459244999853, 147.7327641999982, -34.839809199998854, 132.23734474999947, 264.53627615000005, 104.9581540500003, 3.520050999999512, 26.258045499998843, 89.5730992000008, -66.68212010000025, -270.89067055000123, -208.8812270999988, -107.55501623499913, 133.42665346000103, 177.03189463499803, 41.83474110500174, -6.6908777999997255, 111.17166001499936, -69.87251080500027, 3.540974739999001, -55.29862924999907, -165.72681831500086, 17.771696035000787, 55.1606758300004, 103.85803957999815, -50.81954769999902, -41.726797130000705, 132.66390515000057, 220.5894003100002, 274.81485409999914, 109.1448938350004, 110.85665058499944, -34.4726934499995, -11.200265064999257, 12.854442924999603, -55.22149462000016, -45.73381400499966, 79.66559575999963, 188.222410235001, 237.00747241499994, 702.0483747549988, 396.59638691000146, -55.03954807000264, 131.10242326500156, 104.2159037450001, -95.78251693999846, 386.41333717999805, -25.280362744999366, -88.91936935000012, 97.80383000999973, 349.0145841249996, 2.33386121500007, -219.46455430999958, 129.47028493499965, 244.40761446999932, 1004.6275059400014, 660.8919088950006, -484.98944401500194, 110.56587664000108, 134.61795748499935, -37.68845478000003, 315.4891942150007, 316.7542018699987, 307.777304655001, -194.16466554999897, -75.17846842000108, 390.12137878999965, 825.2892080700003, 699.695105715, -122.3769595599988, 518.460721039999, 420.9781661050001, -510.31282615999953, 175.9344400049995, 382.35214820500187, 247.59247527499974, -1377.3955518400035, -622.9365850649992, 396.5720442250022, 539.0769467049977, 1042.4200082099997, 120.15530082500118, -255.92395642499832, 417.9639082549984, -141.68934469999658, -228.97734391999984, 268.87551352499577, 27.288314265002555, -394.7734063250027, -495.7916559499972, -25.737764925001102, -311.189853625001, 538.8033586649981, 575.1383550150022, 100.9705947500006, 143.52005846500106, 1076.1876032049986, 2060.055730324999, 380.53839537000385, 636.9570567249975, 222.52168918499956, -569.0102723199998, 0.5785801700003503, 303.3138795499981, -140.59996985500038, 813.9202380150018, 1533.4922733450003, 1485.4247059549998, -307.42889573499997, -119.36691830500058, 1469.9057769700012, 574.5194842149976, 478.67164117500215, 1921.0440232250003, 2207.286901589996, -2248.9499871849985, 1247.901745795003, 2867.4774897300013, 3138.912703984999, 1056.9088145150017, 815.9257827399997, -1506.204379169998, -4254.344940915005, 185.18766165000125, 459.062336914998, 3325.1701090549977, -1298.8337774449974, -369.68901860999904, -1353.1254170300017, 695.728896395005, 821.2841990000015, -1938.4468744750047, -2072.6876835500007, -1519.1024125699987, 1044.4567713399956, -401.721570924994, 1419.9181160449953, -1532.857694074999, -946.8230485149979, 975.174182554998, 3294.7786637399986, -1348.0899681699957, -608.1938576899993, 231.96704587499698, 1181.8296123550026, 1769.034902075, 992.7522820799932, -12.502851189994544, 2050.132880450001, -958.472933224999, 3606.132433559993, 4445.214881514999, -1071.9816047749919, 812.2543392099979, 1259.7410711699995, -365.3423467149987, 1081.061767359999, -689.550878394999, 1159.6791523650027, 2031.9422224249938, 941.7901751950048, 1780.5272330000007, 2540.4308476149963, 935.6968457399998, -3751.1135707249996, -3502.717244859996, -495.9425836550072, 269.5925723800028, -3108.596313889997, 348.33424666000064, -1782.1233236999979, 2470.5295923849917, 1228.6234126000054, 1726.5505255799944, -708.7180908599985, -1726.5371482150003, 232.89966239500063, 1949.1505739150016, 758.5379919499974, 2492.913432280002, 1871.598510414995, 1013.2548238100062, 398.8068931050002, 2264.2834086799994, 1499.1994888100016, -2483.0386494300037, -2772.975279555001, 1555.1179985900017, 435.69306830500136, 886.1241485099963, 1051.2531959800035, -1735.5352695949987, -1006.9385617650041, -1651.7515772749975, 160.29140529000142, -2763.8808223150045, 1234.1070480799972, 2046.9784714500056, 435.14911812000355, 900.0071040899929, 1608.6682329350006, 478.8356491900049, 217.4526841899933, 522.558157780004, -711.1549919399986, -815.867030170004, 751.8496776800021, -229.8677439049934, -1395.6104741050076, -58.67203646499547, 1263.5439687949984, 1285.230642665003, 382.4896511699917, 381.279863090007, 1384.6644791049985, 1402.8279839399984, -193.62951993499883, -1106.6917832549952, -441.8623810400022, -4523.267897165002, -999.172001455001, -689.2249006749989, -28.37835376500152, -2229.6996012599993, -3079.2944615400047, 68.69712854000682, -1153.671557900001, 2737.647029550004, 2797.6758566999924, 689.4863765949995, -1290.6254327450006, 1748.2241332000049, 2235.1460602000006, -728.0571501700033, 759.8394449999978, -2579.2868909149984, 237.40758297000139, 1432.7008811449996, 91.32997764500033, 1255.6712338200014, -373.46890533999976, -1051.0377650250011, -1054.8062124349963, -2195.6505448150056, -4389.516976035004, 997.9175162350002, -1501.4450857099946, -1810.2061950650022, -2426.2742373999936, -325.27823650999926, -6976.338232365, 1642.9937068750005, -862.486655050001, -786.9446547150001, -2349.0903188350057, 2434.831413355001, 985.7791670900042, 1165.067161494997, -530.1958443299955, -1995.7570179150061, -1353.789687299999, -503.5105483649968, 894.3928554349986, 986.8148030900047, 256.9120872899948, 1262.6392884950037, -881.3581722500094, -1071.041089374994, -538.5626720200016, -734.8938227550025, -2569.6914738299965, 2440.7033659449953, 2084.340951420003, -264.3874399250053, -758.0142540249944, 1024.8872278449999, 2774.3792236949957, 584.5445859150059, -1105.963383604998, -869.7333657400086, -1755.1145967349876, -1026.128273900009, -949.6494849249939, -1236.9921989500072, -2415.749370325, 2169.982217870005, 544.0132241699976, -387.96772241000144, -2008.0214373999988, 1952.897758359999, 1197.0415899400032, 836.3141130750009, -316.84213720000116], \"xaxis\": \"x\", \"y\": [0.35567450666640404, 0.28565661647649887, 0.391564025264782, -0.2763719006939621, -0.9740944026568193, 1.90853479136236, 0.4501619932408847, 0.5288749890200183, -0.39779478989322337, -0.2517583886051432, 0.6498691369438833, -1.5101116928067726, 0.6561824356487488, -1.1725578814937463, 0.18425695031330264, -0.7670057745101874, -0.4037098140476555, -0.18562005156497385, 0.5844241430751611, -0.5852610225767311, 1.1046177511757915, -0.4813349674163476, -0.34248230708693056, 0.42449898179832535, 0.777066242371787, 1.0709345543637108, 1.1305440751263716, 1.4999505449287052, 0.15203248921034923, -0.835982457207896, -0.3068892007766944, 0.8299194044702563, 0.10963623244332346, -0.010397399583376654, -0.4085719370085545, 1.3236666826911645, 0.7801728119939086, 0.9357972738103227, 1.1261094638080569, 0.504820932838695, 1.4371118504859588, -1.6762868379404647, -0.48430112454906105, 0.0568188181207962, -0.22443822488051499, -0.6083141324662673, 0.691647066728297, -0.6992924017312938, -0.8149279402174023, 1.1422232517351356, -0.025546331917532944, -0.10618531603661482, 1.5353132130368712, 0.5691409505708646, 2.2648171549730085, -0.7614896968896634, 1.1955612106802544, 0.7861995115645062, -0.259599516884763, 0.278675343840878, 0.15978130201586227, 0.04607345538867852, -0.16647160867822683, 0.3193111893968915, 1.0473895234794843, 0.6785468360648261, 0.6694129663933159, -0.43580399651518453, 0.9286842461448854, -0.0030316693909653927, 1.1742155414881048, -1.095682920343782, 1.1820176195737835, 0.7996555567281483, -1.209789988386606, -0.4767866416483515, -0.503659799921295, 0.17976946922794487, -1.314900799296887, -0.6160681869443209, -0.1972703975430778, -0.4905677182850805, -0.3903079993366737, 0.3214309161390033, 0.2786063159998593, -1.3104015092562287, 0.4302374108793892, -0.284145718725454, 0.7241728784232426, 0.046964554805955766, 0.8282090040202118, 1.4027423111276895, 1.3365693317787817, 1.3062613502239921, 0.13193399604369205, 0.4017826094924616, 0.3878189946364115, -0.7379216145567479, -0.1444101646061061, -0.42349276442198347, 1.1344897129612272, 0.7034472821857406, 1.3733896936309173, 0.4955122022668435, 0.7942938679760224, 0.5801044165172736, -1.2114917689676696, -0.08731498327802431, 0.024336419375575243, 0.5387150756642958, 0.10515110594939558, 0.09056218812372918, 0.5345675784146481, 0.5438333667033168, 0.22498572872276645, 0.4891373717185291, 0.5959126480695628, -0.3602827796276667, 0.0, 0.0, -0.5913119181494761, 0.9170212477150446, 1.0989293747404196, 0.056983665540417505, 2.0339430246176358, 1.7916584753856006, 1.6568270048795781, 1.439132429410887, 0.25617714133792546, 1.8302851894725243, 2.5698477043335233, 1.4452855578759858, 0.5597438051152798, 0.6313624286024409, 1.1441405844429542, -1.052816513084236, -0.8238335933858034, 0.0971718486294374, 0.8157628732938211, 0.42625854612937497, 0.7869291291274688, -0.433131057366224, -0.2598619074038613, 0.04515241419896221, -0.12200314540919302, 0.7355762540536317, -0.10485892705621037, 1.1855644291240812, 1.4543000781078188, 0.523058821874453, 1.1723364704237313, 1.695667737932399, -0.6245203321687449, 1.2317778730084306, 0.005547320477428411, 0.6288406525039835, -0.46257115022993966, -0.37164304025578043, 0.7127653126895996, 0.8170884023126701, 2.6535090230761558, 1.2278283354792312, -0.819836627459837, 0.7397572080530691, 0.5472221083979406, -0.23131476680851495, -1.210069012121942, 0.15203757695006814, 0.7232262822896592, 1.4163620206565681, -0.2855299022607515, 0.5718571108460613, -1.0211456939500638, 0.08699517491408637, -0.7038948200842429, 0.5911189576329129, 0.5172982752556389, -0.3261161764588232, 0.8341426500114509, 0.8992011351855711, 0.49578115442623527, 0.16437496785215583, 0.7992803882973517, 1.732356667336755, 0.7694297713891899, 0.5424347479629328, -0.7640022750657495, 0.6212944759742536, 0.8491705115977586, 0.6129547629870706, 0.7945637266108996, 0.1544157073136267, 0.5310990958857078, 0.1538805133441039, 0.012226889721974749, -0.2703037749059663, -0.0667841051252048, -0.44941696382625207, -0.8761060850229991, -0.7999131945674005, 0.5017730059903142, -0.04228627933060802, 1.0335288927741104, -0.9104761545479579, 0.8770020735067068, 0.604446245506085, 1.681763365493766, 0.8285148755730611, 0.7407102521889894, -0.9150818354773127, -0.7911823262206701, 0.2759472591456767, 1.0936084241409012, 0.6483157972607742, 0.4504844031500317, 0.3816520222522899, 1.0242107429133294, -0.17363431880582558, 0.8016884241842556, 1.1295914972389876, 0.8700556617237243, -0.17165945586884918, 1.0602160534318203, 0.2833766376214577, 0.33301200667920783, 1.357282913733667, 0.8285803698063324, 0.5470504947572777, 1.3020913416723852, -0.1131177862905822, 0.35536365339685916, -0.20935617952499147, 0.1311610265232161, -0.061574370780812196, 0.3582186410538084, 0.6220372052257683, 0.2997248846790236, -0.13810234525006085, 1.0152542244524323, 1.6388719761064474, 0.3480914071509064, 0.23314327051845582, -0.2600969870561511, 0.5799138706219631, 0.9150944949948038, 2.1578777530664572, 0.22807597693568463, -0.4791094800863307, 0.6389204622998861, -0.13988965790891844, -0.5451031764985927, 0.6346761508377923, 0.708528202136848, 1.0404749044852777, 0.7646985876400724, 0.7462682126143293, -0.6864697285448524, 0.2161217396247814, 0.09714000618902449, 0.8228482323856111, 0.1717111826326591, 0.6342522622665706, -1.6682799092416745, -0.7539930598811466, 0.13143562404496523, 1.2831893393345775, 0.5746795319427145, 0.0528651833680904, 0.022586756919674118, 0.03173836441400029, 0.8004928656798914, 0.23308536129958918, 1.0820673118137458, 0.22191788999503823, 0.05255697542906462, 0.15399759156955717, 0.4885737320896524, 0.96262283591414, -0.13423437448158598, -0.39020750198255266, 0.295979385961032, 0.35016027852621917, 0.0005670598240850588, 0.2892170499906966, 0.6956121014793863, 0.8818477084758672, 0.36166178290451323, 0.3789406560937276, 0.37620781290936667, 0.7477351871781193, 0.48401278989580854, 1.1132148373714372, 0.9554021721104498, 0.4162332225315945, 0.023829676773745423, 0.6150228260408326, 0.09751308266444794, 1.5004917112971878, -0.46552518038885443, 1.0826089357205202, 0.826715017427812, -0.13906696702465104, 0.46062951054846696, 1.8522094143149777, 0.2275531013266946, 0.06559151340628154, 1.4415381683461388, 1.553803145809474, 1.0585788168394985, 1.9306032164378908, 2.365355029428296, 1.4708729766066218, 0.21993473316837153, -0.1319618902857237, 0.5040713611356857, 1.0557590516579556, 2.1513428336625786, -0.4440060881062036, 0.8857092977685144, 1.027319653481065, 1.673691747709473, 1.488403361515672, -0.6537973466301026, 1.5378832491755183, 1.0144496247835235, -0.04023617998672368, 0.43553135709045177, 1.7638563922147226, 1.7298394253282747, 1.893072240180581, 1.809168278933348, 0.14127183842226693, 0.9020479521132407, 1.2260108855292182, 0.5500751637643952, 0.8856729479075741, 0.5577283869866333, -0.11556317318412279, 2.0110018241617698, -0.45368997725550597, 0.9268552865033575, -0.8081791230703106, -0.15791477691169514, 1.5960335229279818, 1.9763009536521057, 0.7997547962408487, 0.8819348433583563, 0.2527291501457558, -0.24014969304275638, 5.250395955458929, -0.08947893339524404, 2.608642880679567, 1.555116109870422, 1.347151034517574, 0.4066432933726651, 0.7712125839615731, 1.2806824028777501, 1.3891238570383555, 1.117437995294554, 2.3610103761346215, 2.1744048388368578, 2.8899042061302564, 1.5056404111318105, 1.6140529052257455, 1.8323184233208798, 1.8845893878242819, 3.205960991408322, -0.11407180166934927, 1.203666058194686, 0.5148292391425049, 1.479629268640049, 1.1892379909232245, 3.8750414956801396, -0.8760739412883621, 0.11467821487865823, 2.9602631842489, 0.3258392720681583, 0.7139670243788012, 1.8785046648449188, -0.2032591377008825, 0.13777944042827028, 0.9547620656767927, 2.068688042189966, 0.8573287332094204, -1.0756427038732148, -0.31584724172971906, 3.398557494184552, 0.5397521681744318, 0.1627482205884777, 1.1229325732603401, 1.5893750211783988, 1.371026347714931, -1.073192910142044, 0.5919917522290365, 2.0217583892565774, 1.9864310784018475, 1.8996660155360758, 1.0544989045034798, 1.7598854615084225, 0.7118487491969945, -0.4626374409595336, 0.4547153155947893, 0.6895499130876201, 6.24242675728656, 5.1192912643176784, 3.826649402106814, 3.2432332715941032, 3.057347730879232, 1.566342963030244, 2.4851742255158533, 1.5049391905541887, 1.7978062522593905, 2.5560663666825025, 2.037554555116258, 5.675984416838726, 4.135977986184249, 2.1202582754451242, 5.552513334518341, 3.294982603161508, -0.12358409370354603, 1.3653368777695682, 3.8304686146527556, 1.5537111431819755, 0.30708208181584695, 1.2915847183692688, 0.9667031385858404, 2.898887520337754, 0.456392116769882, 3.552689652327226, 1.2377290013131717, 1.862787188981784, 4.537300605088536, -0.1452666293233484, 2.0232577808520866, 1.1195395954379146, -2.064638427972473, -1.1586466640173598, 0.7628375808191812, -0.15117376555503553, 2.309947467754069, 0.6175762259263436, 1.6463332488754694, -0.9301057096744875, -0.26333624454571086, 2.1405906761070104, 0.30085456135834954, -1.0232786023929856, 1.2534605122952245, 0.7723131117344189, 0.3406411458336449, 0.12144014210368081, -0.06955334790006824, 1.3842453337266498, -1.0288656115283, 2.9926163708330815, 0.2487136993514028, 1.667122721965606, 1.0478612078731808, 0.8620377618886343, 1.8012398790503792, 2.3708910068140723, 2.060336843394242, 1.1899348283583644, 1.5416673461004688, 0.16987387226433173, 1.8566763848316847, 1.7305575766726613, 5.146583587859334, 4.9405972029045095, 1.7075673109648728, 0.7570887177718024, 1.3745153608654697, 0.4257639500224143, 2.255665452929835, 0.7594452520540775, 1.4575770833615957, 1.9877815756275887, -0.3658527968948452, 1.299544783867707, 0.681626714455579, 0.7761085109413718, 1.2226243490045392, 2.1051807723948293, 1.820155119435992, 0.6249311680271783, 3.0228763034860453, 2.0707497829084462, 0.9105301380749109, 0.6782422408698099, 1.465309956120588, 0.1119413465912168, 1.5748119387073536, 1.5565452679363023, 1.128517913425728, 0.6680145438597147, 0.7382755349734222, -1.5523109471884733, 3.5833413980078483, 0.9983443819927469, 0.0419101063635941, 1.3556502088228908, 0.7493256046592119, 3.018274578037012, 0.5285732007292552, 0.3594250729034302, 0.015388518083670755, 1.6805107665476542, 0.5342600571849551, 0.7980951123345568, -0.8158779526428572, -1.6714924060155072, -0.7467462951895584, -2.236045409197483, 3.2488598414019636, 0.42862654005953205, -1.602485966076849, 2.5934220930795857, 0.6179959918022909, -0.695616130538921, 0.901826207097112, 1.8469504876370761, 0.8245751831810219, 2.00418498411001, 0.6426800346625151, 4.948654221135238, 0.2392759999727811, 0.15939856695850635, -0.16720022557524566, 0.6152351197946734, 5.097423869532388, 1.6069948476305649, -0.006214693666259097, 1.429358072825511, 1.3217968556933486, 1.3340643171876563, 0.03941914676300967, 0.13132244373193236, 0.97775630560607, -1.2510125274175776, -0.17022322678889956, 0.11337153617646023, 1.0036075007557088, 2.4755677204897286, 0.2688810650481239, -0.752007987380314, 1.9064670735065978], \"yaxis\": \"y\"}],                        {\"legend\": {\"tracegroupgap\": 0}, \"margin\": {\"t\": 60}, \"template\": {\"data\": {\"bar\": [{\"error_x\": {\"color\": \"#2a3f5f\"}, \"error_y\": {\"color\": \"#2a3f5f\"}, \"marker\": {\"line\": {\"color\": \"#E5ECF6\", \"width\": 0.5}}, \"type\": \"bar\"}], \"barpolar\": [{\"marker\": {\"line\": {\"color\": \"#E5ECF6\", \"width\": 0.5}}, \"type\": \"barpolar\"}], \"carpet\": [{\"aaxis\": {\"endlinecolor\": \"#2a3f5f\", \"gridcolor\": \"white\", \"linecolor\": \"white\", \"minorgridcolor\": \"white\", \"startlinecolor\": \"#2a3f5f\"}, \"baxis\": {\"endlinecolor\": \"#2a3f5f\", \"gridcolor\": \"white\", \"linecolor\": \"white\", \"minorgridcolor\": \"white\", \"startlinecolor\": \"#2a3f5f\"}, \"type\": \"carpet\"}], \"choropleth\": [{\"colorbar\": {\"outlinewidth\": 0, \"ticks\": \"\"}, \"type\": \"choropleth\"}], \"contour\": [{\"colorbar\": {\"outlinewidth\": 0, \"ticks\": \"\"}, \"colorscale\": [[0.0, \"#0d0887\"], [0.1111111111111111, \"#46039f\"], [0.2222222222222222, \"#7201a8\"], [0.3333333333333333, \"#9c179e\"], [0.4444444444444444, \"#bd3786\"], [0.5555555555555556, \"#d8576b\"], [0.6666666666666666, \"#ed7953\"], [0.7777777777777778, \"#fb9f3a\"], [0.8888888888888888, \"#fdca26\"], [1.0, \"#f0f921\"]], \"type\": \"contour\"}], \"contourcarpet\": [{\"colorbar\": {\"outlinewidth\": 0, \"ticks\": \"\"}, \"type\": \"contourcarpet\"}], \"heatmap\": [{\"colorbar\": {\"outlinewidth\": 0, \"ticks\": \"\"}, \"colorscale\": [[0.0, \"#0d0887\"], [0.1111111111111111, \"#46039f\"], [0.2222222222222222, \"#7201a8\"], [0.3333333333333333, \"#9c179e\"], [0.4444444444444444, \"#bd3786\"], [0.5555555555555556, \"#d8576b\"], [0.6666666666666666, \"#ed7953\"], [0.7777777777777778, \"#fb9f3a\"], [0.8888888888888888, \"#fdca26\"], [1.0, \"#f0f921\"]], \"type\": \"heatmap\"}], \"heatmapgl\": [{\"colorbar\": {\"outlinewidth\": 0, \"ticks\": \"\"}, \"colorscale\": [[0.0, \"#0d0887\"], [0.1111111111111111, \"#46039f\"], [0.2222222222222222, \"#7201a8\"], [0.3333333333333333, \"#9c179e\"], [0.4444444444444444, \"#bd3786\"], [0.5555555555555556, \"#d8576b\"], [0.6666666666666666, \"#ed7953\"], [0.7777777777777778, \"#fb9f3a\"], [0.8888888888888888, \"#fdca26\"], [1.0, \"#f0f921\"]], \"type\": \"heatmapgl\"}], \"histogram\": [{\"marker\": {\"colorbar\": {\"outlinewidth\": 0, \"ticks\": \"\"}}, \"type\": \"histogram\"}], \"histogram2d\": [{\"colorbar\": {\"outlinewidth\": 0, \"ticks\": \"\"}, \"colorscale\": [[0.0, \"#0d0887\"], [0.1111111111111111, \"#46039f\"], [0.2222222222222222, \"#7201a8\"], [0.3333333333333333, \"#9c179e\"], [0.4444444444444444, \"#bd3786\"], [0.5555555555555556, \"#d8576b\"], [0.6666666666666666, \"#ed7953\"], [0.7777777777777778, \"#fb9f3a\"], [0.8888888888888888, \"#fdca26\"], [1.0, \"#f0f921\"]], \"type\": \"histogram2d\"}], \"histogram2dcontour\": [{\"colorbar\": {\"outlinewidth\": 0, \"ticks\": \"\"}, \"colorscale\": [[0.0, \"#0d0887\"], [0.1111111111111111, \"#46039f\"], [0.2222222222222222, \"#7201a8\"], [0.3333333333333333, \"#9c179e\"], [0.4444444444444444, \"#bd3786\"], [0.5555555555555556, \"#d8576b\"], [0.6666666666666666, \"#ed7953\"], [0.7777777777777778, \"#fb9f3a\"], [0.8888888888888888, \"#fdca26\"], [1.0, \"#f0f921\"]], \"type\": \"histogram2dcontour\"}], \"mesh3d\": [{\"colorbar\": {\"outlinewidth\": 0, \"ticks\": \"\"}, \"type\": \"mesh3d\"}], \"parcoords\": [{\"line\": {\"colorbar\": {\"outlinewidth\": 0, \"ticks\": \"\"}}, \"type\": \"parcoords\"}], \"pie\": [{\"automargin\": true, \"type\": \"pie\"}], \"scatter\": [{\"marker\": {\"colorbar\": {\"outlinewidth\": 0, \"ticks\": \"\"}}, \"type\": \"scatter\"}], \"scatter3d\": [{\"line\": {\"colorbar\": {\"outlinewidth\": 0, \"ticks\": \"\"}}, \"marker\": {\"colorbar\": {\"outlinewidth\": 0, \"ticks\": \"\"}}, \"type\": \"scatter3d\"}], \"scattercarpet\": [{\"marker\": {\"colorbar\": {\"outlinewidth\": 0, \"ticks\": \"\"}}, \"type\": \"scattercarpet\"}], \"scattergeo\": [{\"marker\": {\"colorbar\": {\"outlinewidth\": 0, \"ticks\": \"\"}}, \"type\": \"scattergeo\"}], \"scattergl\": [{\"marker\": {\"colorbar\": {\"outlinewidth\": 0, \"ticks\": \"\"}}, \"type\": \"scattergl\"}], \"scattermapbox\": [{\"marker\": {\"colorbar\": {\"outlinewidth\": 0, \"ticks\": \"\"}}, \"type\": \"scattermapbox\"}], \"scatterpolar\": [{\"marker\": {\"colorbar\": {\"outlinewidth\": 0, \"ticks\": \"\"}}, \"type\": \"scatterpolar\"}], \"scatterpolargl\": [{\"marker\": {\"colorbar\": {\"outlinewidth\": 0, \"ticks\": \"\"}}, \"type\": \"scatterpolargl\"}], \"scatterternary\": [{\"marker\": {\"colorbar\": {\"outlinewidth\": 0, \"ticks\": \"\"}}, \"type\": \"scatterternary\"}], \"surface\": [{\"colorbar\": {\"outlinewidth\": 0, \"ticks\": \"\"}, \"colorscale\": [[0.0, \"#0d0887\"], [0.1111111111111111, \"#46039f\"], [0.2222222222222222, \"#7201a8\"], [0.3333333333333333, \"#9c179e\"], [0.4444444444444444, \"#bd3786\"], [0.5555555555555556, \"#d8576b\"], [0.6666666666666666, \"#ed7953\"], [0.7777777777777778, \"#fb9f3a\"], [0.8888888888888888, \"#fdca26\"], [1.0, \"#f0f921\"]], \"type\": \"surface\"}], \"table\": [{\"cells\": {\"fill\": {\"color\": \"#EBF0F8\"}, \"line\": {\"color\": \"white\"}}, \"header\": {\"fill\": {\"color\": \"#C8D4E3\"}, \"line\": {\"color\": \"white\"}}, \"type\": \"table\"}]}, \"layout\": {\"annotationdefaults\": {\"arrowcolor\": \"#2a3f5f\", \"arrowhead\": 0, \"arrowwidth\": 1}, \"coloraxis\": {\"colorbar\": {\"outlinewidth\": 0, \"ticks\": \"\"}}, \"colorscale\": {\"diverging\": [[0, \"#8e0152\"], [0.1, \"#c51b7d\"], [0.2, \"#de77ae\"], [0.3, \"#f1b6da\"], [0.4, \"#fde0ef\"], [0.5, \"#f7f7f7\"], [0.6, \"#e6f5d0\"], [0.7, \"#b8e186\"], [0.8, \"#7fbc41\"], [0.9, \"#4d9221\"], [1, \"#276419\"]], \"sequential\": [[0.0, \"#0d0887\"], [0.1111111111111111, \"#46039f\"], [0.2222222222222222, \"#7201a8\"], [0.3333333333333333, \"#9c179e\"], [0.4444444444444444, \"#bd3786\"], [0.5555555555555556, \"#d8576b\"], [0.6666666666666666, \"#ed7953\"], [0.7777777777777778, \"#fb9f3a\"], [0.8888888888888888, \"#fdca26\"], [1.0, \"#f0f921\"]], \"sequentialminus\": [[0.0, \"#0d0887\"], [0.1111111111111111, \"#46039f\"], [0.2222222222222222, \"#7201a8\"], [0.3333333333333333, \"#9c179e\"], [0.4444444444444444, \"#bd3786\"], [0.5555555555555556, \"#d8576b\"], [0.6666666666666666, \"#ed7953\"], [0.7777777777777778, \"#fb9f3a\"], [0.8888888888888888, \"#fdca26\"], [1.0, \"#f0f921\"]]}, \"colorway\": [\"#636efa\", \"#EF553B\", \"#00cc96\", \"#ab63fa\", \"#FFA15A\", \"#19d3f3\", \"#FF6692\", \"#B6E880\", \"#FF97FF\", \"#FECB52\"], \"font\": {\"color\": \"#2a3f5f\"}, \"geo\": {\"bgcolor\": \"white\", \"lakecolor\": \"white\", \"landcolor\": \"#E5ECF6\", \"showlakes\": true, \"showland\": true, \"subunitcolor\": \"white\"}, \"hoverlabel\": {\"align\": \"left\"}, \"hovermode\": \"closest\", \"mapbox\": {\"style\": \"light\"}, \"paper_bgcolor\": \"white\", \"plot_bgcolor\": \"#E5ECF6\", \"polar\": {\"angularaxis\": {\"gridcolor\": \"white\", \"linecolor\": \"white\", \"ticks\": \"\"}, \"bgcolor\": \"#E5ECF6\", \"radialaxis\": {\"gridcolor\": \"white\", \"linecolor\": \"white\", \"ticks\": \"\"}}, \"scene\": {\"xaxis\": {\"backgroundcolor\": \"#E5ECF6\", \"gridcolor\": \"white\", \"gridwidth\": 2, \"linecolor\": \"white\", \"showbackground\": true, \"ticks\": \"\", \"zerolinecolor\": \"white\"}, \"yaxis\": {\"backgroundcolor\": \"#E5ECF6\", \"gridcolor\": \"white\", \"gridwidth\": 2, \"linecolor\": \"white\", \"showbackground\": true, \"ticks\": \"\", \"zerolinecolor\": \"white\"}, \"zaxis\": {\"backgroundcolor\": \"#E5ECF6\", \"gridcolor\": \"white\", \"gridwidth\": 2, \"linecolor\": \"white\", \"showbackground\": true, \"ticks\": \"\", \"zerolinecolor\": \"white\"}}, \"shapedefaults\": {\"line\": {\"color\": \"#2a3f5f\"}}, \"ternary\": {\"aaxis\": {\"gridcolor\": \"white\", \"linecolor\": \"white\", \"ticks\": \"\"}, \"baxis\": {\"gridcolor\": \"white\", \"linecolor\": \"white\", \"ticks\": \"\"}, \"bgcolor\": \"#E5ECF6\", \"caxis\": {\"gridcolor\": \"white\", \"linecolor\": \"white\", \"ticks\": \"\"}}, \"title\": {\"x\": 0.05}, \"xaxis\": {\"automargin\": true, \"gridcolor\": \"white\", \"linecolor\": \"white\", \"ticks\": \"\", \"title\": {\"standoff\": 15}, \"zerolinecolor\": \"white\", \"zerolinewidth\": 2}, \"yaxis\": {\"automargin\": true, \"gridcolor\": \"white\", \"linecolor\": \"white\", \"ticks\": \"\", \"title\": {\"standoff\": 15}, \"zerolinecolor\": \"white\", \"zerolinewidth\": 2}}}, \"xaxis\": {\"anchor\": \"y\", \"domain\": [0.0, 1.0], \"title\": {\"text\": \"x\"}}, \"yaxis\": {\"anchor\": \"x\", \"domain\": [0.0, 1.0], \"title\": {\"text\": \"y\"}}},                        {\"responsive\": true}                    ).then(function(){\n",
       "                            \n",
       "var gd = document.getElementById('a5f4df0c-5257-4547-b22e-66242999979a');\n",
       "var x = new MutationObserver(function (mutations, observer) {{\n",
       "        var display = window.getComputedStyle(gd).display;\n",
       "        if (!display || display === 'none') {{\n",
       "            console.log([gd, 'removed!']);\n",
       "            Plotly.purge(gd);\n",
       "            observer.disconnect();\n",
       "        }}\n",
       "}});\n",
       "\n",
       "// Listen for the removal of the full notebook cells\n",
       "var notebookContainer = gd.closest('#notebook-container');\n",
       "if (notebookContainer) {{\n",
       "    x.observe(notebookContainer, {childList: true});\n",
       "}}\n",
       "\n",
       "// Listen for the clearing of the current output cell\n",
       "var outputEl = gd.closest('.output');\n",
       "if (outputEl) {{\n",
       "    x.observe(outputEl, {childList: true});\n",
       "}}\n",
       "\n",
       "                        })                };                });            </script>        </div>"
      ]
     },
     "metadata": {},
     "output_type": "display_data"
    }
   ],
   "source": [
    "import plotly.express as px\n",
    "fig = px.scatter(x=x.pct_change().tolist(), y=y.tolist())\n",
    "fig.show()\n",
    "\n",
    "fig = px.scatter(x=x.diff().tolist(), y=y.tolist())\n",
    "fig.show()\n",
    "\n"
   ]
  },
  {
   "cell_type": "code",
   "execution_count": null,
   "id": "5e8fe6bf",
   "metadata": {},
   "outputs": [],
   "source": []
  },
  {
   "cell_type": "code",
   "execution_count": null,
   "id": "1f5dc6d1",
   "metadata": {},
   "outputs": [],
   "source": []
  }
 ],
 "metadata": {
  "kernelspec": {
   "display_name": "Python 3",
   "language": "python",
   "name": "python3"
  },
  "language_info": {
   "codemirror_mode": {
    "name": "ipython",
    "version": 3
   },
   "file_extension": ".py",
   "mimetype": "text/x-python",
   "name": "python",
   "nbconvert_exporter": "python",
   "pygments_lexer": "ipython3",
   "version": "3.7.9"
  }
 },
 "nbformat": 4,
 "nbformat_minor": 5
}